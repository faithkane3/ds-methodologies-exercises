{
 "cells": [
  {
   "cell_type": "markdown",
   "metadata": {},
   "source": [
    "# DBSCAN\n",
    "\n",
    "- Density-Based Spatial Clustering of Applications with Noise\n",
    "\n",
    "\n",
    "- Clusters together objects based on the density of the space around them.\n",
    "\n",
    "\n",
    "- Those with many neighbors will be clustered together, while objects sitting in a low density space will not be placed in a cluster.\n",
    "\n",
    "\n",
    "- minimum number of dots withing a maximum distance\n",
    "\n",
    "\n",
    "- anomalies will be the points that don't fall into a cluster\n",
    "\n",
    "\n",
    "- unsupervised learning, we are not using other data to train future data\n",
    "\n",
    "\n",
    "- take two hyperparameters\n",
    "\n",
    "    > epsilon (eps=.75), min_samples (min_samples=15)"
   ]
  },
  {
   "cell_type": "markdown",
   "metadata": {},
   "source": [
    "DISTANCE METRICS (AFFINITY):\n",
    "\n",
    "- Euclidean Distance (euclidean or L2 options): Shortest distance between two points, the shortest route, as if your were flying a plane from one point to the next.\n",
    "\n",
    "\n",
    "- Manhattan Distance (manhattan or L1 options): Requires movements that are parallel to the x or y axis at any given time, as if you were driving in a car in manhattan along the grid-like streets.\n",
    "\n",
    "\n",
    "- Cosine Similarity (cosine option): Puts emphasis on the 'shape' of the variables rather than their values, so it will associate observations that have similar min and max variables, e.g. Cosine Similarity is a good option when you have high dimensionality, i.e. many variables. This is often used in measuring similarity of text.\n"
   ]
  },
  {
   "cell_type": "markdown",
   "metadata": {},
   "source": [
    "# Steps\n",
    "\n",
    "- Select Features\n",
    "\n",
    "\n",
    "- Convert to numpy array, dtype float\n",
    "\n",
    "\n",
    "- Scale with StandardScaler()\n",
    "\n",
    "\n",
    "- Cluster/fit\n",
    "\n",
    "\n",
    "- Extract labels .labels_\n",
    "\n",
    "\n",
    "- Merge back with original df and Explore"
   ]
  },
  {
   "cell_type": "code",
   "execution_count": 3,
   "metadata": {},
   "outputs": [],
   "source": [
    "from __future__ import division\n",
    "import itertools\n",
    "\n",
    "import warnings\n",
    "warnings.filterwarnings(\"ignore\")\n",
    "\n",
    "import matplotlib.pyplot as plt\n",
    "import matplotlib.dates as mdates\n",
    "\n",
    "import numpy as np\n",
    "import pandas as pd\n",
    "import math\n",
    "\n",
    "from sklearn import metrics\n",
    "from random import randint\n",
    "\n",
    "from matplotlib import style\n",
    "import seaborn as sns\n",
    "\n",
    "from sklearn.cluster import DBSCAN\n",
    "from sklearn.preprocessing import StandardScaler, MinMaxScaler\n",
    "\n",
    "%matplotlib inline"
   ]
  },
  {
   "cell_type": "code",
   "execution_count": null,
   "metadata": {},
   "outputs": [],
   "source": []
  }
 ],
 "metadata": {
  "kernelspec": {
   "display_name": "Python 3",
   "language": "python",
   "name": "python3"
  },
  "language_info": {
   "codemirror_mode": {
    "name": "ipython",
    "version": 3
   },
   "file_extension": ".py",
   "mimetype": "text/x-python",
   "name": "python",
   "nbconvert_exporter": "python",
   "pygments_lexer": "ipython3",
   "version": "3.7.3"
  },
  "toc": {
   "base_numbering": 1,
   "nav_menu": {},
   "number_sections": true,
   "sideBar": true,
   "skip_h1_title": false,
   "title_cell": "Table of Contents",
   "title_sidebar": "Contents",
   "toc_cell": false,
   "toc_position": {},
   "toc_section_display": true,
   "toc_window_display": false
  }
 },
 "nbformat": 4,
 "nbformat_minor": 2
}

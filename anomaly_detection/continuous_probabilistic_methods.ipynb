{
 "cells": [
  {
   "cell_type": "code",
   "execution_count": 126,
   "metadata": {},
   "outputs": [],
   "source": [
    "import pandas as pd\n",
    "import numpy as np\n",
    "\n",
    "import matplotlib.pyplot as plt\n",
    "%matplotlib inline\n",
    "import seaborn as sns\n",
    "\n",
    "from datetime import datetime"
   ]
  },
  {
   "cell_type": "code",
   "execution_count": 31,
   "metadata": {},
   "outputs": [],
   "source": [
    "df = pd.read_csv('lemonade.csv', parse_dates=['Date'], index_col='Date')"
   ]
  },
  {
   "cell_type": "markdown",
   "metadata": {},
   "source": [
    "# Exercises"
   ]
  },
  {
   "cell_type": "markdown",
   "metadata": {},
   "source": [
    "- Use the IQR Range Rule and the upper and lower bounds to identify the lower outliers of each column of lemonade.csv, using the multiplier of 1.5. Do these lower outliers make sense?Which outliers should be kept?"
   ]
  },
  {
   "cell_type": "code",
   "execution_count": 32,
   "metadata": {},
   "outputs": [
    {
     "data": {
      "text/plain": [
       "Index(['Day', 'Temperature', 'Rainfall', 'Flyers', 'Price', 'Sales'], dtype='object')"
      ]
     },
     "execution_count": 32,
     "metadata": {},
     "output_type": "execute_result"
    }
   ],
   "source": [
    "df.columns"
   ]
  },
  {
   "cell_type": "code",
   "execution_count": 130,
   "metadata": {},
   "outputs": [],
   "source": [
    "df_nums = df[['Temperature', 'Rainfall', 'Flyers', 'Sales']]"
   ]
  },
  {
   "cell_type": "markdown",
   "metadata": {},
   "source": [
    "## Create Lower and Upper Fences"
   ]
  },
  {
   "cell_type": "code",
   "execution_count": 131,
   "metadata": {},
   "outputs": [],
   "source": [
    "Q1 = df_nums.quantile(.25)"
   ]
  },
  {
   "cell_type": "code",
   "execution_count": 132,
   "metadata": {},
   "outputs": [],
   "source": [
    "Q3 = df_nums.quantile(.75)"
   ]
  },
  {
   "cell_type": "code",
   "execution_count": 62,
   "metadata": {},
   "outputs": [],
   "source": [
    "IQR = Q3 - Q1"
   ]
  },
  {
   "cell_type": "code",
   "execution_count": 79,
   "metadata": {},
   "outputs": [
    {
     "data": {
      "text/plain": [
       "Temperature    16.70\n",
       "Rainfall        0.26\n",
       "Flyers          4.00\n",
       "Sales           5.00\n",
       "dtype: float64"
      ]
     },
     "execution_count": 79,
     "metadata": {},
     "output_type": "execute_result"
    }
   ],
   "source": [
    "lowers = Q1 - IQR * 1.5\n",
    "lowers"
   ]
  },
  {
   "cell_type": "code",
   "execution_count": 107,
   "metadata": {},
   "outputs": [
    {
     "data": {
      "text/plain": [
       "Temperature    104.7\n",
       "Rainfall         1.3\n",
       "Flyers          76.0\n",
       "Sales           45.0\n",
       "dtype: float64"
      ]
     },
     "execution_count": 107,
     "metadata": {},
     "output_type": "execute_result"
    }
   ],
   "source": [
    "uppers = Q3 + IQR * 1.5\n",
    "uppers"
   ]
  },
  {
   "cell_type": "markdown",
   "metadata": {},
   "source": [
    "## Explore Temp "
   ]
  },
  {
   "cell_type": "code",
   "execution_count": 109,
   "metadata": {},
   "outputs": [
    {
     "data": {
      "text/plain": [
       "(               Day  Temperature  Rainfall  Flyers  Price  Sales\n",
       " Date                                                           \n",
       " 2017-12-31  Sunday         15.1       2.5       9    0.5      7,\n",
       "                  Day  Temperature  Rainfall  Flyers  Price  Sales\n",
       " Date                                                             \n",
       " 2017-02-11  Saturday        212.0      0.91      35    0.5     21)"
      ]
     },
     "execution_count": 109,
     "metadata": {},
     "output_type": "execute_result"
    }
   ],
   "source": [
    "df[df['Temperature'] <= lowers[0]], df[df['Temperature'] >= uppers[0]]"
   ]
  },
  {
   "cell_type": "code",
   "execution_count": 115,
   "metadata": {
    "scrolled": true
   },
   "outputs": [
    {
     "data": {
      "text/plain": [
       "212.0    1\n",
       "102.9    1\n",
       "102.6    1\n",
       "99.6     1\n",
       "99.3     2\n",
       "98.0     1\n",
       "97.9     1\n",
       "94.3     1\n",
       "93.4     1\n",
       "93.0     2\n",
       "92.0     1\n",
       "91.7     1\n",
       "90.7     1\n",
       "90.4     1\n",
       "89.4     1\n",
       "89.1     1\n",
       "87.4     1\n",
       "86.8     1\n",
       "86.5     3\n",
       "85.5     1\n",
       "85.1     2\n",
       "84.8     2\n",
       "84.2     2\n",
       "83.8     1\n",
       "83.5     2\n",
       "83.2     1\n",
       "82.5     2\n",
       "81.5     2\n",
       "80.9     1\n",
       "80.5     2\n",
       "        ..\n",
       "40.5     2\n",
       "40.4     2\n",
       "39.5     1\n",
       "38.2     1\n",
       "38.1     2\n",
       "37.8     1\n",
       "37.5     2\n",
       "36.8     1\n",
       "36.2     1\n",
       "35.8     2\n",
       "35.5     2\n",
       "35.2     1\n",
       "34.9     2\n",
       "34.5     1\n",
       "33.5     2\n",
       "32.9     1\n",
       "32.6     1\n",
       "32.2     4\n",
       "31.9     1\n",
       "31.6     1\n",
       "31.3     1\n",
       "31.2     1\n",
       "30.9     3\n",
       "30.6     1\n",
       "28.9     2\n",
       "28.6     1\n",
       "27.0     1\n",
       "25.3     1\n",
       "22.0     1\n",
       "15.1     1\n",
       "Name: Temperature, Length: 176, dtype: int64"
      ]
     },
     "execution_count": 115,
     "metadata": {},
     "output_type": "execute_result"
    }
   ],
   "source": [
    "df.Temperature.value_counts().sort_index(ascending=False)"
   ]
  },
  {
   "cell_type": "code",
   "execution_count": 133,
   "metadata": {},
   "outputs": [
    {
     "data": {
      "text/html": [
       "<div>\n",
       "<style scoped>\n",
       "    .dataframe tbody tr th:only-of-type {\n",
       "        vertical-align: middle;\n",
       "    }\n",
       "\n",
       "    .dataframe tbody tr th {\n",
       "        vertical-align: top;\n",
       "    }\n",
       "\n",
       "    .dataframe thead th {\n",
       "        text-align: right;\n",
       "    }\n",
       "</style>\n",
       "<table border=\"1\" class=\"dataframe\">\n",
       "  <thead>\n",
       "    <tr style=\"text-align: right;\">\n",
       "      <th></th>\n",
       "      <th>Day</th>\n",
       "      <th>Temperature</th>\n",
       "      <th>Rainfall</th>\n",
       "      <th>Flyers</th>\n",
       "      <th>Price</th>\n",
       "      <th>Sales</th>\n",
       "    </tr>\n",
       "    <tr>\n",
       "      <th>Date</th>\n",
       "      <th></th>\n",
       "      <th></th>\n",
       "      <th></th>\n",
       "      <th></th>\n",
       "      <th></th>\n",
       "      <th></th>\n",
       "    </tr>\n",
       "  </thead>\n",
       "  <tbody>\n",
       "    <tr>\n",
       "      <th>2017-02-09</th>\n",
       "      <td>Thursday</td>\n",
       "      <td>42.7</td>\n",
       "      <td>1.00</td>\n",
       "      <td>39</td>\n",
       "      <td>0.5</td>\n",
       "      <td>19</td>\n",
       "    </tr>\n",
       "    <tr>\n",
       "      <th>2017-02-10</th>\n",
       "      <td>Friday</td>\n",
       "      <td>50.0</td>\n",
       "      <td>0.91</td>\n",
       "      <td>40</td>\n",
       "      <td>0.5</td>\n",
       "      <td>20</td>\n",
       "    </tr>\n",
       "    <tr>\n",
       "      <th>2017-02-11</th>\n",
       "      <td>Saturday</td>\n",
       "      <td>212.0</td>\n",
       "      <td>0.91</td>\n",
       "      <td>35</td>\n",
       "      <td>0.5</td>\n",
       "      <td>21</td>\n",
       "    </tr>\n",
       "    <tr>\n",
       "      <th>2017-02-12</th>\n",
       "      <td>Sunday</td>\n",
       "      <td>55.6</td>\n",
       "      <td>0.83</td>\n",
       "      <td>41</td>\n",
       "      <td>0.5</td>\n",
       "      <td>22</td>\n",
       "    </tr>\n",
       "    <tr>\n",
       "      <th>2017-02-13</th>\n",
       "      <td>Monday</td>\n",
       "      <td>46.4</td>\n",
       "      <td>1.11</td>\n",
       "      <td>34</td>\n",
       "      <td>0.5</td>\n",
       "      <td>18</td>\n",
       "    </tr>\n",
       "    <tr>\n",
       "      <th>2017-02-14</th>\n",
       "      <td>Tuesday</td>\n",
       "      <td>47.7</td>\n",
       "      <td>0.95</td>\n",
       "      <td>35</td>\n",
       "      <td>0.5</td>\n",
       "      <td>19</td>\n",
       "    </tr>\n",
       "  </tbody>\n",
       "</table>\n",
       "</div>"
      ],
      "text/plain": [
       "                 Day  Temperature  Rainfall  Flyers  Price  Sales\n",
       "Date                                                             \n",
       "2017-02-09  Thursday         42.7      1.00      39    0.5     19\n",
       "2017-02-10    Friday         50.0      0.91      40    0.5     20\n",
       "2017-02-11  Saturday        212.0      0.91      35    0.5     21\n",
       "2017-02-12    Sunday         55.6      0.83      41    0.5     22\n",
       "2017-02-13    Monday         46.4      1.11      34    0.5     18\n",
       "2017-02-14   Tuesday         47.7      0.95      35    0.5     19"
      ]
     },
     "execution_count": 133,
     "metadata": {},
     "output_type": "execute_result"
    }
   ],
   "source": [
    "df['2017-02-09':'2017-02-14']"
   ]
  },
  {
   "cell_type": "markdown",
   "metadata": {},
   "source": [
    "## Temp Takeaways:\n",
    "\n",
    "- I would throw out the day with the 212 Temp in February. A good guess could be that it's a type, and the temp was 21 or 12. I could further investigate the days before and after to decide on a temp to impute and save the row.\n",
    "\n",
    "- After further investigation, the days before and after are in the 40s and 50s, so I can either drop that row or impute the mean of the days before and after which would be 52.8."
   ]
  },
  {
   "cell_type": "markdown",
   "metadata": {},
   "source": [
    "## Explore Rainfall"
   ]
  },
  {
   "cell_type": "code",
   "execution_count": 120,
   "metadata": {},
   "outputs": [
    {
     "data": {
      "text/plain": [
       "(Empty DataFrame\n",
       " Columns: [Day, Temperature, Rainfall, Flyers, Price, Sales]\n",
       " Index: [],                   Day  Temperature  Rainfall  Flyers  Price  Sales\n",
       " Date                                                              \n",
       " 2017-01-01     Sunday         27.0      2.00      15    0.5     10\n",
       " 2017-01-02     Monday         28.9      1.33      15    0.5     13\n",
       " 2017-01-03    Tuesday         34.5      1.33      27    0.5     15\n",
       " 2017-01-06     Friday         25.3      1.54      23    0.5     11\n",
       " 2017-01-07   Saturday         32.9      1.54      19    0.5     13\n",
       " 2017-01-11  Wednesday         32.6      1.54      23    0.5     12\n",
       " 2017-01-12   Thursday         38.2      1.33      16    0.5     14\n",
       " 2017-01-13     Friday         37.5      1.33      19    0.5     15\n",
       " 2017-01-16     Monday         30.6      1.67      24    0.5     12\n",
       " 2017-01-17    Tuesday         32.2      1.43      26    0.5     14\n",
       " 2017-01-20     Friday         31.6      1.43      20    0.5     12\n",
       " 2017-01-24    Tuesday         28.6      1.54      20    0.5     12\n",
       " 2017-01-28   Saturday         34.9      1.33      15    0.5     13\n",
       " 2017-01-29     Sunday         35.2      1.33      27    0.5     14\n",
       " 2017-12-04     Monday         34.9      1.54      16    0.5     13\n",
       " 2017-12-05    Tuesday         22.0      1.82      11    0.5     10\n",
       " 2017-12-09   Saturday         31.2      1.43      19    0.5     14\n",
       " 2017-12-10     Sunday         31.3      1.82      15    0.5     11\n",
       " 2017-12-12    Tuesday         33.5      1.33      22    0.5     15\n",
       " 2017-12-13  Wednesday         32.2      1.43      26    0.5     14\n",
       " 2017-12-14   Thursday         31.9      1.54      24    0.5     13\n",
       " 2017-12-17     Sunday         32.2      1.33      16    0.5     14\n",
       " 2017-12-18     Monday         30.9      1.43      27    0.5     13\n",
       " 2017-12-21   Thursday         40.5      1.33      23    0.5     15\n",
       " 2017-12-22     Friday         30.9      1.54      17    0.5     13\n",
       " 2017-12-26    Tuesday         28.9      1.43      23    0.5     13\n",
       " 2017-12-30   Saturday         30.9      1.43      22    0.5     13\n",
       " 2017-12-31     Sunday         15.1      2.50       9    0.5      7)"
      ]
     },
     "execution_count": 120,
     "metadata": {},
     "output_type": "execute_result"
    }
   ],
   "source": [
    "df[df['Rainfall'] <= lowers[1]], df[df['Rainfall'] >= uppers[1]]"
   ]
  },
  {
   "cell_type": "code",
   "execution_count": 119,
   "metadata": {
    "scrolled": true
   },
   "outputs": [
    {
     "data": {
      "text/plain": [
       "2.50     1\n",
       "2.00     1\n",
       "1.82     2\n",
       "1.67     1\n",
       "1.54     7\n",
       "1.43     7\n",
       "1.33     9\n",
       "1.25    10\n",
       "1.18     5\n",
       "1.11     7\n",
       "1.05    15\n",
       "1.00    14\n",
       "0.95    11\n",
       "0.91    10\n",
       "0.87    18\n",
       "0.83    17\n",
       "0.80    20\n",
       "0.77    26\n",
       "0.74    26\n",
       "0.71    19\n",
       "0.69    22\n",
       "0.67    19\n",
       "0.65    17\n",
       "0.63    18\n",
       "0.61     8\n",
       "0.59    12\n",
       "0.57    10\n",
       "0.56     7\n",
       "0.54     6\n",
       "0.53     2\n",
       "0.51     6\n",
       "0.50     3\n",
       "0.49     1\n",
       "0.47     7\n",
       "0.40     1\n",
       "Name: Rainfall, dtype: int64"
      ]
     },
     "execution_count": 119,
     "metadata": {},
     "output_type": "execute_result"
    }
   ],
   "source": [
    "df.Rainfall.value_counts().sort_index(ascending=False)"
   ]
  },
  {
   "cell_type": "markdown",
   "metadata": {},
   "source": [
    "## Rainfall Takeaways:\n",
    "\n",
    "- It looks like it was a rainy December and January. I don't think any of those values need to be thrown out or seem to be errors.\n",
    "\n",
    "- The outliers are all above the upper bound, and again, it looks like there was just a raainy couple of months. "
   ]
  },
  {
   "cell_type": "markdown",
   "metadata": {},
   "source": [
    "## Explore Flyers"
   ]
  },
  {
   "cell_type": "code",
   "execution_count": 121,
   "metadata": {},
   "outputs": [
    {
     "data": {
      "text/plain": [
       "(                Day  Temperature  Rainfall  Flyers  Price  Sales\n",
       " Date                                                            \n",
       " 2017-11-21  Tuesday         47.0      0.95     -38    0.5     20,\n",
       "                   Day  Temperature  Rainfall  Flyers  Price  Sales\n",
       " Date                                                              \n",
       " 2017-06-16     Friday         99.3      0.47      77    0.5     41\n",
       " 2017-06-21  Wednesday         94.3      0.47      76    0.5     41\n",
       " 2017-07-14     Friday         92.0      0.50      80    0.5     40\n",
       " 2017-07-18    Tuesday         99.3      0.47      76    0.5     41)"
      ]
     },
     "execution_count": 121,
     "metadata": {},
     "output_type": "execute_result"
    }
   ],
   "source": [
    "df[df['Flyers'] <= lowers[2]], df[df['Flyers'] >= uppers[2]]"
   ]
  },
  {
   "cell_type": "code",
   "execution_count": 122,
   "metadata": {
    "scrolled": true
   },
   "outputs": [
    {
     "data": {
      "text/plain": [
       " 80     1\n",
       " 77     1\n",
       " 76     2\n",
       " 74     1\n",
       " 72     1\n",
       " 70     1\n",
       " 69     1\n",
       " 68     2\n",
       " 67     1\n",
       " 66     3\n",
       " 65     2\n",
       " 64     5\n",
       " 63     1\n",
       " 62     1\n",
       " 60     3\n",
       " 59     4\n",
       " 58     8\n",
       " 57     1\n",
       " 56     9\n",
       " 55     6\n",
       " 54     3\n",
       " 53     6\n",
       " 52     5\n",
       " 51     6\n",
       " 50    13\n",
       " 49     9\n",
       " 48    13\n",
       " 47    13\n",
       " 46     9\n",
       " 45     7\n",
       "       ..\n",
       " 41     8\n",
       " 40     7\n",
       " 39    11\n",
       " 38     9\n",
       " 37    10\n",
       " 36     8\n",
       " 35     9\n",
       " 34    13\n",
       " 33    18\n",
       " 32    12\n",
       " 31    10\n",
       " 30    10\n",
       " 29     5\n",
       " 28    18\n",
       " 27     4\n",
       " 26     5\n",
       " 25     3\n",
       " 24     3\n",
       " 23     6\n",
       " 22     4\n",
       " 21     2\n",
       " 20     6\n",
       " 19     6\n",
       " 18     1\n",
       " 17     2\n",
       " 16     4\n",
       " 15     4\n",
       " 11     1\n",
       " 9      1\n",
       "-38     1\n",
       "Name: Flyers, Length: 63, dtype: int64"
      ]
     },
     "execution_count": 122,
     "metadata": {},
     "output_type": "execute_result"
    }
   ],
   "source": [
    "df.Flyers.value_counts().sort_index(ascending=False)"
   ]
  },
  {
   "cell_type": "markdown",
   "metadata": {},
   "source": [
    "## Takeaways Flyers\n",
    "\n",
    "- The only outlier that seems like an error is the November 21 entry that claims there were -38 flyers distributed. I would remove this outlier. It could have been a typo, and the total could have been 38.\n",
    "- The outliers above the upper fence don't seem unrealistic.\n",
    "- It would be interesting to explore the correlation between flyers and sales without that -38 outlier."
   ]
  },
  {
   "cell_type": "markdown",
   "metadata": {},
   "source": [
    "## Explore Sales"
   ]
  },
  {
   "cell_type": "code",
   "execution_count": 123,
   "metadata": {},
   "outputs": [
    {
     "data": {
      "text/plain": [
       "(Empty DataFrame\n",
       " Columns: [Day, Temperature, Rainfall, Flyers, Price, Sales]\n",
       " Index: [],                   Day  Temperature  Rainfall  Flyers  Price  Sales\n",
       " Date                                                              \n",
       " 2017-07-03     Monday         81.5      0.54      68    0.5    235\n",
       " 2017-07-04    Tuesday         84.2      0.59      49    0.5    534\n",
       " 2017-07-05  Wednesday         93.0      0.40      55    0.5     99\n",
       " 2017-09-16   Saturday         68.1      0.69      37    0.5     87)"
      ]
     },
     "execution_count": 123,
     "metadata": {},
     "output_type": "execute_result"
    }
   ],
   "source": [
    "df[df['Sales'] <= lowers[3]], df[df['Sales'] >= uppers[3]]"
   ]
  },
  {
   "cell_type": "code",
   "execution_count": 124,
   "metadata": {
    "scrolled": true
   },
   "outputs": [
    {
     "data": {
      "text/plain": [
       "534     1\n",
       "235     1\n",
       "99      1\n",
       "87      1\n",
       "43      2\n",
       "42      2\n",
       "41      3\n",
       "40      3\n",
       "39      2\n",
       "38      4\n",
       "37      3\n",
       "36      4\n",
       "35     12\n",
       "34      5\n",
       "33      8\n",
       "32     13\n",
       "31     16\n",
       "30     18\n",
       "29     23\n",
       "28     14\n",
       "27     18\n",
       "26     22\n",
       "25     35\n",
       "24     24\n",
       "23     18\n",
       "22     10\n",
       "21     10\n",
       "20     11\n",
       "19     16\n",
       "18     12\n",
       "17     11\n",
       "16      6\n",
       "15     10\n",
       "14      8\n",
       "13      9\n",
       "12      4\n",
       "11      2\n",
       "10      2\n",
       "7       1\n",
       "Name: Sales, dtype: int64"
      ]
     },
     "execution_count": 124,
     "metadata": {},
     "output_type": "execute_result"
    }
   ],
   "source": [
    "df.Sales.value_counts().sort_index(ascending=False)"
   ]
  },
  {
   "cell_type": "markdown",
   "metadata": {},
   "source": [
    "## Takeaways from Sales\n",
    "\n",
    "- There were two very high sales days on July 3 and 4, but those seem realistic considering the holiday those sales fall around.\n",
    "\n",
    "- None of these sales outliers seem unrealistic even if there are some that are much higher than the others."
   ]
  },
  {
   "cell_type": "markdown",
   "metadata": {},
   "source": [
    "## Plot Variable Comparison"
   ]
  },
  {
   "cell_type": "code",
   "execution_count": 106,
   "metadata": {},
   "outputs": [
    {
     "data": {
      "image/png": "[encoded data removed]",
      "text/plain": [
       "<Figure size 1008x720 with 4 Axes>"
      ]
     },
     "metadata": {
      "needs_background": "light"
     },
     "output_type": "display_data"
    }
   ],
   "source": [
    "fig, (ax1, ax2, ax3, ax4) = plt.subplots(4, figsize=(14,10))\n",
    "fig.suptitle('Lemonade Stand Plots')\n",
    "ax1.plot(df.Temperature, 'r')\n",
    "ax2.plot(df.Rainfall)\n",
    "ax3.plot(df.Sales, 'g')\n",
    "ax4.plot(df.Flyers, 'y')\n",
    "\n",
    "plt.show()"
   ]
  },
  {
   "cell_type": "markdown",
   "metadata": {},
   "source": [
    "## Individual Plots"
   ]
  },
  {
   "cell_type": "code",
   "execution_count": 82,
   "metadata": {},
   "outputs": [
    {
     "data": {
      "text/plain": [
       "<matplotlib.axes._subplots.AxesSubplot at 0x1157cebe0>"
      ]
     },
     "execution_count": 82,
     "metadata": {},
     "output_type": "execute_result"
    },
    {
     "data": {
      "image/png": "[encoded data removed]",
      "text/plain": [
       "<Figure size 432x288 with 1 Axes>"
      ]
     },
     "metadata": {
      "needs_background": "light"
     },
     "output_type": "display_data"
    }
   ],
   "source": [
    "df.Rainfall.plot()"
   ]
  },
  {
   "cell_type": "code",
   "execution_count": 83,
   "metadata": {},
   "outputs": [
    {
     "data": {
      "text/plain": [
       "<matplotlib.axes._subplots.AxesSubplot at 0x1158ff780>"
      ]
     },
     "execution_count": 83,
     "metadata": {},
     "output_type": "execute_result"
    },
    {
     "data": {
      "image/png": "[encoded data removed]",
      "text/plain": [
       "<Figure size 432x288 with 1 Axes>"
      ]
     },
     "metadata": {
      "needs_background": "light"
     },
     "output_type": "display_data"
    }
   ],
   "source": [
    "df.Flyers.plot()"
   ]
  },
  {
   "cell_type": "code",
   "execution_count": 84,
   "metadata": {},
   "outputs": [
    {
     "data": {
      "text/plain": [
       "<matplotlib.axes._subplots.AxesSubplot at 0x114fae3c8>"
      ]
     },
     "execution_count": 84,
     "metadata": {},
     "output_type": "execute_result"
    },
    {
     "data": {
      "image/png": "[encoded data removed]",
      "text/plain": [
       "<Figure size 432x288 with 1 Axes>"
      ]
     },
     "metadata": {
      "needs_background": "light"
     },
     "output_type": "display_data"
    }
   ],
   "source": [
    "df.Sales.plot()"
   ]
  },
  {
   "cell_type": "markdown",
   "metadata": {},
   "source": [
    "## Heatmap"
   ]
  },
  {
   "cell_type": "code",
   "execution_count": 183,
   "metadata": {},
   "outputs": [
    {
     "data": {
      "image/png": "[encoded data removed]",
      "text/plain": [
       "<Figure size 864x576 with 2 Axes>"
      ]
     },
     "metadata": {
      "needs_background": "light"
     },
     "output_type": "display_data"
    }
   ],
   "source": [
    "plt.figure(figsize=(12, 8))\n",
    "sns.heatmap(df_nums.corr(), annot=True, center=0, cmap='PiYG')\n",
    "\n",
    "plt.title('Lemonade Stand')\n",
    "plt.show()"
   ]
  },
  {
   "cell_type": "code",
   "execution_count": 118,
   "metadata": {
    "scrolled": true
   },
   "outputs": [],
   "source": [
    "# fig, axs = plt.subplots(2, 2, figsize=(12,6),\n",
    "#                          gridspec_kw={'hspace': 0, 'wspace': 0})\n",
    "# (ax1, ax2), (ax3, ax4) = axs\n",
    "# fig.suptitle('Sharing x per column, y per row')\n",
    "# ax1.plot(df.Temperature)\n",
    "# ax2.plot(df.Rainfall, 'g')\n",
    "# ax3.plot(df.Sales, 'r')\n",
    "# ax4.plot(df.Flyers, 'y')\n",
    "\n",
    "# for ax in axs.flat:\n",
    "#     ax.label_outer()"
   ]
  },
  {
   "cell_type": "markdown",
   "metadata": {},
   "source": [
    "# Normal Distribution Check"
   ]
  },
  {
   "cell_type": "code",
   "execution_count": 153,
   "metadata": {},
   "outputs": [
    {
     "data": {
      "image/png": "[encoded data removed]",
      "text/plain": [
       "<Figure size 432x288 with 1 Axes>"
      ]
     },
     "metadata": {
      "needs_background": "light"
     },
     "output_type": "display_data"
    }
   ],
   "source": [
    "df.Temperature.plot.hist(bins=25)\n",
    "\n",
    "plt.xlabel('Degrees F')\n",
    "plt.title('Temperature')\n",
    "\n",
    "plt.show()"
   ]
  },
  {
   "cell_type": "code",
   "execution_count": 149,
   "metadata": {},
   "outputs": [
    {
     "data": {
      "image/png": "[encoded data removed]",
      "text/plain": [
       "<Figure size 432x288 with 1 Axes>"
      ]
     },
     "metadata": {
      "needs_background": "light"
     },
     "output_type": "display_data"
    }
   ],
   "source": [
    "df.Rainfall.plot.hist(bins=25)\n",
    "\n",
    "plt.xlabel('Inches')\n",
    "plt.title('Rainfall')\n",
    "plt.show()"
   ]
  },
  {
   "cell_type": "code",
   "execution_count": 148,
   "metadata": {},
   "outputs": [
    {
     "data": {
      "image/png": "[encoded data removed]",
      "text/plain": [
       "<Figure size 432x288 with 1 Axes>"
      ]
     },
     "metadata": {
      "needs_background": "light"
     },
     "output_type": "display_data"
    }
   ],
   "source": [
    "df.Flyers.plot.hist(bins=25)\n",
    "\n",
    "plt.xlabel('Count')\n",
    "plt.title('Flyers')\n",
    "plt.show()"
   ]
  },
  {
   "cell_type": "code",
   "execution_count": 147,
   "metadata": {},
   "outputs": [
    {
     "data": {
      "image/png": "[encoded data removed]",
      "text/plain": [
       "<Figure size 432x288 with 1 Axes>"
      ]
     },
     "metadata": {
      "needs_background": "light"
     },
     "output_type": "display_data"
    }
   ],
   "source": [
    "df.Sales.plot.hist(bins=70)\n",
    "\n",
    "plt.xlabel('US Dollars')\n",
    "plt.title('Sales')\n",
    "plt.show()"
   ]
  },
  {
   "cell_type": "markdown",
   "metadata": {},
   "source": [
    "## Takeaways: Distribution\n",
    "\n",
    "- Sales is right skewed because of those great sales days in early July, July 4th holiday window.\n",
    "\n",
    "- Rainfall is right skewed because of the rainy months of December and January."
   ]
  },
  {
   "cell_type": "markdown",
   "metadata": {},
   "source": [
    "# Identify Outliers Using Z-scores"
   ]
  },
  {
   "cell_type": "markdown",
   "metadata": {},
   "source": [
    "## Temperature"
   ]
  },
  {
   "cell_type": "code",
   "execution_count": 158,
   "metadata": {},
   "outputs": [
    {
     "data": {
      "text/plain": [
       "Date\n",
       "2017-02-11    212.0\n",
       "2017-06-16     99.3\n",
       "2017-06-26    102.6\n",
       "2017-07-01    102.9\n",
       "2017-07-10     98.0\n",
       "2017-07-18     99.3\n",
       "2017-07-22     99.6\n",
       "2017-07-27     97.9\n",
       "2017-12-05     22.0\n",
       "2017-12-31     15.1\n",
       "Name: Temperature, dtype: float64"
      ]
     },
     "execution_count": 158,
     "metadata": {},
     "output_type": "execute_result"
    }
   ],
   "source": [
    "# Calculate the z-score \n",
    "zscores = pd.Series((df.Temperature - df.Temperature.mean()) / df.Temperature.std())\n",
    "\n",
    "# Finds all of the observations within two standard deviations\n",
    "df.Temperature[zscores.abs() > 2]"
   ]
  },
  {
   "cell_type": "code",
   "execution_count": 157,
   "metadata": {},
   "outputs": [
    {
     "data": {
      "text/plain": [
       "Date\n",
       "2017-02-11    212.0\n",
       "Name: Temperature, dtype: float64"
      ]
     },
     "execution_count": 157,
     "metadata": {},
     "output_type": "execute_result"
    }
   ],
   "source": [
    "# Finds all of the observations within three standard deviations\n",
    "df.Temperature[zscores.abs() > 3]"
   ]
  },
  {
   "cell_type": "markdown",
   "metadata": {},
   "source": [
    "## Rainfall"
   ]
  },
  {
   "cell_type": "code",
   "execution_count": 159,
   "metadata": {},
   "outputs": [
    {
     "data": {
      "text/plain": [
       "Date\n",
       "2017-01-01    2.00\n",
       "2017-01-06    1.54\n",
       "2017-01-07    1.54\n",
       "2017-01-11    1.54\n",
       "2017-01-16    1.67\n",
       "2017-01-17    1.43\n",
       "2017-01-20    1.43\n",
       "2017-01-24    1.54\n",
       "2017-12-04    1.54\n",
       "2017-12-05    1.82\n",
       "2017-12-09    1.43\n",
       "2017-12-10    1.82\n",
       "2017-12-13    1.43\n",
       "2017-12-14    1.54\n",
       "2017-12-18    1.43\n",
       "2017-12-22    1.54\n",
       "2017-12-26    1.43\n",
       "2017-12-30    1.43\n",
       "2017-12-31    2.50\n",
       "Name: Rainfall, dtype: float64"
      ]
     },
     "execution_count": 159,
     "metadata": {},
     "output_type": "execute_result"
    }
   ],
   "source": [
    "# Calculate the z-score \n",
    "zscores = pd.Series((df.Rainfall - df.Rainfall.mean()) / df.Rainfall.std())\n",
    "\n",
    "# Finds all of the observations within two standard deviations\n",
    "df.Rainfall[zscores.abs() > 2]"
   ]
  },
  {
   "cell_type": "code",
   "execution_count": 160,
   "metadata": {},
   "outputs": [
    {
     "data": {
      "text/plain": [
       "Date\n",
       "2017-01-01    2.00\n",
       "2017-01-16    1.67\n",
       "2017-12-05    1.82\n",
       "2017-12-10    1.82\n",
       "2017-12-31    2.50\n",
       "Name: Rainfall, dtype: float64"
      ]
     },
     "execution_count": 160,
     "metadata": {},
     "output_type": "execute_result"
    }
   ],
   "source": [
    "# Finds all of the observations within three standard deviations\n",
    "df.Rainfall[zscores.abs() > 3]"
   ]
  },
  {
   "cell_type": "markdown",
   "metadata": {},
   "source": [
    "## Flyers"
   ]
  },
  {
   "cell_type": "code",
   "execution_count": 163,
   "metadata": {},
   "outputs": [
    {
     "data": {
      "text/plain": [
       "Date\n",
       "2017-06-16    77\n",
       "2017-06-20    70\n",
       "2017-06-21    76\n",
       "2017-07-02    68\n",
       "2017-07-03    68\n",
       "2017-07-14    80\n",
       "2017-07-18    76\n",
       "2017-07-23    72\n",
       "2017-07-24    69\n",
       "2017-07-27    74\n",
       "2017-11-21   -38\n",
       "2017-12-05    11\n",
       "2017-12-31     9\n",
       "Name: Flyers, dtype: int64"
      ]
     },
     "execution_count": 163,
     "metadata": {},
     "output_type": "execute_result"
    }
   ],
   "source": [
    "# Calculate the z-score \n",
    "zscores = pd.Series((df.Flyers - df.Flyers.mean()) / df.Flyers.std())\n",
    "\n",
    "# Finds all of the observations within two standard deviations\n",
    "df.Flyers[zscores.abs() > 2]"
   ]
  },
  {
   "cell_type": "code",
   "execution_count": 165,
   "metadata": {},
   "outputs": [
    {
     "data": {
      "text/plain": [
       "Date\n",
       "2017-11-21   -38\n",
       "Name: Flyers, dtype: int64"
      ]
     },
     "execution_count": 165,
     "metadata": {},
     "output_type": "execute_result"
    }
   ],
   "source": [
    "# Finds all of the observations within three standard deviations\n",
    "df.Flyers[zscores.abs() > 3]"
   ]
  },
  {
   "cell_type": "markdown",
   "metadata": {},
   "source": [
    "### Drop Flyer Wild Outlier\n",
    "\n",
    "- Drop the -38 flyer value to normalize the Flyer col"
   ]
  },
  {
   "cell_type": "code",
   "execution_count": 177,
   "metadata": {},
   "outputs": [],
   "source": [
    "df['Flyers'] = df.Flyers.where(df.Flyers >0, np.nan)\n",
    "\n",
    "df = df.assign(\n",
    "    Flyers=df.Flyers.fillna(df.Flyers.rolling(7,min_periods=1,).median()))"
   ]
  },
  {
   "cell_type": "code",
   "execution_count": 184,
   "metadata": {},
   "outputs": [],
   "source": [
    "df_nums['Flyers'] = df_nums.Flyers.where(df_nums.Flyers >0, np.nan)\n",
    "\n",
    "df_nums = df_nums.assign(\n",
    "    Flyers=df_nums.Flyers.fillna(df_nums.Flyers.rolling(7,min_periods=1,).median()))"
   ]
  },
  {
   "cell_type": "code",
   "execution_count": 197,
   "metadata": {},
   "outputs": [
    {
     "data": {
      "image/png": "[encoded data removed]",
      "text/plain": [
       "<Figure size 432x288 with 1 Axes>"
      ]
     },
     "metadata": {
      "needs_background": "light"
     },
     "output_type": "display_data"
    }
   ],
   "source": [
    "df.Flyers.plot.hist()\n",
    "df_nums.Flyers.plot.hist()\n",
    "\n",
    "plt.title('Flyers')\n",
    "plt.show()"
   ]
  },
  {
   "cell_type": "markdown",
   "metadata": {},
   "source": [
    "### Drop Temperature Wild Outlier\n",
    "\n",
    "- Drop the 212 temp to normalize the Temperature col"
   ]
  },
  {
   "cell_type": "code",
   "execution_count": 208,
   "metadata": {},
   "outputs": [],
   "source": [
    "df['Temperature'] = df.Temperature.where(df.Temperature <150, np.nan)\n",
    "\n",
    "df = df.assign(\n",
    "    Temperature=df.Temperature.fillna(df.Temperature.rolling(7,min_periods=1,).median()))"
   ]
  },
  {
   "cell_type": "code",
   "execution_count": 209,
   "metadata": {},
   "outputs": [],
   "source": [
    "df_nums['Temperature'] = df_nums.Temperature.where(df_nums.Temperature <150, np.nan)\n",
    "\n",
    "df_nums = df_nums.assign(\n",
    "    Temperature=df_nums.Temperature.fillna(df_nums.Temperature.rolling(7,min_periods=1,).median()))"
   ]
  },
  {
   "cell_type": "code",
   "execution_count": 210,
   "metadata": {},
   "outputs": [
    {
     "data": {
      "image/png": "[encoded data removed]",
      "text/plain": [
       "<Figure size 432x288 with 1 Axes>"
      ]
     },
     "metadata": {
      "needs_background": "light"
     },
     "output_type": "display_data"
    }
   ],
   "source": [
    "df_nums.Temperature.plot.hist()\n",
    "\n",
    "df.Temperature.plot.hist()\n",
    "\n",
    "plt.title('Temperature')\n",
    "plt.show()"
   ]
  },
  {
   "cell_type": "markdown",
   "metadata": {},
   "source": [
    "## Sales"
   ]
  },
  {
   "cell_type": "code",
   "execution_count": 187,
   "metadata": {},
   "outputs": [
    {
     "data": {
      "text/plain": [
       "Date\n",
       "2017-07-03    235\n",
       "2017-07-04    534\n",
       "2017-07-05     99\n",
       "Name: Sales, dtype: int64"
      ]
     },
     "execution_count": 187,
     "metadata": {},
     "output_type": "execute_result"
    }
   ],
   "source": [
    "# Calculate the z-score \n",
    "zscores = pd.Series((df.Sales - df.Sales.mean()) / df.Sales.std())\n",
    "\n",
    "# Finds all of the observations within two standard deviations\n",
    "df.Sales[zscores.abs() > 2]"
   ]
  },
  {
   "cell_type": "code",
   "execution_count": 188,
   "metadata": {},
   "outputs": [
    {
     "data": {
      "text/plain": [
       "Date\n",
       "2017-07-03    235\n",
       "2017-07-04    534\n",
       "Name: Sales, dtype: int64"
      ]
     },
     "execution_count": 188,
     "metadata": {},
     "output_type": "execute_result"
    }
   ],
   "source": [
    "# Finds all of the observations within three standard deviations\n",
    "df.Sales[zscores.abs() > 3]"
   ]
  },
  {
   "cell_type": "markdown",
   "metadata": {},
   "source": [
    "# After Outliers Handled\n",
    "\n",
    "- I handled only 2 outliers in Temperature and Flyers\n",
    "\n",
    "- These are the charts run again after handling those two outliers."
   ]
  },
  {
   "cell_type": "markdown",
   "metadata": {},
   "source": [
    "## Heatmap 2.0"
   ]
  },
  {
   "cell_type": "code",
   "execution_count": 211,
   "metadata": {},
   "outputs": [
    {
     "data": {
      "image/png": "[encoded data removed]",
      "text/plain": [
       "<Figure size 864x576 with 2 Axes>"
      ]
     },
     "metadata": {
      "needs_background": "light"
     },
     "output_type": "display_data"
    }
   ],
   "source": [
    "plt.figure(figsize=(12, 8))\n",
    "sns.heatmap(df_nums.corr(), annot=True, center=0, cmap='PiYG')\n",
    "\n",
    "plt.title('Lemonade Stand')\n",
    "plt.show()"
   ]
  },
  {
   "cell_type": "code",
   "execution_count": null,
   "metadata": {},
   "outputs": [],
   "source": []
  }
 ],
 "metadata": {
  "kernelspec": {
   "display_name": "Python 3",
   "language": "python",
   "name": "python3"
  },
  "language_info": {
   "codemirror_mode": {
    "name": "ipython",
    "version": 3
   },
   "file_extension": ".py",
   "mimetype": "text/x-python",
   "name": "python",
   "nbconvert_exporter": "python",
   "pygments_lexer": "ipython3",
   "version": "3.7.3"
  },
  "toc": {
   "base_numbering": 1,
   "nav_menu": {},
   "number_sections": true,
   "sideBar": true,
   "skip_h1_title": false,
   "title_cell": "Table of Contents",
   "title_sidebar": "Contents",
   "toc_cell": false,
   "toc_position": {
    "height": "calc(100% - 180px)",
    "left": "10px",
    "top": "150px",
    "width": "212px"
   },
   "toc_section_display": true,
   "toc_window_display": true
  }
 },
 "nbformat": 4,
 "nbformat_minor": 2
}

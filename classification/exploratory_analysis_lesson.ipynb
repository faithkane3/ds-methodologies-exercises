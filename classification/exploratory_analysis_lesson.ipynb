{
 "cells": [
  {
   "cell_type": "markdown",
   "metadata": {},
   "source": [
    "### Classification: Data Exploration\n",
    "\n",
    "-Exploratory Data Analysis refers to the critical process of performing initial investigations on data so as to discover patterns,to spot anomalies,to test hypothesis and to check assumptions with the help of summary statistics and graphical representations.\n",
    "\n",
    "Prasad Patil, Novice Data Science Storyteller, Mar 23\n",
    "\n",
    "-The goals of exploration are to understand the signals in the data, their strength, the features that drive the outcome, and other features to construct through questions and hypotheses, in order to walk away with modeling strategies (feature selection, algorithm selection, evaluation methods, e.g.) and actionable insight.\n",
    "\n"
   ]
  },
  {
   "cell_type": "code",
   "execution_count": 1,
   "metadata": {},
   "outputs": [],
   "source": [
    "#ignore warnings\n",
    "import warnings\n",
    "warnings.filterwarnings(\"ignore\")\n",
    "\n",
    "import pandas as pd\n",
    "import numpy as np\n",
    "%matplotlib inline\n",
    "import matplotlib.pyplot as plt\n",
    "import seaborn as sns\n",
    "\n",
    "from sklearn.preprocessing import LabelEncoder\n",
    "from sklearn.preprocessing import MinMaxScaler\n",
    "from sklearn.model_selection import train_test_split\n",
    "\n",
    "from acquire import get_titanic_data\n",
    "from prepare import prep_titanic"
   ]
  },
  {
   "cell_type": "code",
   "execution_count": 2,
   "metadata": {},
   "outputs": [
    {
     "name": "stdout",
     "output_type": "stream",
     "text": [
      "Reset css and font defaults in:\r\n",
      "/Users/faith/.jupyter/custom &\r\n",
      "/Users/faith/Library/Jupyter/nbextensions\r\n"
     ]
    }
   ],
   "source": [
    "!jt -r"
   ]
  },
  {
   "cell_type": "code",
   "execution_count": 3,
   "metadata": {},
   "outputs": [
    {
     "data": {
      "text/html": [
       "<div>\n",
       "<style scoped>\n",
       "    .dataframe tbody tr th:only-of-type {\n",
       "        vertical-align: middle;\n",
       "    }\n",
       "\n",
       "    .dataframe tbody tr th {\n",
       "        vertical-align: top;\n",
       "    }\n",
       "\n",
       "    .dataframe thead th {\n",
       "        text-align: right;\n",
       "    }\n",
       "</style>\n",
       "<table border=\"1\" class=\"dataframe\">\n",
       "  <thead>\n",
       "    <tr style=\"text-align: right;\">\n",
       "      <th></th>\n",
       "      <th>passenger_id</th>\n",
       "      <th>survived</th>\n",
       "      <th>pclass</th>\n",
       "      <th>sex</th>\n",
       "      <th>age</th>\n",
       "      <th>sibsp</th>\n",
       "      <th>parch</th>\n",
       "      <th>fare</th>\n",
       "      <th>embarked</th>\n",
       "      <th>class</th>\n",
       "      <th>deck</th>\n",
       "      <th>embark_town</th>\n",
       "      <th>alone</th>\n",
       "    </tr>\n",
       "  </thead>\n",
       "  <tbody>\n",
       "    <tr>\n",
       "      <th>0</th>\n",
       "      <td>0</td>\n",
       "      <td>0</td>\n",
       "      <td>3</td>\n",
       "      <td>male</td>\n",
       "      <td>22.0</td>\n",
       "      <td>1</td>\n",
       "      <td>0</td>\n",
       "      <td>7.2500</td>\n",
       "      <td>S</td>\n",
       "      <td>Third</td>\n",
       "      <td>None</td>\n",
       "      <td>Southampton</td>\n",
       "      <td>0</td>\n",
       "    </tr>\n",
       "    <tr>\n",
       "      <th>1</th>\n",
       "      <td>1</td>\n",
       "      <td>1</td>\n",
       "      <td>1</td>\n",
       "      <td>female</td>\n",
       "      <td>38.0</td>\n",
       "      <td>1</td>\n",
       "      <td>0</td>\n",
       "      <td>71.2833</td>\n",
       "      <td>C</td>\n",
       "      <td>First</td>\n",
       "      <td>C</td>\n",
       "      <td>Cherbourg</td>\n",
       "      <td>0</td>\n",
       "    </tr>\n",
       "    <tr>\n",
       "      <th>2</th>\n",
       "      <td>2</td>\n",
       "      <td>1</td>\n",
       "      <td>3</td>\n",
       "      <td>female</td>\n",
       "      <td>26.0</td>\n",
       "      <td>0</td>\n",
       "      <td>0</td>\n",
       "      <td>7.9250</td>\n",
       "      <td>S</td>\n",
       "      <td>Third</td>\n",
       "      <td>None</td>\n",
       "      <td>Southampton</td>\n",
       "      <td>1</td>\n",
       "    </tr>\n",
       "    <tr>\n",
       "      <th>3</th>\n",
       "      <td>3</td>\n",
       "      <td>1</td>\n",
       "      <td>1</td>\n",
       "      <td>female</td>\n",
       "      <td>35.0</td>\n",
       "      <td>1</td>\n",
       "      <td>0</td>\n",
       "      <td>53.1000</td>\n",
       "      <td>S</td>\n",
       "      <td>First</td>\n",
       "      <td>C</td>\n",
       "      <td>Southampton</td>\n",
       "      <td>0</td>\n",
       "    </tr>\n",
       "    <tr>\n",
       "      <th>4</th>\n",
       "      <td>4</td>\n",
       "      <td>0</td>\n",
       "      <td>3</td>\n",
       "      <td>male</td>\n",
       "      <td>35.0</td>\n",
       "      <td>0</td>\n",
       "      <td>0</td>\n",
       "      <td>8.0500</td>\n",
       "      <td>S</td>\n",
       "      <td>Third</td>\n",
       "      <td>None</td>\n",
       "      <td>Southampton</td>\n",
       "      <td>1</td>\n",
       "    </tr>\n",
       "  </tbody>\n",
       "</table>\n",
       "</div>"
      ],
      "text/plain": [
       "   passenger_id  survived  pclass     sex   age  sibsp  parch     fare  \\\n",
       "0             0         0       3    male  22.0      1      0   7.2500   \n",
       "1             1         1       1  female  38.0      1      0  71.2833   \n",
       "2             2         1       3  female  26.0      0      0   7.9250   \n",
       "3             3         1       1  female  35.0      1      0  53.1000   \n",
       "4             4         0       3    male  35.0      0      0   8.0500   \n",
       "\n",
       "  embarked  class  deck  embark_town  alone  \n",
       "0        S  Third  None  Southampton      0  \n",
       "1        C  First     C    Cherbourg      0  \n",
       "2        S  Third  None  Southampton      1  \n",
       "3        S  First     C  Southampton      0  \n",
       "4        S  Third  None  Southampton      1  "
      ]
     },
     "execution_count": 3,
     "metadata": {},
     "output_type": "execute_result"
    }
   ],
   "source": [
    "df = get_titanic_data()\n",
    "df.head()"
   ]
  },
  {
   "cell_type": "markdown",
   "metadata": {},
   "source": [
    "    -Before prep"
   ]
  },
  {
   "cell_type": "code",
   "execution_count": 4,
   "metadata": {},
   "outputs": [
    {
     "data": {
      "text/html": [
       "<div>\n",
       "<style scoped>\n",
       "    .dataframe tbody tr th:only-of-type {\n",
       "        vertical-align: middle;\n",
       "    }\n",
       "\n",
       "    .dataframe tbody tr th {\n",
       "        vertical-align: top;\n",
       "    }\n",
       "\n",
       "    .dataframe thead th {\n",
       "        text-align: right;\n",
       "    }\n",
       "</style>\n",
       "<table border=\"1\" class=\"dataframe\">\n",
       "  <thead>\n",
       "    <tr style=\"text-align: right;\">\n",
       "      <th></th>\n",
       "      <th>Total</th>\n",
       "      <th>%</th>\n",
       "    </tr>\n",
       "  </thead>\n",
       "  <tbody>\n",
       "    <tr>\n",
       "      <th>deck</th>\n",
       "      <td>688</td>\n",
       "      <td>77.2</td>\n",
       "    </tr>\n",
       "    <tr>\n",
       "      <th>age</th>\n",
       "      <td>177</td>\n",
       "      <td>19.9</td>\n",
       "    </tr>\n",
       "    <tr>\n",
       "      <th>embark_town</th>\n",
       "      <td>2</td>\n",
       "      <td>0.2</td>\n",
       "    </tr>\n",
       "    <tr>\n",
       "      <th>embarked</th>\n",
       "      <td>2</td>\n",
       "      <td>0.2</td>\n",
       "    </tr>\n",
       "    <tr>\n",
       "      <th>alone</th>\n",
       "      <td>0</td>\n",
       "      <td>0.0</td>\n",
       "    </tr>\n",
       "  </tbody>\n",
       "</table>\n",
       "</div>"
      ],
      "text/plain": [
       "             Total     %\n",
       "deck           688  77.2\n",
       "age            177  19.9\n",
       "embark_town      2   0.2\n",
       "embarked         2   0.2\n",
       "alone            0   0.0"
      ]
     },
     "execution_count": 4,
     "metadata": {},
     "output_type": "execute_result"
    }
   ],
   "source": [
    "total = df.isnull().sum().sort_values(ascending=False)\n",
    "percent_1 = df.isnull().sum()/df.isnull().count()*100\n",
    "percent_2 = (round(percent_1, 1)).sort_values(ascending=False)\n",
    "missing_data = pd.concat([total, percent_2], axis=1, keys=['Total', '%'])\n",
    "missing_data.head(5)"
   ]
  },
  {
   "cell_type": "code",
   "execution_count": 5,
   "metadata": {},
   "outputs": [],
   "source": [
    "df, encoder = prep_titanic(df)"
   ]
  },
  {
   "cell_type": "markdown",
   "metadata": {},
   "source": [
    "    -After prep"
   ]
  },
  {
   "cell_type": "code",
   "execution_count": 6,
   "metadata": {},
   "outputs": [
    {
     "data": {
      "text/html": [
       "<div>\n",
       "<style scoped>\n",
       "    .dataframe tbody tr th:only-of-type {\n",
       "        vertical-align: middle;\n",
       "    }\n",
       "\n",
       "    .dataframe tbody tr th {\n",
       "        vertical-align: top;\n",
       "    }\n",
       "\n",
       "    .dataframe thead th {\n",
       "        text-align: right;\n",
       "    }\n",
       "</style>\n",
       "<table border=\"1\" class=\"dataframe\">\n",
       "  <thead>\n",
       "    <tr style=\"text-align: right;\">\n",
       "      <th></th>\n",
       "      <th>Total</th>\n",
       "      <th>%</th>\n",
       "    </tr>\n",
       "  </thead>\n",
       "  <tbody>\n",
       "    <tr>\n",
       "      <th>age</th>\n",
       "      <td>177</td>\n",
       "      <td>19.9</td>\n",
       "    </tr>\n",
       "    <tr>\n",
       "      <th>alone</th>\n",
       "      <td>0</td>\n",
       "      <td>0.0</td>\n",
       "    </tr>\n",
       "    <tr>\n",
       "      <th>embark_town</th>\n",
       "      <td>0</td>\n",
       "      <td>0.0</td>\n",
       "    </tr>\n",
       "    <tr>\n",
       "      <th>class</th>\n",
       "      <td>0</td>\n",
       "      <td>0.0</td>\n",
       "    </tr>\n",
       "    <tr>\n",
       "      <th>embarked</th>\n",
       "      <td>0</td>\n",
       "      <td>0.0</td>\n",
       "    </tr>\n",
       "  </tbody>\n",
       "</table>\n",
       "</div>"
      ],
      "text/plain": [
       "             Total     %\n",
       "age            177  19.9\n",
       "alone            0   0.0\n",
       "embark_town      0   0.0\n",
       "class            0   0.0\n",
       "embarked         0   0.0"
      ]
     },
     "execution_count": 6,
     "metadata": {},
     "output_type": "execute_result"
    }
   ],
   "source": [
    "total = df.isnull().sum().sort_values(ascending=False)\n",
    "percent_1 = df.isnull().sum()/df.isnull().count()*100\n",
    "percent_2 = (round(percent_1, 1)).sort_values(ascending=False)\n",
    "missing_data = pd.concat([total, percent_2], axis=1, keys=['Total', '%'])\n",
    "missing_data.head(5)"
   ]
  },
  {
   "cell_type": "code",
   "execution_count": 7,
   "metadata": {},
   "outputs": [
    {
     "name": "stdout",
     "output_type": "stream",
     "text": [
      "<class 'pandas.core.frame.DataFrame'>\n",
      "Int64Index: 889 entries, 0 to 890\n",
      "Data columns (total 12 columns):\n",
      "passenger_id    889 non-null int64\n",
      "survived        889 non-null int64\n",
      "pclass          889 non-null int64\n",
      "sex             889 non-null object\n",
      "age             712 non-null float64\n",
      "sibsp           889 non-null int64\n",
      "parch           889 non-null int64\n",
      "fare            889 non-null float64\n",
      "embarked        889 non-null int64\n",
      "class           889 non-null object\n",
      "embark_town     889 non-null object\n",
      "alone           889 non-null int64\n",
      "dtypes: float64(2), int64(7), object(3)\n",
      "memory usage: 90.3+ KB\n"
     ]
    }
   ],
   "source": [
    "df.info()"
   ]
  },
  {
   "cell_type": "markdown",
   "metadata": {},
   "source": [
    "1. Split the data into 70% train and 30% test samples\n",
    "\n",
    "    -stratify by the categorical variable you are interested in, your target"
   ]
  },
  {
   "cell_type": "code",
   "execution_count": 8,
   "metadata": {},
   "outputs": [],
   "source": [
    "train_df, test_df = train_test_split(\n",
    "    df, test_size=.30, random_state=123, stratify=df[['survived']])"
   ]
  },
  {
   "cell_type": "markdown",
   "metadata": {},
   "source": [
    "-Create a function that pulls numberic datatype features from a dataframe and\n",
    "plots those containing less than 5 unique values."
   ]
  },
  {
   "cell_type": "code",
   "execution_count": 9,
   "metadata": {},
   "outputs": [],
   "source": [
    "def num_plot(df, target):\n",
    "    \"\"\"\n",
    "    Takes: df\n",
    "    func isolates numerical columns,\n",
    "    converts column names to a list,\n",
    "    plots columns with unique value counts <= than 5, x\n",
    "    based on target, y\n",
    "    Returns: boxplot of survival rate by category\n",
    "    \"\"\"\n",
    "    non_object = df.select_dtypes([int, float]).columns.tolist()\n",
    "    non_object.remove(\"passenger_id\")\n",
    "    for i in non_object:\n",
    "        if i != target:\n",
    "            if df[i].nunique() <= 5:\n",
    "                sns.boxplot(x=i, y=target, data=df)\n",
    "                plt.ylabel(\"Survival Rate\")\n",
    "                plt.show()\n"
   ]
  },
  {
   "cell_type": "code",
   "execution_count": 10,
   "metadata": {},
   "outputs": [
    {
     "data": {
      "image/png": "[encoded data removed]",
      "text/plain": [
       "<Figure size 432x288 with 1 Axes>"
      ]
     },
     "metadata": {
      "needs_background": "light"
     },
     "output_type": "display_data"
    },
    {
     "data": {
      "image/png": "[encoded data removed]",
      "text/plain": [
       "<Figure size 432x288 with 1 Axes>"
      ]
     },
     "metadata": {
      "needs_background": "light"
     },
     "output_type": "display_data"
    },
    {
     "data": {
      "image/png": "[encoded data removed]",
      "text/plain": [
       "<Figure size 432x288 with 1 Axes>"
      ]
     },
     "metadata": {
      "needs_background": "light"
     },
     "output_type": "display_data"
    }
   ],
   "source": [
    "num_plot(train_df, \"survived\")"
   ]
  },
  {
   "cell_type": "markdown",
   "metadata": {},
   "source": [
    "-Create function that pulls object features from dataframe and \n",
    "plots features with 5 or less unique values"
   ]
  },
  {
   "cell_type": "code",
   "execution_count": 11,
   "metadata": {},
   "outputs": [],
   "source": [
    "def cat_plot(df, target):\n",
    "    \"\"\"\n",
    "    Takes: df\n",
    "    func isolates categorical columns,\n",
    "    converts column names to a list,\n",
    "    plots columns with unique value counts <= 5\n",
    "    based on survival rate\n",
    "    Returns: barplot of survival rate by category\n",
    "    \"\"\"\n",
    "    objects = df.select_dtypes(object).columns.tolist()\n",
    "    for i in objects:\n",
    "        if df[i].nunique() <= 5:\n",
    "            survival_rate = df.survived.mean()\n",
    "            sns.barplot(i, target, data=df, alpha=.5)\n",
    "            plt.ylabel(\"Survival Rate\")\n",
    "            plt.axhline(survival_rate, ls=\"--\", color=\"grey\")\n",
    "            plt.show()"
   ]
  },
  {
   "cell_type": "code",
   "execution_count": null,
   "metadata": {},
   "outputs": [],
   "source": []
  },
  {
   "cell_type": "code",
   "execution_count": 12,
   "metadata": {},
   "outputs": [
    {
     "data": {
      "image/png": "[encoded data removed]",
      "text/plain": [
       "<Figure size 432x288 with 1 Axes>"
      ]
     },
     "metadata": {
      "needs_background": "light"
     },
     "output_type": "display_data"
    },
    {
     "data": {
      "image/png": "[encoded data removed]",
      "text/plain": [
       "<Figure size 432x288 with 1 Axes>"
      ]
     },
     "metadata": {
      "needs_background": "light"
     },
     "output_type": "display_data"
    },
    {
     "data": {
      "image/png": "[encoded data removed]",
      "text/plain": [
       "<Figure size 432x288 with 1 Axes>"
      ]
     },
     "metadata": {
      "needs_background": "light"
     },
     "output_type": "display_data"
    }
   ],
   "source": [
    "cat_plot(train_df, \"survived\")"
   ]
  },
  {
   "cell_type": "markdown",
   "metadata": {},
   "source": [
    "-Exploratory Visualization\n",
    "\n",
    "    -Remember to start with simple visuals that explain the main point you are trying to make, so that you can use those to walk others through the discovery process when presenting."
   ]
  },
  {
   "cell_type": "code",
   "execution_count": 13,
   "metadata": {},
   "outputs": [
    {
     "data": {
      "image/png": "[encoded data removed]",
      "text/plain": [
       "<Figure size 432x288 with 1 Axes>"
      ]
     },
     "metadata": {
      "needs_background": "light"
     },
     "output_type": "display_data"
    }
   ],
   "source": [
    "train_df.survived.value_counts().sort_index().plot(kind = \"bar\",alpha = .5)\n",
    "plt.title(\"Distribution of passsengers survived\")\n",
    "plt.grid(b = True , which = \"major\")"
   ]
  },
  {
   "cell_type": "markdown",
   "metadata": {},
   "source": [
    "-Barplots"
   ]
  },
  {
   "cell_type": "code",
   "execution_count": 14,
   "metadata": {},
   "outputs": [
    {
     "data": {
      "image/png": "[encoded data removed]",
      "text/plain": [
       "<Figure size 1152x360 with 3 Axes>"
      ]
     },
     "metadata": {
      "needs_background": "light"
     },
     "output_type": "display_data"
    }
   ],
   "source": [
    "features = ['sex', 'class', 'alone']\n",
    "\n",
    "_, ax = plt.subplots(nrows=1, ncols=3, figsize=(16,5))\n",
    "\n",
    "survival_rate = train_df.survived.mean()\n",
    "\n",
    "for i, feature in enumerate(features):\n",
    "    sns.barplot(feature, 'survived', data=train_df, ax=ax[i], alpha=.5)\n",
    "    ax[i].set_ylabel('Survival Rate')\n",
    "    ax[i].axhline(survival_rate, ls='--', color='grey')"
   ]
  },
  {
   "cell_type": "markdown",
   "metadata": {},
   "source": [
    "-Create lists of different data types"
   ]
  },
  {
   "cell_type": "code",
   "execution_count": 15,
   "metadata": {},
   "outputs": [],
   "source": [
    "features = [\"class\", \"embarked\", \"alone\"]"
   ]
  },
  {
   "cell_type": "code",
   "execution_count": null,
   "metadata": {},
   "outputs": [],
   "source": []
  },
  {
   "cell_type": "code",
   "execution_count": null,
   "metadata": {},
   "outputs": [],
   "source": []
  },
  {
   "cell_type": "markdown",
   "metadata": {},
   "source": [
    "-Crosstab: Discrete x Discrete\n",
    "\n",
    "    -matrix count of probabilities"
   ]
  },
  {
   "cell_type": "code",
   "execution_count": 16,
   "metadata": {},
   "outputs": [
    {
     "data": {
      "text/html": [
       "<style  type=\"text/css\" >\n",
       "    #T_5a90635c_f673_11e9_b107_88e9fe64f5f6row0_col0 {\n",
       "            background-color:  #03051a;\n",
       "            color:  #f1f1f1;\n",
       "        }    #T_5a90635c_f673_11e9_b107_88e9fe64f5f6row0_col1 {\n",
       "            background-color:  #561e4f;\n",
       "            color:  #f1f1f1;\n",
       "        }    #T_5a90635c_f673_11e9_b107_88e9fe64f5f6row0_col2 {\n",
       "            background-color:  #160e27;\n",
       "            color:  #f1f1f1;\n",
       "        }    #T_5a90635c_f673_11e9_b107_88e9fe64f5f6row1_col0 {\n",
       "            background-color:  #0d0a21;\n",
       "            color:  #f1f1f1;\n",
       "        }    #T_5a90635c_f673_11e9_b107_88e9fe64f5f6row1_col1 {\n",
       "            background-color:  #03051a;\n",
       "            color:  #f1f1f1;\n",
       "        }    #T_5a90635c_f673_11e9_b107_88e9fe64f5f6row1_col2 {\n",
       "            background-color:  #03051a;\n",
       "            color:  #f1f1f1;\n",
       "        }    #T_5a90635c_f673_11e9_b107_88e9fe64f5f6row2_col0 {\n",
       "            background-color:  #ed4e3e;\n",
       "            color:  #000000;\n",
       "        }    #T_5a90635c_f673_11e9_b107_88e9fe64f5f6row2_col1 {\n",
       "            background-color:  #251433;\n",
       "            color:  #f1f1f1;\n",
       "        }    #T_5a90635c_f673_11e9_b107_88e9fe64f5f6row2_col2 {\n",
       "            background-color:  #af1759;\n",
       "            color:  #f1f1f1;\n",
       "        }    #T_5a90635c_f673_11e9_b107_88e9fe64f5f6row3_col0 {\n",
       "            background-color:  #faebdd;\n",
       "            color:  #000000;\n",
       "        }    #T_5a90635c_f673_11e9_b107_88e9fe64f5f6row3_col1 {\n",
       "            background-color:  #faebdd;\n",
       "            color:  #000000;\n",
       "        }    #T_5a90635c_f673_11e9_b107_88e9fe64f5f6row3_col2 {\n",
       "            background-color:  #faebdd;\n",
       "            color:  #000000;\n",
       "        }</style><table id=\"T_5a90635c_f673_11e9_b107_88e9fe64f5f6\" ><thead>    <tr>        <th class=\"index_name level0\" >survived</th>        <th class=\"col_heading level0 col0\" >0</th>        <th class=\"col_heading level0 col1\" >1</th>        <th class=\"col_heading level0 col2\" >All</th>    </tr>    <tr>        <th class=\"index_name level0\" >pclass</th>        <th class=\"blank\" ></th>        <th class=\"blank\" ></th>        <th class=\"blank\" ></th>    </tr></thead><tbody>\n",
       "                <tr>\n",
       "                        <th id=\"T_5a90635c_f673_11e9_b107_88e9fe64f5f6level0_row0\" class=\"row_heading level0 row0\" >1</th>\n",
       "                        <td id=\"T_5a90635c_f673_11e9_b107_88e9fe64f5f6row0_col0\" class=\"data row0 col0\" >55</td>\n",
       "                        <td id=\"T_5a90635c_f673_11e9_b107_88e9fe64f5f6row0_col1\" class=\"data row0 col1\" >100</td>\n",
       "                        <td id=\"T_5a90635c_f673_11e9_b107_88e9fe64f5f6row0_col2\" class=\"data row0 col2\" >155</td>\n",
       "            </tr>\n",
       "            <tr>\n",
       "                        <th id=\"T_5a90635c_f673_11e9_b107_88e9fe64f5f6level0_row1\" class=\"row_heading level0 row1\" >2</th>\n",
       "                        <td id=\"T_5a90635c_f673_11e9_b107_88e9fe64f5f6row1_col0\" class=\"data row1 col0\" >66</td>\n",
       "                        <td id=\"T_5a90635c_f673_11e9_b107_88e9fe64f5f6row1_col1\" class=\"data row1 col1\" >60</td>\n",
       "                        <td id=\"T_5a90635c_f673_11e9_b107_88e9fe64f5f6row1_col2\" class=\"data row1 col2\" >126</td>\n",
       "            </tr>\n",
       "            <tr>\n",
       "                        <th id=\"T_5a90635c_f673_11e9_b107_88e9fe64f5f6level0_row2\" class=\"row_heading level0 row2\" >3</th>\n",
       "                        <td id=\"T_5a90635c_f673_11e9_b107_88e9fe64f5f6row2_col0\" class=\"data row2 col0\" >263</td>\n",
       "                        <td id=\"T_5a90635c_f673_11e9_b107_88e9fe64f5f6row2_col1\" class=\"data row2 col1\" >78</td>\n",
       "                        <td id=\"T_5a90635c_f673_11e9_b107_88e9fe64f5f6row2_col2\" class=\"data row2 col2\" >341</td>\n",
       "            </tr>\n",
       "            <tr>\n",
       "                        <th id=\"T_5a90635c_f673_11e9_b107_88e9fe64f5f6level0_row3\" class=\"row_heading level0 row3\" >All</th>\n",
       "                        <td id=\"T_5a90635c_f673_11e9_b107_88e9fe64f5f6row3_col0\" class=\"data row3 col0\" >384</td>\n",
       "                        <td id=\"T_5a90635c_f673_11e9_b107_88e9fe64f5f6row3_col1\" class=\"data row3 col1\" >238</td>\n",
       "                        <td id=\"T_5a90635c_f673_11e9_b107_88e9fe64f5f6row3_col2\" class=\"data row3 col2\" >622</td>\n",
       "            </tr>\n",
       "    </tbody></table>"
      ],
      "text/plain": [
       "<pandas.io.formats.style.Styler at 0x1a2642dac8>"
      ]
     },
     "execution_count": 16,
     "metadata": {},
     "output_type": "execute_result"
    }
   ],
   "source": [
    "pd.crosstab(train_df.pclass, train_df.survived, margins=True).style.background_gradient(cmap=\"rocket\")"
   ]
  },
  {
   "cell_type": "markdown",
   "metadata": {},
   "source": [
    "    -There definitely appears to be a difference in the survival rate of those in 1st class vs. 3rd class.\n",
    "\n"
   ]
  },
  {
   "cell_type": "code",
   "execution_count": 17,
   "metadata": {},
   "outputs": [
    {
     "data": {
      "text/plain": [
       "count    622.000000\n",
       "mean       0.063361\n",
       "std        0.092487\n",
       "min        0.000000\n",
       "25%        0.015412\n",
       "50%        0.028302\n",
       "75%        0.059914\n",
       "max        1.000000\n",
       "Name: fare, dtype: float64"
      ]
     },
     "execution_count": 17,
     "metadata": {},
     "output_type": "execute_result"
    }
   ],
   "source": [
    "# This data is already scaled from the prep_titanic func, so meaningless\n",
    "train_df.fare.describe()"
   ]
  },
  {
   "cell_type": "code",
   "execution_count": 18,
   "metadata": {},
   "outputs": [
    {
     "data": {
      "image/png": "[encoded data removed]",
      "text/plain": [
       "<Figure size 1008x576 with 1 Axes>"
      ]
     },
     "metadata": {
      "needs_background": "light"
     },
     "output_type": "display_data"
    }
   ],
   "source": [
    "plt.figure(figsize=(14,8))\n",
    "\n",
    "p = sns.swarmplot(x='fare', y='age', hue='survived',\n",
    "                  palette=[\"r\", \"c\"], data=train_df)\n",
    "\n",
    "\n",
    "loc = plt.xticks(list(range(0,200,25)))\n",
    "p.set_xticklabels(labels=list(range(0,200,25)), rotation=90, fontsize=10)\n",
    "\n",
    "plt.show()"
   ]
  },
  {
   "cell_type": "markdown",
   "metadata": {},
   "source": []
  },
  {
   "cell_type": "code",
   "execution_count": null,
   "metadata": {},
   "outputs": [],
   "source": []
  }
 ],
 "metadata": {
  "kernelspec": {
   "display_name": "Python 3",
   "language": "python",
   "name": "python3"
  },
  "language_info": {
   "codemirror_mode": {
    "name": "ipython",
    "version": 3
   },
   "file_extension": ".py",
   "mimetype": "text/x-python",
   "name": "python",
   "nbconvert_exporter": "python",
   "pygments_lexer": "ipython3",
   "version": "3.7.3"
  }
 },
 "nbformat": 4,
 "nbformat_minor": 2
}

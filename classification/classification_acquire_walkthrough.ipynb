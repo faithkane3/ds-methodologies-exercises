{
 "cells": [
  {
   "cell_type": "markdown",
   "metadata": {
    "toc": true
   },
   "source": [
    "<h1>Table of Contents<span class=\"tocSkip\"></span></h1>\n",
    "<div class=\"toc\"><ul class=\"toc-item\"><li><span><a href=\"#Use-a-python-module-containing-datasets-as-a-source-from-the-iris-data.-Create-a-pandas-dataframe,-df_iris,-from-this-data.\" data-toc-modified-id=\"Use-a-python-module-containing-datasets-as-a-source-from-the-iris-data.-Create-a-pandas-dataframe,-df_iris,-from-this-data.-1\"><span class=\"toc-item-num\">1&nbsp;&nbsp;</span>Use a python module containing datasets as a source from the iris data. Create a pandas dataframe, df_iris, from this data.</a></span><ul class=\"toc-item\"><li><span><a href=\"#Print-the-first-3-rows\" data-toc-modified-id=\"Print-the-first-3-rows-1.1\"><span class=\"toc-item-num\">1.1&nbsp;&nbsp;</span>Print the first 3 rows</a></span></li><li><span><a href=\"#Print-the-number-of-rows-and-columns-(shape)\" data-toc-modified-id=\"Print-the-number-of-rows-and-columns-(shape)-1.2\"><span class=\"toc-item-num\">1.2&nbsp;&nbsp;</span>Print the number of rows and columns (shape)</a></span></li><li><span><a href=\"#Print-the-column-names\" data-toc-modified-id=\"Print-the-column-names-1.3\"><span class=\"toc-item-num\">1.3&nbsp;&nbsp;</span>Print the column names</a></span></li><li><span><a href=\"#Print-the-data-type-of-each-column\" data-toc-modified-id=\"Print-the-data-type-of-each-column-1.4\"><span class=\"toc-item-num\">1.4&nbsp;&nbsp;</span>Print the data type of each column</a></span></li><li><span><a href=\"#Print-the-summary-statistics-for-each-of-the-numeric-variables.\" data-toc-modified-id=\"Print-the-summary-statistics-for-each-of-the-numeric-variables.-1.5\"><span class=\"toc-item-num\">1.5&nbsp;&nbsp;</span>Print the summary statistics for each of the numeric variables.</a></span></li><li><span><a href=\"#We-can-get-the-Iris-dataset-from-other-sources-as-well...\" data-toc-modified-id=\"We-can-get-the-Iris-dataset-from-other-sources-as-well...-1.6\"><span class=\"toc-item-num\">1.6&nbsp;&nbsp;</span>We can get the Iris dataset from other sources as well...</a></span></li></ul></li><li><span><a href=\"#Read-Table1_CustDetails-the-excel-module-dataset,-Excel_Exercises.xlsx,-into-a-dataframe,-df_excel\" data-toc-modified-id=\"Read-Table1_CustDetails-the-excel-module-dataset,-Excel_Exercises.xlsx,-into-a-dataframe,-df_excel-2\"><span class=\"toc-item-num\">2&nbsp;&nbsp;</span>Read Table1_CustDetails the excel module dataset, Excel_Exercises.xlsx, into a dataframe, df_excel</a></span><ul class=\"toc-item\"><li><span><a href=\"#Assign-the-first-100-rows-to-a-new-dataframe,-df_excel_sample\" data-toc-modified-id=\"Assign-the-first-100-rows-to-a-new-dataframe,-df_excel_sample-2.1\"><span class=\"toc-item-num\">2.1&nbsp;&nbsp;</span>Assign the first 100 rows to a new dataframe, df_excel_sample</a></span></li><li><span><a href=\"#Print-the-number-of-rows-of-your-original-dataframe\" data-toc-modified-id=\"Print-the-number-of-rows-of-your-original-dataframe-2.2\"><span class=\"toc-item-num\">2.2&nbsp;&nbsp;</span>Print the number of rows of your original dataframe</a></span></li><li><span><a href=\"#Print-the-first-5-column-names\" data-toc-modified-id=\"Print-the-first-5-column-names-2.3\"><span class=\"toc-item-num\">2.3&nbsp;&nbsp;</span>Print the first 5 column names</a></span></li><li><span><a href=\"#Print-the-column-names-that-have-a-data-type-of-object\" data-toc-modified-id=\"Print-the-column-names-that-have-a-data-type-of-object-2.4\"><span class=\"toc-item-num\">2.4&nbsp;&nbsp;</span>Print the column names that have a data type of object</a></span></li><li><span><a href=\"#Compute-the-range-for-each-of-the-numeric-variables.\" data-toc-modified-id=\"Compute-the-range-for-each-of-the-numeric-variables.-2.5\"><span class=\"toc-item-num\">2.5&nbsp;&nbsp;</span>Compute the range for each of the numeric variables.</a></span></li><li><span><a href=\"#Compute-the-range-for-each-of-the-numeric-variables.\" data-toc-modified-id=\"Compute-the-range-for-each-of-the-numeric-variables.-2.6\"><span class=\"toc-item-num\">2.6&nbsp;&nbsp;</span>Compute the range for each of the numeric variables.</a></span></li></ul></li><li><span><a href=\"#Read-the-data-from-this-google-sheet-into-a-dataframe,-df_google\" data-toc-modified-id=\"Read-the-data-from-this-google-sheet-into-a-dataframe,-df_google-3\"><span class=\"toc-item-num\">3&nbsp;&nbsp;</span>Read the data from this google sheet into a dataframe, df_google</a></span><ul class=\"toc-item\"><li><span><a href=\"#Print-the-first-3-rows\" data-toc-modified-id=\"Print-the-first-3-rows-3.1\"><span class=\"toc-item-num\">3.1&nbsp;&nbsp;</span>Print the first 3 rows</a></span></li><li><span><a href=\"#Print-the-column-names\" data-toc-modified-id=\"Print-the-column-names-3.2\"><span class=\"toc-item-num\">3.2&nbsp;&nbsp;</span>Print the column names</a></span></li><li><span><a href=\"#Print-the-data-type-of-each-column\" data-toc-modified-id=\"Print-the-data-type-of-each-column-3.3\"><span class=\"toc-item-num\">3.3&nbsp;&nbsp;</span>Print the data type of each column</a></span></li><li><span><a href=\"#Print-the-summary-statistics-for-each-of-the-numeric-variables\" data-toc-modified-id=\"Print-the-summary-statistics-for-each-of-the-numeric-variables-3.4\"><span class=\"toc-item-num\">3.4&nbsp;&nbsp;</span>Print the summary statistics for each of the numeric variables</a></span></li><li><span><a href=\"#Print-the-unique-values-for-each-of-your-categorical-variables\" data-toc-modified-id=\"Print-the-unique-values-for-each-of-your-categorical-variables-3.5\"><span class=\"toc-item-num\">3.5&nbsp;&nbsp;</span>Print the unique values for each of your categorical variables</a></span></li></ul></li></ul></div>"
   ]
  },
  {
   "cell_type": "code",
   "execution_count": 2,
   "metadata": {},
   "outputs": [],
   "source": [
    "import pandas as pd\n",
    "import numpy as np\n",
    "\n",
    "from pydataset import data\n",
    "\n",
    "import matplotlib.pyplot as plt\n",
    "%matplotlib inline\n",
    "import seaborn as sns\n",
    "\n",
    "\n",
    "# ignore warnings\n",
    "import warnings\n",
    "warnings.filterwarnings(\"ignore\")\n",
    "\n",
    "from env import host, user, password"
   ]
  },
  {
   "cell_type": "markdown",
   "metadata": {},
   "source": [
    "## Use a python module containing datasets as a source from the iris data. Create a pandas dataframe, df_iris, from this data."
   ]
  },
  {
   "cell_type": "code",
   "execution_count": 3,
   "metadata": {},
   "outputs": [
    {
     "name": "stdout",
     "output_type": "stream",
     "text": [
      "iris\n",
      "\n",
      "PyDataset Documentation (adopted from R Documentation. The displayed examples are in R)\n",
      "\n",
      "## Edgar Anderson's Iris Data\n",
      "\n",
      "### Description\n",
      "\n",
      "This famous (Fisher's or Anderson's) iris data set gives the measurements in\n",
      "centimeters of the variables sepal length and width and petal length and\n",
      "width, respectively, for 50 flowers from each of 3 species of iris. The\n",
      "species are _Iris setosa_, _versicolor_, and _virginica_.\n",
      "\n",
      "### Usage\n",
      "\n",
      "    iris\n",
      "    iris3\n",
      "\n",
      "### Format\n",
      "\n",
      "`iris` is a data frame with 150 cases (rows) and 5 variables (columns) named\n",
      "`Sepal.Length`, `Sepal.Width`, `Petal.Length`, `Petal.Width`, and `Species`.\n",
      "\n",
      "`iris3` gives the same data arranged as a 3-dimensional array of size 50 by 4\n",
      "by 3, as represented by S-PLUS. The first dimension gives the case number\n",
      "within the species subsample, the second the measurements with names `Sepal\n",
      "L.`, `Sepal W.`, `Petal L.`, and `Petal W.`, and the third the species.\n",
      "\n",
      "### Source\n",
      "\n",
      "Fisher, R. A. (1936) The use of multiple measurements in taxonomic problems.\n",
      "_Annals of Eugenics_, **7**, Part II, 179–188.\n",
      "\n",
      "The data were collected by Anderson, Edgar (1935). The irises of the Gaspe\n",
      "Peninsula, _Bulletin of the American Iris Society_, **59**, 2–5.\n",
      "\n",
      "### References\n",
      "\n",
      "Becker, R. A., Chambers, J. M. and Wilks, A. R. (1988) _The New S Language_.\n",
      "Wadsworth & Brooks/Cole. (has `iris3` as `iris`.)\n",
      "\n",
      "### See Also\n",
      "\n",
      "`matplot` some examples of which use `iris`.\n",
      "\n",
      "### Examples\n",
      "\n",
      "    dni3 <- dimnames(iris3)\n",
      "    ii <- data.frame(matrix(aperm(iris3, c(1,3,2)), ncol = 4,\n",
      "                            dimnames = list(NULL, sub(\" L.\",\".Length\",\n",
      "                                            sub(\" W.\",\".Width\", dni3[[2]])))),\n",
      "        Species = gl(3, 50, labels = sub(\"S\", \"s\", sub(\"V\", \"v\", dni3[[3]]))))\n",
      "    all.equal(ii, iris) # TRUE\n",
      "\n",
      "\n"
     ]
    }
   ],
   "source": [
    "data('iris', show_doc=True)"
   ]
  },
  {
   "cell_type": "code",
   "execution_count": 5,
   "metadata": {},
   "outputs": [],
   "source": [
    "df_iris = data('iris')"
   ]
  },
  {
   "cell_type": "markdown",
   "metadata": {},
   "source": [
    "### Print the first 3 rows"
   ]
  },
  {
   "cell_type": "code",
   "execution_count": 6,
   "metadata": {},
   "outputs": [
    {
     "data": {
      "text/html": [
       "<div>\n",
       "<style scoped>\n",
       "    .dataframe tbody tr th:only-of-type {\n",
       "        vertical-align: middle;\n",
       "    }\n",
       "\n",
       "    .dataframe tbody tr th {\n",
       "        vertical-align: top;\n",
       "    }\n",
       "\n",
       "    .dataframe thead th {\n",
       "        text-align: right;\n",
       "    }\n",
       "</style>\n",
       "<table border=\"1\" class=\"dataframe\">\n",
       "  <thead>\n",
       "    <tr style=\"text-align: right;\">\n",
       "      <th></th>\n",
       "      <th>Sepal.Length</th>\n",
       "      <th>Sepal.Width</th>\n",
       "      <th>Petal.Length</th>\n",
       "      <th>Petal.Width</th>\n",
       "      <th>Species</th>\n",
       "    </tr>\n",
       "  </thead>\n",
       "  <tbody>\n",
       "    <tr>\n",
       "      <td>1</td>\n",
       "      <td>5.1</td>\n",
       "      <td>3.5</td>\n",
       "      <td>1.4</td>\n",
       "      <td>0.2</td>\n",
       "      <td>setosa</td>\n",
       "    </tr>\n",
       "    <tr>\n",
       "      <td>2</td>\n",
       "      <td>4.9</td>\n",
       "      <td>3.0</td>\n",
       "      <td>1.4</td>\n",
       "      <td>0.2</td>\n",
       "      <td>setosa</td>\n",
       "    </tr>\n",
       "    <tr>\n",
       "      <td>3</td>\n",
       "      <td>4.7</td>\n",
       "      <td>3.2</td>\n",
       "      <td>1.3</td>\n",
       "      <td>0.2</td>\n",
       "      <td>setosa</td>\n",
       "    </tr>\n",
       "  </tbody>\n",
       "</table>\n",
       "</div>"
      ],
      "text/plain": [
       "   Sepal.Length  Sepal.Width  Petal.Length  Petal.Width Species\n",
       "1           5.1          3.5           1.4          0.2  setosa\n",
       "2           4.9          3.0           1.4          0.2  setosa\n",
       "3           4.7          3.2           1.3          0.2  setosa"
      ]
     },
     "execution_count": 6,
     "metadata": {},
     "output_type": "execute_result"
    }
   ],
   "source": [
    "df_iris.head(3)"
   ]
  },
  {
   "cell_type": "markdown",
   "metadata": {},
   "source": [
    "### Print the number of rows and columns (shape)"
   ]
  },
  {
   "cell_type": "code",
   "execution_count": 7,
   "metadata": {},
   "outputs": [
    {
     "data": {
      "text/plain": [
       "(150, 5)"
      ]
     },
     "execution_count": 7,
     "metadata": {},
     "output_type": "execute_result"
    }
   ],
   "source": [
    "df_iris.shape"
   ]
  },
  {
   "cell_type": "markdown",
   "metadata": {},
   "source": [
    "### Print the column names"
   ]
  },
  {
   "cell_type": "code",
   "execution_count": 9,
   "metadata": {},
   "outputs": [
    {
     "data": {
      "text/plain": [
       "Index(['Sepal.Length', 'Sepal.Width', 'Petal.Length', 'Petal.Width',\n",
       "       'Species'],\n",
       "      dtype='object')"
      ]
     },
     "execution_count": 9,
     "metadata": {},
     "output_type": "execute_result"
    }
   ],
   "source": [
    "df_iris.columns"
   ]
  },
  {
   "cell_type": "code",
   "execution_count": 10,
   "metadata": {},
   "outputs": [
    {
     "data": {
      "text/html": [
       "<div>\n",
       "<style scoped>\n",
       "    .dataframe tbody tr th:only-of-type {\n",
       "        vertical-align: middle;\n",
       "    }\n",
       "\n",
       "    .dataframe tbody tr th {\n",
       "        vertical-align: top;\n",
       "    }\n",
       "\n",
       "    .dataframe thead th {\n",
       "        text-align: right;\n",
       "    }\n",
       "</style>\n",
       "<table border=\"1\" class=\"dataframe\">\n",
       "  <thead>\n",
       "    <tr style=\"text-align: right;\">\n",
       "      <th></th>\n",
       "      <th>sepal_length</th>\n",
       "      <th>sepal_width</th>\n",
       "      <th>petal_length</th>\n",
       "      <th>petal_width</th>\n",
       "      <th>species</th>\n",
       "    </tr>\n",
       "  </thead>\n",
       "  <tbody>\n",
       "    <tr>\n",
       "      <td>1</td>\n",
       "      <td>5.1</td>\n",
       "      <td>3.5</td>\n",
       "      <td>1.4</td>\n",
       "      <td>0.2</td>\n",
       "      <td>setosa</td>\n",
       "    </tr>\n",
       "    <tr>\n",
       "      <td>2</td>\n",
       "      <td>4.9</td>\n",
       "      <td>3.0</td>\n",
       "      <td>1.4</td>\n",
       "      <td>0.2</td>\n",
       "      <td>setosa</td>\n",
       "    </tr>\n",
       "    <tr>\n",
       "      <td>3</td>\n",
       "      <td>4.7</td>\n",
       "      <td>3.2</td>\n",
       "      <td>1.3</td>\n",
       "      <td>0.2</td>\n",
       "      <td>setosa</td>\n",
       "    </tr>\n",
       "  </tbody>\n",
       "</table>\n",
       "</div>"
      ],
      "text/plain": [
       "   sepal_length  sepal_width  petal_length  petal_width species\n",
       "1           5.1          3.5           1.4          0.2  setosa\n",
       "2           4.9          3.0           1.4          0.2  setosa\n",
       "3           4.7          3.2           1.3          0.2  setosa"
      ]
     },
     "execution_count": 10,
     "metadata": {},
     "output_type": "execute_result"
    }
   ],
   "source": [
    "# You might want to clean up the column names at this point. Up to you.\n",
    "\n",
    "df_iris.columns = df_iris.columns.str.replace('.', '_').str.lower()\n",
    "df_iris.head(3)"
   ]
  },
  {
   "cell_type": "code",
   "execution_count": 11,
   "metadata": {},
   "outputs": [
    {
     "data": {
      "text/plain": [
       "['sepal_length', 'sepal_width', 'petal_length', 'petal_width', 'species']"
      ]
     },
     "execution_count": 11,
     "metadata": {},
     "output_type": "execute_result"
    }
   ],
   "source": [
    "# This is a nice way to get the column names in a list, but you could do df_iris.columns alone, too.\n",
    "\n",
    "df_iris.columns.tolist()"
   ]
  },
  {
   "cell_type": "markdown",
   "metadata": {},
   "source": [
    "### Print the data type of each column"
   ]
  },
  {
   "cell_type": "code",
   "execution_count": 12,
   "metadata": {},
   "outputs": [
    {
     "name": "stdout",
     "output_type": "stream",
     "text": [
      "<class 'pandas.core.frame.DataFrame'>\n",
      "Int64Index: 150 entries, 1 to 150\n",
      "Data columns (total 5 columns):\n",
      "sepal_length    150 non-null float64\n",
      "sepal_width     150 non-null float64\n",
      "petal_length    150 non-null float64\n",
      "petal_width     150 non-null float64\n",
      "species         150 non-null object\n",
      "dtypes: float64(4), object(1)\n",
      "memory usage: 7.0+ KB\n"
     ]
    }
   ],
   "source": [
    "df_iris.info()"
   ]
  },
  {
   "cell_type": "code",
   "execution_count": 13,
   "metadata": {},
   "outputs": [
    {
     "data": {
      "text/plain": [
       "sepal_length    float64\n",
       "sepal_width     float64\n",
       "petal_length    float64\n",
       "petal_width     float64\n",
       "species          object\n",
       "dtype: object"
      ]
     },
     "execution_count": 13,
     "metadata": {},
     "output_type": "execute_result"
    }
   ],
   "source": [
    "df_iris.dtypes"
   ]
  },
  {
   "cell_type": "markdown",
   "metadata": {},
   "source": [
    "### Print the summary statistics for each of the numeric variables. \n",
    "\n",
    "**Would you recommend rescaling the data based on these statistics?**\n",
    "\n",
    "**<font color=purple>- In the documentation, we see that all of the numeric columns are measured in cm, so I don't see a reason that we would need to rescale the df.</font>**"
   ]
  },
  {
   "cell_type": "code",
   "execution_count": 14,
   "metadata": {},
   "outputs": [
    {
     "data": {
      "text/html": [
       "<div>\n",
       "<style scoped>\n",
       "    .dataframe tbody tr th:only-of-type {\n",
       "        vertical-align: middle;\n",
       "    }\n",
       "\n",
       "    .dataframe tbody tr th {\n",
       "        vertical-align: top;\n",
       "    }\n",
       "\n",
       "    .dataframe thead th {\n",
       "        text-align: right;\n",
       "    }\n",
       "</style>\n",
       "<table border=\"1\" class=\"dataframe\">\n",
       "  <thead>\n",
       "    <tr style=\"text-align: right;\">\n",
       "      <th></th>\n",
       "      <th>sepal_length</th>\n",
       "      <th>sepal_width</th>\n",
       "      <th>petal_length</th>\n",
       "      <th>petal_width</th>\n",
       "    </tr>\n",
       "  </thead>\n",
       "  <tbody>\n",
       "    <tr>\n",
       "      <td>count</td>\n",
       "      <td>150.000000</td>\n",
       "      <td>150.000000</td>\n",
       "      <td>150.000000</td>\n",
       "      <td>150.000000</td>\n",
       "    </tr>\n",
       "    <tr>\n",
       "      <td>mean</td>\n",
       "      <td>5.843333</td>\n",
       "      <td>3.057333</td>\n",
       "      <td>3.758000</td>\n",
       "      <td>1.199333</td>\n",
       "    </tr>\n",
       "    <tr>\n",
       "      <td>std</td>\n",
       "      <td>0.828066</td>\n",
       "      <td>0.435866</td>\n",
       "      <td>1.765298</td>\n",
       "      <td>0.762238</td>\n",
       "    </tr>\n",
       "    <tr>\n",
       "      <td>min</td>\n",
       "      <td>4.300000</td>\n",
       "      <td>2.000000</td>\n",
       "      <td>1.000000</td>\n",
       "      <td>0.100000</td>\n",
       "    </tr>\n",
       "    <tr>\n",
       "      <td>25%</td>\n",
       "      <td>5.100000</td>\n",
       "      <td>2.800000</td>\n",
       "      <td>1.600000</td>\n",
       "      <td>0.300000</td>\n",
       "    </tr>\n",
       "    <tr>\n",
       "      <td>50%</td>\n",
       "      <td>5.800000</td>\n",
       "      <td>3.000000</td>\n",
       "      <td>4.350000</td>\n",
       "      <td>1.300000</td>\n",
       "    </tr>\n",
       "    <tr>\n",
       "      <td>75%</td>\n",
       "      <td>6.400000</td>\n",
       "      <td>3.300000</td>\n",
       "      <td>5.100000</td>\n",
       "      <td>1.800000</td>\n",
       "    </tr>\n",
       "    <tr>\n",
       "      <td>max</td>\n",
       "      <td>7.900000</td>\n",
       "      <td>4.400000</td>\n",
       "      <td>6.900000</td>\n",
       "      <td>2.500000</td>\n",
       "    </tr>\n",
       "  </tbody>\n",
       "</table>\n",
       "</div>"
      ],
      "text/plain": [
       "       sepal_length  sepal_width  petal_length  petal_width\n",
       "count    150.000000   150.000000    150.000000   150.000000\n",
       "mean       5.843333     3.057333      3.758000     1.199333\n",
       "std        0.828066     0.435866      1.765298     0.762238\n",
       "min        4.300000     2.000000      1.000000     0.100000\n",
       "25%        5.100000     2.800000      1.600000     0.300000\n",
       "50%        5.800000     3.000000      4.350000     1.300000\n",
       "75%        6.400000     3.300000      5.100000     1.800000\n",
       "max        7.900000     4.400000      6.900000     2.500000"
      ]
     },
     "execution_count": 14,
     "metadata": {},
     "output_type": "execute_result"
    }
   ],
   "source": [
    "df_iris.describe()"
   ]
  },
  {
   "cell_type": "markdown",
   "metadata": {},
   "source": [
    "### We can get the Iris dataset from other sources as well...\n",
    "\n",
    "**<font color=purple>For example, from Seaborn</font>**"
   ]
  },
  {
   "cell_type": "code",
   "execution_count": 15,
   "metadata": {},
   "outputs": [
    {
     "data": {
      "text/html": [
       "<div>\n",
       "<style scoped>\n",
       "    .dataframe tbody tr th:only-of-type {\n",
       "        vertical-align: middle;\n",
       "    }\n",
       "\n",
       "    .dataframe tbody tr th {\n",
       "        vertical-align: top;\n",
       "    }\n",
       "\n",
       "    .dataframe thead th {\n",
       "        text-align: right;\n",
       "    }\n",
       "</style>\n",
       "<table border=\"1\" class=\"dataframe\">\n",
       "  <thead>\n",
       "    <tr style=\"text-align: right;\">\n",
       "      <th></th>\n",
       "      <th>sepal_length</th>\n",
       "      <th>sepal_width</th>\n",
       "      <th>petal_length</th>\n",
       "      <th>petal_width</th>\n",
       "      <th>species</th>\n",
       "    </tr>\n",
       "  </thead>\n",
       "  <tbody>\n",
       "    <tr>\n",
       "      <td>0</td>\n",
       "      <td>5.1</td>\n",
       "      <td>3.5</td>\n",
       "      <td>1.4</td>\n",
       "      <td>0.2</td>\n",
       "      <td>setosa</td>\n",
       "    </tr>\n",
       "    <tr>\n",
       "      <td>1</td>\n",
       "      <td>4.9</td>\n",
       "      <td>3.0</td>\n",
       "      <td>1.4</td>\n",
       "      <td>0.2</td>\n",
       "      <td>setosa</td>\n",
       "    </tr>\n",
       "    <tr>\n",
       "      <td>2</td>\n",
       "      <td>4.7</td>\n",
       "      <td>3.2</td>\n",
       "      <td>1.3</td>\n",
       "      <td>0.2</td>\n",
       "      <td>setosa</td>\n",
       "    </tr>\n",
       "  </tbody>\n",
       "</table>\n",
       "</div>"
      ],
      "text/plain": [
       "   sepal_length  sepal_width  petal_length  petal_width species\n",
       "0           5.1          3.5           1.4          0.2  setosa\n",
       "1           4.9          3.0           1.4          0.2  setosa\n",
       "2           4.7          3.2           1.3          0.2  setosa"
      ]
     },
     "execution_count": 15,
     "metadata": {},
     "output_type": "execute_result"
    }
   ],
   "source": [
    "# Using Seaborn Datasets\n",
    "\n",
    "iris = sns.load_dataset('iris')\n",
    "iris.head(3)"
   ]
  },
  {
   "cell_type": "markdown",
   "metadata": {},
   "source": [
    "**<font color=purple>From Sklearn you can get a dictionary-like object with the data ready to use in a DataFrame.</font>**"
   ]
  },
  {
   "cell_type": "code",
   "execution_count": 16,
   "metadata": {},
   "outputs": [
    {
     "data": {
      "text/plain": [
       "sklearn.utils.Bunch"
      ]
     },
     "execution_count": 16,
     "metadata": {},
     "output_type": "execute_result"
    }
   ],
   "source": [
    "# Using Sklearn Datasets, dictionary-like object\n",
    "\n",
    "from sklearn import datasets\n",
    "\n",
    "iris = datasets.load_iris()\n",
    "type(iris)"
   ]
  },
  {
   "cell_type": "code",
   "execution_count": 17,
   "metadata": {},
   "outputs": [
    {
     "data": {
      "text/plain": [
       "dict_keys(['data', 'target', 'target_names', 'DESCR', 'feature_names', 'filename'])"
      ]
     },
     "execution_count": 17,
     "metadata": {},
     "output_type": "execute_result"
    }
   ],
   "source": [
    "iris.keys()"
   ]
  },
  {
   "cell_type": "code",
   "execution_count": 19,
   "metadata": {},
   "outputs": [
    {
     "data": {
      "text/html": [
       "<div>\n",
       "<style scoped>\n",
       "    .dataframe tbody tr th:only-of-type {\n",
       "        vertical-align: middle;\n",
       "    }\n",
       "\n",
       "    .dataframe tbody tr th {\n",
       "        vertical-align: top;\n",
       "    }\n",
       "\n",
       "    .dataframe thead th {\n",
       "        text-align: right;\n",
       "    }\n",
       "</style>\n",
       "<table border=\"1\" class=\"dataframe\">\n",
       "  <thead>\n",
       "    <tr style=\"text-align: right;\">\n",
       "      <th></th>\n",
       "      <th>sepal length (cm)</th>\n",
       "      <th>sepal width (cm)</th>\n",
       "      <th>petal length (cm)</th>\n",
       "      <th>petal width (cm)</th>\n",
       "    </tr>\n",
       "  </thead>\n",
       "  <tbody>\n",
       "    <tr>\n",
       "      <td>0</td>\n",
       "      <td>5.1</td>\n",
       "      <td>3.5</td>\n",
       "      <td>1.4</td>\n",
       "      <td>0.2</td>\n",
       "    </tr>\n",
       "    <tr>\n",
       "      <td>1</td>\n",
       "      <td>4.9</td>\n",
       "      <td>3.0</td>\n",
       "      <td>1.4</td>\n",
       "      <td>0.2</td>\n",
       "    </tr>\n",
       "    <tr>\n",
       "      <td>2</td>\n",
       "      <td>4.7</td>\n",
       "      <td>3.2</td>\n",
       "      <td>1.3</td>\n",
       "      <td>0.2</td>\n",
       "    </tr>\n",
       "  </tbody>\n",
       "</table>\n",
       "</div>"
      ],
      "text/plain": [
       "   sepal length (cm)  sepal width (cm)  petal length (cm)  petal width (cm)\n",
       "0                5.1               3.5                1.4               0.2\n",
       "1                4.9               3.0                1.4               0.2\n",
       "2                4.7               3.2                1.3               0.2"
      ]
     },
     "execution_count": 19,
     "metadata": {},
     "output_type": "execute_result"
    }
   ],
   "source": [
    "# Create the DataFrame using 'data' and name the columns using 'feature_names'\n",
    "\n",
    "iris_df = pd.DataFrame(iris.data, columns=iris.feature_names)\n",
    "iris_df.head(3)"
   ]
  },
  {
   "cell_type": "code",
   "execution_count": 20,
   "metadata": {},
   "outputs": [
    {
     "data": {
      "text/html": [
       "<div>\n",
       "<style scoped>\n",
       "    .dataframe tbody tr th:only-of-type {\n",
       "        vertical-align: middle;\n",
       "    }\n",
       "\n",
       "    .dataframe tbody tr th {\n",
       "        vertical-align: top;\n",
       "    }\n",
       "\n",
       "    .dataframe thead th {\n",
       "        text-align: right;\n",
       "    }\n",
       "</style>\n",
       "<table border=\"1\" class=\"dataframe\">\n",
       "  <thead>\n",
       "    <tr style=\"text-align: right;\">\n",
       "      <th></th>\n",
       "      <th>sepal length (cm)</th>\n",
       "      <th>sepal width (cm)</th>\n",
       "      <th>petal length (cm)</th>\n",
       "      <th>petal width (cm)</th>\n",
       "      <th>species</th>\n",
       "    </tr>\n",
       "  </thead>\n",
       "  <tbody>\n",
       "    <tr>\n",
       "      <td>0</td>\n",
       "      <td>5.1</td>\n",
       "      <td>3.5</td>\n",
       "      <td>1.4</td>\n",
       "      <td>0.2</td>\n",
       "      <td>0</td>\n",
       "    </tr>\n",
       "    <tr>\n",
       "      <td>1</td>\n",
       "      <td>4.9</td>\n",
       "      <td>3.0</td>\n",
       "      <td>1.4</td>\n",
       "      <td>0.2</td>\n",
       "      <td>0</td>\n",
       "    </tr>\n",
       "    <tr>\n",
       "      <td>2</td>\n",
       "      <td>4.7</td>\n",
       "      <td>3.2</td>\n",
       "      <td>1.3</td>\n",
       "      <td>0.2</td>\n",
       "      <td>0</td>\n",
       "    </tr>\n",
       "  </tbody>\n",
       "</table>\n",
       "</div>"
      ],
      "text/plain": [
       "   sepal length (cm)  sepal width (cm)  petal length (cm)  petal width (cm)  \\\n",
       "0                5.1               3.5                1.4               0.2   \n",
       "1                4.9               3.0                1.4               0.2   \n",
       "2                4.7               3.2                1.3               0.2   \n",
       "\n",
       "   species  \n",
       "0        0  \n",
       "1        0  \n",
       "2        0  "
      ]
     },
     "execution_count": 20,
     "metadata": {},
     "output_type": "execute_result"
    }
   ],
   "source": [
    "# Add the target variable, species, using 'target'. Here we get our target as a number!\n",
    "\n",
    "iris_df['species'] = iris.target\n",
    "iris_df.head(3)"
   ]
  },
  {
   "cell_type": "code",
   "execution_count": 28,
   "metadata": {},
   "outputs": [
    {
     "data": {
      "text/plain": [
       "['sepal_length', 'sepal_width', 'petal_length', 'petal_width', 'species']"
      ]
     },
     "execution_count": 28,
     "metadata": {},
     "output_type": "execute_result"
    }
   ],
   "source": [
    "# You may want to clean up the column names, but you may want to leave them intact for use in viz\n",
    "\n",
    "iris_df.columns = iris_df.columns.str.replace(' \\(cm\\)', '').str.replace(' ', '_')\n",
    "iris_df.columns.tolist()"
   ]
  },
  {
   "cell_type": "markdown",
   "metadata": {},
   "source": [
    "**Other Seaborn Datasets you can use are linked [here](https://github.com/mwaskom/seaborn-data)**\n",
    "\n",
    "**More on sklearn dataset loading utilities [here](https://scikit-learn.org/stable/datasets/index.html)**"
   ]
  },
  {
   "cell_type": "markdown",
   "metadata": {},
   "source": [
    "## Read Table1_CustDetails the excel module dataset, Excel_Exercises.xlsx, into a dataframe, df_excel"
   ]
  },
  {
   "cell_type": "code",
   "execution_count": 98,
   "metadata": {},
   "outputs": [
    {
     "data": {
      "text/html": [
       "<div>\n",
       "<style scoped>\n",
       "    .dataframe tbody tr th:only-of-type {\n",
       "        vertical-align: middle;\n",
       "    }\n",
       "\n",
       "    .dataframe tbody tr th {\n",
       "        vertical-align: top;\n",
       "    }\n",
       "\n",
       "    .dataframe thead th {\n",
       "        text-align: right;\n",
       "    }\n",
       "</style>\n",
       "<table border=\"1\" class=\"dataframe\">\n",
       "  <thead>\n",
       "    <tr style=\"text-align: right;\">\n",
       "      <th></th>\n",
       "      <th>customer_id</th>\n",
       "      <th>gender</th>\n",
       "      <th>is_senior_citizen</th>\n",
       "      <th>partner</th>\n",
       "      <th>dependents</th>\n",
       "      <th>phone_service</th>\n",
       "      <th>internet_service</th>\n",
       "      <th>contract_type</th>\n",
       "      <th>payment_type</th>\n",
       "      <th>monthly_charges</th>\n",
       "      <th>total_charges</th>\n",
       "      <th>tenure</th>\n",
       "      <th>churn</th>\n",
       "    </tr>\n",
       "  </thead>\n",
       "  <tbody>\n",
       "    <tr>\n",
       "      <td>0</td>\n",
       "      <td>7569-NMZYQ</td>\n",
       "      <td>Female</td>\n",
       "      <td>0</td>\n",
       "      <td>Yes</td>\n",
       "      <td>Yes</td>\n",
       "      <td>2</td>\n",
       "      <td>2</td>\n",
       "      <td>2</td>\n",
       "      <td>Bank transfer (automatic)</td>\n",
       "      <td>118.75</td>\n",
       "      <td>8672.45</td>\n",
       "      <td>73.031158</td>\n",
       "      <td>No</td>\n",
       "    </tr>\n",
       "    <tr>\n",
       "      <td>1</td>\n",
       "      <td>8984-HPEMB</td>\n",
       "      <td>Female</td>\n",
       "      <td>0</td>\n",
       "      <td>No</td>\n",
       "      <td>No</td>\n",
       "      <td>2</td>\n",
       "      <td>2</td>\n",
       "      <td>2</td>\n",
       "      <td>Electronic check</td>\n",
       "      <td>118.65</td>\n",
       "      <td>8477.60</td>\n",
       "      <td>71.450485</td>\n",
       "      <td>No</td>\n",
       "    </tr>\n",
       "    <tr>\n",
       "      <td>2</td>\n",
       "      <td>5734-EJKXG</td>\n",
       "      <td>Female</td>\n",
       "      <td>0</td>\n",
       "      <td>No</td>\n",
       "      <td>No</td>\n",
       "      <td>2</td>\n",
       "      <td>2</td>\n",
       "      <td>1</td>\n",
       "      <td>Electronic check</td>\n",
       "      <td>118.60</td>\n",
       "      <td>7365.70</td>\n",
       "      <td>62.105396</td>\n",
       "      <td>No</td>\n",
       "    </tr>\n",
       "  </tbody>\n",
       "</table>\n",
       "</div>"
      ],
      "text/plain": [
       "  customer_id  gender  is_senior_citizen partner dependents  phone_service  \\\n",
       "0  7569-NMZYQ  Female                  0     Yes        Yes              2   \n",
       "1  8984-HPEMB  Female                  0      No         No              2   \n",
       "2  5734-EJKXG  Female                  0      No         No              2   \n",
       "\n",
       "   internet_service  contract_type               payment_type  \\\n",
       "0                 2              2  Bank transfer (automatic)   \n",
       "1                 2              2           Electronic check   \n",
       "2                 2              1           Electronic check   \n",
       "\n",
       "   monthly_charges  total_charges     tenure churn  \n",
       "0           118.75        8672.45  73.031158    No  \n",
       "1           118.65        8477.60  71.450485    No  \n",
       "2           118.60        7365.70  62.105396    No  "
      ]
     },
     "execution_count": 98,
     "metadata": {},
     "output_type": "execute_result"
    }
   ],
   "source": [
    "customers_df = pd.read_excel('my_telco_churn.xlsx', sheet_name='Table2_CustDetails')\n",
    "customers_df.head(3)"
   ]
  },
  {
   "cell_type": "markdown",
   "metadata": {},
   "source": [
    "### Assign the first 100 rows to a new dataframe, df_excel_sample"
   ]
  },
  {
   "cell_type": "code",
   "execution_count": 99,
   "metadata": {},
   "outputs": [
    {
     "data": {
      "text/plain": [
       "(100, 13)"
      ]
     },
     "execution_count": 99,
     "metadata": {},
     "output_type": "execute_result"
    }
   ],
   "source": [
    "df_excel_sample = customers_df.head(100)\n",
    "df_excel_sample.shape"
   ]
  },
  {
   "cell_type": "markdown",
   "metadata": {},
   "source": [
    "### Print the number of rows of your original dataframe"
   ]
  },
  {
   "cell_type": "code",
   "execution_count": 100,
   "metadata": {},
   "outputs": [
    {
     "data": {
      "text/plain": [
       "7049"
      ]
     },
     "execution_count": 100,
     "metadata": {},
     "output_type": "execute_result"
    }
   ],
   "source": [
    "customers_df.shape[0]"
   ]
  },
  {
   "cell_type": "markdown",
   "metadata": {},
   "source": [
    "### Print the first 5 column names"
   ]
  },
  {
   "cell_type": "code",
   "execution_count": 101,
   "metadata": {},
   "outputs": [
    {
     "data": {
      "text/plain": [
       "['customer_id', 'gender', 'is_senior_citizen', 'partner', 'dependents']"
      ]
     },
     "execution_count": 101,
     "metadata": {},
     "output_type": "execute_result"
    }
   ],
   "source": [
    "customers_df.columns.tolist()[:5]"
   ]
  },
  {
   "cell_type": "markdown",
   "metadata": {},
   "source": [
    "###  Print the column names that have a data type of object"
   ]
  },
  {
   "cell_type": "code",
   "execution_count": 102,
   "metadata": {
    "scrolled": true
   },
   "outputs": [
    {
     "name": "stdout",
     "output_type": "stream",
     "text": [
      "<class 'pandas.core.frame.DataFrame'>\n",
      "RangeIndex: 7049 entries, 0 to 7048\n",
      "Data columns (total 13 columns):\n",
      "customer_id          7043 non-null object\n",
      "gender               7049 non-null object\n",
      "is_senior_citizen    7049 non-null int64\n",
      "partner              7049 non-null object\n",
      "dependents           7049 non-null object\n",
      "phone_service        7049 non-null int64\n",
      "internet_service     7049 non-null int64\n",
      "contract_type        7049 non-null int64\n",
      "payment_type         7049 non-null object\n",
      "monthly_charges      7049 non-null float64\n",
      "total_charges        7038 non-null float64\n",
      "tenure               7049 non-null float64\n",
      "churn                7049 non-null object\n",
      "dtypes: float64(3), int64(4), object(6)\n",
      "memory usage: 716.0+ KB\n"
     ]
    }
   ],
   "source": [
    "customers_df.info()"
   ]
  },
  {
   "cell_type": "code",
   "execution_count": 103,
   "metadata": {},
   "outputs": [
    {
     "name": "stdout",
     "output_type": "stream",
     "text": [
      "customer_id\n",
      "gender\n",
      "partner\n",
      "dependents\n",
      "payment_type\n",
      "churn\n"
     ]
    }
   ],
   "source": [
    "for col in customers_df:\n",
    "    if customers_df[col].dtype == 'O':\n",
    "        print(col)"
   ]
  },
  {
   "cell_type": "code",
   "execution_count": 91,
   "metadata": {},
   "outputs": [
    {
     "data": {
      "text/plain": [
       "['customer_id',\n",
       " 'gender',\n",
       " 'partner',\n",
       " 'dependents',\n",
       " 'phone_desc',\n",
       " 'internet_desc',\n",
       " 'contract_desc',\n",
       " 'payment_type',\n",
       " 'churn']"
      ]
     },
     "execution_count": 91,
     "metadata": {},
     "output_type": "execute_result"
    }
   ],
   "source": [
    "# Leave the loops in the 80s and do it with a list comprehension!\n",
    "\n",
    "[col for col in customers_df if customers_df[col].dtype == 'O']"
   ]
  },
  {
   "cell_type": "code",
   "execution_count": 90,
   "metadata": {},
   "outputs": [
    {
     "data": {
      "text/plain": [
       "['customer_id',\n",
       " 'gender',\n",
       " 'partner',\n",
       " 'dependents',\n",
       " 'phone_desc',\n",
       " 'internet_desc',\n",
       " 'contract_desc',\n",
       " 'payment_type',\n",
       " 'churn']"
      ]
     },
     "execution_count": 90,
     "metadata": {},
     "output_type": "execute_result"
    }
   ],
   "source": [
    "# .select_dtypes(object) works on the whole df\n",
    "\n",
    "customers_df.select_dtypes(object).columns.tolist()"
   ]
  },
  {
   "cell_type": "markdown",
   "metadata": {},
   "source": [
    "### Compute the range for each of the numeric variables."
   ]
  },
  {
   "cell_type": "code",
   "execution_count": 92,
   "metadata": {},
   "outputs": [
    {
     "data": {
      "text/html": [
       "<div>\n",
       "<style scoped>\n",
       "    .dataframe tbody tr th:only-of-type {\n",
       "        vertical-align: middle;\n",
       "    }\n",
       "\n",
       "    .dataframe tbody tr th {\n",
       "        vertical-align: top;\n",
       "    }\n",
       "\n",
       "    .dataframe thead th {\n",
       "        text-align: right;\n",
       "    }\n",
       "</style>\n",
       "<table border=\"1\" class=\"dataframe\">\n",
       "  <thead>\n",
       "    <tr style=\"text-align: right;\">\n",
       "      <th></th>\n",
       "      <th>customer_id</th>\n",
       "      <th>gender</th>\n",
       "      <th>is_senior_citizen</th>\n",
       "      <th>partner</th>\n",
       "      <th>dependents</th>\n",
       "      <th>partner_dependents</th>\n",
       "      <th>phone_desc</th>\n",
       "      <th>phone_service</th>\n",
       "      <th>internet_desc</th>\n",
       "      <th>internet_service</th>\n",
       "      <th>...</th>\n",
       "      <th>avg_monthly_charges</th>\n",
       "      <th>charges_correct</th>\n",
       "      <th>today</th>\n",
       "      <th>tenure_in_days</th>\n",
       "      <th>start_date</th>\n",
       "      <th>is_female</th>\n",
       "      <th>has_churned</th>\n",
       "      <th>has_phone</th>\n",
       "      <th>has_internet</th>\n",
       "      <th>churn</th>\n",
       "    </tr>\n",
       "  </thead>\n",
       "  <tbody>\n",
       "    <tr>\n",
       "      <td>0</td>\n",
       "      <td>3217-FZDMN</td>\n",
       "      <td>Female</td>\n",
       "      <td>1</td>\n",
       "      <td>No</td>\n",
       "      <td>No</td>\n",
       "      <td>0</td>\n",
       "      <td>One Line</td>\n",
       "      <td>1</td>\n",
       "      <td>Fiber Optic</td>\n",
       "      <td>2</td>\n",
       "      <td>...</td>\n",
       "      <td>94.45</td>\n",
       "      <td>1.0</td>\n",
       "      <td>43705</td>\n",
       "      <td>239</td>\n",
       "      <td>43466</td>\n",
       "      <td>True</td>\n",
       "      <td>True</td>\n",
       "      <td>True</td>\n",
       "      <td>True</td>\n",
       "      <td>Yes</td>\n",
       "    </tr>\n",
       "  </tbody>\n",
       "</table>\n",
       "<p>1 rows × 29 columns</p>\n",
       "</div>"
      ],
      "text/plain": [
       "  customer_id  gender  is_senior_citizen partner dependents  \\\n",
       "0  3217-FZDMN  Female                  1      No         No   \n",
       "\n",
       "   partner_dependents phone_desc  phone_service internet_desc  \\\n",
       "0                   0   One Line              1   Fiber Optic   \n",
       "\n",
       "   internet_service  ...  avg_monthly_charges  charges_correct  today  \\\n",
       "0                 2  ...                94.45              1.0  43705   \n",
       "\n",
       "  tenure_in_days  start_date is_female  has_churned  has_phone  has_internet  \\\n",
       "0            239       43466      True         True       True          True   \n",
       "\n",
       "   churn  \n",
       "0    Yes  \n",
       "\n",
       "[1 rows x 29 columns]"
      ]
     },
     "execution_count": 92,
     "metadata": {},
     "output_type": "execute_result"
    }
   ],
   "source": [
    "customers_df.head(1)"
   ]
  },
  {
   "cell_type": "code",
   "execution_count": 97,
   "metadata": {},
   "outputs": [
    {
     "data": {
      "text/html": [
       "<div>\n",
       "<style scoped>\n",
       "    .dataframe tbody tr th:only-of-type {\n",
       "        vertical-align: middle;\n",
       "    }\n",
       "\n",
       "    .dataframe tbody tr th {\n",
       "        vertical-align: top;\n",
       "    }\n",
       "\n",
       "    .dataframe thead th {\n",
       "        text-align: right;\n",
       "    }\n",
       "</style>\n",
       "<table border=\"1\" class=\"dataframe\">\n",
       "  <thead>\n",
       "    <tr style=\"text-align: right;\">\n",
       "      <th></th>\n",
       "      <th>partner_dependents</th>\n",
       "      <th>monthly_charges</th>\n",
       "      <th>total_charges</th>\n",
       "      <th>tenure</th>\n",
       "      <th>avg_monthly_charges</th>\n",
       "      <th>today</th>\n",
       "      <th>tenure_in_days</th>\n",
       "      <th>start_date</th>\n",
       "    </tr>\n",
       "  </thead>\n",
       "  <tbody>\n",
       "    <tr>\n",
       "      <td>count</td>\n",
       "      <td>7044.000000</td>\n",
       "      <td>7044.000000</td>\n",
       "      <td>7033.00000</td>\n",
       "      <td>7044.000000</td>\n",
       "      <td>7033.000000</td>\n",
       "      <td>7044.0</td>\n",
       "      <td>7044.000000</td>\n",
       "      <td>7044.000000</td>\n",
       "    </tr>\n",
       "    <tr>\n",
       "      <td>mean</td>\n",
       "      <td>1.083191</td>\n",
       "      <td>64.747913</td>\n",
       "      <td>2283.09658</td>\n",
       "      <td>32.378946</td>\n",
       "      <td>64.784402</td>\n",
       "      <td>43705.0</td>\n",
       "      <td>984.288756</td>\n",
       "      <td>42720.711244</td>\n",
       "    </tr>\n",
       "    <tr>\n",
       "      <td>std</td>\n",
       "      <td>1.226757</td>\n",
       "      <td>30.108356</td>\n",
       "      <td>2266.86146</td>\n",
       "      <td>24.593839</td>\n",
       "      <td>30.104331</td>\n",
       "      <td>0.0</td>\n",
       "      <td>747.696079</td>\n",
       "      <td>747.696079</td>\n",
       "    </tr>\n",
       "    <tr>\n",
       "      <td>min</td>\n",
       "      <td>0.000000</td>\n",
       "      <td>18.250000</td>\n",
       "      <td>18.80000</td>\n",
       "      <td>0.000000</td>\n",
       "      <td>18.250000</td>\n",
       "      <td>43705.0</td>\n",
       "      <td>0.000000</td>\n",
       "      <td>41293.000000</td>\n",
       "    </tr>\n",
       "    <tr>\n",
       "      <td>25%</td>\n",
       "      <td>0.000000</td>\n",
       "      <td>35.450000</td>\n",
       "      <td>401.50000</td>\n",
       "      <td>8.725343</td>\n",
       "      <td>35.500000</td>\n",
       "      <td>43705.0</td>\n",
       "      <td>265.000000</td>\n",
       "      <td>42026.000000</td>\n",
       "    </tr>\n",
       "    <tr>\n",
       "      <td>50%</td>\n",
       "      <td>1.000000</td>\n",
       "      <td>70.350000</td>\n",
       "      <td>1396.90000</td>\n",
       "      <td>28.714373</td>\n",
       "      <td>70.350000</td>\n",
       "      <td>43705.0</td>\n",
       "      <td>873.000000</td>\n",
       "      <td>42832.000000</td>\n",
       "    </tr>\n",
       "    <tr>\n",
       "      <td>75%</td>\n",
       "      <td>2.000000</td>\n",
       "      <td>89.850000</td>\n",
       "      <td>3794.50000</td>\n",
       "      <td>55.226148</td>\n",
       "      <td>89.900000</td>\n",
       "      <td>43705.0</td>\n",
       "      <td>1679.000000</td>\n",
       "      <td>43440.000000</td>\n",
       "    </tr>\n",
       "    <tr>\n",
       "      <td>max</td>\n",
       "      <td>3.000000</td>\n",
       "      <td>118.750000</td>\n",
       "      <td>8684.80000</td>\n",
       "      <td>79.341772</td>\n",
       "      <td>118.750000</td>\n",
       "      <td>43705.0</td>\n",
       "      <td>2412.000000</td>\n",
       "      <td>43705.000000</td>\n",
       "    </tr>\n",
       "  </tbody>\n",
       "</table>\n",
       "</div>"
      ],
      "text/plain": [
       "       partner_dependents  monthly_charges  total_charges       tenure  \\\n",
       "count         7044.000000      7044.000000     7033.00000  7044.000000   \n",
       "mean             1.083191        64.747913     2283.09658    32.378946   \n",
       "std              1.226757        30.108356     2266.86146    24.593839   \n",
       "min              0.000000        18.250000       18.80000     0.000000   \n",
       "25%              0.000000        35.450000      401.50000     8.725343   \n",
       "50%              1.000000        70.350000     1396.90000    28.714373   \n",
       "75%              2.000000        89.850000     3794.50000    55.226148   \n",
       "max              3.000000       118.750000     8684.80000    79.341772   \n",
       "\n",
       "       avg_monthly_charges    today  tenure_in_days    start_date  \n",
       "count          7033.000000   7044.0     7044.000000   7044.000000  \n",
       "mean             64.784402  43705.0      984.288756  42720.711244  \n",
       "std              30.104331      0.0      747.696079    747.696079  \n",
       "min              18.250000  43705.0        0.000000  41293.000000  \n",
       "25%              35.500000  43705.0      265.000000  42026.000000  \n",
       "50%              70.350000  43705.0      873.000000  42832.000000  \n",
       "75%              89.900000  43705.0     1679.000000  43440.000000  \n",
       "max             118.750000  43705.0     2412.000000  43705.000000  "
      ]
     },
     "execution_count": 97,
     "metadata": {},
     "output_type": "execute_result"
    }
   ],
   "source": [
    "customers_df.select_dtypes(['int64', 'float64']).describe()"
   ]
  },
  {
   "cell_type": "markdown",
   "metadata": {},
   "source": [
    "## Read the data from this google sheet into a dataframe, df_google"
   ]
  },
  {
   "cell_type": "code",
   "execution_count": 29,
   "metadata": {},
   "outputs": [],
   "source": [
    "sheet_url = 'https://docs.google.com/spreadsheets/d/1Uhtml8KY19LILuZsrDtlsHHDC9wuDGUSe8LTEwvdI5g/edit#gid=341089357'"
   ]
  },
  {
   "cell_type": "code",
   "execution_count": 30,
   "metadata": {},
   "outputs": [],
   "source": [
    "csv_export_url = sheet_url.replace('/edit#gid=', '/export?format=csv&gid=')"
   ]
  },
  {
   "cell_type": "code",
   "execution_count": 31,
   "metadata": {},
   "outputs": [
    {
     "data": {
      "text/html": [
       "<div>\n",
       "<style scoped>\n",
       "    .dataframe tbody tr th:only-of-type {\n",
       "        vertical-align: middle;\n",
       "    }\n",
       "\n",
       "    .dataframe tbody tr th {\n",
       "        vertical-align: top;\n",
       "    }\n",
       "\n",
       "    .dataframe thead th {\n",
       "        text-align: right;\n",
       "    }\n",
       "</style>\n",
       "<table border=\"1\" class=\"dataframe\">\n",
       "  <thead>\n",
       "    <tr style=\"text-align: right;\">\n",
       "      <th></th>\n",
       "      <th>PassengerId</th>\n",
       "      <th>Survived</th>\n",
       "      <th>Pclass</th>\n",
       "      <th>Name</th>\n",
       "      <th>Sex</th>\n",
       "      <th>Age</th>\n",
       "      <th>SibSp</th>\n",
       "      <th>Parch</th>\n",
       "      <th>Ticket</th>\n",
       "      <th>Fare</th>\n",
       "      <th>Cabin</th>\n",
       "      <th>Embarked</th>\n",
       "    </tr>\n",
       "  </thead>\n",
       "  <tbody>\n",
       "    <tr>\n",
       "      <td>0</td>\n",
       "      <td>1</td>\n",
       "      <td>0</td>\n",
       "      <td>3</td>\n",
       "      <td>Braund, Mr. Owen Harris</td>\n",
       "      <td>male</td>\n",
       "      <td>22.0</td>\n",
       "      <td>1</td>\n",
       "      <td>0</td>\n",
       "      <td>A/5 21171</td>\n",
       "      <td>7.2500</td>\n",
       "      <td>NaN</td>\n",
       "      <td>S</td>\n",
       "    </tr>\n",
       "    <tr>\n",
       "      <td>1</td>\n",
       "      <td>2</td>\n",
       "      <td>1</td>\n",
       "      <td>1</td>\n",
       "      <td>Cumings, Mrs. John Bradley (Florence Briggs Thayer)</td>\n",
       "      <td>female</td>\n",
       "      <td>38.0</td>\n",
       "      <td>1</td>\n",
       "      <td>0</td>\n",
       "      <td>PC 17599</td>\n",
       "      <td>71.2833</td>\n",
       "      <td>C85</td>\n",
       "      <td>C</td>\n",
       "    </tr>\n",
       "    <tr>\n",
       "      <td>2</td>\n",
       "      <td>3</td>\n",
       "      <td>1</td>\n",
       "      <td>3</td>\n",
       "      <td>Heikkinen, Miss. Laina</td>\n",
       "      <td>female</td>\n",
       "      <td>26.0</td>\n",
       "      <td>0</td>\n",
       "      <td>0</td>\n",
       "      <td>STON/O2. 3101282</td>\n",
       "      <td>7.9250</td>\n",
       "      <td>NaN</td>\n",
       "      <td>S</td>\n",
       "    </tr>\n",
       "  </tbody>\n",
       "</table>\n",
       "</div>"
      ],
      "text/plain": [
       "   PassengerId  Survived  Pclass  \\\n",
       "0            1         0       3   \n",
       "1            2         1       1   \n",
       "2            3         1       3   \n",
       "\n",
       "                                                  Name     Sex   Age  SibSp  \\\n",
       "0                              Braund, Mr. Owen Harris    male  22.0      1   \n",
       "1  Cumings, Mrs. John Bradley (Florence Briggs Thayer)  female  38.0      1   \n",
       "2                               Heikkinen, Miss. Laina  female  26.0      0   \n",
       "\n",
       "   Parch            Ticket     Fare Cabin Embarked  \n",
       "0      0         A/5 21171   7.2500   NaN        S  \n",
       "1      0          PC 17599  71.2833   C85        C  \n",
       "2      0  STON/O2. 3101282   7.9250   NaN        S  "
      ]
     },
     "execution_count": 31,
     "metadata": {},
     "output_type": "execute_result"
    }
   ],
   "source": [
    "df_googlesheet = pd.read_csv(csv_export_url)"
   ]
  },
  {
   "cell_type": "markdown",
   "metadata": {},
   "source": [
    "### Print the first 3 rows"
   ]
  },
  {
   "cell_type": "code",
   "execution_count": 32,
   "metadata": {},
   "outputs": [
    {
     "data": {
      "text/html": [
       "<div>\n",
       "<style scoped>\n",
       "    .dataframe tbody tr th:only-of-type {\n",
       "        vertical-align: middle;\n",
       "    }\n",
       "\n",
       "    .dataframe tbody tr th {\n",
       "        vertical-align: top;\n",
       "    }\n",
       "\n",
       "    .dataframe thead th {\n",
       "        text-align: right;\n",
       "    }\n",
       "</style>\n",
       "<table border=\"1\" class=\"dataframe\">\n",
       "  <thead>\n",
       "    <tr style=\"text-align: right;\">\n",
       "      <th></th>\n",
       "      <th>PassengerId</th>\n",
       "      <th>Survived</th>\n",
       "      <th>Pclass</th>\n",
       "      <th>Name</th>\n",
       "      <th>Sex</th>\n",
       "      <th>Age</th>\n",
       "      <th>SibSp</th>\n",
       "      <th>Parch</th>\n",
       "      <th>Ticket</th>\n",
       "      <th>Fare</th>\n",
       "      <th>Cabin</th>\n",
       "      <th>Embarked</th>\n",
       "    </tr>\n",
       "  </thead>\n",
       "  <tbody>\n",
       "    <tr>\n",
       "      <td>0</td>\n",
       "      <td>1</td>\n",
       "      <td>0</td>\n",
       "      <td>3</td>\n",
       "      <td>Braund, Mr. Owen Harris</td>\n",
       "      <td>male</td>\n",
       "      <td>22.0</td>\n",
       "      <td>1</td>\n",
       "      <td>0</td>\n",
       "      <td>A/5 21171</td>\n",
       "      <td>7.2500</td>\n",
       "      <td>NaN</td>\n",
       "      <td>S</td>\n",
       "    </tr>\n",
       "    <tr>\n",
       "      <td>1</td>\n",
       "      <td>2</td>\n",
       "      <td>1</td>\n",
       "      <td>1</td>\n",
       "      <td>Cumings, Mrs. John Bradley (Florence Briggs Thayer)</td>\n",
       "      <td>female</td>\n",
       "      <td>38.0</td>\n",
       "      <td>1</td>\n",
       "      <td>0</td>\n",
       "      <td>PC 17599</td>\n",
       "      <td>71.2833</td>\n",
       "      <td>C85</td>\n",
       "      <td>C</td>\n",
       "    </tr>\n",
       "    <tr>\n",
       "      <td>2</td>\n",
       "      <td>3</td>\n",
       "      <td>1</td>\n",
       "      <td>3</td>\n",
       "      <td>Heikkinen, Miss. Laina</td>\n",
       "      <td>female</td>\n",
       "      <td>26.0</td>\n",
       "      <td>0</td>\n",
       "      <td>0</td>\n",
       "      <td>STON/O2. 3101282</td>\n",
       "      <td>7.9250</td>\n",
       "      <td>NaN</td>\n",
       "      <td>S</td>\n",
       "    </tr>\n",
       "  </tbody>\n",
       "</table>\n",
       "</div>"
      ],
      "text/plain": [
       "   PassengerId  Survived  Pclass  \\\n",
       "0            1         0       3   \n",
       "1            2         1       1   \n",
       "2            3         1       3   \n",
       "\n",
       "                                                  Name     Sex   Age  SibSp  \\\n",
       "0                              Braund, Mr. Owen Harris    male  22.0      1   \n",
       "1  Cumings, Mrs. John Bradley (Florence Briggs Thayer)  female  38.0      1   \n",
       "2                               Heikkinen, Miss. Laina  female  26.0      0   \n",
       "\n",
       "   Parch            Ticket     Fare Cabin Embarked  \n",
       "0      0         A/5 21171   7.2500   NaN        S  \n",
       "1      0          PC 17599  71.2833   C85        C  \n",
       "2      0  STON/O2. 3101282   7.9250   NaN        S  "
      ]
     },
     "execution_count": 32,
     "metadata": {},
     "output_type": "execute_result"
    }
   ],
   "source": [
    "df_googlesheet.head(3)"
   ]
  },
  {
   "cell_type": "markdown",
   "metadata": {},
   "source": [
    "### Print the column names"
   ]
  },
  {
   "cell_type": "code",
   "execution_count": 33,
   "metadata": {},
   "outputs": [
    {
     "data": {
      "text/plain": [
       "Index(['PassengerId', 'Survived', 'Pclass', 'Name', 'Sex', 'Age', 'SibSp',\n",
       "       'Parch', 'Ticket', 'Fare', 'Cabin', 'Embarked'],\n",
       "      dtype='object')"
      ]
     },
     "execution_count": 33,
     "metadata": {},
     "output_type": "execute_result"
    }
   ],
   "source": [
    "df_googlesheet.columns"
   ]
  },
  {
   "cell_type": "code",
   "execution_count": 34,
   "metadata": {},
   "outputs": [
    {
     "data": {
      "text/plain": [
       "['PassengerId',\n",
       " 'Survived',\n",
       " 'Pclass',\n",
       " 'Name',\n",
       " 'Sex',\n",
       " 'Age',\n",
       " 'SibSp',\n",
       " 'Parch',\n",
       " 'Ticket',\n",
       " 'Fare',\n",
       " 'Cabin',\n",
       " 'Embarked']"
      ]
     },
     "execution_count": 34,
     "metadata": {},
     "output_type": "execute_result"
    }
   ],
   "source": [
    "df_googlesheet.columns.tolist()"
   ]
  },
  {
   "cell_type": "markdown",
   "metadata": {},
   "source": [
    "### Print the data type of each column"
   ]
  },
  {
   "cell_type": "code",
   "execution_count": 35,
   "metadata": {},
   "outputs": [
    {
     "name": "stdout",
     "output_type": "stream",
     "text": [
      "<class 'pandas.core.frame.DataFrame'>\n",
      "RangeIndex: 891 entries, 0 to 890\n",
      "Data columns (total 12 columns):\n",
      "PassengerId    891 non-null int64\n",
      "Survived       891 non-null int64\n",
      "Pclass         891 non-null int64\n",
      "Name           891 non-null object\n",
      "Sex            891 non-null object\n",
      "Age            714 non-null float64\n",
      "SibSp          891 non-null int64\n",
      "Parch          891 non-null int64\n",
      "Ticket         891 non-null object\n",
      "Fare           891 non-null float64\n",
      "Cabin          204 non-null object\n",
      "Embarked       889 non-null object\n",
      "dtypes: float64(2), int64(5), object(5)\n",
      "memory usage: 83.7+ KB\n"
     ]
    }
   ],
   "source": [
    "df_googlesheet.info()"
   ]
  },
  {
   "cell_type": "code",
   "execution_count": 36,
   "metadata": {},
   "outputs": [
    {
     "data": {
      "text/plain": [
       "PassengerId      int64\n",
       "Survived         int64\n",
       "Pclass           int64\n",
       "Name            object\n",
       "Sex             object\n",
       "Age            float64\n",
       "SibSp            int64\n",
       "Parch            int64\n",
       "Ticket          object\n",
       "Fare           float64\n",
       "Cabin           object\n",
       "Embarked        object\n",
       "dtype: object"
      ]
     },
     "execution_count": 36,
     "metadata": {},
     "output_type": "execute_result"
    }
   ],
   "source": [
    "df_googlesheet.dtypes"
   ]
  },
  {
   "cell_type": "markdown",
   "metadata": {},
   "source": [
    "### Print the summary statistics for each of the numeric variables"
   ]
  },
  {
   "cell_type": "code",
   "execution_count": 37,
   "metadata": {},
   "outputs": [
    {
     "data": {
      "text/html": [
       "<div>\n",
       "<style scoped>\n",
       "    .dataframe tbody tr th:only-of-type {\n",
       "        vertical-align: middle;\n",
       "    }\n",
       "\n",
       "    .dataframe tbody tr th {\n",
       "        vertical-align: top;\n",
       "    }\n",
       "\n",
       "    .dataframe thead th {\n",
       "        text-align: right;\n",
       "    }\n",
       "</style>\n",
       "<table border=\"1\" class=\"dataframe\">\n",
       "  <thead>\n",
       "    <tr style=\"text-align: right;\">\n",
       "      <th></th>\n",
       "      <th>PassengerId</th>\n",
       "      <th>Survived</th>\n",
       "      <th>Pclass</th>\n",
       "      <th>Age</th>\n",
       "      <th>SibSp</th>\n",
       "      <th>Parch</th>\n",
       "      <th>Fare</th>\n",
       "    </tr>\n",
       "  </thead>\n",
       "  <tbody>\n",
       "    <tr>\n",
       "      <td>count</td>\n",
       "      <td>891.000000</td>\n",
       "      <td>891.000000</td>\n",
       "      <td>891.000000</td>\n",
       "      <td>714.000000</td>\n",
       "      <td>891.000000</td>\n",
       "      <td>891.000000</td>\n",
       "      <td>891.000000</td>\n",
       "    </tr>\n",
       "    <tr>\n",
       "      <td>mean</td>\n",
       "      <td>446.000000</td>\n",
       "      <td>0.383838</td>\n",
       "      <td>2.308642</td>\n",
       "      <td>29.699118</td>\n",
       "      <td>0.523008</td>\n",
       "      <td>0.381594</td>\n",
       "      <td>32.204208</td>\n",
       "    </tr>\n",
       "    <tr>\n",
       "      <td>std</td>\n",
       "      <td>257.353842</td>\n",
       "      <td>0.486592</td>\n",
       "      <td>0.836071</td>\n",
       "      <td>14.526497</td>\n",
       "      <td>1.102743</td>\n",
       "      <td>0.806057</td>\n",
       "      <td>49.693429</td>\n",
       "    </tr>\n",
       "    <tr>\n",
       "      <td>min</td>\n",
       "      <td>1.000000</td>\n",
       "      <td>0.000000</td>\n",
       "      <td>1.000000</td>\n",
       "      <td>0.420000</td>\n",
       "      <td>0.000000</td>\n",
       "      <td>0.000000</td>\n",
       "      <td>0.000000</td>\n",
       "    </tr>\n",
       "    <tr>\n",
       "      <td>25%</td>\n",
       "      <td>223.500000</td>\n",
       "      <td>0.000000</td>\n",
       "      <td>2.000000</td>\n",
       "      <td>20.125000</td>\n",
       "      <td>0.000000</td>\n",
       "      <td>0.000000</td>\n",
       "      <td>7.910400</td>\n",
       "    </tr>\n",
       "    <tr>\n",
       "      <td>50%</td>\n",
       "      <td>446.000000</td>\n",
       "      <td>0.000000</td>\n",
       "      <td>3.000000</td>\n",
       "      <td>28.000000</td>\n",
       "      <td>0.000000</td>\n",
       "      <td>0.000000</td>\n",
       "      <td>14.454200</td>\n",
       "    </tr>\n",
       "    <tr>\n",
       "      <td>75%</td>\n",
       "      <td>668.500000</td>\n",
       "      <td>1.000000</td>\n",
       "      <td>3.000000</td>\n",
       "      <td>38.000000</td>\n",
       "      <td>1.000000</td>\n",
       "      <td>0.000000</td>\n",
       "      <td>31.000000</td>\n",
       "    </tr>\n",
       "    <tr>\n",
       "      <td>max</td>\n",
       "      <td>891.000000</td>\n",
       "      <td>1.000000</td>\n",
       "      <td>3.000000</td>\n",
       "      <td>80.000000</td>\n",
       "      <td>8.000000</td>\n",
       "      <td>6.000000</td>\n",
       "      <td>512.329200</td>\n",
       "    </tr>\n",
       "  </tbody>\n",
       "</table>\n",
       "</div>"
      ],
      "text/plain": [
       "       PassengerId    Survived      Pclass         Age       SibSp  \\\n",
       "count   891.000000  891.000000  891.000000  714.000000  891.000000   \n",
       "mean    446.000000    0.383838    2.308642   29.699118    0.523008   \n",
       "std     257.353842    0.486592    0.836071   14.526497    1.102743   \n",
       "min       1.000000    0.000000    1.000000    0.420000    0.000000   \n",
       "25%     223.500000    0.000000    2.000000   20.125000    0.000000   \n",
       "50%     446.000000    0.000000    3.000000   28.000000    0.000000   \n",
       "75%     668.500000    1.000000    3.000000   38.000000    1.000000   \n",
       "max     891.000000    1.000000    3.000000   80.000000    8.000000   \n",
       "\n",
       "            Parch        Fare  \n",
       "count  891.000000  891.000000  \n",
       "mean     0.381594   32.204208  \n",
       "std      0.806057   49.693429  \n",
       "min      0.000000    0.000000  \n",
       "25%      0.000000    7.910400  \n",
       "50%      0.000000   14.454200  \n",
       "75%      0.000000   31.000000  \n",
       "max      6.000000  512.329200  "
      ]
     },
     "execution_count": 37,
     "metadata": {},
     "output_type": "execute_result"
    }
   ],
   "source": [
    "df_googlesheet.describe()"
   ]
  },
  {
   "cell_type": "markdown",
   "metadata": {},
   "source": [
    "### Print the unique values for each of your categorical variables"
   ]
  },
  {
   "cell_type": "code",
   "execution_count": 72,
   "metadata": {},
   "outputs": [
    {
     "data": {
      "text/plain": [
       "Ali, Mr. William                1\n",
       "McGowan, Miss. Anna \"Annie\"     1\n",
       "Olsen, Mr. Ole Martin           1\n",
       "McEvoy, Mr. Michael             1\n",
       "Klaber, Mr. Herman              1\n",
       "                               ..\n",
       "Allison, Miss. Helen Loraine    1\n",
       "Duran y More, Miss. Asuncion    1\n",
       "Slayter, Miss. Hilda Mary       1\n",
       "Osman, Mrs. Mara                1\n",
       "Gustafsson, Mr. Johan Birger    1\n",
       "Name: Name, Length: 891, dtype: int64"
      ]
     },
     "execution_count": 72,
     "metadata": {},
     "output_type": "execute_result"
    }
   ],
   "source": [
    "df_googlesheet.Name.value_counts(dropna=False)"
   ]
  },
  {
   "cell_type": "code",
   "execution_count": 71,
   "metadata": {},
   "outputs": [
    {
     "data": {
      "text/plain": [
       "male      577\n",
       "female    314\n",
       "Name: Sex, dtype: int64"
      ]
     },
     "execution_count": 71,
     "metadata": {},
     "output_type": "execute_result"
    }
   ],
   "source": [
    "df_googlesheet.Sex.value_counts(dropna=False)"
   ]
  },
  {
   "cell_type": "code",
   "execution_count": 73,
   "metadata": {},
   "outputs": [
    {
     "data": {
      "text/plain": [
       "1601            7\n",
       "347082          7\n",
       "CA. 2343        7\n",
       "3101295         6\n",
       "347088          6\n",
       "               ..\n",
       "3460            1\n",
       "C.A. 17248      1\n",
       "C.A. 29395      1\n",
       "F.C.C. 13531    1\n",
       "315151          1\n",
       "Name: Ticket, Length: 681, dtype: int64"
      ]
     },
     "execution_count": 73,
     "metadata": {},
     "output_type": "execute_result"
    }
   ],
   "source": [
    "df_googlesheet.Ticket.value_counts(dropna=False)"
   ]
  },
  {
   "cell_type": "code",
   "execution_count": 74,
   "metadata": {},
   "outputs": [
    {
     "data": {
      "text/plain": [
       "NaN                687\n",
       "B96 B98              4\n",
       "G6                   4\n",
       "C23 C25 C27          4\n",
       "D                    3\n",
       "F2                   3\n",
       "C22 C26              3\n",
       "F33                  3\n",
       "E101                 3\n",
       "E33                  2\n",
       "B5                   2\n",
       "D36                  2\n",
       "C65                  2\n",
       "C2                   2\n",
       "B77                  2\n",
       "C78                  2\n",
       "D17                  2\n",
       "C83                  2\n",
       "C126                 2\n",
       "B58 B60              2\n",
       "B22                  2\n",
       "B49                  2\n",
       "C125                 2\n",
       "E121                 2\n",
       "E24                  2\n",
       "B51 B53 B55          2\n",
       "B20                  2\n",
       "E8                   2\n",
       "C123                 2\n",
       "D20                  2\n",
       "C52                  2\n",
       "B18                  2\n",
       "E67                  2\n",
       "C92                  2\n",
       "B28                  2\n",
       "C93                  2\n",
       "E25                  2\n",
       "D33                  2\n",
       "C68                  2\n",
       "B35                  2\n",
       "D35                  2\n",
       "E44                  2\n",
       "B57 B59 B63 B66      2\n",
       "C124                 2\n",
       "F G73                2\n",
       "D26                  2\n",
       "F4                   2\n",
       "B38                  1\n",
       "C99                  1\n",
       "C46                  1\n",
       "A7                   1\n",
       "E12                  1\n",
       "D47                  1\n",
       "C87                  1\n",
       "C32                  1\n",
       "C85                  1\n",
       "A24                  1\n",
       "E36                  1\n",
       "D30                  1\n",
       "C103                 1\n",
       "C82                  1\n",
       "D9                   1\n",
       "B71                  1\n",
       "C110                 1\n",
       "E49                  1\n",
       "D56                  1\n",
       "D10 D12              1\n",
       "C104                 1\n",
       "E40                  1\n",
       "C45                  1\n",
       "E17                  1\n",
       "D50                  1\n",
       "E50                  1\n",
       "A19                  1\n",
       "A23                  1\n",
       "B80                  1\n",
       "D28                  1\n",
       "D19                  1\n",
       "D37                  1\n",
       "C90                  1\n",
       "B78                  1\n",
       "C70                  1\n",
       "A32                  1\n",
       "E58                  1\n",
       "E38                  1\n",
       "E77                  1\n",
       "C54                  1\n",
       "B39                  1\n",
       "C95                  1\n",
       "D7                   1\n",
       "A5                   1\n",
       "C148                 1\n",
       "A14                  1\n",
       "E63                  1\n",
       "D15                  1\n",
       "B79                  1\n",
       "D46                  1\n",
       "B69                  1\n",
       "A6                   1\n",
       "C7                   1\n",
       "B86                  1\n",
       "B101                 1\n",
       "F E69                1\n",
       "A36                  1\n",
       "B4                   1\n",
       "C128                 1\n",
       "F G63                1\n",
       "B19                  1\n",
       "E31                  1\n",
       "E10                  1\n",
       "A10                  1\n",
       "C30                  1\n",
       "D48                  1\n",
       "A31                  1\n",
       "C118                 1\n",
       "B50                  1\n",
       "B37                  1\n",
       "A34                  1\n",
       "A20                  1\n",
       "C49                  1\n",
       "C91                  1\n",
       "C101                 1\n",
       "C106                 1\n",
       "E34                  1\n",
       "C111                 1\n",
       "B30                  1\n",
       "D11                  1\n",
       "D45                  1\n",
       "C86                  1\n",
       "T                    1\n",
       "D49                  1\n",
       "D21                  1\n",
       "B73                  1\n",
       "D6                   1\n",
       "B102                 1\n",
       "E46                  1\n",
       "B82 B84              1\n",
       "A26                  1\n",
       "A16                  1\n",
       "C50                  1\n",
       "B3                   1\n",
       "C62 C64              1\n",
       "B41                  1\n",
       "C47                  1\n",
       "E68                  1\n",
       "B42                  1\n",
       "F38                  1\n",
       "B94                  1\n",
       "Name: Cabin, dtype: int64"
      ]
     },
     "execution_count": 74,
     "metadata": {},
     "output_type": "execute_result"
    }
   ],
   "source": [
    "df_googlesheet.Cabin.value_counts(dropna=False)"
   ]
  },
  {
   "cell_type": "code",
   "execution_count": 75,
   "metadata": {},
   "outputs": [
    {
     "data": {
      "text/plain": [
       "S      644\n",
       "C      168\n",
       "Q       77\n",
       "NaN      2\n",
       "Name: Embarked, dtype: int64"
      ]
     },
     "execution_count": 75,
     "metadata": {},
     "output_type": "execute_result"
    }
   ],
   "source": [
    "df_googlesheet.Embarked.value_counts(dropna=False)"
   ]
  },
  {
   "cell_type": "markdown",
   "metadata": {},
   "source": [
    "**<font color=purple>How about a quick function?</font>**"
   ]
  },
  {
   "cell_type": "code",
   "execution_count": 77,
   "metadata": {},
   "outputs": [],
   "source": [
    "def cat_uniques(df):\n",
    "    for col in df:\n",
    "        if df[col].dtype == 'O':\n",
    "            print(col)\n",
    "            print('-------------')\n",
    "            print(df[col].value_counts(dropna=False))\n",
    "            print('-------------')"
   ]
  },
  {
   "cell_type": "code",
   "execution_count": 79,
   "metadata": {},
   "outputs": [
    {
     "name": "stdout",
     "output_type": "stream",
     "text": [
      "Name\n",
      "-------------\n",
      "Ali, Mr. William                1\n",
      "McGowan, Miss. Anna \"Annie\"     1\n",
      "Olsen, Mr. Ole Martin           1\n",
      "McEvoy, Mr. Michael             1\n",
      "Klaber, Mr. Herman              1\n",
      "                               ..\n",
      "Allison, Miss. Helen Loraine    1\n",
      "Duran y More, Miss. Asuncion    1\n",
      "Slayter, Miss. Hilda Mary       1\n",
      "Osman, Mrs. Mara                1\n",
      "Gustafsson, Mr. Johan Birger    1\n",
      "Name: Name, Length: 891, dtype: int64\n",
      "-------------\n",
      "Sex\n",
      "-------------\n",
      "male      577\n",
      "female    314\n",
      "Name: Sex, dtype: int64\n",
      "-------------\n",
      "Ticket\n",
      "-------------\n",
      "1601            7\n",
      "347082          7\n",
      "CA. 2343        7\n",
      "3101295         6\n",
      "347088          6\n",
      "               ..\n",
      "3460            1\n",
      "C.A. 17248      1\n",
      "C.A. 29395      1\n",
      "F.C.C. 13531    1\n",
      "315151          1\n",
      "Name: Ticket, Length: 681, dtype: int64\n",
      "-------------\n",
      "Cabin\n",
      "-------------\n",
      "NaN                687\n",
      "B96 B98              4\n",
      "G6                   4\n",
      "C23 C25 C27          4\n",
      "D                    3\n",
      "F2                   3\n",
      "C22 C26              3\n",
      "F33                  3\n",
      "E101                 3\n",
      "E33                  2\n",
      "B5                   2\n",
      "D36                  2\n",
      "C65                  2\n",
      "C2                   2\n",
      "B77                  2\n",
      "C78                  2\n",
      "D17                  2\n",
      "C83                  2\n",
      "C126                 2\n",
      "B58 B60              2\n",
      "B22                  2\n",
      "B49                  2\n",
      "C125                 2\n",
      "E121                 2\n",
      "E24                  2\n",
      "B51 B53 B55          2\n",
      "B20                  2\n",
      "E8                   2\n",
      "C123                 2\n",
      "D20                  2\n",
      "C52                  2\n",
      "B18                  2\n",
      "E67                  2\n",
      "C92                  2\n",
      "B28                  2\n",
      "C93                  2\n",
      "E25                  2\n",
      "D33                  2\n",
      "C68                  2\n",
      "B35                  2\n",
      "D35                  2\n",
      "E44                  2\n",
      "B57 B59 B63 B66      2\n",
      "C124                 2\n",
      "F G73                2\n",
      "D26                  2\n",
      "F4                   2\n",
      "B38                  1\n",
      "C99                  1\n",
      "C46                  1\n",
      "A7                   1\n",
      "E12                  1\n",
      "D47                  1\n",
      "C87                  1\n",
      "C32                  1\n",
      "C85                  1\n",
      "A24                  1\n",
      "E36                  1\n",
      "D30                  1\n",
      "C103                 1\n",
      "C82                  1\n",
      "D9                   1\n",
      "B71                  1\n",
      "C110                 1\n",
      "E49                  1\n",
      "D56                  1\n",
      "D10 D12              1\n",
      "C104                 1\n",
      "E40                  1\n",
      "C45                  1\n",
      "E17                  1\n",
      "D50                  1\n",
      "E50                  1\n",
      "A19                  1\n",
      "A23                  1\n",
      "B80                  1\n",
      "D28                  1\n",
      "D19                  1\n",
      "D37                  1\n",
      "C90                  1\n",
      "B78                  1\n",
      "C70                  1\n",
      "A32                  1\n",
      "E58                  1\n",
      "E38                  1\n",
      "E77                  1\n",
      "C54                  1\n",
      "B39                  1\n",
      "C95                  1\n",
      "D7                   1\n",
      "A5                   1\n",
      "C148                 1\n",
      "A14                  1\n",
      "E63                  1\n",
      "D15                  1\n",
      "B79                  1\n",
      "D46                  1\n",
      "B69                  1\n",
      "A6                   1\n",
      "C7                   1\n",
      "B86                  1\n",
      "B101                 1\n",
      "F E69                1\n",
      "A36                  1\n",
      "B4                   1\n",
      "C128                 1\n",
      "F G63                1\n",
      "B19                  1\n",
      "E31                  1\n",
      "E10                  1\n",
      "A10                  1\n",
      "C30                  1\n",
      "D48                  1\n",
      "A31                  1\n",
      "C118                 1\n",
      "B50                  1\n",
      "B37                  1\n",
      "A34                  1\n",
      "A20                  1\n",
      "C49                  1\n",
      "C91                  1\n",
      "C101                 1\n",
      "C106                 1\n",
      "E34                  1\n",
      "C111                 1\n",
      "B30                  1\n",
      "D11                  1\n",
      "D45                  1\n",
      "C86                  1\n",
      "T                    1\n",
      "D49                  1\n",
      "D21                  1\n",
      "B73                  1\n",
      "D6                   1\n",
      "B102                 1\n",
      "E46                  1\n",
      "B82 B84              1\n",
      "A26                  1\n",
      "A16                  1\n",
      "C50                  1\n",
      "B3                   1\n",
      "C62 C64              1\n",
      "B41                  1\n",
      "C47                  1\n",
      "E68                  1\n",
      "B42                  1\n",
      "F38                  1\n",
      "B94                  1\n",
      "Name: Cabin, dtype: int64\n",
      "-------------\n",
      "Embarked\n",
      "-------------\n",
      "S      644\n",
      "C      168\n",
      "Q       77\n",
      "NaN      2\n",
      "Name: Embarked, dtype: int64\n",
      "-------------\n"
     ]
    }
   ],
   "source": [
    "cat_uniques(df_googlesheet)"
   ]
  },
  {
   "cell_type": "code",
   "execution_count": null,
   "metadata": {},
   "outputs": [],
   "source": []
  }
 ],
 "metadata": {
  "kernelspec": {
   "display_name": "Python 3",
   "language": "python",
   "name": "python3"
  },
  "language_info": {
   "codemirror_mode": {
    "name": "ipython",
    "version": 3
   },
   "file_extension": ".py",
   "mimetype": "text/x-python",
   "name": "python",
   "nbconvert_exporter": "python",
   "pygments_lexer": "ipython3",
   "version": "3.7.4"
  },
  "toc": {
   "base_numbering": 1,
   "nav_menu": {},
   "number_sections": true,
   "sideBar": true,
   "skip_h1_title": true,
   "title_cell": "Table of Contents",
   "title_sidebar": "Contents",
   "toc_cell": true,
   "toc_position": {},
   "toc_section_display": true,
   "toc_window_display": false
  }
 },
 "nbformat": 4,
 "nbformat_minor": 2
}

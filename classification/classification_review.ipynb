{
 "cells": [
  {
   "cell_type": "markdown",
   "metadata": {
    "toc": true
   },
   "source": [
    "<h1>Table of Contents<span class=\"tocSkip\"></span></h1>\n",
    "<div class=\"toc\"><ul class=\"toc-item\"><li><span><a href=\"#Classification\" data-toc-modified-id=\"Classification-1\"><span class=\"toc-item-num\">1&nbsp;&nbsp;</span>Classification</a></span><ul class=\"toc-item\"><li><span><a href=\"#What-is-Classification?\" data-toc-modified-id=\"What-is-Classification?-1.1\"><span class=\"toc-item-num\">1.1&nbsp;&nbsp;</span><strong><font color=\"red\">What is Classification?</font></strong></a></span></li><li><span><a href=\"#So-What-Are-the-Types-of-Classification?\" data-toc-modified-id=\"So-What-Are-the-Types-of-Classification?-1.2\"><span class=\"toc-item-num\">1.2&nbsp;&nbsp;</span><strong><font color=\"orange\">So What Are the Types of Classification?</font></strong></a></span></li><li><span><a href=\"#Now-What?\" data-toc-modified-id=\"Now-What?-1.3\"><span class=\"toc-item-num\">1.3&nbsp;&nbsp;</span><strong><font color=\"green\">Now What?</font></strong></a></span></li></ul></li><li><span><a href=\"#Acquiring\" data-toc-modified-id=\"Acquiring-2\"><span class=\"toc-item-num\">2&nbsp;&nbsp;</span>Acquiring</a></span><ul class=\"toc-item\"><li><span><a href=\"#Create-your-DataFrame-using-a-SQL-query-to-access-a-database\" data-toc-modified-id=\"Create-your-DataFrame-using-a-SQL-query-to-access-a-database-2.1\"><span class=\"toc-item-num\">2.1&nbsp;&nbsp;</span><strong>Create your DataFrame using a SQL query to access a database</strong></a></span></li><li><span><a href=\"#Create-your-DataFrame-using-a-csv-file,-a-Google-sheet,-from-AWS-S3\" data-toc-modified-id=\"Create-your-DataFrame-using-a-csv-file,-a-Google-sheet,-from-AWS-S3-2.2\"><span class=\"toc-item-num\">2.2&nbsp;&nbsp;</span><strong>Create your DataFrame using a csv file, a Google sheet, from AWS S3</strong></a></span></li><li><span><a href=\"#Create-your-DataFrame-using-copy-pasted-tabular-data\" data-toc-modified-id=\"Create-your-DataFrame-using-copy-pasted-tabular-data-2.3\"><span class=\"toc-item-num\">2.3&nbsp;&nbsp;</span><strong>Create your DataFrame using copy-pasted tabular data</strong></a></span></li><li><span><a href=\"#Create-your-DataFrame-using-an-Excel-sheet\" data-toc-modified-id=\"Create-your-DataFrame-using-an-Excel-sheet-2.4\"><span class=\"toc-item-num\">2.4&nbsp;&nbsp;</span><strong>Create your DataFrame using an Excel sheet</strong></a></span></li><li><span><a href=\"#Create-your-DataFrame-using-Pydata-sets-and-Read-the-Doc\" data-toc-modified-id=\"Create-your-DataFrame-using-Pydata-sets-and-Read-the-Doc-2.5\"><span class=\"toc-item-num\">2.5&nbsp;&nbsp;</span><strong>Create your DataFrame using Pydata sets and Read the Doc</strong></a></span></li></ul></li><li><span><a href=\"#Preparation---Imputing-and-Encoding-Focus\" data-toc-modified-id=\"Preparation---Imputing-and-Encoding-Focus-3\"><span class=\"toc-item-num\">3&nbsp;&nbsp;</span>Preparation - Imputing and Encoding Focus</a></span><ul class=\"toc-item\"><li><span><a href=\"#What-are-Imputing-and-Encoding?\" data-toc-modified-id=\"What-are-Imputing-and-Encoding?-3.1\"><span class=\"toc-item-num\">3.1&nbsp;&nbsp;</span><strong><font color=\"red\">What are Imputing and Encoding?</font></strong></a></span></li><li><span><a href=\"#So-What-Are-They-For?\" data-toc-modified-id=\"So-What-Are-They-For?-3.2\"><span class=\"toc-item-num\">3.2&nbsp;&nbsp;</span><strong><font color=\"orange\">So What Are They For?</font></strong></a></span></li><li><span><a href=\"#Now-What?\" data-toc-modified-id=\"Now-What?-3.3\"><span class=\"toc-item-num\">3.3&nbsp;&nbsp;</span><strong><font color=\"green\">Now What?</font></strong></a></span></li></ul></li><li><span><a href=\"#Exploring\" data-toc-modified-id=\"Exploring-4\"><span class=\"toc-item-num\">4&nbsp;&nbsp;</span>Exploring</a></span><ul class=\"toc-item\"><li><span><a href=\"#What-is-EDA-(Exploratory-Data-Analysis)?\" data-toc-modified-id=\"What-is-EDA-(Exploratory-Data-Analysis)?-4.1\"><span class=\"toc-item-num\">4.1&nbsp;&nbsp;</span><strong><font color=\"red\">What is EDA (Exploratory Data Analysis)?</font></strong></a></span></li><li><span><a href=\"#So-What-Types-of-Viz-are-best-for-exploring-categorical-vs-continuous-data?\" data-toc-modified-id=\"So-What-Types-of-Viz-are-best-for-exploring-categorical-vs-continuous-data?-4.2\"><span class=\"toc-item-num\">4.2&nbsp;&nbsp;</span><strong><font color=\"orange\">So What Types of Viz are best for exploring categorical vs continuous data?</font></strong></a></span></li><li><span><a href=\"#Now-What?\" data-toc-modified-id=\"Now-What?-4.3\"><span class=\"toc-item-num\">4.3&nbsp;&nbsp;</span><font color=\"green\">Now What?</font></a></span></li></ul></li><li><span><a href=\"#Evaluating\" data-toc-modified-id=\"Evaluating-5\"><span class=\"toc-item-num\">5&nbsp;&nbsp;</span>Evaluating</a></span><ul class=\"toc-item\"><li><span><a href=\"#What-Are-Evaluation-Metrics-for-Classification-Models?\" data-toc-modified-id=\"What-Are-Evaluation-Metrics-for-Classification-Models?-5.1\"><span class=\"toc-item-num\">5.1&nbsp;&nbsp;</span><strong><font color=\"red\">What Are Evaluation Metrics for Classification Models?</font></strong></a></span></li><li><span><a href=\"#So-What-If...?\" data-toc-modified-id=\"So-What-If...?-5.2\"><span class=\"toc-item-num\">5.2&nbsp;&nbsp;</span><strong><font color=\"orange\">So What If...?</font></strong></a></span></li><li><span><a href=\"#Now-What?\" data-toc-modified-id=\"Now-What?-5.3\"><span class=\"toc-item-num\">5.3&nbsp;&nbsp;</span><strong><font color=\"green\">Now What?</font></strong></a></span></li></ul></li><li><span><a href=\"#Modeling-to-come...\" data-toc-modified-id=\"Modeling-to-come...-6\"><span class=\"toc-item-num\">6&nbsp;&nbsp;</span>Modeling to come...</a></span></li><li><span><a href=\"#Modeling\" data-toc-modified-id=\"Modeling-7\"><span class=\"toc-item-num\">7&nbsp;&nbsp;</span>Modeling</a></span><ul class=\"toc-item\"><li><span><a href=\"#What-Are-Types-of-Classification-Models?\" data-toc-modified-id=\"What-Are-Types-of-Classification-Models?-7.1\"><span class=\"toc-item-num\">7.1&nbsp;&nbsp;</span><strong><font color=\"red\">What Are Types of Classification Models?</font></strong></a></span></li><li><span><a href=\"#So-What?\" data-toc-modified-id=\"So-What?-7.2\"><span class=\"toc-item-num\">7.2&nbsp;&nbsp;</span><strong><font color=\"orange\">So What?</font></strong></a></span></li><li><span><a href=\"#Now-What?\" data-toc-modified-id=\"Now-What?-7.3\"><span class=\"toc-item-num\">7.3&nbsp;&nbsp;</span><strong><font color=\"green\">Now What?</font></strong></a></span></li></ul></li></ul></div>"
   ]
  },
  {
   "cell_type": "code",
   "execution_count": 1,
   "metadata": {},
   "outputs": [],
   "source": [
    "import pandas as pd\n",
    "import numpy as np\n",
    "\n",
    "import seaborn as sns\n",
    "import matplotlib.pyplot as plt\n",
    "%matplotlib inline\n",
    "\n",
    "plt.rc('figure', figsize=(11, 9))\n",
    "plt.rc('font', size=13)\n",
    "\n",
    "from pydataset import data\n",
    "\n",
    "from sklearn.model_selection import train_test_split\n",
    "from sklearn.preprocessing import LabelEncoder\n",
    "from sklearn.preprocessing import MinMaxScaler\n",
    "from sklearn.impute import SimpleImputer\n",
    "from sklearn.preprocessing import OneHotEncoder\n",
    "\n",
    "import warnings\n",
    "warnings.filterwarnings(\"ignore\")\n",
    "\n",
    "from explore import anatomy_of_a_figure\n",
    "from env import host, user, password"
   ]
  },
  {
   "cell_type": "markdown",
   "metadata": {},
   "source": [
    "## Classification\n",
    "\n",
    "### **<font color=red>What is Classification?</font>**\n",
    "\n",
    "**Classification is a Supervised Machine Learning technique.** Like Regression, Classification also uses labeled data from a training dataset to learn rules for making future predictions on unseen data. However, **Classification is used to predict the category membership of the target value (label).** For Classification algorithms, you determine the probability of an observation to be part of a certain class or not. Therefore, you express the probability with a value between 0 and 1. A probability close to 1 means the observation is very likely to be part of a category.\n",
    "\n",
    "**Simply put, Regression predicts a continuous variable while classification predicts a categorical variable.**\n",
    "\n",
    "![image.png](data:image/png;base64,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)\n",
    "\n",
    "You still use a p-value to determine if you will reject or fail to reject your Null Hypothesis. **Remember that the null hypothesis states: there is not correlation between the features and the target.**\n",
    "\n",
    "### **<font color=orange>So What Are the Types of Classification?</font>**\n",
    "\n",
    "**Types of Classification**\n",
    "\n",
    ">**Binary Classification -** This type of classification uses a decision rule to predict an observation to be a member of one of only two groups: churn/not churn, pass/fail, male/female, smoker/non-smoker, healthy/sick.\n",
    "\n",
    ">**Multiclass Classification -** This type of classification uses a decision rule to predict an observation to be a member of one of three or more possible groups or categories: A/B/C, hot/warm/cold, Python/Java/C++/Go/C\n",
    "\n",
    "![image.png](https://developers.google.com/machine-learning/guides/text-classification/images/LastLayer.png)\n",
    "\n",
    "**Uses for Classification**\n",
    "\n",
    "- Medical Diagnosis\n",
    "\n",
    "\n",
    "- Spam Detection\n",
    "\n",
    "\n",
    "- Credit Approval\n",
    "\n",
    "\n",
    "- Targeted Marketing\n",
    "\n",
    "### **<font color=green>Now What?</font>**\n",
    "\n",
    "Check out [this article](https://towardsdatascience.com/the-complete-guide-to-classification-in-python-b0e34c92e455) on Classification.\n",
    "\n",
    "We will work through the data science pipeline focused on preparing for Classification Modeling."
   ]
  },
  {
   "cell_type": "markdown",
   "metadata": {},
   "source": [
    "## Acquiring\n",
    "\n",
    "**<font color=green>A Few Example Methods for Creating Pandas DataFrames</font>**\n",
    "\n",
    "### **Create your DataFrame using a SQL query to access a database**\n",
    "\n",
    "**<font color=purple>Use your env file and a handy function to get your connection_url argument</font>**\n",
    "\n",
    "`from env import host, pasword, user`\n",
    "\n",
    "`def get_connection(db, user=user, host=host, password=password):\n",
    "    return f'mysql+pymysql://{user}:{password}@{host}/{db}'`\n",
    "    \n",
    "`sql_query = 'write your sql query here; test it in Pancakes first'`\n",
    "\n",
    "`pd.read_sql(sql_query, connection_url)`\n",
    "\n",
    "**<font color=purple>Put it all together in a single function and throw it into a .py file.</font>**\n",
    "\n",
    "`def get_titanic_data():\n",
    "    return pd.read_sql(query, get_connection('titanic_db'))`"
   ]
  },
  {
   "cell_type": "code",
   "execution_count": 2,
   "metadata": {},
   "outputs": [],
   "source": [
    "def get_connection(db, user=user, host=host, password=password):\n",
    "    return f'mysql+pymysql://{user}:{password}@{host}/{db}'"
   ]
  },
  {
   "cell_type": "code",
   "execution_count": 3,
   "metadata": {},
   "outputs": [],
   "source": [
    "sql_query = 'SELECT * FROM passengers'"
   ]
  },
  {
   "cell_type": "code",
   "execution_count": 4,
   "metadata": {},
   "outputs": [],
   "source": [
    "def get_titanic_data():\n",
    "    return pd.read_sql(sql_query, get_connection('titanic_db'))"
   ]
  },
  {
   "cell_type": "code",
   "execution_count": 5,
   "metadata": {},
   "outputs": [
    {
     "data": {
      "text/html": [
       "<div>\n",
       "<style scoped>\n",
       "    .dataframe tbody tr th:only-of-type {\n",
       "        vertical-align: middle;\n",
       "    }\n",
       "\n",
       "    .dataframe tbody tr th {\n",
       "        vertical-align: top;\n",
       "    }\n",
       "\n",
       "    .dataframe thead th {\n",
       "        text-align: right;\n",
       "    }\n",
       "</style>\n",
       "<table border=\"1\" class=\"dataframe\">\n",
       "  <thead>\n",
       "    <tr style=\"text-align: right;\">\n",
       "      <th></th>\n",
       "      <th>passenger_id</th>\n",
       "      <th>survived</th>\n",
       "      <th>pclass</th>\n",
       "      <th>sex</th>\n",
       "      <th>age</th>\n",
       "      <th>sibsp</th>\n",
       "      <th>parch</th>\n",
       "      <th>fare</th>\n",
       "      <th>embarked</th>\n",
       "      <th>class</th>\n",
       "      <th>deck</th>\n",
       "      <th>embark_town</th>\n",
       "      <th>alone</th>\n",
       "    </tr>\n",
       "  </thead>\n",
       "  <tbody>\n",
       "    <tr>\n",
       "      <th>0</th>\n",
       "      <td>0</td>\n",
       "      <td>0</td>\n",
       "      <td>3</td>\n",
       "      <td>male</td>\n",
       "      <td>22.0</td>\n",
       "      <td>1</td>\n",
       "      <td>0</td>\n",
       "      <td>7.2500</td>\n",
       "      <td>S</td>\n",
       "      <td>Third</td>\n",
       "      <td>None</td>\n",
       "      <td>Southampton</td>\n",
       "      <td>0</td>\n",
       "    </tr>\n",
       "    <tr>\n",
       "      <th>1</th>\n",
       "      <td>1</td>\n",
       "      <td>1</td>\n",
       "      <td>1</td>\n",
       "      <td>female</td>\n",
       "      <td>38.0</td>\n",
       "      <td>1</td>\n",
       "      <td>0</td>\n",
       "      <td>71.2833</td>\n",
       "      <td>C</td>\n",
       "      <td>First</td>\n",
       "      <td>C</td>\n",
       "      <td>Cherbourg</td>\n",
       "      <td>0</td>\n",
       "    </tr>\n",
       "    <tr>\n",
       "      <th>2</th>\n",
       "      <td>2</td>\n",
       "      <td>1</td>\n",
       "      <td>3</td>\n",
       "      <td>female</td>\n",
       "      <td>26.0</td>\n",
       "      <td>0</td>\n",
       "      <td>0</td>\n",
       "      <td>7.9250</td>\n",
       "      <td>S</td>\n",
       "      <td>Third</td>\n",
       "      <td>None</td>\n",
       "      <td>Southampton</td>\n",
       "      <td>1</td>\n",
       "    </tr>\n",
       "  </tbody>\n",
       "</table>\n",
       "</div>"
      ],
      "text/plain": [
       "   passenger_id  survived  pclass     sex   age  sibsp  parch     fare  \\\n",
       "0             0         0       3    male  22.0      1      0   7.2500   \n",
       "1             1         1       1  female  38.0      1      0  71.2833   \n",
       "2             2         1       3  female  26.0      0      0   7.9250   \n",
       "\n",
       "  embarked  class  deck  embark_town  alone  \n",
       "0        S  Third  None  Southampton      0  \n",
       "1        C  First     C    Cherbourg      0  \n",
       "2        S  Third  None  Southampton      1  "
      ]
     },
     "execution_count": 5,
     "metadata": {},
     "output_type": "execute_result"
    }
   ],
   "source": [
    "titanic_df = get_titanic_data()\n",
    "titanic_df.head(3)"
   ]
  },
  {
   "cell_type": "markdown",
   "metadata": {},
   "source": [
    "### **Create your DataFrame using a csv file, a Google sheet, from AWS S3**\n",
    "\n",
    "`pd.read_csv()`\n",
    "\n",
    "**<font color=purple>If you are going to read in a Google sheet using its Share url, you can format it correctly using the following:</font>**\n",
    "\n",
    "`sheet_url = 'https://docs.google.com/spreadsheets/d/1Uhtml8KY19LILuZsrDtlsHHDC9wuDGUSe8LTEwvdI5g/edit#gid=341089357'`  \n",
    "\n",
    "`csv_export_url = sheet_url.replace('/edit#gid=', '/export?format=csv&gid=')`\n",
    "\n",
    "`df_googlesheet = pd.read_csv(csv_export_url)`"
   ]
  },
  {
   "cell_type": "code",
   "execution_count": 6,
   "metadata": {},
   "outputs": [],
   "source": [
    "sheet_url = 'https://docs.google.com/spreadsheets/d/1Uhtml8KY19LILuZsrDtlsHHDC9wuDGUSe8LTEwvdI5g/edit#gid=341089357'"
   ]
  },
  {
   "cell_type": "code",
   "execution_count": 7,
   "metadata": {},
   "outputs": [],
   "source": [
    "csv_export_url = sheet_url.replace('/edit#gid=', '/export?format=csv&gid=')"
   ]
  },
  {
   "cell_type": "code",
   "execution_count": 8,
   "metadata": {},
   "outputs": [
    {
     "data": {
      "text/html": [
       "<div>\n",
       "<style scoped>\n",
       "    .dataframe tbody tr th:only-of-type {\n",
       "        vertical-align: middle;\n",
       "    }\n",
       "\n",
       "    .dataframe tbody tr th {\n",
       "        vertical-align: top;\n",
       "    }\n",
       "\n",
       "    .dataframe thead th {\n",
       "        text-align: right;\n",
       "    }\n",
       "</style>\n",
       "<table border=\"1\" class=\"dataframe\">\n",
       "  <thead>\n",
       "    <tr style=\"text-align: right;\">\n",
       "      <th></th>\n",
       "      <th>PassengerId</th>\n",
       "      <th>Survived</th>\n",
       "      <th>Pclass</th>\n",
       "      <th>Name</th>\n",
       "      <th>Sex</th>\n",
       "      <th>Age</th>\n",
       "      <th>SibSp</th>\n",
       "      <th>Parch</th>\n",
       "      <th>Ticket</th>\n",
       "      <th>Fare</th>\n",
       "      <th>Cabin</th>\n",
       "      <th>Embarked</th>\n",
       "      <th>Is_female</th>\n",
       "    </tr>\n",
       "  </thead>\n",
       "  <tbody>\n",
       "    <tr>\n",
       "      <th>0</th>\n",
       "      <td>1</td>\n",
       "      <td>0</td>\n",
       "      <td>3</td>\n",
       "      <td>Braund, Mr. Owen Harris</td>\n",
       "      <td>male</td>\n",
       "      <td>22.0</td>\n",
       "      <td>1</td>\n",
       "      <td>0</td>\n",
       "      <td>A/5 21171</td>\n",
       "      <td>7.2500</td>\n",
       "      <td>NaN</td>\n",
       "      <td>S</td>\n",
       "      <td>0</td>\n",
       "    </tr>\n",
       "    <tr>\n",
       "      <th>1</th>\n",
       "      <td>2</td>\n",
       "      <td>1</td>\n",
       "      <td>1</td>\n",
       "      <td>Cumings, Mrs. John Bradley (Florence Briggs Thayer)</td>\n",
       "      <td>female</td>\n",
       "      <td>38.0</td>\n",
       "      <td>1</td>\n",
       "      <td>0</td>\n",
       "      <td>PC 17599</td>\n",
       "      <td>71.2833</td>\n",
       "      <td>C85</td>\n",
       "      <td>C</td>\n",
       "      <td>1</td>\n",
       "    </tr>\n",
       "    <tr>\n",
       "      <th>2</th>\n",
       "      <td>3</td>\n",
       "      <td>1</td>\n",
       "      <td>3</td>\n",
       "      <td>Heikkinen, Miss. Laina</td>\n",
       "      <td>female</td>\n",
       "      <td>26.0</td>\n",
       "      <td>0</td>\n",
       "      <td>0</td>\n",
       "      <td>STON/O2. 3101282</td>\n",
       "      <td>7.9250</td>\n",
       "      <td>NaN</td>\n",
       "      <td>S</td>\n",
       "      <td>1</td>\n",
       "    </tr>\n",
       "  </tbody>\n",
       "</table>\n",
       "</div>"
      ],
      "text/plain": [
       "   PassengerId  Survived  Pclass  \\\n",
       "0            1         0       3   \n",
       "1            2         1       1   \n",
       "2            3         1       3   \n",
       "\n",
       "                                                  Name     Sex   Age  SibSp  \\\n",
       "0                              Braund, Mr. Owen Harris    male  22.0      1   \n",
       "1  Cumings, Mrs. John Bradley (Florence Briggs Thayer)  female  38.0      1   \n",
       "2                               Heikkinen, Miss. Laina  female  26.0      0   \n",
       "\n",
       "   Parch            Ticket     Fare Cabin Embarked  Is_female  \n",
       "0      0         A/5 21171   7.2500   NaN        S          0  \n",
       "1      0          PC 17599  71.2833   C85        C          1  \n",
       "2      0  STON/O2. 3101282   7.9250   NaN        S          1  "
      ]
     },
     "execution_count": 8,
     "metadata": {},
     "output_type": "execute_result"
    }
   ],
   "source": [
    "df_googlesheet = pd.read_csv(csv_export_url)\n",
    "\n",
    "# I'm adding a column here, `is_female` for use later in the notebook\n",
    "df_googlesheet['Is_female'] = df_googlesheet.Sex.map({'female': 1, 'male': 0})\n",
    "\n",
    "df_googlesheet.head(3)"
   ]
  },
  {
   "cell_type": "markdown",
   "metadata": {},
   "source": [
    "### **Create your DataFrame using copy-pasted tabular data**\n",
    "\n",
    "`pd.read_clipboard(header=None, names=colums)`"
   ]
  },
  {
   "cell_type": "markdown",
   "metadata": {},
   "source": [
    "### **Create your DataFrame using an Excel sheet**\n",
    "\n",
    "`pd.read_excel('Excel_Workbook.xlsx', sheet_name='Table1_name', usecols=['this_one', 'this_one'])`"
   ]
  },
  {
   "cell_type": "code",
   "execution_count": 9,
   "metadata": {},
   "outputs": [
    {
     "data": {
      "text/html": [
       "<div>\n",
       "<style scoped>\n",
       "    .dataframe tbody tr th:only-of-type {\n",
       "        vertical-align: middle;\n",
       "    }\n",
       "\n",
       "    .dataframe tbody tr th {\n",
       "        vertical-align: top;\n",
       "    }\n",
       "\n",
       "    .dataframe thead th {\n",
       "        text-align: right;\n",
       "    }\n",
       "</style>\n",
       "<table border=\"1\" class=\"dataframe\">\n",
       "  <thead>\n",
       "    <tr style=\"text-align: right;\">\n",
       "      <th></th>\n",
       "      <th>customer_id</th>\n",
       "      <th>gender</th>\n",
       "      <th>is_senior_citizen</th>\n",
       "      <th>partner</th>\n",
       "      <th>dependents</th>\n",
       "      <th>phone_service</th>\n",
       "      <th>internet_service</th>\n",
       "      <th>contract_type</th>\n",
       "      <th>payment_type</th>\n",
       "      <th>monthly_charges</th>\n",
       "      <th>total_charges</th>\n",
       "      <th>tenure</th>\n",
       "      <th>churn</th>\n",
       "    </tr>\n",
       "  </thead>\n",
       "  <tbody>\n",
       "    <tr>\n",
       "      <th>0</th>\n",
       "      <td>7569-NMZYQ</td>\n",
       "      <td>Female</td>\n",
       "      <td>0</td>\n",
       "      <td>Yes</td>\n",
       "      <td>Yes</td>\n",
       "      <td>2</td>\n",
       "      <td>2</td>\n",
       "      <td>2</td>\n",
       "      <td>Bank transfer (automatic)</td>\n",
       "      <td>118.75</td>\n",
       "      <td>8672.45</td>\n",
       "      <td>73.031158</td>\n",
       "      <td>No</td>\n",
       "    </tr>\n",
       "    <tr>\n",
       "      <th>1</th>\n",
       "      <td>8984-HPEMB</td>\n",
       "      <td>Female</td>\n",
       "      <td>0</td>\n",
       "      <td>No</td>\n",
       "      <td>No</td>\n",
       "      <td>2</td>\n",
       "      <td>2</td>\n",
       "      <td>2</td>\n",
       "      <td>Electronic check</td>\n",
       "      <td>118.65</td>\n",
       "      <td>8477.60</td>\n",
       "      <td>71.450485</td>\n",
       "      <td>No</td>\n",
       "    </tr>\n",
       "    <tr>\n",
       "      <th>2</th>\n",
       "      <td>5734-EJKXG</td>\n",
       "      <td>Female</td>\n",
       "      <td>0</td>\n",
       "      <td>No</td>\n",
       "      <td>No</td>\n",
       "      <td>2</td>\n",
       "      <td>2</td>\n",
       "      <td>1</td>\n",
       "      <td>Electronic check</td>\n",
       "      <td>118.60</td>\n",
       "      <td>7365.70</td>\n",
       "      <td>62.105396</td>\n",
       "      <td>No</td>\n",
       "    </tr>\n",
       "  </tbody>\n",
       "</table>\n",
       "</div>"
      ],
      "text/plain": [
       "  customer_id  gender  is_senior_citizen partner dependents  phone_service  \\\n",
       "0  7569-NMZYQ  Female                  0     Yes        Yes              2   \n",
       "1  8984-HPEMB  Female                  0      No         No              2   \n",
       "2  5734-EJKXG  Female                  0      No         No              2   \n",
       "\n",
       "   internet_service  contract_type               payment_type  \\\n",
       "0                 2              2  Bank transfer (automatic)   \n",
       "1                 2              2           Electronic check   \n",
       "2                 2              1           Electronic check   \n",
       "\n",
       "   monthly_charges  total_charges     tenure churn  \n",
       "0           118.75        8672.45  73.031158    No  \n",
       "1           118.65        8477.60  71.450485    No  \n",
       "2           118.60        7365.70  62.105396    No  "
      ]
     },
     "execution_count": 9,
     "metadata": {},
     "output_type": "execute_result"
    }
   ],
   "source": [
    "customers_df = pd.read_excel('my_telco_churn.xlsx', sheet_name='Table2_CustDetails')\n",
    "customers_df.head(3)"
   ]
  },
  {
   "cell_type": "markdown",
   "metadata": {},
   "source": [
    "### **Create your DataFrame using Pydata sets and Read the Doc**\n",
    "\n",
    "`from pydataset import data`\n",
    "\n",
    "`data('iris', show_doc=True)`\n",
    "\n",
    "`df_iris = data('iris')`"
   ]
  },
  {
   "cell_type": "code",
   "execution_count": 10,
   "metadata": {},
   "outputs": [
    {
     "data": {
      "text/html": [
       "<div>\n",
       "<style scoped>\n",
       "    .dataframe tbody tr th:only-of-type {\n",
       "        vertical-align: middle;\n",
       "    }\n",
       "\n",
       "    .dataframe tbody tr th {\n",
       "        vertical-align: top;\n",
       "    }\n",
       "\n",
       "    .dataframe thead th {\n",
       "        text-align: right;\n",
       "    }\n",
       "</style>\n",
       "<table border=\"1\" class=\"dataframe\">\n",
       "  <thead>\n",
       "    <tr style=\"text-align: right;\">\n",
       "      <th></th>\n",
       "      <th>Sepal.Length</th>\n",
       "      <th>Sepal.Width</th>\n",
       "      <th>Petal.Length</th>\n",
       "      <th>Petal.Width</th>\n",
       "      <th>Species</th>\n",
       "    </tr>\n",
       "  </thead>\n",
       "  <tbody>\n",
       "    <tr>\n",
       "      <th>1</th>\n",
       "      <td>5.1</td>\n",
       "      <td>3.5</td>\n",
       "      <td>1.4</td>\n",
       "      <td>0.2</td>\n",
       "      <td>setosa</td>\n",
       "    </tr>\n",
       "    <tr>\n",
       "      <th>2</th>\n",
       "      <td>4.9</td>\n",
       "      <td>3.0</td>\n",
       "      <td>1.4</td>\n",
       "      <td>0.2</td>\n",
       "      <td>setosa</td>\n",
       "    </tr>\n",
       "    <tr>\n",
       "      <th>3</th>\n",
       "      <td>4.7</td>\n",
       "      <td>3.2</td>\n",
       "      <td>1.3</td>\n",
       "      <td>0.2</td>\n",
       "      <td>setosa</td>\n",
       "    </tr>\n",
       "  </tbody>\n",
       "</table>\n",
       "</div>"
      ],
      "text/plain": [
       "   Sepal.Length  Sepal.Width  Petal.Length  Petal.Width Species\n",
       "1           5.1          3.5           1.4          0.2  setosa\n",
       "2           4.9          3.0           1.4          0.2  setosa\n",
       "3           4.7          3.2           1.3          0.2  setosa"
      ]
     },
     "execution_count": 10,
     "metadata": {},
     "output_type": "execute_result"
    }
   ],
   "source": [
    "df_iris = data('iris')\n",
    "df_iris.head(3)"
   ]
  },
  {
   "cell_type": "code",
   "execution_count": 11,
   "metadata": {},
   "outputs": [
    {
     "data": {
      "text/html": [
       "<div>\n",
       "<style scoped>\n",
       "    .dataframe tbody tr th:only-of-type {\n",
       "        vertical-align: middle;\n",
       "    }\n",
       "\n",
       "    .dataframe tbody tr th {\n",
       "        vertical-align: top;\n",
       "    }\n",
       "\n",
       "    .dataframe thead th {\n",
       "        text-align: right;\n",
       "    }\n",
       "</style>\n",
       "<table border=\"1\" class=\"dataframe\">\n",
       "  <thead>\n",
       "    <tr style=\"text-align: right;\">\n",
       "      <th></th>\n",
       "      <th>sepal_length</th>\n",
       "      <th>sepal_width</th>\n",
       "      <th>petal_length</th>\n",
       "      <th>petal_width</th>\n",
       "      <th>species</th>\n",
       "    </tr>\n",
       "  </thead>\n",
       "  <tbody>\n",
       "    <tr>\n",
       "      <th>0</th>\n",
       "      <td>5.1</td>\n",
       "      <td>3.5</td>\n",
       "      <td>1.4</td>\n",
       "      <td>0.2</td>\n",
       "      <td>setosa</td>\n",
       "    </tr>\n",
       "    <tr>\n",
       "      <th>1</th>\n",
       "      <td>4.9</td>\n",
       "      <td>3.0</td>\n",
       "      <td>1.4</td>\n",
       "      <td>0.2</td>\n",
       "      <td>setosa</td>\n",
       "    </tr>\n",
       "    <tr>\n",
       "      <th>2</th>\n",
       "      <td>4.7</td>\n",
       "      <td>3.2</td>\n",
       "      <td>1.3</td>\n",
       "      <td>0.2</td>\n",
       "      <td>setosa</td>\n",
       "    </tr>\n",
       "  </tbody>\n",
       "</table>\n",
       "</div>"
      ],
      "text/plain": [
       "   sepal_length  sepal_width  petal_length  petal_width species\n",
       "0           5.1          3.5           1.4          0.2  setosa\n",
       "1           4.9          3.0           1.4          0.2  setosa\n",
       "2           4.7          3.2           1.3          0.2  setosa"
      ]
     },
     "execution_count": 11,
     "metadata": {},
     "output_type": "execute_result"
    }
   ],
   "source": [
    "# Using Seaborn Datasets\n",
    "\n",
    "iris = sns.load_dataset('iris')\n",
    "iris.head(3)"
   ]
  },
  {
   "cell_type": "code",
   "execution_count": 12,
   "metadata": {},
   "outputs": [
    {
     "data": {
      "text/plain": [
       "sklearn.utils.Bunch"
      ]
     },
     "execution_count": 12,
     "metadata": {},
     "output_type": "execute_result"
    }
   ],
   "source": [
    "# Using Sklearn Datasets, dictionary-like object\n",
    "\n",
    "from sklearn import datasets\n",
    "\n",
    "iris = datasets.load_iris()\n",
    "type(iris)"
   ]
  },
  {
   "cell_type": "code",
   "execution_count": 13,
   "metadata": {},
   "outputs": [
    {
     "data": {
      "text/plain": [
       "dict_keys(['data', 'target', 'target_names', 'DESCR', 'feature_names', 'filename'])"
      ]
     },
     "execution_count": 13,
     "metadata": {},
     "output_type": "execute_result"
    }
   ],
   "source": [
    "iris.keys()"
   ]
  },
  {
   "cell_type": "code",
   "execution_count": 14,
   "metadata": {},
   "outputs": [
    {
     "data": {
      "text/html": [
       "<div>\n",
       "<style scoped>\n",
       "    .dataframe tbody tr th:only-of-type {\n",
       "        vertical-align: middle;\n",
       "    }\n",
       "\n",
       "    .dataframe tbody tr th {\n",
       "        vertical-align: top;\n",
       "    }\n",
       "\n",
       "    .dataframe thead th {\n",
       "        text-align: right;\n",
       "    }\n",
       "</style>\n",
       "<table border=\"1\" class=\"dataframe\">\n",
       "  <thead>\n",
       "    <tr style=\"text-align: right;\">\n",
       "      <th></th>\n",
       "      <th>sepal length (cm)</th>\n",
       "      <th>sepal width (cm)</th>\n",
       "      <th>petal length (cm)</th>\n",
       "      <th>petal width (cm)</th>\n",
       "    </tr>\n",
       "  </thead>\n",
       "  <tbody>\n",
       "    <tr>\n",
       "      <th>0</th>\n",
       "      <td>5.1</td>\n",
       "      <td>3.5</td>\n",
       "      <td>1.4</td>\n",
       "      <td>0.2</td>\n",
       "    </tr>\n",
       "    <tr>\n",
       "      <th>1</th>\n",
       "      <td>4.9</td>\n",
       "      <td>3.0</td>\n",
       "      <td>1.4</td>\n",
       "      <td>0.2</td>\n",
       "    </tr>\n",
       "    <tr>\n",
       "      <th>2</th>\n",
       "      <td>4.7</td>\n",
       "      <td>3.2</td>\n",
       "      <td>1.3</td>\n",
       "      <td>0.2</td>\n",
       "    </tr>\n",
       "  </tbody>\n",
       "</table>\n",
       "</div>"
      ],
      "text/plain": [
       "   sepal length (cm)  sepal width (cm)  petal length (cm)  petal width (cm)\n",
       "0                5.1               3.5                1.4               0.2\n",
       "1                4.9               3.0                1.4               0.2\n",
       "2                4.7               3.2                1.3               0.2"
      ]
     },
     "execution_count": 14,
     "metadata": {},
     "output_type": "execute_result"
    }
   ],
   "source": [
    "iris_df = pd.DataFrame(iris.data, columns=iris.feature_names)\n",
    "iris_df.head(3)"
   ]
  },
  {
   "cell_type": "code",
   "execution_count": 15,
   "metadata": {},
   "outputs": [
    {
     "data": {
      "text/html": [
       "<div>\n",
       "<style scoped>\n",
       "    .dataframe tbody tr th:only-of-type {\n",
       "        vertical-align: middle;\n",
       "    }\n",
       "\n",
       "    .dataframe tbody tr th {\n",
       "        vertical-align: top;\n",
       "    }\n",
       "\n",
       "    .dataframe thead th {\n",
       "        text-align: right;\n",
       "    }\n",
       "</style>\n",
       "<table border=\"1\" class=\"dataframe\">\n",
       "  <thead>\n",
       "    <tr style=\"text-align: right;\">\n",
       "      <th></th>\n",
       "      <th>sepal length (cm)</th>\n",
       "      <th>sepal width (cm)</th>\n",
       "      <th>petal length (cm)</th>\n",
       "      <th>petal width (cm)</th>\n",
       "      <th>species</th>\n",
       "    </tr>\n",
       "  </thead>\n",
       "  <tbody>\n",
       "    <tr>\n",
       "      <th>0</th>\n",
       "      <td>5.1</td>\n",
       "      <td>3.5</td>\n",
       "      <td>1.4</td>\n",
       "      <td>0.2</td>\n",
       "      <td>0</td>\n",
       "    </tr>\n",
       "    <tr>\n",
       "      <th>1</th>\n",
       "      <td>4.9</td>\n",
       "      <td>3.0</td>\n",
       "      <td>1.4</td>\n",
       "      <td>0.2</td>\n",
       "      <td>0</td>\n",
       "    </tr>\n",
       "    <tr>\n",
       "      <th>2</th>\n",
       "      <td>4.7</td>\n",
       "      <td>3.2</td>\n",
       "      <td>1.3</td>\n",
       "      <td>0.2</td>\n",
       "      <td>0</td>\n",
       "    </tr>\n",
       "  </tbody>\n",
       "</table>\n",
       "</div>"
      ],
      "text/plain": [
       "   sepal length (cm)  sepal width (cm)  petal length (cm)  petal width (cm)  \\\n",
       "0                5.1               3.5                1.4               0.2   \n",
       "1                4.9               3.0                1.4               0.2   \n",
       "2                4.7               3.2                1.3               0.2   \n",
       "\n",
       "   species  \n",
       "0        0  \n",
       "1        0  \n",
       "2        0  "
      ]
     },
     "execution_count": 15,
     "metadata": {},
     "output_type": "execute_result"
    }
   ],
   "source": [
    "iris_df['species'] = iris.target\n",
    "iris_df.head(3)"
   ]
  },
  {
   "cell_type": "markdown",
   "metadata": {},
   "source": [
    "**Other Seaborn Datasets you can use are linked [here](https://github.com/mwaskom/seaborn-data)**\n",
    "\n",
    "**More on sklearn dataset loading utilities [here](https://scikit-learn.org/stable/datasets/index.html)**"
   ]
  },
  {
   "cell_type": "markdown",
   "metadata": {},
   "source": [
    "## Preparation - Imputing and Encoding Focus\n",
    "\n",
    "### **<font color=red>What are Imputing and Encoding?</font>**\n",
    "\n",
    "Imputation is the process of replacing missing data with substituted values. You might choose to impute the mean, median, or mode of a given column to fill any holes or cells with missing data. Maybe you want to do something a little more complex like use a linear regression model to predict the missing values that you will impute. Depending on the situation, you might just decide to drop rows or columns that have more than a certain percentage of missing values. Whatever you decide to do, you first need to inspect your dataset for Null values.\n",
    "\n",
    "### **<font color=orange>So What Are They For?</font>**\n",
    "\n",
    "**What is Label Encoding**\n",
    "\n",
    "Encoding is when you convert a string to an integer representation making a categorical value useable in a ML model.\n",
    "\n",
    "Encoding with LabelEncoder() converts each unique value in the column you wish to encode into an integer representing the original value. **This is useful when there is meaning to the order of your categorical values.**\n",
    "\n",
    "One-hot Encoding is when we create a new column for each value in the oringinal column we wish to encode. Each observation in our DataFrame will have either a 0 or a 1 to indicate which of the new columns represent its value in the original column. **This is useful when the order of your categorical values does not carry meaning.** Beware of the curse of dimensionality when using One-hot; it can quickly increase the number of columns, and therfore complexity, of your model exponentially.\n",
    "\n",
    "### **<font color=green>Now What?</font>**\n",
    "\n",
    "**Here are a few ways to quickly check your dataset for missing values:**\n",
    "\n",
    ">**<font color=purple>You can actually use a heatmap to visualize Null values in your dataset!</font>**"
   ]
  },
  {
   "cell_type": "code",
   "execution_count": 16,
   "metadata": {},
   "outputs": [
    {
     "data": {
      "image/png": "[encoded data removed]",
      "text/plain": [
       "<Figure size 792x648 with 1 Axes>"
      ]
     },
     "metadata": {
      "needs_background": "light"
     },
     "output_type": "display_data"
    }
   ],
   "source": [
    "sns.heatmap(df_googlesheet.isnull(), yticklabels = False, cbar = False, cmap='Blues')\n",
    "\n",
    "plt.title('Null Values by Column')\n",
    "plt.show()"
   ]
  },
  {
   "cell_type": "markdown",
   "metadata": {},
   "source": [
    ">**<font color=purple>Total missing values by column</font>**"
   ]
  },
  {
   "cell_type": "code",
   "execution_count": 17,
   "metadata": {},
   "outputs": [
    {
     "data": {
      "text/plain": [
       "PassengerId      0\n",
       "Survived         0\n",
       "Pclass           0\n",
       "Name             0\n",
       "Sex              0\n",
       "Age            177\n",
       "SibSp            0\n",
       "Parch            0\n",
       "Ticket           0\n",
       "Fare             0\n",
       "Cabin          687\n",
       "Embarked         2\n",
       "Is_female        0\n",
       "dtype: int64"
      ]
     },
     "execution_count": 17,
     "metadata": {},
     "output_type": "execute_result"
    }
   ],
   "source": [
    "df_googlesheet.isna().sum()"
   ]
  },
  {
   "cell_type": "markdown",
   "metadata": {},
   "source": [
    ">**<font color=purple>Percent of missing values by column</font>**"
   ]
  },
  {
   "cell_type": "code",
   "execution_count": 18,
   "metadata": {},
   "outputs": [
    {
     "data": {
      "text/plain": [
       "PassengerId     0.00\n",
       "Survived        0.00\n",
       "Pclass          0.00\n",
       "Name            0.00\n",
       "Sex             0.00\n",
       "Age            19.87\n",
       "SibSp           0.00\n",
       "Parch           0.00\n",
       "Ticket          0.00\n",
       "Fare            0.00\n",
       "Cabin          77.10\n",
       "Embarked        0.22\n",
       "Is_female       0.00\n",
       "dtype: float64"
      ]
     },
     "execution_count": 18,
     "metadata": {},
     "output_type": "execute_result"
    }
   ],
   "source": [
    "round(df_googlesheet.isna().mean() * 100, 2)"
   ]
  },
  {
   "cell_type": "markdown",
   "metadata": {},
   "source": [
    "**<font color=red>Split before you begin doing specific exploration or calculations as you do data processing</font>**"
   ]
  },
  {
   "cell_type": "code",
   "execution_count": 19,
   "metadata": {},
   "outputs": [],
   "source": [
    "train, test = train_test_split(df_googlesheet, train_size=.75, random_state=123)"
   ]
  },
  {
   "cell_type": "markdown",
   "metadata": {},
   "source": [
    ">**<font color=purple>Investigate the relationship between two columns</font>**"
   ]
  },
  {
   "cell_type": "code",
   "execution_count": 20,
   "metadata": {},
   "outputs": [
    {
     "data": {
      "text/html": [
       "<div>\n",
       "<style scoped>\n",
       "    .dataframe tbody tr th:only-of-type {\n",
       "        vertical-align: middle;\n",
       "    }\n",
       "\n",
       "    .dataframe tbody tr th {\n",
       "        vertical-align: top;\n",
       "    }\n",
       "\n",
       "    .dataframe thead th {\n",
       "        text-align: right;\n",
       "    }\n",
       "</style>\n",
       "<table border=\"1\" class=\"dataframe\">\n",
       "  <thead>\n",
       "    <tr style=\"text-align: right;\">\n",
       "      <th>Parch</th>\n",
       "      <th>0</th>\n",
       "      <th>1</th>\n",
       "      <th>2</th>\n",
       "      <th>3</th>\n",
       "      <th>4</th>\n",
       "      <th>5</th>\n",
       "    </tr>\n",
       "    <tr>\n",
       "      <th>SibSp</th>\n",
       "      <th></th>\n",
       "      <th></th>\n",
       "      <th></th>\n",
       "      <th></th>\n",
       "      <th></th>\n",
       "      <th></th>\n",
       "    </tr>\n",
       "  </thead>\n",
       "  <tbody>\n",
       "    <tr>\n",
       "      <th>0</th>\n",
       "      <td>405</td>\n",
       "      <td>25</td>\n",
       "      <td>23</td>\n",
       "      <td>1</td>\n",
       "      <td>0</td>\n",
       "      <td>2</td>\n",
       "    </tr>\n",
       "    <tr>\n",
       "      <th>1</th>\n",
       "      <td>93</td>\n",
       "      <td>44</td>\n",
       "      <td>14</td>\n",
       "      <td>2</td>\n",
       "      <td>2</td>\n",
       "      <td>2</td>\n",
       "    </tr>\n",
       "    <tr>\n",
       "      <th>2</th>\n",
       "      <td>14</td>\n",
       "      <td>4</td>\n",
       "      <td>3</td>\n",
       "      <td>1</td>\n",
       "      <td>0</td>\n",
       "      <td>0</td>\n",
       "    </tr>\n",
       "    <tr>\n",
       "      <th>3</th>\n",
       "      <td>1</td>\n",
       "      <td>5</td>\n",
       "      <td>6</td>\n",
       "      <td>0</td>\n",
       "      <td>0</td>\n",
       "      <td>0</td>\n",
       "    </tr>\n",
       "    <tr>\n",
       "      <th>4</th>\n",
       "      <td>0</td>\n",
       "      <td>5</td>\n",
       "      <td>6</td>\n",
       "      <td>0</td>\n",
       "      <td>0</td>\n",
       "      <td>0</td>\n",
       "    </tr>\n",
       "    <tr>\n",
       "      <th>5</th>\n",
       "      <td>0</td>\n",
       "      <td>0</td>\n",
       "      <td>3</td>\n",
       "      <td>0</td>\n",
       "      <td>0</td>\n",
       "      <td>0</td>\n",
       "    </tr>\n",
       "    <tr>\n",
       "      <th>8</th>\n",
       "      <td>0</td>\n",
       "      <td>0</td>\n",
       "      <td>7</td>\n",
       "      <td>0</td>\n",
       "      <td>0</td>\n",
       "      <td>0</td>\n",
       "    </tr>\n",
       "  </tbody>\n",
       "</table>\n",
       "</div>"
      ],
      "text/plain": [
       "Parch    0   1   2  3  4  5\n",
       "SibSp                      \n",
       "0      405  25  23  1  0  2\n",
       "1       93  44  14  2  2  2\n",
       "2       14   4   3  1  0  0\n",
       "3        1   5   6  0  0  0\n",
       "4        0   5   6  0  0  0\n",
       "5        0   0   3  0  0  0\n",
       "8        0   0   7  0  0  0"
      ]
     },
     "execution_count": 20,
     "metadata": {},
     "output_type": "execute_result"
    }
   ],
   "source": [
    "pd.crosstab(train.SibSp, train.Parch)"
   ]
  },
  {
   "cell_type": "markdown",
   "metadata": {},
   "source": [
    ">**<font color=purple>Check the missing values in subgroups. Zach's cool code snippet!</font>**"
   ]
  },
  {
   "cell_type": "code",
   "execution_count": 21,
   "metadata": {},
   "outputs": [
    {
     "data": {
      "text/html": [
       "<div>\n",
       "<style scoped>\n",
       "    .dataframe tbody tr th:only-of-type {\n",
       "        vertical-align: middle;\n",
       "    }\n",
       "\n",
       "    .dataframe tbody tr th {\n",
       "        vertical-align: top;\n",
       "    }\n",
       "\n",
       "    .dataframe thead th {\n",
       "        text-align: right;\n",
       "    }\n",
       "</style>\n",
       "<table border=\"1\" class=\"dataframe\">\n",
       "  <thead>\n",
       "    <tr style=\"text-align: right;\">\n",
       "      <th></th>\n",
       "      <th></th>\n",
       "      <th></th>\n",
       "      <th>PassengerId</th>\n",
       "      <th>Name</th>\n",
       "      <th>Age</th>\n",
       "      <th>SibSp</th>\n",
       "      <th>Parch</th>\n",
       "      <th>Ticket</th>\n",
       "      <th>Fare</th>\n",
       "      <th>Cabin</th>\n",
       "      <th>Embarked</th>\n",
       "      <th>Is_female</th>\n",
       "    </tr>\n",
       "    <tr>\n",
       "      <th>Survived</th>\n",
       "      <th>Pclass</th>\n",
       "      <th>Sex</th>\n",
       "      <th></th>\n",
       "      <th></th>\n",
       "      <th></th>\n",
       "      <th></th>\n",
       "      <th></th>\n",
       "      <th></th>\n",
       "      <th></th>\n",
       "      <th></th>\n",
       "      <th></th>\n",
       "      <th></th>\n",
       "    </tr>\n",
       "  </thead>\n",
       "  <tbody>\n",
       "    <tr>\n",
       "      <th rowspan=\"6\" valign=\"top\">0</th>\n",
       "      <th rowspan=\"2\" valign=\"top\">1</th>\n",
       "      <th>female</th>\n",
       "      <td>0</td>\n",
       "      <td>0</td>\n",
       "      <td>0.0</td>\n",
       "      <td>0</td>\n",
       "      <td>0</td>\n",
       "      <td>0</td>\n",
       "      <td>0.0</td>\n",
       "      <td>0</td>\n",
       "      <td>0</td>\n",
       "      <td>0</td>\n",
       "    </tr>\n",
       "    <tr>\n",
       "      <th>male</th>\n",
       "      <td>0</td>\n",
       "      <td>0</td>\n",
       "      <td>10.0</td>\n",
       "      <td>0</td>\n",
       "      <td>0</td>\n",
       "      <td>0</td>\n",
       "      <td>0.0</td>\n",
       "      <td>15</td>\n",
       "      <td>0</td>\n",
       "      <td>0</td>\n",
       "    </tr>\n",
       "    <tr>\n",
       "      <th rowspan=\"2\" valign=\"top\">2</th>\n",
       "      <th>female</th>\n",
       "      <td>0</td>\n",
       "      <td>0</td>\n",
       "      <td>0.0</td>\n",
       "      <td>0</td>\n",
       "      <td>0</td>\n",
       "      <td>0</td>\n",
       "      <td>0.0</td>\n",
       "      <td>4</td>\n",
       "      <td>0</td>\n",
       "      <td>0</td>\n",
       "    </tr>\n",
       "    <tr>\n",
       "      <th>male</th>\n",
       "      <td>0</td>\n",
       "      <td>0</td>\n",
       "      <td>7.0</td>\n",
       "      <td>0</td>\n",
       "      <td>0</td>\n",
       "      <td>0</td>\n",
       "      <td>0.0</td>\n",
       "      <td>69</td>\n",
       "      <td>0</td>\n",
       "      <td>0</td>\n",
       "    </tr>\n",
       "    <tr>\n",
       "      <th rowspan=\"2\" valign=\"top\">3</th>\n",
       "      <th>female</th>\n",
       "      <td>0</td>\n",
       "      <td>0</td>\n",
       "      <td>14.0</td>\n",
       "      <td>0</td>\n",
       "      <td>0</td>\n",
       "      <td>0</td>\n",
       "      <td>0.0</td>\n",
       "      <td>54</td>\n",
       "      <td>0</td>\n",
       "      <td>0</td>\n",
       "    </tr>\n",
       "    <tr>\n",
       "      <th>male</th>\n",
       "      <td>0</td>\n",
       "      <td>0</td>\n",
       "      <td>70.0</td>\n",
       "      <td>0</td>\n",
       "      <td>0</td>\n",
       "      <td>0</td>\n",
       "      <td>0.0</td>\n",
       "      <td>220</td>\n",
       "      <td>0</td>\n",
       "      <td>0</td>\n",
       "    </tr>\n",
       "    <tr>\n",
       "      <th rowspan=\"6\" valign=\"top\">1</th>\n",
       "      <th rowspan=\"2\" valign=\"top\">1</th>\n",
       "      <th>female</th>\n",
       "      <td>0</td>\n",
       "      <td>0</td>\n",
       "      <td>6.0</td>\n",
       "      <td>0</td>\n",
       "      <td>0</td>\n",
       "      <td>0</td>\n",
       "      <td>0.0</td>\n",
       "      <td>11</td>\n",
       "      <td>2</td>\n",
       "      <td>0</td>\n",
       "    </tr>\n",
       "    <tr>\n",
       "      <th>male</th>\n",
       "      <td>0</td>\n",
       "      <td>0</td>\n",
       "      <td>3.0</td>\n",
       "      <td>0</td>\n",
       "      <td>0</td>\n",
       "      <td>0</td>\n",
       "      <td>0.0</td>\n",
       "      <td>6</td>\n",
       "      <td>0</td>\n",
       "      <td>0</td>\n",
       "    </tr>\n",
       "    <tr>\n",
       "      <th rowspan=\"2\" valign=\"top\">2</th>\n",
       "      <th>female</th>\n",
       "      <td>0</td>\n",
       "      <td>0</td>\n",
       "      <td>1.0</td>\n",
       "      <td>0</td>\n",
       "      <td>0</td>\n",
       "      <td>0</td>\n",
       "      <td>0.0</td>\n",
       "      <td>46</td>\n",
       "      <td>0</td>\n",
       "      <td>0</td>\n",
       "    </tr>\n",
       "    <tr>\n",
       "      <th>male</th>\n",
       "      <td>0</td>\n",
       "      <td>0</td>\n",
       "      <td>1.0</td>\n",
       "      <td>0</td>\n",
       "      <td>0</td>\n",
       "      <td>0</td>\n",
       "      <td>0.0</td>\n",
       "      <td>7</td>\n",
       "      <td>0</td>\n",
       "      <td>0</td>\n",
       "    </tr>\n",
       "    <tr>\n",
       "      <th rowspan=\"2\" valign=\"top\">3</th>\n",
       "      <th>female</th>\n",
       "      <td>0</td>\n",
       "      <td>0</td>\n",
       "      <td>21.0</td>\n",
       "      <td>0</td>\n",
       "      <td>0</td>\n",
       "      <td>0</td>\n",
       "      <td>0.0</td>\n",
       "      <td>54</td>\n",
       "      <td>0</td>\n",
       "      <td>0</td>\n",
       "    </tr>\n",
       "    <tr>\n",
       "      <th>male</th>\n",
       "      <td>0</td>\n",
       "      <td>0</td>\n",
       "      <td>6.0</td>\n",
       "      <td>0</td>\n",
       "      <td>0</td>\n",
       "      <td>0</td>\n",
       "      <td>0.0</td>\n",
       "      <td>36</td>\n",
       "      <td>0</td>\n",
       "      <td>0</td>\n",
       "    </tr>\n",
       "  </tbody>\n",
       "</table>\n",
       "</div>"
      ],
      "text/plain": [
       "                        PassengerId  Name   Age  SibSp  Parch  Ticket  Fare  \\\n",
       "Survived Pclass Sex                                                           \n",
       "0        1      female            0     0   0.0      0      0       0   0.0   \n",
       "                male              0     0  10.0      0      0       0   0.0   \n",
       "         2      female            0     0   0.0      0      0       0   0.0   \n",
       "                male              0     0   7.0      0      0       0   0.0   \n",
       "         3      female            0     0  14.0      0      0       0   0.0   \n",
       "                male              0     0  70.0      0      0       0   0.0   \n",
       "1        1      female            0     0   6.0      0      0       0   0.0   \n",
       "                male              0     0   3.0      0      0       0   0.0   \n",
       "         2      female            0     0   1.0      0      0       0   0.0   \n",
       "                male              0     0   1.0      0      0       0   0.0   \n",
       "         3      female            0     0  21.0      0      0       0   0.0   \n",
       "                male              0     0   6.0      0      0       0   0.0   \n",
       "\n",
       "                        Cabin  Embarked  Is_female  \n",
       "Survived Pclass Sex                                 \n",
       "0        1      female      0         0          0  \n",
       "                male       15         0          0  \n",
       "         2      female      4         0          0  \n",
       "                male       69         0          0  \n",
       "         3      female     54         0          0  \n",
       "                male      220         0          0  \n",
       "1        1      female     11         2          0  \n",
       "                male        6         0          0  \n",
       "         2      female     46         0          0  \n",
       "                male        7         0          0  \n",
       "         3      female     54         0          0  \n",
       "                male       36         0          0  "
      ]
     },
     "execution_count": 21,
     "metadata": {},
     "output_type": "execute_result"
    }
   ],
   "source": [
    "train.groupby(['Survived', 'Pclass', 'Sex']).agg(lambda s: s.isna().sum())"
   ]
  },
  {
   "cell_type": "markdown",
   "metadata": {},
   "source": [
    ">**<font color=purple>A few options for Handling Null Values</font>**\n",
    "\n",
    "**Fill all missing values in your train and test DataFrames with NaN**\n",
    "\n",
    "`train, test = fill_na(train, test, np.nan)`\n",
    "\n",
    "**Fill a column in your train and test with 0 in original DataFrames**\n",
    "\n",
    "`train['col'] = train['col'].fillna(0)`\n",
    "\n",
    "`test['col'] = test['col'].fillna(0)`\n",
    "\n",
    "**Fill the mean age for men and the mean age for women**\n",
    "\n",
    "`def fill_age(data):\n",
    "    age = data[0]\n",
    "    sex = data[1]\n",
    "    if pd.isnull(age):\n",
    "        if sex is 'male': \n",
    "            return 29\n",
    "        else:\n",
    "            return 25\n",
    "    else:\n",
    "        return age`\n",
    "        \n",
    "`train['Age'] = train[['Age','Sex']].apply(fill_age,axis=1)`"
   ]
  },
  {
   "cell_type": "markdown",
   "metadata": {},
   "source": [
    "**Fill with overall average from the training data**"
   ]
  },
  {
   "cell_type": "code",
   "execution_count": 22,
   "metadata": {},
   "outputs": [],
   "source": [
    "#Calculate our fill value using train only\n",
    "\n",
    "avg_age = train.Age.mean()   \n",
    "\n",
    "train.Age = train.Age.fillna(avg_age)\n",
    "\n",
    "test.Age = test.Age.fillna(avg_age)"
   ]
  },
  {
   "cell_type": "code",
   "execution_count": 23,
   "metadata": {},
   "outputs": [
    {
     "data": {
      "image/png": "[encoded data removed]",
      "text/plain": [
       "<Figure size 792x648 with 1 Axes>"
      ]
     },
     "metadata": {
      "needs_background": "light"
     },
     "output_type": "display_data"
    }
   ],
   "source": [
    "sns.heatmap(train.isnull(), yticklabels = False, cbar = False, cmap='Blues')\n",
    "\n",
    "plt.title('Null Values by Column After Handling Nulls in Age')\n",
    "plt.show()"
   ]
  },
  {
   "cell_type": "markdown",
   "metadata": {},
   "source": [
    ">**<font color=purple>Using SimpleImputer from sklearn</font>**\n",
    "\n",
    "**Create the imputer**\n",
    "\n",
    "`imputer = sklearn.impute.SimpleImputer(strategy='mean')`\n",
    "\n",
    "**Fit the imputer**\n",
    "\n",
    "`imputer.fit(train[['column']])`\n",
    "\n",
    "**Use the Imputer**\n",
    "\n",
    "`train.column = imputer.transform(train[['column']])`\n",
    "\n",
    "`test.column = imputer.transform(test[['column']])`\n",
    "\n",
    "**What if our missing value is a categorical?**\n",
    "\n",
    "- Find the most frequent value\n",
    "\n",
    "`train.column.value_counts(dropna=False)`   \n",
    "\n",
    "- Fill that value into train and test\n",
    "\n",
    "`train.column = train.column.fillna('categorical_value')`  \n",
    "\n",
    "`test.column = test.column.fillna('categorical_value')`\n",
    "\n",
    ">**<font color=purple>Using sklearn LabelEncoder()</font>** \n",
    "\n",
    "**Create Encoder Object**\n",
    "\n",
    "`le = LabelEncoder()`\n",
    "\n",
    "**Fit and Transform train and test**\n",
    "\n",
    "`train['col'] = le.fit_transform(train.col_to_encode)`\n",
    "\n",
    "`test['col'] = le.transform(test.col_to_encode)`\n",
    "\n",
    "**Decode Your Encoded Column**\n",
    "\n",
    "`train['col'] = le.inverse_transform(train.col_to_decode)`\n",
    "\n",
    "`test['col'] = le.inverse_transform(test.col_to_decode)`\n",
    "\n",
    ">**<font color=purple>Using sklearn OneHotEncoder()</font>**\n",
    "\n",
    "**Create OHE Object**\n",
    "\n",
    "`ohe = OneHotEncoder(sparse=False, categories='auto')`\n",
    "\n",
    "**Fit and Transform to create array of values**\n",
    "\n",
    "`train_matrix = ohe.fit_transform(train[['col']])`\n",
    "\n",
    "`test_matrix = ohe.fit_transform(test[['col']])`\n",
    "\n",
    "**Convert Array to DataFrame of Encoded Columns**\n",
    "\n",
    "`train_ohe = pd.DataFrame(train_matrix, columns=ohe.categories_[0], index=train.index)`\n",
    "\n",
    "`test_ohe = pd.DataFrame(test_matrix, columns=ohe.categories_[0], index=test.index)`\n",
    "\n",
    "**Join Your DataFrame of Encoded Columns to your original train or test DataFrame**\n",
    "\n",
    "`train = train.join(train_ohe)`\n",
    "\n",
    "`test = test.join(test_ohe)`"
   ]
  },
  {
   "cell_type": "markdown",
   "metadata": {},
   "source": [
    "## Exploring\n",
    "\n",
    "![image.png](https://eazybi.com/static/img/blog_page/posts/2016_03_01/tufte-wallpaper.png)\n",
    "\n",
    "### **<font color=red>What is EDA (Exploratory Data Analysis)?</font>**\n",
    "\n",
    "Exploratory Data Analysis involves learning more about the data you're working with. One reason to perform EDA is to visualize parts of the data to better understand the correlation between the features and the target.\n",
    "\n",
    "**The preparation for your dataset for exploration may not be the same as the prepartion of your dataset for modeling.** The requirements of Machine Learning algorithms do not always overlap with the requirements for good data visualization or exploration."
   ]
  },
  {
   "cell_type": "markdown",
   "metadata": {},
   "source": [
    "### **<font color=orange>So What Types of Viz are best for exploring categorical vs continuous data?</font>**\n",
    "\n",
    "How do you decide what chart to use? Should you aggregate your data to get a better view? Are you making a comparison or showing a relationship between variables? Do you want to display the distribution or composition of your dataset? These are important questions to ask yourself when deciding on types of chart to use and data aggregations for exploration.\n",
    "\n",
    "Read more about how to choose a chart [here](https://eazybi.com/blog/data_visualization_and_chart_types/).\n",
    "\n",
    "![image](https://eazybi.com/static/img/blog_page/posts/2016_03_01/chart-selection-diagram.png)"
   ]
  },
  {
   "cell_type": "markdown",
   "metadata": {},
   "source": [
    "### <font color=green>Now What?</font>\n",
    "\n",
    "**Here's a collection of possibilities for exploring categorical and continuous values.**"
   ]
  },
  {
   "cell_type": "markdown",
   "metadata": {},
   "source": [
    "Set uniform chart and font sizes at the top of your notebook if you like.\n",
    "\n",
    "`plt.rc('figure', figsize=(num, num))`\n",
    "\n",
    "`plt.rc('font', size=13)`\n",
    "\n",
    ">**<font color=purple>Barplot subplots using `sns.countplot()` to Compare Categorical Values in `Embarked`</font>**"
   ]
  },
  {
   "cell_type": "code",
   "execution_count": 24,
   "metadata": {},
   "outputs": [
    {
     "data": {
      "image/png": "[encoded data removed]",
      "text/plain": [
       "<Figure size 792x648 with 2 Axes>"
      ]
     },
     "metadata": {
      "needs_background": "light"
     },
     "output_type": "display_data"
    }
   ],
   "source": [
    "plt.subplot(211)\n",
    "\n",
    "sns.countplot(x = 'Embarked', data=train, palette='Purples', ec='black', linewidth=2)\n",
    "plt.title('Comparison of Embarked, Alone and by Survival Status')\n",
    "\n",
    "plt.subplot(212)\n",
    "\n",
    "# use hue to add another dimension to your viz\n",
    "sns.countplot(x = 'Embarked', hue = 'Survived', data=train, palette='Blues', ec='black', linewidth=2)\n",
    "\n",
    "plt.legend(['Did Not Survive', 'Survived'])\n",
    "\n",
    "plt.show()"
   ]
  },
  {
   "cell_type": "markdown",
   "metadata": {},
   "source": [
    ">**<font color=purple>Boxplots to show Distribution of Age by Sex and Survival</font>**\n",
    "\n",
    "`sns.boxplot(x='categorical', y='continous', data=train , hue=another_cat  )`"
   ]
  },
  {
   "cell_type": "code",
   "execution_count": 25,
   "metadata": {},
   "outputs": [
    {
     "data": {
      "image/png": "[encoded data removed]",
      "text/plain": [
       "<Figure size 792x648 with 1 Axes>"
      ]
     },
     "metadata": {
      "needs_background": "light"
     },
     "output_type": "display_data"
    }
   ],
   "source": [
    "sns.boxplot(x='Sex', y='Age', data=train, hue='Survived', palette='Purples', linewidth=2)\n",
    "\n",
    "plt.title('Distribution of Age by Sex and Survival Status')\n",
    "plt.show()"
   ]
  },
  {
   "cell_type": "markdown",
   "metadata": {},
   "source": [
    ">**<font color=purple>Swarmplots to show Distribution of a Continuous Variable grouped by Categorical Variables</font>**\n",
    "\n",
    "`sns.swarmplot(x='categorical', y='continous', data=train , hue=another_cat  )`"
   ]
  },
  {
   "cell_type": "code",
   "execution_count": 26,
   "metadata": {},
   "outputs": [
    {
     "data": {
      "image/png": "[encoded data removed]",
      "text/plain": [
       "<Figure size 792x648 with 1 Axes>"
      ]
     },
     "metadata": {
      "needs_background": "light"
     },
     "output_type": "display_data"
    }
   ],
   "source": [
    "sns.swarmplot(x='Sex', y='Age', data=train , hue='Survived'  )\n",
    "\n",
    "plt.title('')\n",
    "plt.show()"
   ]
  },
  {
   "cell_type": "markdown",
   "metadata": {},
   "source": [
    ">**<font color=purple>Violinplot Similar to Boxplots</font>**\n",
    "\n",
    "`sns.violinplot(x='categorical', y='continous', data=train , hue=another_cat  )`"
   ]
  },
  {
   "cell_type": "code",
   "execution_count": 27,
   "metadata": {},
   "outputs": [
    {
     "data": {
      "image/png": "[encoded data removed]",
      "text/plain": [
       "<Figure size 792x648 with 1 Axes>"
      ]
     },
     "metadata": {
      "needs_background": "light"
     },
     "output_type": "display_data"
    }
   ],
   "source": [
    "sns.violinplot(x='Sex', y='Fare', data=train , hue='Survived'  )\n",
    "\n",
    "plt.title('Distribution of Fare by Sex and Survival Status')\n",
    "plt.show()"
   ]
  },
  {
   "cell_type": "markdown",
   "metadata": {},
   "source": [
    ">**<font color=purple>Histogram Subplots to View Distribution of Fare by Survival Status</font>**"
   ]
  },
  {
   "cell_type": "code",
   "execution_count": 28,
   "metadata": {},
   "outputs": [
    {
     "data": {
      "image/png": "[encoded data removed]",
      "text/plain": [
       "<Figure size 792x648 with 2 Axes>"
      ]
     },
     "metadata": {
      "needs_background": "light"
     },
     "output_type": "display_data"
    }
   ],
   "source": [
    "fig, (ax1, ax2) = plt.subplots(2, 1, sharex=True, sharey=True)\n",
    "\n",
    "ax1.hist(train[train.Survived == 1].Fare, bins=20, color='dodgerblue')\n",
    "ax1.set(title='Survived')\n",
    "\n",
    "\n",
    "ax2.hist(train[train.Survived == 0].Fare, bins=20, color='dodgerblue')\n",
    "ax2.set(title='Did Not Survive', xlabel='Fare Price')\n",
    "\n",
    "plt.show()"
   ]
  },
  {
   "cell_type": "markdown",
   "metadata": {},
   "source": [
    ">**<font color=purple>Crosstab with Heatmap to Group Variables and Understand Correlations</font>**"
   ]
  },
  {
   "cell_type": "code",
   "execution_count": 29,
   "metadata": {},
   "outputs": [
    {
     "data": {
      "image/png": "[encoded data removed]",
      "text/plain": [
       "<Figure size 792x648 with 2 Axes>"
      ]
     },
     "metadata": {
      "needs_background": "light"
     },
     "output_type": "display_data"
    }
   ],
   "source": [
    "ctab = pd.crosstab(train.Survived, train.Pclass)\n",
    "\n",
    "sns.heatmap(ctab, annot=True, cmap='Greens', fmt='d')\n",
    "plt.show()"
   ]
  },
  {
   "cell_type": "markdown",
   "metadata": {},
   "source": [
    ">**<font color=purple>Inspect percentages of overall population</font>**"
   ]
  },
  {
   "cell_type": "code",
   "execution_count": 30,
   "metadata": {},
   "outputs": [
    {
     "data": {
      "image/png": "[encoded data removed]",
      "text/plain": [
       "<Figure size 792x648 with 2 Axes>"
      ]
     },
     "metadata": {
      "needs_background": "light"
     },
     "output_type": "display_data"
    }
   ],
   "source": [
    "ctab = pd.crosstab(train.Survived, train.Pclass, normalize=True)\n",
    "\n",
    "sns.heatmap(ctab, annot=True, cmap='Greens', fmt='.2%')\n",
    "plt.show()"
   ]
  },
  {
   "cell_type": "markdown",
   "metadata": {},
   "source": [
    ">**<font color=purple>Number and Percentage of People Who Survived</font>**\n",
    "\n",
    "`train.Survived.sum()`\n",
    "\n",
    "`train.Survived.mean()`"
   ]
  },
  {
   "cell_type": "markdown",
   "metadata": {},
   "source": [
    ">**<font color=purple>Groupby to Explore Different Aggregations of Data</font>**\n",
    "\n",
    "- `.groupby()` creates a Series with an index of the survival values and the mean fare value for each index value. \n",
    "\n",
    "\n",
    "- Adding `.plot.bar()` turns the index of your groupby into xlabels and the values into bar heights. **This is such a useful code snippet to put in your back pocket!**\n",
    "\n",
    "`train.groupby('survival').fare.mean().plot.bar()`\n",
    "\n",
    ">**<font color=purple>Inspect percentages by group</font>**\n",
    "\n",
    "`normalize=False` shows raw value counts, not percentages"
   ]
  },
  {
   "cell_type": "code",
   "execution_count": 31,
   "metadata": {},
   "outputs": [
    {
     "data": {
      "image/png": "[encoded data removed]",
      "text/plain": [
       "<Figure size 792x648 with 1 Axes>"
      ]
     },
     "metadata": {
      "needs_background": "light"
     },
     "output_type": "display_data"
    }
   ],
   "source": [
    "# custom aggregate to get value counts by group\n",
    "(\n",
    "train.groupby('Embarked')['Pclass']\n",
    "\n",
    "# turn an index into columns and create bar plot\n",
    "    .apply(lambda s: s.value_counts(normalize=True))  \n",
    "    .unstack()                                        \n",
    "    .plot.bar(stacked=True, width=.9)                 \n",
    ")\n",
    "\n",
    "plt.title('Percent of Pclass by Embark Towns')\n",
    "plt.legend(title='Pclass')\n",
    "plt.xticks(rotation=9)\n",
    "plt.xlabel('Embark Towns')\n",
    "plt.ylabel('Percent')\n",
    "\n",
    "plt.show()"
   ]
  },
  {
   "cell_type": "code",
   "execution_count": 32,
   "metadata": {},
   "outputs": [
    {
     "data": {
      "image/png": "[encoded data removed]",
      "text/plain": [
       "<Figure size 792x648 with 1 Axes>"
      ]
     },
     "metadata": {
      "needs_background": "light"
     },
     "output_type": "display_data"
    }
   ],
   "source": [
    "train.groupby('Sex').Survived.mean().plot.bar(ec='black', fc='dodgerblue', width=.9)\n",
    "\n",
    "# plt.hlines(height, starts, ends) (is like y, xmin, xmax)\n",
    "plt.hlines(train.Survived.mean(), *plt.xlim(), ls='--', color='grey', label='average survival rate')\n",
    "\n",
    "plt.xticks(rotation=0)\n",
    "plt.xlabel('')\n",
    "plt.ylabel('Survival Rate')\n",
    "\n",
    "plt.title('Survival Rate by Sex')\n",
    "plt.legend()\n",
    "plt.show()"
   ]
  },
  {
   "cell_type": "markdown",
   "metadata": {},
   "source": [
    ">**<font color=purple>Using 2 Different Categories</font>**"
   ]
  },
  {
   "cell_type": "code",
   "execution_count": 33,
   "metadata": {},
   "outputs": [
    {
     "data": {
      "image/png": "[encoded data removed]",
      "text/plain": [
       "<Figure size 792x648 with 2 Axes>"
      ]
     },
     "metadata": {
      "needs_background": "light"
     },
     "output_type": "display_data"
    }
   ],
   "source": [
    "train.groupby(['Pclass', 'Sex']).Survived.mean()\n",
    "\n",
    "ctab = pd.crosstab(train.Pclass, train.Sex, values=train.Survived, aggfunc='mean')\n",
    "sns.heatmap(ctab, annot=True, cmap='Purples', fmt='.1%')\n",
    "\n",
    "plt.show()"
   ]
  },
  {
   "cell_type": "markdown",
   "metadata": {},
   "source": [
    "OR\n",
    "\n",
    "        -> df.pivot_table(  values,    rows,     columns)\n",
    " "
   ]
  },
  {
   "cell_type": "code",
   "execution_count": 34,
   "metadata": {},
   "outputs": [
    {
     "data": {
      "text/html": [
       "<div>\n",
       "<style scoped>\n",
       "    .dataframe tbody tr th:only-of-type {\n",
       "        vertical-align: middle;\n",
       "    }\n",
       "\n",
       "    .dataframe tbody tr th {\n",
       "        vertical-align: top;\n",
       "    }\n",
       "\n",
       "    .dataframe thead th {\n",
       "        text-align: right;\n",
       "    }\n",
       "</style>\n",
       "<table border=\"1\" class=\"dataframe\">\n",
       "  <thead>\n",
       "    <tr style=\"text-align: right;\">\n",
       "      <th>Sex</th>\n",
       "      <th>female</th>\n",
       "      <th>male</th>\n",
       "    </tr>\n",
       "    <tr>\n",
       "      <th>Pclass</th>\n",
       "      <th></th>\n",
       "      <th></th>\n",
       "    </tr>\n",
       "  </thead>\n",
       "  <tbody>\n",
       "    <tr>\n",
       "      <th>1</th>\n",
       "      <td>0.985075</td>\n",
       "      <td>0.370787</td>\n",
       "    </tr>\n",
       "    <tr>\n",
       "      <th>2</th>\n",
       "      <td>0.912281</td>\n",
       "      <td>0.134146</td>\n",
       "    </tr>\n",
       "    <tr>\n",
       "      <th>3</th>\n",
       "      <td>0.508772</td>\n",
       "      <td>0.146718</td>\n",
       "    </tr>\n",
       "  </tbody>\n",
       "</table>\n",
       "</div>"
      ],
      "text/plain": [
       "Sex       female      male\n",
       "Pclass                    \n",
       "1       0.985075  0.370787\n",
       "2       0.912281  0.134146\n",
       "3       0.508772  0.146718"
      ]
     },
     "execution_count": 34,
     "metadata": {},
     "output_type": "execute_result"
    }
   ],
   "source": [
    "ctab = train.pivot_table('Survived', 'Pclass', 'Sex')\n",
    "ctab"
   ]
  },
  {
   "cell_type": "markdown",
   "metadata": {},
   "source": [
    ">**<font color=purple>Binning for Exploration</font>** \n",
    "\n",
    "-Turning a continuous variable into a categorical one for viz"
   ]
  },
  {
   "cell_type": "code",
   "execution_count": 35,
   "metadata": {},
   "outputs": [
    {
     "data": {
      "text/html": [
       "<div>\n",
       "<style scoped>\n",
       "    .dataframe tbody tr th:only-of-type {\n",
       "        vertical-align: middle;\n",
       "    }\n",
       "\n",
       "    .dataframe tbody tr th {\n",
       "        vertical-align: top;\n",
       "    }\n",
       "\n",
       "    .dataframe thead th {\n",
       "        text-align: right;\n",
       "    }\n",
       "</style>\n",
       "<table border=\"1\" class=\"dataframe\">\n",
       "  <thead>\n",
       "    <tr style=\"text-align: right;\">\n",
       "      <th></th>\n",
       "      <th>PassengerId</th>\n",
       "      <th>Survived</th>\n",
       "      <th>Pclass</th>\n",
       "      <th>Name</th>\n",
       "      <th>Sex</th>\n",
       "      <th>Age</th>\n",
       "      <th>SibSp</th>\n",
       "      <th>Parch</th>\n",
       "      <th>Ticket</th>\n",
       "      <th>Fare</th>\n",
       "      <th>Cabin</th>\n",
       "      <th>Embarked</th>\n",
       "      <th>Is_female</th>\n",
       "      <th>age_bin</th>\n",
       "    </tr>\n",
       "  </thead>\n",
       "  <tbody>\n",
       "    <tr>\n",
       "      <th>660</th>\n",
       "      <td>661</td>\n",
       "      <td>1</td>\n",
       "      <td>1</td>\n",
       "      <td>Frauenthal, Dr. Henry William</td>\n",
       "      <td>male</td>\n",
       "      <td>50.0</td>\n",
       "      <td>2</td>\n",
       "      <td>0</td>\n",
       "      <td>PC 17611</td>\n",
       "      <td>133.6500</td>\n",
       "      <td>NaN</td>\n",
       "      <td>S</td>\n",
       "      <td>0</td>\n",
       "      <td>adult</td>\n",
       "    </tr>\n",
       "    <tr>\n",
       "      <th>852</th>\n",
       "      <td>853</td>\n",
       "      <td>0</td>\n",
       "      <td>3</td>\n",
       "      <td>Boulos, Miss. Nourelain</td>\n",
       "      <td>female</td>\n",
       "      <td>9.0</td>\n",
       "      <td>1</td>\n",
       "      <td>1</td>\n",
       "      <td>2678</td>\n",
       "      <td>15.2458</td>\n",
       "      <td>NaN</td>\n",
       "      <td>C</td>\n",
       "      <td>1</td>\n",
       "      <td>child</td>\n",
       "    </tr>\n",
       "    <tr>\n",
       "      <th>703</th>\n",
       "      <td>704</td>\n",
       "      <td>0</td>\n",
       "      <td>3</td>\n",
       "      <td>Gallagher, Mr. Martin</td>\n",
       "      <td>male</td>\n",
       "      <td>25.0</td>\n",
       "      <td>0</td>\n",
       "      <td>0</td>\n",
       "      <td>36864</td>\n",
       "      <td>7.7417</td>\n",
       "      <td>NaN</td>\n",
       "      <td>Q</td>\n",
       "      <td>0</td>\n",
       "      <td>adult</td>\n",
       "    </tr>\n",
       "    <tr>\n",
       "      <th>886</th>\n",
       "      <td>887</td>\n",
       "      <td>0</td>\n",
       "      <td>2</td>\n",
       "      <td>Montvila, Rev. Juozas</td>\n",
       "      <td>male</td>\n",
       "      <td>27.0</td>\n",
       "      <td>0</td>\n",
       "      <td>0</td>\n",
       "      <td>211536</td>\n",
       "      <td>13.0000</td>\n",
       "      <td>NaN</td>\n",
       "      <td>S</td>\n",
       "      <td>0</td>\n",
       "      <td>adult</td>\n",
       "    </tr>\n",
       "    <tr>\n",
       "      <th>525</th>\n",
       "      <td>526</td>\n",
       "      <td>0</td>\n",
       "      <td>3</td>\n",
       "      <td>Farrell, Mr. James</td>\n",
       "      <td>male</td>\n",
       "      <td>40.5</td>\n",
       "      <td>0</td>\n",
       "      <td>0</td>\n",
       "      <td>367232</td>\n",
       "      <td>7.7500</td>\n",
       "      <td>NaN</td>\n",
       "      <td>Q</td>\n",
       "      <td>0</td>\n",
       "      <td>adult</td>\n",
       "    </tr>\n",
       "  </tbody>\n",
       "</table>\n",
       "</div>"
      ],
      "text/plain": [
       "     PassengerId  Survived  Pclass                           Name     Sex  \\\n",
       "660          661         1       1  Frauenthal, Dr. Henry William    male   \n",
       "852          853         0       3        Boulos, Miss. Nourelain  female   \n",
       "703          704         0       3          Gallagher, Mr. Martin    male   \n",
       "886          887         0       2          Montvila, Rev. Juozas    male   \n",
       "525          526         0       3             Farrell, Mr. James    male   \n",
       "\n",
       "      Age  SibSp  Parch    Ticket      Fare Cabin Embarked  Is_female age_bin  \n",
       "660  50.0      2      0  PC 17611  133.6500   NaN        S          0   adult  \n",
       "852   9.0      1      1      2678   15.2458   NaN        C          1   child  \n",
       "703  25.0      0      0     36864    7.7417   NaN        Q          0   adult  \n",
       "886  27.0      0      0    211536   13.0000   NaN        S          0   adult  \n",
       "525  40.5      0      0    367232    7.7500   NaN        Q          0   adult  "
      ]
     },
     "execution_count": 35,
     "metadata": {},
     "output_type": "execute_result"
    }
   ],
   "source": [
    "# splits age into 2 bins, 0-18 and 18-80\n",
    "train['age_bin'] = pd.cut(train.Age, bins = [0, 18, 80], labels=['child', 'adult'])\n",
    "train.head()"
   ]
  },
  {
   "cell_type": "code",
   "execution_count": 36,
   "metadata": {},
   "outputs": [
    {
     "data": {
      "text/plain": [
       "age_bin\n",
       "child    0.500000\n",
       "adult    0.366667\n",
       "Name: Survived, dtype: float64"
      ]
     },
     "execution_count": 36,
     "metadata": {},
     "output_type": "execute_result"
    }
   ],
   "source": [
    "# inspect survival rate of children and adults\n",
    "\n",
    "train.groupby('age_bin').Survived.mean()"
   ]
  },
  {
   "cell_type": "code",
   "execution_count": 37,
   "metadata": {},
   "outputs": [
    {
     "data": {
      "text/plain": [
       "660    (26.947, 53.473]\n",
       "852      (0.34, 26.947]\n",
       "703      (0.34, 26.947]\n",
       "886    (26.947, 53.473]\n",
       "525    (26.947, 53.473]\n",
       "             ...       \n",
       "98     (26.947, 53.473]\n",
       "322    (26.947, 53.473]\n",
       "382    (26.947, 53.473]\n",
       "365    (26.947, 53.473]\n",
       "510    (26.947, 53.473]\n",
       "Name: Age, Length: 668, dtype: category\n",
       "Categories (3, interval[float64]): [(0.34, 26.947] < (26.947, 53.473] < (53.473, 80.0]]"
      ]
     },
     "execution_count": 37,
     "metadata": {},
     "output_type": "execute_result"
    }
   ],
   "source": [
    "# for even intervals\n",
    "\n",
    "pd.cut(train.Age, 3)      "
   ]
  },
  {
   "cell_type": "code",
   "execution_count": 38,
   "metadata": {},
   "outputs": [
    {
     "data": {
      "text/plain": [
       "660     (31.0, 80.0]\n",
       "852    (0.419, 26.0]\n",
       "703    (0.419, 26.0]\n",
       "886     (26.0, 31.0]\n",
       "525     (31.0, 80.0]\n",
       "           ...      \n",
       "98      (31.0, 80.0]\n",
       "322     (26.0, 31.0]\n",
       "382     (31.0, 80.0]\n",
       "365     (26.0, 31.0]\n",
       "510     (26.0, 31.0]\n",
       "Name: Age, Length: 668, dtype: category\n",
       "Categories (3, interval[float64]): [(0.419, 26.0] < (26.0, 31.0] < (31.0, 80.0]]"
      ]
     },
     "execution_count": 38,
     "metadata": {},
     "output_type": "execute_result"
    }
   ],
   "source": [
    "# for even number of observations in each interval\n",
    "\n",
    "pd.qcut(train.Age, 3)"
   ]
  },
  {
   "cell_type": "markdown",
   "metadata": {},
   "source": [
    ">**<font color=purple>Melt</font>**\n",
    "\n",
    "`pd.melt()` - This function deaggregates obesrvations; it gives you a key-value column pair. It allows us to combine multiple continuous measures on the same visualization.\n",
    "\n",
    "`pd.melt(dataframe, [columns_to_keep], var_name='new_name for the 'key' column')`"
   ]
  },
  {
   "cell_type": "markdown",
   "metadata": {},
   "source": [
    ">**<font color=purple>Pivot</font>**\n",
    "\n",
    "`df.pivot_table(values, rows, columns)`\n",
    "\n",
    "`df.pivot_table(values= , index= , columns= )`\n",
    "\n",
    "OR\n",
    "\n",
    "`df.pivot_table(values= , index=['', ''], columns= )`\n",
    "\n",
    "Default in pivot_table: (aggfunc='mean')"
   ]
  },
  {
   "cell_type": "markdown",
   "metadata": {},
   "source": [
    ">**<font color=purple>Subplots Using Simple pyplot</font>**\n",
    "\n",
    "`plt.subplot(2, 1, 1)` # figure 1 of 2\n",
    "\n",
    "`plt.plot(x, y)`       # everything up until the next subplot is on the first\n",
    "\n",
    "`plt.show()`\n",
    "    \n",
    "`plt.subplot(2, 1, 2)` # figure 2 of 2\n",
    "\n",
    "`plt.plot(y, x)`       # everything up until the next subplot is on the second\n",
    "\n",
    "`plt.show()`"
   ]
  },
  {
   "cell_type": "markdown",
   "metadata": {},
   "source": [
    ">**<font color=purple>Using Matplotlib Object-Oriented API</font>**\n",
    "\n",
    "A figure in matplotlib is divided into two different objects:\n",
    "\n",
    "- The Figure Class: It can contain one or more axes objects.\n",
    "\n",
    "- The Axes Object: It represents one plot inside of a figure object.\n",
    "\n",
    "subplots(nrows, ncols)\n",
    "\n",
    "`fig, axes = plt.subplots(2,1)`\n",
    "\n",
    "`axes[0].plot(x, y)`\n",
    "\n",
    "`axes[0].set(title='My Title')`\n",
    "\n",
    "`axes[1].plot(y, x)`\n",
    "\n",
    "`axes[1].set(title='My Title')`\n",
    "\n",
    "`axes[1].set_xticklabels()`\n",
    "\n",
    "`fig.tight_layout()`"
   ]
  },
  {
   "cell_type": "markdown",
   "metadata": {},
   "source": [
    ">**<font color=purple>Glossary for Matplotlib Figures</font>**"
   ]
  },
  {
   "cell_type": "code",
   "execution_count": 39,
   "metadata": {},
   "outputs": [
    {
     "data": {
      "image/png": "[encoded data removed]",
      "text/plain": [
       "<Figure size 576x576 with 1 Axes>"
      ]
     },
     "metadata": {
      "needs_background": "light"
     },
     "output_type": "display_data"
    }
   ],
   "source": [
    "anatomy_of_a_figure()"
   ]
  },
  {
   "cell_type": "markdown",
   "metadata": {},
   "source": [
    "**There's some pretty cool EDA code and explanation in [this article.](https://towardsdatascience.com/exploratory-data-analysis-for-linear-regression-classification-8a27da23debc) Check it out!**\n",
    "\n",
    "**Here are the official matplotlib [tutorials](https://matplotlib.org/3.1.1/tutorials/index.html#introductory)**"
   ]
  },
  {
   "cell_type": "markdown",
   "metadata": {},
   "source": [
    "## Evaluating\n",
    "\n",
    "### **<font color=red>What Are Evaluation Metrics for Classification Models?</font>**\n",
    "\n",
    "There are different metrics we can use to understand how well our classification model is predicting. Context will guide you toward the most valuable metric for your particular situation.\n",
    "\n",
    "![image.png](https://i.stack.imgur.com/LIWH1.jpg)\n",
    "\n",
    "----\n",
    "\n",
    ">**Accuracy:** This tells you how often your classifier is **predicting correctly overall**. \n",
    "\n",
    "This is the ratio of all of your correct predictions over all of your data points. \n",
    "\n",
    "(Total Number Correct / Total Number of Data Points) -> (TP + TN / TP + TN + FP + FN)\n",
    "\n",
    "----\n",
    "\n",
    ">**Recall:** The Recall score tells you how often your classifier is catching the positive cases in your dataset. It describes how good the model is at predicting the positive class when the actual outcome is positive. In other words, Recall tells you what percentage of the time your model is identifying the relevant cases in your dataset.\n",
    "\n",
    "**<font color=green>The Higher the Recall Score == The better your Classifier is at catching the actual positive cases in your dataset.</font>**\n",
    "\n",
    "**<font color=red>The Lower the Recall Score == The more your Classifier is making Type II Errors / Misses / False Negatives.</font>**\n",
    "\n",
    "(Total Number of Correct Positive Predictions / Total Number of Actual Positive Observations in Dataset) -> (TP / TP + FN)\n",
    "\n",
    "----\n",
    "\n",
    ">**Precision:** The Precision score tells you how often your model was able to **predict positives correctly.** In other words, precision is the proportion of observations your model predicts to be relevant that were actually relevant and not false alarms or false positives.\n",
    "\n",
    "\n",
    "**<font color=green>The Higher the Precision Score == The better your Classifier is at Predicting Positives Precisely in your dataset.</font>**\n",
    "\n",
    "**<font color=red>The lower the Precision Score == The more your Classifier predicted a lot of positives where there were none, False Positives / Type I Errors / False Alarms</font>**\n",
    "\n",
    "- If your model's Precision score goes up, the cost is that your model's Recall score goes down. You have to decide which is more important in your situation.\n",
    "\n",
    "(Total Number of Correct Positive Predictions / Total Number of Observations Predicted as Postive by Model) -> (TP / TP + FP)\n",
    "\n",
    "----\n",
    "\n",
    ">**f1-score:** The balanced harmonic mean of Recall and Precision, giving both metrics equal weight. The higher the F-Measure is, the better when you are looking to optimize for both Recall and Precision.\n",
    "\n",
    "----\n",
    "\n",
    ">**ROC Curve:** The Receiver Operating Characteristic Curve (ROC Curve) summarizes the trade-off between the true positive rate and false positive rate for a predictive model using different probability thresholds. ROC curves are appropriate when the observations are balanced between each class in a binary classification problem.\n",
    "\n",
    "![image.png](https://3qeqpr26caki16dnhd19sv6by6v-wpengine.netdna-ssl.com/wp-content/uploads/2018/08/ROC-Curve-Plot-for-a-No-Skill-Classifier-and-a-Logistic-Regression-Model.png)\n",
    "\n",
    "- It is a plot of the false positive rate (x-axis) versus the true positive rate (y-axis) for a number of different candidate threshold values between 0.0 and 1.0. Put another way, it plots the false alarm rate versus the hit rate.\n",
    "\n",
    "----\n",
    "\n",
    "**Baseline:** Predicting the most common case for everything.\n",
    "\n",
    "- 70% of your observations are non-smokers. You predict all of your observations are non-smokers. Your Baseline predicts correctly 70% of the time, or in other words, your baseline accuracy is 70%. If your model doesn't predict correctly more than 70% of the time, your model doesn't add value.\n",
    "\n",
    "To evaluate the performance of your classification model, you can also create a Confustion Matrix. \n",
    "\n",
    "![image.png](https://encrypted-tbn0.gstatic.com/images?q=tbn%3AANd9GcSmzFvEZ0uhNbNa39AP7Yd_Net4osjEHOxurVREHFKHqEKZwwnQ&usqp=CAU)\n",
    "\n",
    "### **<font color=orange>So What If...?</font>**\n",
    "\n",
    "**<font color=purple>Recall</font>**\n",
    "\n",
    "\n",
    "- If your Recall score is high, your model didn’t miss a lot of positives; it's good at catching positive instances.\n",
    "\n",
    ">For example, if your model is predicting positive for churn and your Recall score is high, your model is good at identifying customers who are positive for churn or actually churning.\n",
    "\n",
    "- As your Recall score gets lower, your model is not predicting more of the positives that are actually there; you are missing Positive observations.\n",
    "\n",
    ">For example, if your model is predicting positive for churn and your Recall score is low, your model is not good at identifying customers who are churning. It is predicting a lot of False Negatives; you are missing the opportunity to find and woo customers who are going to churn. These are Misses, missed opportunities to identify and keep customers who are actually positive for churn. **These are Type II Errors**\n",
    "\n",
    "**You want to optimize for recall when missed positives are expensive.**\n",
    "\n",
    "**<font color=purple>Precision</font>**\n",
    "\n",
    "- The higher your precision score is, the better your model is at **Predicting Positives Precisely!** It avoids predicting a lot of False Positives but it is missing more of the Actual Positives, too. \n",
    "\n",
    "\n",
    "- As your Precision score gets lower, your model predicted a lot of False Postives or positives where there were none.\n",
    "\n",
    "**You want to optimize for Precision when False Positives are expensive.**\n",
    "\n",
    "\n",
    "### **<font color=green>Now What?</font>**\n",
    "\n",
    ">**Using sklearn**"
   ]
  },
  {
   "cell_type": "code",
   "execution_count": 40,
   "metadata": {},
   "outputs": [],
   "source": [
    "from sklearn.linear_model import LogisticRegression\n",
    "from sklearn.metrics import classification_report, confusion_matrix, precision_score, recall_score, accuracy_score\n",
    "from sklearn.metrics import confusion_matrix\n",
    "\n",
    "X_train = train[['Pclass', 'Is_female']]\n",
    "y_train = train[['Survived']]\n",
    "\n",
    "X_test = test[['Pclass', 'Is_female']]\n",
    "y_test = test[['Survived']]\n",
    "\n",
    "logit = LogisticRegression(random_state=123).fit(X_train, y_train)"
   ]
  },
  {
   "cell_type": "markdown",
   "metadata": {},
   "source": [
    ">**Create Evaluation DataFrame**"
   ]
  },
  {
   "cell_type": "code",
   "execution_count": 41,
   "metadata": {},
   "outputs": [
    {
     "data": {
      "text/html": [
       "<div>\n",
       "<style scoped>\n",
       "    .dataframe tbody tr th:only-of-type {\n",
       "        vertical-align: middle;\n",
       "    }\n",
       "\n",
       "    .dataframe tbody tr th {\n",
       "        vertical-align: top;\n",
       "    }\n",
       "\n",
       "    .dataframe thead th {\n",
       "        text-align: right;\n",
       "    }\n",
       "</style>\n",
       "<table border=\"1\" class=\"dataframe\">\n",
       "  <thead>\n",
       "    <tr style=\"text-align: right;\">\n",
       "      <th></th>\n",
       "      <th>actual</th>\n",
       "      <th>yhat</th>\n",
       "      <th>probs</th>\n",
       "    </tr>\n",
       "  </thead>\n",
       "  <tbody>\n",
       "    <tr>\n",
       "      <th>660</th>\n",
       "      <td>1</td>\n",
       "      <td>0</td>\n",
       "      <td>0.424812</td>\n",
       "    </tr>\n",
       "    <tr>\n",
       "      <th>852</th>\n",
       "      <td>0</td>\n",
       "      <td>1</td>\n",
       "      <td>0.598620</td>\n",
       "    </tr>\n",
       "    <tr>\n",
       "      <th>703</th>\n",
       "      <td>0</td>\n",
       "      <td>0</td>\n",
       "      <td>0.107580</td>\n",
       "    </tr>\n",
       "    <tr>\n",
       "      <th>886</th>\n",
       "      <td>0</td>\n",
       "      <td>0</td>\n",
       "      <td>0.229811</td>\n",
       "    </tr>\n",
       "    <tr>\n",
       "      <th>525</th>\n",
       "      <td>0</td>\n",
       "      <td>0</td>\n",
       "      <td>0.107580</td>\n",
       "    </tr>\n",
       "  </tbody>\n",
       "</table>\n",
       "</div>"
      ],
      "text/plain": [
       "     actual  yhat     probs\n",
       "660       1     0  0.424812\n",
       "852       0     1  0.598620\n",
       "703       0     0  0.107580\n",
       "886       0     0  0.229811\n",
       "525       0     0  0.107580"
      ]
     },
     "execution_count": 41,
     "metadata": {},
     "output_type": "execute_result"
    }
   ],
   "source": [
    "eval_df = train[['Survived']].rename(columns={'Survived': 'actual'})\n",
    "\n",
    "eval_df['yhat'] = logit.predict(X_train)\n",
    "\n",
    "eval_df['probs'] = logit.predict_proba(X_train)[:, 1]\n",
    "\n",
    "eval_df.head()"
   ]
  },
  {
   "cell_type": "markdown",
   "metadata": {},
   "source": [
    ">**Accuracy Score**"
   ]
  },
  {
   "cell_type": "code",
   "execution_count": 42,
   "metadata": {},
   "outputs": [
    {
     "data": {
      "text/plain": [
       "0.7844311377245509"
      ]
     },
     "execution_count": 42,
     "metadata": {},
     "output_type": "execute_result"
    }
   ],
   "source": [
    "logit.score(X_train, y_train)"
   ]
  },
  {
   "cell_type": "markdown",
   "metadata": {},
   "source": [
    ">**Recall Score**"
   ]
  },
  {
   "cell_type": "code",
   "execution_count": 43,
   "metadata": {},
   "outputs": [
    {
     "data": {
      "text/plain": [
       "array([0.84878049, 0.68217054])"
      ]
     },
     "execution_count": 43,
     "metadata": {},
     "output_type": "execute_result"
    }
   ],
   "source": [
    "recall_score(eval_df.actual, eval_df.yhat, average=None)"
   ]
  },
  {
   "cell_type": "markdown",
   "metadata": {},
   "source": [
    ">**Precision Score**"
   ]
  },
  {
   "cell_type": "code",
   "execution_count": 44,
   "metadata": {},
   "outputs": [
    {
     "data": {
      "text/plain": [
       "array([0.80930233, 0.7394958 ])"
      ]
     },
     "execution_count": 44,
     "metadata": {},
     "output_type": "execute_result"
    }
   ],
   "source": [
    "precision_score(eval_df.actual, eval_df.yhat, average=None)"
   ]
  },
  {
   "cell_type": "markdown",
   "metadata": {},
   "source": [
    ">**Confusion Matrix**"
   ]
  },
  {
   "cell_type": "code",
   "execution_count": 45,
   "metadata": {},
   "outputs": [
    {
     "data": {
      "image/png": "[encoded data removed]",
      "text/plain": [
       "<Figure size 792x648 with 2 Axes>"
      ]
     },
     "metadata": {
      "needs_background": "light"
     },
     "output_type": "display_data"
    }
   ],
   "source": [
    "cm = confusion_matrix(eval_df.actual, eval_df.yhat)\n",
    "sns.heatmap(cm, annot=True, fmt=\"d\", cmap='Purples', yticklabels=['Actual Did Not Survive', 'Actual Survived'], xticklabels=['Pred Did Not Survive', 'Pred Survived'])\n",
    "\n",
    "plt.title('Confustion Matrix')\n",
    "plt.show()"
   ]
  },
  {
   "cell_type": "markdown",
   "metadata": {},
   "source": [
    "OR"
   ]
  },
  {
   "cell_type": "code",
   "execution_count": 46,
   "metadata": {},
   "outputs": [
    {
     "data": {
      "text/html": [
       "<div>\n",
       "<style scoped>\n",
       "    .dataframe tbody tr th:only-of-type {\n",
       "        vertical-align: middle;\n",
       "    }\n",
       "\n",
       "    .dataframe tbody tr th {\n",
       "        vertical-align: top;\n",
       "    }\n",
       "\n",
       "    .dataframe thead th {\n",
       "        text-align: right;\n",
       "    }\n",
       "</style>\n",
       "<table border=\"1\" class=\"dataframe\">\n",
       "  <thead>\n",
       "    <tr style=\"text-align: right;\">\n",
       "      <th>Predicted</th>\n",
       "      <th>0</th>\n",
       "      <th>1</th>\n",
       "    </tr>\n",
       "    <tr>\n",
       "      <th>Actual</th>\n",
       "      <th></th>\n",
       "      <th></th>\n",
       "    </tr>\n",
       "  </thead>\n",
       "  <tbody>\n",
       "    <tr>\n",
       "      <th>0</th>\n",
       "      <td>348</td>\n",
       "      <td>62</td>\n",
       "    </tr>\n",
       "    <tr>\n",
       "      <th>1</th>\n",
       "      <td>82</td>\n",
       "      <td>176</td>\n",
       "    </tr>\n",
       "  </tbody>\n",
       "</table>\n",
       "</div>"
      ],
      "text/plain": [
       "Predicted    0    1\n",
       "Actual             \n",
       "0          348   62\n",
       "1           82  176"
      ]
     },
     "execution_count": 46,
     "metadata": {},
     "output_type": "execute_result"
    }
   ],
   "source": [
    "pd.crosstab(eval_df.actual, eval_df.yhat, \n",
    "            rownames=['Actual'], \n",
    "            colnames=['Predicted'], margins=False, margins_name=\"Total\")"
   ]
  },
  {
   "cell_type": "markdown",
   "metadata": {},
   "source": [
    ">**Classification Report**"
   ]
  },
  {
   "cell_type": "code",
   "execution_count": 47,
   "metadata": {
    "scrolled": true
   },
   "outputs": [
    {
     "name": "stdout",
     "output_type": "stream",
     "text": [
      "              precision    recall  f1-score   support\n",
      "\n",
      "           0       0.81      0.85      0.83       410\n",
      "           1       0.74      0.68      0.71       258\n",
      "\n",
      "    accuracy                           0.78       668\n",
      "   macro avg       0.77      0.77      0.77       668\n",
      "weighted avg       0.78      0.78      0.78       668\n",
      "\n"
     ]
    }
   ],
   "source": [
    "print(classification_report(eval_df.actual, eval_df.yhat))"
   ]
  },
  {
   "cell_type": "markdown",
   "metadata": {},
   "source": [
    "## Modeling to come..."
   ]
  },
  {
   "cell_type": "markdown",
   "metadata": {},
   "source": [
    "## Modeling\n",
    "\n",
    "### **<font color=red>What Are Types of Classification Models?</font>**\n",
    "\n",
    ">**Logistic Regression Model**\n",
    "\n",
    "- Maps any real value into a number between 0 and 1 representing the probability that an observation is in the positive class.\n",
    "\n",
    "\n",
    "- **Overall**, makes a great baseline model because of the quick and easy implementation and ease of interpretation.\n",
    "\n",
    "\n",
    "\n",
    "- **Pros:** Easy to interpret, fast to train and predict\n",
    "\n",
    "\n",
    "- **Cons:** Not as interpretable as showing a picture like a Decision Tree Classifier, assumption that the X predictors are independent, multi-class classification gets more complicated to interpret and explain\n",
    "\n",
    "\n",
    "\n",
    "\n",
    "### **<font color=orange>So What?</font>**\n",
    "\n",
    "- Both Scikit-Learn and Statsmodels can be used to create and evaluate Logistic Regression Classifiers.\n",
    "\n",
    "\n",
    "- When we have a multiclass classifier, the coefficients of the X variables can inform us of their importance. \n",
    "\n",
    "\n",
    "- Our predictions are a number between 0 and 1 informing us of the probability that an observation is in the positive class.\n",
    "\n",
    "\n",
    "- We can set a threshold to 'snap' our probabilities to a 0 or 1, not a member of our positive class or member of the positive class respectively.\n",
    "\n",
    "\n",
    "- As you decrease your threshold, the Recall of your model increases. This is a good idea when you want to decrease your Type II errors or False Negatives. When it's more costly to miss a positive, you might decrease your threshold a bit.\n",
    "\n",
    "\n",
    "- As you increase your threshold, the Precision of your model increases. This is a good idea when you want to make sure that your model has less Type I errors or False Positives. When it's more costly to falsely identify an observation as a positive case that is actually a negative case, you might want to increase your threshold a bit.\n",
    "\n",
    "### **<font color=green>Now What?</font>**\n",
    "\n",
    "\n",
    "\n",
    "----\n",
    "\n",
    ">**Logistic Regression**\n",
    "\n",
    "\n",
    ">**Decision Tree Model**\n",
    "\n",
    "\n",
    ">**Random Forest Model**\n",
    "\n",
    "\n",
    ">**K-Nearest Neighbor****"
   ]
  }
 ],
 "metadata": {
  "kernelspec": {
   "display_name": "Python 3",
   "language": "python",
   "name": "python3"
  },
  "language_info": {
   "codemirror_mode": {
    "name": "ipython",
    "version": 3
   },
   "file_extension": ".py",
   "mimetype": "text/x-python",
   "name": "python",
   "nbconvert_exporter": "python",
   "pygments_lexer": "ipython3",
   "version": "3.7.4"
  },
  "toc": {
   "base_numbering": 1,
   "nav_menu": {},
   "number_sections": true,
   "sideBar": true,
   "skip_h1_title": true,
   "title_cell": "Table of Contents",
   "title_sidebar": "Contents",
   "toc_cell": true,
   "toc_position": {},
   "toc_section_display": true,
   "toc_window_display": true
  }
 },
 "nbformat": 4,
 "nbformat_minor": 2
}

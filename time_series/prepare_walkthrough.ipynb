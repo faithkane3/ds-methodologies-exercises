{
 "cells": [
  {
   "cell_type": "markdown",
   "metadata": {
    "toc": true
   },
   "source": [
    "<h1>Table of Contents<span class=\"tocSkip\"></span></h1>\n",
    "<div class=\"toc\"><ul class=\"toc-item\"><li><span><a href=\"#Acquire-Store-df-Using-Acquire-Function\" data-toc-modified-id=\"Acquire-Store-df-Using-Acquire-Function-1\"><span class=\"toc-item-num\">1&nbsp;&nbsp;</span>Acquire Store df Using Acquire Function</a></span></li><li><span><a href=\"#Exercises-with-Store-df\" data-toc-modified-id=\"Exercises-with-Store-df-2\"><span class=\"toc-item-num\">2&nbsp;&nbsp;</span>Exercises with Store df</a></span></li><li><span><a href=\"#Date-Parts\" data-toc-modified-id=\"Date-Parts-3\"><span class=\"toc-item-num\">3&nbsp;&nbsp;</span>Date Parts</a></span></li><li><span><a href=\"#5.-Create-New-Calculated-Column-Using-.assign()\" data-toc-modified-id=\"5.-Create-New-Calculated-Column-Using-.assign()-4\"><span class=\"toc-item-num\">4&nbsp;&nbsp;</span>5. Create New Calculated Column Using .assign()</a></span></li><li><span><a href=\"#6.-Using-.diff()\" data-toc-modified-id=\"6.-Using-.diff()-5\"><span class=\"toc-item-num\">5&nbsp;&nbsp;</span>6. Using .diff()</a></span></li></ul></div>"
   ]
  },
  {
   "cell_type": "code",
   "execution_count": 1,
   "metadata": {},
   "outputs": [],
   "source": [
    "import pandas as pd\n",
    "import numpy as np\n",
    "\n",
    "import seaborn as sns\n",
    "import matplotlib.pyplot as plt\n",
    "%matplotlib inline\n",
    "\n",
    "plt.rc('figure', figsize=(11, 9))\n",
    "plt.rc('font', size=13)\n",
    "\n",
    "import requests\n",
    "import os\n",
    "from datetime import timedelta, datetime as dt\n",
    "\n",
    "import warnings\n",
    "warnings.filterwarnings(\"ignore\")\n",
    "\n",
    "import acquire_walkthrough"
   ]
  },
  {
   "cell_type": "markdown",
   "metadata": {},
   "source": [
    "## Acquire Store df Using Acquire Function"
   ]
  },
  {
   "cell_type": "code",
   "execution_count": 2,
   "metadata": {},
   "outputs": [
    {
     "data": {
      "text/html": [
       "<div>\n",
       "<style scoped>\n",
       "    .dataframe tbody tr th:only-of-type {\n",
       "        vertical-align: middle;\n",
       "    }\n",
       "\n",
       "    .dataframe tbody tr th {\n",
       "        vertical-align: top;\n",
       "    }\n",
       "\n",
       "    .dataframe thead th {\n",
       "        text-align: right;\n",
       "    }\n",
       "</style>\n",
       "<table border=\"1\" class=\"dataframe\">\n",
       "  <thead>\n",
       "    <tr style=\"text-align: right;\">\n",
       "      <th></th>\n",
       "      <th>sale_amount</th>\n",
       "      <th>sale_id</th>\n",
       "      <th>store_address</th>\n",
       "      <th>store_city</th>\n",
       "      <th>store_id</th>\n",
       "      <th>store_state</th>\n",
       "      <th>store_zipcode</th>\n",
       "      <th>item_brand</th>\n",
       "      <th>item_id</th>\n",
       "      <th>item_name</th>\n",
       "      <th>item_price</th>\n",
       "      <th>item_upc12</th>\n",
       "      <th>item_upc14</th>\n",
       "    </tr>\n",
       "    <tr>\n",
       "      <th>sale_date</th>\n",
       "      <th></th>\n",
       "      <th></th>\n",
       "      <th></th>\n",
       "      <th></th>\n",
       "      <th></th>\n",
       "      <th></th>\n",
       "      <th></th>\n",
       "      <th></th>\n",
       "      <th></th>\n",
       "      <th></th>\n",
       "      <th></th>\n",
       "      <th></th>\n",
       "      <th></th>\n",
       "    </tr>\n",
       "  </thead>\n",
       "  <tbody>\n",
       "    <tr>\n",
       "      <th>2013-01-01 00:00:00+00:00</th>\n",
       "      <td>13.0</td>\n",
       "      <td>1</td>\n",
       "      <td>12125 Alamo Ranch Pkwy</td>\n",
       "      <td>San Antonio</td>\n",
       "      <td>1</td>\n",
       "      <td>TX</td>\n",
       "      <td>78253</td>\n",
       "      <td>Riceland</td>\n",
       "      <td>1</td>\n",
       "      <td>Riceland American Jazmine Rice</td>\n",
       "      <td>0.84</td>\n",
       "      <td>35200264013</td>\n",
       "      <td>35200264013</td>\n",
       "    </tr>\n",
       "    <tr>\n",
       "      <th>2013-01-01 00:00:00+00:00</th>\n",
       "      <td>26.0</td>\n",
       "      <td>211817</td>\n",
       "      <td>12018 Perrin Beitel Rd</td>\n",
       "      <td>San Antonio</td>\n",
       "      <td>7</td>\n",
       "      <td>TX</td>\n",
       "      <td>78217</td>\n",
       "      <td>Mueller</td>\n",
       "      <td>12</td>\n",
       "      <td>Mueller Sport Care Basic Support Level Medium ...</td>\n",
       "      <td>8.40</td>\n",
       "      <td>74676640211</td>\n",
       "      <td>74676640211</td>\n",
       "    </tr>\n",
       "    <tr>\n",
       "      <th>2013-01-01 00:00:00+00:00</th>\n",
       "      <td>27.0</td>\n",
       "      <td>832657</td>\n",
       "      <td>12018 Perrin Beitel Rd</td>\n",
       "      <td>San Antonio</td>\n",
       "      <td>7</td>\n",
       "      <td>TX</td>\n",
       "      <td>78217</td>\n",
       "      <td>Mama Marys</td>\n",
       "      <td>46</td>\n",
       "      <td>Pizza Sauce</td>\n",
       "      <td>4.65</td>\n",
       "      <td>35457770664</td>\n",
       "      <td>35457770664</td>\n",
       "    </tr>\n",
       "    <tr>\n",
       "      <th>2013-01-01 00:00:00+00:00</th>\n",
       "      <td>54.0</td>\n",
       "      <td>213643</td>\n",
       "      <td>15000 San Pedro Ave</td>\n",
       "      <td>San Antonio</td>\n",
       "      <td>8</td>\n",
       "      <td>TX</td>\n",
       "      <td>78232</td>\n",
       "      <td>Mueller</td>\n",
       "      <td>12</td>\n",
       "      <td>Mueller Sport Care Basic Support Level Medium ...</td>\n",
       "      <td>8.40</td>\n",
       "      <td>74676640211</td>\n",
       "      <td>74676640211</td>\n",
       "    </tr>\n",
       "    <tr>\n",
       "      <th>2013-01-01 00:00:00+00:00</th>\n",
       "      <td>35.0</td>\n",
       "      <td>215469</td>\n",
       "      <td>735 SW Military Dr</td>\n",
       "      <td>San Antonio</td>\n",
       "      <td>9</td>\n",
       "      <td>TX</td>\n",
       "      <td>78221</td>\n",
       "      <td>Mueller</td>\n",
       "      <td>12</td>\n",
       "      <td>Mueller Sport Care Basic Support Level Medium ...</td>\n",
       "      <td>8.40</td>\n",
       "      <td>74676640211</td>\n",
       "      <td>74676640211</td>\n",
       "    </tr>\n",
       "  </tbody>\n",
       "</table>\n",
       "</div>"
      ],
      "text/plain": [
       "                           sale_amount  sale_id           store_address  \\\n",
       "sale_date                                                                 \n",
       "2013-01-01 00:00:00+00:00         13.0        1  12125 Alamo Ranch Pkwy   \n",
       "2013-01-01 00:00:00+00:00         26.0   211817  12018 Perrin Beitel Rd   \n",
       "2013-01-01 00:00:00+00:00         27.0   832657  12018 Perrin Beitel Rd   \n",
       "2013-01-01 00:00:00+00:00         54.0   213643     15000 San Pedro Ave   \n",
       "2013-01-01 00:00:00+00:00         35.0   215469      735 SW Military Dr   \n",
       "\n",
       "                            store_city  store_id store_state  store_zipcode  \\\n",
       "sale_date                                                                     \n",
       "2013-01-01 00:00:00+00:00  San Antonio         1          TX          78253   \n",
       "2013-01-01 00:00:00+00:00  San Antonio         7          TX          78217   \n",
       "2013-01-01 00:00:00+00:00  San Antonio         7          TX          78217   \n",
       "2013-01-01 00:00:00+00:00  San Antonio         8          TX          78232   \n",
       "2013-01-01 00:00:00+00:00  San Antonio         9          TX          78221   \n",
       "\n",
       "                           item_brand  item_id  \\\n",
       "sale_date                                        \n",
       "2013-01-01 00:00:00+00:00    Riceland        1   \n",
       "2013-01-01 00:00:00+00:00     Mueller       12   \n",
       "2013-01-01 00:00:00+00:00  Mama Marys       46   \n",
       "2013-01-01 00:00:00+00:00     Mueller       12   \n",
       "2013-01-01 00:00:00+00:00     Mueller       12   \n",
       "\n",
       "                                                                   item_name  \\\n",
       "sale_date                                                                      \n",
       "2013-01-01 00:00:00+00:00                     Riceland American Jazmine Rice   \n",
       "2013-01-01 00:00:00+00:00  Mueller Sport Care Basic Support Level Medium ...   \n",
       "2013-01-01 00:00:00+00:00                                        Pizza Sauce   \n",
       "2013-01-01 00:00:00+00:00  Mueller Sport Care Basic Support Level Medium ...   \n",
       "2013-01-01 00:00:00+00:00  Mueller Sport Care Basic Support Level Medium ...   \n",
       "\n",
       "                           item_price   item_upc12   item_upc14  \n",
       "sale_date                                                        \n",
       "2013-01-01 00:00:00+00:00        0.84  35200264013  35200264013  \n",
       "2013-01-01 00:00:00+00:00        8.40  74676640211  74676640211  \n",
       "2013-01-01 00:00:00+00:00        4.65  35457770664  35457770664  \n",
       "2013-01-01 00:00:00+00:00        8.40  74676640211  74676640211  \n",
       "2013-01-01 00:00:00+00:00        8.40  74676640211  74676640211  "
      ]
     },
     "execution_count": 2,
     "metadata": {},
     "output_type": "execute_result"
    }
   ],
   "source": [
    "df = acquire_walkthrough.get_store_data()\n",
    "df.head()"
   ]
  },
  {
   "cell_type": "markdown",
   "metadata": {},
   "source": [
    "## Exercises with Store df\n",
    "\n",
    "1. Convert date column to datetime format. <font color=red>(I have taken care of this in my acquire.)</font>\n",
    "\n",
    "\n",
    "\n",
    "3. Set the index to be the datetime variable. <font color=red>(I have taken care of this in my acquire.)</font>\n",
    "\n",
    "\n",
    "\n",
    "2. Plot the distribution of `sale_amount` and `item_price`."
   ]
  },
  {
   "cell_type": "code",
   "execution_count": 3,
   "metadata": {},
   "outputs": [
    {
     "data": {
      "text/plain": [
       "count    913000.000000\n",
       "mean          5.160400\n",
       "std           2.737764\n",
       "min           0.600000\n",
       "25%           2.970000\n",
       "50%           5.195000\n",
       "75%           7.520000\n",
       "max           9.640000\n",
       "Name: item_price, dtype: float64"
      ]
     },
     "execution_count": 3,
     "metadata": {},
     "output_type": "execute_result"
    }
   ],
   "source": [
    "df.item_price.describe()"
   ]
  },
  {
   "cell_type": "code",
   "execution_count": 35,
   "metadata": {},
   "outputs": [],
   "source": [
    "def hist_plot(df, col, bins):\n",
    "    \"\"\"\n",
    "    function takes in a DataFrame, \n",
    "    a string for column name or list, and \n",
    "    integer for number of bins and\n",
    "    displays a histogram of the column\n",
    "    \"\"\"\n",
    "    plt.hist(df[col], bins=bins, color='thistle')\n",
    "    plt.title('Distribution of ' + col)\n",
    "    plt.xlabel('')\n",
    "    plt.ylabel('Count')\n",
    "    plt.show()"
   ]
  },
  {
   "cell_type": "code",
   "execution_count": 36,
   "metadata": {},
   "outputs": [
    {
     "data": {
      "image/png": "[encoded data removed]",
      "text/plain": [
       "<Figure size 792x648 with 1 Axes>"
      ]
     },
     "metadata": {
      "needs_background": "light"
     },
     "output_type": "display_data"
    }
   ],
   "source": [
    "hist_plot(df=df, col='item_price', bins=20)"
   ]
  },
  {
   "cell_type": "code",
   "execution_count": 38,
   "metadata": {},
   "outputs": [
    {
     "data": {
      "image/png": "[encoded data removed]",
      "text/plain": [
       "<Figure size 792x648 with 1 Axes>"
      ]
     },
     "metadata": {
      "needs_background": "light"
     },
     "output_type": "display_data"
    }
   ],
   "source": [
    "hist_plot(df=df, col='sale_amount', bins=30)"
   ]
  },
  {
   "cell_type": "markdown",
   "metadata": {},
   "source": [
    "## Date Parts\n",
    "\n",
    "4. Add a 'month' and 'day of week' column to your dataframe, derived from the index using the keywords for those date parts.\n",
    "\n",
    "\n",
    "<div class=\"alert alert-block alert-danger\"> If you have upgraded your pandas, use .day_name(), if not, .weekday_name. To check your pandas version, `pd.__version__` </div>\n"
   ]
  },
  {
   "cell_type": "code",
   "execution_count": null,
   "metadata": {},
   "outputs": [],
   "source": [
    "df['month'] = df.index.month\n",
    "df['weekday'] = df.index.day_name()\n",
    "df.head(2)"
   ]
  },
  {
   "cell_type": "markdown",
   "metadata": {},
   "source": [
    "## 5. Create New Calculated Column Using .assign()\n",
    "\n",
    "`df = df.assign(new_col_name = your calculation)`\n",
    "\n",
    "5. Add a column to your dataframe, `sales_total`, which is a derived from `sale_amount` (total items) and `item_price`."
   ]
  },
  {
   "cell_type": "code",
   "execution_count": null,
   "metadata": {},
   "outputs": [],
   "source": [
    "df = df.assign(sales_total = df.sale_amount * df.item_price)\n",
    "df.head(3)"
   ]
  },
  {
   "cell_type": "markdown",
   "metadata": {},
   "source": [
    "## 6. Using .diff()\n",
    "\n",
    "6. Using pandas.DataFrame.diff() function, create a new column that is the result of the current sales - the previous days sales.\n"
   ]
  },
  {
   "cell_type": "code",
   "execution_count": null,
   "metadata": {},
   "outputs": [],
   "source": [
    "df = df.assign(sales_diff = df.sales_total.diff(periods=1))\n",
    "df.head(2)"
   ]
  },
  {
   "cell_type": "code",
   "execution_count": null,
   "metadata": {},
   "outputs": [],
   "source": []
  }
 ],
 "metadata": {
  "kernelspec": {
   "display_name": "Python 3",
   "language": "python",
   "name": "python3"
  },
  "language_info": {
   "codemirror_mode": {
    "name": "ipython",
    "version": 3
   },
   "file_extension": ".py",
   "mimetype": "text/x-python",
   "name": "python",
   "nbconvert_exporter": "python",
   "pygments_lexer": "ipython3",
   "version": "3.7.4"
  },
  "toc": {
   "base_numbering": 1,
   "nav_menu": {},
   "number_sections": true,
   "sideBar": true,
   "skip_h1_title": true,
   "title_cell": "Table of Contents",
   "title_sidebar": "Contents",
   "toc_cell": true,
   "toc_position": {},
   "toc_section_display": true,
   "toc_window_display": false
  }
 },
 "nbformat": 4,
 "nbformat_minor": 4
}

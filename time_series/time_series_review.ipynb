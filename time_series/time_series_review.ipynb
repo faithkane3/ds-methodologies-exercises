{
 "cells": [
  {
   "cell_type": "markdown",
   "metadata": {
    "toc": true
   },
   "source": [
    "<h1>Table of Contents<span class=\"tocSkip\"></span></h1>\n",
    "<div class=\"toc\"><ul class=\"toc-item\"><li><ul class=\"toc-item\"><li><span><a href=\"#What-if-I-wanted-to-get-a-list-of-repositories-from-a-Github-user?\" data-toc-modified-id=\"What-if-I-wanted-to-get-a-list-of-repositories-from-a-Github-user?-0.1\"><span class=\"toc-item-num\">0.1&nbsp;&nbsp;</span>What if I wanted to get a list of repositories from a Github user?</a></span></li></ul></li><li><span><a href=\"#Acquire-a-DataFrame-by-Making-an-HTTP-Request\" data-toc-modified-id=\"Acquire-a-DataFrame-by-Making-an-HTTP-Request-1\"><span class=\"toc-item-num\">1&nbsp;&nbsp;</span><strong>Acquire a DataFrame by Making an HTTP Request</strong></a></span></li><li><span><a href=\"#Acquire-a-Time-Series-DataFrame-using-DataReader\" data-toc-modified-id=\"Acquire-a-Time-Series-DataFrame-using-DataReader-2\"><span class=\"toc-item-num\">2&nbsp;&nbsp;</span><strong>Acquire a Time Series DataFrame using DataReader</strong></a></span></li></ul></div>"
   ]
  },
  {
   "cell_type": "code",
   "execution_count": 3,
   "metadata": {},
   "outputs": [],
   "source": [
    "import pandas as pd\n",
    "import numpy as np\n",
    "\n",
    "import seaborn as sns\n",
    "import matplotlib.pyplot as plt\n",
    "%matplotlib inline\n",
    "\n",
    "plt.rc('figure', figsize=(11, 9))\n",
    "plt.rc('font', size=13)\n",
    "\n",
    "from pandas_datareader import data\n",
    "\n",
    "import warnings\n",
    "warnings.filterwarnings(\"ignore\")"
   ]
  },
  {
   "cell_type": "markdown",
   "metadata": {},
   "source": [
    "## Time Series Data\n",
    "\n",
    "### **<font color=red>What is Time Series Data?</font>**\n",
    "\n",
    "\n",
    "### **<font color=orange>So What?</font>**\n",
    "\n",
    "\n",
    "### **<font color=green>Now What?</font>**"
   ]
  },
  {
   "cell_type": "markdown",
   "metadata": {},
   "source": [
    "## Acquiring\n",
    "\n",
    "**<font color=green>A Couple Example Methods for Acquiring Some Time Series Data</font>**\n",
    "\n",
    "### **<font color=red>What is a Rest API?</font>**\n",
    "\n",
    "**API** stands for Application Programming Interface, and it is a set of rules that allows programs to talk to each other.\n",
    "\n",
    "**JSON** stands for JavaScript Object Notation and is used as both data representation and data intercahnge formats.\n",
    "\n",
    "**REST** stands for **RE**presentational **S**tate **T**ransfer, which is an architectural style and approach to communications used in web service development. It can be thought of as the language of the internet.\n",
    "\n",
    "### **<font color=orange>So What?</font>**\n",
    "\n",
    "A **RESTful JSON API** uses HTTP requests to **GET (retrieve a resource)**, **PUT (change the state of or update a resource)**, **POST (create the resource)**, and **DELETE (remove a resource)** data. It allows users to connect to, manage, and interact with cloud services.\n",
    "\n",
    "When you link to a **specific URL, a request**, you are able to get a piece of **data returned, a resource**. \n",
    "\n",
    "**<font color=purple>Parts of a Request:</font>**\n",
    "\n",
    "**The Endpoint or Route**\n",
    "\n",
    "**root-endpoint** is the starting point of the API you are requesting from.\n",
    "\n",
    ">`https://api.github.com`\n",
    "\n",
    "**path** directs your request and determines your resource. The example below gets a list of repositories by a certain user, in this case faithkane3.\n",
    "\n",
    ">`https://api.github.com/users/faithkane3/repos`\n",
    "\n",
    "**query parameters** allow you to modify your request with key-value pairs. They begin with a ? and are separated with &.\n",
    "\n",
    ">`https://api.github.com/users/faithkane3/repos?sort=pushed`\n",
    "\n",
    "![image.jpg](https://res.cloudinary.com/indysigner/image/fetch/f_auto,q_auto/w_2000/https://cloud.netlifyusercontent.com/assets/344dbf88-fdf9-42bb-adb4-46f01eedd629/c119c0b2-4ded-42d0-90f0-496b14bf5e1f/understanding-api-doc-github-repo-opt.png)\n",
    "[source](https://www.smashingmagazine.com/2018/01/understanding-using-rest-api/)\n",
    "\n",
    "**The Method or Type of Request** CRUD (Create, Read, Update, Delete)\n",
    "\n",
    "**GET** - A GET request performs a READ operation. A GET request to a server sends you back the data you requested.\n",
    "\n",
    "**POST** - A POST request performs a CREATE operation. \n",
    "\n",
    "**PUT** - Performs an UPDATE operation.\n",
    "\n",
    "**PATCH** - Performs an UPDATE operation.\n",
    "\n",
    "**DELETE** - Performs a DELETE operation\n",
    "\n",
    "**The Headers**\n",
    "\n",
    "\n",
    "### **<font color=green>Now What?</font>**"
   ]
  },
  {
   "cell_type": "markdown",
   "metadata": {},
   "source": [
    "#### What if I wanted to get a list of repositories from a Github user?"
   ]
  },
  {
   "cell_type": "code",
   "execution_count": 22,
   "metadata": {},
   "outputs": [
    {
     "data": {
      "text/plain": [
       "<Response [200]>"
      ]
     },
     "execution_count": 22,
     "metadata": {},
     "output_type": "execute_result"
    }
   ],
   "source": [
    "import requests\n",
    "\n",
    "url = 'https://api.github.com/users/faithkane3/repos?sort=pushed'\n",
    "response = requests.get(url)\n",
    "response"
   ]
  },
  {
   "cell_type": "markdown",
   "metadata": {},
   "source": [
    "`.ok` returns a boolean communicating if the request was successful."
   ]
  },
  {
   "cell_type": "code",
   "execution_count": 23,
   "metadata": {},
   "outputs": [
    {
     "data": {
      "text/plain": [
       "True"
      ]
     },
     "execution_count": 23,
     "metadata": {},
     "output_type": "execute_result"
    }
   ],
   "source": [
    "response.ok"
   ]
  },
  {
   "cell_type": "markdown",
   "metadata": {},
   "source": [
    "`.status_code` returns the HTTP response status code."
   ]
  },
  {
   "cell_type": "code",
   "execution_count": 24,
   "metadata": {},
   "outputs": [
    {
     "data": {
      "text/plain": [
       "200"
      ]
     },
     "execution_count": 24,
     "metadata": {},
     "output_type": "execute_result"
    }
   ],
   "source": [
    "response.status_code"
   ]
  },
  {
   "cell_type": "markdown",
   "metadata": {},
   "source": [
    "`.text` returns the raw response text"
   ]
  },
  {
   "cell_type": "code",
   "execution_count": 52,
   "metadata": {},
   "outputs": [
    {
     "name": "stdout",
     "output_type": "stream",
     "text": [
      "<class 'str'>\n"
     ]
    },
    {
     "data": {
      "text/plain": [
       "'[{\"id\":206128554,\"node_id\":\"MDEwOlJlcG9zaXRvcnkyMDYxMjg1NTQ=\",\"name\":\"101-exercises\",\"full_name\":\"faithkane3/101-exercises\",\"private\":false,\"owner\":{\"login\":\"faithkane3\",\"id\":43799876,\"node_id\":\"MDQ6VXNlcjQzNzk5ODc2\",\"avatar_url\":\"https://avatars0.githubusercontent.com/u/43799876?v=4\",\"gravatar_id\":\"\",\"url\":\"https://api.github.com/users/faithkane3\",\"html_url\":\"https://github.com/faithkane3\",\"followers_url\":\"https://api.github.com/users/faithkane3/followers\",\"following_url\":\"https://api.github.co'"
      ]
     },
     "execution_count": 52,
     "metadata": {},
     "output_type": "execute_result"
    }
   ],
   "source": [
    "# I'm limiting the text string to 500 characters bc it's one long string!\n",
    "\n",
    "print(type(response.text))\n",
    "response.text[:500]"
   ]
  },
  {
   "cell_type": "code",
   "execution_count": 47,
   "metadata": {},
   "outputs": [
    {
     "name": "stdout",
     "output_type": "stream",
     "text": [
      "<class 'list'>\n"
     ]
    }
   ],
   "source": [
    "# use the `.json()` method on our response and access a list of dictionaries for all my Github repos\n",
    "\n",
    "data = response.json()\n",
    "print(type(data))"
   ]
  },
  {
   "cell_type": "code",
   "execution_count": 46,
   "metadata": {},
   "outputs": [
    {
     "data": {
      "text/plain": [
       "dict_keys(['id', 'node_id', 'name', 'full_name', 'private', 'owner', 'html_url', 'description', 'fork', 'url', 'forks_url', 'keys_url', 'collaborators_url', 'teams_url', 'hooks_url', 'issue_events_url', 'events_url', 'assignees_url', 'branches_url', 'tags_url', 'blobs_url', 'git_tags_url', 'git_refs_url', 'trees_url', 'statuses_url', 'languages_url', 'stargazers_url', 'contributors_url', 'subscribers_url', 'subscription_url', 'commits_url', 'git_commits_url', 'comments_url', 'issue_comment_url', 'contents_url', 'compare_url', 'merges_url', 'archive_url', 'downloads_url', 'issues_url', 'pulls_url', 'milestones_url', 'notifications_url', 'labels_url', 'releases_url', 'deployments_url', 'created_at', 'updated_at', 'pushed_at', 'git_url', 'ssh_url', 'clone_url', 'svn_url', 'homepage', 'size', 'stargazers_count', 'watchers_count', 'language', 'has_issues', 'has_projects', 'has_downloads', 'has_wiki', 'has_pages', 'forks_count', 'mirror_url', 'archived', 'disabled', 'open_issues_count', 'license', 'forks', 'open_issues', 'watchers', 'default_branch'])"
      ]
     },
     "execution_count": 46,
     "metadata": {},
     "output_type": "execute_result"
    }
   ],
   "source": [
    "# Access the keys of the first dictionary to understand the format\n",
    "\n",
    "data[0].keys()"
   ]
  },
  {
   "cell_type": "code",
   "execution_count": 57,
   "metadata": {},
   "outputs": [
    {
     "name": "stdout",
     "output_type": "stream",
     "text": [
      "['101-exercises', 'bayes-methodologies-exercises', 'checkbook_application', 'codeup_review', 'database-exercises', 'ds-methodologies-exercises', 'faithkane3.github.io', 'flask_intro', 'git_warmup', 'intro-to-deep-learning-with-keras', 'karma_atm', 'makeovermonday', 'natural_language_processing', 'numpy-100', 'pandas_practice', 'python-exercises', 'python_101_ds', 'python_fun', 'resources', 'side_projects', 'sql_practice', 'statistics-exercises', 'zillow_project']\n"
     ]
    }
   ],
   "source": [
    "# get a list of the names of all of my repos on Github\n",
    "\n",
    "repos = []\n",
    "for i in range(len(data)):\n",
    "    repos.append(data[i]['name'])\n",
    "print(repos)"
   ]
  },
  {
   "cell_type": "markdown",
   "metadata": {},
   "source": [
    "**OR I could just make it a pandas DataFrame!**"
   ]
  },
  {
   "cell_type": "code",
   "execution_count": 59,
   "metadata": {},
   "outputs": [
    {
     "data": {
      "text/html": [
       "<div>\n",
       "<style scoped>\n",
       "    .dataframe tbody tr th:only-of-type {\n",
       "        vertical-align: middle;\n",
       "    }\n",
       "\n",
       "    .dataframe tbody tr th {\n",
       "        vertical-align: top;\n",
       "    }\n",
       "\n",
       "    .dataframe thead th {\n",
       "        text-align: right;\n",
       "    }\n",
       "</style>\n",
       "<table border=\"1\" class=\"dataframe\">\n",
       "  <thead>\n",
       "    <tr style=\"text-align: right;\">\n",
       "      <th></th>\n",
       "      <th>id</th>\n",
       "      <th>node_id</th>\n",
       "      <th>name</th>\n",
       "      <th>full_name</th>\n",
       "      <th>private</th>\n",
       "      <th>owner</th>\n",
       "      <th>html_url</th>\n",
       "      <th>description</th>\n",
       "      <th>fork</th>\n",
       "      <th>url</th>\n",
       "      <th>...</th>\n",
       "      <th>forks_count</th>\n",
       "      <th>mirror_url</th>\n",
       "      <th>archived</th>\n",
       "      <th>disabled</th>\n",
       "      <th>open_issues_count</th>\n",
       "      <th>license</th>\n",
       "      <th>forks</th>\n",
       "      <th>open_issues</th>\n",
       "      <th>watchers</th>\n",
       "      <th>default_branch</th>\n",
       "    </tr>\n",
       "  </thead>\n",
       "  <tbody>\n",
       "    <tr>\n",
       "      <th>0</th>\n",
       "      <td>206128554</td>\n",
       "      <td>MDEwOlJlcG9zaXRvcnkyMDYxMjg1NTQ=</td>\n",
       "      <td>101-exercises</td>\n",
       "      <td>faithkane3/101-exercises</td>\n",
       "      <td>False</td>\n",
       "      <td>{'login': 'faithkane3', 'id': 43799876, 'node_...</td>\n",
       "      <td>https://github.com/faithkane3/101-exercises</td>\n",
       "      <td>This is the repo for my 101-exercises from Kaggle</td>\n",
       "      <td>False</td>\n",
       "      <td>https://api.github.com/repos/faithkane3/101-ex...</td>\n",
       "      <td>...</td>\n",
       "      <td>0</td>\n",
       "      <td>None</td>\n",
       "      <td>False</td>\n",
       "      <td>False</td>\n",
       "      <td>0</td>\n",
       "      <td>None</td>\n",
       "      <td>0</td>\n",
       "      <td>0</td>\n",
       "      <td>0</td>\n",
       "      <td>master</td>\n",
       "    </tr>\n",
       "    <tr>\n",
       "      <th>1</th>\n",
       "      <td>213958222</td>\n",
       "      <td>MDEwOlJlcG9zaXRvcnkyMTM5NTgyMjI=</td>\n",
       "      <td>bayes-methodologies-exercises</td>\n",
       "      <td>faithkane3/bayes-methodologies-exercises</td>\n",
       "      <td>False</td>\n",
       "      <td>{'login': 'faithkane3', 'id': 43799876, 'node_...</td>\n",
       "      <td>https://github.com/faithkane3/bayes-methodolog...</td>\n",
       "      <td>Bayes exercises on methodologies</td>\n",
       "      <td>True</td>\n",
       "      <td>https://api.github.com/repos/faithkane3/bayes-...</td>\n",
       "      <td>...</td>\n",
       "      <td>0</td>\n",
       "      <td>None</td>\n",
       "      <td>False</td>\n",
       "      <td>False</td>\n",
       "      <td>0</td>\n",
       "      <td>None</td>\n",
       "      <td>0</td>\n",
       "      <td>0</td>\n",
       "      <td>0</td>\n",
       "      <td>master</td>\n",
       "    </tr>\n",
       "  </tbody>\n",
       "</table>\n",
       "<p>2 rows × 73 columns</p>\n",
       "</div>"
      ],
      "text/plain": [
       "          id                           node_id                           name  \\\n",
       "0  206128554  MDEwOlJlcG9zaXRvcnkyMDYxMjg1NTQ=                  101-exercises   \n",
       "1  213958222  MDEwOlJlcG9zaXRvcnkyMTM5NTgyMjI=  bayes-methodologies-exercises   \n",
       "\n",
       "                                  full_name  private  \\\n",
       "0                  faithkane3/101-exercises    False   \n",
       "1  faithkane3/bayes-methodologies-exercises    False   \n",
       "\n",
       "                                               owner  \\\n",
       "0  {'login': 'faithkane3', 'id': 43799876, 'node_...   \n",
       "1  {'login': 'faithkane3', 'id': 43799876, 'node_...   \n",
       "\n",
       "                                            html_url  \\\n",
       "0        https://github.com/faithkane3/101-exercises   \n",
       "1  https://github.com/faithkane3/bayes-methodolog...   \n",
       "\n",
       "                                         description   fork  \\\n",
       "0  This is the repo for my 101-exercises from Kaggle  False   \n",
       "1                   Bayes exercises on methodologies   True   \n",
       "\n",
       "                                                 url  ... forks_count  \\\n",
       "0  https://api.github.com/repos/faithkane3/101-ex...  ...           0   \n",
       "1  https://api.github.com/repos/faithkane3/bayes-...  ...           0   \n",
       "\n",
       "  mirror_url archived disabled open_issues_count license forks open_issues  \\\n",
       "0       None    False    False                 0    None     0           0   \n",
       "1       None    False    False                 0    None     0           0   \n",
       "\n",
       "  watchers default_branch  \n",
       "0        0         master  \n",
       "1        0         master  \n",
       "\n",
       "[2 rows x 73 columns]"
      ]
     },
     "execution_count": 59,
     "metadata": {},
     "output_type": "execute_result"
    }
   ],
   "source": [
    "repos_df = pd.DataFrame(data)\n",
    "repos_df.head(2)"
   ]
  },
  {
   "cell_type": "code",
   "execution_count": 55,
   "metadata": {},
   "outputs": [
    {
     "data": {
      "text/plain": [
       "['101-exercises',\n",
       " 'bayes-methodologies-exercises',\n",
       " 'checkbook_application',\n",
       " 'codeup_review',\n",
       " 'database-exercises',\n",
       " 'ds-methodologies-exercises',\n",
       " 'faithkane3.github.io',\n",
       " 'flask_intro',\n",
       " 'git_warmup',\n",
       " 'intro-to-deep-learning-with-keras',\n",
       " 'karma_atm',\n",
       " 'makeovermonday',\n",
       " 'natural_language_processing',\n",
       " 'numpy-100',\n",
       " 'pandas_practice',\n",
       " 'python-exercises',\n",
       " 'python_101_ds',\n",
       " 'python_fun',\n",
       " 'resources',\n",
       " 'side_projects',\n",
       " 'sql_practice',\n",
       " 'statistics-exercises',\n",
       " 'zillow_project']"
      ]
     },
     "execution_count": 55,
     "metadata": {},
     "output_type": "execute_result"
    }
   ],
   "source": [
    "repos_df.name.tolist()"
   ]
  },
  {
   "cell_type": "markdown",
   "metadata": {},
   "source": [
    "**How about a list of urls for the my repos? Handy!**"
   ]
  },
  {
   "cell_type": "code",
   "execution_count": 58,
   "metadata": {},
   "outputs": [
    {
     "data": {
      "text/plain": [
       "['https://github.com/faithkane3/101-exercises',\n",
       " 'https://github.com/faithkane3/bayes-methodologies-exercises',\n",
       " 'https://github.com/faithkane3/checkbook_application',\n",
       " 'https://github.com/faithkane3/codeup_review',\n",
       " 'https://github.com/faithkane3/database-exercises',\n",
       " 'https://github.com/faithkane3/ds-methodologies-exercises',\n",
       " 'https://github.com/faithkane3/faithkane3.github.io',\n",
       " 'https://github.com/faithkane3/flask_intro',\n",
       " 'https://github.com/faithkane3/git_warmup',\n",
       " 'https://github.com/faithkane3/intro-to-deep-learning-with-keras',\n",
       " 'https://github.com/faithkane3/karma_atm',\n",
       " 'https://github.com/faithkane3/makeovermonday',\n",
       " 'https://github.com/faithkane3/natural_language_processing',\n",
       " 'https://github.com/faithkane3/numpy-100',\n",
       " 'https://github.com/faithkane3/pandas_practice',\n",
       " 'https://github.com/faithkane3/python-exercises',\n",
       " 'https://github.com/faithkane3/python_101_ds',\n",
       " 'https://github.com/faithkane3/python_fun',\n",
       " 'https://github.com/faithkane3/resources',\n",
       " 'https://github.com/faithkane3/side_projects',\n",
       " 'https://github.com/faithkane3/sql_practice',\n",
       " 'https://github.com/faithkane3/statistics-exercises',\n",
       " 'https://github.com/faithkane3/zillow_project']"
      ]
     },
     "execution_count": 58,
     "metadata": {},
     "output_type": "execute_result"
    }
   ],
   "source": [
    "repos_df.html_url.tolist()"
   ]
  },
  {
   "cell_type": "markdown",
   "metadata": {},
   "source": [
    "### **Acquire a DataFrame by Making an HTTP Request**"
   ]
  },
  {
   "cell_type": "code",
   "execution_count": null,
   "metadata": {},
   "outputs": [],
   "source": []
  },
  {
   "cell_type": "markdown",
   "metadata": {},
   "source": [
    "### **Acquire a Time Series DataFrame using DataReader**"
   ]
  },
  {
   "cell_type": "code",
   "execution_count": 5,
   "metadata": {},
   "outputs": [],
   "source": [
    "df = data.DataReader(name='MSFT', data_source='yahoo', start = '2015-01-01', end='2020-12-31')"
   ]
  },
  {
   "cell_type": "code",
   "execution_count": 6,
   "metadata": {},
   "outputs": [
    {
     "data": {
      "text/html": [
       "<div>\n",
       "<style scoped>\n",
       "    .dataframe tbody tr th:only-of-type {\n",
       "        vertical-align: middle;\n",
       "    }\n",
       "\n",
       "    .dataframe tbody tr th {\n",
       "        vertical-align: top;\n",
       "    }\n",
       "\n",
       "    .dataframe thead th {\n",
       "        text-align: right;\n",
       "    }\n",
       "</style>\n",
       "<table border=\"1\" class=\"dataframe\">\n",
       "  <thead>\n",
       "    <tr style=\"text-align: right;\">\n",
       "      <th></th>\n",
       "      <th>High</th>\n",
       "      <th>Low</th>\n",
       "      <th>Open</th>\n",
       "      <th>Close</th>\n",
       "      <th>Volume</th>\n",
       "      <th>Adj Close</th>\n",
       "    </tr>\n",
       "    <tr>\n",
       "      <th>Date</th>\n",
       "      <th></th>\n",
       "      <th></th>\n",
       "      <th></th>\n",
       "      <th></th>\n",
       "      <th></th>\n",
       "      <th></th>\n",
       "    </tr>\n",
       "  </thead>\n",
       "  <tbody>\n",
       "    <tr>\n",
       "      <th>2015-01-02</th>\n",
       "      <td>47.419998</td>\n",
       "      <td>46.540001</td>\n",
       "      <td>46.660000</td>\n",
       "      <td>46.759998</td>\n",
       "      <td>27913900.0</td>\n",
       "      <td>41.864841</td>\n",
       "    </tr>\n",
       "    <tr>\n",
       "      <th>2015-01-05</th>\n",
       "      <td>46.730000</td>\n",
       "      <td>46.250000</td>\n",
       "      <td>46.369999</td>\n",
       "      <td>46.330002</td>\n",
       "      <td>39673900.0</td>\n",
       "      <td>41.479866</td>\n",
       "    </tr>\n",
       "    <tr>\n",
       "      <th>2015-01-06</th>\n",
       "      <td>46.750000</td>\n",
       "      <td>45.540001</td>\n",
       "      <td>46.380001</td>\n",
       "      <td>45.650002</td>\n",
       "      <td>36447900.0</td>\n",
       "      <td>40.871037</td>\n",
       "    </tr>\n",
       "    <tr>\n",
       "      <th>2015-01-07</th>\n",
       "      <td>46.459999</td>\n",
       "      <td>45.490002</td>\n",
       "      <td>45.980000</td>\n",
       "      <td>46.230000</td>\n",
       "      <td>29114100.0</td>\n",
       "      <td>41.390320</td>\n",
       "    </tr>\n",
       "    <tr>\n",
       "      <th>2015-01-08</th>\n",
       "      <td>47.750000</td>\n",
       "      <td>46.720001</td>\n",
       "      <td>46.750000</td>\n",
       "      <td>47.590000</td>\n",
       "      <td>29645200.0</td>\n",
       "      <td>42.607944</td>\n",
       "    </tr>\n",
       "  </tbody>\n",
       "</table>\n",
       "</div>"
      ],
      "text/plain": [
       "                 High        Low       Open      Close      Volume  Adj Close\n",
       "Date                                                                         \n",
       "2015-01-02  47.419998  46.540001  46.660000  46.759998  27913900.0  41.864841\n",
       "2015-01-05  46.730000  46.250000  46.369999  46.330002  39673900.0  41.479866\n",
       "2015-01-06  46.750000  45.540001  46.380001  45.650002  36447900.0  40.871037\n",
       "2015-01-07  46.459999  45.490002  45.980000  46.230000  29114100.0  41.390320\n",
       "2015-01-08  47.750000  46.720001  46.750000  47.590000  29645200.0  42.607944"
      ]
     },
     "execution_count": 6,
     "metadata": {},
     "output_type": "execute_result"
    }
   ],
   "source": [
    "df.head()"
   ]
  },
  {
   "cell_type": "code",
   "execution_count": 7,
   "metadata": {},
   "outputs": [
    {
     "name": "stdout",
     "output_type": "stream",
     "text": [
      "<class 'pandas.core.frame.DataFrame'>\n",
      "DatetimeIndex: 1343 entries, 2015-01-02 to 2020-05-04\n",
      "Data columns (total 6 columns):\n",
      " #   Column     Non-Null Count  Dtype  \n",
      "---  ------     --------------  -----  \n",
      " 0   High       1343 non-null   float64\n",
      " 1   Low        1343 non-null   float64\n",
      " 2   Open       1343 non-null   float64\n",
      " 3   Close      1343 non-null   float64\n",
      " 4   Volume     1343 non-null   float64\n",
      " 5   Adj Close  1343 non-null   float64\n",
      "dtypes: float64(6)\n",
      "memory usage: 73.4 KB\n"
     ]
    }
   ],
   "source": [
    "df.info()"
   ]
  },
  {
   "cell_type": "code",
   "execution_count": null,
   "metadata": {},
   "outputs": [],
   "source": []
  }
 ],
 "metadata": {
  "kernelspec": {
   "display_name": "Python 3",
   "language": "python",
   "name": "python3"
  },
  "language_info": {
   "codemirror_mode": {
    "name": "ipython",
    "version": 3
   },
   "file_extension": ".py",
   "mimetype": "text/x-python",
   "name": "python",
   "nbconvert_exporter": "python",
   "pygments_lexer": "ipython3",
   "version": "3.7.4"
  },
  "toc": {
   "base_numbering": 1,
   "nav_menu": {},
   "number_sections": true,
   "sideBar": true,
   "skip_h1_title": true,
   "title_cell": "Table of Contents",
   "title_sidebar": "Contents",
   "toc_cell": true,
   "toc_position": {},
   "toc_section_display": true,
   "toc_window_display": false
  }
 },
 "nbformat": 4,
 "nbformat_minor": 4
}

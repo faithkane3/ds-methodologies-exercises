{
 "cells": [
  {
   "cell_type": "markdown",
   "metadata": {
    "toc": true
   },
   "source": [
    "<h1>Table of Contents<span class=\"tocSkip\"></span></h1>\n",
    "<div class=\"toc\"><ul class=\"toc-item\"><li><span><a href=\"#Time-Series-Data\" data-toc-modified-id=\"Time-Series-Data-1\"><span class=\"toc-item-num\">1&nbsp;&nbsp;</span>Time Series Data</a></span><ul class=\"toc-item\"><li><span><a href=\"#What-is-Time-Series-Data?\" data-toc-modified-id=\"What-is-Time-Series-Data?-1.1\"><span class=\"toc-item-num\">1.1&nbsp;&nbsp;</span><strong><font color=\"red\">What is Time Series Data?</font></strong></a></span></li><li><span><a href=\"#So-What?\" data-toc-modified-id=\"So-What?-1.2\"><span class=\"toc-item-num\">1.2&nbsp;&nbsp;</span><strong><font color=\"orange\">So What?</font></strong></a></span></li><li><span><a href=\"#Now-What?\" data-toc-modified-id=\"Now-What?-1.3\"><span class=\"toc-item-num\">1.3&nbsp;&nbsp;</span><strong><font color=\"green\">Now What?</font></strong></a></span></li></ul></li><li><span><a href=\"#Acquiring\" data-toc-modified-id=\"Acquiring-2\"><span class=\"toc-item-num\">2&nbsp;&nbsp;</span>Acquiring</a></span><ul class=\"toc-item\"><li><span><a href=\"#What-is-a-REST-API?\" data-toc-modified-id=\"What-is-a-REST-API?-2.1\"><span class=\"toc-item-num\">2.1&nbsp;&nbsp;</span><strong><font color=\"red\">What is a REST API?</font></strong></a></span></li><li><span><a href=\"#So-What?\" data-toc-modified-id=\"So-What?-2.2\"><span class=\"toc-item-num\">2.2&nbsp;&nbsp;</span><strong><font color=\"orange\">So What?</font></strong></a></span></li><li><span><a href=\"#Now-What?\" data-toc-modified-id=\"Now-What?-2.3\"><span class=\"toc-item-num\">2.3&nbsp;&nbsp;</span><strong><font color=\"green\">Now What?</font></strong></a></span></li><li><span><a href=\"#Acquire-a-DataFrame-by-Making-an-HTTP-Request\" data-toc-modified-id=\"Acquire-a-DataFrame-by-Making-an-HTTP-Request-2.4\"><span class=\"toc-item-num\">2.4&nbsp;&nbsp;</span><strong>Acquire a DataFrame by Making an HTTP Request</strong></a></span></li><li><span><a href=\"#Acquire-a-Time-Series-DataFrame-using-DataReader\" data-toc-modified-id=\"Acquire-a-Time-Series-DataFrame-using-DataReader-2.5\"><span class=\"toc-item-num\">2.5&nbsp;&nbsp;</span><strong>Acquire a Time Series DataFrame using DataReader</strong></a></span></li></ul></li><li><span><a href=\"#Preparing\" data-toc-modified-id=\"Preparing-3\"><span class=\"toc-item-num\">3&nbsp;&nbsp;</span>Preparing</a></span><ul class=\"toc-item\"><li><span><a href=\"#What?\" data-toc-modified-id=\"What?-3.1\"><span class=\"toc-item-num\">3.1&nbsp;&nbsp;</span><strong><font color=\"red\">What?</font></strong></a></span></li><li><span><a href=\"#So-What?\" data-toc-modified-id=\"So-What?-3.2\"><span class=\"toc-item-num\">3.2&nbsp;&nbsp;</span><strong><font color=\"orange\">So What?</font></strong></a></span></li><li><span><a href=\"#Now-What?\" data-toc-modified-id=\"Now-What?-3.3\"><span class=\"toc-item-num\">3.3&nbsp;&nbsp;</span><strong><font color=\"green\">Now What?</font></strong></a></span><ul class=\"toc-item\"><li><span><a href=\"#Use-.loc()\" data-toc-modified-id=\"Use-.loc()-3.3.1\"><span class=\"toc-item-num\">3.3.1&nbsp;&nbsp;</span>Use .loc()</a></span></li><li><span><a href=\"#Date-Parts\" data-toc-modified-id=\"Date-Parts-3.3.2\"><span class=\"toc-item-num\">3.3.2&nbsp;&nbsp;</span>Date Parts</a></span></li><li><span><a href=\"#Change-data-types\" data-toc-modified-id=\"Change-data-types-3.3.3\"><span class=\"toc-item-num\">3.3.3&nbsp;&nbsp;</span>Change data types</a></span></li><li><span><a href=\"#Use-.assign()\" data-toc-modified-id=\"Use-.assign()-3.3.4\"><span class=\"toc-item-num\">3.3.4&nbsp;&nbsp;</span>Use <code>.assign()</code></a></span></li><li><span><a href=\"#Use-.diff()\" data-toc-modified-id=\"Use-.diff()-3.3.5\"><span class=\"toc-item-num\">3.3.5&nbsp;&nbsp;</span>Use <code>.diff()</code></a></span></li><li><span><a href=\"#Use-.resample()\" data-toc-modified-id=\"Use-.resample()-3.3.6\"><span class=\"toc-item-num\">3.3.6&nbsp;&nbsp;</span>Use .resample()</a></span></li></ul></li></ul></li></ul></div>"
   ]
  },
  {
   "cell_type": "code",
   "execution_count": 3,
   "metadata": {},
   "outputs": [
    {
     "name": "stderr",
     "output_type": "stream",
     "text": [
      "/usr/local/anaconda3/lib/python3.7/site-packages/pandas_datareader/compat/__init__.py:7: FutureWarning: pandas.util.testing is deprecated. Use the functions in the public API at pandas.testing instead.\n",
      "  from pandas.util.testing import assert_frame_equal\n"
     ]
    }
   ],
   "source": [
    "import pandas as pd\n",
    "import numpy as np\n",
    "\n",
    "import seaborn as sns\n",
    "import matplotlib.pyplot as plt\n",
    "%matplotlib inline\n",
    "\n",
    "plt.rc('figure', figsize=(11, 9))\n",
    "plt.rc('font', size=13)\n",
    "\n",
    "from pandas_datareader import data as web\n",
    "\n",
    "import warnings\n",
    "warnings.filterwarnings(\"ignore\")\n",
    "\n",
    "from acquire_walkthrough import get_store_data, german_energy_csv\n",
    "from prepare_walkthrough import numeric_hists"
   ]
  },
  {
   "cell_type": "markdown",
   "metadata": {},
   "source": [
    "## Time Series Data\n",
    "\n",
    "### **<font color=red>What is Time Series Data?</font>**\n",
    "\n",
    "In Time Series Data, time is your primary axis. With Time Series, your data has a natural temporal ordering and measures how things change over equally-spaced increments of time (the increments are not always equally-spaced increments. [See Heteroskedasticity](http://www.statsmakemecry.com/smmctheblog/confusing-stats-terms-explained-heteroscedasticity-heteroske.html)).\n",
    "\n",
    "### **<font color=orange>So What?</font>**\n",
    "\n",
    "We have more and more apps in our lives that use Time Series Data to handle data that measures change over time. From your smart thermostat to autonomous trading algorithms, time series databases are the 'fastest growing category of databases' ([source](https://blog.timescale.com/blog/what-the-heck-is-time-series-data-and-why-do-i-need-a-time-series-database-dcf3b1b18563/)).\n",
    "\n",
    "### **<font color=green>Now What?</font>**\n",
    "\n",
    "<a id=’conversion’></a>\n",
    "\n",
    "Let's start by converting our DataFrame to a DatetimeIndex.\n",
    "\n",
    ">Importing data from a csv file as DatetimeIndex\n",
    "\n",
    "`pd.read_csv(df, parse_dates=True, index_col='date').sort_index()`\n",
    "\n",
    ">Converting data to a DatetimeIndex\n",
    "\n",
    "`df['date'] = pd.to_datetime(df.date)`\n",
    "\n",
    "`df = df.set_index('date').sort_index()`\n",
    "\n",
    "If you have pandas 1.0.3, read [the doc](https://pandas.pydata.org/pandas-docs/stable/reference/api/pandas.DatetimeIndex.html#pandas.DatetimeIndex) on DatetimeIndex."
   ]
  },
  {
   "cell_type": "markdown",
   "metadata": {},
   "source": [
    "## Acquiring\n",
    "\n",
    "**<font color=green>Here we'll look at a couple example methods for acquiring some data we can use to practice working with time series.</font>**\n",
    "\n",
    "### **<font color=red>What is a REST API?</font>**\n",
    "\n",
    "Here is more than you need to know to start playing with the Requests library, but it still barely scratches the surface!\n",
    "\n",
    "**API** stands for Application Programming Interface, and it is a set of rules that allows programs to talk to each other.\n",
    "\n",
    "**JSON** stands for JavaScript Object Notation and is a text format that is language independent and made up of name/value pairs. (Like a Python dictionary object)\n",
    "\n",
    "**REST** stands for **RE**presentational **S**tate **T**ransfer, which is an architectural style and approach to communications used in web service development. It can be thought of as the language of the internet.\n",
    "\n",
    "### **<font color=orange>So What?</font>**\n",
    "\n",
    "Basically, when you link to a **specific URL, a request**, you are able to get a piece of **data returned, a response**. \n",
    "\n",
    "A **RESTful JSON API** uses HTTP requests to **GET (retrieve a response object)**, **PUT (change the state of or update your response object)**, **POST (create the response object)**, and **DELETE (remove a response object)** data. It allows users to connect to, manage, and interact with cloud services.\n",
    "\n",
    "The `requests` module allows you to send HTTP requests to a REST API using python. The HTTP request to a RESTful JSON API returns a response object with the data in JSON format. You can get a variety of information from this response object using different methods, some of which are explained in the table below in 'Now What.'\n",
    "\n",
    "\n",
    "**<font color=purple>Parts of a Request:</font>**\n",
    "\n",
    "**The Endpoint or Route**\n",
    "\n",
    "**root-endpoint** is the starting point of the API you are requesting from.\n",
    "\n",
    ">`https://api.github.com`\n",
    "\n",
    "**path** directs your request and determines the resource you receive as a response to your GET request. The example below gets a list of repositories by a certain user, in this case `faithkane3`. The API documentation lets you know what paths are available to you.\n",
    "\n",
    ">`https://api.github.com/users/faithkane3/repos`\n",
    "\n",
    "**query parameters** allow you to modify your request with key-value pairs. They begin with a ? and are separated with &.\n",
    "\n",
    ">`https://api.github.com/users/faithkane3/repos?sort=pushed`\n",
    "\n",
    "![image.jpg](https://res.cloudinary.com/indysigner/image/fetch/f_auto,q_auto/w_2000/https://cloud.netlifyusercontent.com/assets/344dbf88-fdf9-42bb-adb4-46f01eedd629/c119c0b2-4ded-42d0-90f0-496b14bf5e1f/understanding-api-doc-github-repo-opt.png)\n",
    "[source](https://www.smashingmagazine.com/2018/01/understanding-using-rest-api/)\n",
    "\n",
    "**The Method or Type of Request** CRUD (Create, Read, Update, Delete)\n",
    "\n",
    "**GET** - A GET request performs a READ operation. A GET request to a server sends you back the data you requested.\n",
    "\n",
    "**POST** - A POST request performs a CREATE operation. \n",
    "\n",
    "**PUT** - A PUT request performs an UPDATE operation.\n",
    "\n",
    "**PATCH** - A PATCH request performs an UPDATE operation.\n",
    "\n",
    "**DELETE** - A DELETE request performs a DELETE operation\n",
    "\n",
    "\n",
    "### **<font color=green>Now What?</font>**\n",
    "\n",
    "**Properties and Methods of response objects (not an exhaustive list)**\n",
    "\n",
    "| Property/Method | Description |\n",
    "| :--- | ----------- |\n",
    "| .content | Returns the response in bytes |\n",
    "| .json() | Returns a JSON object of the result if result in JSON format, otherwise raises an error |\n",
    "|.ok|Returns True if status_code is less than 200, otherwise False|\n",
    "|.request|Returns the request object that requested this response|\n",
    "|.status_code|Returns a number that indicates the status|\n",
    "|.text|Returns the content of the response, in unicode|\n",
    "|.url|Returns the URL of the response|"
   ]
  },
  {
   "cell_type": "markdown",
   "metadata": {},
   "source": [
    "### **Acquire a DataFrame by Making an HTTP Request**"
   ]
  },
  {
   "cell_type": "markdown",
   "metadata": {},
   "source": [
    "**<font color=purple>What if I wanted to get a list of repositories from a Github user?</font>**"
   ]
  },
  {
   "cell_type": "code",
   "execution_count": 4,
   "metadata": {},
   "outputs": [
    {
     "data": {
      "text/plain": [
       "<Response [200]>"
      ]
     },
     "execution_count": 4,
     "metadata": {},
     "output_type": "execute_result"
    }
   ],
   "source": [
    "import requests\n",
    "\n",
    "url = 'https://api.github.com/users/faithkane3/repos?sort=pushed'\n",
    "response = requests.get(url)\n",
    "response"
   ]
  },
  {
   "cell_type": "markdown",
   "metadata": {},
   "source": [
    "`.ok` returns a boolean communicating if the request was successful."
   ]
  },
  {
   "cell_type": "code",
   "execution_count": 5,
   "metadata": {},
   "outputs": [
    {
     "data": {
      "text/plain": [
       "True"
      ]
     },
     "execution_count": 5,
     "metadata": {},
     "output_type": "execute_result"
    }
   ],
   "source": [
    "response.ok"
   ]
  },
  {
   "cell_type": "markdown",
   "metadata": {},
   "source": [
    "`.status_code` returns the HTTP response status code."
   ]
  },
  {
   "cell_type": "code",
   "execution_count": 6,
   "metadata": {},
   "outputs": [
    {
     "data": {
      "text/plain": [
       "200"
      ]
     },
     "execution_count": 6,
     "metadata": {},
     "output_type": "execute_result"
    }
   ],
   "source": [
    "response.status_code"
   ]
  },
  {
   "cell_type": "markdown",
   "metadata": {},
   "source": [
    "**<font color=purple>HTTP Status Codes and Error Messages</font>**\n",
    "\n",
    ">200+ means the request has succeeded.\n",
    "\n",
    ">300+ means the request is redirected to another URL\n",
    "\n",
    ">400+ means an error that originates from the client has occurred\n",
    "\n",
    ">500+ means an error that originates from the server has occurred"
   ]
  },
  {
   "cell_type": "markdown",
   "metadata": {},
   "source": [
    "`.text` returns the raw response text"
   ]
  },
  {
   "cell_type": "code",
   "execution_count": 7,
   "metadata": {},
   "outputs": [
    {
     "name": "stdout",
     "output_type": "stream",
     "text": [
      "<class 'str'>\n"
     ]
    },
    {
     "data": {
      "text/plain": [
       "'[{\"id\":213936295,\"node_id\":\"MDEwOlJlcG9zaXRvcnkyMTM5MzYyOTU=\",\"name\":\"ds-methodologies-exercises\",\"full_name\":\"faithkane3/ds-methodologies-exercises\",\"private\":false,\"owner\":{\"login\":\"faithkane3\",\"id\":43799876,\"node_id\":\"MDQ6VXNlcjQzNzk5ODc2\",\"avatar_url\":\"https://avatars0.githubusercontent.com/u/43799876?v=4\",\"gravatar_id\":\"\",\"url\":\"https://api.github.com/users/faithkane3\",\"html_url\":\"https://github.com/faithkane3\",\"followers_url\":\"https://api.github.com/users/faithkane3/followers\",\"following_u'"
      ]
     },
     "execution_count": 7,
     "metadata": {},
     "output_type": "execute_result"
    }
   ],
   "source": [
    "# I'm limiting the text string to 500 characters bc it's one long string!\n",
    "\n",
    "print(type(response.text))\n",
    "response.text[:500]"
   ]
  },
  {
   "cell_type": "code",
   "execution_count": 8,
   "metadata": {},
   "outputs": [
    {
     "name": "stdout",
     "output_type": "stream",
     "text": [
      "<class 'list'>\n"
     ]
    },
    {
     "data": {
      "text/plain": [
       "23"
      ]
     },
     "execution_count": 8,
     "metadata": {},
     "output_type": "execute_result"
    }
   ],
   "source": [
    "# Use the `.json()` method on our response and access a list of dictionaries for all my Github repos\n",
    "# The response will not always be a list of dictionaries; it might be a dictionary.\n",
    "# In this case, there are 23 dictionaries in my list, 'data'\n",
    "\n",
    "data = response.json()\n",
    "print(type(data))\n",
    "len(data)"
   ]
  },
  {
   "cell_type": "code",
   "execution_count": 9,
   "metadata": {},
   "outputs": [
    {
     "data": {
      "text/plain": [
       "dict_keys(['id', 'node_id', 'name', 'full_name', 'private', 'owner', 'html_url', 'description', 'fork', 'url', 'forks_url', 'keys_url', 'collaborators_url', 'teams_url', 'hooks_url', 'issue_events_url', 'events_url', 'assignees_url', 'branches_url', 'tags_url', 'blobs_url', 'git_tags_url', 'git_refs_url', 'trees_url', 'statuses_url', 'languages_url', 'stargazers_url', 'contributors_url', 'subscribers_url', 'subscription_url', 'commits_url', 'git_commits_url', 'comments_url', 'issue_comment_url', 'contents_url', 'compare_url', 'merges_url', 'archive_url', 'downloads_url', 'issues_url', 'pulls_url', 'milestones_url', 'notifications_url', 'labels_url', 'releases_url', 'deployments_url', 'created_at', 'updated_at', 'pushed_at', 'git_url', 'ssh_url', 'clone_url', 'svn_url', 'homepage', 'size', 'stargazers_count', 'watchers_count', 'language', 'has_issues', 'has_projects', 'has_downloads', 'has_wiki', 'has_pages', 'forks_count', 'mirror_url', 'archived', 'disabled', 'open_issues_count', 'license', 'forks', 'open_issues', 'watchers', 'default_branch'])"
      ]
     },
     "execution_count": 9,
     "metadata": {},
     "output_type": "execute_result"
    }
   ],
   "source": [
    "# Access the keys of the first dictionary to understand the format of each dictionary in my list\n",
    "\n",
    "data[0].keys()"
   ]
  },
  {
   "cell_type": "code",
   "execution_count": 10,
   "metadata": {},
   "outputs": [
    {
     "name": "stdout",
     "output_type": "stream",
     "text": [
      "['ds-methodologies-exercises', 'faithkane3.github.io', 'zillow_project', 'codeup_review', 'makeovermonday', 'python-exercises', 'pandas_practice', 'side_projects', 'flask_intro', 'intro-to-deep-learning-with-keras', 'natural_language_processing', 'python_fun', 'git_warmup', 'bayes-methodologies-exercises', 'statistics-exercises', 'resources', 'numpy-100', 'karma_atm', 'checkbook_application', 'database-exercises', 'sql_practice', '101-exercises', 'python_101_ds']\n"
     ]
    }
   ],
   "source": [
    "# get a list of the names of all of my repos on Github\n",
    "\n",
    "repos = []\n",
    "for i in range(len(data)):\n",
    "    repos.append(data[i]['name'])\n",
    "print(repos)"
   ]
  },
  {
   "cell_type": "markdown",
   "metadata": {},
   "source": [
    "**OR I could just make it a pandas DataFrame!**"
   ]
  },
  {
   "cell_type": "code",
   "execution_count": 11,
   "metadata": {},
   "outputs": [
    {
     "data": {
      "text/html": [
       "<div>\n",
       "<style scoped>\n",
       "    .dataframe tbody tr th:only-of-type {\n",
       "        vertical-align: middle;\n",
       "    }\n",
       "\n",
       "    .dataframe tbody tr th {\n",
       "        vertical-align: top;\n",
       "    }\n",
       "\n",
       "    .dataframe thead th {\n",
       "        text-align: right;\n",
       "    }\n",
       "</style>\n",
       "<table border=\"1\" class=\"dataframe\">\n",
       "  <thead>\n",
       "    <tr style=\"text-align: right;\">\n",
       "      <th></th>\n",
       "      <th>id</th>\n",
       "      <th>node_id</th>\n",
       "      <th>name</th>\n",
       "      <th>full_name</th>\n",
       "      <th>private</th>\n",
       "      <th>owner</th>\n",
       "      <th>html_url</th>\n",
       "      <th>description</th>\n",
       "      <th>fork</th>\n",
       "      <th>url</th>\n",
       "      <th>...</th>\n",
       "      <th>forks_count</th>\n",
       "      <th>mirror_url</th>\n",
       "      <th>archived</th>\n",
       "      <th>disabled</th>\n",
       "      <th>open_issues_count</th>\n",
       "      <th>license</th>\n",
       "      <th>forks</th>\n",
       "      <th>open_issues</th>\n",
       "      <th>watchers</th>\n",
       "      <th>default_branch</th>\n",
       "    </tr>\n",
       "  </thead>\n",
       "  <tbody>\n",
       "    <tr>\n",
       "      <th>0</th>\n",
       "      <td>213936295</td>\n",
       "      <td>MDEwOlJlcG9zaXRvcnkyMTM5MzYyOTU=</td>\n",
       "      <td>ds-methodologies-exercises</td>\n",
       "      <td>faithkane3/ds-methodologies-exercises</td>\n",
       "      <td>False</td>\n",
       "      <td>{'login': 'faithkane3', 'id': 43799876, 'node_...</td>\n",
       "      <td>https://github.com/faithkane3/ds-methodologies...</td>\n",
       "      <td>None</td>\n",
       "      <td>False</td>\n",
       "      <td>https://api.github.com/repos/faithkane3/ds-met...</td>\n",
       "      <td>...</td>\n",
       "      <td>0</td>\n",
       "      <td>None</td>\n",
       "      <td>False</td>\n",
       "      <td>False</td>\n",
       "      <td>0</td>\n",
       "      <td>None</td>\n",
       "      <td>0</td>\n",
       "      <td>0</td>\n",
       "      <td>0</td>\n",
       "      <td>master</td>\n",
       "    </tr>\n",
       "    <tr>\n",
       "      <th>1</th>\n",
       "      <td>250357165</td>\n",
       "      <td>MDEwOlJlcG9zaXRvcnkyNTAzNTcxNjU=</td>\n",
       "      <td>faithkane3.github.io</td>\n",
       "      <td>faithkane3/faithkane3.github.io</td>\n",
       "      <td>False</td>\n",
       "      <td>{'login': 'faithkane3', 'id': 43799876, 'node_...</td>\n",
       "      <td>https://github.com/faithkane3/faithkane3.githu...</td>\n",
       "      <td>None</td>\n",
       "      <td>False</td>\n",
       "      <td>https://api.github.com/repos/faithkane3/faithk...</td>\n",
       "      <td>...</td>\n",
       "      <td>0</td>\n",
       "      <td>None</td>\n",
       "      <td>False</td>\n",
       "      <td>False</td>\n",
       "      <td>0</td>\n",
       "      <td>None</td>\n",
       "      <td>0</td>\n",
       "      <td>0</td>\n",
       "      <td>1</td>\n",
       "      <td>master</td>\n",
       "    </tr>\n",
       "  </tbody>\n",
       "</table>\n",
       "<p>2 rows × 73 columns</p>\n",
       "</div>"
      ],
      "text/plain": [
       "          id                           node_id                        name  \\\n",
       "0  213936295  MDEwOlJlcG9zaXRvcnkyMTM5MzYyOTU=  ds-methodologies-exercises   \n",
       "1  250357165  MDEwOlJlcG9zaXRvcnkyNTAzNTcxNjU=        faithkane3.github.io   \n",
       "\n",
       "                               full_name  private  \\\n",
       "0  faithkane3/ds-methodologies-exercises    False   \n",
       "1        faithkane3/faithkane3.github.io    False   \n",
       "\n",
       "                                               owner  \\\n",
       "0  {'login': 'faithkane3', 'id': 43799876, 'node_...   \n",
       "1  {'login': 'faithkane3', 'id': 43799876, 'node_...   \n",
       "\n",
       "                                            html_url description   fork  \\\n",
       "0  https://github.com/faithkane3/ds-methodologies...        None  False   \n",
       "1  https://github.com/faithkane3/faithkane3.githu...        None  False   \n",
       "\n",
       "                                                 url  ... forks_count  \\\n",
       "0  https://api.github.com/repos/faithkane3/ds-met...  ...           0   \n",
       "1  https://api.github.com/repos/faithkane3/faithk...  ...           0   \n",
       "\n",
       "  mirror_url archived disabled open_issues_count license forks open_issues  \\\n",
       "0       None    False    False                 0    None     0           0   \n",
       "1       None    False    False                 0    None     0           0   \n",
       "\n",
       "  watchers default_branch  \n",
       "0        0         master  \n",
       "1        1         master  \n",
       "\n",
       "[2 rows x 73 columns]"
      ]
     },
     "execution_count": 11,
     "metadata": {},
     "output_type": "execute_result"
    }
   ],
   "source": [
    "repos_df = pd.DataFrame(data)\n",
    "repos_df.head(2)"
   ]
  },
  {
   "cell_type": "code",
   "execution_count": 12,
   "metadata": {},
   "outputs": [
    {
     "data": {
      "text/plain": [
       "['ds-methodologies-exercises',\n",
       " 'faithkane3.github.io',\n",
       " 'zillow_project',\n",
       " 'codeup_review',\n",
       " 'makeovermonday',\n",
       " 'python-exercises',\n",
       " 'pandas_practice',\n",
       " 'side_projects',\n",
       " 'flask_intro',\n",
       " 'intro-to-deep-learning-with-keras',\n",
       " 'natural_language_processing',\n",
       " 'python_fun',\n",
       " 'git_warmup',\n",
       " 'bayes-methodologies-exercises',\n",
       " 'statistics-exercises',\n",
       " 'resources',\n",
       " 'numpy-100',\n",
       " 'karma_atm',\n",
       " 'checkbook_application',\n",
       " 'database-exercises',\n",
       " 'sql_practice',\n",
       " '101-exercises',\n",
       " 'python_101_ds']"
      ]
     },
     "execution_count": 12,
     "metadata": {},
     "output_type": "execute_result"
    }
   ],
   "source": [
    "repos_df.name.tolist()"
   ]
  },
  {
   "cell_type": "markdown",
   "metadata": {},
   "source": [
    "**How about a list of urls for my repos? Handy for scraping repos!**"
   ]
  },
  {
   "cell_type": "code",
   "execution_count": 13,
   "metadata": {},
   "outputs": [
    {
     "data": {
      "text/plain": [
       "['https://github.com/faithkane3/ds-methodologies-exercises',\n",
       " 'https://github.com/faithkane3/faithkane3.github.io',\n",
       " 'https://github.com/faithkane3/zillow_project',\n",
       " 'https://github.com/faithkane3/codeup_review',\n",
       " 'https://github.com/faithkane3/makeovermonday',\n",
       " 'https://github.com/faithkane3/python-exercises',\n",
       " 'https://github.com/faithkane3/pandas_practice',\n",
       " 'https://github.com/faithkane3/side_projects',\n",
       " 'https://github.com/faithkane3/flask_intro',\n",
       " 'https://github.com/faithkane3/intro-to-deep-learning-with-keras',\n",
       " 'https://github.com/faithkane3/natural_language_processing',\n",
       " 'https://github.com/faithkane3/python_fun',\n",
       " 'https://github.com/faithkane3/git_warmup',\n",
       " 'https://github.com/faithkane3/bayes-methodologies-exercises',\n",
       " 'https://github.com/faithkane3/statistics-exercises',\n",
       " 'https://github.com/faithkane3/resources',\n",
       " 'https://github.com/faithkane3/numpy-100',\n",
       " 'https://github.com/faithkane3/karma_atm',\n",
       " 'https://github.com/faithkane3/checkbook_application',\n",
       " 'https://github.com/faithkane3/database-exercises',\n",
       " 'https://github.com/faithkane3/sql_practice',\n",
       " 'https://github.com/faithkane3/101-exercises',\n",
       " 'https://github.com/faithkane3/python_101_ds']"
      ]
     },
     "execution_count": 13,
     "metadata": {},
     "output_type": "execute_result"
    }
   ],
   "source": [
    "repos_df.html_url.tolist()"
   ]
  },
  {
   "cell_type": "markdown",
   "metadata": {},
   "source": [
    "### **Acquire a Time Series DataFrame using DataReader**\n",
    "\n",
    "pandas_datareader is an API that allows you to access stock price and volume. This can be some cool time series data to play around with.\n",
    "\n",
    "`web.DataReader(name= , data_source= , start= , end= )`"
   ]
  },
  {
   "cell_type": "code",
   "execution_count": 14,
   "metadata": {},
   "outputs": [],
   "source": [
    "df = web.DataReader(name='MSFT', data_source='yahoo', start = '2015-01-01', end='2020-12-31')"
   ]
  },
  {
   "cell_type": "code",
   "execution_count": 15,
   "metadata": {},
   "outputs": [],
   "source": [
    "df = df.sort_index()"
   ]
  },
  {
   "cell_type": "code",
   "execution_count": 16,
   "metadata": {},
   "outputs": [
    {
     "data": {
      "text/html": [
       "<div>\n",
       "<style scoped>\n",
       "    .dataframe tbody tr th:only-of-type {\n",
       "        vertical-align: middle;\n",
       "    }\n",
       "\n",
       "    .dataframe tbody tr th {\n",
       "        vertical-align: top;\n",
       "    }\n",
       "\n",
       "    .dataframe thead th {\n",
       "        text-align: right;\n",
       "    }\n",
       "</style>\n",
       "<table border=\"1\" class=\"dataframe\">\n",
       "  <thead>\n",
       "    <tr style=\"text-align: right;\">\n",
       "      <th></th>\n",
       "      <th>High</th>\n",
       "      <th>Low</th>\n",
       "      <th>Open</th>\n",
       "      <th>Close</th>\n",
       "      <th>Volume</th>\n",
       "      <th>Adj Close</th>\n",
       "    </tr>\n",
       "    <tr>\n",
       "      <th>Date</th>\n",
       "      <th></th>\n",
       "      <th></th>\n",
       "      <th></th>\n",
       "      <th></th>\n",
       "      <th></th>\n",
       "      <th></th>\n",
       "    </tr>\n",
       "  </thead>\n",
       "  <tbody>\n",
       "    <tr>\n",
       "      <th>2015-01-02</th>\n",
       "      <td>47.419998</td>\n",
       "      <td>46.540001</td>\n",
       "      <td>46.660000</td>\n",
       "      <td>46.759998</td>\n",
       "      <td>27913900.0</td>\n",
       "      <td>41.864841</td>\n",
       "    </tr>\n",
       "    <tr>\n",
       "      <th>2015-01-05</th>\n",
       "      <td>46.730000</td>\n",
       "      <td>46.250000</td>\n",
       "      <td>46.369999</td>\n",
       "      <td>46.330002</td>\n",
       "      <td>39673900.0</td>\n",
       "      <td>41.479866</td>\n",
       "    </tr>\n",
       "    <tr>\n",
       "      <th>2015-01-06</th>\n",
       "      <td>46.750000</td>\n",
       "      <td>45.540001</td>\n",
       "      <td>46.380001</td>\n",
       "      <td>45.650002</td>\n",
       "      <td>36447900.0</td>\n",
       "      <td>40.871037</td>\n",
       "    </tr>\n",
       "    <tr>\n",
       "      <th>2015-01-07</th>\n",
       "      <td>46.459999</td>\n",
       "      <td>45.490002</td>\n",
       "      <td>45.980000</td>\n",
       "      <td>46.230000</td>\n",
       "      <td>29114100.0</td>\n",
       "      <td>41.390320</td>\n",
       "    </tr>\n",
       "    <tr>\n",
       "      <th>2015-01-08</th>\n",
       "      <td>47.750000</td>\n",
       "      <td>46.720001</td>\n",
       "      <td>46.750000</td>\n",
       "      <td>47.590000</td>\n",
       "      <td>29645200.0</td>\n",
       "      <td>42.607944</td>\n",
       "    </tr>\n",
       "  </tbody>\n",
       "</table>\n",
       "</div>"
      ],
      "text/plain": [
       "                 High        Low       Open      Close      Volume  Adj Close\n",
       "Date                                                                         \n",
       "2015-01-02  47.419998  46.540001  46.660000  46.759998  27913900.0  41.864841\n",
       "2015-01-05  46.730000  46.250000  46.369999  46.330002  39673900.0  41.479866\n",
       "2015-01-06  46.750000  45.540001  46.380001  45.650002  36447900.0  40.871037\n",
       "2015-01-07  46.459999  45.490002  45.980000  46.230000  29114100.0  41.390320\n",
       "2015-01-08  47.750000  46.720001  46.750000  47.590000  29645200.0  42.607944"
      ]
     },
     "execution_count": 16,
     "metadata": {},
     "output_type": "execute_result"
    }
   ],
   "source": [
    "df.head()"
   ]
  },
  {
   "cell_type": "code",
   "execution_count": 17,
   "metadata": {},
   "outputs": [
    {
     "name": "stdout",
     "output_type": "stream",
     "text": [
      "<class 'pandas.core.frame.DataFrame'>\n",
      "DatetimeIndex: 1349 entries, 2015-01-02 to 2020-05-12\n",
      "Data columns (total 6 columns):\n",
      " #   Column     Non-Null Count  Dtype  \n",
      "---  ------     --------------  -----  \n",
      " 0   High       1349 non-null   float64\n",
      " 1   Low        1349 non-null   float64\n",
      " 2   Open       1349 non-null   float64\n",
      " 3   Close      1349 non-null   float64\n",
      " 4   Volume     1349 non-null   float64\n",
      " 5   Adj Close  1349 non-null   float64\n",
      "dtypes: float64(6)\n",
      "memory usage: 73.8 KB\n"
     ]
    }
   ],
   "source": [
    "df.info()"
   ]
  },
  {
   "cell_type": "code",
   "execution_count": 18,
   "metadata": {},
   "outputs": [
    {
     "data": {
      "image/png": "[encoded data removed]",
      "text/plain": [
       "<Figure size 792x648 with 1 Axes>"
      ]
     },
     "metadata": {
      "needs_background": "light"
     },
     "output_type": "display_data"
    }
   ],
   "source": [
    "df.Close.plot(color='dodgerblue')\n",
    "df['Adj Close'].plot(color='orange')\n",
    "\n",
    "plt.title('Yahoo Closing Stock Prices From 2015-2020')\n",
    "plt.xlabel('')\n",
    "plt.ylabel('Dollars')\n",
    "plt.legend()\n",
    "plt.show()"
   ]
  },
  {
   "cell_type": "code",
   "execution_count": 19,
   "metadata": {},
   "outputs": [
    {
     "data": {
      "text/html": [
       "<div>\n",
       "<style scoped>\n",
       "    .dataframe tbody tr th:only-of-type {\n",
       "        vertical-align: middle;\n",
       "    }\n",
       "\n",
       "    .dataframe tbody tr th {\n",
       "        vertical-align: top;\n",
       "    }\n",
       "\n",
       "    .dataframe thead th {\n",
       "        text-align: right;\n",
       "    }\n",
       "</style>\n",
       "<table border=\"1\" class=\"dataframe\">\n",
       "  <thead>\n",
       "    <tr style=\"text-align: right;\">\n",
       "      <th></th>\n",
       "      <th>High</th>\n",
       "      <th>Low</th>\n",
       "      <th>Open</th>\n",
       "      <th>Close</th>\n",
       "      <th>Volume</th>\n",
       "      <th>Adj Close</th>\n",
       "    </tr>\n",
       "  </thead>\n",
       "  <tbody>\n",
       "    <tr>\n",
       "      <th>count</th>\n",
       "      <td>1349.000000</td>\n",
       "      <td>1349.000000</td>\n",
       "      <td>1349.000000</td>\n",
       "      <td>1349.000000</td>\n",
       "      <td>1.349000e+03</td>\n",
       "      <td>1349.000000</td>\n",
       "    </tr>\n",
       "    <tr>\n",
       "      <th>mean</th>\n",
       "      <td>87.635797</td>\n",
       "      <td>85.997650</td>\n",
       "      <td>86.841468</td>\n",
       "      <td>86.865997</td>\n",
       "      <td>3.034041e+07</td>\n",
       "      <td>84.084800</td>\n",
       "    </tr>\n",
       "    <tr>\n",
       "      <th>std</th>\n",
       "      <td>38.311101</td>\n",
       "      <td>37.372272</td>\n",
       "      <td>37.873262</td>\n",
       "      <td>37.870572</td>\n",
       "      <td>1.526129e+07</td>\n",
       "      <td>39.109545</td>\n",
       "    </tr>\n",
       "    <tr>\n",
       "      <th>min</th>\n",
       "      <td>40.740002</td>\n",
       "      <td>39.720001</td>\n",
       "      <td>40.340000</td>\n",
       "      <td>40.290001</td>\n",
       "      <td>7.425600e+06</td>\n",
       "      <td>36.170650</td>\n",
       "    </tr>\n",
       "    <tr>\n",
       "      <th>25%</th>\n",
       "      <td>54.660000</td>\n",
       "      <td>53.689999</td>\n",
       "      <td>54.180000</td>\n",
       "      <td>54.189999</td>\n",
       "      <td>2.104330e+07</td>\n",
       "      <td>49.912457</td>\n",
       "    </tr>\n",
       "    <tr>\n",
       "      <th>50%</th>\n",
       "      <td>74.309998</td>\n",
       "      <td>73.449997</td>\n",
       "      <td>73.800003</td>\n",
       "      <td>73.980003</td>\n",
       "      <td>2.643530e+07</td>\n",
       "      <td>70.984238</td>\n",
       "    </tr>\n",
       "    <tr>\n",
       "      <th>75%</th>\n",
       "      <td>111.449997</td>\n",
       "      <td>109.360001</td>\n",
       "      <td>110.739998</td>\n",
       "      <td>110.830002</td>\n",
       "      <td>3.444170e+07</td>\n",
       "      <td>108.615486</td>\n",
       "    </tr>\n",
       "    <tr>\n",
       "      <th>max</th>\n",
       "      <td>190.699997</td>\n",
       "      <td>186.470001</td>\n",
       "      <td>190.649994</td>\n",
       "      <td>188.699997</td>\n",
       "      <td>1.691640e+08</td>\n",
       "      <td>188.185989</td>\n",
       "    </tr>\n",
       "  </tbody>\n",
       "</table>\n",
       "</div>"
      ],
      "text/plain": [
       "              High          Low         Open        Close        Volume  \\\n",
       "count  1349.000000  1349.000000  1349.000000  1349.000000  1.349000e+03   \n",
       "mean     87.635797    85.997650    86.841468    86.865997  3.034041e+07   \n",
       "std      38.311101    37.372272    37.873262    37.870572  1.526129e+07   \n",
       "min      40.740002    39.720001    40.340000    40.290001  7.425600e+06   \n",
       "25%      54.660000    53.689999    54.180000    54.189999  2.104330e+07   \n",
       "50%      74.309998    73.449997    73.800003    73.980003  2.643530e+07   \n",
       "75%     111.449997   109.360001   110.739998   110.830002  3.444170e+07   \n",
       "max     190.699997   186.470001   190.649994   188.699997  1.691640e+08   \n",
       "\n",
       "         Adj Close  \n",
       "count  1349.000000  \n",
       "mean     84.084800  \n",
       "std      39.109545  \n",
       "min      36.170650  \n",
       "25%      49.912457  \n",
       "50%      70.984238  \n",
       "75%     108.615486  \n",
       "max     188.185989  "
      ]
     },
     "execution_count": 19,
     "metadata": {},
     "output_type": "execute_result"
    }
   ],
   "source": [
    "df.describe()"
   ]
  },
  {
   "cell_type": "markdown",
   "metadata": {},
   "source": [
    "**When you have time, this tutorial plays with DataReader [more](https://www.youtube.com/watch?v=UFuo7EHI8zc&list=PL-osiE80TeTsWmV9i9c58mdDCSskIFdDS&index=10).**"
   ]
  },
  {
   "cell_type": "markdown",
   "metadata": {},
   "source": [
    "## Preparing\n",
    "\n",
    "\n",
    "### **<font color=red>What?</font>**\n",
    "\n",
    "I will address specifically preparing data with a DatetimeIndex. Click [here](#conversion) to jump back up to how to convert your DataFrame or import your csv file to have a DatetimeIndex.\n",
    "\n",
    "### **<font color=orange>So What?</font>**\n",
    "\n",
    "\n",
    "\n",
    "### **<font color=green>Now What?</font>**\n",
    "\n",
    "<div class=\"alert alert-block alert-danger\"> If you have upgraded to pandas 1.0.3, you can check by running this in a cell `pd.__version__`, </div>\n",
    "\n",
    "[this documentation](https://pandas.pydata.org/pandas-docs/stable/reference/api/pandas.DatetimeIndex.html#pandas.DatetimeIndex) might be helpful.\n",
    "\n",
    ">**<font color=purple>I will use my function to get some DatetimeIndex data to work with.</font>**"
   ]
  },
  {
   "cell_type": "code",
   "execution_count": 20,
   "metadata": {},
   "outputs": [
    {
     "data": {
      "text/html": [
       "<div>\n",
       "<style scoped>\n",
       "    .dataframe tbody tr th:only-of-type {\n",
       "        vertical-align: middle;\n",
       "    }\n",
       "\n",
       "    .dataframe tbody tr th {\n",
       "        vertical-align: top;\n",
       "    }\n",
       "\n",
       "    .dataframe thead th {\n",
       "        text-align: right;\n",
       "    }\n",
       "</style>\n",
       "<table border=\"1\" class=\"dataframe\">\n",
       "  <thead>\n",
       "    <tr style=\"text-align: right;\">\n",
       "      <th></th>\n",
       "      <th>sale_amount</th>\n",
       "      <th>sale_id</th>\n",
       "      <th>store_address</th>\n",
       "      <th>store_city</th>\n",
       "      <th>store_id</th>\n",
       "      <th>store_state</th>\n",
       "      <th>store_zipcode</th>\n",
       "      <th>item_brand</th>\n",
       "      <th>item_id</th>\n",
       "      <th>item_name</th>\n",
       "      <th>item_price</th>\n",
       "      <th>item_upc12</th>\n",
       "      <th>item_upc14</th>\n",
       "    </tr>\n",
       "    <tr>\n",
       "      <th>sale_date</th>\n",
       "      <th></th>\n",
       "      <th></th>\n",
       "      <th></th>\n",
       "      <th></th>\n",
       "      <th></th>\n",
       "      <th></th>\n",
       "      <th></th>\n",
       "      <th></th>\n",
       "      <th></th>\n",
       "      <th></th>\n",
       "      <th></th>\n",
       "      <th></th>\n",
       "      <th></th>\n",
       "    </tr>\n",
       "  </thead>\n",
       "  <tbody>\n",
       "    <tr>\n",
       "      <th>2013-01-01 00:00:00+00:00</th>\n",
       "      <td>13.0</td>\n",
       "      <td>1</td>\n",
       "      <td>12125 Alamo Ranch Pkwy</td>\n",
       "      <td>San Antonio</td>\n",
       "      <td>1</td>\n",
       "      <td>TX</td>\n",
       "      <td>78253</td>\n",
       "      <td>Riceland</td>\n",
       "      <td>1</td>\n",
       "      <td>Riceland American Jazmine Rice</td>\n",
       "      <td>0.84</td>\n",
       "      <td>35200264013</td>\n",
       "      <td>35200264013</td>\n",
       "    </tr>\n",
       "    <tr>\n",
       "      <th>2013-01-01 00:00:00+00:00</th>\n",
       "      <td>26.0</td>\n",
       "      <td>211817</td>\n",
       "      <td>12018 Perrin Beitel Rd</td>\n",
       "      <td>San Antonio</td>\n",
       "      <td>7</td>\n",
       "      <td>TX</td>\n",
       "      <td>78217</td>\n",
       "      <td>Mueller</td>\n",
       "      <td>12</td>\n",
       "      <td>Mueller Sport Care Basic Support Level Medium ...</td>\n",
       "      <td>8.40</td>\n",
       "      <td>74676640211</td>\n",
       "      <td>74676640211</td>\n",
       "    </tr>\n",
       "  </tbody>\n",
       "</table>\n",
       "</div>"
      ],
      "text/plain": [
       "                           sale_amount  sale_id           store_address  \\\n",
       "sale_date                                                                 \n",
       "2013-01-01 00:00:00+00:00         13.0        1  12125 Alamo Ranch Pkwy   \n",
       "2013-01-01 00:00:00+00:00         26.0   211817  12018 Perrin Beitel Rd   \n",
       "\n",
       "                            store_city  store_id store_state  store_zipcode  \\\n",
       "sale_date                                                                     \n",
       "2013-01-01 00:00:00+00:00  San Antonio         1          TX          78253   \n",
       "2013-01-01 00:00:00+00:00  San Antonio         7          TX          78217   \n",
       "\n",
       "                          item_brand  item_id  \\\n",
       "sale_date                                       \n",
       "2013-01-01 00:00:00+00:00   Riceland        1   \n",
       "2013-01-01 00:00:00+00:00    Mueller       12   \n",
       "\n",
       "                                                                   item_name  \\\n",
       "sale_date                                                                      \n",
       "2013-01-01 00:00:00+00:00                     Riceland American Jazmine Rice   \n",
       "2013-01-01 00:00:00+00:00  Mueller Sport Care Basic Support Level Medium ...   \n",
       "\n",
       "                           item_price   item_upc12   item_upc14  \n",
       "sale_date                                                        \n",
       "2013-01-01 00:00:00+00:00        0.84  35200264013  35200264013  \n",
       "2013-01-01 00:00:00+00:00        8.40  74676640211  74676640211  "
      ]
     },
     "execution_count": 20,
     "metadata": {},
     "output_type": "execute_result"
    }
   ],
   "source": [
    "df = get_store_data()\n",
    "df.head(2)"
   ]
  },
  {
   "cell_type": "markdown",
   "metadata": {},
   "source": [
    "#### Use .loc()\n",
    "\n",
    "You can use `.loc[]` to access a row or column or a group of rows or colums by"
   ]
  },
  {
   "cell_type": "code",
   "execution_count": null,
   "metadata": {},
   "outputs": [],
   "source": []
  },
  {
   "cell_type": "markdown",
   "metadata": {},
   "source": [
    "#### Date Parts\n",
    "\n",
    ">**<font color=purple>A DatetimeIndex allows me to quickly access and isolate other information about a particular datetime like the month, the day of the week, or the year. There are many more attributes of a timestamp object that you can access [here](https://pandas.pydata.org/pandas-docs/stable/reference/api/pandas.DatetimeIndex.html#pandas.DatetimeIndex).</font>**"
   ]
  },
  {
   "cell_type": "code",
   "execution_count": 21,
   "metadata": {},
   "outputs": [
    {
     "data": {
      "text/html": [
       "<div>\n",
       "<style scoped>\n",
       "    .dataframe tbody tr th:only-of-type {\n",
       "        vertical-align: middle;\n",
       "    }\n",
       "\n",
       "    .dataframe tbody tr th {\n",
       "        vertical-align: top;\n",
       "    }\n",
       "\n",
       "    .dataframe thead th {\n",
       "        text-align: right;\n",
       "    }\n",
       "</style>\n",
       "<table border=\"1\" class=\"dataframe\">\n",
       "  <thead>\n",
       "    <tr style=\"text-align: right;\">\n",
       "      <th></th>\n",
       "      <th>sale_amount</th>\n",
       "      <th>sale_id</th>\n",
       "      <th>store_address</th>\n",
       "      <th>store_city</th>\n",
       "      <th>store_id</th>\n",
       "      <th>store_state</th>\n",
       "      <th>store_zipcode</th>\n",
       "      <th>item_brand</th>\n",
       "      <th>item_id</th>\n",
       "      <th>item_name</th>\n",
       "      <th>item_price</th>\n",
       "      <th>item_upc12</th>\n",
       "      <th>item_upc14</th>\n",
       "      <th>year</th>\n",
       "      <th>month</th>\n",
       "      <th>weekday</th>\n",
       "    </tr>\n",
       "    <tr>\n",
       "      <th>sale_date</th>\n",
       "      <th></th>\n",
       "      <th></th>\n",
       "      <th></th>\n",
       "      <th></th>\n",
       "      <th></th>\n",
       "      <th></th>\n",
       "      <th></th>\n",
       "      <th></th>\n",
       "      <th></th>\n",
       "      <th></th>\n",
       "      <th></th>\n",
       "      <th></th>\n",
       "      <th></th>\n",
       "      <th></th>\n",
       "      <th></th>\n",
       "      <th></th>\n",
       "    </tr>\n",
       "  </thead>\n",
       "  <tbody>\n",
       "    <tr>\n",
       "      <th>2013-01-01 00:00:00+00:00</th>\n",
       "      <td>13.0</td>\n",
       "      <td>1</td>\n",
       "      <td>12125 Alamo Ranch Pkwy</td>\n",
       "      <td>San Antonio</td>\n",
       "      <td>1</td>\n",
       "      <td>TX</td>\n",
       "      <td>78253</td>\n",
       "      <td>Riceland</td>\n",
       "      <td>1</td>\n",
       "      <td>Riceland American Jazmine Rice</td>\n",
       "      <td>0.84</td>\n",
       "      <td>35200264013</td>\n",
       "      <td>35200264013</td>\n",
       "      <td>2013</td>\n",
       "      <td>1</td>\n",
       "      <td>Tuesday</td>\n",
       "    </tr>\n",
       "    <tr>\n",
       "      <th>2013-01-01 00:00:00+00:00</th>\n",
       "      <td>26.0</td>\n",
       "      <td>211817</td>\n",
       "      <td>12018 Perrin Beitel Rd</td>\n",
       "      <td>San Antonio</td>\n",
       "      <td>7</td>\n",
       "      <td>TX</td>\n",
       "      <td>78217</td>\n",
       "      <td>Mueller</td>\n",
       "      <td>12</td>\n",
       "      <td>Mueller Sport Care Basic Support Level Medium ...</td>\n",
       "      <td>8.40</td>\n",
       "      <td>74676640211</td>\n",
       "      <td>74676640211</td>\n",
       "      <td>2013</td>\n",
       "      <td>1</td>\n",
       "      <td>Tuesday</td>\n",
       "    </tr>\n",
       "  </tbody>\n",
       "</table>\n",
       "</div>"
      ],
      "text/plain": [
       "                           sale_amount  sale_id           store_address  \\\n",
       "sale_date                                                                 \n",
       "2013-01-01 00:00:00+00:00         13.0        1  12125 Alamo Ranch Pkwy   \n",
       "2013-01-01 00:00:00+00:00         26.0   211817  12018 Perrin Beitel Rd   \n",
       "\n",
       "                            store_city  store_id store_state  store_zipcode  \\\n",
       "sale_date                                                                     \n",
       "2013-01-01 00:00:00+00:00  San Antonio         1          TX          78253   \n",
       "2013-01-01 00:00:00+00:00  San Antonio         7          TX          78217   \n",
       "\n",
       "                          item_brand  item_id  \\\n",
       "sale_date                                       \n",
       "2013-01-01 00:00:00+00:00   Riceland        1   \n",
       "2013-01-01 00:00:00+00:00    Mueller       12   \n",
       "\n",
       "                                                                   item_name  \\\n",
       "sale_date                                                                      \n",
       "2013-01-01 00:00:00+00:00                     Riceland American Jazmine Rice   \n",
       "2013-01-01 00:00:00+00:00  Mueller Sport Care Basic Support Level Medium ...   \n",
       "\n",
       "                           item_price   item_upc12   item_upc14  year  month  \\\n",
       "sale_date                                                                      \n",
       "2013-01-01 00:00:00+00:00        0.84  35200264013  35200264013  2013      1   \n",
       "2013-01-01 00:00:00+00:00        8.40  74676640211  74676640211  2013      1   \n",
       "\n",
       "                           weekday  \n",
       "sale_date                           \n",
       "2013-01-01 00:00:00+00:00  Tuesday  \n",
       "2013-01-01 00:00:00+00:00  Tuesday  "
      ]
     },
     "execution_count": 21,
     "metadata": {},
     "output_type": "execute_result"
    }
   ],
   "source": [
    "df['year'] = df.index.year\n",
    "df['month'] = df.index.month\n",
    "df['weekday'] = df.index.day_name()\n",
    "\n",
    "df.head(2)"
   ]
  },
  {
   "cell_type": "markdown",
   "metadata": {},
   "source": [
    "#### Change data types\n",
    "\n",
    ">`df = df.astype({'col': dtype, 'col': dtype})`"
   ]
  },
  {
   "cell_type": "code",
   "execution_count": 22,
   "metadata": {},
   "outputs": [],
   "source": [
    "# I want to check out the distributions of the numeric data; I will change some dtypes here to do that.\n",
    "\n",
    "df = (df.astype({'sale_id': object, 'store_id': object, \n",
    "                     'store_zipcode': object, 'item_id': object, \n",
    "                     'item_upc12': object, 'item_upc14': object, \n",
    "                     'month': 'category', 'weekday': 'category',\n",
    "                        'year': 'category'}))"
   ]
  },
  {
   "cell_type": "code",
   "execution_count": 23,
   "metadata": {},
   "outputs": [
    {
     "data": {
      "image/png": "[encoded data removed]",
      "text/plain": [
       "<Figure size 792x648 with 2 Axes>"
      ]
     },
     "metadata": {
      "needs_background": "light"
     },
     "output_type": "display_data"
    }
   ],
   "source": [
    "numeric_hists(df, bins=25)"
   ]
  },
  {
   "cell_type": "markdown",
   "metadata": {},
   "source": [
    "####  Use `.assign()` \n",
    "- Create New Columns from existing columns in your df\n",
    "\n",
    ">`df = df.assign(new_col_name = your calculation)`"
   ]
  },
  {
   "cell_type": "code",
   "execution_count": 24,
   "metadata": {},
   "outputs": [
    {
     "data": {
      "text/html": [
       "<div>\n",
       "<style scoped>\n",
       "    .dataframe tbody tr th:only-of-type {\n",
       "        vertical-align: middle;\n",
       "    }\n",
       "\n",
       "    .dataframe tbody tr th {\n",
       "        vertical-align: top;\n",
       "    }\n",
       "\n",
       "    .dataframe thead th {\n",
       "        text-align: right;\n",
       "    }\n",
       "</style>\n",
       "<table border=\"1\" class=\"dataframe\">\n",
       "  <thead>\n",
       "    <tr style=\"text-align: right;\">\n",
       "      <th></th>\n",
       "      <th>sale_amount</th>\n",
       "      <th>sale_id</th>\n",
       "      <th>store_address</th>\n",
       "      <th>store_city</th>\n",
       "      <th>store_id</th>\n",
       "      <th>store_state</th>\n",
       "      <th>store_zipcode</th>\n",
       "      <th>item_brand</th>\n",
       "      <th>item_id</th>\n",
       "      <th>item_name</th>\n",
       "      <th>item_price</th>\n",
       "      <th>item_upc12</th>\n",
       "      <th>item_upc14</th>\n",
       "      <th>year</th>\n",
       "      <th>month</th>\n",
       "      <th>weekday</th>\n",
       "      <th>sales_total</th>\n",
       "    </tr>\n",
       "    <tr>\n",
       "      <th>sale_date</th>\n",
       "      <th></th>\n",
       "      <th></th>\n",
       "      <th></th>\n",
       "      <th></th>\n",
       "      <th></th>\n",
       "      <th></th>\n",
       "      <th></th>\n",
       "      <th></th>\n",
       "      <th></th>\n",
       "      <th></th>\n",
       "      <th></th>\n",
       "      <th></th>\n",
       "      <th></th>\n",
       "      <th></th>\n",
       "      <th></th>\n",
       "      <th></th>\n",
       "      <th></th>\n",
       "    </tr>\n",
       "  </thead>\n",
       "  <tbody>\n",
       "    <tr>\n",
       "      <th>2013-01-01 00:00:00+00:00</th>\n",
       "      <td>13.0</td>\n",
       "      <td>1</td>\n",
       "      <td>12125 Alamo Ranch Pkwy</td>\n",
       "      <td>San Antonio</td>\n",
       "      <td>1</td>\n",
       "      <td>TX</td>\n",
       "      <td>78253</td>\n",
       "      <td>Riceland</td>\n",
       "      <td>1</td>\n",
       "      <td>Riceland American Jazmine Rice</td>\n",
       "      <td>0.84</td>\n",
       "      <td>35200264013</td>\n",
       "      <td>35200264013</td>\n",
       "      <td>2013</td>\n",
       "      <td>1</td>\n",
       "      <td>Tuesday</td>\n",
       "      <td>10.92</td>\n",
       "    </tr>\n",
       "  </tbody>\n",
       "</table>\n",
       "</div>"
      ],
      "text/plain": [
       "                           sale_amount sale_id           store_address  \\\n",
       "sale_date                                                                \n",
       "2013-01-01 00:00:00+00:00         13.0       1  12125 Alamo Ranch Pkwy   \n",
       "\n",
       "                            store_city store_id store_state store_zipcode  \\\n",
       "sale_date                                                                   \n",
       "2013-01-01 00:00:00+00:00  San Antonio        1          TX         78253   \n",
       "\n",
       "                          item_brand item_id                       item_name  \\\n",
       "sale_date                                                                      \n",
       "2013-01-01 00:00:00+00:00   Riceland       1  Riceland American Jazmine Rice   \n",
       "\n",
       "                           item_price   item_upc12   item_upc14  year month  \\\n",
       "sale_date                                                                     \n",
       "2013-01-01 00:00:00+00:00        0.84  35200264013  35200264013  2013     1   \n",
       "\n",
       "                           weekday  sales_total  \n",
       "sale_date                                        \n",
       "2013-01-01 00:00:00+00:00  Tuesday        10.92  "
      ]
     },
     "execution_count": 24,
     "metadata": {},
     "output_type": "execute_result"
    }
   ],
   "source": [
    "# Create a new calculated column from two existing columns in my DataFrame\n",
    "\n",
    "df = df.assign(sales_total = df.sale_amount * df.item_price)\n",
    "df.head(1)"
   ]
  },
  {
   "cell_type": "markdown",
   "metadata": {},
   "source": [
    "#### Use `.diff()`\n",
    "\n",
    ">`df.diff(periods=1, axis=0)`  {default}\n",
    "\n",
    "- Difference in df element with df element in previous rows\n",
    ">`df.diff()`\n",
    "\n",
    "- Difference in df element with df element in previous columns\n",
    ">`df.diff(axis=1)`"
   ]
  },
  {
   "cell_type": "code",
   "execution_count": 25,
   "metadata": {},
   "outputs": [
    {
     "data": {
      "text/html": [
       "<div>\n",
       "<style scoped>\n",
       "    .dataframe tbody tr th:only-of-type {\n",
       "        vertical-align: middle;\n",
       "    }\n",
       "\n",
       "    .dataframe tbody tr th {\n",
       "        vertical-align: top;\n",
       "    }\n",
       "\n",
       "    .dataframe thead th {\n",
       "        text-align: right;\n",
       "    }\n",
       "</style>\n",
       "<table border=\"1\" class=\"dataframe\">\n",
       "  <thead>\n",
       "    <tr style=\"text-align: right;\">\n",
       "      <th></th>\n",
       "      <th>sale_amount</th>\n",
       "      <th>sale_id</th>\n",
       "      <th>store_address</th>\n",
       "      <th>store_city</th>\n",
       "      <th>store_id</th>\n",
       "      <th>store_state</th>\n",
       "      <th>store_zipcode</th>\n",
       "      <th>item_brand</th>\n",
       "      <th>item_id</th>\n",
       "      <th>item_name</th>\n",
       "      <th>item_price</th>\n",
       "      <th>item_upc12</th>\n",
       "      <th>item_upc14</th>\n",
       "      <th>year</th>\n",
       "      <th>month</th>\n",
       "      <th>weekday</th>\n",
       "      <th>sales_total</th>\n",
       "      <th>sales_diff</th>\n",
       "    </tr>\n",
       "    <tr>\n",
       "      <th>sale_date</th>\n",
       "      <th></th>\n",
       "      <th></th>\n",
       "      <th></th>\n",
       "      <th></th>\n",
       "      <th></th>\n",
       "      <th></th>\n",
       "      <th></th>\n",
       "      <th></th>\n",
       "      <th></th>\n",
       "      <th></th>\n",
       "      <th></th>\n",
       "      <th></th>\n",
       "      <th></th>\n",
       "      <th></th>\n",
       "      <th></th>\n",
       "      <th></th>\n",
       "      <th></th>\n",
       "      <th></th>\n",
       "    </tr>\n",
       "  </thead>\n",
       "  <tbody>\n",
       "    <tr>\n",
       "      <th>2013-01-01 00:00:00+00:00</th>\n",
       "      <td>13.0</td>\n",
       "      <td>1</td>\n",
       "      <td>12125 Alamo Ranch Pkwy</td>\n",
       "      <td>San Antonio</td>\n",
       "      <td>1</td>\n",
       "      <td>TX</td>\n",
       "      <td>78253</td>\n",
       "      <td>Riceland</td>\n",
       "      <td>1</td>\n",
       "      <td>Riceland American Jazmine Rice</td>\n",
       "      <td>0.84</td>\n",
       "      <td>35200264013</td>\n",
       "      <td>35200264013</td>\n",
       "      <td>2013</td>\n",
       "      <td>1</td>\n",
       "      <td>Tuesday</td>\n",
       "      <td>10.92</td>\n",
       "      <td>NaN</td>\n",
       "    </tr>\n",
       "    <tr>\n",
       "      <th>2013-01-01 00:00:00+00:00</th>\n",
       "      <td>26.0</td>\n",
       "      <td>211817</td>\n",
       "      <td>12018 Perrin Beitel Rd</td>\n",
       "      <td>San Antonio</td>\n",
       "      <td>7</td>\n",
       "      <td>TX</td>\n",
       "      <td>78217</td>\n",
       "      <td>Mueller</td>\n",
       "      <td>12</td>\n",
       "      <td>Mueller Sport Care Basic Support Level Medium ...</td>\n",
       "      <td>8.40</td>\n",
       "      <td>74676640211</td>\n",
       "      <td>74676640211</td>\n",
       "      <td>2013</td>\n",
       "      <td>1</td>\n",
       "      <td>Tuesday</td>\n",
       "      <td>218.40</td>\n",
       "      <td>207.48</td>\n",
       "    </tr>\n",
       "    <tr>\n",
       "      <th>2013-01-01 00:00:00+00:00</th>\n",
       "      <td>27.0</td>\n",
       "      <td>832657</td>\n",
       "      <td>12018 Perrin Beitel Rd</td>\n",
       "      <td>San Antonio</td>\n",
       "      <td>7</td>\n",
       "      <td>TX</td>\n",
       "      <td>78217</td>\n",
       "      <td>Mama Marys</td>\n",
       "      <td>46</td>\n",
       "      <td>Pizza Sauce</td>\n",
       "      <td>4.65</td>\n",
       "      <td>35457770664</td>\n",
       "      <td>35457770664</td>\n",
       "      <td>2013</td>\n",
       "      <td>1</td>\n",
       "      <td>Tuesday</td>\n",
       "      <td>125.55</td>\n",
       "      <td>-92.85</td>\n",
       "    </tr>\n",
       "  </tbody>\n",
       "</table>\n",
       "</div>"
      ],
      "text/plain": [
       "                           sale_amount sale_id           store_address  \\\n",
       "sale_date                                                                \n",
       "2013-01-01 00:00:00+00:00         13.0       1  12125 Alamo Ranch Pkwy   \n",
       "2013-01-01 00:00:00+00:00         26.0  211817  12018 Perrin Beitel Rd   \n",
       "2013-01-01 00:00:00+00:00         27.0  832657  12018 Perrin Beitel Rd   \n",
       "\n",
       "                            store_city store_id store_state store_zipcode  \\\n",
       "sale_date                                                                   \n",
       "2013-01-01 00:00:00+00:00  San Antonio        1          TX         78253   \n",
       "2013-01-01 00:00:00+00:00  San Antonio        7          TX         78217   \n",
       "2013-01-01 00:00:00+00:00  San Antonio        7          TX         78217   \n",
       "\n",
       "                           item_brand item_id  \\\n",
       "sale_date                                       \n",
       "2013-01-01 00:00:00+00:00    Riceland       1   \n",
       "2013-01-01 00:00:00+00:00     Mueller      12   \n",
       "2013-01-01 00:00:00+00:00  Mama Marys      46   \n",
       "\n",
       "                                                                   item_name  \\\n",
       "sale_date                                                                      \n",
       "2013-01-01 00:00:00+00:00                     Riceland American Jazmine Rice   \n",
       "2013-01-01 00:00:00+00:00  Mueller Sport Care Basic Support Level Medium ...   \n",
       "2013-01-01 00:00:00+00:00                                        Pizza Sauce   \n",
       "\n",
       "                           item_price   item_upc12   item_upc14  year month  \\\n",
       "sale_date                                                                     \n",
       "2013-01-01 00:00:00+00:00        0.84  35200264013  35200264013  2013     1   \n",
       "2013-01-01 00:00:00+00:00        8.40  74676640211  74676640211  2013     1   \n",
       "2013-01-01 00:00:00+00:00        4.65  35457770664  35457770664  2013     1   \n",
       "\n",
       "                           weekday  sales_total  sales_diff  \n",
       "sale_date                                                    \n",
       "2013-01-01 00:00:00+00:00  Tuesday        10.92         NaN  \n",
       "2013-01-01 00:00:00+00:00  Tuesday       218.40      207.48  \n",
       "2013-01-01 00:00:00+00:00  Tuesday       125.55      -92.85  "
      ]
     },
     "execution_count": 25,
     "metadata": {},
     "output_type": "execute_result"
    }
   ],
   "source": [
    "# Create a new calculated column with the value of the difference between current sales and previous day sales\n",
    "\n",
    "df = df.assign(sales_diff = df.sales_total.diff())\n",
    "df.head(3)"
   ]
  },
  {
   "cell_type": "markdown",
   "metadata": {},
   "source": [
    "#### Use .resample()"
   ]
  },
  {
   "cell_type": "code",
   "execution_count": 26,
   "metadata": {},
   "outputs": [
    {
     "data": {
      "text/plain": [
       "sale_date\n",
       "2013-01-31 00:00:00+00:00    2447368.20\n",
       "2013-02-28 00:00:00+00:00    2469765.97\n",
       "2013-03-31 00:00:00+00:00    3319815.58\n",
       "2013-04-30 00:00:00+00:00    3666901.23\n",
       "2013-05-31 00:00:00+00:00    4102278.40\n",
       "Freq: M, Name: sales_total, dtype: float64"
      ]
     },
     "execution_count": 26,
     "metadata": {},
     "output_type": "execute_result"
    }
   ],
   "source": [
    "# Here I resample my df by month and sum the overall sales_total column for each month\n",
    "\n",
    "df.resample('M').sales_total.sum().head()"
   ]
  },
  {
   "cell_type": "code",
   "execution_count": 27,
   "metadata": {},
   "outputs": [
    {
     "data": {
      "image/png": "[encoded data removed]",
      "text/plain": [
       "<Figure size 792x648 with 1 Axes>"
      ]
     },
     "metadata": {
      "needs_background": "light"
     },
     "output_type": "display_data"
    }
   ],
   "source": [
    "# How about a quick look at that resample...\n",
    "# It looks like the overall monthly sales for all the combined stores is trending upward\n",
    "\n",
    "df.resample('M').sales_total.sum().plot(color='dodgerblue')\n",
    "\n",
    "plt.title('Overall Sales by Month')\n",
    "plt.xlabel('')\n",
    "plt.ylabel('US Dollars')\n",
    "plt.show()"
   ]
  },
  {
   "cell_type": "code",
   "execution_count": null,
   "metadata": {},
   "outputs": [],
   "source": []
  }
 ],
 "metadata": {
  "kernelspec": {
   "display_name": "Python 3",
   "language": "python",
   "name": "python3"
  },
  "language_info": {
   "codemirror_mode": {
    "name": "ipython",
    "version": 3
   },
   "file_extension": ".py",
   "mimetype": "text/x-python",
   "name": "python",
   "nbconvert_exporter": "python",
   "pygments_lexer": "ipython3",
   "version": "3.7.4"
  },
  "toc": {
   "base_numbering": 1,
   "nav_menu": {},
   "number_sections": true,
   "sideBar": true,
   "skip_h1_title": true,
   "title_cell": "Table of Contents",
   "title_sidebar": "Contents",
   "toc_cell": true,
   "toc_position": {},
   "toc_section_display": true,
   "toc_window_display": true
  }
 },
 "nbformat": 4,
 "nbformat_minor": 4
}

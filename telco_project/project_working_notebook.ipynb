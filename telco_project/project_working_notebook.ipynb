{
 "cells": [
  {
   "cell_type": "code",
   "execution_count": 1,
   "metadata": {},
   "outputs": [],
   "source": [
    "import pandas as pd\n",
    "import numpy as np\n",
    "from pydataset import data\n",
    "\n",
    "from sklearn.model_selection import train_test_split\n",
    "from sklearn.impute import SimpleImputer\n",
    "from sklearn.preprocessing import LabelEncoder, OneHotEncoder, MinMaxScaler\n",
    "\n",
    "from telco_pipeline import get_data_from_sql, peekatdata, split, df_value_counts, percent_missing"
   ]
  },
  {
   "cell_type": "markdown",
   "metadata": {},
   "source": [
    "### Walkthroughs before project\n",
    "\n",
    "-What are the profiles of the customers who are churning? In presentation\n",
    "\n",
    "-How do you deal with the column that converts monthly tenure to annual?\n",
    "\n",
    "-Don't just identify that people leave bc they can, but what are the drivers that make them leave?\n",
    "\n",
    "-Answer quetions in exploration and analysis stages. Add comments and notes in notebook about why you're doing what you're doing and what your conclusions are.\n",
    "\n",
    "-Don't deliver the data without your assessment of what is going on even if you add \"I would need to assess this, but...\"\n",
    "\n",
    "-This \"leader\" wants to know all of the data behind our assessments. A diagram of the work flow and what you did is great.\n",
    "\n",
    "-How likely is your model to accurately predict churn, return False positives and false negatives?\n",
    "\n",
    "\n",
    "-Your .py files do NOT have to be exactly the ones and names of what is laid out in the project.\n",
    "\n",
    "-If you transform data in a column, then you need to explain why you did that. ie. if you scale data, why did you do that?\n",
    "\n",
    "-Add context (text) to numbers that make them meaningful.\n",
    "\n",
    "-Include Google slide summarizing your model with links in your README.\n",
    "\n",
    "-Project Planning from project outline would be good for the structure of your README file. ie. - data dictionary.\n",
    "\n",
    "-Make a task list that lays out what you need to do at each stage of the pipeline. This could look like headers in your notebook.\n",
    "\n",
    "-Exploration is when you would to do your t-tests, chi-squared tests.\n",
    "\n",
    "-Train multiple models, different algorithms, but also change hyperparameters for the same model. ie. - k=2, k=3, k=4, diff features in same algorithm.\n",
    "\n",
    "-You can decide what your cutoff point will be when deciding what the probability should be to predict churn or not churn at the end.\n",
    "\n",
    "-Baseline #1 is proportion of churn to not churn. Find this rate first! It needs to be better than 60% accurate.\n",
    "\n",
    "-Baseline #2 is doing minimal prep and running it through a model. \n",
    "\n",
    "-Model #3 is your MVP. Explore and answer the required questions. Prepare data to go into other algorithms (encoding or scaling as needed). Some automated feature selection here, too. Make predictions on this data\n",
    "\n",
    "-Other Modeling - to gain more insight but beyond simple answers of basic questions. This would be where you include extra feature engineering. "
   ]
  },
  {
   "cell_type": "markdown",
   "metadata": {},
   "source": [
    "### Acquistion\n",
    "\n",
    "- Here I use my function to bring in data using a sql query\n",
    "    \n",
    "- My query brought over everything from all of the tables together,\n",
    "    so I could look at the data before deciding how to clean and process."
   ]
  },
  {
   "cell_type": "code",
   "execution_count": 2,
   "metadata": {},
   "outputs": [],
   "source": [
    "df = get_data_from_sql()"
   ]
  },
  {
   "cell_type": "markdown",
   "metadata": {},
   "source": [
    "### Data Prep"
   ]
  },
  {
   "cell_type": "markdown",
   "metadata": {},
   "source": [
    "- I created a function that returns important info on the dataframe."
   ]
  },
  {
   "cell_type": "code",
   "execution_count": 3,
   "metadata": {},
   "outputs": [
    {
     "name": "stdout",
     "output_type": "stream",
     "text": [
      "DataFrame Shape:\n",
      "\n",
      "(7043, 24)\n",
      "\n",
      "Info about:\n",
      "\n",
      "<class 'pandas.core.frame.DataFrame'>\n",
      "RangeIndex: 7043 entries, 0 to 7042\n",
      "Data columns (total 24 columns):\n",
      "payment_type_id             7043 non-null int64\n",
      "internet_service_type_id    7043 non-null int64\n",
      "contract_type_id            7043 non-null int64\n",
      "customer_id                 7043 non-null object\n",
      "gender                      7043 non-null object\n",
      "senior_citizen              7043 non-null int64\n",
      "partner                     7043 non-null object\n",
      "dependents                  7043 non-null object\n",
      "tenure                      7043 non-null int64\n",
      "phone_service               7043 non-null object\n",
      "multiple_lines              7043 non-null object\n",
      "online_security             7043 non-null object\n",
      "online_backup               7043 non-null object\n",
      "device_protection           7043 non-null object\n",
      "tech_support                7043 non-null object\n",
      "streaming_tv                7043 non-null object\n",
      "streaming_movies            7043 non-null object\n",
      "paperless_billing           7043 non-null object\n",
      "monthly_charges             7043 non-null float64\n",
      "total_charges               7043 non-null object\n",
      "churn                       7043 non-null object\n",
      "contract_type               7043 non-null object\n",
      "internet_service_type       7043 non-null object\n",
      "payment_type                7043 non-null object\n",
      "dtypes: float64(1), int64(5), object(18)\n",
      "memory usage: 1.3+ MB\n",
      "None\n",
      "\n",
      "Describe:\n",
      "\n",
      "       payment_type_id  internet_service_type_id  contract_type_id  \\\n",
      "count      7043.000000               7043.000000       7043.000000   \n",
      "mean          2.315633                  1.872923          1.690473   \n",
      "std           1.148907                  0.737796          0.833755   \n",
      "min           1.000000                  1.000000          1.000000   \n",
      "25%           1.000000                  1.000000          1.000000   \n",
      "50%           2.000000                  2.000000          1.000000   \n",
      "75%           3.000000                  2.000000          2.000000   \n",
      "max           4.000000                  3.000000          3.000000   \n",
      "\n",
      "       senior_citizen       tenure  monthly_charges  \n",
      "count     7043.000000  7043.000000      7043.000000  \n",
      "mean         0.162147    32.371149        64.761692  \n",
      "std          0.368612    24.559481        30.090047  \n",
      "min          0.000000     0.000000        18.250000  \n",
      "25%          0.000000     9.000000        35.500000  \n",
      "50%          0.000000    29.000000        70.350000  \n",
      "75%          0.000000    55.000000        89.850000  \n",
      "max          1.000000    72.000000       118.750000  \n",
      "\n",
      "Head Preview:\n",
      "\n",
      "   payment_type_id  internet_service_type_id  contract_type_id customer_id  \\\n",
      "0                2                         1                 1  0003-MKNFE   \n",
      "1                4                         1                 1  0013-MHZWF   \n",
      "2                1                         1                 1  0015-UOCOJ   \n",
      "3                1                         1                 1  0023-HGHWL   \n",
      "4                3                         1                 1  0032-PGELS   \n",
      "\n",
      "   gender  senior_citizen partner dependents  tenure phone_service  ...  \\\n",
      "0    Male               0      No         No       9           Yes  ...   \n",
      "1  Female               0      No        Yes       9           Yes  ...   \n",
      "2  Female               1      No         No       7           Yes  ...   \n",
      "3    Male               1      No         No       1            No  ...   \n",
      "4  Female               0     Yes        Yes       1            No  ...   \n",
      "\n",
      "  tech_support streaming_tv streaming_movies paperless_billing  \\\n",
      "0           No           No              Yes                No   \n",
      "1          Yes          Yes              Yes               Yes   \n",
      "2           No           No               No               Yes   \n",
      "3           No           No               No               Yes   \n",
      "4           No           No               No                No   \n",
      "\n",
      "  monthly_charges total_charges churn   contract_type  internet_service_type  \\\n",
      "0            59.9         542.4    No  Month-to-month                    DSL   \n",
      "1            69.4        571.45    No  Month-to-month                    DSL   \n",
      "2            48.2        340.35    No  Month-to-month                    DSL   \n",
      "3            25.1          25.1   Yes  Month-to-month                    DSL   \n",
      "4            30.5          30.5   Yes  Month-to-month                    DSL   \n",
      "\n",
      "                payment_type  \n",
      "0               Mailed check  \n",
      "1    Credit card (automatic)  \n",
      "2           Electronic check  \n",
      "3           Electronic check  \n",
      "4  Bank transfer (automatic)  \n",
      "\n",
      "[5 rows x 24 columns]\n",
      "\n",
      "Tail Preview:\n",
      "\n",
      "      payment_type_id  internet_service_type_id  contract_type_id customer_id  \\\n",
      "7038                4                         3                 3  9950-MTGYX   \n",
      "7039                2                         3                 3  9953-ZMKSM   \n",
      "7040                4                         3                 3  9964-WBQDJ   \n",
      "7041                3                         3                 3  9972-EWRJS   \n",
      "7042                4                         3                 3  9975-GPKZU   \n",
      "\n",
      "      gender  senior_citizen partner dependents  tenure phone_service  ...  \\\n",
      "7038    Male               0     Yes        Yes      28           Yes  ...   \n",
      "7039    Male               0      No         No      63           Yes  ...   \n",
      "7040  Female               0     Yes         No      71           Yes  ...   \n",
      "7041  Female               0     Yes        Yes      67           Yes  ...   \n",
      "7042    Male               0     Yes        Yes      46           Yes  ...   \n",
      "\n",
      "             tech_support         streaming_tv     streaming_movies  \\\n",
      "7038  No internet service  No internet service  No internet service   \n",
      "7039  No internet service  No internet service  No internet service   \n",
      "7040  No internet service  No internet service  No internet service   \n",
      "7041  No internet service  No internet service  No internet service   \n",
      "7042  No internet service  No internet service  No internet service   \n",
      "\n",
      "     paperless_billing monthly_charges total_charges churn contract_type  \\\n",
      "7038               Yes           20.30        487.95    No      Two year   \n",
      "7039                No           25.25        1559.3    No      Two year   \n",
      "7040               Yes           24.40        1725.4    No      Two year   \n",
      "7041               Yes           19.25        1372.9    No      Two year   \n",
      "7042                No           19.75         856.5    No      Two year   \n",
      "\n",
      "      internet_service_type               payment_type  \n",
      "7038                   None    Credit card (automatic)  \n",
      "7039                   None               Mailed check  \n",
      "7040                   None    Credit card (automatic)  \n",
      "7041                   None  Bank transfer (automatic)  \n",
      "7042                   None    Credit card (automatic)  \n",
      "\n",
      "[5 rows x 24 columns]\n"
     ]
    }
   ],
   "source": [
    "peekatdata(df)"
   ]
  },
  {
   "cell_type": "markdown",
   "metadata": {},
   "source": [
    "- I created and used a function to decide whether to bin data for the value counts.\n",
    "\n",
    "- I'm not worried about customer_id's unique counts because each is unique, and I will end up dropping this column before running it through a model.\n",
    "\n",
    "- That leaves tenure, monthly_charges, and total_charges with a large number of unique values which may benefit from binning."
   ]
  },
  {
   "cell_type": "code",
   "execution_count": 4,
   "metadata": {},
   "outputs": [
    {
     "data": {
      "text/html": [
       "<div>\n",
       "<style scoped>\n",
       "    .dataframe tbody tr th:only-of-type {\n",
       "        vertical-align: middle;\n",
       "    }\n",
       "\n",
       "    .dataframe tbody tr th {\n",
       "        vertical-align: top;\n",
       "    }\n",
       "\n",
       "    .dataframe thead th {\n",
       "        text-align: right;\n",
       "    }\n",
       "</style>\n",
       "<table border=\"1\" class=\"dataframe\">\n",
       "  <thead>\n",
       "    <tr style=\"text-align: right;\">\n",
       "      <th></th>\n",
       "      <th>0</th>\n",
       "    </tr>\n",
       "  </thead>\n",
       "  <tbody>\n",
       "    <tr>\n",
       "      <th>payment_type_id</th>\n",
       "      <td>4</td>\n",
       "    </tr>\n",
       "    <tr>\n",
       "      <th>internet_service_type_id</th>\n",
       "      <td>3</td>\n",
       "    </tr>\n",
       "    <tr>\n",
       "      <th>contract_type_id</th>\n",
       "      <td>3</td>\n",
       "    </tr>\n",
       "    <tr>\n",
       "      <th>customer_id</th>\n",
       "      <td>7043</td>\n",
       "    </tr>\n",
       "    <tr>\n",
       "      <th>gender</th>\n",
       "      <td>2</td>\n",
       "    </tr>\n",
       "    <tr>\n",
       "      <th>senior_citizen</th>\n",
       "      <td>2</td>\n",
       "    </tr>\n",
       "    <tr>\n",
       "      <th>partner</th>\n",
       "      <td>2</td>\n",
       "    </tr>\n",
       "    <tr>\n",
       "      <th>dependents</th>\n",
       "      <td>2</td>\n",
       "    </tr>\n",
       "    <tr>\n",
       "      <th>tenure</th>\n",
       "      <td>73</td>\n",
       "    </tr>\n",
       "    <tr>\n",
       "      <th>phone_service</th>\n",
       "      <td>2</td>\n",
       "    </tr>\n",
       "    <tr>\n",
       "      <th>multiple_lines</th>\n",
       "      <td>3</td>\n",
       "    </tr>\n",
       "    <tr>\n",
       "      <th>online_security</th>\n",
       "      <td>3</td>\n",
       "    </tr>\n",
       "    <tr>\n",
       "      <th>online_backup</th>\n",
       "      <td>3</td>\n",
       "    </tr>\n",
       "    <tr>\n",
       "      <th>device_protection</th>\n",
       "      <td>3</td>\n",
       "    </tr>\n",
       "    <tr>\n",
       "      <th>tech_support</th>\n",
       "      <td>3</td>\n",
       "    </tr>\n",
       "    <tr>\n",
       "      <th>streaming_tv</th>\n",
       "      <td>3</td>\n",
       "    </tr>\n",
       "    <tr>\n",
       "      <th>streaming_movies</th>\n",
       "      <td>3</td>\n",
       "    </tr>\n",
       "    <tr>\n",
       "      <th>paperless_billing</th>\n",
       "      <td>2</td>\n",
       "    </tr>\n",
       "    <tr>\n",
       "      <th>monthly_charges</th>\n",
       "      <td>1585</td>\n",
       "    </tr>\n",
       "    <tr>\n",
       "      <th>total_charges</th>\n",
       "      <td>6531</td>\n",
       "    </tr>\n",
       "    <tr>\n",
       "      <th>churn</th>\n",
       "      <td>2</td>\n",
       "    </tr>\n",
       "    <tr>\n",
       "      <th>contract_type</th>\n",
       "      <td>3</td>\n",
       "    </tr>\n",
       "    <tr>\n",
       "      <th>internet_service_type</th>\n",
       "      <td>3</td>\n",
       "    </tr>\n",
       "    <tr>\n",
       "      <th>payment_type</th>\n",
       "      <td>4</td>\n",
       "    </tr>\n",
       "  </tbody>\n",
       "</table>\n",
       "</div>"
      ],
      "text/plain": [
       "                             0\n",
       "payment_type_id              4\n",
       "internet_service_type_id     3\n",
       "contract_type_id             3\n",
       "customer_id               7043\n",
       "gender                       2\n",
       "senior_citizen               2\n",
       "partner                      2\n",
       "dependents                   2\n",
       "tenure                      73\n",
       "phone_service                2\n",
       "multiple_lines               3\n",
       "online_security              3\n",
       "online_backup                3\n",
       "device_protection            3\n",
       "tech_support                 3\n",
       "streaming_tv                 3\n",
       "streaming_movies             3\n",
       "paperless_billing            2\n",
       "monthly_charges           1585\n",
       "total_charges             6531\n",
       "churn                        2\n",
       "contract_type                3\n",
       "internet_service_type        3\n",
       "payment_type                 4"
      ]
     },
     "execution_count": 4,
     "metadata": {},
     "output_type": "execute_result"
    }
   ],
   "source": [
    "valcount_df = df_value_counts(df)\n",
    "valcount_df"
   ]
  },
  {
   "cell_type": "markdown",
   "metadata": {},
   "source": [
    "- I want to decide if and which rows or columns should be dropped.\n",
    "\n",
    "- Running .value_counts() on total charges column showed me it has 11 values that are blank space. These are most likely for customers who have not had the service long enough to have a total_charge.\n",
    "\n",
    "- Considering these findings, I will create and run a function that replaces the blank values with NaN and returns the percent of missing values in each column in order to make my final decision about dropping rows that contain NaNs.\n",
    "\n",
    "- I'm including in this function a line to drop customer_id as I will not be needing this column."
   ]
  },
  {
   "cell_type": "code",
   "execution_count": 5,
   "metadata": {},
   "outputs": [
    {
     "data": {
      "text/plain": [
       "20.2       11\n",
       "           11\n",
       "19.75       9\n",
       "19.9        8\n",
       "19.65       8\n",
       "20.05       8\n",
       "19.55       7\n",
       "45.3        7\n",
       "20.15       6\n",
       "19.45       6\n",
       "20.25       6\n",
       "20.45       5\n",
       "20.3        5\n",
       "69.9        4\n",
       "50.15       4\n",
       "19.5        4\n",
       "44          4\n",
       "19.3        4\n",
       "19.2        4\n",
       "69.65       4\n",
       "20.5        4\n",
       "20.4        4\n",
       "19.4        4\n",
       "19.85       4\n",
       "69.6        4\n",
       "20.35       4\n",
       "74.7        4\n",
       "69.95       4\n",
       "70.6        4\n",
       "19.95       4\n",
       "49.9        4\n",
       "75.3        4\n",
       "44.4        4\n",
       "220.45      3\n",
       "50.6        3\n",
       "69.1        3\n",
       "20          3\n",
       "75.35       3\n",
       "305.55      3\n",
       "24.8        3\n",
       "55.7        3\n",
       "20.9        3\n",
       "70.1        3\n",
       "70.3        3\n",
       "2317.1      3\n",
       "74.6        3\n",
       "86.05       3\n",
       "70.45       3\n",
       "85.5        3\n",
       "35.9        3\n",
       "84.5        3\n",
       "69.55       3\n",
       "69.25       3\n",
       "25.25       3\n",
       "19.25       3\n",
       "45.7        3\n",
       "44.75       3\n",
       "74.3        3\n",
       "24.4        3\n",
       "20.55       3\n",
       "79.55       3\n",
       "85          3\n",
       "383.65      3\n",
       "19.1        3\n",
       "70.15       3\n",
       "45.1        3\n",
       "74.35       3\n",
       "1284.2      3\n",
       "50.75       3\n",
       "74.9        3\n",
       "45.85       3\n",
       "20.1        3\n",
       "50.45       3\n",
       "80.55       3\n",
       "470.2       3\n",
       "82.85       2\n",
       "2180.55     2\n",
       "246.3       2\n",
       "79.35       2\n",
       "398.55      2\n",
       "1381.8      2\n",
       "1077.5      2\n",
       "49.95       2\n",
       "84.6        2\n",
       "44.15       2\n",
       "           ..\n",
       "996.95      1\n",
       "54.35       1\n",
       "572.2       1\n",
       "1574.45     1\n",
       "4242.35     1\n",
       "1532.45     1\n",
       "342.3       1\n",
       "459.6       1\n",
       "2962        1\n",
       "7661.8      1\n",
       "1524.85     1\n",
       "1233.25     1\n",
       "3739.8      1\n",
       "2250.65     1\n",
       "7752.05     1\n",
       "202.15      1\n",
       "483.15      1\n",
       "3423.5      1\n",
       "153.05      1\n",
       "4882.8      1\n",
       "115.1       1\n",
       "1875.25     1\n",
       "5893.95     1\n",
       "4443.45     1\n",
       "5810.9      1\n",
       "440.2       1\n",
       "4226.7      1\n",
       "1433.8      1\n",
       "5234.95     1\n",
       "8022.85     1\n",
       "3014.65     1\n",
       "1924.1      1\n",
       "2564.3      1\n",
       "8375.05     1\n",
       "1281.25     1\n",
       "4916.95     1\n",
       "8058.85     1\n",
       "543.8       1\n",
       "4983.05     1\n",
       "3373.4      1\n",
       "1049.6      1\n",
       "2033.85     1\n",
       "2345.55     1\n",
       "468.35      1\n",
       "150.75      1\n",
       "876.15      1\n",
       "68.45       1\n",
       "4808.7      1\n",
       "125.95      1\n",
       "990.45      1\n",
       "1846.65     1\n",
       "1101.85     1\n",
       "874.2       1\n",
       "1806.35     1\n",
       "1412.65     1\n",
       "3275.15     1\n",
       "6383.9      1\n",
       "1932.75     1\n",
       "856.35      1\n",
       "113.85      1\n",
       "297.35      1\n",
       "6910.3      1\n",
       "3795.45     1\n",
       "1470.05     1\n",
       "178.1       1\n",
       "2145        1\n",
       "1756.2      1\n",
       "2379.1      1\n",
       "4144.9      1\n",
       "1866.45     1\n",
       "916.15      1\n",
       "8349.45     1\n",
       "2680.15     1\n",
       "730.4       1\n",
       "4016.85     1\n",
       "447.9       1\n",
       "5064.45     1\n",
       "1462.05     1\n",
       "711.15      1\n",
       "7475.85     1\n",
       "645.8       1\n",
       "1380.1      1\n",
       "5611.7      1\n",
       "4456.65     1\n",
       "1910.6      1\n",
       "Name: total_charges, Length: 6531, dtype: int64"
      ]
     },
     "execution_count": 5,
     "metadata": {},
     "output_type": "execute_result"
    }
   ],
   "source": [
    "df[\"total_charges\"].value_counts(dropna=False)"
   ]
  },
  {
   "cell_type": "markdown",
   "metadata": {},
   "source": [
    "- This function reveals that only total_charges has missing values, and the percent of missing values is .16%.\n",
    "\n",
    "- This confirms my decision to drop the rows with NaNs.\n"
   ]
  },
  {
   "cell_type": "code",
   "execution_count": 6,
   "metadata": {},
   "outputs": [
    {
     "data": {
      "text/plain": [
       "payment_type_id             0.000000\n",
       "internet_service_type_id    0.000000\n",
       "contract_type_id            0.000000\n",
       "customer_id                 0.000000\n",
       "gender                      0.000000\n",
       "senior_citizen              0.000000\n",
       "partner                     0.000000\n",
       "dependents                  0.000000\n",
       "tenure                      0.000000\n",
       "phone_service               0.000000\n",
       "multiple_lines              0.000000\n",
       "online_security             0.000000\n",
       "online_backup               0.000000\n",
       "device_protection           0.000000\n",
       "tech_support                0.000000\n",
       "streaming_tv                0.000000\n",
       "streaming_movies            0.000000\n",
       "paperless_billing           0.000000\n",
       "monthly_charges             0.000000\n",
       "total_charges               0.156183\n",
       "churn                       0.000000\n",
       "contract_type               0.000000\n",
       "internet_service_type       0.000000\n",
       "payment_type                0.000000\n",
       "dtype: float64"
      ]
     },
     "execution_count": 6,
     "metadata": {},
     "output_type": "execute_result"
    }
   ],
   "source": [
    "percent_missing(df)"
   ]
  },
  {
   "cell_type": "markdown",
   "metadata": {},
   "source": [
    "- Here I am dropping the rows with NaN and confirming the drop with an .isnull().sum()."
   ]
  },
  {
   "cell_type": "code",
   "execution_count": 8,
   "metadata": {},
   "outputs": [
    {
     "data": {
      "text/plain": [
       "payment_type_id             0\n",
       "internet_service_type_id    0\n",
       "contract_type_id            0\n",
       "customer_id                 0\n",
       "gender                      0\n",
       "senior_citizen              0\n",
       "partner                     0\n",
       "dependents                  0\n",
       "tenure                      0\n",
       "phone_service               0\n",
       "multiple_lines              0\n",
       "online_security             0\n",
       "online_backup               0\n",
       "device_protection           0\n",
       "tech_support                0\n",
       "streaming_tv                0\n",
       "streaming_movies            0\n",
       "paperless_billing           0\n",
       "monthly_charges             0\n",
       "total_charges               0\n",
       "churn                       0\n",
       "contract_type               0\n",
       "internet_service_type       0\n",
       "payment_type                0\n",
       "dtype: int64"
      ]
     },
     "execution_count": 8,
     "metadata": {},
     "output_type": "execute_result"
    }
   ],
   "source": [
    "df = df.dropna(axis=0)\n",
    "df.isnull().sum()"
   ]
  },
  {
   "cell_type": "code",
   "execution_count": 41,
   "metadata": {},
   "outputs": [
    {
     "data": {
      "text/plain": [
       "payment_type_id               int64\n",
       "internet_service_type_id      int64\n",
       "contract_type_id              int64\n",
       "customer_id                  object\n",
       "gender                       object\n",
       "senior_citizen                int64\n",
       "partner                       int64\n",
       "dependents                    int64\n",
       "tenure                        int64\n",
       "phone_service                object\n",
       "multiple_lines               object\n",
       "online_security               int64\n",
       "online_backup                 int64\n",
       "device_protection            object\n",
       "tech_support                 object\n",
       "streaming_tv                  int64\n",
       "streaming_movies              int64\n",
       "paperless_billing            object\n",
       "monthly_charges             float64\n",
       "total_charges                object\n",
       "churn                       float64\n",
       "contract_type                object\n",
       "internet_service_type        object\n",
       "payment_type                 object\n",
       "completed_years             float64\n",
       "household_type_id             int64\n",
       "streaming_services            int64\n",
       "online_security_backup        int64\n",
       "dtype: object"
      ]
     },
     "execution_count": 41,
     "metadata": {},
     "output_type": "execute_result"
    }
   ],
   "source": [
    "df.dtypes"
   ]
  },
  {
   "cell_type": "code",
   "execution_count": 9,
   "metadata": {},
   "outputs": [],
   "source": []
  },
  {
   "cell_type": "markdown",
   "metadata": {},
   "source": [
    "- Here I will transform churn values from \"Yes\" and \"No\" to binary values with dtype int, so I can feed this as a target into my model.\n",
    "\n",
    "- I will hardcode this by hand for and drop duplicate columns at this point.\n",
    "\n",
    "Data Dictionary\n",
    "\n",
    "- (\"Yes\" = 1, \"No\" = 0)"
   ]
  },
  {
   "cell_type": "code",
   "execution_count": 33,
   "metadata": {},
   "outputs": [],
   "source": [
    "df[\"churn\"] = df[\"churn\"].map({\"Yes\": 1, \"No\": 0})"
   ]
  },
  {
   "cell_type": "markdown",
   "metadata": {},
   "source": [
    "- Here I compute a new feature comleted_years translating tenure from months to years. \n",
    "\n",
    "- I want to use this later to look at month-to-month and 1-year contract customers.\n"
   ]
  },
  {
   "cell_type": "code",
   "execution_count": 38,
   "metadata": {},
   "outputs": [
    {
     "data": {
      "text/plain": [
       "0.0    1470\n",
       "1.0    1156\n",
       "2.0    1004\n",
       "3.0     715\n",
       "4.0     868\n",
       "5.0     786\n",
       "6.0    1033\n",
       "Name: completed_years, dtype: int64"
      ]
     },
     "execution_count": 38,
     "metadata": {},
     "output_type": "execute_result"
    }
   ],
   "source": [
    "df[\"completed_years\"] = round(df[\"tenure\"] / 12)\n",
    "df[\"completed_years\"].value_counts().sort_index()"
   ]
  },
  {
   "cell_type": "markdown",
   "metadata": {},
   "source": [
    "- Here I created a a new column phone_id that captures phone_service and multiple_lines into a single int variable.\n"
   ]
  },
  {
   "cell_type": "code",
   "execution_count": 12,
   "metadata": {},
   "outputs": [],
   "source": [
    "df[\"phone_id\"] = df[\"multiple_lines\"].map({\"Yes\": 1, \"No\": 0, \"No phone service\": 0}).astype(int)"
   ]
  },
  {
   "cell_type": "markdown",
   "metadata": {},
   "source": [
    "- Here I add a new column household_type_id that combines dependents and partner and is int type \n",
    "\n",
    "Data Dictionary:\n",
    "\n",
    "- (0 = none, 1 = partner, 2 = dependents, 3 = partner & dependents)"
   ]
  },
  {
   "cell_type": "code",
   "execution_count": 13,
   "metadata": {},
   "outputs": [],
   "source": [
    "df[\"dependents\"] = df[\"dependents\"].map({\"Yes\": 2, \"No\": 0}).astype(int)\n",
    "df[\"partner\"] = df[\"partner\"].map({\"Yes\": 1, \"No\": 0}).astype(int)\n",
    "\n",
    "df[\"household_type_id\"] = df[\"dependents\"] + df[\"partner\"]"
   ]
  },
  {
   "cell_type": "markdown",
   "metadata": {},
   "source": [
    "- Here I added a new column streaming_services of dtype int that combines info from streaming_tv and streaming_movies dependents and partner and is dtype int. \n",
    "\n",
    "Data Dictionary:\n",
    "\n",
    "- (0 = none, 1 = streaming tv, 2 = streaming movies, 3 = both)"
   ]
  },
  {
   "cell_type": "code",
   "execution_count": 14,
   "metadata": {},
   "outputs": [],
   "source": [
    "df[\"streaming_tv\"] = df[\"streaming_tv\"].map({\"Yes\": 1, \"No\": 0, \"No internet service\": 0}).astype(int)\n",
    "df[\"streaming_movies\"] = df[\"streaming_movies\"].map({\"Yes\": 2, \"No\": 0, \"No internet service\": 0}).astype(int)\n",
    "\n",
    "df[\"streaming_services\"] = df[\"streaming_movies\"] + df[\"streaming_tv\"]"
   ]
  },
  {
   "cell_type": "markdown",
   "metadata": {},
   "source": [
    "- Here I added a column online_security_backup of dtype int that combines\n",
    "online_security and online_backup dependents and partner and is dtype int.\n",
    "\n",
    "Data Dictionary: \n",
    "    \n",
    "- (0 = none, 1 = online security, 2 = online backup, 3 = both)"
   ]
  },
  {
   "cell_type": "code",
   "execution_count": 15,
   "metadata": {},
   "outputs": [],
   "source": [
    "df[\"online_security\"] = df[\"online_security\"].map({\"Yes\": 1, \"No\": 0, \"No internet service\": 0}).astype(int)\n",
    "df[\"online_backup\"] = df[\"online_backup\"].map({\"Yes\": 2, \"No\": 0, \"No internet service\": 0}).astype(int)\n",
    "\n",
    "df[\"online_security_backup\"] = df[\"online_security\"] + df[\"online_backup\"]"
   ]
  },
  {
   "cell_type": "markdown",
   "metadata": {},
   "source": [
    "- Here I am ready to split the data 70/30 train/test using my split function.\n"
   ]
  },
  {
   "cell_type": "code",
   "execution_count": 16,
   "metadata": {},
   "outputs": [
    {
     "data": {
      "text/html": [
       "<div>\n",
       "<style scoped>\n",
       "    .dataframe tbody tr th:only-of-type {\n",
       "        vertical-align: middle;\n",
       "    }\n",
       "\n",
       "    .dataframe tbody tr th {\n",
       "        vertical-align: top;\n",
       "    }\n",
       "\n",
       "    .dataframe thead th {\n",
       "        text-align: right;\n",
       "    }\n",
       "</style>\n",
       "<table border=\"1\" class=\"dataframe\">\n",
       "  <thead>\n",
       "    <tr style=\"text-align: right;\">\n",
       "      <th></th>\n",
       "      <th>payment_type_id</th>\n",
       "      <th>internet_service_type_id</th>\n",
       "      <th>contract_type_id</th>\n",
       "      <th>customer_id</th>\n",
       "      <th>gender</th>\n",
       "      <th>senior_citizen</th>\n",
       "      <th>partner</th>\n",
       "      <th>dependents</th>\n",
       "      <th>tenure</th>\n",
       "      <th>phone_service</th>\n",
       "      <th>...</th>\n",
       "      <th>monthly_charges</th>\n",
       "      <th>total_charges</th>\n",
       "      <th>churn</th>\n",
       "      <th>contract_type</th>\n",
       "      <th>internet_service_type</th>\n",
       "      <th>payment_type</th>\n",
       "      <th>completed_years</th>\n",
       "      <th>household_type_id</th>\n",
       "      <th>streaming_services</th>\n",
       "      <th>online_security_backup</th>\n",
       "    </tr>\n",
       "  </thead>\n",
       "  <tbody>\n",
       "    <tr>\n",
       "      <th>5968</th>\n",
       "      <td>4</td>\n",
       "      <td>3</td>\n",
       "      <td>1</td>\n",
       "      <td>8439-LTUGF</td>\n",
       "      <td>Male</td>\n",
       "      <td>0</td>\n",
       "      <td>0</td>\n",
       "      <td>0</td>\n",
       "      <td>10</td>\n",
       "      <td>Yes</td>\n",
       "      <td>...</td>\n",
       "      <td>20.00</td>\n",
       "      <td>198.6</td>\n",
       "      <td>0</td>\n",
       "      <td>Month-to-month</td>\n",
       "      <td>None</td>\n",
       "      <td>Credit card (automatic)</td>\n",
       "      <td>0.833333</td>\n",
       "      <td>0</td>\n",
       "      <td>0</td>\n",
       "      <td>0</td>\n",
       "    </tr>\n",
       "    <tr>\n",
       "      <th>3585</th>\n",
       "      <td>1</td>\n",
       "      <td>2</td>\n",
       "      <td>1</td>\n",
       "      <td>5339-PXDVH</td>\n",
       "      <td>Male</td>\n",
       "      <td>0</td>\n",
       "      <td>0</td>\n",
       "      <td>0</td>\n",
       "      <td>4</td>\n",
       "      <td>Yes</td>\n",
       "      <td>...</td>\n",
       "      <td>90.65</td>\n",
       "      <td>367.95</td>\n",
       "      <td>0</td>\n",
       "      <td>Month-to-month</td>\n",
       "      <td>Fiber optic</td>\n",
       "      <td>Electronic check</td>\n",
       "      <td>0.333333</td>\n",
       "      <td>0</td>\n",
       "      <td>1</td>\n",
       "      <td>1</td>\n",
       "    </tr>\n",
       "    <tr>\n",
       "      <th>6987</th>\n",
       "      <td>3</td>\n",
       "      <td>3</td>\n",
       "      <td>3</td>\n",
       "      <td>9068-FHQHD</td>\n",
       "      <td>Female</td>\n",
       "      <td>0</td>\n",
       "      <td>1</td>\n",
       "      <td>2</td>\n",
       "      <td>40</td>\n",
       "      <td>Yes</td>\n",
       "      <td>...</td>\n",
       "      <td>20.15</td>\n",
       "      <td>777.35</td>\n",
       "      <td>0</td>\n",
       "      <td>Two year</td>\n",
       "      <td>None</td>\n",
       "      <td>Bank transfer (automatic)</td>\n",
       "      <td>3.333333</td>\n",
       "      <td>3</td>\n",
       "      <td>0</td>\n",
       "      <td>0</td>\n",
       "    </tr>\n",
       "    <tr>\n",
       "      <th>5060</th>\n",
       "      <td>3</td>\n",
       "      <td>2</td>\n",
       "      <td>2</td>\n",
       "      <td>9475-NNDGC</td>\n",
       "      <td>Male</td>\n",
       "      <td>0</td>\n",
       "      <td>1</td>\n",
       "      <td>0</td>\n",
       "      <td>71</td>\n",
       "      <td>Yes</td>\n",
       "      <td>...</td>\n",
       "      <td>113.15</td>\n",
       "      <td>7953.25</td>\n",
       "      <td>0</td>\n",
       "      <td>One year</td>\n",
       "      <td>Fiber optic</td>\n",
       "      <td>Bank transfer (automatic)</td>\n",
       "      <td>5.916667</td>\n",
       "      <td>1</td>\n",
       "      <td>3</td>\n",
       "      <td>2</td>\n",
       "    </tr>\n",
       "    <tr>\n",
       "      <th>3992</th>\n",
       "      <td>3</td>\n",
       "      <td>2</td>\n",
       "      <td>1</td>\n",
       "      <td>7268-IGMFD</td>\n",
       "      <td>Male</td>\n",
       "      <td>1</td>\n",
       "      <td>0</td>\n",
       "      <td>0</td>\n",
       "      <td>18</td>\n",
       "      <td>Yes</td>\n",
       "      <td>...</td>\n",
       "      <td>93.90</td>\n",
       "      <td>1743.9</td>\n",
       "      <td>0</td>\n",
       "      <td>Month-to-month</td>\n",
       "      <td>Fiber optic</td>\n",
       "      <td>Bank transfer (automatic)</td>\n",
       "      <td>1.500000</td>\n",
       "      <td>0</td>\n",
       "      <td>1</td>\n",
       "      <td>0</td>\n",
       "    </tr>\n",
       "  </tbody>\n",
       "</table>\n",
       "<p>5 rows × 28 columns</p>\n",
       "</div>"
      ],
      "text/plain": [
       "      payment_type_id  internet_service_type_id  contract_type_id customer_id  \\\n",
       "5968                4                         3                 1  8439-LTUGF   \n",
       "3585                1                         2                 1  5339-PXDVH   \n",
       "6987                3                         3                 3  9068-FHQHD   \n",
       "5060                3                         2                 2  9475-NNDGC   \n",
       "3992                3                         2                 1  7268-IGMFD   \n",
       "\n",
       "      gender  senior_citizen  partner  dependents  tenure phone_service  ...  \\\n",
       "5968    Male               0        0           0      10           Yes  ...   \n",
       "3585    Male               0        0           0       4           Yes  ...   \n",
       "6987  Female               0        1           2      40           Yes  ...   \n",
       "5060    Male               0        1           0      71           Yes  ...   \n",
       "3992    Male               1        0           0      18           Yes  ...   \n",
       "\n",
       "     monthly_charges  total_charges  churn   contract_type  \\\n",
       "5968           20.00          198.6      0  Month-to-month   \n",
       "3585           90.65         367.95      0  Month-to-month   \n",
       "6987           20.15         777.35      0        Two year   \n",
       "5060          113.15        7953.25      0        One year   \n",
       "3992           93.90         1743.9      0  Month-to-month   \n",
       "\n",
       "     internet_service_type               payment_type  completed_years  \\\n",
       "5968                  None    Credit card (automatic)         0.833333   \n",
       "3585           Fiber optic           Electronic check         0.333333   \n",
       "6987                  None  Bank transfer (automatic)         3.333333   \n",
       "5060           Fiber optic  Bank transfer (automatic)         5.916667   \n",
       "3992           Fiber optic  Bank transfer (automatic)         1.500000   \n",
       "\n",
       "     household_type_id  streaming_services online_security_backup  \n",
       "5968                 0                   0                      0  \n",
       "3585                 0                   1                      1  \n",
       "6987                 3                   0                      0  \n",
       "5060                 1                   3                      2  \n",
       "3992                 0                   1                      0  \n",
       "\n",
       "[5 rows x 28 columns]"
      ]
     },
     "execution_count": 16,
     "metadata": {},
     "output_type": "execute_result"
    }
   ],
   "source": [
    "train, test = split(df=df, target=\"churn\", train_prop=.70, seed=123)\n",
    "\n",
    "train.head()"
   ]
  },
  {
   "cell_type": "code",
   "execution_count": 42,
   "metadata": {},
   "outputs": [],
   "source": [
    "# create lists to pass into a prepare function \n",
    "\n",
    "# create list of columns to be converted into a float types\n",
    "float_cols = [\"total_charges\"] \n",
    "\n",
    "# create list of columns to be converted to object types\n",
    "obj_cols = [\"payment_type_id\", \"internet_service_type_id\", \"contract_type_id\", \"senior_citizen\", \"churn\"]\n",
    "\n",
    "# create list of columns to be encoded\n",
    "encode_cols = [\"\"]\n",
    "\n",
    "# create list of columns to be scaled\n",
    "scale_cols = [\"monthly_charges\"]\n"
   ]
  },
  {
   "cell_type": "code",
   "execution_count": 17,
   "metadata": {},
   "outputs": [],
   "source": [
    "\n"
   ]
  },
  {
   "cell_type": "code",
   "execution_count": 18,
   "metadata": {},
   "outputs": [],
   "source": [
    "# 11. Scale monthly_charges and total_charges\n",
    "# I will run my first model without scaling and return to this step for my MVP\n"
   ]
  },
  {
   "cell_type": "markdown",
   "metadata": {},
   "source": [
    "### Data Exploration"
   ]
  },
  {
   "cell_type": "code",
   "execution_count": 19,
   "metadata": {},
   "outputs": [],
   "source": [
    "# 1. Could the month they signed up influence churn? \n",
    "# (Plot the rate of churn on a line chart where x is the tenure \n",
    "# and y is the rate of churn (customers churned/total customers)).\n",
    "\n"
   ]
  },
  {
   "cell_type": "code",
   "execution_count": 20,
   "metadata": {},
   "outputs": [],
   "source": [
    "# 2. Are there features that indicate higher propensity to churn?\n"
   ]
  },
  {
   "cell_type": "code",
   "execution_count": 21,
   "metadata": {},
   "outputs": [],
   "source": [
    "# 3. Is there a price threshold for specific services where the liklihood\n",
    "# of churn increases? What services and at what price point?\n"
   ]
  },
  {
   "cell_type": "code",
   "execution_count": 22,
   "metadata": {},
   "outputs": [],
   "source": [
    "# 4. Looking at churn rate for month-to-month vs. 1-year contract customers\n",
    "# afther their 12th month of service, is the rate of churn different?\n"
   ]
  },
  {
   "cell_type": "code",
   "execution_count": 23,
   "metadata": {},
   "outputs": [],
   "source": [
    "# 5. Use a t-test to find out of the monthly charges of those who have\n",
    "# churned is significantly higher thatn those who have not. Control for:\n",
    "# (phone_id, internet_service_type_id, online_security_backup, device_protection, \n",
    "# tech_support, and contract_type_id)\n"
   ]
  },
  {
   "cell_type": "code",
   "execution_count": 24,
   "metadata": {},
   "outputs": [],
   "source": [
    "# 6. Perform a correlation test, stating hypothesis and conclusion clearly\n",
    "# that states if montly charges can be explained by internet_service_type\n"
   ]
  },
  {
   "cell_type": "code",
   "execution_count": 25,
   "metadata": {},
   "outputs": [],
   "source": [
    "# 7. \n"
   ]
  },
  {
   "cell_type": "code",
   "execution_count": 26,
   "metadata": {},
   "outputs": [],
   "source": [
    "# 8. Create visualizations exploring interactions of variables (independent\n",
    "# with independent and independent with dependent). The goal is to identify\n",
    "# features that are related to churn, identify integrity issues, understand\n",
    "# how the data works.\n"
   ]
  },
  {
   "cell_type": "code",
   "execution_count": 27,
   "metadata": {},
   "outputs": [],
   "source": [
    "# 9. \n"
   ]
  },
  {
   "cell_type": "code",
   "execution_count": 28,
   "metadata": {},
   "outputs": [],
   "source": [
    "# 10. \n"
   ]
  },
  {
   "cell_type": "markdown",
   "metadata": {},
   "source": [
    "### Modeling"
   ]
  },
  {
   "cell_type": "code",
   "execution_count": 29,
   "metadata": {},
   "outputs": [],
   "source": [
    "# 1. Feature selection: can you remove any features that provide limited\n",
    "# to no additional info?\n"
   ]
  },
  {
   "cell_type": "code",
   "execution_count": 30,
   "metadata": {},
   "outputs": [],
   "source": [
    "# 2. Train (fit, transform, evaluate) multiple models and select the best\n",
    "# performing model.\n"
   ]
  },
  {
   "cell_type": "code",
   "execution_count": 31,
   "metadata": {},
   "outputs": [],
   "source": [
    "# 3. Compare eval metrics across all the models and select best performing\n"
   ]
  },
  {
   "cell_type": "code",
   "execution_count": 32,
   "metadata": {},
   "outputs": [],
   "source": [
    "# 4. Test the final model (tranform, evaluate) on your out-of-sample data.\n",
    "# Summarize the performance, interpret results.\n"
   ]
  },
  {
   "cell_type": "code",
   "execution_count": null,
   "metadata": {},
   "outputs": [],
   "source": []
  }
 ],
 "metadata": {
  "kernelspec": {
   "display_name": "Python 3",
   "language": "python",
   "name": "python3"
  },
  "language_info": {
   "codemirror_mode": {
    "name": "ipython",
    "version": 3
   },
   "file_extension": ".py",
   "mimetype": "text/x-python",
   "name": "python",
   "nbconvert_exporter": "python",
   "pygments_lexer": "ipython3",
   "version": "3.7.3"
  }
 },
 "nbformat": 4,
 "nbformat_minor": 2
}

{
 "cells": [
  {
   "cell_type": "code",
   "execution_count": 1,
   "metadata": {},
   "outputs": [],
   "source": [
    "import pandas as pd\n",
    "import numpy as np\n",
    "from pydataset import data\n",
    "import seaborn as sns\n",
    "import matplotlib.pyplot as plt\n",
    "%matplotlib inline\n",
    "from scipy import stats\n",
    "\n",
    "from sklearn.model_selection import train_test_split\n",
    "from sklearn.impute import SimpleImputer\n",
    "from sklearn.preprocessing import LabelEncoder, OneHotEncoder, MinMaxScaler\n",
    "from sklearn.model_selection import train_test_split\n",
    "from sklearn.linear_model import LogisticRegression\n",
    "from sklearn.tree import DecisionTreeClassifier\n",
    "from sklearn.tree import export_graphviz\n",
    "from sklearn.metrics import classification_report\n",
    "from sklearn.metrics import confusion_matrix\n",
    "from sklearn.feature_selection import SelectKBest, f_regression\n",
    "\n",
    "import warnings\n",
    "warnings.filterwarnings(\"ignore\")\n",
    "\n",
    "from telco_pipeline import get_data_from_sql, peekatdata, split, df_value_counts, percent_missing, clean_data, encode, scale_minmax"
   ]
  },
  {
   "cell_type": "markdown",
   "metadata": {},
   "source": [
    "### Project Planning and Checklist\n",
    "\n",
    "- What are the profiles of the customers who are churning? In presentation\n",
    "\n",
    "- How do you deal with the column that converts monthly tenure to annual?\n",
    "\n",
    "- Don't just identify that people leave bc they can, but what are the drivers that make them leave?\n",
    "\n",
    "- Answer questions in exploration and analysis stages. Add comments and notes in notebook about why you're doing what you're doing and what your conclusions are.\n",
    "\n",
    "- Don't deliver the data without your assessment of what is going on even if you add \"I would need to assess this, but...\"\n",
    "\n",
    "- This \"leader\" wants to know all of the data behind our assessments. A diagram of the work flow and what you did is great.\n",
    "\n",
    "- How likely is your model to accurately predict churn, return False positives and false negatives?\n",
    "\n",
    "- Your .py files do NOT have to be exactly the ones and names of what is laid out in the project.\n",
    "\n",
    "- If you transform data in a column, then you need to explain why you did that. ie. if you scale data, why did you do that?\n",
    "\n",
    "- Add context (text) to numbers that make them meaningful.\n",
    "\n",
    "- Include Google slide summarizing your model with links in your README.\n",
    "\n",
    "- Project Planning from project outline would be good for the structure of your README file. ie. - data dictionary.\n",
    "\n",
    "- Make a task list that lays out what you need to do at each stage of the pipeline. This could look like headers in your notebook.\n",
    "\n",
    "- Exploration is when you would to do your t-tests, chi-squared tests.\n",
    "\n",
    "- Train multiple models, different algorithms, but also change hyperparameters for the same model. ie. - k=2, k=3, k=4, diff features in same algorithm.\n",
    "\n",
    "- You can decide what your cutoff point will be when deciding what the probability should be to predict churn or not churn at the end.\n",
    "\n",
    "- Baseline #1 is proportion of churn to not churn. Find this rate first! It needs to be better than 60% accurate.\n",
    "\n",
    "- Baseline #2 is doing minimal prep and running it through a model. \n",
    "\n",
    "- Model #3 is your MVP. Explore and answer the required questions. Prepare data to go into other algorithms (encoding or scaling as needed). Some automated feature selection here, too. Make predictions on this data\n",
    "\n",
    "- Other Modeling - to gain more insight but beyond simple answers of basic questions. This would be where you include extra feature engineering. "
   ]
  },
  {
   "cell_type": "markdown",
   "metadata": {},
   "source": [
    "### Acquistion\n",
    "\n",
    "- Here I used my function to bring in data using a sql query.\n",
    "    \n",
    "- My query brought over everything from all of the tables together,\n",
    "    so I could look at the data before deciding how to clean and process."
   ]
  },
  {
   "cell_type": "code",
   "execution_count": 2,
   "metadata": {},
   "outputs": [],
   "source": [
    "df = get_data_from_sql()"
   ]
  },
  {
   "cell_type": "markdown",
   "metadata": {},
   "source": [
    "### Data Prep"
   ]
  },
  {
   "cell_type": "markdown",
   "metadata": {},
   "source": [
    "- I created a function that returns important info on the dataframe."
   ]
  },
  {
   "cell_type": "code",
   "execution_count": 3,
   "metadata": {},
   "outputs": [
    {
     "name": "stdout",
     "output_type": "stream",
     "text": [
      "DataFrame Shape:\n",
      "\n",
      "(7043, 24)\n",
      "\n",
      "Info about:\n",
      "\n",
      "<class 'pandas.core.frame.DataFrame'>\n",
      "RangeIndex: 7043 entries, 0 to 7042\n",
      "Data columns (total 24 columns):\n",
      "payment_type_id             7043 non-null int64\n",
      "internet_service_type_id    7043 non-null int64\n",
      "contract_type_id            7043 non-null int64\n",
      "customer_id                 7043 non-null object\n",
      "gender                      7043 non-null object\n",
      "senior_citizen              7043 non-null int64\n",
      "partner                     7043 non-null object\n",
      "dependents                  7043 non-null object\n",
      "tenure                      7043 non-null int64\n",
      "phone_service               7043 non-null object\n",
      "multiple_lines              7043 non-null object\n",
      "online_security             7043 non-null object\n",
      "online_backup               7043 non-null object\n",
      "device_protection           7043 non-null object\n",
      "tech_support                7043 non-null object\n",
      "streaming_tv                7043 non-null object\n",
      "streaming_movies            7043 non-null object\n",
      "paperless_billing           7043 non-null object\n",
      "monthly_charges             7043 non-null float64\n",
      "total_charges               7043 non-null object\n",
      "churn                       7043 non-null object\n",
      "contract_type               7043 non-null object\n",
      "internet_service_type       7043 non-null object\n",
      "payment_type                7043 non-null object\n",
      "dtypes: float64(1), int64(5), object(18)\n",
      "memory usage: 1.3+ MB\n",
      "None\n",
      "\n",
      "Describe:\n",
      "\n",
      "       payment_type_id  internet_service_type_id  contract_type_id  \\\n",
      "count      7043.000000               7043.000000       7043.000000   \n",
      "mean          2.315633                  1.872923          1.690473   \n",
      "std           1.148907                  0.737796          0.833755   \n",
      "min           1.000000                  1.000000          1.000000   \n",
      "25%           1.000000                  1.000000          1.000000   \n",
      "50%           2.000000                  2.000000          1.000000   \n",
      "75%           3.000000                  2.000000          2.000000   \n",
      "max           4.000000                  3.000000          3.000000   \n",
      "\n",
      "       senior_citizen       tenure  monthly_charges  \n",
      "count     7043.000000  7043.000000      7043.000000  \n",
      "mean         0.162147    32.371149        64.761692  \n",
      "std          0.368612    24.559481        30.090047  \n",
      "min          0.000000     0.000000        18.250000  \n",
      "25%          0.000000     9.000000        35.500000  \n",
      "50%          0.000000    29.000000        70.350000  \n",
      "75%          0.000000    55.000000        89.850000  \n",
      "max          1.000000    72.000000       118.750000  \n",
      "\n",
      "Head Preview:\n",
      "\n",
      "   payment_type_id  internet_service_type_id  contract_type_id customer_id  \\\n",
      "0                2                         1                 1  0003-MKNFE   \n",
      "1                4                         1                 1  0013-MHZWF   \n",
      "2                1                         1                 1  0015-UOCOJ   \n",
      "3                1                         1                 1  0023-HGHWL   \n",
      "4                3                         1                 1  0032-PGELS   \n",
      "\n",
      "   gender  senior_citizen partner dependents  tenure phone_service  ...  \\\n",
      "0    Male               0      No         No       9           Yes  ...   \n",
      "1  Female               0      No        Yes       9           Yes  ...   \n",
      "2  Female               1      No         No       7           Yes  ...   \n",
      "3    Male               1      No         No       1            No  ...   \n",
      "4  Female               0     Yes        Yes       1            No  ...   \n",
      "\n",
      "  tech_support streaming_tv streaming_movies paperless_billing  \\\n",
      "0           No           No              Yes                No   \n",
      "1          Yes          Yes              Yes               Yes   \n",
      "2           No           No               No               Yes   \n",
      "3           No           No               No               Yes   \n",
      "4           No           No               No                No   \n",
      "\n",
      "  monthly_charges total_charges churn   contract_type  internet_service_type  \\\n",
      "0            59.9         542.4    No  Month-to-month                    DSL   \n",
      "1            69.4        571.45    No  Month-to-month                    DSL   \n",
      "2            48.2        340.35    No  Month-to-month                    DSL   \n",
      "3            25.1          25.1   Yes  Month-to-month                    DSL   \n",
      "4            30.5          30.5   Yes  Month-to-month                    DSL   \n",
      "\n",
      "                payment_type  \n",
      "0               Mailed check  \n",
      "1    Credit card (automatic)  \n",
      "2           Electronic check  \n",
      "3           Electronic check  \n",
      "4  Bank transfer (automatic)  \n",
      "\n",
      "[5 rows x 24 columns]\n",
      "\n",
      "Tail Preview:\n",
      "\n",
      "      payment_type_id  internet_service_type_id  contract_type_id customer_id  \\\n",
      "7038                4                         3                 3  9950-MTGYX   \n",
      "7039                2                         3                 3  9953-ZMKSM   \n",
      "7040                4                         3                 3  9964-WBQDJ   \n",
      "7041                3                         3                 3  9972-EWRJS   \n",
      "7042                4                         3                 3  9975-GPKZU   \n",
      "\n",
      "      gender  senior_citizen partner dependents  tenure phone_service  ...  \\\n",
      "7038    Male               0     Yes        Yes      28           Yes  ...   \n",
      "7039    Male               0      No         No      63           Yes  ...   \n",
      "7040  Female               0     Yes         No      71           Yes  ...   \n",
      "7041  Female               0     Yes        Yes      67           Yes  ...   \n",
      "7042    Male               0     Yes        Yes      46           Yes  ...   \n",
      "\n",
      "             tech_support         streaming_tv     streaming_movies  \\\n",
      "7038  No internet service  No internet service  No internet service   \n",
      "7039  No internet service  No internet service  No internet service   \n",
      "7040  No internet service  No internet service  No internet service   \n",
      "7041  No internet service  No internet service  No internet service   \n",
      "7042  No internet service  No internet service  No internet service   \n",
      "\n",
      "     paperless_billing monthly_charges total_charges churn contract_type  \\\n",
      "7038               Yes           20.30        487.95    No      Two year   \n",
      "7039                No           25.25        1559.3    No      Two year   \n",
      "7040               Yes           24.40        1725.4    No      Two year   \n",
      "7041               Yes           19.25        1372.9    No      Two year   \n",
      "7042                No           19.75         856.5    No      Two year   \n",
      "\n",
      "      internet_service_type               payment_type  \n",
      "7038                   None    Credit card (automatic)  \n",
      "7039                   None               Mailed check  \n",
      "7040                   None    Credit card (automatic)  \n",
      "7041                   None  Bank transfer (automatic)  \n",
      "7042                   None    Credit card (automatic)  \n",
      "\n",
      "[5 rows x 24 columns]\n"
     ]
    }
   ],
   "source": [
    "peekatdata(df)"
   ]
  },
  {
   "cell_type": "markdown",
   "metadata": {},
   "source": [
    "- I created and used a function to decide whether to bin data for the value counts.\n",
    "\n",
    "- I'm not worried about customer_id's unique counts because each is unique, and I will end up converting it to be the index before running it through a model. I need the customer_id to create a csv file later, so I will save it by converting it.\n",
    "\n",
    "- That leaves tenure, monthly_charges, and total_charges with a large number of unique values which may benefit from binning."
   ]
  },
  {
   "cell_type": "code",
   "execution_count": 4,
   "metadata": {},
   "outputs": [
    {
     "data": {
      "text/html": [
       "<div>\n",
       "<style scoped>\n",
       "    .dataframe tbody tr th:only-of-type {\n",
       "        vertical-align: middle;\n",
       "    }\n",
       "\n",
       "    .dataframe tbody tr th {\n",
       "        vertical-align: top;\n",
       "    }\n",
       "\n",
       "    .dataframe thead th {\n",
       "        text-align: right;\n",
       "    }\n",
       "</style>\n",
       "<table border=\"1\" class=\"dataframe\">\n",
       "  <thead>\n",
       "    <tr style=\"text-align: right;\">\n",
       "      <th></th>\n",
       "      <th>payment_type_id</th>\n",
       "      <th>internet_service_type_id</th>\n",
       "      <th>contract_type_id</th>\n",
       "      <th>gender</th>\n",
       "      <th>senior_citizen</th>\n",
       "      <th>partner</th>\n",
       "      <th>dependents</th>\n",
       "      <th>tenure</th>\n",
       "      <th>phone_service</th>\n",
       "      <th>multiple_lines</th>\n",
       "      <th>...</th>\n",
       "      <th>tech_support</th>\n",
       "      <th>streaming_tv</th>\n",
       "      <th>streaming_movies</th>\n",
       "      <th>paperless_billing</th>\n",
       "      <th>monthly_charges</th>\n",
       "      <th>total_charges</th>\n",
       "      <th>churn</th>\n",
       "      <th>contract_type</th>\n",
       "      <th>internet_service_type</th>\n",
       "      <th>payment_type</th>\n",
       "    </tr>\n",
       "    <tr>\n",
       "      <th>customer_id</th>\n",
       "      <th></th>\n",
       "      <th></th>\n",
       "      <th></th>\n",
       "      <th></th>\n",
       "      <th></th>\n",
       "      <th></th>\n",
       "      <th></th>\n",
       "      <th></th>\n",
       "      <th></th>\n",
       "      <th></th>\n",
       "      <th></th>\n",
       "      <th></th>\n",
       "      <th></th>\n",
       "      <th></th>\n",
       "      <th></th>\n",
       "      <th></th>\n",
       "      <th></th>\n",
       "      <th></th>\n",
       "      <th></th>\n",
       "      <th></th>\n",
       "      <th></th>\n",
       "    </tr>\n",
       "  </thead>\n",
       "  <tbody>\n",
       "    <tr>\n",
       "      <th>0003-MKNFE</th>\n",
       "      <td>2</td>\n",
       "      <td>1</td>\n",
       "      <td>1</td>\n",
       "      <td>Male</td>\n",
       "      <td>0</td>\n",
       "      <td>No</td>\n",
       "      <td>No</td>\n",
       "      <td>9</td>\n",
       "      <td>Yes</td>\n",
       "      <td>Yes</td>\n",
       "      <td>...</td>\n",
       "      <td>No</td>\n",
       "      <td>No</td>\n",
       "      <td>Yes</td>\n",
       "      <td>No</td>\n",
       "      <td>59.9</td>\n",
       "      <td>542.4</td>\n",
       "      <td>No</td>\n",
       "      <td>Month-to-month</td>\n",
       "      <td>DSL</td>\n",
       "      <td>Mailed check</td>\n",
       "    </tr>\n",
       "    <tr>\n",
       "      <th>0013-MHZWF</th>\n",
       "      <td>4</td>\n",
       "      <td>1</td>\n",
       "      <td>1</td>\n",
       "      <td>Female</td>\n",
       "      <td>0</td>\n",
       "      <td>No</td>\n",
       "      <td>Yes</td>\n",
       "      <td>9</td>\n",
       "      <td>Yes</td>\n",
       "      <td>No</td>\n",
       "      <td>...</td>\n",
       "      <td>Yes</td>\n",
       "      <td>Yes</td>\n",
       "      <td>Yes</td>\n",
       "      <td>Yes</td>\n",
       "      <td>69.4</td>\n",
       "      <td>571.45</td>\n",
       "      <td>No</td>\n",
       "      <td>Month-to-month</td>\n",
       "      <td>DSL</td>\n",
       "      <td>Credit card (automatic)</td>\n",
       "    </tr>\n",
       "    <tr>\n",
       "      <th>0015-UOCOJ</th>\n",
       "      <td>1</td>\n",
       "      <td>1</td>\n",
       "      <td>1</td>\n",
       "      <td>Female</td>\n",
       "      <td>1</td>\n",
       "      <td>No</td>\n",
       "      <td>No</td>\n",
       "      <td>7</td>\n",
       "      <td>Yes</td>\n",
       "      <td>No</td>\n",
       "      <td>...</td>\n",
       "      <td>No</td>\n",
       "      <td>No</td>\n",
       "      <td>No</td>\n",
       "      <td>Yes</td>\n",
       "      <td>48.2</td>\n",
       "      <td>340.35</td>\n",
       "      <td>No</td>\n",
       "      <td>Month-to-month</td>\n",
       "      <td>DSL</td>\n",
       "      <td>Electronic check</td>\n",
       "    </tr>\n",
       "    <tr>\n",
       "      <th>0023-HGHWL</th>\n",
       "      <td>1</td>\n",
       "      <td>1</td>\n",
       "      <td>1</td>\n",
       "      <td>Male</td>\n",
       "      <td>1</td>\n",
       "      <td>No</td>\n",
       "      <td>No</td>\n",
       "      <td>1</td>\n",
       "      <td>No</td>\n",
       "      <td>No phone service</td>\n",
       "      <td>...</td>\n",
       "      <td>No</td>\n",
       "      <td>No</td>\n",
       "      <td>No</td>\n",
       "      <td>Yes</td>\n",
       "      <td>25.1</td>\n",
       "      <td>25.1</td>\n",
       "      <td>Yes</td>\n",
       "      <td>Month-to-month</td>\n",
       "      <td>DSL</td>\n",
       "      <td>Electronic check</td>\n",
       "    </tr>\n",
       "    <tr>\n",
       "      <th>0032-PGELS</th>\n",
       "      <td>3</td>\n",
       "      <td>1</td>\n",
       "      <td>1</td>\n",
       "      <td>Female</td>\n",
       "      <td>0</td>\n",
       "      <td>Yes</td>\n",
       "      <td>Yes</td>\n",
       "      <td>1</td>\n",
       "      <td>No</td>\n",
       "      <td>No phone service</td>\n",
       "      <td>...</td>\n",
       "      <td>No</td>\n",
       "      <td>No</td>\n",
       "      <td>No</td>\n",
       "      <td>No</td>\n",
       "      <td>30.5</td>\n",
       "      <td>30.5</td>\n",
       "      <td>Yes</td>\n",
       "      <td>Month-to-month</td>\n",
       "      <td>DSL</td>\n",
       "      <td>Bank transfer (automatic)</td>\n",
       "    </tr>\n",
       "  </tbody>\n",
       "</table>\n",
       "<p>5 rows × 23 columns</p>\n",
       "</div>"
      ],
      "text/plain": [
       "             payment_type_id  internet_service_type_id  contract_type_id  \\\n",
       "customer_id                                                                \n",
       "0003-MKNFE                 2                         1                 1   \n",
       "0013-MHZWF                 4                         1                 1   \n",
       "0015-UOCOJ                 1                         1                 1   \n",
       "0023-HGHWL                 1                         1                 1   \n",
       "0032-PGELS                 3                         1                 1   \n",
       "\n",
       "             gender  senior_citizen partner dependents  tenure phone_service  \\\n",
       "customer_id                                                                    \n",
       "0003-MKNFE     Male               0      No         No       9           Yes   \n",
       "0013-MHZWF   Female               0      No        Yes       9           Yes   \n",
       "0015-UOCOJ   Female               1      No         No       7           Yes   \n",
       "0023-HGHWL     Male               1      No         No       1            No   \n",
       "0032-PGELS   Female               0     Yes        Yes       1            No   \n",
       "\n",
       "               multiple_lines  ... tech_support streaming_tv streaming_movies  \\\n",
       "customer_id                    ...                                              \n",
       "0003-MKNFE                Yes  ...           No           No              Yes   \n",
       "0013-MHZWF                 No  ...          Yes          Yes              Yes   \n",
       "0015-UOCOJ                 No  ...           No           No               No   \n",
       "0023-HGHWL   No phone service  ...           No           No               No   \n",
       "0032-PGELS   No phone service  ...           No           No               No   \n",
       "\n",
       "            paperless_billing monthly_charges total_charges churn  \\\n",
       "customer_id                                                         \n",
       "0003-MKNFE                 No            59.9         542.4    No   \n",
       "0013-MHZWF                Yes            69.4        571.45    No   \n",
       "0015-UOCOJ                Yes            48.2        340.35    No   \n",
       "0023-HGHWL                Yes            25.1          25.1   Yes   \n",
       "0032-PGELS                 No            30.5          30.5   Yes   \n",
       "\n",
       "              contract_type internet_service_type               payment_type  \n",
       "customer_id                                                                   \n",
       "0003-MKNFE   Month-to-month                   DSL               Mailed check  \n",
       "0013-MHZWF   Month-to-month                   DSL    Credit card (automatic)  \n",
       "0015-UOCOJ   Month-to-month                   DSL           Electronic check  \n",
       "0023-HGHWL   Month-to-month                   DSL           Electronic check  \n",
       "0032-PGELS   Month-to-month                   DSL  Bank transfer (automatic)  \n",
       "\n",
       "[5 rows x 23 columns]"
      ]
     },
     "execution_count": 4,
     "metadata": {},
     "output_type": "execute_result"
    }
   ],
   "source": [
    "df = df.set_index(\"customer_id\")\n",
    "df.head()"
   ]
  },
  {
   "cell_type": "code",
   "execution_count": 5,
   "metadata": {},
   "outputs": [
    {
     "data": {
      "text/html": [
       "<div>\n",
       "<style scoped>\n",
       "    .dataframe tbody tr th:only-of-type {\n",
       "        vertical-align: middle;\n",
       "    }\n",
       "\n",
       "    .dataframe tbody tr th {\n",
       "        vertical-align: top;\n",
       "    }\n",
       "\n",
       "    .dataframe thead th {\n",
       "        text-align: right;\n",
       "    }\n",
       "</style>\n",
       "<table border=\"1\" class=\"dataframe\">\n",
       "  <thead>\n",
       "    <tr style=\"text-align: right;\">\n",
       "      <th></th>\n",
       "      <th>0</th>\n",
       "    </tr>\n",
       "  </thead>\n",
       "  <tbody>\n",
       "    <tr>\n",
       "      <th>payment_type_id</th>\n",
       "      <td>4</td>\n",
       "    </tr>\n",
       "    <tr>\n",
       "      <th>internet_service_type_id</th>\n",
       "      <td>3</td>\n",
       "    </tr>\n",
       "    <tr>\n",
       "      <th>contract_type_id</th>\n",
       "      <td>3</td>\n",
       "    </tr>\n",
       "    <tr>\n",
       "      <th>gender</th>\n",
       "      <td>2</td>\n",
       "    </tr>\n",
       "    <tr>\n",
       "      <th>senior_citizen</th>\n",
       "      <td>2</td>\n",
       "    </tr>\n",
       "    <tr>\n",
       "      <th>partner</th>\n",
       "      <td>2</td>\n",
       "    </tr>\n",
       "    <tr>\n",
       "      <th>dependents</th>\n",
       "      <td>2</td>\n",
       "    </tr>\n",
       "    <tr>\n",
       "      <th>tenure</th>\n",
       "      <td>73</td>\n",
       "    </tr>\n",
       "    <tr>\n",
       "      <th>phone_service</th>\n",
       "      <td>2</td>\n",
       "    </tr>\n",
       "    <tr>\n",
       "      <th>multiple_lines</th>\n",
       "      <td>3</td>\n",
       "    </tr>\n",
       "    <tr>\n",
       "      <th>online_security</th>\n",
       "      <td>3</td>\n",
       "    </tr>\n",
       "    <tr>\n",
       "      <th>online_backup</th>\n",
       "      <td>3</td>\n",
       "    </tr>\n",
       "    <tr>\n",
       "      <th>device_protection</th>\n",
       "      <td>3</td>\n",
       "    </tr>\n",
       "    <tr>\n",
       "      <th>tech_support</th>\n",
       "      <td>3</td>\n",
       "    </tr>\n",
       "    <tr>\n",
       "      <th>streaming_tv</th>\n",
       "      <td>3</td>\n",
       "    </tr>\n",
       "    <tr>\n",
       "      <th>streaming_movies</th>\n",
       "      <td>3</td>\n",
       "    </tr>\n",
       "    <tr>\n",
       "      <th>paperless_billing</th>\n",
       "      <td>2</td>\n",
       "    </tr>\n",
       "    <tr>\n",
       "      <th>monthly_charges</th>\n",
       "      <td>1585</td>\n",
       "    </tr>\n",
       "    <tr>\n",
       "      <th>total_charges</th>\n",
       "      <td>6531</td>\n",
       "    </tr>\n",
       "    <tr>\n",
       "      <th>churn</th>\n",
       "      <td>2</td>\n",
       "    </tr>\n",
       "    <tr>\n",
       "      <th>contract_type</th>\n",
       "      <td>3</td>\n",
       "    </tr>\n",
       "    <tr>\n",
       "      <th>internet_service_type</th>\n",
       "      <td>3</td>\n",
       "    </tr>\n",
       "    <tr>\n",
       "      <th>payment_type</th>\n",
       "      <td>4</td>\n",
       "    </tr>\n",
       "  </tbody>\n",
       "</table>\n",
       "</div>"
      ],
      "text/plain": [
       "                             0\n",
       "payment_type_id              4\n",
       "internet_service_type_id     3\n",
       "contract_type_id             3\n",
       "gender                       2\n",
       "senior_citizen               2\n",
       "partner                      2\n",
       "dependents                   2\n",
       "tenure                      73\n",
       "phone_service                2\n",
       "multiple_lines               3\n",
       "online_security              3\n",
       "online_backup                3\n",
       "device_protection            3\n",
       "tech_support                 3\n",
       "streaming_tv                 3\n",
       "streaming_movies             3\n",
       "paperless_billing            2\n",
       "monthly_charges           1585\n",
       "total_charges             6531\n",
       "churn                        2\n",
       "contract_type                3\n",
       "internet_service_type        3\n",
       "payment_type                 4"
      ]
     },
     "execution_count": 5,
     "metadata": {},
     "output_type": "execute_result"
    }
   ],
   "source": [
    "valcount_df = df_value_counts(df)\n",
    "valcount_df"
   ]
  },
  {
   "cell_type": "markdown",
   "metadata": {},
   "source": [
    "- I want to decide if and which rows or columns should be dropped.\n",
    "\n",
    "- Running .value_counts() on total charges column showed me it has 11 values that are blank space. These are most likely for customers who have not had the service long enough to have a total_charge.\n",
    "\n",
    "- Considering these findings, I will create and run a function that replaces the blank values with NaN and returns the percent of missing values in each column in order to make my final decision about dropping rows that contain NaNs.\n",
    "\n",
    "- I'm including in this function a line to drop customer_id as I will not be needing this column."
   ]
  },
  {
   "cell_type": "code",
   "execution_count": 6,
   "metadata": {},
   "outputs": [
    {
     "data": {
      "text/plain": [
       "           11\n",
       "20.2       11\n",
       "19.75       9\n",
       "19.65       8\n",
       "19.9        8\n",
       "20.05       8\n",
       "19.55       7\n",
       "45.3        7\n",
       "20.15       6\n",
       "19.45       6\n",
       "20.25       6\n",
       "20.3        5\n",
       "20.45       5\n",
       "49.9        4\n",
       "75.3        4\n",
       "69.9        4\n",
       "70.6        4\n",
       "19.4        4\n",
       "20.5        4\n",
       "19.95       4\n",
       "69.95       4\n",
       "19.5        4\n",
       "19.3        4\n",
       "20.4        4\n",
       "69.6        4\n",
       "44          4\n",
       "69.65       4\n",
       "50.15       4\n",
       "19.85       4\n",
       "44.4        4\n",
       "74.7        4\n",
       "20.35       4\n",
       "19.2        4\n",
       "44.75       3\n",
       "45.85       3\n",
       "20.1        3\n",
       "50.75       3\n",
       "35.9        3\n",
       "24.4        3\n",
       "470.2       3\n",
       "45.1        3\n",
       "2317.1      3\n",
       "85.5        3\n",
       "50.6        3\n",
       "74.6        3\n",
       "86.05       3\n",
       "74.3        3\n",
       "50.45       3\n",
       "70.3        3\n",
       "80.55       3\n",
       "70.45       3\n",
       "24.8        3\n",
       "74.9        3\n",
       "19.25       3\n",
       "20.9        3\n",
       "305.55      3\n",
       "45.7        3\n",
       "19.1        3\n",
       "55.7        3\n",
       "20.55       3\n",
       "75.35       3\n",
       "1284.2      3\n",
       "74.35       3\n",
       "220.45      3\n",
       "69.25       3\n",
       "85          3\n",
       "383.65      3\n",
       "69.1        3\n",
       "20          3\n",
       "25.25       3\n",
       "79.55       3\n",
       "70.15       3\n",
       "84.5        3\n",
       "69.55       3\n",
       "70.1        3\n",
       "1130.85     2\n",
       "467.15      2\n",
       "5714.2      2\n",
       "729.95      2\n",
       "99.75       2\n",
       "20.95       2\n",
       "576.65      2\n",
       "477.55      2\n",
       "223.15      2\n",
       "1043.3      2\n",
       "           ..\n",
       "997.65      1\n",
       "553.4       1\n",
       "6194.1      1\n",
       "5893.15     1\n",
       "1313.55     1\n",
       "1249.25     1\n",
       "7213.75     1\n",
       "3121.45     1\n",
       "5731.45     1\n",
       "6638.35     1\n",
       "2395.05     1\n",
       "4084.35     1\n",
       "174.7       1\n",
       "6526.65     1\n",
       "452.8       1\n",
       "633.85      1\n",
       "2448.75     1\n",
       "4060.55     1\n",
       "3865.6      1\n",
       "51.15       1\n",
       "2209.75     1\n",
       "1337.45     1\n",
       "7553.6      1\n",
       "679.85      1\n",
       "5129.45     1\n",
       "5037.55     1\n",
       "5278.15     1\n",
       "1261.35     1\n",
       "1337.5      1\n",
       "7965.95     1\n",
       "137.25      1\n",
       "2193.2      1\n",
       "6017.9      1\n",
       "741.5       1\n",
       "713.6       1\n",
       "526.95      1\n",
       "6010.05     1\n",
       "7689.8      1\n",
       "50.5        1\n",
       "7984.15     1\n",
       "298.7       1\n",
       "168.65      1\n",
       "6976.75     1\n",
       "386.5       1\n",
       "90.1        1\n",
       "477.7       1\n",
       "1507        1\n",
       "92.05       1\n",
       "6979.8      1\n",
       "6129.65     1\n",
       "1145.7      1\n",
       "4719.75     1\n",
       "3263.9      1\n",
       "595.05      1\n",
       "1544.05     1\n",
       "3880.05     1\n",
       "2386.85     1\n",
       "1398.6      1\n",
       "2471.6      1\n",
       "670.35      1\n",
       "4154.8      1\n",
       "1073.3      1\n",
       "8443.7      1\n",
       "1759.55     1\n",
       "3444.85     1\n",
       "347.25      1\n",
       "1872.2      1\n",
       "1348.9      1\n",
       "1740.8      1\n",
       "3801.7      1\n",
       "73.6        1\n",
       "2070.6      1\n",
       "6397.6      1\n",
       "4054.2      1\n",
       "4555.2      1\n",
       "3522.65     1\n",
       "6822.15     1\n",
       "6589.6      1\n",
       "1794.65     1\n",
       "317.25      1\n",
       "4299.75     1\n",
       "2832.75     1\n",
       "3265.95     1\n",
       "2181.75     1\n",
       "3478.75     1\n",
       "Name: total_charges, Length: 6531, dtype: int64"
      ]
     },
     "execution_count": 6,
     "metadata": {},
     "output_type": "execute_result"
    }
   ],
   "source": [
    "df[\"total_charges\"].value_counts(dropna=False)"
   ]
  },
  {
   "cell_type": "markdown",
   "metadata": {},
   "source": [
    "- This percent_missing function below reveals that only total_charges has missing values, and the percent of missing values is .16%.\n",
    "\n",
    "- This confirms my decision to drop the rows with NaNs.\n"
   ]
  },
  {
   "cell_type": "code",
   "execution_count": 7,
   "metadata": {},
   "outputs": [
    {
     "data": {
      "text/plain": [
       "payment_type_id             0.000000\n",
       "internet_service_type_id    0.000000\n",
       "contract_type_id            0.000000\n",
       "gender                      0.000000\n",
       "senior_citizen              0.000000\n",
       "partner                     0.000000\n",
       "dependents                  0.000000\n",
       "tenure                      0.000000\n",
       "phone_service               0.000000\n",
       "multiple_lines              0.000000\n",
       "online_security             0.000000\n",
       "online_backup               0.000000\n",
       "device_protection           0.000000\n",
       "tech_support                0.000000\n",
       "streaming_tv                0.000000\n",
       "streaming_movies            0.000000\n",
       "paperless_billing           0.000000\n",
       "monthly_charges             0.000000\n",
       "total_charges               0.156183\n",
       "churn                       0.000000\n",
       "contract_type               0.000000\n",
       "internet_service_type       0.000000\n",
       "payment_type                0.000000\n",
       "dtype: float64"
      ]
     },
     "execution_count": 7,
     "metadata": {},
     "output_type": "execute_result"
    }
   ],
   "source": [
    "percent_missing(df)"
   ]
  },
  {
   "cell_type": "markdown",
   "metadata": {},
   "source": [
    "- Here I am running my function clean_data to replace empty space values in total_charges with NaN, dropping the rows with Nan, dropping customer_id and confirming the drop with an .isnull().sum()."
   ]
  },
  {
   "cell_type": "code",
   "execution_count": 8,
   "metadata": {},
   "outputs": [
    {
     "data": {
      "text/plain": [
       "payment_type_id             0\n",
       "internet_service_type_id    0\n",
       "contract_type_id            0\n",
       "gender                      0\n",
       "senior_citizen              0\n",
       "partner                     0\n",
       "dependents                  0\n",
       "tenure                      0\n",
       "phone_service               0\n",
       "multiple_lines              0\n",
       "online_security             0\n",
       "online_backup               0\n",
       "device_protection           0\n",
       "tech_support                0\n",
       "streaming_tv                0\n",
       "streaming_movies            0\n",
       "paperless_billing           0\n",
       "monthly_charges             0\n",
       "total_charges               0\n",
       "churn                       0\n",
       "contract_type               0\n",
       "internet_service_type       0\n",
       "payment_type                0\n",
       "dtype: int64"
      ]
     },
     "execution_count": 8,
     "metadata": {},
     "output_type": "execute_result"
    }
   ],
   "source": [
    "df = clean_data(df)\n",
    "df.isnull().sum()"
   ]
  },
  {
   "cell_type": "markdown",
   "metadata": {},
   "source": [
    "- Here I will transform dataframe values from \"Yes\" and \"No\"/\"No phone service\"/\"No internet service\" to True/False, so it is more intuitive to understand during exploration and interpretation.\n",
    "\n",
    "- Female/Male will be denoted in the \"gender\" column by binary ints."
   ]
  },
  {
   "cell_type": "code",
   "execution_count": 9,
   "metadata": {},
   "outputs": [
    {
     "data": {
      "text/plain": [
       "payment_type_id               int64\n",
       "internet_service_type_id      int64\n",
       "contract_type_id              int64\n",
       "gender                        int64\n",
       "senior_citizen                int64\n",
       "partner                        bool\n",
       "dependents                     bool\n",
       "tenure                        int64\n",
       "phone_service                  bool\n",
       "multiple_lines                 bool\n",
       "online_security                bool\n",
       "online_backup                  bool\n",
       "device_protection              bool\n",
       "tech_support                   bool\n",
       "streaming_tv                   bool\n",
       "streaming_movies               bool\n",
       "paperless_billing              bool\n",
       "monthly_charges             float64\n",
       "total_charges               float64\n",
       "churn                          bool\n",
       "contract_type                object\n",
       "internet_service_type        object\n",
       "payment_type                 object\n",
       "dtype: object"
      ]
     },
     "execution_count": 9,
     "metadata": {},
     "output_type": "execute_result"
    }
   ],
   "source": [
    "df.replace(to_replace=['No', 'Yes'], value=[False, True], inplace=True)\n",
    "df.replace(to_replace=['No phone service'], value=[False], inplace=True)\n",
    "df.replace(to_replace=['Female', 'Male'], value=[1, 0], inplace=True)\n",
    "df.replace(to_replace=['No internet service'], value=[False], inplace=True)\n",
    "df.dtypes"
   ]
  },
  {
   "cell_type": "markdown",
   "metadata": {},
   "source": [
    "- Here I compute a new feature comleted_years translating tenure from months to years. \n",
    "\n",
    "- I want to use this later to look at month-to-month and 1-year contract customers.\n"
   ]
  },
  {
   "cell_type": "code",
   "execution_count": 10,
   "metadata": {},
   "outputs": [
    {
     "data": {
      "text/plain": [
       "0.0    1470\n",
       "1.0    1156\n",
       "2.0    1004\n",
       "3.0     715\n",
       "4.0     868\n",
       "5.0     786\n",
       "6.0    1033\n",
       "Name: completed_years, dtype: int64"
      ]
     },
     "execution_count": 10,
     "metadata": {},
     "output_type": "execute_result"
    }
   ],
   "source": [
    "df[\"completed_years\"] = round(df[\"tenure\"] / 12)\n",
    "df[\"completed_years\"].value_counts().sort_index()"
   ]
  },
  {
   "cell_type": "markdown",
   "metadata": {},
   "source": [
    "- I decided not to create a new column phone_id that captures phone_service and multiple_lines into a single int variable. I want to keep this information separate.\n"
   ]
  },
  {
   "cell_type": "markdown",
   "metadata": {},
   "source": [
    "- Here I added a new column \"family\" that combines \"dependents\" and \"partner\" and is True for either having dependents or family or False for having neither.\n",
    "\n",
    "Data Dictionary:\n",
    "\n",
    "- True - partner or dependents\n",
    "\n",
    "\n",
    "- False - neither partner or dependents"
   ]
  },
  {
   "cell_type": "code",
   "execution_count": 11,
   "metadata": {},
   "outputs": [],
   "source": [
    "df['family'] = (df.partner == True) | (df.dependents == True)"
   ]
  },
  {
   "cell_type": "markdown",
   "metadata": {},
   "source": [
    "- Here I added a new column streaming_services of dtype bool that combines streaming_movies and streaming_tv into one. If the customer has either of these, the value is True. \n",
    "\n",
    "- I decided to combine these based on the results of my heat map in exploration. These two variables are highly correlated with each other.\n",
    "\n",
    "\n",
    "Data Dictionary:\n",
    "\n",
    "- True - partner or dependents\n",
    "\n",
    "\n",
    "- False - neither partner or dependents"
   ]
  },
  {
   "cell_type": "code",
   "execution_count": 12,
   "metadata": {},
   "outputs": [
    {
     "data": {
      "text/plain": [
       "False    3537\n",
       "True     3495\n",
       "Name: streaming_services, dtype: int64"
      ]
     },
     "execution_count": 12,
     "metadata": {},
     "output_type": "execute_result"
    }
   ],
   "source": [
    "df[\"streaming_services\"] = (df.streaming_movies == True) | (df.streaming_tv == True)\n",
    "df[\"streaming_services\"].value_counts()"
   ]
  },
  {
   "cell_type": "markdown",
   "metadata": {},
   "source": [
    "- Here I added a column online_services of dtype int that combines online_security, online_backup, device_protection, and tech_support and is dtype int.\n",
    "\n",
    "Data Dictionary: \n",
    "    \n",
    "- 0 = False\n",
    "\n",
    "\n",
    "- 1 = True"
   ]
  },
  {
   "cell_type": "code",
   "execution_count": 13,
   "metadata": {},
   "outputs": [
    {
     "data": {
      "text/plain": [
       "True     4245\n",
       "False    2787\n",
       "Name: online_services, dtype: int64"
      ]
     },
     "execution_count": 13,
     "metadata": {},
     "output_type": "execute_result"
    }
   ],
   "source": [
    "df[\"online_services\"] = df.online_security + df.online_backup + df.device_protection + df.tech_support\n",
    "df[\"online_services\"].value_counts()"
   ]
  },
  {
   "cell_type": "markdown",
   "metadata": {},
   "source": [
    "- Here I am dropping columns I used to create the new, merged columns above because I don't need them with the new columns."
   ]
  },
  {
   "cell_type": "code",
   "execution_count": 14,
   "metadata": {},
   "outputs": [],
   "source": [
    "df = df.drop(columns=[\"streaming_tv\", \"streaming_movies\", \"contract_type\", \"internet_service_type\", \"payment_type\", \"payment_type_id\", \"paperless_billing\", \"online_security\", \"online_backup\", \"device_protection\", \"tech_support\", \"partner\", \"dependents\"])"
   ]
  },
  {
   "cell_type": "code",
   "execution_count": 15,
   "metadata": {},
   "outputs": [
    {
     "data": {
      "text/plain": [
       "internet_service_type_id      int64\n",
       "contract_type_id              int64\n",
       "gender                        int64\n",
       "senior_citizen                int64\n",
       "tenure                        int64\n",
       "phone_service                  bool\n",
       "multiple_lines                 bool\n",
       "monthly_charges             float64\n",
       "total_charges               float64\n",
       "churn                          bool\n",
       "completed_years             float64\n",
       "family                         bool\n",
       "streaming_services             bool\n",
       "online_services                bool\n",
       "dtype: object"
      ]
     },
     "execution_count": 15,
     "metadata": {},
     "output_type": "execute_result"
    }
   ],
   "source": [
    "df.dtypes"
   ]
  },
  {
   "cell_type": "code",
   "execution_count": 16,
   "metadata": {},
   "outputs": [
    {
     "data": {
      "text/plain": [
       "(7032, 14)"
      ]
     },
     "execution_count": 16,
     "metadata": {},
     "output_type": "execute_result"
    }
   ],
   "source": [
    "df.shape"
   ]
  },
  {
   "cell_type": "markdown",
   "metadata": {},
   "source": [
    "- Here I am ready to split the data 70/30 train/test using my split function.\n"
   ]
  },
  {
   "cell_type": "code",
   "execution_count": 17,
   "metadata": {},
   "outputs": [
    {
     "data": {
      "text/plain": [
       "(2110, 14)"
      ]
     },
     "execution_count": 17,
     "metadata": {},
     "output_type": "execute_result"
    }
   ],
   "source": [
    "train, test = split(df=df, target=\"churn\", train_prop=.70, seed=123)\n",
    "\n",
    "train.head()\n",
    "test.shape"
   ]
  },
  {
   "cell_type": "markdown",
   "metadata": {},
   "source": [
    "#### Encode columns:\n",
    "\n",
    "- I'm going to run my encode function on the columns internet_service_type_id and contract_type_id, so that I have the versatility to run those variables through multiple models.\n",
    "\n",
    "\n",
    "- After I create the new encoded columns, I will rename the new columns to reflect what they denote."
   ]
  },
  {
   "cell_type": "code",
   "execution_count": 18,
   "metadata": {},
   "outputs": [],
   "source": [
    "train, test, int_encoder, ohe = encode(train, test, \"internet_service_type_id\")"
   ]
  },
  {
   "cell_type": "code",
   "execution_count": 19,
   "metadata": {},
   "outputs": [],
   "source": [
    "train.rename(columns={1 : \"dsl\", 2 : \"fiber\", 3 : \"none\"}, inplace = True)\n",
    "test.rename(columns={1 : \"dsl\", 2 : \"fiber\", 3 : \"none\"}, inplace = True)"
   ]
  },
  {
   "cell_type": "code",
   "execution_count": 20,
   "metadata": {},
   "outputs": [],
   "source": [
    "train, test, int_encoder, ohe = encode(train, test, \"contract_type_id\")"
   ]
  },
  {
   "cell_type": "code",
   "execution_count": 21,
   "metadata": {},
   "outputs": [],
   "source": [
    "train.rename(columns={1 : \"monthly\", 2 : \"1-year\", 3 : \"2-year\"}, inplace = True)\n",
    "test.rename(columns={1 : \"monthly\", 2 : \"1-year\", 3 : \"2-year\"}, inplace = True)"
   ]
  },
  {
   "cell_type": "markdown",
   "metadata": {},
   "source": [
    "- Here I'm peeking at my renamed columns to confirm changes."
   ]
  },
  {
   "cell_type": "code",
   "execution_count": 22,
   "metadata": {},
   "outputs": [
    {
     "data": {
      "text/html": [
       "<div>\n",
       "<style scoped>\n",
       "    .dataframe tbody tr th:only-of-type {\n",
       "        vertical-align: middle;\n",
       "    }\n",
       "\n",
       "    .dataframe tbody tr th {\n",
       "        vertical-align: top;\n",
       "    }\n",
       "\n",
       "    .dataframe thead th {\n",
       "        text-align: right;\n",
       "    }\n",
       "</style>\n",
       "<table border=\"1\" class=\"dataframe\">\n",
       "  <thead>\n",
       "    <tr style=\"text-align: right;\">\n",
       "      <th></th>\n",
       "      <th>internet_service_type_id</th>\n",
       "      <th>contract_type_id</th>\n",
       "      <th>gender</th>\n",
       "      <th>senior_citizen</th>\n",
       "      <th>tenure</th>\n",
       "      <th>phone_service</th>\n",
       "      <th>multiple_lines</th>\n",
       "      <th>monthly_charges</th>\n",
       "      <th>total_charges</th>\n",
       "      <th>churn</th>\n",
       "      <th>completed_years</th>\n",
       "      <th>family</th>\n",
       "      <th>streaming_services</th>\n",
       "      <th>online_services</th>\n",
       "      <th>dsl</th>\n",
       "      <th>fiber</th>\n",
       "      <th>none</th>\n",
       "      <th>monthly</th>\n",
       "      <th>1-year</th>\n",
       "      <th>2-year</th>\n",
       "    </tr>\n",
       "    <tr>\n",
       "      <th>customer_id</th>\n",
       "      <th></th>\n",
       "      <th></th>\n",
       "      <th></th>\n",
       "      <th></th>\n",
       "      <th></th>\n",
       "      <th></th>\n",
       "      <th></th>\n",
       "      <th></th>\n",
       "      <th></th>\n",
       "      <th></th>\n",
       "      <th></th>\n",
       "      <th></th>\n",
       "      <th></th>\n",
       "      <th></th>\n",
       "      <th></th>\n",
       "      <th></th>\n",
       "      <th></th>\n",
       "      <th></th>\n",
       "      <th></th>\n",
       "      <th></th>\n",
       "    </tr>\n",
       "  </thead>\n",
       "  <tbody>\n",
       "    <tr>\n",
       "      <th>8439-LTUGF</th>\n",
       "      <td>3</td>\n",
       "      <td>1</td>\n",
       "      <td>0</td>\n",
       "      <td>0</td>\n",
       "      <td>10</td>\n",
       "      <td>True</td>\n",
       "      <td>False</td>\n",
       "      <td>20.00</td>\n",
       "      <td>198.60</td>\n",
       "      <td>False</td>\n",
       "      <td>1.0</td>\n",
       "      <td>False</td>\n",
       "      <td>False</td>\n",
       "      <td>False</td>\n",
       "      <td>0.0</td>\n",
       "      <td>0.0</td>\n",
       "      <td>1.0</td>\n",
       "      <td>1.0</td>\n",
       "      <td>0.0</td>\n",
       "      <td>0.0</td>\n",
       "    </tr>\n",
       "    <tr>\n",
       "      <th>5339-PXDVH</th>\n",
       "      <td>2</td>\n",
       "      <td>1</td>\n",
       "      <td>0</td>\n",
       "      <td>0</td>\n",
       "      <td>4</td>\n",
       "      <td>True</td>\n",
       "      <td>True</td>\n",
       "      <td>90.65</td>\n",
       "      <td>367.95</td>\n",
       "      <td>False</td>\n",
       "      <td>0.0</td>\n",
       "      <td>False</td>\n",
       "      <td>True</td>\n",
       "      <td>True</td>\n",
       "      <td>0.0</td>\n",
       "      <td>1.0</td>\n",
       "      <td>0.0</td>\n",
       "      <td>1.0</td>\n",
       "      <td>0.0</td>\n",
       "      <td>0.0</td>\n",
       "    </tr>\n",
       "    <tr>\n",
       "      <th>9068-FHQHD</th>\n",
       "      <td>3</td>\n",
       "      <td>3</td>\n",
       "      <td>1</td>\n",
       "      <td>0</td>\n",
       "      <td>40</td>\n",
       "      <td>True</td>\n",
       "      <td>False</td>\n",
       "      <td>20.15</td>\n",
       "      <td>777.35</td>\n",
       "      <td>False</td>\n",
       "      <td>3.0</td>\n",
       "      <td>True</td>\n",
       "      <td>False</td>\n",
       "      <td>False</td>\n",
       "      <td>0.0</td>\n",
       "      <td>0.0</td>\n",
       "      <td>1.0</td>\n",
       "      <td>0.0</td>\n",
       "      <td>0.0</td>\n",
       "      <td>1.0</td>\n",
       "    </tr>\n",
       "    <tr>\n",
       "      <th>9475-NNDGC</th>\n",
       "      <td>2</td>\n",
       "      <td>2</td>\n",
       "      <td>0</td>\n",
       "      <td>0</td>\n",
       "      <td>71</td>\n",
       "      <td>True</td>\n",
       "      <td>True</td>\n",
       "      <td>113.15</td>\n",
       "      <td>7953.25</td>\n",
       "      <td>False</td>\n",
       "      <td>6.0</td>\n",
       "      <td>True</td>\n",
       "      <td>True</td>\n",
       "      <td>True</td>\n",
       "      <td>0.0</td>\n",
       "      <td>1.0</td>\n",
       "      <td>0.0</td>\n",
       "      <td>0.0</td>\n",
       "      <td>1.0</td>\n",
       "      <td>0.0</td>\n",
       "    </tr>\n",
       "    <tr>\n",
       "      <th>7268-IGMFD</th>\n",
       "      <td>2</td>\n",
       "      <td>1</td>\n",
       "      <td>0</td>\n",
       "      <td>1</td>\n",
       "      <td>18</td>\n",
       "      <td>True</td>\n",
       "      <td>True</td>\n",
       "      <td>93.90</td>\n",
       "      <td>1743.90</td>\n",
       "      <td>False</td>\n",
       "      <td>2.0</td>\n",
       "      <td>False</td>\n",
       "      <td>True</td>\n",
       "      <td>True</td>\n",
       "      <td>0.0</td>\n",
       "      <td>1.0</td>\n",
       "      <td>0.0</td>\n",
       "      <td>1.0</td>\n",
       "      <td>0.0</td>\n",
       "      <td>0.0</td>\n",
       "    </tr>\n",
       "  </tbody>\n",
       "</table>\n",
       "</div>"
      ],
      "text/plain": [
       "             internet_service_type_id  contract_type_id  gender  \\\n",
       "customer_id                                                       \n",
       "8439-LTUGF                          3                 1       0   \n",
       "5339-PXDVH                          2                 1       0   \n",
       "9068-FHQHD                          3                 3       1   \n",
       "9475-NNDGC                          2                 2       0   \n",
       "7268-IGMFD                          2                 1       0   \n",
       "\n",
       "             senior_citizen  tenure  phone_service  multiple_lines  \\\n",
       "customer_id                                                          \n",
       "8439-LTUGF                0      10           True           False   \n",
       "5339-PXDVH                0       4           True            True   \n",
       "9068-FHQHD                0      40           True           False   \n",
       "9475-NNDGC                0      71           True            True   \n",
       "7268-IGMFD                1      18           True            True   \n",
       "\n",
       "             monthly_charges  total_charges  churn  completed_years  family  \\\n",
       "customer_id                                                                   \n",
       "8439-LTUGF             20.00         198.60  False              1.0   False   \n",
       "5339-PXDVH             90.65         367.95  False              0.0   False   \n",
       "9068-FHQHD             20.15         777.35  False              3.0    True   \n",
       "9475-NNDGC            113.15        7953.25  False              6.0    True   \n",
       "7268-IGMFD             93.90        1743.90  False              2.0   False   \n",
       "\n",
       "             streaming_services  online_services  dsl  fiber  none  monthly  \\\n",
       "customer_id                                                                   \n",
       "8439-LTUGF                False            False  0.0    0.0   1.0      1.0   \n",
       "5339-PXDVH                 True             True  0.0    1.0   0.0      1.0   \n",
       "9068-FHQHD                False            False  0.0    0.0   1.0      0.0   \n",
       "9475-NNDGC                 True             True  0.0    1.0   0.0      0.0   \n",
       "7268-IGMFD                 True             True  0.0    1.0   0.0      1.0   \n",
       "\n",
       "             1-year  2-year  \n",
       "customer_id                  \n",
       "8439-LTUGF      0.0     0.0  \n",
       "5339-PXDVH      0.0     0.0  \n",
       "9068-FHQHD      0.0     1.0  \n",
       "9475-NNDGC      1.0     0.0  \n",
       "7268-IGMFD      0.0     0.0  "
      ]
     },
     "execution_count": 22,
     "metadata": {},
     "output_type": "execute_result"
    }
   ],
   "source": [
    "train.head()"
   ]
  },
  {
   "cell_type": "markdown",
   "metadata": {},
   "source": [
    "### Create x and y variables for exploration and modeling"
   ]
  },
  {
   "cell_type": "code",
   "execution_count": 23,
   "metadata": {},
   "outputs": [
    {
     "data": {
      "text/plain": [
       "(2110, 1)"
      ]
     },
     "execution_count": 23,
     "metadata": {},
     "output_type": "execute_result"
    }
   ],
   "source": [
    "y_train = train[[\"churn\"]]\n",
    "y_test = test[[\"churn\"]]\n",
    "y_test.shape"
   ]
  },
  {
   "cell_type": "code",
   "execution_count": 24,
   "metadata": {},
   "outputs": [
    {
     "data": {
      "text/plain": [
       "(2110, 19)"
      ]
     },
     "execution_count": 24,
     "metadata": {},
     "output_type": "execute_result"
    }
   ],
   "source": [
    "x_train = train.drop(columns=\"churn\")\n",
    "x_test = test.drop(columns=\"churn\")\n",
    "x_test.shape"
   ]
  },
  {
   "cell_type": "markdown",
   "metadata": {},
   "source": [
    "- I will run my first model without scaling and return to this step for my MVP below.\n"
   ]
  },
  {
   "cell_type": "markdown",
   "metadata": {},
   "source": [
    "### Data Exploration"
   ]
  },
  {
   "cell_type": "markdown",
   "metadata": {},
   "source": [
    "#### A look at the distribution of overall total churn"
   ]
  },
  {
   "cell_type": "code",
   "execution_count": 25,
   "metadata": {},
   "outputs": [
    {
     "data": {
      "image/png": "[encoded data removed]",
      "text/plain": [
       "<Figure size 432x288 with 1 Axes>"
      ]
     },
     "metadata": {
      "needs_background": "light"
     },
     "output_type": "display_data"
    }
   ],
   "source": [
    "train.churn.value_counts().sort_index().plot(kind = \"bar\",alpha = .5)\n",
    "plt.title(\"Distribution of Total Churn\")\n",
    "plt.grid(b = True , which = \"major\")"
   ]
  },
  {
   "cell_type": "markdown",
   "metadata": {},
   "source": [
    "- I created visualizations exploring interactions of variables (independent with independent and independent with dependent). My goal was to identify features that are related to churn, identify integrity issues, understand how the data works.\n",
    "\n",
    "\n",
    "- A ran a heatmap to explore correlations between independent variables and dependent target variable and independent variables with each other."
   ]
  },
  {
   "cell_type": "code",
   "execution_count": 26,
   "metadata": {},
   "outputs": [
    {
     "data": {
      "text/plain": [
       "<matplotlib.axes._subplots.AxesSubplot at 0x1a1a362ef0>"
      ]
     },
     "execution_count": 26,
     "metadata": {},
     "output_type": "execute_result"
    },
    {
     "data": {
      "image/png": "[encoded data removed]",
      "text/plain": [
       "<Figure size 1080x1080 with 2 Axes>"
      ]
     },
     "metadata": {
      "needs_background": "light"
     },
     "output_type": "display_data"
    }
   ],
   "source": [
    "plt.figure(figsize=(15,15))\n",
    "sns.heatmap(train.corr(), cmap='RdBu', annot=True)"
   ]
  },
  {
   "cell_type": "markdown",
   "metadata": {},
   "source": [
    "#### Are there features that indicate higher propensity to churn?\n",
    "\n",
    "According to the correlation figures on the heatmap, monthly (40%), completed_years (35%), 2-year contracts (30%), and total_charges (.20) have the highest correlations with the target of churn. Monthly_charges (19%), family (17%), and senior_citizen (15%) variables have lesser correlations, but they are high enough to remain of interest as features that could add some predictive accuracy to a model."
   ]
  },
  {
   "cell_type": "markdown",
   "metadata": {},
   "source": [
    "#### Could the month they signed up influence churn? \n",
    "Here I plot churn on a line chart where x is the completed_years and y is customer churn. We can not pinpoint the month of highest churn from this information, but we can see that there are some interesting peaks and valleys throughout the steady decline over time. These could be areas of interest to investigate in the future.\n"
   ]
  },
  {
   "cell_type": "code",
   "execution_count": 27,
   "metadata": {},
   "outputs": [
    {
     "data": {
      "text/plain": [
       "Text(0.5, 1.0, 'Decline in Churn over Time')"
      ]
     },
     "execution_count": 27,
     "metadata": {},
     "output_type": "execute_result"
    },
    {
     "data": {
      "image/png": "[encoded data removed]",
      "text/plain": [
       "<Figure size 432x288 with 1 Axes>"
      ]
     },
     "metadata": {
      "needs_background": "light"
     },
     "output_type": "display_data"
    }
   ],
   "source": [
    "x = train.tenure\n",
    "y = train.churn\n",
    "sns.lineplot(x, y)\n",
    "plt.title(\"Decline in Churn over Time\")"
   ]
  },
  {
   "cell_type": "markdown",
   "metadata": {},
   "source": [
    "- Here I did a groupby to bin the customers by completed years of tenure to get an idea of the average monthly charges over time.\n",
    "\n",
    "\n",
    "- The average monthly charge does increase each year, but this is a very high-level view of what is going on with tenure and monthly charges. The average charges only have a range of abouut $21.00, so that's not looking like a driver of churn to me.\n",
    "\n",
    "\n",
    "- More investigation would have to be done using subsets of services to find out if there is more to the story here. "
   ]
  },
  {
   "cell_type": "code",
   "execution_count": 28,
   "metadata": {
    "scrolled": true
   },
   "outputs": [
    {
     "data": {
      "text/plain": [
       "completed_years\n",
       "0.0    55.596368\n",
       "1.0    60.084522\n",
       "2.0    61.091004\n",
       "3.0    67.140040\n",
       "4.0    67.717298\n",
       "5.0    72.346389\n",
       "6.0    76.021271\n",
       "Name: monthly_charges, dtype: float64"
      ]
     },
     "execution_count": 28,
     "metadata": {},
     "output_type": "execute_result"
    }
   ],
   "source": [
    "avg_monthly_by_year = train.groupby(by=\"completed_years\").monthly_charges.mean()\n",
    "avg_monthly_by_year"
   ]
  },
  {
   "cell_type": "markdown",
   "metadata": {},
   "source": [
    "- Distribution of tenure\n",
    "\n",
    "- Here I can see the early customer churn that I will control for in the next charts, so I can see what else is in the data.\n",
    "\n",
    "\n",
    "- There is an interesting jump in tenure between 60 and 70 months. There might be something interesting to investigate about that cohort of customers."
   ]
  },
  {
   "cell_type": "code",
   "execution_count": 29,
   "metadata": {},
   "outputs": [
    {
     "data": {
      "text/plain": [
       "Text(0.5, 1.0, 'Distribution of Tenure')"
      ]
     },
     "execution_count": 29,
     "metadata": {},
     "output_type": "execute_result"
    },
    {
     "data": {
      "image/png": "[encoded data removed]",
      "text/plain": [
       "<Figure size 432x288 with 1 Axes>"
      ]
     },
     "metadata": {
      "needs_background": "light"
     },
     "output_type": "display_data"
    }
   ],
   "source": [
    "plt.hist(train[\"tenure\"])\n",
    "plt.title(\"Distribution of Tenure\")"
   ]
  },
  {
   "cell_type": "markdown",
   "metadata": {},
   "source": [
    "- Here I created a dataframe named \"df_tenure_control\" to explore the difference in keeping or dropping the customers with one to six months tenure."
   ]
  },
  {
   "cell_type": "code",
   "execution_count": 30,
   "metadata": {
    "scrolled": true
   },
   "outputs": [
    {
     "data": {
      "text/plain": [
       "7      88\n",
       "8      88\n",
       "9      84\n",
       "10     92\n",
       "11     72\n",
       "12     79\n",
       "13     82\n",
       "14     57\n",
       "15     65\n",
       "16     64\n",
       "17     56\n",
       "18     67\n",
       "19     50\n",
       "20     55\n",
       "21     48\n",
       "22     70\n",
       "23     59\n",
       "24     63\n",
       "25     58\n",
       "26     56\n",
       "27     53\n",
       "28     44\n",
       "29     42\n",
       "30     52\n",
       "31     47\n",
       "32     47\n",
       "33     41\n",
       "34     46\n",
       "35     57\n",
       "36     36\n",
       "37     47\n",
       "38     45\n",
       "39     41\n",
       "40     48\n",
       "41     47\n",
       "42     51\n",
       "43     48\n",
       "44     29\n",
       "45     43\n",
       "46     60\n",
       "47     42\n",
       "48     49\n",
       "49     48\n",
       "50     44\n",
       "51     46\n",
       "52     56\n",
       "53     44\n",
       "54     47\n",
       "55     45\n",
       "56     54\n",
       "57     38\n",
       "58     46\n",
       "59     38\n",
       "60     49\n",
       "61     56\n",
       "62     47\n",
       "63     50\n",
       "64     64\n",
       "65     53\n",
       "66     57\n",
       "67     71\n",
       "68     69\n",
       "69     70\n",
       "70     82\n",
       "71    124\n",
       "72    251\n",
       "Name: tenure, dtype: int64"
      ]
     },
     "execution_count": 30,
     "metadata": {},
     "output_type": "execute_result"
    }
   ],
   "source": [
    "months = [1, 2, 3, 4, 5, 6]\n",
    "df_tenure_control = train.drop(train[train.tenure.isin(months)].index)\n",
    "df_tenure_control[\"tenure\"].value_counts().sort_index()"
   ]
  },
  {
   "cell_type": "raw",
   "metadata": {},
   "source": [
    "- Here you can see the peaks and drops a little better with the DataFrame controlling for early customer churn. \n",
    "\n",
    "\n",
    "- Again, this data would need to be broken down into subsets controlling for service type to understand better what is causing the rapid changes."
   ]
  },
  {
   "cell_type": "code",
   "execution_count": 31,
   "metadata": {},
   "outputs": [
    {
     "data": {
      "text/plain": [
       "Text(0.5, 1.0, 'Decline in Churn over Time')"
      ]
     },
     "execution_count": 31,
     "metadata": {},
     "output_type": "execute_result"
    },
    {
     "data": {
      "image/png": "[encoded data removed]",
      "text/plain": [
       "<Figure size 432x288 with 1 Axes>"
      ]
     },
     "metadata": {
      "needs_background": "light"
     },
     "output_type": "display_data"
    }
   ],
   "source": [
    "x = df_tenure_control.tenure\n",
    "y = df_tenure_control.churn\n",
    "sns.lineplot(x, y)\n",
    "plt.title(\"Decline in Churn over Time\")"
   ]
  },
  {
   "cell_type": "markdown",
   "metadata": {},
   "source": [
    "### Exploring data subsets"
   ]
  },
  {
   "cell_type": "markdown",
   "metadata": {},
   "source": [
    "Data Dictionary:\n",
    "\n",
    "- Monthly\n",
    "\n",
    "    -0 = False\n",
    "    \n",
    "    \n",
    "    -1 = True"
   ]
  },
  {
   "cell_type": "code",
   "execution_count": 32,
   "metadata": {},
   "outputs": [
    {
     "data": {
      "text/plain": [
       "<matplotlib.axes._subplots.AxesSubplot at 0x1a1b7bafd0>"
      ]
     },
     "execution_count": 32,
     "metadata": {},
     "output_type": "execute_result"
    },
    {
     "data": {
      "image/png": "[encoded data removed]",
      "text/plain": [
       "<Figure size 1008x576 with 2 Axes>"
      ]
     },
     "metadata": {
      "needs_background": "light"
     },
     "output_type": "display_data"
    }
   ],
   "source": [
    "plt.figure(figsize=(14,8))\n",
    "plt.subplot(3,3,1)\n",
    "sns.barplot(x=\"family\", y=\"churn\", data=train)\n",
    "plt.subplot(3,3,2)\n",
    "sns.barplot(x=\"senior_citizen\", y=\"churn\", data=train)"
   ]
  },
  {
   "cell_type": "markdown",
   "metadata": {},
   "source": [
    "Data Dictionary:\n",
    "\n",
    "    -0 = False\n",
    "    \n",
    "    -1 = True"
   ]
  },
  {
   "cell_type": "code",
   "execution_count": 33,
   "metadata": {},
   "outputs": [
    {
     "data": {
      "text/plain": [
       "<matplotlib.axes._subplots.AxesSubplot at 0x1a1c229470>"
      ]
     },
     "execution_count": 33,
     "metadata": {},
     "output_type": "execute_result"
    },
    {
     "data": {
      "image/png": "[encoded data removed]",
      "text/plain": [
       "<Figure size 1008x576 with 3 Axes>"
      ]
     },
     "metadata": {
      "needs_background": "light"
     },
     "output_type": "display_data"
    }
   ],
   "source": [
    "plt.figure(figsize=(14,8))\n",
    "plt.subplot(3,3,1)\n",
    "sns.barplot(x=\"dsl\", y=\"churn\", data=train)\n",
    "plt.subplot(3,3,2)\n",
    "sns.barplot(x=\"fiber\", y=\"churn\", data=train)\n",
    "plt.subplot(3,3,3)\n",
    "sns.barplot(x=\"none\", y=\"churn\", data=train)"
   ]
  },
  {
   "cell_type": "markdown",
   "metadata": {},
   "source": [
    "Data Dictionary:\n",
    "\n",
    "- Family\n",
    "\n",
    "    -True = partner and/or dependents\n",
    "    \n",
    "    -False = no partner or dependents\n",
    "    "
   ]
  },
  {
   "cell_type": "code",
   "execution_count": 34,
   "metadata": {},
   "outputs": [
    {
     "data": {
      "text/plain": [
       "<matplotlib.axes._subplots.AxesSubplot at 0x1a1c3a7cc0>"
      ]
     },
     "execution_count": 34,
     "metadata": {},
     "output_type": "execute_result"
    },
    {
     "data": {
      "image/png": "[encoded data removed]",
      "text/plain": [
       "<Figure size 432x288 with 1 Axes>"
      ]
     },
     "metadata": {
      "needs_background": "light"
     },
     "output_type": "display_data"
    }
   ],
   "source": [
    "sns.barplot(data=train, x=\"completed_years\", y=\"churn\", hue=\"family\")"
   ]
  },
  {
   "cell_type": "code",
   "execution_count": 35,
   "metadata": {},
   "outputs": [
    {
     "data": {
      "text/plain": [
       "<matplotlib.axes._subplots.AxesSubplot at 0x1a1bdd65c0>"
      ]
     },
     "execution_count": 35,
     "metadata": {},
     "output_type": "execute_result"
    },
    {
     "data": {
      "image/png": "[encoded data removed]",
      "text/plain": [
       "<Figure size 432x288 with 1 Axes>"
      ]
     },
     "metadata": {
      "needs_background": "light"
     },
     "output_type": "display_data"
    }
   ],
   "source": [
    "sns.barplot(data=train, x=\"completed_years\", y=\"churn\",hue=\"dsl\")"
   ]
  },
  {
   "cell_type": "markdown",
   "metadata": {},
   "source": [
    "Data Dictionary:\n",
    "\n",
    "- DSL\n",
    "\n",
    "    -0 = False\n",
    "    \n",
    "    -1 = True\n",
    "    \n",
    "    \n",
    "- Family\n",
    "\n",
    "    -True = partner and/or dependents\n",
    "    \n",
    "    -False = no partner or dependents"
   ]
  },
  {
   "cell_type": "code",
   "execution_count": 36,
   "metadata": {},
   "outputs": [
    {
     "data": {
      "text/plain": [
       "<matplotlib.axes._subplots.AxesSubplot at 0x1a1c4a7128>"
      ]
     },
     "execution_count": 36,
     "metadata": {},
     "output_type": "execute_result"
    },
    {
     "data": {
      "image/png": "[encoded data removed]",
      "text/plain": [
       "<Figure size 432x288 with 1 Axes>"
      ]
     },
     "metadata": {
      "needs_background": "light"
     },
     "output_type": "display_data"
    }
   ],
   "source": [
    "sns.barplot(data=train, x=\"family\", y=\"churn\", hue=\"dsl\")"
   ]
  },
  {
   "cell_type": "markdown",
   "metadata": {},
   "source": [
    "Data Dictionary:\n",
    "\n",
    "- DSL\n",
    "\n",
    "    -0 = False\n",
    "    \n",
    "    -1 = True\n",
    "\n",
    "\n",
    "- Senior citizen\n",
    "\n",
    "    -0 = False\n",
    "    \n",
    "    -1 = True"
   ]
  },
  {
   "cell_type": "code",
   "execution_count": 37,
   "metadata": {},
   "outputs": [
    {
     "data": {
      "text/plain": [
       "<matplotlib.axes._subplots.AxesSubplot at 0x1a1c4d8208>"
      ]
     },
     "execution_count": 37,
     "metadata": {},
     "output_type": "execute_result"
    },
    {
     "data": {
      "image/png": "[encoded data removed]",
      "text/plain": [
       "<Figure size 432x288 with 1 Axes>"
      ]
     },
     "metadata": {
      "needs_background": "light"
     },
     "output_type": "display_data"
    }
   ],
   "source": [
    "\n",
    "sns.barplot(data=train, x=\"senior_citizen\", y=\"churn\", hue=\"dsl\")"
   ]
  },
  {
   "cell_type": "code",
   "execution_count": 38,
   "metadata": {},
   "outputs": [
    {
     "data": {
      "text/plain": [
       "<matplotlib.axes._subplots.AxesSubplot at 0x1a1c5fa6d8>"
      ]
     },
     "execution_count": 38,
     "metadata": {},
     "output_type": "execute_result"
    },
    {
     "data": {
      "image/png": "[encoded data removed]",
      "text/plain": [
       "<Figure size 432x288 with 1 Axes>"
      ]
     },
     "metadata": {
      "needs_background": "light"
     },
     "output_type": "display_data"
    }
   ],
   "source": [
    "sns.barplot(data=train, x=\"senior_citizen\", y=\"churn\", hue=\"monthly\")"
   ]
  },
  {
   "cell_type": "markdown",
   "metadata": {},
   "source": [
    "3. Is there a price threshold for specific services where the liklihood of churn increases? What services and at what price point?\n"
   ]
  },
  {
   "cell_type": "markdown",
   "metadata": {},
   "source": [
    "- This is yet to be seen on this iteration of this report."
   ]
  },
  {
   "cell_type": "markdown",
   "metadata": {},
   "source": [
    "4. Looking at churn rate for month-to-month vs. 1-year contract customers after their 12th month of service, is the rate of churn different?"
   ]
  },
  {
   "cell_type": "code",
   "execution_count": 39,
   "metadata": {},
   "outputs": [
    {
     "data": {
      "text/plain": [
       "customer_id\n",
       "8439-LTUGF    False\n",
       "5339-PXDVH    False\n",
       "9068-FHQHD    False\n",
       "9475-NNDGC    False\n",
       "7268-IGMFD    False\n",
       "6770-UAYGJ    False\n",
       "9108-EQPNQ    False\n",
       "8731-WBBMB    False\n",
       "5195-KPUNQ    False\n",
       "6408-OTUBZ    False\n",
       "4393-RYCRE    False\n",
       "3038-PQIUY    False\n",
       "3258-SANFR    False\n",
       "6923-AQONU    False\n",
       "7560-QJAVJ    False\n",
       "8763-KIAFH    False\n",
       "0428-AXXLJ    False\n",
       "4891-NLUBA    False\n",
       "4464-JCOLN    False\n",
       "8992-JQYUN    False\n",
       "5734-EJKXG    False\n",
       "4760-XOHVN    False\n",
       "9154-QDGTH    False\n",
       "2330-PQGDQ    False\n",
       "5244-IRFIH    False\n",
       "4634-JLRJT    False\n",
       "5863-OOKCL    False\n",
       "5792-JALQC    False\n",
       "3131-NWVFJ    False\n",
       "7130-VTEWQ    False\n",
       "8328-SKJNO    False\n",
       "7016-NVRIC    False\n",
       "4154-AQUGT    False\n",
       "8450-JOVAH    False\n",
       "1303-SRDOK    False\n",
       "4603-JANFB    False\n",
       "4488-PSYCG    False\n",
       "3258-ZKPAI    False\n",
       "2202-CUYXZ    False\n",
       "7434-SHXLS    False\n",
       "0440-UEDAI    False\n",
       "8111-BKVDS    False\n",
       "6873-UDNLD    False\n",
       "1194-HVAIF    False\n",
       "8902-ZEOVF    False\n",
       "5515-AKOAJ    False\n",
       "8665-UTDHZ    False\n",
       "6330-JKLPC    False\n",
       "7730-CLDSV    False\n",
       "5774-XZTQC    False\n",
       "5301-GAUUY    False\n",
       "9700-ISPUP    False\n",
       "5956-YHHRX    False\n",
       "1345-GKDZZ    False\n",
       "8910-ICHIU    False\n",
       "8069-RHUXK    False\n",
       "5233-AOZUF    False\n",
       "9845-QOMAD    False\n",
       "1051-EQPZR    False\n",
       "1984-FCOWB    False\n",
       "7954-MLBUN    False\n",
       "4191-XOVOM    False\n",
       "4815-TUMEQ    False\n",
       "3845-JHAMY    False\n",
       "5003-XZWWO    False\n",
       "6738-ISCBM    False\n",
       "8580-AECUZ    False\n",
       "2608-BHKFN    False\n",
       "1353-GHZOS    False\n",
       "4697-LUPSU    False\n",
       "8226-BXGES    False\n",
       "9137-UIYPG    False\n",
       "0562-KBDVM    False\n",
       "3280-MRDOF    False\n",
       "5044-XDPYX    False\n",
       "8992-CEUEN    False\n",
       "3026-ATZYV    False\n",
       "0619-OLYUR    False\n",
       "6353-BRMMA    False\n",
       "9237-HQITU    False\n",
       "7216-EWTRS    False\n",
       "9668-PUGNU    False\n",
       "6661-EIPZC    False\n",
       "3714-NTNFO    False\n",
       "0999-QXNSA    False\n",
       "              ...  \n",
       "4139-SUGLD    False\n",
       "9003-CPATH    False\n",
       "4489-SNOJF    False\n",
       "6994-ORCWG    False\n",
       "9334-GWGOW    False\n",
       "9620-ENEJV    False\n",
       "2672-OJQZP    False\n",
       "4859-ZSRDZ    False\n",
       "9495-REDIY    False\n",
       "9711-FJTBX    False\n",
       "6369-MCAKO    False\n",
       "9732-KPKBW    False\n",
       "0909-SDHNU    False\n",
       "8993-PHFWD    False\n",
       "7134-HBPBS    False\n",
       "5804-LEPIM    False\n",
       "2640-LYMOV    False\n",
       "5399-ZIMKF    False\n",
       "9637-CDTKZ    False\n",
       "4612-THJBS    False\n",
       "0420-BWTPW    False\n",
       "8868-WOZGU    False\n",
       "3838-OZURD    False\n",
       "4002-BQWPQ    False\n",
       "7799-DSEWS    False\n",
       "9548-LERKT    False\n",
       "8775-CEBBJ    False\n",
       "7067-KSAZT    False\n",
       "4844-JJWUY    False\n",
       "4581-SSPWD    False\n",
       "5215-LNLDJ    False\n",
       "5815-HGGHV    False\n",
       "0742-MOABM    False\n",
       "9374-YOLBJ    False\n",
       "8711-LOBKY    False\n",
       "2157-MXBJS    False\n",
       "0463-WZZKO    False\n",
       "4013-TLDHQ    False\n",
       "6365-MTGZX    False\n",
       "4213-HKBJO    False\n",
       "8097-VBQTZ    False\n",
       "0727-BMPLR    False\n",
       "8224-DWCKX    False\n",
       "6728-WYQBC    False\n",
       "4115-NZRKS    False\n",
       "0129-QMPDR    False\n",
       "1932-UEDCX    False\n",
       "2208-NKVVH    False\n",
       "0584-BJQGZ    False\n",
       "1258-YMZNM    False\n",
       "3173-NVMPX    False\n",
       "2951-QOQTK    False\n",
       "6288-LBEAR    False\n",
       "5198-EFNBM    False\n",
       "0178-CIIKR    False\n",
       "9575-IWCAZ    False\n",
       "3898-GUYTS    False\n",
       "7950-XWOVN    False\n",
       "2595-KIWPV    False\n",
       "4706-DGAHW    False\n",
       "1791-PQHBB    False\n",
       "8757-TFHHJ    False\n",
       "2454-RPBRZ    False\n",
       "2612-RRIDN    False\n",
       "0083-PIVIK    False\n",
       "5353-WILCI    False\n",
       "7928-VJYAB    False\n",
       "0231-LXVAP    False\n",
       "4293-ETKAP    False\n",
       "3774-VBNXY    False\n",
       "0727-BNRLG    False\n",
       "3466-WAESX    False\n",
       "5025-GOOKI    False\n",
       "7138-GIRSH    False\n",
       "1535-VTJOQ    False\n",
       "5708-EVONK    False\n",
       "7024-OHCCK    False\n",
       "0366-NQSHS    False\n",
       "7572-KPVKK    False\n",
       "6551-ZCOTS    False\n",
       "9399-APLBT    False\n",
       "8181-YHCMF    False\n",
       "7379-FNIUJ    False\n",
       "3244-DCJWY    False\n",
       "2851-STERV    False\n",
       "Length: 4922, dtype: bool"
      ]
     },
     "execution_count": 39,
     "metadata": {},
     "output_type": "execute_result"
    }
   ],
   "source": [
    "#train[\"contract_type_id\"].value_counts()\n",
    "(train.tenure == 12) & (train.contract_type_id == \"month_to_month\")"
   ]
  },
  {
   "cell_type": "markdown",
   "metadata": {},
   "source": [
    "5. Use a t-test to find out of the monthly charges of those who have\n",
    "churned is significantly higher thatn those who have not. Control for:\n",
    "(phone_id, internet_service_type_id, online_security_backup, device_protection, \n",
    "tech_support, and contract_type_id)\n"
   ]
  },
  {
   "cell_type": "markdown",
   "metadata": {},
   "source": [
    "- Customers with DSL who have not churned:"
   ]
  },
  {
   "cell_type": "code",
   "execution_count": 40,
   "metadata": {},
   "outputs": [],
   "source": [
    "no_churn_dsl = train[(train[\"internet_service_type_id\"] == 1) & (train[\"churn\"] == False)]"
   ]
  },
  {
   "cell_type": "markdown",
   "metadata": {},
   "source": [
    "- Customers with DSL who have churned:"
   ]
  },
  {
   "cell_type": "code",
   "execution_count": 41,
   "metadata": {},
   "outputs": [],
   "source": [
    "churn_dsl = train[(train[\"internet_service_type_id\"] == 1) & (train[\"churn\"] == True)]"
   ]
  },
  {
   "cell_type": "markdown",
   "metadata": {},
   "source": [
    "- Customers with Fiber who have not churned:"
   ]
  },
  {
   "cell_type": "code",
   "execution_count": 42,
   "metadata": {},
   "outputs": [],
   "source": [
    "no_churn_fiber = train[(train[\"internet_service_type_id\"] == 2) & (train[\"churn\"] == False)]"
   ]
  },
  {
   "cell_type": "markdown",
   "metadata": {},
   "source": [
    "- Customers with DSL who have churned:"
   ]
  },
  {
   "cell_type": "code",
   "execution_count": 43,
   "metadata": {},
   "outputs": [
    {
     "data": {
      "text/plain": [
       "pandas.core.frame.DataFrame"
      ]
     },
     "execution_count": 43,
     "metadata": {},
     "output_type": "execute_result"
    }
   ],
   "source": [
    "churn_fiber = train[(train[\"internet_service_type_id\"] == 2) & (train[\"churn\"] == True)]\n",
    "type(churn_fiber)"
   ]
  },
  {
   "cell_type": "markdown",
   "metadata": {},
   "source": [
    "- Calculate mean of monthly_charges for DSL customers who have not churned."
   ]
  },
  {
   "cell_type": "code",
   "execution_count": 44,
   "metadata": {},
   "outputs": [
    {
     "name": "stdout",
     "output_type": "stream",
     "text": [
      "The mean of monthly charges for DSL customers who have not churned is: \n",
      "60.149708454810494\n"
     ]
    }
   ],
   "source": [
    "dsl_no_churn_monthly = no_churn_dsl[\"monthly_charges\"].mean()\n",
    "print(f\"The mean of monthly charges for DSL customers who have not churned is: \")\n",
    "print(dsl_no_churn_monthly)"
   ]
  },
  {
   "cell_type": "markdown",
   "metadata": {},
   "source": [
    "- Calculate mean of monthly_charges for DSL customers who have churned."
   ]
  },
  {
   "cell_type": "code",
   "execution_count": 45,
   "metadata": {},
   "outputs": [
    {
     "name": "stdout",
     "output_type": "stream",
     "text": [
      "The mean of monthly charges for DSL customers who have churned is: \n",
      "48.97953846153845\n"
     ]
    }
   ],
   "source": [
    "dsl_churn_monthly = churn_dsl[\"monthly_charges\"].mean()\n",
    "print(f\"The mean of monthly charges for DSL customers who have churned is: \")\n",
    "print(dsl_churn_monthly)"
   ]
  },
  {
   "cell_type": "markdown",
   "metadata": {},
   "source": [
    "- Calculate mean of monthly_charges for Fiber customers who have not churned."
   ]
  },
  {
   "cell_type": "code",
   "execution_count": 46,
   "metadata": {},
   "outputs": [
    {
     "name": "stdout",
     "output_type": "stream",
     "text": [
      "The mean of monthly charges for Fiber customers who have not churned is: \n",
      "93.8604299363058\n"
     ]
    }
   ],
   "source": [
    "fiber_no_churn_monthly = no_churn_fiber[\"monthly_charges\"].mean()\n",
    "print(f\"The mean of monthly charges for Fiber customers who have not churned is: \")\n",
    "print(fiber_no_churn_monthly)"
   ]
  },
  {
   "cell_type": "markdown",
   "metadata": {},
   "source": [
    "- Calculate mean of monthly_charges for Fiber customers who have churned."
   ]
  },
  {
   "cell_type": "code",
   "execution_count": 47,
   "metadata": {},
   "outputs": [
    {
     "name": "stdout",
     "output_type": "stream",
     "text": [
      "The mean of monthly charges for Fiber customers who have churned is: \n",
      "88.16048834628198\n"
     ]
    }
   ],
   "source": [
    "fiber_churn_monthly = churn_fiber[\"monthly_charges\"].mean()\n",
    "print(f\"The mean of monthly charges for Fiber customers who have churned is: \")\n",
    "print(fiber_churn_monthly)"
   ]
  },
  {
   "cell_type": "markdown",
   "metadata": {},
   "source": [
    "#### Actual T-test"
   ]
  },
  {
   "cell_type": "code",
   "execution_count": 48,
   "metadata": {},
   "outputs": [
    {
     "name": "stdout",
     "output_type": "stream",
     "text": [
      "The test statistic for DSL customers who churn vs. those who don't churn is: 11.578298166663087\n",
      "The p-value of the test is: \n",
      "6.844185456987299e-30\n"
     ]
    }
   ],
   "source": [
    "test_results = stats.ttest_ind(no_churn_dsl.monthly_charges, churn_dsl.monthly_charges)\n",
    "print(f\"The test statistic for DSL customers who churn vs. those who don't churn is: {test_results[0]}\")\n",
    "print(f\"The p-value of the test is: \")\n",
    "print(test_results[1])"
   ]
  },
  {
   "cell_type": "code",
   "execution_count": 49,
   "metadata": {},
   "outputs": [
    {
     "name": "stdout",
     "output_type": "stream",
     "text": [
      "The test statistic for Fiber customers who churn vs. those who don't churn is: 10.584086721880396\n",
      "The p-value of the test is: \n",
      "1.4796197678260636e-25\n"
     ]
    }
   ],
   "source": [
    "test_results = stats.ttest_ind(no_churn_fiber.monthly_charges, churn_fiber.monthly_charges)\n",
    "print(f\"The test statistic for Fiber customers who churn vs. those who don't churn is: {test_results[0]}\")\n",
    "print(f\"The p-value of the test is: \")\n",
    "print(test_results[1])"
   ]
  },
  {
   "cell_type": "markdown",
   "metadata": {},
   "source": [
    "6. Perform a correlation test, stating hypothesis and conclusion clearly that states if monthly charges can be explained by internet_service_type\n"
   ]
  },
  {
   "cell_type": "markdown",
   "metadata": {},
   "source": [
    "$H_0$: The Null Hypothesis is that the monthly charges cannot be explained by internet_service_type."
   ]
  },
  {
   "cell_type": "markdown",
   "metadata": {},
   "source": [
    "$H_a$: The Null Hypothesis is that the monthly charges can be explained by internet_service_type."
   ]
  },
  {
   "cell_type": "code",
   "execution_count": null,
   "metadata": {},
   "outputs": [],
   "source": []
  },
  {
   "cell_type": "code",
   "execution_count": null,
   "metadata": {},
   "outputs": [],
   "source": []
  },
  {
   "cell_type": "markdown",
   "metadata": {},
   "source": [
    "7. How much of monthly_charges can be explained by internet_service_type + phone service type (0, 1, or multiple lines). State your hypotheses and your conclusion clearly.\n",
    "\n",
    "\n"
   ]
  },
  {
   "cell_type": "markdown",
   "metadata": {},
   "source": [
    "$H_0$: The Null Hypothesis is that the monthly charges cannot be explained by internet_service_type + phone_service_type."
   ]
  },
  {
   "cell_type": "markdown",
   "metadata": {},
   "source": [
    "$H_a$: The Null Hypothesis is that the monthly charges can be explained by internet_service_type + phone_service_type."
   ]
  },
  {
   "cell_type": "code",
   "execution_count": null,
   "metadata": {},
   "outputs": [],
   "source": []
  },
  {
   "cell_type": "markdown",
   "metadata": {},
   "source": [
    "9. What can you say about each variable's relationship to churn, based on your initial exploration? If there appears to be some sort of interaction or correlation, assume there is no causal relationship and brainstorm (and document) ideas on reasons there could be correlation.\n",
    "\n",
    "\n"
   ]
  },
  {
   "cell_type": "code",
   "execution_count": null,
   "metadata": {},
   "outputs": [],
   "source": []
  },
  {
   "cell_type": "markdown",
   "metadata": {},
   "source": [
    "### Scale Data Using MinMaxScaler"
   ]
  },
  {
   "cell_type": "code",
   "execution_count": 50,
   "metadata": {},
   "outputs": [],
   "source": [
    "column_list = [\"monthly_charges\", \"total_charges\", \"tenure\", \"completed_years\"]\n",
    "x_train, x_test, scaler = scale_minmax(x_train, x_test, column_list)"
   ]
  },
  {
   "cell_type": "code",
   "execution_count": 51,
   "metadata": {},
   "outputs": [
    {
     "data": {
      "text/plain": [
       "(4922, 1)"
      ]
     },
     "execution_count": 51,
     "metadata": {},
     "output_type": "execute_result"
    }
   ],
   "source": [
    "x_train.head()\n",
    "y_train.shape"
   ]
  },
  {
   "cell_type": "markdown",
   "metadata": {},
   "source": [
    "### Use SelectKBest to Explore Feature Selection"
   ]
  },
  {
   "cell_type": "code",
   "execution_count": 52,
   "metadata": {},
   "outputs": [
    {
     "name": "stdout",
     "output_type": "stream",
     "text": [
      "10 selected features\n",
      "['contract_type_id', 'tenure', 'total_charges', 'completed_years', 'fiber', 'none', 'monthly', '2-year', 'tenure_scaled', 'completed_years_scaled']\n"
     ]
    }
   ],
   "source": [
    "f_selector = SelectKBest(f_regression, k=10)\n",
    "\n",
    "f_selector.fit(x_train, y_train)\n",
    "\n",
    "f_support = f_selector.get_support()\n",
    "f_feature = x_train.loc[:,f_support].columns.tolist()\n",
    "\n",
    "print(str(len(f_feature)), 'selected features')\n",
    "print(f_feature)"
   ]
  },
  {
   "cell_type": "markdown",
   "metadata": {},
   "source": [
    "### Modeling"
   ]
  },
  {
   "cell_type": "markdown",
   "metadata": {},
   "source": [
    "#### Feature selection: can you remove any features that provide limited to no additional info?\n"
   ]
  },
  {
   "cell_type": "code",
   "execution_count": 53,
   "metadata": {},
   "outputs": [],
   "source": [
    "x_train.drop(columns=[\"internet_service_type_id\", \"contract_type_id\", \"monthly_charges\", \"total_charges\", \"tenure\", \"completed_years\", \"tenure_scaled\"], axis=1, inplace=True)"
   ]
  },
  {
   "cell_type": "code",
   "execution_count": 54,
   "metadata": {},
   "outputs": [],
   "source": [
    "x_test.drop(columns=[\"internet_service_type_id\", \"contract_type_id\", \"tenure_scaled\", \"monthly_charges\", \"total_charges\", \"tenure\", \"completed_years\"], axis=1, inplace=True)"
   ]
  },
  {
   "cell_type": "code",
   "execution_count": 55,
   "metadata": {},
   "outputs": [
    {
     "data": {
      "text/plain": [
       "Index(['gender', 'senior_citizen', 'phone_service', 'multiple_lines', 'family',\n",
       "       'streaming_services', 'online_services', 'dsl', 'fiber', 'none',\n",
       "       'monthly', '1-year', '2-year', 'monthly_charges_scaled',\n",
       "       'total_charges_scaled', 'completed_years_scaled'],\n",
       "      dtype='object')"
      ]
     },
     "execution_count": 55,
     "metadata": {},
     "output_type": "execute_result"
    }
   ],
   "source": [
    "x_train.columns"
   ]
  },
  {
   "cell_type": "markdown",
   "metadata": {},
   "source": [
    "- I tried the below variables based on correlations from the heatmap and findings in Exploration, but the above combination returned the highest results from my models, so I went with those selections."
   ]
  },
  {
   "cell_type": "code",
   "execution_count": 56,
   "metadata": {},
   "outputs": [],
   "source": [
    "#x_train = x_train[['fiber', 'none', 'monthly', '2-year', 'completed_years_scaled', 'online_services']]"
   ]
  },
  {
   "cell_type": "code",
   "execution_count": 57,
   "metadata": {},
   "outputs": [],
   "source": [
    "#x_test = x_test[['fiber', 'none', 'monthly', '2-year', 'completed_years_scaled', 'online_services']]"
   ]
  },
  {
   "cell_type": "markdown",
   "metadata": {},
   "source": [
    "## Train Baseline Model\n",
    "\n",
    "### Create the Decision Tree Object"
   ]
  },
  {
   "cell_type": "code",
   "execution_count": 58,
   "metadata": {},
   "outputs": [],
   "source": [
    "\n",
    "clf = DecisionTreeClassifier(max_depth=7, random_state=123)"
   ]
  },
  {
   "cell_type": "markdown",
   "metadata": {},
   "source": [
    "### Fit the model to the training data"
   ]
  },
  {
   "cell_type": "code",
   "execution_count": 59,
   "metadata": {},
   "outputs": [
    {
     "data": {
      "text/plain": [
       "(4922, 16)"
      ]
     },
     "execution_count": 59,
     "metadata": {},
     "output_type": "execute_result"
    }
   ],
   "source": [
    "x_train.shape"
   ]
  },
  {
   "cell_type": "code",
   "execution_count": 60,
   "metadata": {},
   "outputs": [
    {
     "data": {
      "text/plain": [
       "(4922, 1)"
      ]
     },
     "execution_count": 60,
     "metadata": {},
     "output_type": "execute_result"
    }
   ],
   "source": [
    "y_train.shape"
   ]
  },
  {
   "cell_type": "code",
   "execution_count": 61,
   "metadata": {},
   "outputs": [
    {
     "data": {
      "text/plain": [
       "DecisionTreeClassifier(class_weight=None, criterion='gini', max_depth=7,\n",
       "                       max_features=None, max_leaf_nodes=None,\n",
       "                       min_impurity_decrease=0.0, min_impurity_split=None,\n",
       "                       min_samples_leaf=1, min_samples_split=2,\n",
       "                       min_weight_fraction_leaf=0.0, presort=False,\n",
       "                       random_state=123, splitter='best')"
      ]
     },
     "execution_count": 61,
     "metadata": {},
     "output_type": "execute_result"
    }
   ],
   "source": [
    "clf.fit(x_train, y_train)"
   ]
  },
  {
   "cell_type": "markdown",
   "metadata": {},
   "source": [
    "### Estimate Churn"
   ]
  },
  {
   "cell_type": "code",
   "execution_count": 62,
   "metadata": {},
   "outputs": [
    {
     "data": {
      "text/plain": [
       "(4922,)"
      ]
     },
     "execution_count": 62,
     "metadata": {},
     "output_type": "execute_result"
    }
   ],
   "source": [
    "y_pred = clf.predict(x_train)\n",
    "y_pred.shape"
   ]
  },
  {
   "cell_type": "markdown",
   "metadata": {},
   "source": [
    "### Estimate the probability of churn"
   ]
  },
  {
   "cell_type": "code",
   "execution_count": 63,
   "metadata": {},
   "outputs": [
    {
     "data": {
      "text/plain": [
       "(4922, 2)"
      ]
     },
     "execution_count": 63,
     "metadata": {},
     "output_type": "execute_result"
    }
   ],
   "source": [
    "y_pred_proba = clf.predict_proba(x_train)\n",
    "y_pred_proba.shape"
   ]
  },
  {
   "cell_type": "markdown",
   "metadata": {},
   "source": [
    "## Evaluate Model\n"
   ]
  },
  {
   "cell_type": "code",
   "execution_count": 64,
   "metadata": {},
   "outputs": [
    {
     "name": "stdout",
     "output_type": "stream",
     "text": [
      "Accuracy of Decision Tree classifier on training set: 0.81\n"
     ]
    }
   ],
   "source": [
    "print('Accuracy of Decision Tree classifier on training set: {:.2f}'\n",
    "     .format(clf.score(x_train, y_train)))"
   ]
  },
  {
   "cell_type": "markdown",
   "metadata": {},
   "source": [
    "## Create a confusion matrix\n",
    "\n",
    "- True Positive: number of occurrences where y is true and y is predicted true.\n",
    "\n",
    "- True Negative: number of occurrences where y is false and y is predicted false.\n",
    "\n",
    "- False Positive: number of occurrences where y is false and y is predicted true.\n",
    "\n",
    "- False Negative: number of occurrences where y is true and y is predicted false.\n"
   ]
  },
  {
   "cell_type": "code",
   "execution_count": 65,
   "metadata": {},
   "outputs": [
    {
     "data": {
      "text/html": [
       "<div>\n",
       "<style scoped>\n",
       "    .dataframe tbody tr th:only-of-type {\n",
       "        vertical-align: middle;\n",
       "    }\n",
       "\n",
       "    .dataframe tbody tr th {\n",
       "        vertical-align: top;\n",
       "    }\n",
       "\n",
       "    .dataframe thead th {\n",
       "        text-align: right;\n",
       "    }\n",
       "</style>\n",
       "<table border=\"1\" class=\"dataframe\">\n",
       "  <thead>\n",
       "    <tr style=\"text-align: right;\">\n",
       "      <th></th>\n",
       "      <th>0</th>\n",
       "      <th>1</th>\n",
       "    </tr>\n",
       "  </thead>\n",
       "  <tbody>\n",
       "    <tr>\n",
       "      <th>0</th>\n",
       "      <td>3344</td>\n",
       "      <td>270</td>\n",
       "    </tr>\n",
       "    <tr>\n",
       "      <th>1</th>\n",
       "      <td>661</td>\n",
       "      <td>647</td>\n",
       "    </tr>\n",
       "  </tbody>\n",
       "</table>\n",
       "</div>"
      ],
      "text/plain": [
       "      0    1\n",
       "0  3344  270\n",
       "1   661  647"
      ]
     },
     "execution_count": 65,
     "metadata": {},
     "output_type": "execute_result"
    }
   ],
   "source": [
    "cm = pd.DataFrame(confusion_matrix(y_train, y_pred))\n",
    "cm"
   ]
  },
  {
   "cell_type": "markdown",
   "metadata": {},
   "source": [
    "### Findings After Running Decision Tree Model with Unscaled Data and a maxdepth of 3\n",
    "\n",
    "- This confustion matrix tells me that my model is better at predicting True Negatives than True Positives.\n",
    "\n",
    "\n",
    "- The model predicts at an overall accuracy rate of 78%\n",
    "\n",
    "\n",
    "- However, the Recall rate for customers who churn is 37% which means that the model is not predicting the positives for churn very well. It is at 93% for predicting the customers who will not churn, so my model is out of balance. \n",
    "\n",
    "\n",
    "- I want to be able to better predict the customers who will churn, so we can create personas and more accurately target them with strategies that will keep them from churning."
   ]
  },
  {
   "cell_type": "markdown",
   "metadata": {},
   "source": [
    "### Findings After Running Decision Tree with Scaled Data and a max_depth of 7\n",
    "\n",
    "- The model now predicts at an overall accuracy rate of 81%.\n",
    "\n",
    "\n",
    "- The True Recall rate for customers who churn has gone up to 49% and stayed at 93% for the False Recall rate. The model is still better at predicting customers who will not churn than those who will. However, it is much improved. I will decide on the best model after I see how the model performs with the test data."
   ]
  },
  {
   "cell_type": "markdown",
   "metadata": {},
   "source": [
    "### Create a classification report\n",
    "\n",
    "- Precision: the higher this number is, the more you were able to pinpoint all positives correctly. If this is a low score, you predicted a lot of positives where there were none. tp / (tp + fp)\n",
    "\n",
    "\n",
    "- Recall: if this score is high, you didn’t miss a lot of positives. But as it gets lower, you are not predicting the positives that are actually there. tp / (tp + fn)\n",
    "\n",
    "\n",
    "- f1-score: The balanced harmonic mean of Recall and Precision, giving both metrics equal weight. The higher the F-Measure is, the better.\n",
    "\n",
    "\n",
    "- Support: number of occurrences of each class in where y is true."
   ]
  },
  {
   "cell_type": "code",
   "execution_count": 66,
   "metadata": {},
   "outputs": [
    {
     "name": "stdout",
     "output_type": "stream",
     "text": [
      "              precision    recall  f1-score   support\n",
      "\n",
      "       False       0.83      0.93      0.88      3614\n",
      "        True       0.71      0.49      0.58      1308\n",
      "\n",
      "    accuracy                           0.81      4922\n",
      "   macro avg       0.77      0.71      0.73      4922\n",
      "weighted avg       0.80      0.81      0.80      4922\n",
      "\n"
     ]
    }
   ],
   "source": [
    "print(classification_report(y_train, y_pred))"
   ]
  },
  {
   "cell_type": "markdown",
   "metadata": {},
   "source": [
    "## Train Model \n",
    "\n",
    "### Create the Logistic Regression Object"
   ]
  },
  {
   "cell_type": "code",
   "execution_count": 67,
   "metadata": {},
   "outputs": [],
   "source": [
    "logit = LogisticRegression(random_state = 123, solver='saga')"
   ]
  },
  {
   "cell_type": "markdown",
   "metadata": {},
   "source": [
    "### Train \n",
    "\n",
    "- (fit, transform, evaluate) multiple models and select the best performing model.\n"
   ]
  },
  {
   "cell_type": "code",
   "execution_count": 68,
   "metadata": {},
   "outputs": [
    {
     "data": {
      "text/plain": [
       "LogisticRegression(C=1.0, class_weight=None, dual=False, fit_intercept=True,\n",
       "                   intercept_scaling=1, l1_ratio=None, max_iter=100,\n",
       "                   multi_class='warn', n_jobs=None, penalty='l2',\n",
       "                   random_state=123, solver='saga', tol=0.0001, verbose=0,\n",
       "                   warm_start=False)"
      ]
     },
     "execution_count": 68,
     "metadata": {},
     "output_type": "execute_result"
    }
   ],
   "source": [
    "logit.fit(x_train, y_train)"
   ]
  },
  {
   "cell_type": "markdown",
   "metadata": {},
   "source": [
    "### Compare eval metrics across all the models and select best performing\n"
   ]
  },
  {
   "cell_type": "markdown",
   "metadata": {},
   "source": [
    "- Print the coefficients and intercept of the model\n"
   ]
  },
  {
   "cell_type": "code",
   "execution_count": 69,
   "metadata": {},
   "outputs": [
    {
     "name": "stdout",
     "output_type": "stream",
     "text": [
      "Coefficient: \n",
      " [[ 0.08038939  0.28686623 -0.89606896  0.22892512 -0.15411953  0.17157096\n",
      "  -0.52405069 -0.07908435  0.77494864 -0.70468308  0.85249089  0.04535691\n",
      "  -0.90666659  0.9726041   0.32676668 -2.26570296]]\n",
      "Intercept: \n",
      " [-0.58988963]\n"
     ]
    }
   ],
   "source": [
    "print('Coefficient: \\n', logit.coef_)\n",
    "print('Intercept: \\n', logit.intercept_)"
   ]
  },
  {
   "cell_type": "markdown",
   "metadata": {},
   "source": [
    "### Estimate whether or not a customer will churn\n"
   ]
  },
  {
   "cell_type": "code",
   "execution_count": 70,
   "metadata": {},
   "outputs": [
    {
     "data": {
      "text/plain": [
       "(4922,)"
      ]
     },
     "execution_count": 70,
     "metadata": {},
     "output_type": "execute_result"
    }
   ],
   "source": [
    "y_pred = logit.predict(x_train)\n",
    "y_pred.shape"
   ]
  },
  {
   "cell_type": "markdown",
   "metadata": {},
   "source": [
    "### Estimate the probability of a customer churning using the train data"
   ]
  },
  {
   "cell_type": "code",
   "execution_count": 71,
   "metadata": {},
   "outputs": [
    {
     "data": {
      "text/plain": [
       "(4922, 2)"
      ]
     },
     "execution_count": 71,
     "metadata": {},
     "output_type": "execute_result"
    }
   ],
   "source": [
    "y_pred_proba = logit.predict_proba(x_train)\n",
    "y_pred_proba.shape"
   ]
  },
  {
   "cell_type": "markdown",
   "metadata": {},
   "source": [
    "### Evaluate\n",
    "\n",
    "- Compute the accuracy\n"
   ]
  },
  {
   "cell_type": "code",
   "execution_count": 72,
   "metadata": {},
   "outputs": [
    {
     "name": "stdout",
     "output_type": "stream",
     "text": [
      "Accuracy of Logistic Regression classifier on training set: 0.80\n"
     ]
    }
   ],
   "source": [
    "print('Accuracy of Logistic Regression classifier on training set: {:.2f}'\n",
    "     .format(logit.score(x_train, y_train)))\n"
   ]
  },
  {
   "cell_type": "markdown",
   "metadata": {},
   "source": [
    "### Create a confusion matrix\n"
   ]
  },
  {
   "cell_type": "code",
   "execution_count": 73,
   "metadata": {},
   "outputs": [
    {
     "name": "stdout",
     "output_type": "stream",
     "text": [
      "[[3249  365]\n",
      " [ 631  677]]\n"
     ]
    }
   ],
   "source": [
    "print(confusion_matrix(y_train, y_pred))"
   ]
  },
  {
   "cell_type": "markdown",
   "metadata": {},
   "source": [
    "### Compute Precision, Recall, F1-score, and Support\n",
    "\n",
    "- Precision: the higher this number is, the more you were able to pinpoint all positives correctly. If this is a low score, you predicted a lot of positives where there were none. tp / (tp + fp)\n",
    "\n",
    "\n",
    "- Recall: if this score is high, you didn’t miss a lot of positives. But as it gets lower, you are not predicting the positives that are actually there. tp / (tp + fn)\n",
    "\n",
    "\n",
    "- f1-score: The balanced harmonic mean of Recall and Precision, giving both metrics equal weight. The higher the F-Measure is, the better.\n",
    "\n",
    "\n",
    "- Support: number of occurrences of each class in where y is true."
   ]
  },
  {
   "cell_type": "code",
   "execution_count": 74,
   "metadata": {},
   "outputs": [
    {
     "name": "stdout",
     "output_type": "stream",
     "text": [
      "              precision    recall  f1-score   support\n",
      "\n",
      "       False       0.84      0.90      0.87      3614\n",
      "        True       0.65      0.52      0.58      1308\n",
      "\n",
      "    accuracy                           0.80      4922\n",
      "   macro avg       0.74      0.71      0.72      4922\n",
      "weighted avg       0.79      0.80      0.79      4922\n",
      "\n"
     ]
    }
   ],
   "source": [
    "print(classification_report(y_train, y_pred))"
   ]
  },
  {
   "cell_type": "code",
   "execution_count": 75,
   "metadata": {},
   "outputs": [
    {
     "data": {
      "text/plain": [
       "(4922, 1)"
      ]
     },
     "execution_count": 75,
     "metadata": {},
     "output_type": "execute_result"
    }
   ],
   "source": [
    "y_train.shape"
   ]
  },
  {
   "cell_type": "markdown",
   "metadata": {},
   "source": [
    "### Findings After Training Decision Tree Baseline v. Logistic Regression Models with Unscaled Data"
   ]
  },
  {
   "cell_type": "markdown",
   "metadata": {},
   "source": [
    "- The Logistic Regression model predicts at an overall accuracy rate of 78%\n",
    "\n",
    "\n",
    "- However, the Recall rate for customers who churn using the Logistic Regression model is 48% as opposed to the 36% Recall rate for the Decision Tree model. It is at 87% for predicting the customers who will not churn, as opposed to the 93% Recall rate for customers who will not churn using the decision tree.\n",
    "\n",
    "\n",
    "- This LR model DOES better predict the customers who will churn than the Decision Tree model, but I still want to do feature selection and engineering to improve my model's accuracy at predicting suctomer churn."
   ]
  },
  {
   "cell_type": "markdown",
   "metadata": {},
   "source": [
    "### Findings After Going Back and Merging Columns and Feature Engineering"
   ]
  },
  {
   "cell_type": "markdown",
   "metadata": {},
   "source": [
    "- The Logistic Regression model topped out at 80% overall accuracy, but more importantly if sent up from a 36% Recall rate to 52% Recall. I will have to see how this model performs on the test data to decide on the best model.\n",
    "\n",
    "\n",
    "- I used SelectKBest to find the best combinations of variables to feed in to my model. I used different combinations of features in my train set based on the recommendations, but in the end, my model returned the best results when I handpicked variables based on the correlations I saw in my heatmap in exploration. "
   ]
  },
  {
   "cell_type": "markdown",
   "metadata": {},
   "source": [
    "### Decision Tree Model Test \n",
    "\n",
    "- Test the final model and evaluate on your out-of-sample data. Summarize the performance, interpret results.\n"
   ]
  },
  {
   "cell_type": "code",
   "execution_count": 76,
   "metadata": {},
   "outputs": [
    {
     "name": "stdout",
     "output_type": "stream",
     "text": [
      "Accuracy of Decision Tree classifier on training set: 0.80\n"
     ]
    }
   ],
   "source": [
    "print('Accuracy of Decision Tree classifier on training set: {:.2f}'\n",
    "     .format(clf.score(x_test, y_test)))"
   ]
  },
  {
   "cell_type": "code",
   "execution_count": 77,
   "metadata": {},
   "outputs": [
    {
     "data": {
      "text/plain": [
       "(2110,)"
      ]
     },
     "execution_count": 77,
     "metadata": {},
     "output_type": "execute_result"
    }
   ],
   "source": [
    "y_pred = clf.predict(x_test)\n",
    "y_pred.shape"
   ]
  },
  {
   "cell_type": "code",
   "execution_count": 78,
   "metadata": {},
   "outputs": [
    {
     "data": {
      "text/plain": [
       "(2110, 2)"
      ]
     },
     "execution_count": 78,
     "metadata": {},
     "output_type": "execute_result"
    }
   ],
   "source": [
    "y_pred_proba = clf.predict_proba(x_test)\n",
    "y_pred_proba.shape"
   ]
  },
  {
   "cell_type": "code",
   "execution_count": 79,
   "metadata": {},
   "outputs": [
    {
     "name": "stdout",
     "output_type": "stream",
     "text": [
      "              precision    recall  f1-score   support\n",
      "\n",
      "       False       0.83      0.92      0.87      1549\n",
      "        True       0.67      0.47      0.55       561\n",
      "\n",
      "    accuracy                           0.80      2110\n",
      "   macro avg       0.75      0.69      0.71      2110\n",
      "weighted avg       0.78      0.80      0.78      2110\n",
      "\n"
     ]
    }
   ],
   "source": [
    "print(classification_report(y_test, y_pred))"
   ]
  },
  {
   "cell_type": "markdown",
   "metadata": {},
   "source": [
    "### Logistic Classification Model Test\n",
    "\n",
    "- Test the final model and evaluate on your out-of-sample data. Summarize the performance, interpret results."
   ]
  },
  {
   "cell_type": "code",
   "execution_count": 80,
   "metadata": {},
   "outputs": [
    {
     "data": {
      "text/plain": [
       "(2110,)"
      ]
     },
     "execution_count": 80,
     "metadata": {},
     "output_type": "execute_result"
    }
   ],
   "source": [
    "y_pred = logit.predict(x_test)\n",
    "y_pred.shape"
   ]
  },
  {
   "cell_type": "code",
   "execution_count": 81,
   "metadata": {},
   "outputs": [
    {
     "data": {
      "text/plain": [
       "(2110, 2)"
      ]
     },
     "execution_count": 81,
     "metadata": {},
     "output_type": "execute_result"
    }
   ],
   "source": [
    "y_pred_proba = logit.predict_proba(x_test)\n",
    "y_pred_proba.shape"
   ]
  },
  {
   "cell_type": "code",
   "execution_count": 82,
   "metadata": {},
   "outputs": [
    {
     "name": "stdout",
     "output_type": "stream",
     "text": [
      "Accuracy of Logistic Regression classifier on training set: 0.81\n"
     ]
    }
   ],
   "source": [
    "print('Accuracy of Logistic Regression classifier on training set: {:.2f}'\n",
    "     .format(logit.score(x_test, y_test)))"
   ]
  },
  {
   "cell_type": "code",
   "execution_count": 83,
   "metadata": {},
   "outputs": [
    {
     "name": "stdout",
     "output_type": "stream",
     "text": [
      "              precision    recall  f1-score   support\n",
      "\n",
      "       False       0.84      0.91      0.87      1549\n",
      "        True       0.68      0.53      0.59       561\n",
      "\n",
      "    accuracy                           0.81      2110\n",
      "   macro avg       0.76      0.72      0.73      2110\n",
      "weighted avg       0.80      0.81      0.80      2110\n",
      "\n"
     ]
    }
   ],
   "source": [
    "print(classification_report(y_test, y_pred))"
   ]
  },
  {
   "cell_type": "markdown",
   "metadata": {},
   "source": [
    "### The model that returned the best results when run on the test data was the Logistic Regression using the following features to predict:"
   ]
  },
  {
   "cell_type": "markdown",
   "metadata": {},
   "source": [
    "- gender, senior_citizen, phone_service, multiple_lines, family, streaming_services, online_services, dsl, fiber, none, (all three internet services) monthly, 1-year, 2-year, monthly_charges_scaled, total_charges_scaled, completed_years_scaled\n",
    "\n",
    "\n",
    "- The model's overall accuracy is at 81%, which is higher than any of the baseline models, coupled with the improved True Recall at 53% and the False Recall at a high 91%.\n",
    "\n",
    "\n",
    "- The model is still not as high as I would like in the True Recall category, but this is the best rate I have gotten so far. \n",
    "\n",
    "\n",
    "- With more time, I think it would be a good idea to look into running models using features based on the results of subsetting data in exploration. \n",
    "\n",
    "\n",
    "- I would also like to see the exploration of subsets of data (internet service types, contract types, family structure, age group) lead to creating customer profiles. Customers are not all the same, and they need to be targeted based on needs assessment. \n",
    "\n",
    "\n",
    "- I also think that customer surveys would be a good idea in the creation of these profiles. Incentives could be given to fill out and return surveys, so that we could add feedback information to our database."
   ]
  },
  {
   "cell_type": "markdown",
   "metadata": {},
   "source": [
    "### Create csv file with customer_id, probability of churn, and prediction of churn"
   ]
  },
  {
   "cell_type": "code",
   "execution_count": 84,
   "metadata": {},
   "outputs": [],
   "source": [
    "df_concat = pd.concat([x_train, x_test])"
   ]
  },
  {
   "cell_type": "code",
   "execution_count": 85,
   "metadata": {},
   "outputs": [
    {
     "data": {
      "text/plain": [
       "(7032, 16)"
      ]
     },
     "execution_count": 85,
     "metadata": {},
     "output_type": "execute_result"
    }
   ],
   "source": [
    "df_concat.shape"
   ]
  },
  {
   "cell_type": "code",
   "execution_count": 88,
   "metadata": {},
   "outputs": [],
   "source": [
    "prediction = logit.predict(df_concat)"
   ]
  },
  {
   "cell_type": "code",
   "execution_count": 89,
   "metadata": {},
   "outputs": [],
   "source": [
    "y_pred_proba = logit.predict_proba(df_concat)"
   ]
  },
  {
   "cell_type": "code",
   "execution_count": 95,
   "metadata": {},
   "outputs": [],
   "source": [
    "y_predictions = pd.DataFrame({\"probability\": y_pred_proba[:,1], \"predictions\": (y_pred_proba[:, 1] >= .5) == 1})"
   ]
  },
  {
   "cell_type": "code",
   "execution_count": 96,
   "metadata": {},
   "outputs": [
    {
     "data": {
      "text/html": [
       "<div>\n",
       "<style scoped>\n",
       "    .dataframe tbody tr th:only-of-type {\n",
       "        vertical-align: middle;\n",
       "    }\n",
       "\n",
       "    .dataframe tbody tr th {\n",
       "        vertical-align: top;\n",
       "    }\n",
       "\n",
       "    .dataframe thead th {\n",
       "        text-align: right;\n",
       "    }\n",
       "</style>\n",
       "<table border=\"1\" class=\"dataframe\">\n",
       "  <thead>\n",
       "    <tr style=\"text-align: right;\">\n",
       "      <th></th>\n",
       "      <th>probability</th>\n",
       "      <th>predictions</th>\n",
       "    </tr>\n",
       "  </thead>\n",
       "  <tbody>\n",
       "    <tr>\n",
       "      <th>0</th>\n",
       "      <td>0.155322</td>\n",
       "      <td>False</td>\n",
       "    </tr>\n",
       "    <tr>\n",
       "      <th>1</th>\n",
       "      <td>0.675331</td>\n",
       "      <td>True</td>\n",
       "    </tr>\n",
       "    <tr>\n",
       "      <th>2</th>\n",
       "      <td>0.013949</td>\n",
       "      <td>False</td>\n",
       "    </tr>\n",
       "    <tr>\n",
       "      <th>3</th>\n",
       "      <td>0.120242</td>\n",
       "      <td>False</td>\n",
       "    </tr>\n",
       "    <tr>\n",
       "      <th>4</th>\n",
       "      <td>0.586001</td>\n",
       "      <td>True</td>\n",
       "    </tr>\n",
       "  </tbody>\n",
       "</table>\n",
       "</div>"
      ],
      "text/plain": [
       "   probability  predictions\n",
       "0     0.155322        False\n",
       "1     0.675331         True\n",
       "2     0.013949        False\n",
       "3     0.120242        False\n",
       "4     0.586001         True"
      ]
     },
     "execution_count": 96,
     "metadata": {},
     "output_type": "execute_result"
    }
   ],
   "source": [
    "y_predictions.head()"
   ]
  },
  {
   "cell_type": "code",
   "execution_count": 97,
   "metadata": {},
   "outputs": [],
   "source": [
    "y_predictions = y_predictions.set_index(df.index)"
   ]
  },
  {
   "cell_type": "code",
   "execution_count": 98,
   "metadata": {},
   "outputs": [
    {
     "data": {
      "text/html": [
       "<div>\n",
       "<style scoped>\n",
       "    .dataframe tbody tr th:only-of-type {\n",
       "        vertical-align: middle;\n",
       "    }\n",
       "\n",
       "    .dataframe tbody tr th {\n",
       "        vertical-align: top;\n",
       "    }\n",
       "\n",
       "    .dataframe thead th {\n",
       "        text-align: right;\n",
       "    }\n",
       "</style>\n",
       "<table border=\"1\" class=\"dataframe\">\n",
       "  <thead>\n",
       "    <tr style=\"text-align: right;\">\n",
       "      <th></th>\n",
       "      <th>probability</th>\n",
       "      <th>predictions</th>\n",
       "    </tr>\n",
       "    <tr>\n",
       "      <th>customer_id</th>\n",
       "      <th></th>\n",
       "      <th></th>\n",
       "    </tr>\n",
       "  </thead>\n",
       "  <tbody>\n",
       "    <tr>\n",
       "      <th>0003-MKNFE</th>\n",
       "      <td>0.155322</td>\n",
       "      <td>False</td>\n",
       "    </tr>\n",
       "    <tr>\n",
       "      <th>0013-MHZWF</th>\n",
       "      <td>0.675331</td>\n",
       "      <td>True</td>\n",
       "    </tr>\n",
       "    <tr>\n",
       "      <th>0015-UOCOJ</th>\n",
       "      <td>0.013949</td>\n",
       "      <td>False</td>\n",
       "    </tr>\n",
       "    <tr>\n",
       "      <th>0023-HGHWL</th>\n",
       "      <td>0.120242</td>\n",
       "      <td>False</td>\n",
       "    </tr>\n",
       "    <tr>\n",
       "      <th>0032-PGELS</th>\n",
       "      <td>0.586001</td>\n",
       "      <td>True</td>\n",
       "    </tr>\n",
       "  </tbody>\n",
       "</table>\n",
       "</div>"
      ],
      "text/plain": [
       "             probability  predictions\n",
       "customer_id                          \n",
       "0003-MKNFE      0.155322        False\n",
       "0013-MHZWF      0.675331         True\n",
       "0015-UOCOJ      0.013949        False\n",
       "0023-HGHWL      0.120242        False\n",
       "0032-PGELS      0.586001         True"
      ]
     },
     "execution_count": 98,
     "metadata": {},
     "output_type": "execute_result"
    }
   ],
   "source": [
    "y_predictions.head()"
   ]
  },
  {
   "cell_type": "code",
   "execution_count": 99,
   "metadata": {},
   "outputs": [],
   "source": [
    "y_predictions.to_csv(r\"probability_and_predictions.csv\")"
   ]
  },
  {
   "cell_type": "code",
   "execution_count": 102,
   "metadata": {},
   "outputs": [
    {
     "data": {
      "text/plain": [
       "0.21075085324232082"
      ]
     },
     "execution_count": 102,
     "metadata": {},
     "output_type": "execute_result"
    }
   ],
   "source": [
    "y_predictions[\"predictions\"].sum() / y_predictions[\"predictions\"].count()"
   ]
  },
  {
   "cell_type": "code",
   "execution_count": null,
   "metadata": {},
   "outputs": [],
   "source": [
    "y_predictions[\"probability\"]"
   ]
  }
 ],
 "metadata": {
  "kernelspec": {
   "display_name": "Python 3",
   "language": "python",
   "name": "python3"
  },
  "language_info": {
   "codemirror_mode": {
    "name": "ipython",
    "version": 3
   },
   "file_extension": ".py",
   "mimetype": "text/x-python",
   "name": "python",
   "nbconvert_exporter": "python",
   "pygments_lexer": "ipython3",
   "version": "3.7.3"
  }
 },
 "nbformat": 4,
 "nbformat_minor": 2
}

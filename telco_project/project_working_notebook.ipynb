{
 "cells": [
  {
   "cell_type": "code",
   "execution_count": 1,
   "metadata": {},
   "outputs": [],
   "source": [
    "import pandas as pd\n",
    "import numpy as np\n",
    "from pydataset import data\n",
    "import seaborn as sns\n",
    "import matplotlib.pyplot as plt\n",
    "%matplotlib inline\n",
    "from scipy import stats\n",
    "\n",
    "from sklearn.model_selection import train_test_split\n",
    "from sklearn.impute import SimpleImputer\n",
    "from sklearn.preprocessing import LabelEncoder, OneHotEncoder, MinMaxScaler\n",
    "from sklearn.model_selection import train_test_split\n",
    "from sklearn.linear_model import LogisticRegression\n",
    "from sklearn.tree import DecisionTreeClassifier\n",
    "from sklearn.tree import export_graphviz\n",
    "from sklearn.metrics import classification_report\n",
    "from sklearn.metrics import confusion_matrix\n",
    "\n",
    "import warnings\n",
    "warnings.filterwarnings(\"ignore\")\n",
    "\n",
    "from telco_pipeline import get_data_from_sql, peekatdata, split, df_value_counts, percent_missing, clean_data, encode, scale_minmax"
   ]
  },
  {
   "cell_type": "markdown",
   "metadata": {},
   "source": [
    "### Walkthroughs before project\n",
    "\n",
    "-What are the profiles of the customers who are churning? In presentation\n",
    "\n",
    "#How do you deal with the column that converts monthly tenure to annual?\n",
    "\n",
    "-Don't just identify that people leave bc they can, but what are the drivers that make them leave?\n",
    "\n",
    "-Answer questions in exploration and analysis stages. Add comments and notes in notebook about why you're doing what you're doing and what your conclusions are.\n",
    "\n",
    "-Don't deliver the data without your assessment of what is going on even if you add \"I would need to assess this, but...\"\n",
    "\n",
    "-This \"leader\" wants to know all of the data behind our assessments. A diagram of the work flow and what you did is great.\n",
    "\n",
    "-How likely is your model to accurately predict churn, return False positives and false negatives?\n",
    "\n",
    "-Your .py files do NOT have to be exactly the ones and names of what is laid out in the project.\n",
    "\n",
    "-If you transform data in a column, then you need to explain why you did that. ie. if you scale data, why did you do that?\n",
    "\n",
    "#Add context (text) to numbers that make them meaningful.\n",
    "\n",
    "-Include Google slide summarizing your model with links in your README.\n",
    "\n",
    "-Project Planning from project outline would be good for the structure of your README file. ie. - data dictionary.\n",
    "\n",
    "-Make a task list that lays out what you need to do at each stage of the pipeline. This could look like headers in your notebook.\n",
    "\n",
    "-Exploration is when you would to do your t-tests, chi-squared tests.\n",
    "\n",
    "-Train multiple models, different algorithms, but also change hyperparameters for the same model. ie. - k=2, k=3, k=4, diff features in same algorithm.\n",
    "\n",
    "-You can decide what your cutoff point will be when deciding what the probability should be to predict churn or not churn at the end.\n",
    "\n",
    "-Baseline #1 is proportion of churn to not churn. Find this rate first! It needs to be better than 60% accurate.\n",
    "\n",
    "-Baseline #2 is doing minimal prep and running it through a model. \n",
    "\n",
    "-Model #3 is your MVP. Explore and answer the required questions. Prepare data to go into other algorithms (encoding or scaling as needed). Some automated feature selection here, too. Make predictions on this data\n",
    "\n",
    "-Other Modeling - to gain more insight but beyond simple answers of basic questions. This would be where you include extra feature engineering. "
   ]
  },
  {
   "cell_type": "markdown",
   "metadata": {},
   "source": [
    "## Need to do\n",
    "\n",
    "- encode internet_service_type_id\n",
    "\n",
    "- decide about combining phone_service and multiple_lines\n",
    "\n",
    "- figure out how to look at tenure cohort\n",
    "\n",
    "- find price threshold for specific services where the liklihood of churn increases\n",
    "\n",
    "- look again at churn rate for month-to-month customers vs 1-year for rate of churn\n",
    "\n",
    "- Google Slide explaining model\n",
    "\n",
    "- Google Presenatation\n",
    "\n",
    "- CSV wth customer_id, probability of churn, and the prediction of churn\n",
    "\n",
    "- .py file that will transform data as needed to replicate findings in notebook"
   ]
  },
  {
   "cell_type": "markdown",
   "metadata": {},
   "source": [
    "### Acquistion\n",
    "\n",
    "- Here I use my function to bring in data using a sql query\n",
    "    \n",
    "- My query brought over everything from all of the tables together,\n",
    "    so I could look at the data before deciding how to clean and process."
   ]
  },
  {
   "cell_type": "code",
   "execution_count": 2,
   "metadata": {},
   "outputs": [],
   "source": [
    "df = get_data_from_sql()"
   ]
  },
  {
   "cell_type": "markdown",
   "metadata": {},
   "source": [
    "### Data Prep"
   ]
  },
  {
   "cell_type": "markdown",
   "metadata": {},
   "source": [
    "- I created a function that returns important info on the dataframe."
   ]
  },
  {
   "cell_type": "code",
   "execution_count": 3,
   "metadata": {},
   "outputs": [
    {
     "name": "stdout",
     "output_type": "stream",
     "text": [
      "DataFrame Shape:\n",
      "\n",
      "(7043, 24)\n",
      "\n",
      "Info about:\n",
      "\n",
      "<class 'pandas.core.frame.DataFrame'>\n",
      "RangeIndex: 7043 entries, 0 to 7042\n",
      "Data columns (total 24 columns):\n",
      "payment_type_id             7043 non-null int64\n",
      "internet_service_type_id    7043 non-null int64\n",
      "contract_type_id            7043 non-null int64\n",
      "customer_id                 7043 non-null object\n",
      "gender                      7043 non-null object\n",
      "senior_citizen              7043 non-null int64\n",
      "partner                     7043 non-null object\n",
      "dependents                  7043 non-null object\n",
      "tenure                      7043 non-null int64\n",
      "phone_service               7043 non-null object\n",
      "multiple_lines              7043 non-null object\n",
      "online_security             7043 non-null object\n",
      "online_backup               7043 non-null object\n",
      "device_protection           7043 non-null object\n",
      "tech_support                7043 non-null object\n",
      "streaming_tv                7043 non-null object\n",
      "streaming_movies            7043 non-null object\n",
      "paperless_billing           7043 non-null object\n",
      "monthly_charges             7043 non-null float64\n",
      "total_charges               7043 non-null object\n",
      "churn                       7043 non-null object\n",
      "contract_type               7043 non-null object\n",
      "internet_service_type       7043 non-null object\n",
      "payment_type                7043 non-null object\n",
      "dtypes: float64(1), int64(5), object(18)\n",
      "memory usage: 1.3+ MB\n",
      "None\n",
      "\n",
      "Describe:\n",
      "\n",
      "       payment_type_id  internet_service_type_id  contract_type_id  \\\n",
      "count      7043.000000               7043.000000       7043.000000   \n",
      "mean          2.315633                  1.872923          1.690473   \n",
      "std           1.148907                  0.737796          0.833755   \n",
      "min           1.000000                  1.000000          1.000000   \n",
      "25%           1.000000                  1.000000          1.000000   \n",
      "50%           2.000000                  2.000000          1.000000   \n",
      "75%           3.000000                  2.000000          2.000000   \n",
      "max           4.000000                  3.000000          3.000000   \n",
      "\n",
      "       senior_citizen       tenure  monthly_charges  \n",
      "count     7043.000000  7043.000000      7043.000000  \n",
      "mean         0.162147    32.371149        64.761692  \n",
      "std          0.368612    24.559481        30.090047  \n",
      "min          0.000000     0.000000        18.250000  \n",
      "25%          0.000000     9.000000        35.500000  \n",
      "50%          0.000000    29.000000        70.350000  \n",
      "75%          0.000000    55.000000        89.850000  \n",
      "max          1.000000    72.000000       118.750000  \n",
      "\n",
      "Head Preview:\n",
      "\n",
      "   payment_type_id  internet_service_type_id  contract_type_id customer_id  \\\n",
      "0                2                         1                 1  0003-MKNFE   \n",
      "1                4                         1                 1  0013-MHZWF   \n",
      "2                1                         1                 1  0015-UOCOJ   \n",
      "3                1                         1                 1  0023-HGHWL   \n",
      "4                3                         1                 1  0032-PGELS   \n",
      "\n",
      "   gender  senior_citizen partner dependents  tenure phone_service  ...  \\\n",
      "0    Male               0      No         No       9           Yes  ...   \n",
      "1  Female               0      No        Yes       9           Yes  ...   \n",
      "2  Female               1      No         No       7           Yes  ...   \n",
      "3    Male               1      No         No       1            No  ...   \n",
      "4  Female               0     Yes        Yes       1            No  ...   \n",
      "\n",
      "  tech_support streaming_tv streaming_movies paperless_billing  \\\n",
      "0           No           No              Yes                No   \n",
      "1          Yes          Yes              Yes               Yes   \n",
      "2           No           No               No               Yes   \n",
      "3           No           No               No               Yes   \n",
      "4           No           No               No                No   \n",
      "\n",
      "  monthly_charges total_charges churn   contract_type  internet_service_type  \\\n",
      "0            59.9         542.4    No  Month-to-month                    DSL   \n",
      "1            69.4        571.45    No  Month-to-month                    DSL   \n",
      "2            48.2        340.35    No  Month-to-month                    DSL   \n",
      "3            25.1          25.1   Yes  Month-to-month                    DSL   \n",
      "4            30.5          30.5   Yes  Month-to-month                    DSL   \n",
      "\n",
      "                payment_type  \n",
      "0               Mailed check  \n",
      "1    Credit card (automatic)  \n",
      "2           Electronic check  \n",
      "3           Electronic check  \n",
      "4  Bank transfer (automatic)  \n",
      "\n",
      "[5 rows x 24 columns]\n",
      "\n",
      "Tail Preview:\n",
      "\n",
      "      payment_type_id  internet_service_type_id  contract_type_id customer_id  \\\n",
      "7038                4                         3                 3  9950-MTGYX   \n",
      "7039                2                         3                 3  9953-ZMKSM   \n",
      "7040                4                         3                 3  9964-WBQDJ   \n",
      "7041                3                         3                 3  9972-EWRJS   \n",
      "7042                4                         3                 3  9975-GPKZU   \n",
      "\n",
      "      gender  senior_citizen partner dependents  tenure phone_service  ...  \\\n",
      "7038    Male               0     Yes        Yes      28           Yes  ...   \n",
      "7039    Male               0      No         No      63           Yes  ...   \n",
      "7040  Female               0     Yes         No      71           Yes  ...   \n",
      "7041  Female               0     Yes        Yes      67           Yes  ...   \n",
      "7042    Male               0     Yes        Yes      46           Yes  ...   \n",
      "\n",
      "             tech_support         streaming_tv     streaming_movies  \\\n",
      "7038  No internet service  No internet service  No internet service   \n",
      "7039  No internet service  No internet service  No internet service   \n",
      "7040  No internet service  No internet service  No internet service   \n",
      "7041  No internet service  No internet service  No internet service   \n",
      "7042  No internet service  No internet service  No internet service   \n",
      "\n",
      "     paperless_billing monthly_charges total_charges churn contract_type  \\\n",
      "7038               Yes           20.30        487.95    No      Two year   \n",
      "7039                No           25.25        1559.3    No      Two year   \n",
      "7040               Yes           24.40        1725.4    No      Two year   \n",
      "7041               Yes           19.25        1372.9    No      Two year   \n",
      "7042                No           19.75         856.5    No      Two year   \n",
      "\n",
      "      internet_service_type               payment_type  \n",
      "7038                   None    Credit card (automatic)  \n",
      "7039                   None               Mailed check  \n",
      "7040                   None    Credit card (automatic)  \n",
      "7041                   None  Bank transfer (automatic)  \n",
      "7042                   None    Credit card (automatic)  \n",
      "\n",
      "[5 rows x 24 columns]\n"
     ]
    }
   ],
   "source": [
    "peekatdata(df)"
   ]
  },
  {
   "cell_type": "markdown",
   "metadata": {},
   "source": [
    "- I created and used a function to decide whether to bin data for the value counts.\n",
    "\n",
    "- I'm not worried about customer_id's unique counts because each is unique, and I will end up dropping this column before running it through a model.\n",
    "\n",
    "- That leaves tenure, monthly_charges, and total_charges with a large number of unique values which may benefit from binning."
   ]
  },
  {
   "cell_type": "code",
   "execution_count": 4,
   "metadata": {},
   "outputs": [
    {
     "data": {
      "text/html": [
       "<div>\n",
       "<style scoped>\n",
       "    .dataframe tbody tr th:only-of-type {\n",
       "        vertical-align: middle;\n",
       "    }\n",
       "\n",
       "    .dataframe tbody tr th {\n",
       "        vertical-align: top;\n",
       "    }\n",
       "\n",
       "    .dataframe thead th {\n",
       "        text-align: right;\n",
       "    }\n",
       "</style>\n",
       "<table border=\"1\" class=\"dataframe\">\n",
       "  <thead>\n",
       "    <tr style=\"text-align: right;\">\n",
       "      <th></th>\n",
       "      <th>0</th>\n",
       "    </tr>\n",
       "  </thead>\n",
       "  <tbody>\n",
       "    <tr>\n",
       "      <th>payment_type_id</th>\n",
       "      <td>4</td>\n",
       "    </tr>\n",
       "    <tr>\n",
       "      <th>internet_service_type_id</th>\n",
       "      <td>3</td>\n",
       "    </tr>\n",
       "    <tr>\n",
       "      <th>contract_type_id</th>\n",
       "      <td>3</td>\n",
       "    </tr>\n",
       "    <tr>\n",
       "      <th>customer_id</th>\n",
       "      <td>7043</td>\n",
       "    </tr>\n",
       "    <tr>\n",
       "      <th>gender</th>\n",
       "      <td>2</td>\n",
       "    </tr>\n",
       "    <tr>\n",
       "      <th>senior_citizen</th>\n",
       "      <td>2</td>\n",
       "    </tr>\n",
       "    <tr>\n",
       "      <th>partner</th>\n",
       "      <td>2</td>\n",
       "    </tr>\n",
       "    <tr>\n",
       "      <th>dependents</th>\n",
       "      <td>2</td>\n",
       "    </tr>\n",
       "    <tr>\n",
       "      <th>tenure</th>\n",
       "      <td>73</td>\n",
       "    </tr>\n",
       "    <tr>\n",
       "      <th>phone_service</th>\n",
       "      <td>2</td>\n",
       "    </tr>\n",
       "    <tr>\n",
       "      <th>multiple_lines</th>\n",
       "      <td>3</td>\n",
       "    </tr>\n",
       "    <tr>\n",
       "      <th>online_security</th>\n",
       "      <td>3</td>\n",
       "    </tr>\n",
       "    <tr>\n",
       "      <th>online_backup</th>\n",
       "      <td>3</td>\n",
       "    </tr>\n",
       "    <tr>\n",
       "      <th>device_protection</th>\n",
       "      <td>3</td>\n",
       "    </tr>\n",
       "    <tr>\n",
       "      <th>tech_support</th>\n",
       "      <td>3</td>\n",
       "    </tr>\n",
       "    <tr>\n",
       "      <th>streaming_tv</th>\n",
       "      <td>3</td>\n",
       "    </tr>\n",
       "    <tr>\n",
       "      <th>streaming_movies</th>\n",
       "      <td>3</td>\n",
       "    </tr>\n",
       "    <tr>\n",
       "      <th>paperless_billing</th>\n",
       "      <td>2</td>\n",
       "    </tr>\n",
       "    <tr>\n",
       "      <th>monthly_charges</th>\n",
       "      <td>1585</td>\n",
       "    </tr>\n",
       "    <tr>\n",
       "      <th>total_charges</th>\n",
       "      <td>6531</td>\n",
       "    </tr>\n",
       "    <tr>\n",
       "      <th>churn</th>\n",
       "      <td>2</td>\n",
       "    </tr>\n",
       "    <tr>\n",
       "      <th>contract_type</th>\n",
       "      <td>3</td>\n",
       "    </tr>\n",
       "    <tr>\n",
       "      <th>internet_service_type</th>\n",
       "      <td>3</td>\n",
       "    </tr>\n",
       "    <tr>\n",
       "      <th>payment_type</th>\n",
       "      <td>4</td>\n",
       "    </tr>\n",
       "  </tbody>\n",
       "</table>\n",
       "</div>"
      ],
      "text/plain": [
       "                             0\n",
       "payment_type_id              4\n",
       "internet_service_type_id     3\n",
       "contract_type_id             3\n",
       "customer_id               7043\n",
       "gender                       2\n",
       "senior_citizen               2\n",
       "partner                      2\n",
       "dependents                   2\n",
       "tenure                      73\n",
       "phone_service                2\n",
       "multiple_lines               3\n",
       "online_security              3\n",
       "online_backup                3\n",
       "device_protection            3\n",
       "tech_support                 3\n",
       "streaming_tv                 3\n",
       "streaming_movies             3\n",
       "paperless_billing            2\n",
       "monthly_charges           1585\n",
       "total_charges             6531\n",
       "churn                        2\n",
       "contract_type                3\n",
       "internet_service_type        3\n",
       "payment_type                 4"
      ]
     },
     "execution_count": 4,
     "metadata": {},
     "output_type": "execute_result"
    }
   ],
   "source": [
    "valcount_df = df_value_counts(df)\n",
    "valcount_df"
   ]
  },
  {
   "cell_type": "markdown",
   "metadata": {},
   "source": [
    "- I want to decide if and which rows or columns should be dropped.\n",
    "\n",
    "- Running .value_counts() on total charges column showed me it has 11 values that are blank space. These are most likely for customers who have not had the service long enough to have a total_charge.\n",
    "\n",
    "- Considering these findings, I will create and run a function that replaces the blank values with NaN and returns the percent of missing values in each column in order to make my final decision about dropping rows that contain NaNs.\n",
    "\n",
    "- I'm including in this function a line to drop customer_id as I will not be needing this column."
   ]
  },
  {
   "cell_type": "code",
   "execution_count": 5,
   "metadata": {},
   "outputs": [
    {
     "data": {
      "text/plain": [
       "           11\n",
       "20.2       11\n",
       "19.75       9\n",
       "20.05       8\n",
       "19.65       8\n",
       "19.9        8\n",
       "45.3        7\n",
       "19.55       7\n",
       "19.45       6\n",
       "20.25       6\n",
       "20.15       6\n",
       "20.45       5\n",
       "20.3        5\n",
       "19.4        4\n",
       "69.9        4\n",
       "44.4        4\n",
       "19.85       4\n",
       "70.6        4\n",
       "20.35       4\n",
       "74.7        4\n",
       "20.5        4\n",
       "19.3        4\n",
       "49.9        4\n",
       "50.15       4\n",
       "75.3        4\n",
       "20.4        4\n",
       "69.6        4\n",
       "19.2        4\n",
       "19.5        4\n",
       "69.95       4\n",
       "69.65       4\n",
       "19.95       4\n",
       "44          4\n",
       "20          3\n",
       "44.75       3\n",
       "55.7        3\n",
       "45.85       3\n",
       "70.15       3\n",
       "70.1        3\n",
       "84.5        3\n",
       "35.9        3\n",
       "74.9        3\n",
       "305.55      3\n",
       "50.6        3\n",
       "383.65      3\n",
       "69.1        3\n",
       "19.25       3\n",
       "75.35       3\n",
       "220.45      3\n",
       "74.6        3\n",
       "85.5        3\n",
       "20.9        3\n",
       "80.55       3\n",
       "25.25       3\n",
       "50.45       3\n",
       "74.3        3\n",
       "69.25       3\n",
       "20.55       3\n",
       "70.45       3\n",
       "470.2       3\n",
       "70.3        3\n",
       "86.05       3\n",
       "20.1        3\n",
       "45.7        3\n",
       "45.1        3\n",
       "19.1        3\n",
       "24.4        3\n",
       "24.8        3\n",
       "1284.2      3\n",
       "50.75       3\n",
       "74.35       3\n",
       "85          3\n",
       "79.55       3\n",
       "69.55       3\n",
       "2317.1      3\n",
       "1110.05     2\n",
       "926.25      2\n",
       "196.75      2\n",
       "202.25      2\n",
       "1885.15     2\n",
       "75.45       2\n",
       "268.45      2\n",
       "143.65      2\n",
       "1149.65     2\n",
       "2570.2      2\n",
       "           ..\n",
       "2737.05     1\n",
       "775.6       1\n",
       "25.75       1\n",
       "5730.15     1\n",
       "973.95      1\n",
       "943.1       1\n",
       "3842.6      1\n",
       "5233.25     1\n",
       "3389.25     1\n",
       "107.1       1\n",
       "3483.45     1\n",
       "434.8       1\n",
       "3036.75     1\n",
       "6448.85     1\n",
       "609.65      1\n",
       "58          1\n",
       "196.4       1\n",
       "272.2       1\n",
       "477.7       1\n",
       "531.55      1\n",
       "547.8       1\n",
       "7869.05     1\n",
       "1419.4      1\n",
       "4504.55     1\n",
       "5215.1      1\n",
       "1923.85     1\n",
       "3440.25     1\n",
       "6194.1      1\n",
       "5809.75     1\n",
       "1036.75     1\n",
       "1940.85     1\n",
       "2075.1      1\n",
       "2088.05     1\n",
       "476.8       1\n",
       "912         1\n",
       "48.95       1\n",
       "1778.5      1\n",
       "8477.6      1\n",
       "2379.1      1\n",
       "484.05      1\n",
       "6735.05     1\n",
       "7349.35     1\n",
       "325.45      1\n",
       "639.7       1\n",
       "35          1\n",
       "1652.4      1\n",
       "374.8       1\n",
       "115.95      1\n",
       "208.25      1\n",
       "7942.15     1\n",
       "488.65      1\n",
       "3246.45     1\n",
       "4758.8      1\n",
       "1261.45     1\n",
       "4421.95     1\n",
       "5442.05     1\n",
       "4398.15     1\n",
       "830.25      1\n",
       "1356.7      1\n",
       "5012.35     1\n",
       "467.5       1\n",
       "6975.25     1\n",
       "5956.85     1\n",
       "7114.25     1\n",
       "1248.9      1\n",
       "7250.15     1\n",
       "3972.25     1\n",
       "7133.45     1\n",
       "109.3       1\n",
       "1654.6      1\n",
       "4209.95     1\n",
       "973.55      1\n",
       "1073.3      1\n",
       "327.45      1\n",
       "5997.1      1\n",
       "326.8       1\n",
       "293.85      1\n",
       "7344.45     1\n",
       "1192.7      1\n",
       "5948.7      1\n",
       "2169.75     1\n",
       "218.5       1\n",
       "30.2        1\n",
       "914.4       1\n",
       "7748.75     1\n",
       "Name: total_charges, Length: 6531, dtype: int64"
      ]
     },
     "execution_count": 5,
     "metadata": {},
     "output_type": "execute_result"
    }
   ],
   "source": [
    "df[\"total_charges\"].value_counts(dropna=False)"
   ]
  },
  {
   "cell_type": "markdown",
   "metadata": {},
   "source": [
    "- This function reveals that only total_charges has missing values, and the percent of missing values is .16%.\n",
    "\n",
    "- This confirms my decision to drop the rows with NaNs.\n"
   ]
  },
  {
   "cell_type": "code",
   "execution_count": 6,
   "metadata": {},
   "outputs": [
    {
     "data": {
      "text/plain": [
       "payment_type_id             0.000000\n",
       "internet_service_type_id    0.000000\n",
       "contract_type_id            0.000000\n",
       "customer_id                 0.000000\n",
       "gender                      0.000000\n",
       "senior_citizen              0.000000\n",
       "partner                     0.000000\n",
       "dependents                  0.000000\n",
       "tenure                      0.000000\n",
       "phone_service               0.000000\n",
       "multiple_lines              0.000000\n",
       "online_security             0.000000\n",
       "online_backup               0.000000\n",
       "device_protection           0.000000\n",
       "tech_support                0.000000\n",
       "streaming_tv                0.000000\n",
       "streaming_movies            0.000000\n",
       "paperless_billing           0.000000\n",
       "monthly_charges             0.000000\n",
       "total_charges               0.156183\n",
       "churn                       0.000000\n",
       "contract_type               0.000000\n",
       "internet_service_type       0.000000\n",
       "payment_type                0.000000\n",
       "dtype: float64"
      ]
     },
     "execution_count": 6,
     "metadata": {},
     "output_type": "execute_result"
    }
   ],
   "source": [
    "percent_missing(df)"
   ]
  },
  {
   "cell_type": "markdown",
   "metadata": {},
   "source": [
    "- Here I am running my function clean_data to replace empty space values in total_charges with NaN, dropping the rows with Nan, dropping customer_id and confirming the drop with an .isnull().sum()."
   ]
  },
  {
   "cell_type": "code",
   "execution_count": 7,
   "metadata": {},
   "outputs": [
    {
     "data": {
      "text/plain": [
       "payment_type_id             0\n",
       "internet_service_type_id    0\n",
       "contract_type_id            0\n",
       "gender                      0\n",
       "senior_citizen              0\n",
       "partner                     0\n",
       "dependents                  0\n",
       "tenure                      0\n",
       "phone_service               0\n",
       "multiple_lines              0\n",
       "online_security             0\n",
       "online_backup               0\n",
       "device_protection           0\n",
       "tech_support                0\n",
       "streaming_tv                0\n",
       "streaming_movies            0\n",
       "paperless_billing           0\n",
       "monthly_charges             0\n",
       "total_charges               0\n",
       "churn                       0\n",
       "contract_type               0\n",
       "internet_service_type       0\n",
       "payment_type                0\n",
       "dtype: int64"
      ]
     },
     "execution_count": 7,
     "metadata": {},
     "output_type": "execute_result"
    }
   ],
   "source": [
    "df = clean_data(df)\n",
    "df.isnull().sum()"
   ]
  },
  {
   "cell_type": "markdown",
   "metadata": {},
   "source": [
    "- Here I will transform dataframe values from \"Yes\" and \"No\"/\"No phone service\"/\"No internet service\" to True/False, so it is more intuitive to understand during exploration and interpretation.\n",
    "\n",
    "- Female/Male will be denoted in the \"gender\" column by binary ints."
   ]
  },
  {
   "cell_type": "code",
   "execution_count": 8,
   "metadata": {},
   "outputs": [
    {
     "data": {
      "text/plain": [
       "payment_type_id               int64\n",
       "internet_service_type_id      int64\n",
       "contract_type_id              int64\n",
       "gender                        int64\n",
       "senior_citizen                int64\n",
       "partner                        bool\n",
       "dependents                     bool\n",
       "tenure                        int64\n",
       "phone_service                  bool\n",
       "multiple_lines                 bool\n",
       "online_security                bool\n",
       "online_backup                  bool\n",
       "device_protection              bool\n",
       "tech_support                   bool\n",
       "streaming_tv                   bool\n",
       "streaming_movies               bool\n",
       "paperless_billing              bool\n",
       "monthly_charges             float64\n",
       "total_charges               float64\n",
       "churn                          bool\n",
       "contract_type                object\n",
       "internet_service_type        object\n",
       "payment_type                 object\n",
       "dtype: object"
      ]
     },
     "execution_count": 8,
     "metadata": {},
     "output_type": "execute_result"
    }
   ],
   "source": [
    "df.replace(to_replace=['No', 'Yes'], value=[False, True], inplace=True)\n",
    "df.replace(to_replace=['No phone service'], value=[False], inplace=True)\n",
    "df.replace(to_replace=['Female', 'Male'], value=[1, 0], inplace=True)\n",
    "df.replace(to_replace=['No internet service'], value=[False], inplace=True)\n",
    "df.dtypes"
   ]
  },
  {
   "cell_type": "markdown",
   "metadata": {},
   "source": [
    "- Here I compute a new feature comleted_years translating tenure from months to years. \n",
    "\n",
    "- I want to use this later to look at month-to-month and 1-year contract customers.\n"
   ]
  },
  {
   "cell_type": "code",
   "execution_count": 9,
   "metadata": {},
   "outputs": [
    {
     "data": {
      "text/plain": [
       "0.0    1470\n",
       "1.0    1156\n",
       "2.0    1004\n",
       "3.0     715\n",
       "4.0     868\n",
       "5.0     786\n",
       "6.0    1033\n",
       "Name: completed_years, dtype: int64"
      ]
     },
     "execution_count": 9,
     "metadata": {},
     "output_type": "execute_result"
    }
   ],
   "source": [
    "df[\"completed_years\"] = round(df[\"tenure\"] / 12)\n",
    "df[\"completed_years\"].value_counts().sort_index()"
   ]
  },
  {
   "cell_type": "markdown",
   "metadata": {},
   "source": [
    "- I decided not to create a new column phone_id that captures phone_service and multiple_lines into a single int variable. I want to keep this information seperate.\n"
   ]
  },
  {
   "cell_type": "markdown",
   "metadata": {},
   "source": [
    "- Here I add a new column \"family\" that combines \"dependents\" and \"partner\" and is True for either having dependents or family or False for having neither.\n",
    "\n",
    "Data Dictionary:\n",
    "\n",
    "- True - partner or dependents, False - neither partner or dependents"
   ]
  },
  {
   "cell_type": "code",
   "execution_count": 10,
   "metadata": {},
   "outputs": [],
   "source": [
    "df['family'] = (df.partner == True) | (df.dependents == True)"
   ]
  },
  {
   "cell_type": "markdown",
   "metadata": {},
   "source": [
    "- Here I added a new column streaming_services of dtype bool that combines streaming_movies and streaming_tv into one. If the customer has either of these, the value is True. \n",
    "\n",
    "- I decided to combine these based on the results of my heat map in exploration. These two variables are highly correlated with each other."
   ]
  },
  {
   "cell_type": "code",
   "execution_count": 11,
   "metadata": {},
   "outputs": [],
   "source": [
    "df[\"streaming_services\"] = (df.streaming_movies == True) | (df.streaming_tv == True)"
   ]
  },
  {
   "cell_type": "markdown",
   "metadata": {},
   "source": [
    "- Here I added a column online_security_backup of dtype int that combines\n",
    "online_security and online_backup dependents and partner and is dtype int.\n",
    "\n",
    "Data Dictionary: \n",
    "    \n",
    "- (0 = none, 1 = online security, 2 = online backup, 3 = both)"
   ]
  },
  {
   "cell_type": "code",
   "execution_count": 12,
   "metadata": {},
   "outputs": [
    {
     "data": {
      "text/plain": [
       "True     4245\n",
       "False    2787\n",
       "Name: online_services, dtype: int64"
      ]
     },
     "execution_count": 12,
     "metadata": {},
     "output_type": "execute_result"
    }
   ],
   "source": [
    "df[\"online_services\"] = df.online_security + df.online_backup + df.device_protection + df.tech_support\n",
    "df[\"online_services\"].value_counts()"
   ]
  },
  {
   "cell_type": "markdown",
   "metadata": {},
   "source": [
    "- Here I am checking my data types to begin cleaning up my dataframe, transforming all categorical/object dtypes to numerical and dropping columns I used to create the new, merged columns above."
   ]
  },
  {
   "cell_type": "code",
   "execution_count": 13,
   "metadata": {},
   "outputs": [],
   "source": [
    "df = df.drop(columns=[\"streaming_tv\", \"streaming_movies\", \"contract_type\", \"internet_service_type\", \"payment_type\", \"payment_type_id\", \"paperless_billing\", \"online_security\", \"online_backup\", \"device_protection\", \"tech_support\", \"partner\", \"dependents\"])"
   ]
  },
  {
   "cell_type": "code",
   "execution_count": 14,
   "metadata": {},
   "outputs": [
    {
     "data": {
      "text/plain": [
       "internet_service_type_id      int64\n",
       "contract_type_id              int64\n",
       "gender                        int64\n",
       "senior_citizen                int64\n",
       "tenure                        int64\n",
       "phone_service                  bool\n",
       "multiple_lines                 bool\n",
       "monthly_charges             float64\n",
       "total_charges               float64\n",
       "churn                          bool\n",
       "completed_years             float64\n",
       "family                         bool\n",
       "streaming_services             bool\n",
       "online_services                bool\n",
       "dtype: object"
      ]
     },
     "execution_count": 14,
     "metadata": {},
     "output_type": "execute_result"
    }
   ],
   "source": [
    "df.dtypes"
   ]
  },
  {
   "cell_type": "code",
   "execution_count": 15,
   "metadata": {},
   "outputs": [
    {
     "data": {
      "text/plain": [
       "(7032, 14)"
      ]
     },
     "execution_count": 15,
     "metadata": {},
     "output_type": "execute_result"
    }
   ],
   "source": [
    "df.shape"
   ]
  },
  {
   "cell_type": "markdown",
   "metadata": {},
   "source": [
    "- Here I am ready to split the data 70/30 train/test using my split function.\n"
   ]
  },
  {
   "cell_type": "code",
   "execution_count": 16,
   "metadata": {},
   "outputs": [
    {
     "data": {
      "text/plain": [
       "(4922, 14)"
      ]
     },
     "execution_count": 16,
     "metadata": {},
     "output_type": "execute_result"
    }
   ],
   "source": [
    "train, test = split(df=df, target=\"churn\", train_prop=.70, seed=123)\n",
    "\n",
    "train.head()\n",
    "train.shape"
   ]
  },
  {
   "cell_type": "markdown",
   "metadata": {},
   "source": [
    "#### Encode columns:\n",
    "\n",
    "- I'm going to run my encode function on the columns internet_service_type_id and contract_type_id, so that I have the versatility to run those variables through multiple models.\n",
    "\n",
    "- After I create the new encoded columns, I will drop the original columns I used to create the new encoded ones."
   ]
  },
  {
   "cell_type": "code",
   "execution_count": 17,
   "metadata": {},
   "outputs": [],
   "source": [
    "train, test, int_encoder, ohe = encode(train, test, \"internet_service_type_id\")"
   ]
  },
  {
   "cell_type": "code",
   "execution_count": 18,
   "metadata": {},
   "outputs": [],
   "source": [
    "train.rename(columns={1 : \"dsl\", 2 : \"fiber\", 3 : \"none\"}, inplace = True)\n",
    "test.rename(columns={1 : \"dsl\", 2 : \"fiber\", 3 : \"none\"}, inplace = True)"
   ]
  },
  {
   "cell_type": "code",
   "execution_count": 19,
   "metadata": {},
   "outputs": [],
   "source": [
    "train, test, int_encoder, ohe = encode(train, test, \"contract_type_id\")"
   ]
  },
  {
   "cell_type": "code",
   "execution_count": 20,
   "metadata": {},
   "outputs": [],
   "source": [
    "train.rename(columns={1 : \"monthly\", 2 : \"1-year\", 3 : \"2-year\"}, inplace = True)\n",
    "test.rename(columns={1 : \"monthly\", 2 : \"1-year\", 3 : \"2-year\"}, inplace = True)"
   ]
  },
  {
   "cell_type": "code",
   "execution_count": 21,
   "metadata": {},
   "outputs": [],
   "source": [
    "#train.drop(columns=[\"internet_service_type_id\", \"contract_type_id\"], axis=1, inplace=True)"
   ]
  },
  {
   "cell_type": "code",
   "execution_count": 22,
   "metadata": {},
   "outputs": [
    {
     "data": {
      "text/html": [
       "<div>\n",
       "<style scoped>\n",
       "    .dataframe tbody tr th:only-of-type {\n",
       "        vertical-align: middle;\n",
       "    }\n",
       "\n",
       "    .dataframe tbody tr th {\n",
       "        vertical-align: top;\n",
       "    }\n",
       "\n",
       "    .dataframe thead th {\n",
       "        text-align: right;\n",
       "    }\n",
       "</style>\n",
       "<table border=\"1\" class=\"dataframe\">\n",
       "  <thead>\n",
       "    <tr style=\"text-align: right;\">\n",
       "      <th></th>\n",
       "      <th>internet_service_type_id</th>\n",
       "      <th>contract_type_id</th>\n",
       "      <th>gender</th>\n",
       "      <th>senior_citizen</th>\n",
       "      <th>tenure</th>\n",
       "      <th>phone_service</th>\n",
       "      <th>multiple_lines</th>\n",
       "      <th>monthly_charges</th>\n",
       "      <th>total_charges</th>\n",
       "      <th>churn</th>\n",
       "      <th>completed_years</th>\n",
       "      <th>family</th>\n",
       "      <th>streaming_services</th>\n",
       "      <th>online_services</th>\n",
       "      <th>dsl</th>\n",
       "      <th>fiber</th>\n",
       "      <th>none</th>\n",
       "      <th>monthly</th>\n",
       "      <th>1-year</th>\n",
       "      <th>2-year</th>\n",
       "    </tr>\n",
       "  </thead>\n",
       "  <tbody>\n",
       "    <tr>\n",
       "      <th>5968</th>\n",
       "      <td>3</td>\n",
       "      <td>1</td>\n",
       "      <td>0</td>\n",
       "      <td>0</td>\n",
       "      <td>10</td>\n",
       "      <td>True</td>\n",
       "      <td>False</td>\n",
       "      <td>20.00</td>\n",
       "      <td>198.60</td>\n",
       "      <td>False</td>\n",
       "      <td>1.0</td>\n",
       "      <td>False</td>\n",
       "      <td>False</td>\n",
       "      <td>False</td>\n",
       "      <td>0.0</td>\n",
       "      <td>0.0</td>\n",
       "      <td>1.0</td>\n",
       "      <td>1.0</td>\n",
       "      <td>0.0</td>\n",
       "      <td>0.0</td>\n",
       "    </tr>\n",
       "    <tr>\n",
       "      <th>3585</th>\n",
       "      <td>2</td>\n",
       "      <td>1</td>\n",
       "      <td>0</td>\n",
       "      <td>0</td>\n",
       "      <td>4</td>\n",
       "      <td>True</td>\n",
       "      <td>True</td>\n",
       "      <td>90.65</td>\n",
       "      <td>367.95</td>\n",
       "      <td>False</td>\n",
       "      <td>0.0</td>\n",
       "      <td>False</td>\n",
       "      <td>True</td>\n",
       "      <td>True</td>\n",
       "      <td>0.0</td>\n",
       "      <td>1.0</td>\n",
       "      <td>0.0</td>\n",
       "      <td>1.0</td>\n",
       "      <td>0.0</td>\n",
       "      <td>0.0</td>\n",
       "    </tr>\n",
       "    <tr>\n",
       "      <th>6987</th>\n",
       "      <td>3</td>\n",
       "      <td>3</td>\n",
       "      <td>1</td>\n",
       "      <td>0</td>\n",
       "      <td>40</td>\n",
       "      <td>True</td>\n",
       "      <td>False</td>\n",
       "      <td>20.15</td>\n",
       "      <td>777.35</td>\n",
       "      <td>False</td>\n",
       "      <td>3.0</td>\n",
       "      <td>True</td>\n",
       "      <td>False</td>\n",
       "      <td>False</td>\n",
       "      <td>0.0</td>\n",
       "      <td>0.0</td>\n",
       "      <td>1.0</td>\n",
       "      <td>0.0</td>\n",
       "      <td>0.0</td>\n",
       "      <td>1.0</td>\n",
       "    </tr>\n",
       "    <tr>\n",
       "      <th>5060</th>\n",
       "      <td>2</td>\n",
       "      <td>2</td>\n",
       "      <td>0</td>\n",
       "      <td>0</td>\n",
       "      <td>71</td>\n",
       "      <td>True</td>\n",
       "      <td>True</td>\n",
       "      <td>113.15</td>\n",
       "      <td>7953.25</td>\n",
       "      <td>False</td>\n",
       "      <td>6.0</td>\n",
       "      <td>True</td>\n",
       "      <td>True</td>\n",
       "      <td>True</td>\n",
       "      <td>0.0</td>\n",
       "      <td>1.0</td>\n",
       "      <td>0.0</td>\n",
       "      <td>0.0</td>\n",
       "      <td>1.0</td>\n",
       "      <td>0.0</td>\n",
       "    </tr>\n",
       "    <tr>\n",
       "      <th>3992</th>\n",
       "      <td>2</td>\n",
       "      <td>1</td>\n",
       "      <td>0</td>\n",
       "      <td>1</td>\n",
       "      <td>18</td>\n",
       "      <td>True</td>\n",
       "      <td>True</td>\n",
       "      <td>93.90</td>\n",
       "      <td>1743.90</td>\n",
       "      <td>False</td>\n",
       "      <td>2.0</td>\n",
       "      <td>False</td>\n",
       "      <td>True</td>\n",
       "      <td>True</td>\n",
       "      <td>0.0</td>\n",
       "      <td>1.0</td>\n",
       "      <td>0.0</td>\n",
       "      <td>1.0</td>\n",
       "      <td>0.0</td>\n",
       "      <td>0.0</td>\n",
       "    </tr>\n",
       "  </tbody>\n",
       "</table>\n",
       "</div>"
      ],
      "text/plain": [
       "      internet_service_type_id  contract_type_id  gender  senior_citizen  \\\n",
       "5968                         3                 1       0               0   \n",
       "3585                         2                 1       0               0   \n",
       "6987                         3                 3       1               0   \n",
       "5060                         2                 2       0               0   \n",
       "3992                         2                 1       0               1   \n",
       "\n",
       "      tenure  phone_service  multiple_lines  monthly_charges  total_charges  \\\n",
       "5968      10           True           False            20.00         198.60   \n",
       "3585       4           True            True            90.65         367.95   \n",
       "6987      40           True           False            20.15         777.35   \n",
       "5060      71           True            True           113.15        7953.25   \n",
       "3992      18           True            True            93.90        1743.90   \n",
       "\n",
       "      churn  completed_years  family  streaming_services  online_services  \\\n",
       "5968  False              1.0   False               False            False   \n",
       "3585  False              0.0   False                True             True   \n",
       "6987  False              3.0    True               False            False   \n",
       "5060  False              6.0    True                True             True   \n",
       "3992  False              2.0   False                True             True   \n",
       "\n",
       "      dsl  fiber  none  monthly  1-year  2-year  \n",
       "5968  0.0    0.0   1.0      1.0     0.0     0.0  \n",
       "3585  0.0    1.0   0.0      1.0     0.0     0.0  \n",
       "6987  0.0    0.0   1.0      0.0     0.0     1.0  \n",
       "5060  0.0    1.0   0.0      0.0     1.0     0.0  \n",
       "3992  0.0    1.0   0.0      1.0     0.0     0.0  "
      ]
     },
     "execution_count": 22,
     "metadata": {},
     "output_type": "execute_result"
    }
   ],
   "source": [
    "train.head()"
   ]
  },
  {
   "cell_type": "code",
   "execution_count": 23,
   "metadata": {},
   "outputs": [
    {
     "data": {
      "text/plain": [
       "internet_service_type_id      int64\n",
       "contract_type_id              int64\n",
       "gender                        int64\n",
       "senior_citizen                int64\n",
       "tenure                        int64\n",
       "phone_service                  bool\n",
       "multiple_lines                 bool\n",
       "monthly_charges             float64\n",
       "total_charges               float64\n",
       "churn                          bool\n",
       "completed_years             float64\n",
       "family                         bool\n",
       "streaming_services             bool\n",
       "online_services                bool\n",
       "dtype: object"
      ]
     },
     "execution_count": 23,
     "metadata": {},
     "output_type": "execute_result"
    }
   ],
   "source": [
    "df.dtypes"
   ]
  },
  {
   "cell_type": "markdown",
   "metadata": {},
   "source": [
    "- I need to address the categrical data that is represented by integers in the columns:\n",
    "\n",
    "    -internet_service_type_id\n",
    "    -contract_type_id\n",
    "    \n",
    "- These may need to be encoded to be meaningful"
   ]
  },
  {
   "cell_type": "markdown",
   "metadata": {},
   "source": [
    "### Create x and y variables for exploration and modeling"
   ]
  },
  {
   "cell_type": "code",
   "execution_count": 24,
   "metadata": {},
   "outputs": [],
   "source": [
    "y_train = train[[\"churn\"]]\n",
    "y_test = test[[\"churn\"]]"
   ]
  },
  {
   "cell_type": "code",
   "execution_count": 25,
   "metadata": {},
   "outputs": [],
   "source": [
    "x_train = train.drop(columns=\"churn\")\n",
    "x_test = test.drop(columns=\"churn\")"
   ]
  },
  {
   "cell_type": "markdown",
   "metadata": {},
   "source": [
    "- I will run my first model without scaling and return to this step for my MVP below.\n"
   ]
  },
  {
   "cell_type": "markdown",
   "metadata": {},
   "source": [
    "### Data Exploration"
   ]
  },
  {
   "cell_type": "markdown",
   "metadata": {},
   "source": [
    "#### A look at the distribution of overall total churn"
   ]
  },
  {
   "cell_type": "code",
   "execution_count": 26,
   "metadata": {},
   "outputs": [
    {
     "data": {
      "image/png": "[encoded data removed]",
      "text/plain": [
       "<Figure size 432x288 with 1 Axes>"
      ]
     },
     "metadata": {
      "needs_background": "light"
     },
     "output_type": "display_data"
    }
   ],
   "source": [
    "train.churn.value_counts().sort_index().plot(kind = \"bar\",alpha = .5)\n",
    "plt.title(\"Distribution of Total Churn\")\n",
    "plt.grid(b = True , which = \"major\")"
   ]
  },
  {
   "cell_type": "markdown",
   "metadata": {},
   "source": [
    "#### I created visualizations exploring interactions of variables (independent with independent and independent with dependent). My goal was to identify features that are related to churn, identify integrity issues, understand how the data works.\n",
    "\n",
    "- A quick heatmap to explore correlations between independent variables and dependent target variable and independent variables with each other."
   ]
  },
  {
   "cell_type": "code",
   "execution_count": 27,
   "metadata": {},
   "outputs": [
    {
     "data": {
      "text/plain": [
       "<matplotlib.axes._subplots.AxesSubplot at 0x1a1873e940>"
      ]
     },
     "execution_count": 27,
     "metadata": {},
     "output_type": "execute_result"
    },
    {
     "data": {
      "image/png": "[encoded data removed]",
      "text/plain": [
       "<Figure size 1080x1080 with 2 Axes>"
      ]
     },
     "metadata": {
      "needs_background": "light"
     },
     "output_type": "display_data"
    }
   ],
   "source": [
    "plt.figure(figsize=(15,15))\n",
    "sns.heatmap(train.corr(), cmap='RdBu', annot=True)"
   ]
  },
  {
   "cell_type": "markdown",
   "metadata": {},
   "source": [
    "#### Are there features that indicate higher propensity to churn?\n",
    "\n",
    "According to the correlation figures on the heatmap, contract_type_id (39%), tenure and completed_tenure (35%), and total_charges (.20) have the highest correlations with the target of churn. Monthly_charges (19%), family (17%), and senior_citizen (15%) variables have lesser correlations, but they are high enough to remain of interest as features that could add some predictive accuracy to a model."
   ]
  },
  {
   "cell_type": "markdown",
   "metadata": {},
   "source": [
    "#### Could the month they signed up influence churn? \n",
    "Here I plot the rate of churn on a line chart where x is the tenure and y is the rate of churn (customers churned/total customers).\n"
   ]
  },
  {
   "cell_type": "markdown",
   "metadata": {},
   "source": [
    "- I need to create a column \"churn_rate\" that has the calculated churn_rate"
   ]
  },
  {
   "cell_type": "code",
   "execution_count": 28,
   "metadata": {},
   "outputs": [
    {
     "data": {
      "text/plain": [
       "<matplotlib.axes._subplots.AxesSubplot at 0x1a184e24a8>"
      ]
     },
     "execution_count": 28,
     "metadata": {},
     "output_type": "execute_result"
    },
    {
     "data": {
      "image/png": "[encoded data removed]",
      "text/plain": [
       "<Figure size 432x288 with 1 Axes>"
      ]
     },
     "metadata": {
      "needs_background": "light"
     },
     "output_type": "display_data"
    }
   ],
   "source": [
    "x = train.tenure\n",
    "y = train.churn\n",
    "sns.lineplot(x, y)"
   ]
  },
  {
   "cell_type": "markdown",
   "metadata": {},
   "source": [
    "- Yes, the month they signed up can effect churn. There is a disproportionate number of customers churning in the first month, and to get better insights beyond just the noise of the first month, I am going to create a dataframe that drops the rows with churn in the first month.\n",
    "\n",
    "- There are 613/7032 rows of customers who have only one month of tenure. That count drops to 238 by two months, 200 by three months, and continues to drop until the twleve month mark.\n"
   ]
  },
  {
   "cell_type": "code",
   "execution_count": 29,
   "metadata": {
    "scrolled": true
   },
   "outputs": [
    {
     "data": {
      "text/plain": [
       "completed_years\n",
       "0.0    1005\n",
       "1.0     827\n",
       "2.0     717\n",
       "3.0     502\n",
       "4.0     607\n",
       "5.0     540\n",
       "6.0     724\n",
       "Name: completed_years, dtype: int64"
      ]
     },
     "execution_count": 29,
     "metadata": {},
     "output_type": "execute_result"
    }
   ],
   "source": [
    "train.groupby(by=\"completed_years\").completed_years.count()"
   ]
  },
  {
   "cell_type": "markdown",
   "metadata": {},
   "source": [
    "- Here I created a dataframe named \"df_tenure_control\" to explore the difference in keeping or dropping the customers with one to six months tenure."
   ]
  },
  {
   "cell_type": "code",
   "execution_count": 30,
   "metadata": {
    "scrolled": true
   },
   "outputs": [
    {
     "data": {
      "text/plain": [
       "7      88\n",
       "8      88\n",
       "9      84\n",
       "10     92\n",
       "11     72\n",
       "12     79\n",
       "13     82\n",
       "14     57\n",
       "15     65\n",
       "16     64\n",
       "17     56\n",
       "18     67\n",
       "19     50\n",
       "20     55\n",
       "21     48\n",
       "22     70\n",
       "23     59\n",
       "24     63\n",
       "25     58\n",
       "26     56\n",
       "27     53\n",
       "28     44\n",
       "29     42\n",
       "30     52\n",
       "31     47\n",
       "32     47\n",
       "33     41\n",
       "34     46\n",
       "35     57\n",
       "36     36\n",
       "37     47\n",
       "38     45\n",
       "39     41\n",
       "40     48\n",
       "41     47\n",
       "42     51\n",
       "43     48\n",
       "44     29\n",
       "45     43\n",
       "46     60\n",
       "47     42\n",
       "48     49\n",
       "49     48\n",
       "50     44\n",
       "51     46\n",
       "52     56\n",
       "53     44\n",
       "54     47\n",
       "55     45\n",
       "56     54\n",
       "57     38\n",
       "58     46\n",
       "59     38\n",
       "60     49\n",
       "61     56\n",
       "62     47\n",
       "63     50\n",
       "64     64\n",
       "65     53\n",
       "66     57\n",
       "67     71\n",
       "68     69\n",
       "69     70\n",
       "70     82\n",
       "71    124\n",
       "72    251\n",
       "Name: tenure, dtype: int64"
      ]
     },
     "execution_count": 30,
     "metadata": {},
     "output_type": "execute_result"
    }
   ],
   "source": [
    "months = [1, 2, 3, 4, 5, 6]\n",
    "df_tenure_control = train.drop(train[train.tenure.isin(months)].index)\n",
    "df_tenure_control[\"tenure\"].value_counts().sort_index()"
   ]
  },
  {
   "cell_type": "code",
   "execution_count": 31,
   "metadata": {},
   "outputs": [
    {
     "data": {
      "text/plain": [
       "<matplotlib.axes._subplots.AxesSubplot at 0x1a184e0710>"
      ]
     },
     "execution_count": 31,
     "metadata": {},
     "output_type": "execute_result"
    },
    {
     "data": {
      "image/png": "[encoded data removed]",
      "text/plain": [
       "<Figure size 432x288 with 1 Axes>"
      ]
     },
     "metadata": {
      "needs_background": "light"
     },
     "output_type": "display_data"
    }
   ],
   "source": [
    "x = df_tenure_control.tenure\n",
    "y = df_tenure_control.churn\n",
    "sns.lineplot(x, y)"
   ]
  },
  {
   "cell_type": "markdown",
   "metadata": {},
   "source": [
    "- Distribution of tenure"
   ]
  },
  {
   "cell_type": "code",
   "execution_count": 32,
   "metadata": {},
   "outputs": [
    {
     "data": {
      "text/plain": [
       "(array([1181.,  531.,  410.,  375.,  326.,  327.,  315.,  330.,  350.,\n",
       "         777.]),\n",
       " array([ 1. ,  8.1, 15.2, 22.3, 29.4, 36.5, 43.6, 50.7, 57.8, 64.9, 72. ]),\n",
       " <a list of 10 Patch objects>)"
      ]
     },
     "execution_count": 32,
     "metadata": {},
     "output_type": "execute_result"
    },
    {
     "data": {
      "image/png": "[encoded data removed]",
      "text/plain": [
       "<Figure size 432x288 with 1 Axes>"
      ]
     },
     "metadata": {
      "needs_background": "light"
     },
     "output_type": "display_data"
    }
   ],
   "source": [
    "plt.hist(train[\"tenure\"])"
   ]
  },
  {
   "cell_type": "markdown",
   "metadata": {},
   "source": [
    "### Exploring data to create customer profiles"
   ]
  },
  {
   "cell_type": "markdown",
   "metadata": {},
   "source": [
    "Data Dictionary:\n",
    "\n",
    "- Monthly\n",
    "\n",
    "    -1 = True\n",
    "    \n",
    "    -2 = False"
   ]
  },
  {
   "cell_type": "code",
   "execution_count": 33,
   "metadata": {},
   "outputs": [
    {
     "data": {
      "text/plain": [
       "<matplotlib.axes._subplots.AxesSubplot at 0x1a18497a20>"
      ]
     },
     "execution_count": 33,
     "metadata": {},
     "output_type": "execute_result"
    },
    {
     "data": {
      "image/png": "[encoded data removed]",
      "text/plain": [
       "<Figure size 432x288 with 1 Axes>"
      ]
     },
     "metadata": {
      "needs_background": "light"
     },
     "output_type": "display_data"
    }
   ],
   "source": [
    "sns.barplot(data=df_tenure_control, x=\"monthly\", y=\"churn\")"
   ]
  },
  {
   "cell_type": "markdown",
   "metadata": {},
   "source": [
    "Data Dictionary:\n",
    "\n",
    "    -0 = False\n",
    "    \n",
    "    -1 = True"
   ]
  },
  {
   "cell_type": "code",
   "execution_count": 34,
   "metadata": {},
   "outputs": [
    {
     "data": {
      "text/plain": [
       "<matplotlib.axes._subplots.AxesSubplot at 0x1a18475518>"
      ]
     },
     "execution_count": 34,
     "metadata": {},
     "output_type": "execute_result"
    },
    {
     "data": {
      "image/png": "[encoded data removed]",
      "text/plain": [
       "<Figure size 1008x576 with 3 Axes>"
      ]
     },
     "metadata": {
      "needs_background": "light"
     },
     "output_type": "display_data"
    }
   ],
   "source": [
    "plt.figure(figsize=(14,8))\n",
    "plt.subplot(3,3,1)\n",
    "sns.barplot(x=\"dsl\", y=\"churn\", data=train, hue=\"family\")\n",
    "plt.subplot(3,3,2)\n",
    "sns.barplot(x=\"fiber\", y=\"churn\", data=train, hue=\"family\")\n",
    "plt.subplot(3,3,3)\n",
    "sns.barplot(x=\"none\", y=\"churn\", data=train, hue=\"family\")"
   ]
  },
  {
   "cell_type": "markdown",
   "metadata": {},
   "source": [
    "Data Dictionary:\n",
    "\n",
    "- Family\n",
    "\n",
    "    -True = partner and/or dependents\n",
    "    \n",
    "    -False = no partner or dependents\n",
    "    "
   ]
  },
  {
   "cell_type": "code",
   "execution_count": 35,
   "metadata": {},
   "outputs": [
    {
     "data": {
      "text/plain": [
       "<matplotlib.axes._subplots.AxesSubplot at 0x1a18457a20>"
      ]
     },
     "execution_count": 35,
     "metadata": {},
     "output_type": "execute_result"
    },
    {
     "data": {
      "image/png": "[encoded data removed]",
      "text/plain": [
       "<Figure size 432x288 with 1 Axes>"
      ]
     },
     "metadata": {
      "needs_background": "light"
     },
     "output_type": "display_data"
    }
   ],
   "source": [
    "sns.barplot(data=train, x=\"completed_years\", y=\"churn\", hue=\"family\")"
   ]
  },
  {
   "cell_type": "code",
   "execution_count": 36,
   "metadata": {},
   "outputs": [
    {
     "data": {
      "text/plain": [
       "<matplotlib.axes._subplots.AxesSubplot at 0x1a18458048>"
      ]
     },
     "execution_count": 36,
     "metadata": {},
     "output_type": "execute_result"
    },
    {
     "data": {
      "image/png": "[encoded data removed]",
      "text/plain": [
       "<Figure size 432x288 with 1 Axes>"
      ]
     },
     "metadata": {
      "needs_background": "light"
     },
     "output_type": "display_data"
    }
   ],
   "source": [
    "sns.barplot(data=train, x=\"completed_years\", y=\"churn\",hue=\"dsl\")"
   ]
  },
  {
   "cell_type": "markdown",
   "metadata": {},
   "source": [
    "Data Dictionary:\n",
    "\n",
    "- DSL\n",
    "\n",
    "    -0 = False\n",
    "    \n",
    "    -1 = True\n",
    "    \n",
    "    \n",
    "- Family\n",
    "\n",
    "    -True = partner and/or dependents\n",
    "    \n",
    "    -False = no partner or dependents"
   ]
  },
  {
   "cell_type": "code",
   "execution_count": 37,
   "metadata": {},
   "outputs": [
    {
     "data": {
      "text/plain": [
       "<matplotlib.axes._subplots.AxesSubplot at 0x1a18427ba8>"
      ]
     },
     "execution_count": 37,
     "metadata": {},
     "output_type": "execute_result"
    },
    {
     "data": {
      "image/png": "[encoded data removed]",
      "text/plain": [
       "<Figure size 432x288 with 1 Axes>"
      ]
     },
     "metadata": {
      "needs_background": "light"
     },
     "output_type": "display_data"
    }
   ],
   "source": [
    "sns.barplot(data=train, x=\"family\", y=\"churn\", hue=\"dsl\")"
   ]
  },
  {
   "cell_type": "markdown",
   "metadata": {},
   "source": [
    "Data Dictionary:\n",
    "\n",
    "- DSL\n",
    "\n",
    "    -0 = False\n",
    "    \n",
    "    -1 = True\n",
    "\n",
    "\n",
    "- Senior citizen\n",
    "\n",
    "    -0 = False\n",
    "    \n",
    "    -1 = True"
   ]
  },
  {
   "cell_type": "code",
   "execution_count": 38,
   "metadata": {},
   "outputs": [
    {
     "data": {
      "text/plain": [
       "<matplotlib.axes._subplots.AxesSubplot at 0x1a18415f28>"
      ]
     },
     "execution_count": 38,
     "metadata": {},
     "output_type": "execute_result"
    },
    {
     "data": {
      "image/png": "[encoded data removed]",
      "text/plain": [
       "<Figure size 432x288 with 1 Axes>"
      ]
     },
     "metadata": {
      "needs_background": "light"
     },
     "output_type": "display_data"
    }
   ],
   "source": [
    "\n",
    "sns.barplot(data=train, x=\"senior_citizen\", y=\"churn\", hue=\"dsl\")"
   ]
  },
  {
   "cell_type": "code",
   "execution_count": 39,
   "metadata": {},
   "outputs": [
    {
     "data": {
      "text/plain": [
       "<matplotlib.axes._subplots.AxesSubplot at 0x1a183ff898>"
      ]
     },
     "execution_count": 39,
     "metadata": {},
     "output_type": "execute_result"
    },
    {
     "data": {
      "image/png": "[encoded data removed]",
      "text/plain": [
       "<Figure size 432x288 with 1 Axes>"
      ]
     },
     "metadata": {
      "needs_background": "light"
     },
     "output_type": "display_data"
    }
   ],
   "source": [
    "sns.barplot(data=train, x=\"senior_citizen\", y=\"churn\", hue=\"monthly\")"
   ]
  },
  {
   "cell_type": "markdown",
   "metadata": {},
   "source": [
    "3. Is there a price threshold for specific services where the liklihood of churn increases? What services and at what price point?\n"
   ]
  },
  {
   "cell_type": "code",
   "execution_count": null,
   "metadata": {},
   "outputs": [],
   "source": []
  },
  {
   "cell_type": "code",
   "execution_count": null,
   "metadata": {},
   "outputs": [],
   "source": []
  },
  {
   "cell_type": "markdown",
   "metadata": {},
   "source": [
    "4. Looking at churn rate for month-to-month vs. 1-year contract customers after their 12th month of service, is the rate of churn different?"
   ]
  },
  {
   "cell_type": "code",
   "execution_count": 40,
   "metadata": {},
   "outputs": [
    {
     "data": {
      "text/plain": [
       "5968    False\n",
       "3585    False\n",
       "6987    False\n",
       "5060    False\n",
       "3992    False\n",
       "6836    False\n",
       "6991    False\n",
       "1079    False\n",
       "4833    False\n",
       "4901    False\n",
       "4784    False\n",
       "352     False\n",
       "382     False\n",
       "6844    False\n",
       "2262    False\n",
       "6361    False\n",
       "6052    False\n",
       "2074    False\n",
       "6195    False\n",
       "1112    False\n",
       "4870    False\n",
       "5778    False\n",
       "5046    False\n",
       "4679    False\n",
       "3564    False\n",
       "5769    False\n",
       "5836    False\n",
       "2140    False\n",
       "6149    False\n",
       "3960    False\n",
       "1702    False\n",
       "4938    False\n",
       "3317    False\n",
       "1044    False\n",
       "5141    False\n",
       "3413    False\n",
       "5763    False\n",
       "5224    False\n",
       "2873    False\n",
       "5911    False\n",
       "4572    False\n",
       "1007    False\n",
       "845     False\n",
       "2670    False\n",
       "6367    False\n",
       "3625    False\n",
       "1068    False\n",
       "3798    False\n",
       "5417    False\n",
       "5834    False\n",
       "3577    False\n",
       "1193    False\n",
       "3723    False\n",
       "5584    False\n",
       "5030    False\n",
       "2295    False\n",
       "3560    False\n",
       "6401    False\n",
       "5565    False\n",
       "4656    False\n",
       "5425    False\n",
       "3323    False\n",
       "6214    False\n",
       "460     False\n",
       "2083    False\n",
       "1605    False\n",
       "4249    False\n",
       "2953    False\n",
       "1304    False\n",
       "6208    False\n",
       "4995    False\n",
       "4359    False\n",
       "1833    False\n",
       "1981    False\n",
       "6729    False\n",
       "5989    False\n",
       "1394    False\n",
       "5113    False\n",
       "3804    False\n",
       "4375    False\n",
       "3978    False\n",
       "7027    False\n",
       "824     False\n",
       "3218    False\n",
       "110     False\n",
       "        ...  \n",
       "500     False\n",
       "4333    False\n",
       "552     False\n",
       "1623    False\n",
       "4396    False\n",
       "4461    False\n",
       "306     False\n",
       "2072    False\n",
       "1764    False\n",
       "5070    False\n",
       "2178    False\n",
       "1195    False\n",
       "100     False\n",
       "1115    False\n",
       "5391    False\n",
       "3680    False\n",
       "5661    False\n",
       "3604    False\n",
       "5499    False\n",
       "4794    False\n",
       "44      False\n",
       "4313    False\n",
       "3247    False\n",
       "481     False\n",
       "962     False\n",
       "7014    False\n",
       "1088    False\n",
       "4943    False\n",
       "3471    False\n",
       "3406    False\n",
       "652     False\n",
       "1544    False\n",
       "76      False\n",
       "6014    False\n",
       "6961    False\n",
       "1340    False\n",
       "5538    False\n",
       "3287    False\n",
       "3809    False\n",
       "6678    False\n",
       "1004    False\n",
       "4589    False\n",
       "4192    False\n",
       "5878    False\n",
       "3305    False\n",
       "6045    False\n",
       "2811    False\n",
       "6549    False\n",
       "55      False\n",
       "4620    False\n",
       "374     False\n",
       "3041    False\n",
       "3791    False\n",
       "4835    False\n",
       "5524    False\n",
       "6389    False\n",
       "3259    False\n",
       "986     False\n",
       "6575    False\n",
       "580     False\n",
       "205     False\n",
       "1086    False\n",
       "2922    False\n",
       "2956    False\n",
       "1229    False\n",
       "663     False\n",
       "4129    False\n",
       "2468    False\n",
       "2041    False\n",
       "6655    False\n",
       "5118    False\n",
       "406     False\n",
       "5799    False\n",
       "2236    False\n",
       "6503    False\n",
       "3670    False\n",
       "3944    False\n",
       "5534    False\n",
       "5409    False\n",
       "6281    False\n",
       "4406    False\n",
       "2305    False\n",
       "4014    False\n",
       "3120    False\n",
       "1383    False\n",
       "Length: 4922, dtype: bool"
      ]
     },
     "execution_count": 40,
     "metadata": {},
     "output_type": "execute_result"
    }
   ],
   "source": [
    "#train[\"contract_type_id\"].value_counts()\n",
    "(train.tenure == 12) & (train.contract_type_id == \"month_to_month\")"
   ]
  },
  {
   "cell_type": "markdown",
   "metadata": {},
   "source": [
    "5. Use a t-test to find out of the monthly charges of those who have\n",
    "churned is significantly higher thatn those who have not. Control for:\n",
    "(phone_id, internet_service_type_id, online_security_backup, device_protection, \n",
    "tech_support, and contract_type_id)\n"
   ]
  },
  {
   "cell_type": "markdown",
   "metadata": {},
   "source": [
    "- Customers with DSL who have not churned:"
   ]
  },
  {
   "cell_type": "code",
   "execution_count": 41,
   "metadata": {},
   "outputs": [],
   "source": [
    "no_churn_dsl = train[(train[\"internet_service_type_id\"] == 1) & (train[\"churn\"] == False)]"
   ]
  },
  {
   "cell_type": "markdown",
   "metadata": {},
   "source": [
    "- Customers with DSL who have churned:"
   ]
  },
  {
   "cell_type": "code",
   "execution_count": 42,
   "metadata": {},
   "outputs": [],
   "source": [
    "churn_dsl = train[(train[\"internet_service_type_id\"] == 1) & (train[\"churn\"] == True)]"
   ]
  },
  {
   "cell_type": "markdown",
   "metadata": {},
   "source": [
    "- Customers with Fiber who have not churned:"
   ]
  },
  {
   "cell_type": "code",
   "execution_count": 43,
   "metadata": {},
   "outputs": [],
   "source": [
    "no_churn_fiber = train[(train[\"internet_service_type_id\"] == 2) & (train[\"churn\"] == False)]"
   ]
  },
  {
   "cell_type": "markdown",
   "metadata": {},
   "source": [
    "- Customers with DSL who have churned:"
   ]
  },
  {
   "cell_type": "code",
   "execution_count": 44,
   "metadata": {},
   "outputs": [],
   "source": [
    "churn_fiber = train[(train[\"internet_service_type_id\"] == 2) & (train[\"churn\"] == True)]"
   ]
  },
  {
   "cell_type": "markdown",
   "metadata": {},
   "source": [
    "- Calculate mean of monthly_charges for DSL customers who have not churned."
   ]
  },
  {
   "cell_type": "code",
   "execution_count": 45,
   "metadata": {},
   "outputs": [
    {
     "name": "stdout",
     "output_type": "stream",
     "text": [
      "The mean of monthly charges for DSL customers who have not churned is: \n",
      "60.149708454810494\n"
     ]
    }
   ],
   "source": [
    "dsl_no_churn_monthly = no_churn_dsl[\"monthly_charges\"].mean()\n",
    "print(f\"The mean of monthly charges for DSL customers who have not churned is: \")\n",
    "print(dsl_no_churn_monthly)"
   ]
  },
  {
   "cell_type": "markdown",
   "metadata": {},
   "source": [
    "- Calculate mean of monthly_charges for DSL customers who have churned."
   ]
  },
  {
   "cell_type": "code",
   "execution_count": 46,
   "metadata": {},
   "outputs": [
    {
     "name": "stdout",
     "output_type": "stream",
     "text": [
      "The mean of monthly charges for DSL customers who have churned is: \n",
      "48.97953846153845\n"
     ]
    }
   ],
   "source": [
    "dsl_churn_monthly = churn_dsl[\"monthly_charges\"].mean()\n",
    "print(f\"The mean of monthly charges for DSL customers who have churned is: \")\n",
    "print(dsl_churn_monthly)"
   ]
  },
  {
   "cell_type": "markdown",
   "metadata": {},
   "source": [
    "- Calculate mean of monthly_charges for Fiber customers who have not churned."
   ]
  },
  {
   "cell_type": "code",
   "execution_count": 47,
   "metadata": {},
   "outputs": [
    {
     "name": "stdout",
     "output_type": "stream",
     "text": [
      "The mean of monthly charges for Fiber customers who have not churned is: \n",
      "93.8604299363058\n"
     ]
    }
   ],
   "source": [
    "fiber_no_churn_monthly = no_churn_fiber[\"monthly_charges\"].mean()\n",
    "print(f\"The mean of monthly charges for Fiber customers who have not churned is: \")\n",
    "print(fiber_no_churn_monthly)"
   ]
  },
  {
   "cell_type": "markdown",
   "metadata": {},
   "source": [
    "- Calculate mean of monthly_charges for Fiber customers who have churned."
   ]
  },
  {
   "cell_type": "code",
   "execution_count": 48,
   "metadata": {},
   "outputs": [
    {
     "name": "stdout",
     "output_type": "stream",
     "text": [
      "The mean of monthly charges for Fiber customers who have churned is: \n",
      "88.16048834628198\n"
     ]
    }
   ],
   "source": [
    "fiber_churn_monthly = churn_fiber[\"monthly_charges\"].mean()\n",
    "print(f\"The mean of monthly charges for Fiber customers who have churned is: \")\n",
    "print(fiber_churn_monthly)"
   ]
  },
  {
   "cell_type": "markdown",
   "metadata": {},
   "source": [
    "#### Actual T-test"
   ]
  },
  {
   "cell_type": "code",
   "execution_count": 49,
   "metadata": {},
   "outputs": [
    {
     "name": "stdout",
     "output_type": "stream",
     "text": [
      "The test statistic for DSL customers who churn vs. those who don't churn is: 11.578298166663087\n",
      "The p-value of the test is: \n",
      "6.844185456987299e-30\n"
     ]
    }
   ],
   "source": [
    "test_results = stats.ttest_ind(no_churn_dsl.monthly_charges, churn_dsl.monthly_charges)\n",
    "print(f\"The test statistic for DSL customers who churn vs. those who don't churn is: {test_results[0]}\")\n",
    "print(f\"The p-value of the test is: \")\n",
    "print(test_results[1])"
   ]
  },
  {
   "cell_type": "code",
   "execution_count": 50,
   "metadata": {},
   "outputs": [
    {
     "name": "stdout",
     "output_type": "stream",
     "text": [
      "The test statistic for Fiber customers who churn vs. those who don't churn is: 10.584086721880396\n",
      "The p-value of the test is: \n",
      "1.4796197678260636e-25\n"
     ]
    }
   ],
   "source": [
    "test_results = stats.ttest_ind(no_churn_fiber.monthly_charges, churn_fiber.monthly_charges)\n",
    "print(f\"The test statistic for Fiber customers who churn vs. those who don't churn is: {test_results[0]}\")\n",
    "print(f\"The p-value of the test is: \")\n",
    "print(test_results[1])"
   ]
  },
  {
   "cell_type": "markdown",
   "metadata": {},
   "source": [
    "6. Perform a correlation test, stating hypothesis and conclusion clearly that states if monthly charges can be explained by internet_service_type\n"
   ]
  },
  {
   "cell_type": "markdown",
   "metadata": {},
   "source": [
    "$H_0$: The Null Hypothesis is that the monthly charges cannot be explained by internet_service_type."
   ]
  },
  {
   "cell_type": "markdown",
   "metadata": {},
   "source": [
    "$H_a$: The Null Hypothesis is that the monthly charges can be explained by internet_service_type."
   ]
  },
  {
   "cell_type": "code",
   "execution_count": null,
   "metadata": {},
   "outputs": [],
   "source": []
  },
  {
   "cell_type": "code",
   "execution_count": null,
   "metadata": {},
   "outputs": [],
   "source": []
  },
  {
   "cell_type": "markdown",
   "metadata": {},
   "source": [
    "7. How much of monthly_charges can be explained by internet_service_type + phone service type (0, 1, or multiple lines). State your hypotheses and your conclusion clearly.\n",
    "\n",
    "\n"
   ]
  },
  {
   "cell_type": "markdown",
   "metadata": {},
   "source": [
    "$H_0$: The Null Hypothesis is that the monthly charges cannot be explained by internet_service_type + phone_service_type."
   ]
  },
  {
   "cell_type": "markdown",
   "metadata": {},
   "source": [
    "$H_a$: The Null Hypothesis is that the monthly charges can be explained by internet_service_type + phone_service_type."
   ]
  },
  {
   "cell_type": "code",
   "execution_count": null,
   "metadata": {},
   "outputs": [],
   "source": []
  },
  {
   "cell_type": "markdown",
   "metadata": {},
   "source": [
    "8. Create visualizations exploring the interactions of variables (independent with independent and independent with dependent). The goal is to identify features that are related to churn, identify any data integrity issues, understand 'how the data works'. For example, we may find that all who have online services also have device protection. In that case, we don't need both of those. (The visualizations done in your analysis for questions 1-5 count towards the requirements below)\n",
    "\n"
   ]
  },
  {
   "cell_type": "code",
   "execution_count": null,
   "metadata": {},
   "outputs": [],
   "source": [
    "\n"
   ]
  },
  {
   "cell_type": "markdown",
   "metadata": {},
   "source": [
    "9. What can you say about each variable's relationship to churn, based on your initial exploration? If there appears to be some sort of interaction or correlation, assume there is no causal relationship and brainstorm (and document) ideas on reasons there could be correlation.\n",
    "\n",
    "\n"
   ]
  },
  {
   "cell_type": "code",
   "execution_count": null,
   "metadata": {},
   "outputs": [],
   "source": []
  },
  {
   "cell_type": "markdown",
   "metadata": {},
   "source": [
    "10. Summarize your conclusions, provide clear answers to the specific questions, and summarize any takeaways/action plan from the work above.\n",
    "\n",
    "\n"
   ]
  },
  {
   "cell_type": "code",
   "execution_count": null,
   "metadata": {},
   "outputs": [],
   "source": []
  },
  {
   "cell_type": "markdown",
   "metadata": {},
   "source": [
    "### Scale Data Using MinMaxScaler"
   ]
  },
  {
   "cell_type": "code",
   "execution_count": 51,
   "metadata": {},
   "outputs": [],
   "source": [
    "column_list = [\"monthly_charges\", \"total_charges\", \"tenure\", \"completed_years\"]\n",
    "x_train, x_test, scaler = scale_minmax(x_train, x_test, column_list)"
   ]
  },
  {
   "cell_type": "code",
   "execution_count": 52,
   "metadata": {},
   "outputs": [
    {
     "data": {
      "text/html": [
       "<div>\n",
       "<style scoped>\n",
       "    .dataframe tbody tr th:only-of-type {\n",
       "        vertical-align: middle;\n",
       "    }\n",
       "\n",
       "    .dataframe tbody tr th {\n",
       "        vertical-align: top;\n",
       "    }\n",
       "\n",
       "    .dataframe thead th {\n",
       "        text-align: right;\n",
       "    }\n",
       "</style>\n",
       "<table border=\"1\" class=\"dataframe\">\n",
       "  <thead>\n",
       "    <tr style=\"text-align: right;\">\n",
       "      <th></th>\n",
       "      <th>internet_service_type_id</th>\n",
       "      <th>contract_type_id</th>\n",
       "      <th>gender</th>\n",
       "      <th>senior_citizen</th>\n",
       "      <th>tenure</th>\n",
       "      <th>phone_service</th>\n",
       "      <th>multiple_lines</th>\n",
       "      <th>monthly_charges</th>\n",
       "      <th>total_charges</th>\n",
       "      <th>completed_years</th>\n",
       "      <th>...</th>\n",
       "      <th>dsl</th>\n",
       "      <th>fiber</th>\n",
       "      <th>none</th>\n",
       "      <th>monthly</th>\n",
       "      <th>1-year</th>\n",
       "      <th>2-year</th>\n",
       "      <th>monthly_charges_scaled</th>\n",
       "      <th>total_charges_scaled</th>\n",
       "      <th>tenure_scaled</th>\n",
       "      <th>completed_years_scaled</th>\n",
       "    </tr>\n",
       "  </thead>\n",
       "  <tbody>\n",
       "    <tr>\n",
       "      <th>6934</th>\n",
       "      <td>3</td>\n",
       "      <td>3</td>\n",
       "      <td>1</td>\n",
       "      <td>0</td>\n",
       "      <td>71</td>\n",
       "      <td>True</td>\n",
       "      <td>False</td>\n",
       "      <td>20.50</td>\n",
       "      <td>1500.95</td>\n",
       "      <td>6.0</td>\n",
       "      <td>...</td>\n",
       "      <td>0.0</td>\n",
       "      <td>0.0</td>\n",
       "      <td>1.0</td>\n",
       "      <td>0.0</td>\n",
       "      <td>0.0</td>\n",
       "      <td>1.0</td>\n",
       "      <td>0.020958</td>\n",
       "      <td>0.171030</td>\n",
       "      <td>0.985915</td>\n",
       "      <td>1.000000</td>\n",
       "    </tr>\n",
       "    <tr>\n",
       "      <th>928</th>\n",
       "      <td>1</td>\n",
       "      <td>1</td>\n",
       "      <td>0</td>\n",
       "      <td>0</td>\n",
       "      <td>6</td>\n",
       "      <td>True</td>\n",
       "      <td>False</td>\n",
       "      <td>44.60</td>\n",
       "      <td>260.80</td>\n",
       "      <td>0.0</td>\n",
       "      <td>...</td>\n",
       "      <td>1.0</td>\n",
       "      <td>0.0</td>\n",
       "      <td>0.0</td>\n",
       "      <td>1.0</td>\n",
       "      <td>0.0</td>\n",
       "      <td>0.0</td>\n",
       "      <td>0.261477</td>\n",
       "      <td>0.027925</td>\n",
       "      <td>0.070423</td>\n",
       "      <td>0.000000</td>\n",
       "    </tr>\n",
       "    <tr>\n",
       "      <th>4880</th>\n",
       "      <td>2</td>\n",
       "      <td>2</td>\n",
       "      <td>1</td>\n",
       "      <td>1</td>\n",
       "      <td>72</td>\n",
       "      <td>True</td>\n",
       "      <td>True</td>\n",
       "      <td>105.00</td>\n",
       "      <td>7578.05</td>\n",
       "      <td>6.0</td>\n",
       "      <td>...</td>\n",
       "      <td>0.0</td>\n",
       "      <td>1.0</td>\n",
       "      <td>0.0</td>\n",
       "      <td>0.0</td>\n",
       "      <td>1.0</td>\n",
       "      <td>0.0</td>\n",
       "      <td>0.864271</td>\n",
       "      <td>0.872288</td>\n",
       "      <td>1.000000</td>\n",
       "      <td>1.000000</td>\n",
       "    </tr>\n",
       "    <tr>\n",
       "      <th>3828</th>\n",
       "      <td>2</td>\n",
       "      <td>1</td>\n",
       "      <td>0</td>\n",
       "      <td>0</td>\n",
       "      <td>1</td>\n",
       "      <td>True</td>\n",
       "      <td>False</td>\n",
       "      <td>69.35</td>\n",
       "      <td>69.35</td>\n",
       "      <td>0.0</td>\n",
       "      <td>...</td>\n",
       "      <td>0.0</td>\n",
       "      <td>1.0</td>\n",
       "      <td>0.0</td>\n",
       "      <td>1.0</td>\n",
       "      <td>0.0</td>\n",
       "      <td>0.0</td>\n",
       "      <td>0.508483</td>\n",
       "      <td>0.005833</td>\n",
       "      <td>0.000000</td>\n",
       "      <td>0.000000</td>\n",
       "    </tr>\n",
       "    <tr>\n",
       "      <th>6441</th>\n",
       "      <td>3</td>\n",
       "      <td>3</td>\n",
       "      <td>0</td>\n",
       "      <td>0</td>\n",
       "      <td>50</td>\n",
       "      <td>True</td>\n",
       "      <td>False</td>\n",
       "      <td>19.80</td>\n",
       "      <td>1013.20</td>\n",
       "      <td>4.0</td>\n",
       "      <td>...</td>\n",
       "      <td>0.0</td>\n",
       "      <td>0.0</td>\n",
       "      <td>1.0</td>\n",
       "      <td>0.0</td>\n",
       "      <td>0.0</td>\n",
       "      <td>1.0</td>\n",
       "      <td>0.013972</td>\n",
       "      <td>0.114747</td>\n",
       "      <td>0.690141</td>\n",
       "      <td>0.666667</td>\n",
       "    </tr>\n",
       "  </tbody>\n",
       "</table>\n",
       "<p>5 rows × 23 columns</p>\n",
       "</div>"
      ],
      "text/plain": [
       "      internet_service_type_id  contract_type_id  gender  senior_citizen  \\\n",
       "6934                         3                 3       1               0   \n",
       "928                          1                 1       0               0   \n",
       "4880                         2                 2       1               1   \n",
       "3828                         2                 1       0               0   \n",
       "6441                         3                 3       0               0   \n",
       "\n",
       "      tenure  phone_service  multiple_lines  monthly_charges  total_charges  \\\n",
       "6934      71           True           False            20.50        1500.95   \n",
       "928        6           True           False            44.60         260.80   \n",
       "4880      72           True            True           105.00        7578.05   \n",
       "3828       1           True           False            69.35          69.35   \n",
       "6441      50           True           False            19.80        1013.20   \n",
       "\n",
       "      completed_years  ...  dsl  fiber  none  monthly  1-year  2-year  \\\n",
       "6934              6.0  ...  0.0    0.0   1.0      0.0     0.0     1.0   \n",
       "928               0.0  ...  1.0    0.0   0.0      1.0     0.0     0.0   \n",
       "4880              6.0  ...  0.0    1.0   0.0      0.0     1.0     0.0   \n",
       "3828              0.0  ...  0.0    1.0   0.0      1.0     0.0     0.0   \n",
       "6441              4.0  ...  0.0    0.0   1.0      0.0     0.0     1.0   \n",
       "\n",
       "      monthly_charges_scaled  total_charges_scaled  tenure_scaled  \\\n",
       "6934                0.020958              0.171030       0.985915   \n",
       "928                 0.261477              0.027925       0.070423   \n",
       "4880                0.864271              0.872288       1.000000   \n",
       "3828                0.508483              0.005833       0.000000   \n",
       "6441                0.013972              0.114747       0.690141   \n",
       "\n",
       "      completed_years_scaled  \n",
       "6934                1.000000  \n",
       "928                 0.000000  \n",
       "4880                1.000000  \n",
       "3828                0.000000  \n",
       "6441                0.666667  \n",
       "\n",
       "[5 rows x 23 columns]"
      ]
     },
     "execution_count": 52,
     "metadata": {},
     "output_type": "execute_result"
    }
   ],
   "source": [
    "x_train.head()\n",
    "x_test.head()"
   ]
  },
  {
   "cell_type": "markdown",
   "metadata": {},
   "source": [
    "### Modeling"
   ]
  },
  {
   "cell_type": "markdown",
   "metadata": {},
   "source": [
    "#### Feature selection: can you remove any features that provide limited to no additional info?\n"
   ]
  },
  {
   "cell_type": "code",
   "execution_count": 53,
   "metadata": {},
   "outputs": [],
   "source": [
    "x_train.drop(columns=[\"internet_service_type_id\", \"contract_type_id\", \"monthly_charges\", \"total_charges\", \"tenure\", \"completed_years\"], axis=1, inplace=True)"
   ]
  },
  {
   "cell_type": "code",
   "execution_count": 54,
   "metadata": {},
   "outputs": [],
   "source": [
    "x_test.drop(columns=[\"internet_service_type_id\", \"contract_type_id\", \"monthly_charges\", \"total_charges\", \"tenure\", \"completed_years\"], axis=1, inplace=True)"
   ]
  },
  {
   "cell_type": "markdown",
   "metadata": {},
   "source": [
    "## Train Baseline Model\n",
    "\n",
    "### Create the Decision Tree Object"
   ]
  },
  {
   "cell_type": "code",
   "execution_count": 55,
   "metadata": {},
   "outputs": [],
   "source": [
    "\n",
    "clf = DecisionTreeClassifier(max_depth=3, random_state=123)"
   ]
  },
  {
   "cell_type": "markdown",
   "metadata": {},
   "source": [
    "### Fit the model to the training data"
   ]
  },
  {
   "cell_type": "code",
   "execution_count": 56,
   "metadata": {},
   "outputs": [
    {
     "data": {
      "text/plain": [
       "(4922, 17)"
      ]
     },
     "execution_count": 56,
     "metadata": {},
     "output_type": "execute_result"
    }
   ],
   "source": [
    "x_train.shape"
   ]
  },
  {
   "cell_type": "code",
   "execution_count": 57,
   "metadata": {},
   "outputs": [
    {
     "data": {
      "text/plain": [
       "(4922, 1)"
      ]
     },
     "execution_count": 57,
     "metadata": {},
     "output_type": "execute_result"
    }
   ],
   "source": [
    "y_train.shape"
   ]
  },
  {
   "cell_type": "code",
   "execution_count": 58,
   "metadata": {},
   "outputs": [
    {
     "data": {
      "text/plain": [
       "DecisionTreeClassifier(class_weight=None, criterion='gini', max_depth=3,\n",
       "                       max_features=None, max_leaf_nodes=None,\n",
       "                       min_impurity_decrease=0.0, min_impurity_split=None,\n",
       "                       min_samples_leaf=1, min_samples_split=2,\n",
       "                       min_weight_fraction_leaf=0.0, presort=False,\n",
       "                       random_state=123, splitter='best')"
      ]
     },
     "execution_count": 58,
     "metadata": {},
     "output_type": "execute_result"
    }
   ],
   "source": [
    "clf.fit(x_train, y_train)"
   ]
  },
  {
   "cell_type": "markdown",
   "metadata": {},
   "source": [
    "### Estimate Churn"
   ]
  },
  {
   "cell_type": "code",
   "execution_count": 59,
   "metadata": {},
   "outputs": [
    {
     "data": {
      "text/plain": [
       "array([False,  True, False, False, False])"
      ]
     },
     "execution_count": 59,
     "metadata": {},
     "output_type": "execute_result"
    }
   ],
   "source": [
    "y_pred = clf.predict(x_train)\n",
    "y_pred[0:5]"
   ]
  },
  {
   "cell_type": "markdown",
   "metadata": {},
   "source": [
    "### Estimate the probability of churn"
   ]
  },
  {
   "cell_type": "code",
   "execution_count": 60,
   "metadata": {},
   "outputs": [
    {
     "data": {
      "text/plain": [
       "array([[0.81208936, 0.18791064],\n",
       "       [0.30837004, 0.69162996],\n",
       "       [0.98447894, 0.01552106],\n",
       "       ...,\n",
       "       [0.30837004, 0.69162996],\n",
       "       [0.30837004, 0.69162996],\n",
       "       [0.92972182, 0.07027818]])"
      ]
     },
     "execution_count": 60,
     "metadata": {},
     "output_type": "execute_result"
    }
   ],
   "source": [
    "y_pred_proba = clf.predict_proba(x_train)\n",
    "y_pred_proba"
   ]
  },
  {
   "cell_type": "markdown",
   "metadata": {},
   "source": [
    "## Evaluate Model\n"
   ]
  },
  {
   "cell_type": "code",
   "execution_count": 61,
   "metadata": {},
   "outputs": [
    {
     "name": "stdout",
     "output_type": "stream",
     "text": [
      "Accuracy of Decision Tree classifier on training set: 0.79\n"
     ]
    }
   ],
   "source": [
    "print('Accuracy of Decision Tree classifier on training set: {:.2f}'\n",
    "     .format(clf.score(x_train, y_train)))"
   ]
  },
  {
   "cell_type": "markdown",
   "metadata": {},
   "source": [
    "## Create a confusion matrix\n",
    "\n",
    "- True Positive: number of occurrences where y is true and y is predicted true.\n",
    "\n",
    "- True Negative: number of occurrences where y is false and y is predicted false.\n",
    "\n",
    "- False Positive: number of occurrences where y is false and y is predicted true.\n",
    "\n",
    "- False Negative: number of occurrences where y is true and y is predicted false.\n"
   ]
  },
  {
   "cell_type": "code",
   "execution_count": 62,
   "metadata": {},
   "outputs": [
    {
     "data": {
      "text/html": [
       "<div>\n",
       "<style scoped>\n",
       "    .dataframe tbody tr th:only-of-type {\n",
       "        vertical-align: middle;\n",
       "    }\n",
       "\n",
       "    .dataframe tbody tr th {\n",
       "        vertical-align: top;\n",
       "    }\n",
       "\n",
       "    .dataframe thead th {\n",
       "        text-align: right;\n",
       "    }\n",
       "</style>\n",
       "<table border=\"1\" class=\"dataframe\">\n",
       "  <thead>\n",
       "    <tr style=\"text-align: right;\">\n",
       "      <th></th>\n",
       "      <th>0</th>\n",
       "      <th>1</th>\n",
       "    </tr>\n",
       "  </thead>\n",
       "  <tbody>\n",
       "    <tr>\n",
       "      <th>0</th>\n",
       "      <td>3404</td>\n",
       "      <td>210</td>\n",
       "    </tr>\n",
       "    <tr>\n",
       "      <th>1</th>\n",
       "      <td>837</td>\n",
       "      <td>471</td>\n",
       "    </tr>\n",
       "  </tbody>\n",
       "</table>\n",
       "</div>"
      ],
      "text/plain": [
       "      0    1\n",
       "0  3404  210\n",
       "1   837  471"
      ]
     },
     "execution_count": 62,
     "metadata": {},
     "output_type": "execute_result"
    }
   ],
   "source": [
    "cm = pd.DataFrame(confusion_matrix(y_train, y_pred))\n",
    "cm"
   ]
  },
  {
   "cell_type": "markdown",
   "metadata": {},
   "source": [
    "### Findings After Running Decision Tree Model with Unscaled Data\n",
    "\n",
    "- This confustion matrix tells me that my model is better at predicting True Negatives than True Positives.\n",
    "\n",
    "\n",
    "- The model predicts at an overall accuracy rate of 78%\n",
    "\n",
    "\n",
    "- However, the Recall rate for customers who churn is 37% which means that the model is not predicting the positives for churn very well. It is at 93% for predicting the customers who will not churn, so my model is out of balance. \n",
    "\n",
    "\n",
    "- I want to be able to better predict the customers who will churn, so we can create personas and more accurately target them with strategies that will keep them from churning."
   ]
  },
  {
   "cell_type": "markdown",
   "metadata": {},
   "source": [
    "### Create a classification report\n",
    "\n",
    "- Precision: the higher this number is, the more you were able to pinpoint all positives correctly. If this is a low score, you predicted a lot of positives where there were none. tp / (tp + fp)\n",
    "\n",
    "\n",
    "- Recall: if this score is high, you didn’t miss a lot of positives. But as it gets lower, you are not predicting the positives that are actually there. tp / (tp + fn)\n",
    "\n",
    "\n",
    "- f1-score: The balanced harmonic mean of Recall and Precision, giving both metrics equal weight. The higher the F-Measure is, the better.\n",
    "\n",
    "\n",
    "- Support: number of occurrences of each class in where y is true."
   ]
  },
  {
   "cell_type": "code",
   "execution_count": 63,
   "metadata": {},
   "outputs": [
    {
     "name": "stdout",
     "output_type": "stream",
     "text": [
      "              precision    recall  f1-score   support\n",
      "\n",
      "       False       0.80      0.94      0.87      3614\n",
      "        True       0.69      0.36      0.47      1308\n",
      "\n",
      "    accuracy                           0.79      4922\n",
      "   macro avg       0.75      0.65      0.67      4922\n",
      "weighted avg       0.77      0.79      0.76      4922\n",
      "\n"
     ]
    }
   ],
   "source": [
    "print(classification_report(y_train, y_pred))"
   ]
  },
  {
   "cell_type": "markdown",
   "metadata": {},
   "source": [
    "## Train Model \n",
    "\n",
    "### Create the Logistic Regression Object"
   ]
  },
  {
   "cell_type": "code",
   "execution_count": 64,
   "metadata": {},
   "outputs": [],
   "source": [
    "logit = LogisticRegression(random_state = 123, solver='saga')"
   ]
  },
  {
   "cell_type": "markdown",
   "metadata": {},
   "source": [
    "### Train \n",
    "\n",
    "- (fit, transform, evaluate) multiple models and select the best performing model.\n"
   ]
  },
  {
   "cell_type": "code",
   "execution_count": 65,
   "metadata": {},
   "outputs": [
    {
     "data": {
      "text/plain": [
       "LogisticRegression(C=1.0, class_weight=None, dual=False, fit_intercept=True,\n",
       "                   intercept_scaling=1, l1_ratio=None, max_iter=100,\n",
       "                   multi_class='warn', n_jobs=None, penalty='l2',\n",
       "                   random_state=123, solver='saga', tol=0.0001, verbose=0,\n",
       "                   warm_start=False)"
      ]
     },
     "execution_count": 65,
     "metadata": {},
     "output_type": "execute_result"
    }
   ],
   "source": [
    "logit.fit(x_train, y_train)"
   ]
  },
  {
   "cell_type": "markdown",
   "metadata": {},
   "source": [
    "### Compare eval metrics across all the models and select best performing\n"
   ]
  },
  {
   "cell_type": "markdown",
   "metadata": {},
   "source": [
    "- Print the coefficients and intercept of the model\n"
   ]
  },
  {
   "cell_type": "code",
   "execution_count": 66,
   "metadata": {},
   "outputs": [
    {
     "name": "stdout",
     "output_type": "stream",
     "text": [
      "Coefficient: \n",
      " [[ 0.08513601  0.28776881 -0.91334532  0.23380946 -0.1479889   0.17372898\n",
      "  -0.50780396 -0.07676468  0.77651662 -0.70788     0.8298527   0.05375959\n",
      "  -0.89174035  0.85861224  0.9633632  -1.90316312 -0.90729483]]\n",
      "Intercept: \n",
      " [-0.49153457]\n"
     ]
    }
   ],
   "source": [
    "print('Coefficient: \\n', logit.coef_)\n",
    "print('Intercept: \\n', logit.intercept_)"
   ]
  },
  {
   "cell_type": "markdown",
   "metadata": {},
   "source": [
    "### Estimate whether or not a customer will churn\n"
   ]
  },
  {
   "cell_type": "code",
   "execution_count": 67,
   "metadata": {},
   "outputs": [
    {
     "data": {
      "text/plain": [
       "array([False,  True, False, False,  True])"
      ]
     },
     "execution_count": 67,
     "metadata": {},
     "output_type": "execute_result"
    }
   ],
   "source": [
    "y_pred = logit.predict(x_train)\n",
    "y_pred[0:5]"
   ]
  },
  {
   "cell_type": "markdown",
   "metadata": {},
   "source": [
    "### Estimate the probability of a customer churning using the train data"
   ]
  },
  {
   "cell_type": "code",
   "execution_count": 68,
   "metadata": {},
   "outputs": [
    {
     "data": {
      "text/plain": [
       "array([[0.83776219, 0.16223781],\n",
       "       [0.33654453, 0.66345547],\n",
       "       [0.98864952, 0.01135048],\n",
       "       ...,\n",
       "       [0.36319381, 0.63680619],\n",
       "       [0.32373784, 0.67626216],\n",
       "       [0.89077844, 0.10922156]])"
      ]
     },
     "execution_count": 68,
     "metadata": {},
     "output_type": "execute_result"
    }
   ],
   "source": [
    "y_pred_proba = logit.predict_proba(x_train)\n",
    "y_pred_proba"
   ]
  },
  {
   "cell_type": "markdown",
   "metadata": {},
   "source": [
    "### Evaluate\n",
    "\n",
    "- Compute the accuracy\n"
   ]
  },
  {
   "cell_type": "code",
   "execution_count": 69,
   "metadata": {},
   "outputs": [
    {
     "name": "stdout",
     "output_type": "stream",
     "text": [
      "Accuracy of Logistic Regression classifier on training set: 0.80\n"
     ]
    }
   ],
   "source": [
    "print('Accuracy of Logistic Regression classifier on training set: {:.2f}'\n",
    "     .format(logit.score(x_train, y_train)))\n"
   ]
  },
  {
   "cell_type": "markdown",
   "metadata": {},
   "source": [
    "### Create a confusion matrix\n"
   ]
  },
  {
   "cell_type": "code",
   "execution_count": 70,
   "metadata": {},
   "outputs": [
    {
     "name": "stdout",
     "output_type": "stream",
     "text": [
      "[[3247  367]\n",
      " [ 627  681]]\n"
     ]
    }
   ],
   "source": [
    "print(confusion_matrix(y_train, y_pred))"
   ]
  },
  {
   "cell_type": "markdown",
   "metadata": {},
   "source": [
    "### Compute Precision, Recall, F1-score, and Support"
   ]
  },
  {
   "cell_type": "code",
   "execution_count": 71,
   "metadata": {},
   "outputs": [
    {
     "name": "stdout",
     "output_type": "stream",
     "text": [
      "              precision    recall  f1-score   support\n",
      "\n",
      "       False       0.84      0.90      0.87      3614\n",
      "        True       0.65      0.52      0.58      1308\n",
      "\n",
      "    accuracy                           0.80      4922\n",
      "   macro avg       0.74      0.71      0.72      4922\n",
      "weighted avg       0.79      0.80      0.79      4922\n",
      "\n"
     ]
    }
   ],
   "source": [
    "print(classification_report(y_train, y_pred))"
   ]
  },
  {
   "cell_type": "markdown",
   "metadata": {},
   "source": [
    "### Findings After Training Decision Tree Baseline v. Logistic Regression Models with Unscaled Data"
   ]
  },
  {
   "cell_type": "markdown",
   "metadata": {},
   "source": [
    "- The Logistic Regression model predicts at an overall accuracy rate of 78%\n",
    "\n",
    "\n",
    "- However, the Recall rate for customers who churn is 48% as opposed to the 36% Recall rate for the Decision Tree model. It is at 87% for predicting the customers who will not churn, as opposed to the 93% Recall rate for customers who will not churn using the decision tree.\n",
    "\n",
    "\n",
    "- This LR model DOES better predict the customers who will churn than the Decision Tree model, but I still want to do feature selection and engineering to improve my model's accuracy at predicting suctomer churn."
   ]
  },
  {
   "cell_type": "markdown",
   "metadata": {},
   "source": [
    "### Create Model After Feature Selection"
   ]
  },
  {
   "cell_type": "code",
   "execution_count": null,
   "metadata": {},
   "outputs": [],
   "source": []
  },
  {
   "cell_type": "markdown",
   "metadata": {},
   "source": [
    "### Test \n",
    "\n",
    "- Test the final model (tranform, evaluate) on your out-of-sample data. Summarize the performance, interpret results.\n"
   ]
  },
  {
   "cell_type": "code",
   "execution_count": null,
   "metadata": {},
   "outputs": [],
   "source": []
  }
 ],
 "metadata": {
  "kernelspec": {
   "display_name": "Python 3",
   "language": "python",
   "name": "python3"
  },
  "language_info": {
   "codemirror_mode": {
    "name": "ipython",
    "version": 3
   },
   "file_extension": ".py",
   "mimetype": "text/x-python",
   "name": "python",
   "nbconvert_exporter": "python",
   "pygments_lexer": "ipython3",
   "version": "3.7.3"
  }
 },
 "nbformat": 4,
 "nbformat_minor": 2
}

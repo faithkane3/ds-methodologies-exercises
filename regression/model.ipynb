{
 "cells": [
  {
   "cell_type": "code",
   "execution_count": 1,
   "metadata": {},
   "outputs": [],
   "source": [
    "import pandas as pd\n",
    "import numpy as np\n",
    "import matplotlib.pyplot as plt\n",
    "import seaborn as sns\n",
    "from sklearn.model_selection import train_test_split\n",
    "from sklearn.metrics import mean_squared_error,r2_score,explained_variance_score\n",
    "from sklearn.preprocessing import StandardScaler,MinMaxScaler\n",
    "from sklearn.linear_model import LinearRegression\n",
    "from math import sqrt\n",
    "import statsmodels.api as sm\n",
    "from statsmodels.sandbox.regression.predstd import wls_prediction_std\n",
    "\n",
    "#import our scripts that do data science workflow\n",
    "import env \n",
    "import wrangle\n",
    "import split_scale\n",
    "import evaluate\n",
    "import features\n",
    "import util"
   ]
  },
  {
   "cell_type": "code",
   "execution_count": 2,
   "metadata": {},
   "outputs": [
    {
     "name": "stdout",
     "output_type": "stream",
     "text": [
      "DataFrame Shape:\n",
      "\n",
      "(1685, 3)\n",
      "\n",
      "Info about:\n",
      "\n",
      "<class 'pandas.core.frame.DataFrame'>\n",
      "Int64Index: 1685 entries, 0 to 1694\n",
      "Data columns (total 3 columns):\n",
      "monthly_charges    1685 non-null float64\n",
      "total_charges      1685 non-null float64\n",
      "tenure             1685 non-null int64\n",
      "dtypes: float64(2), int64(1)\n",
      "memory usage: 52.7 KB\n",
      "None\n",
      "\n",
      "Describe:\n",
      "\n",
      "       monthly_charges  total_charges      tenure\n",
      "count      1685.000000    1685.000000  1685.00000\n",
      "mean         60.872374    3728.933947    57.07181\n",
      "std          34.712210    2571.252806    17.72913\n",
      "min          18.400000      20.350000     1.00000\n",
      "25%          24.050000    1278.800000    48.00000\n",
      "50%          64.450000    3623.950000    64.00000\n",
      "75%          90.550000    5999.850000    71.00000\n",
      "max         118.750000    8672.450000    72.00000\n",
      "\n",
      "Preview:\n",
      "\n",
      "   monthly_charges  total_charges  tenure\n",
      "0           109.70        7904.25      71\n",
      "1            84.65        5377.80      63\n",
      "2            90.45        5957.90      65\n",
      "3            45.20        2460.55      54\n",
      "4           116.80        8456.75      72\n"
     ]
    }
   ],
   "source": [
    "df = wrangle.wrangle_telco()\n",
    "util.tell_me_about(df)"
   ]
  },
  {
   "cell_type": "code",
   "execution_count": 3,
   "metadata": {},
   "outputs": [],
   "source": [
    "train, test = split_scale.split_my_data(df)"
   ]
  },
  {
   "cell_type": "code",
   "execution_count": 4,
   "metadata": {},
   "outputs": [],
   "source": [
    "scaler, train_scaled, test_scaled = split_scale.standard_scaler(train, test)"
   ]
  },
  {
   "cell_type": "code",
   "execution_count": 5,
   "metadata": {},
   "outputs": [
    {
     "data": {
      "text/html": [
       "<div>\n",
       "<style scoped>\n",
       "    .dataframe tbody tr th:only-of-type {\n",
       "        vertical-align: middle;\n",
       "    }\n",
       "\n",
       "    .dataframe tbody tr th {\n",
       "        vertical-align: top;\n",
       "    }\n",
       "\n",
       "    .dataframe thead th {\n",
       "        text-align: right;\n",
       "    }\n",
       "</style>\n",
       "<table border=\"1\" class=\"dataframe\">\n",
       "  <thead>\n",
       "    <tr style=\"text-align: right;\">\n",
       "      <th></th>\n",
       "      <th>monthly_charges</th>\n",
       "      <th>total_charges</th>\n",
       "      <th>tenure</th>\n",
       "    </tr>\n",
       "  </thead>\n",
       "  <tbody>\n",
       "    <tr>\n",
       "      <th>305</th>\n",
       "      <td>-1.163401</td>\n",
       "      <td>-0.870704</td>\n",
       "      <td>0.844077</td>\n",
       "    </tr>\n",
       "    <tr>\n",
       "      <th>452</th>\n",
       "      <td>1.450002</td>\n",
       "      <td>1.488589</td>\n",
       "      <td>0.557416</td>\n",
       "    </tr>\n",
       "    <tr>\n",
       "      <th>917</th>\n",
       "      <td>1.389560</td>\n",
       "      <td>1.287299</td>\n",
       "      <td>0.328087</td>\n",
       "    </tr>\n",
       "    <tr>\n",
       "      <th>1421</th>\n",
       "      <td>-1.193622</td>\n",
       "      <td>-0.978302</td>\n",
       "      <td>0.385419</td>\n",
       "    </tr>\n",
       "    <tr>\n",
       "      <th>1557</th>\n",
       "      <td>-1.059786</td>\n",
       "      <td>-1.226585</td>\n",
       "      <td>-1.907870</td>\n",
       "    </tr>\n",
       "  </tbody>\n",
       "</table>\n",
       "</div>"
      ],
      "text/plain": [
       "      monthly_charges  total_charges    tenure\n",
       "305         -1.163401      -0.870704  0.844077\n",
       "452          1.450002       1.488589  0.557416\n",
       "917          1.389560       1.287299  0.328087\n",
       "1421        -1.193622      -0.978302  0.385419\n",
       "1557        -1.059786      -1.226585 -1.907870"
      ]
     },
     "execution_count": 5,
     "metadata": {},
     "output_type": "execute_result"
    }
   ],
   "source": [
    "train_scaled.head()\n",
    "test_scaled.head()"
   ]
  },
  {
   "cell_type": "code",
   "execution_count": null,
   "metadata": {},
   "outputs": [],
   "source": []
  },
  {
   "cell_type": "code",
   "execution_count": 11,
   "metadata": {},
   "outputs": [],
   "source": [
    "x_train=train_scaled.drop(columns=['total_charges'])\n",
    "x_test=test_scaled.drop(columns=['total_charges'])\n",
    "y_train=train[['total_charges']]\n",
    "y_test=test[['total_charges']]"
   ]
  },
  {
   "cell_type": "code",
   "execution_count": 12,
   "metadata": {},
   "outputs": [
    {
     "name": "stderr",
     "output_type": "stream",
     "text": [
      "/usr/local/anaconda3/lib/python3.7/site-packages/sklearn/utils/validation.py:724: DataConversionWarning: A column-vector y was passed when a 1d array was expected. Please change the shape of y to (n_samples, ), for example using ravel().\n",
      "  y = column_or_1d(y, warn=True)\n",
      "/usr/local/anaconda3/lib/python3.7/site-packages/sklearn/utils/validation.py:724: DataConversionWarning: A column-vector y was passed when a 1d array was expected. Please change the shape of y to (n_samples, ), for example using ravel().\n",
      "  y = column_or_1d(y, warn=True)\n"
     ]
    },
    {
     "data": {
      "text/plain": [
       "(2, 0.9635878360528035)"
      ]
     },
     "execution_count": 12,
     "metadata": {},
     "output_type": "execute_result"
    }
   ],
   "source": [
    "features.optimal_number_of_features(x_train,y_train)\n"
   ]
  },
  {
   "cell_type": "code",
   "execution_count": 13,
   "metadata": {},
   "outputs": [
    {
     "name": "stderr",
     "output_type": "stream",
     "text": [
      "/usr/local/anaconda3/lib/python3.7/site-packages/sklearn/utils/validation.py:724: DataConversionWarning: A column-vector y was passed when a 1d array was expected. Please change the shape of y to (n_samples, ), for example using ravel().\n",
      "  y = column_or_1d(y, warn=True)\n"
     ]
    },
    {
     "data": {
      "text/plain": [
       "(Index(['monthly_charges', 'tenure'], dtype='object'),\n",
       "       monthly_charges    tenure\n",
       " 0            0.419607  0.729412\n",
       " 1           -1.169158 -0.130571\n",
       " 2            1.385242  0.442751\n",
       " 3            1.075836  0.729412\n",
       " 4            1.592472  0.786745\n",
       " 5            1.462954  0.614748\n",
       " 6           -0.098468 -0.015907\n",
       " 7           -0.610787 -0.417232\n",
       " 8            1.343508  0.270754\n",
       " 9            0.284332  0.614748\n",
       " 10           0.238281  0.557416\n",
       " 11          -1.025248  0.213422\n",
       " 12           1.229820  0.844077\n",
       " 13          -1.005100  0.672080\n",
       " 14           0.292967  0.786745\n",
       " 15          -1.051152  0.213422\n",
       " 16          -1.179231  0.672080\n",
       " 17          -1.173475 -0.417232\n",
       " 18          -1.156206  0.041426\n",
       " 19          -0.055295  0.328087\n",
       " 20           0.435437  0.786745\n",
       " 21          -1.173475 -0.417232\n",
       " 22          -1.159084 -0.015907\n",
       " 23          -1.018052  0.844077\n",
       " 24          -1.176353 -0.531897\n",
       " 25          -1.141815 -1.563877\n",
       " 26           0.085736 -0.302568\n",
       " 27           0.504514 -0.875890\n",
       " 28           1.366534  0.672080\n",
       " 29           0.090054  0.786745\n",
       " 30           1.596790  0.844077\n",
       " 31          -0.015001  0.557416\n",
       " 32           0.285771  0.786745\n",
       " 33           0.556322 -2.939851\n",
       " 34           0.575030  0.213422\n",
       " 35           1.065762  0.844077\n",
       " 36          -1.186427 -0.933222\n",
       " 37           0.798090  0.213422\n",
       " 38          -0.422265  0.672080\n",
       " 39          -1.150449  0.156090\n",
       " 40          -0.286990  0.557416\n",
       " 41          -1.029565 -0.073239\n",
       " 42           0.389386 -0.589229\n",
       " 43           0.013781  0.156090\n",
       " 44           0.516027  0.844077\n",
       " 45           1.416902  0.844077\n",
       " 46          -0.288429  0.557416\n",
       " 47          -1.195061 -0.245236\n",
       " 48          -1.167718 -1.391880\n",
       " 49           0.248354  0.442751\n",
       " 50           0.534735  0.500083\n",
       " 51          -1.167718 -3.226512\n",
       " 52          -0.184814  0.786745\n",
       " 53           1.624133  0.844077\n",
       " 54          -1.179231  0.500083\n",
       " 55          -0.495659  0.270754\n",
       " 56           1.426976  0.729412\n",
       " 57           0.965026  0.844077\n",
       " 58           1.419781  0.614748\n",
       " 59          -1.031004  0.844077\n",
       " 60          -0.151715  0.844077\n",
       " 61          -0.039465  0.557416\n",
       " 62          -1.183549  0.729412\n",
       " 63           0.832628  0.786745\n",
       " 64           0.802407 -0.130571\n",
       " 65           0.225329  0.500083\n",
       " 66           0.015220  0.672080\n",
       " 67          -0.032270 -0.073239\n",
       " 68          -1.164840  0.270754\n",
       " 69           0.524661 -0.818558\n",
       " 70          -1.183549  0.786745\n",
       " 71           1.460075  0.844077\n",
       " 72           0.986612 -0.703894\n",
       " 73          -0.040904  0.729412\n",
       " 74           1.448563  0.786745\n",
       " 75           0.736209  0.614748\n",
       " 76           0.101566  0.844077\n",
       " 77          -1.182109 -0.302568\n",
       " 78           0.508831 -1.907870\n",
       " 79           1.579521  0.844077\n",
       " 80          -0.324407 -0.474565\n",
       " 81          -0.399240  0.786745\n",
       " 82          -1.156206 -0.875890\n",
       " 83           1.095983  0.385419\n",
       " 84           1.527713  0.786745\n",
       " ...               ...       ...\n",
       " 1263        -0.628057 -0.302568\n",
       " 1264         0.577908 -0.646561\n",
       " 1265         1.380925 -0.646561\n",
       " 1266         1.527713  0.844077\n",
       " 1267        -1.068421 -1.047887\n",
       " 1268         0.541931 -0.015907\n",
       " 1269        -1.180670  0.442751\n",
       " 1270        -1.072738  0.270754\n",
       " 1271         0.235403 -1.563877\n",
       " 1272        -1.179231  0.844077\n",
       " 1273         0.471415  0.729412\n",
       " 1274        -1.012296  0.614748\n",
       " 1275         1.383803  0.786745\n",
       " 1276        -1.151888 -1.965203\n",
       " 1277        -1.192183  0.328087\n",
       " 1278        -1.177792 -0.703894\n",
       " 1279        -0.351750  0.270754\n",
       " 1280         1.016833 -0.302568\n",
       " 1281        -1.167718 -1.735874\n",
       " 1282        -0.035148 -1.965203\n",
       " 1283         1.239893  0.672080\n",
       " 1284         0.564956 -1.506545\n",
       " 1285         0.199425  0.557416\n",
       " 1286         0.579347  0.213422\n",
       " 1287         0.894510  0.844077\n",
       " 1288         1.244211  0.844077\n",
       " 1289         1.435611  0.844077\n",
       " 1290         0.131787  0.844077\n",
       " 1291        -1.183549 -1.162551\n",
       " 1292        -1.036761 -2.194532\n",
       " 1293        -0.360384  0.729412\n",
       " 1294        -1.159084 -0.933222\n",
       " 1295        -0.429461 -0.187903\n",
       " 1296        -1.172036 -1.105219\n",
       " 1297         1.491736  0.844077\n",
       " 1298         1.487418  0.844077\n",
       " 1299         0.960708 -1.162551\n",
       " 1300        -1.026687  0.328087\n",
       " 1301        -1.056908  0.213422\n",
       " 1302        -0.151715 -1.563877\n",
       " 1303        -1.041078 -1.850538\n",
       " 1304         0.111640  0.844077\n",
       " 1305        -1.166279 -2.481193\n",
       " 1306         1.543543  0.844077\n",
       " 1307         1.157865  0.270754\n",
       " 1308         1.101740  0.786745\n",
       " 1309         1.114692 -0.646561\n",
       " 1310         0.795212  0.729412\n",
       " 1311        -1.183549  0.557416\n",
       " 1312        -1.016613 -2.194532\n",
       " 1313        -1.179231 -1.105219\n",
       " 1314        -1.176353  0.270754\n",
       " 1315        -1.199379  0.557416\n",
       " 1316         0.256989  0.844077\n",
       " 1317         0.687280  0.729412\n",
       " 1318         0.849898  0.442751\n",
       " 1319         1.421220  0.385419\n",
       " 1320        -0.065369  0.786745\n",
       " 1321         1.540665  0.844077\n",
       " 1322        -0.209279  0.844077\n",
       " 1323         0.104445  0.729412\n",
       " 1324         0.711744 -0.073239\n",
       " 1325        -1.026687 -2.595857\n",
       " 1326        -1.187866 -1.965203\n",
       " 1327         1.579521  0.844077\n",
       " 1328        -1.172036 -1.621209\n",
       " 1329        -1.196500  0.500083\n",
       " 1330         0.677206  0.844077\n",
       " 1331         0.720379  0.844077\n",
       " 1332         0.566395 -1.391880\n",
       " 1333        -0.993588 -3.111847\n",
       " 1334        -1.016613  0.557416\n",
       " 1335        -1.149010  0.844077\n",
       " 1336        -1.065542  0.786745\n",
       " 1337        -1.189305 -0.015907\n",
       " 1338         0.534735  0.844077\n",
       " 1339         0.821116 -0.302568\n",
       " 1340        -1.200818  0.729412\n",
       " 1341        -1.049712 -0.073239\n",
       " 1342        -1.161962 -0.417232\n",
       " 1343        -1.182109  0.442751\n",
       " 1344        -1.190744  0.328087\n",
       " 1345        -1.182109 -2.882519\n",
       " 1346         0.236842 -1.277216\n",
       " 1347        -1.002222 -2.710522\n",
       " \n",
       " [1348 rows x 2 columns],\n",
       "      monthly_charges    tenure\n",
       " 0          -1.163401  0.844077\n",
       " 1           1.450002  0.557416\n",
       " 2           1.389560  0.328087\n",
       " 3          -1.193622  0.385419\n",
       " 4          -1.059786 -1.907870\n",
       " 5           0.432559  0.098758\n",
       " 6          -0.630935  0.270754\n",
       " 7          -1.164840 -0.359900\n",
       " 8           1.357899  0.844077\n",
       " 9          -0.026513 -0.589229\n",
       " 10         -0.193449  0.557416\n",
       " 11         -1.164840 -2.997183\n",
       " 12          1.106057  0.729412\n",
       " 13         -1.026687  0.614748\n",
       " 14         -1.033882  0.844077\n",
       " 15         -1.031004 -2.251864\n",
       " 16         -1.202257  0.041426\n",
       " 17         -0.546028  0.614748\n",
       " 18         -1.189305 -2.767854\n",
       " 19         -1.197940  0.098758\n",
       " 20          0.560639  0.729412\n",
       " 21          0.246915 -0.417232\n",
       " 22         -1.062664 -2.595857\n",
       " 23          0.821116  0.786745\n",
       " 24          0.290088  0.442751\n",
       " 25          0.120275  0.270754\n",
       " 26          0.924731  0.844077\n",
       " 27         -0.613666  0.156090\n",
       " 28         -1.169158 -1.678542\n",
       " 29          0.251233  0.844077\n",
       " 30          0.377873 -0.589229\n",
       " 31         -1.012296 -0.302568\n",
       " 32          0.264185 -0.531897\n",
       " 33         -1.182109 -1.162551\n",
       " 34          1.503248  0.614748\n",
       " 35          0.457024  0.844077\n",
       " 36         -1.031004  0.844077\n",
       " 37         -0.097029 -0.130571\n",
       " 38         -0.161789  0.844077\n",
       " 39          0.929048  0.786745\n",
       " 40         -1.009418 -1.735874\n",
       " 41          1.216868 -0.073239\n",
       " 42         -0.318650 -1.506545\n",
       " 43         -1.177792 -0.531897\n",
       " 44         -1.184988 -1.907870\n",
       " 45         -0.324407 -2.882519\n",
       " 46         -1.055469  0.786745\n",
       " 47         -1.002222  0.557416\n",
       " 48         -1.176353 -0.073239\n",
       " 49         -1.186427 -1.563877\n",
       " 50         -1.174914 -1.850538\n",
       " 51          1.560812  0.786745\n",
       " 52          1.344948  0.442751\n",
       " 53         -0.992148  0.844077\n",
       " 54         -1.151888 -1.506545\n",
       " 55          0.126031 -0.187903\n",
       " 56         -1.208013 -1.449213\n",
       " 57         -1.184988 -0.015907\n",
       " 58          0.854215  0.844077\n",
       " 59          0.743404  0.098758\n",
       " 60          0.747722  0.672080\n",
       " 61          0.631155  0.614748\n",
       " 62          0.670010  0.786745\n",
       " 63          0.409533 -0.417232\n",
       " 64          0.714622  0.786745\n",
       " 65         -0.213596  0.442751\n",
       " 66          0.864289  0.500083\n",
       " 67          1.382364 -1.277216\n",
       " 68         -1.183549  0.672080\n",
       " 69          1.244211  0.786745\n",
       " 70          0.875801  0.844077\n",
       " 71         -1.036761  0.557416\n",
       " 72         -0.180497 -0.703894\n",
       " 73         -0.207840 -2.710522\n",
       " 74          0.202303  0.729412\n",
       " 75          0.777943  0.786745\n",
       " 76         -0.156032 -0.531897\n",
       " 77          1.306092 -0.302568\n",
       " 78         -1.192183 -3.054515\n",
       " 79         -1.196500  0.442751\n",
       " 80          1.416902  0.844077\n",
       " 81          1.586716  0.156090\n",
       " 82         -0.308577 -0.302568\n",
       " 83          1.072958  0.844077\n",
       " 84          0.505953  0.844077\n",
       " ..               ...       ...\n",
       " 252         1.549300  0.729412\n",
       " 253        -1.172036  0.672080\n",
       " 254         0.346213  0.729412\n",
       " 255         0.393703  0.500083\n",
       " 256        -0.196327  0.614748\n",
       " 257        -1.174914  0.786745\n",
       " 258         0.704549 -1.105219\n",
       " 259         1.339191  0.844077\n",
       " 260         0.287210  0.614748\n",
       " 261         0.900266  0.729412\n",
       " 262        -1.049712  0.098758\n",
       " 263        -1.153327 -2.538525\n",
       " 264         1.363656  0.844077\n",
       " 265         1.553617  0.614748\n",
       " 266         0.847019  0.844077\n",
       " 267         1.526274  0.270754\n",
       " 268        -1.195061 -0.417232\n",
       " 269         0.815359 -0.302568\n",
       " 270        -1.190744 -1.621209\n",
       " 271         0.336139 -0.073239\n",
       " 272        -1.184988  0.500083\n",
       " 273         0.799529  0.844077\n",
       " 274         0.376434  0.557416\n",
       " 275        -1.176353 -2.595857\n",
       " 276         0.572152 -1.563877\n",
       " 277         0.577908 -0.703894\n",
       " 278        -0.027952  0.442751\n",
       " 279         0.526100  0.098758\n",
       " 280         1.504687 -1.277216\n",
       " 281         0.421046  0.328087\n",
       " 282        -1.160523  0.328087\n",
       " 283        -0.590640 -0.646561\n",
       " 284         0.149057  0.500083\n",
       " 285        -1.179231 -0.359900\n",
       " 286        -0.130128  0.614748\n",
       " 287        -1.149010 -0.130571\n",
       " 288         0.271380 -0.417232\n",
       " 289        -1.190744 -2.538525\n",
       " 290         0.428242  0.041426\n",
       " 291        -1.025248 -3.054515\n",
       " 292         1.241332  0.385419\n",
       " 293         0.649863  0.328087\n",
       " 294         1.438489  0.844077\n",
       " 295         0.386508 -0.015907\n",
       " 296        -1.166279 -0.761226\n",
       " 297        -1.157645  0.844077\n",
       " 298         0.687280  0.844077\n",
       " 299        -1.190744 -2.653190\n",
       " 300         0.852776  0.786745\n",
       " 301         1.284505  0.844077\n",
       " 302         1.445684  0.729412\n",
       " 303        -1.187866 -0.245236\n",
       " 304        -0.451047  0.844077\n",
       " 305         0.518905  0.844077\n",
       " 306         1.557934  0.844077\n",
       " 307        -1.016613 -1.965203\n",
       " 308        -1.157645  0.844077\n",
       " 309         1.503248  0.786745\n",
       " 310         0.008025  0.844077\n",
       " 311         1.260041  0.156090\n",
       " 312         0.975099  0.729412\n",
       " 313        -1.186427 -1.735874\n",
       " 314        -0.318650 -2.595857\n",
       " 315         1.185208  0.614748\n",
       " 316        -1.023809  0.729412\n",
       " 317         1.435611  0.156090\n",
       " 318         0.193669 -1.334548\n",
       " 319         1.540665  0.844077\n",
       " 320        -0.389166  0.500083\n",
       " 321        -0.038026 -0.589229\n",
       " 322        -1.190744  0.385419\n",
       " 323         1.044176 -0.187903\n",
       " 324        -0.318650  0.729412\n",
       " 325         1.497492 -0.015907\n",
       " 326         0.995247  0.786745\n",
       " 327         1.396755  0.041426\n",
       " 328         1.426976  0.672080\n",
       " 329        -1.184988 -2.767854\n",
       " 330        -1.052591  0.786745\n",
       " 331         1.162182  0.844077\n",
       " 332         0.572152  0.844077\n",
       " 333        -1.031004 -1.965203\n",
       " 334        -1.028126  0.844077\n",
       " 335         0.577908 -1.105219\n",
       " 336        -1.172036 -1.277216\n",
       " \n",
       " [337 rows x 2 columns])"
      ]
     },
     "execution_count": 13,
     "metadata": {},
     "output_type": "execute_result"
    }
   ],
   "source": [
    "features.optimal_features(x_train,x_test,y_train,2)\n"
   ]
  },
  {
   "cell_type": "markdown",
   "metadata": {},
   "source": [
    "3. Fit 2 different linear models to your data."
   ]
  },
  {
   "cell_type": "code",
   "execution_count": 14,
   "metadata": {},
   "outputs": [
    {
     "data": {
      "text/html": [
       "<div>\n",
       "<style scoped>\n",
       "    .dataframe tbody tr th:only-of-type {\n",
       "        vertical-align: middle;\n",
       "    }\n",
       "\n",
       "    .dataframe tbody tr th {\n",
       "        vertical-align: top;\n",
       "    }\n",
       "\n",
       "    .dataframe thead th {\n",
       "        text-align: right;\n",
       "    }\n",
       "</style>\n",
       "<table border=\"1\" class=\"dataframe\">\n",
       "  <thead>\n",
       "    <tr style=\"text-align: right;\">\n",
       "      <th></th>\n",
       "      <th>actual</th>\n",
       "      <th>lm1</th>\n",
       "      <th>lm2</th>\n",
       "      <th>baseline</th>\n",
       "    </tr>\n",
       "  </thead>\n",
       "  <tbody>\n",
       "    <tr>\n",
       "      <th>0</th>\n",
       "      <td>5212.65</td>\n",
       "      <td>5173.164121</td>\n",
       "      <td>4922.684960</td>\n",
       "      <td>3740.536907</td>\n",
       "    </tr>\n",
       "    <tr>\n",
       "      <th>1</th>\n",
       "      <td>1079.05</td>\n",
       "      <td>1159.860706</td>\n",
       "      <td>3528.922066</td>\n",
       "      <td>3740.536907</td>\n",
       "    </tr>\n",
       "    <tr>\n",
       "      <th>2</th>\n",
       "      <td>7108.20</td>\n",
       "      <td>7011.897800</td>\n",
       "      <td>4458.097328</td>\n",
       "      <td>3740.536907</td>\n",
       "    </tr>\n",
       "    <tr>\n",
       "      <th>3</th>\n",
       "      <td>6859.50</td>\n",
       "      <td>6567.278343</td>\n",
       "      <td>4922.684960</td>\n",
       "      <td>3740.536907</td>\n",
       "    </tr>\n",
       "    <tr>\n",
       "      <th>4</th>\n",
       "      <td>8564.75</td>\n",
       "      <td>7707.376200</td>\n",
       "      <td>5015.602486</td>\n",
       "      <td>3740.536907</td>\n",
       "    </tr>\n",
       "  </tbody>\n",
       "</table>\n",
       "</div>"
      ],
      "text/plain": [
       "    actual          lm1          lm2     baseline\n",
       "0  5212.65  5173.164121  4922.684960  3740.536907\n",
       "1  1079.05  1159.860706  3528.922066  3740.536907\n",
       "2  7108.20  7011.897800  4458.097328  3740.536907\n",
       "3  6859.50  6567.278343  4922.684960  3740.536907\n",
       "4  8564.75  7707.376200  5015.602486  3740.536907"
      ]
     },
     "execution_count": 14,
     "metadata": {},
     "output_type": "execute_result"
    }
   ],
   "source": [
    "predictions=pd.DataFrame({'actual':y_train.total_charges}).reset_index(drop=True)\n",
    "#model 1\n",
    "lm1=LinearRegression()\n",
    "lm1.fit(x_train[['monthly_charges','tenure']],y_train)\n",
    "lm1_predictions=lm1.predict(x_train[['monthly_charges','tenure']])\n",
    "predictions['lm1']=lm1_predictions\n",
    "\n",
    "#model 2\n",
    "lm2=LinearRegression()\n",
    "lm2.fit(x_train[['tenure']],y_train)\n",
    "lm2_predictions=lm2.predict(x_train[['tenure']])\n",
    "predictions['lm2']=lm2_predictions\n",
    "\n",
    "#baseline model\n",
    "predictions['baseline'] = y_train.mean()[0]\n",
    "predictions.head()\n",
    "#print(lm1.intercept_,lm1.coef_)"
   ]
  },
  {
   "cell_type": "markdown",
   "metadata": {},
   "source": [
    "4. Evaluate the 2 models and your baseline"
   ]
  },
  {
   "cell_type": "code",
   "execution_count": 15,
   "metadata": {},
   "outputs": [
    {
     "name": "stdout",
     "output_type": "stream",
     "text": [
      "6608313.117141245 8908006081.906399 2570.6639448090536 2.220446049250313e-16\n"
     ]
    }
   ],
   "source": [
    "MSE_baseline = mean_squared_error(predictions.actual, predictions.baseline)\n",
    "SSE_baseline = MSE_baseline*len(predictions.actual)\n",
    "RMSE_baseline = sqrt(MSE_baseline)\n",
    "r2_baseline = r2_score(predictions.actual, predictions.baseline)\n",
    "print(MSE_baseline,SSE_baseline,RMSE_baseline,r2_baseline)"
   ]
  },
  {
   "cell_type": "code",
   "execution_count": 16,
   "metadata": {},
   "outputs": [
    {
     "name": "stdout",
     "output_type": "stream",
     "text": [
      "240622.9806357559 324359777.89699894 490.53336342776515 0.9635878360528035\n"
     ]
    }
   ],
   "source": [
    "MSE_1 = mean_squared_error(predictions.actual, predictions.lm1)\n",
    "SSE_1 = MSE_1*len(predictions.actual)\n",
    "RMSE_1 = sqrt(MSE_1)\n",
    "r2_1 = r2_score(predictions.actual, predictions.lm1)\n",
    "print(MSE_1,SSE_1,RMSE_1,r2_1)"
   ]
  },
  {
   "cell_type": "code",
   "execution_count": 17,
   "metadata": {},
   "outputs": [
    {
     "name": "stdout",
     "output_type": "stream",
     "text": [
      "3981691.454452978 5367320080.602614 1995.4176140479913 0.3974723376643726\n"
     ]
    }
   ],
   "source": [
    "MSE_2 = mean_squared_error(predictions.actual, predictions.lm2)\n",
    "SSE_2 = MSE_2*len(predictions.actual)\n",
    "RMSE_2 = sqrt(MSE_2)\n",
    "r2_2 = r2_score(predictions.actual, predictions.lm2)\n",
    "print(MSE_2,SSE_2,RMSE_2,r2_2)"
   ]
  },
  {
   "cell_type": "markdown",
   "metadata": {},
   "source": [
    "5. Select the one that performed the best.\n",
    "\n",
    "    The model with monthly charges and tenure performed the best\n",
    "\n"
   ]
  },
  {
   "cell_type": "markdown",
   "metadata": {},
   "source": [
    "6. Apply your test data"
   ]
  },
  {
   "cell_type": "code",
   "execution_count": 18,
   "metadata": {},
   "outputs": [
    {
     "data": {
      "text/html": [
       "<div>\n",
       "<style scoped>\n",
       "    .dataframe tbody tr th:only-of-type {\n",
       "        vertical-align: middle;\n",
       "    }\n",
       "\n",
       "    .dataframe tbody tr th {\n",
       "        vertical-align: top;\n",
       "    }\n",
       "\n",
       "    .dataframe thead th {\n",
       "        text-align: right;\n",
       "    }\n",
       "</style>\n",
       "<table border=\"1\" class=\"dataframe\">\n",
       "  <thead>\n",
       "    <tr style=\"text-align: right;\">\n",
       "      <th></th>\n",
       "      <th>predictions</th>\n",
       "      <th>total_charges</th>\n",
       "    </tr>\n",
       "  </thead>\n",
       "  <tbody>\n",
       "    <tr>\n",
       "      <th>0</th>\n",
       "      <td>1895.246555</td>\n",
       "      <td>1502.25</td>\n",
       "    </tr>\n",
       "    <tr>\n",
       "      <th>1</th>\n",
       "      <td>7234.552129</td>\n",
       "      <td>7567.20</td>\n",
       "    </tr>\n",
       "    <tr>\n",
       "      <th>2</th>\n",
       "      <td>6935.992336</td>\n",
       "      <td>7049.75</td>\n",
       "    </tr>\n",
       "    <tr>\n",
       "      <th>3</th>\n",
       "      <td>1490.734855</td>\n",
       "      <td>1225.65</td>\n",
       "    </tr>\n",
       "    <tr>\n",
       "      <th>4</th>\n",
       "      <td>73.515425</td>\n",
       "      <td>587.40</td>\n",
       "    </tr>\n",
       "  </tbody>\n",
       "</table>\n",
       "</div>"
      ],
      "text/plain": [
       "   predictions  total_charges\n",
       "0  1895.246555        1502.25\n",
       "1  7234.552129        7567.20\n",
       "2  6935.992336        7049.75\n",
       "3  1490.734855        1225.65\n",
       "4    73.515425         587.40"
      ]
     },
     "execution_count": 18,
     "metadata": {},
     "output_type": "execute_result"
    }
   ],
   "source": [
    "model=lm1.predict(X_test[['monthly_charges','tenure']])\n",
    "model=model.ravel().reshape(337)\n",
    "y_test1=np.array(y_test).ravel().reshape(337)\n",
    "best_model=pd.DataFrame({'predictions':model,'total_charges':y_test1})\n",
    "\n",
    "best_model.head()"
   ]
  },
  {
   "cell_type": "markdown",
   "metadata": {},
   "source": [
    "7. Write a function that creates the model object, fits and predicts, given x_train, x_test, y_train, y_test¶\n"
   ]
  },
  {
   "cell_type": "code",
   "execution_count": 19,
   "metadata": {},
   "outputs": [],
   "source": [
    "x_train1=x_train[['monthly_charges','tenure']]\n",
    "x_test1=x_test[['monthly_charges','tenure']]\n",
    "def modeling_function(x_train,x_test,y_train,y_test):\n",
    "    predictions_train=pd.DataFrame({'actual':y_train.total_charges}).reset_index(drop=True)\n",
    "    predictions_test=pd.DataFrame({'actual':y_test.total_charges}).reset_index(drop=True)\n",
    "    #model 1\n",
    "    lm1=LinearRegression()\n",
    "    lm1.fit(x_train,y_train)\n",
    "    lm1_predictions=lm1.predict(x_train)\n",
    "    predictions_train['lm1']=lm1_predictions\n",
    "\n",
    "    #model 2\n",
    "    lm2=LinearRegression()\n",
    "    lm2.fit(x_test,y_test)\n",
    "    lm2_predictions=lm2.predict(x_test)\n",
    "    predictions_test['lm2']=lm2_predictions\n",
    "    \n",
    "    return predictions_train,predictions_test"
   ]
  },
  {
   "cell_type": "code",
   "execution_count": 22,
   "metadata": {},
   "outputs": [
    {
     "data": {
      "text/html": [
       "<div>\n",
       "<style scoped>\n",
       "    .dataframe tbody tr th:only-of-type {\n",
       "        vertical-align: middle;\n",
       "    }\n",
       "\n",
       "    .dataframe tbody tr th {\n",
       "        vertical-align: top;\n",
       "    }\n",
       "\n",
       "    .dataframe thead th {\n",
       "        text-align: right;\n",
       "    }\n",
       "</style>\n",
       "<table border=\"1\" class=\"dataframe\">\n",
       "  <thead>\n",
       "    <tr style=\"text-align: right;\">\n",
       "      <th></th>\n",
       "      <th>actual</th>\n",
       "      <th>lm2</th>\n",
       "    </tr>\n",
       "  </thead>\n",
       "  <tbody>\n",
       "    <tr>\n",
       "      <th>0</th>\n",
       "      <td>1502.25</td>\n",
       "      <td>1859.384825</td>\n",
       "    </tr>\n",
       "    <tr>\n",
       "      <th>1</th>\n",
       "      <td>7567.20</td>\n",
       "      <td>7205.810102</td>\n",
       "    </tr>\n",
       "    <tr>\n",
       "      <th>2</th>\n",
       "      <td>7049.75</td>\n",
       "      <td>6917.225703</td>\n",
       "    </tr>\n",
       "    <tr>\n",
       "      <th>3</th>\n",
       "      <td>1225.65</td>\n",
       "      <td>1474.643543</td>\n",
       "    </tr>\n",
       "    <tr>\n",
       "      <th>4</th>\n",
       "      <td>587.40</td>\n",
       "      <td>155.709325</td>\n",
       "    </tr>\n",
       "  </tbody>\n",
       "</table>\n",
       "</div>"
      ],
      "text/plain": [
       "    actual          lm2\n",
       "0  1502.25  1859.384825\n",
       "1  7567.20  7205.810102\n",
       "2  7049.75  6917.225703\n",
       "3  1225.65  1474.643543\n",
       "4   587.40   155.709325"
      ]
     },
     "execution_count": 22,
     "metadata": {},
     "output_type": "execute_result"
    }
   ],
   "source": [
    "model_train,model_test=modeling_function(x_train1,x_test1,y_train,y_test)\n",
    "model_train.head()\n",
    "model_test.head()"
   ]
  },
  {
   "cell_type": "markdown",
   "metadata": {},
   "source": [
    "8. Write a function, plot_residuals(x, y, dataframe) that takes the feature, the target, and the dataframe as input and returns a residual plot.¶\n"
   ]
  },
  {
   "cell_type": "code",
   "execution_count": 23,
   "metadata": {},
   "outputs": [
    {
     "data": {
      "text/plain": [
       "<matplotlib.axes._subplots.AxesSubplot at 0x1c250e0be0>"
      ]
     },
     "execution_count": 23,
     "metadata": {},
     "output_type": "execute_result"
    },
    {
     "data": {
      "image/png": "[encoded data removed]",
      "text/plain": [
       "<Figure size 432x288 with 1 Axes>"
      ]
     },
     "metadata": {
      "needs_background": "light"
     },
     "output_type": "display_data"
    }
   ],
   "source": [
    "def plot_residuals(x, y):\n",
    "    '''\n",
    "    Plots the residuals of a model that uses x to predict y. Note that we don't\n",
    "    need to make any predictions ourselves here, seaborn will create the model\n",
    "    and predictions for us under the hood with the `residplot` function.\n",
    "    '''\n",
    "    return sns.residplot(x, y)\n",
    "\n",
    "x=test[['monthly_charges']]\n",
    "y=test[['total_charges']]\n",
    "plot_residuals(x,y)"
   ]
  },
  {
   "cell_type": "markdown",
   "metadata": {},
   "source": [
    "9.) Write a function, plot_regression(x, y) that takes a feature and a target and returns the datapoints, the regression line, and the confidence interval.\n"
   ]
  },
  {
   "cell_type": "code",
   "execution_count": 24,
   "metadata": {},
   "outputs": [],
   "source": [
    "res = sm.OLS(y, x).fit()\n"
   ]
  },
  {
   "cell_type": "code",
   "execution_count": 25,
   "metadata": {},
   "outputs": [
    {
     "data": {
      "text/html": [
       "<table class=\"simpletable\">\n",
       "<caption>OLS Regression Results</caption>\n",
       "<tr>\n",
       "  <th>Dep. Variable:</th>      <td>total_charges</td>  <th>  R-squared (uncentered):</th>      <td>   0.960</td> \n",
       "</tr>\n",
       "<tr>\n",
       "  <th>Model:</th>                   <td>OLS</td>       <th>  Adj. R-squared (uncentered):</th> <td>   0.960</td> \n",
       "</tr>\n",
       "<tr>\n",
       "  <th>Method:</th>             <td>Least Squares</td>  <th>  F-statistic:       </th>          <td>   8034.</td> \n",
       "</tr>\n",
       "<tr>\n",
       "  <th>Date:</th>             <td>Thu, 17 Oct 2019</td> <th>  Prob (F-statistic):</th>          <td>1.13e-236</td>\n",
       "</tr>\n",
       "<tr>\n",
       "  <th>Time:</th>                 <td>18:18:36</td>     <th>  Log-Likelihood:    </th>          <td> -2770.5</td> \n",
       "</tr>\n",
       "<tr>\n",
       "  <th>No. Observations:</th>      <td>   337</td>      <th>  AIC:               </th>          <td>   5543.</td> \n",
       "</tr>\n",
       "<tr>\n",
       "  <th>Df Residuals:</th>          <td>   336</td>      <th>  BIC:               </th>          <td>   5547.</td> \n",
       "</tr>\n",
       "<tr>\n",
       "  <th>Df Model:</th>              <td>     1</td>      <th>                     </th>              <td> </td>    \n",
       "</tr>\n",
       "<tr>\n",
       "  <th>Covariance Type:</th>      <td>nonrobust</td>    <th>                     </th>              <td> </td>    \n",
       "</tr>\n",
       "</table>\n",
       "<table class=\"simpletable\">\n",
       "<tr>\n",
       "         <td></td>            <th>coef</th>     <th>std err</th>      <th>t</th>      <th>P>|t|</th>  <th>[0.025</th>    <th>0.975]</th>  \n",
       "</tr>\n",
       "<tr>\n",
       "  <th>monthly_charges</th> <td>   63.0114</td> <td>    0.703</td> <td>   89.632</td> <td> 0.000</td> <td>   61.629</td> <td>   64.394</td>\n",
       "</tr>\n",
       "</table>\n",
       "<table class=\"simpletable\">\n",
       "<tr>\n",
       "  <th>Omnibus:</th>       <td>83.921</td> <th>  Durbin-Watson:     </th> <td>   1.867</td>\n",
       "</tr>\n",
       "<tr>\n",
       "  <th>Prob(Omnibus):</th> <td> 0.000</td> <th>  Jarque-Bera (JB):  </th> <td> 170.009</td>\n",
       "</tr>\n",
       "<tr>\n",
       "  <th>Skew:</th>          <td>-1.297</td> <th>  Prob(JB):          </th> <td>1.21e-37</td>\n",
       "</tr>\n",
       "<tr>\n",
       "  <th>Kurtosis:</th>      <td> 5.319</td> <th>  Cond. No.          </th> <td>    1.00</td>\n",
       "</tr>\n",
       "</table><br/><br/>Warnings:<br/>[1] Standard Errors assume that the covariance matrix of the errors is correctly specified."
      ],
      "text/plain": [
       "<class 'statsmodels.iolib.summary.Summary'>\n",
       "\"\"\"\n",
       "                                 OLS Regression Results                                \n",
       "=======================================================================================\n",
       "Dep. Variable:          total_charges   R-squared (uncentered):                   0.960\n",
       "Model:                            OLS   Adj. R-squared (uncentered):              0.960\n",
       "Method:                 Least Squares   F-statistic:                              8034.\n",
       "Date:                Thu, 17 Oct 2019   Prob (F-statistic):                   1.13e-236\n",
       "Time:                        18:18:36   Log-Likelihood:                         -2770.5\n",
       "No. Observations:                 337   AIC:                                      5543.\n",
       "Df Residuals:                     336   BIC:                                      5547.\n",
       "Df Model:                           1                                                  \n",
       "Covariance Type:            nonrobust                                                  \n",
       "===================================================================================\n",
       "                      coef    std err          t      P>|t|      [0.025      0.975]\n",
       "-----------------------------------------------------------------------------------\n",
       "monthly_charges    63.0114      0.703     89.632      0.000      61.629      64.394\n",
       "==============================================================================\n",
       "Omnibus:                       83.921   Durbin-Watson:                   1.867\n",
       "Prob(Omnibus):                  0.000   Jarque-Bera (JB):              170.009\n",
       "Skew:                          -1.297   Prob(JB):                     1.21e-37\n",
       "Kurtosis:                       5.319   Cond. No.                         1.00\n",
       "==============================================================================\n",
       "\n",
       "Warnings:\n",
       "[1] Standard Errors assume that the covariance matrix of the errors is correctly specified.\n",
       "\"\"\""
      ]
     },
     "execution_count": 25,
     "metadata": {},
     "output_type": "execute_result"
    }
   ],
   "source": [
    "res.summary()\n"
   ]
  },
  {
   "cell_type": "code",
   "execution_count": 26,
   "metadata": {},
   "outputs": [
    {
     "data": {
      "image/png": "[encoded data removed]",
      "text/plain": [
       "<Figure size 576x432 with 1 Axes>"
      ]
     },
     "metadata": {
      "needs_background": "light"
     },
     "output_type": "display_data"
    }
   ],
   "source": [
    "prstd, iv_l, iv_u = wls_prediction_std(res)\n",
    "\n",
    "fig, ax = plt.subplots(figsize=(8,6))\n",
    "\n",
    "ax.plot(x, y, 'o', label=\"data\")\n",
    "#ax.plot(x, y, 'b-', label=\"True\")\n",
    "ax.plot(x, res.fittedvalues, 'r--.', label=\"OLS\")\n",
    "ax.plot(x, iv_u, 'g--',label='97.5')\n",
    "ax.plot(x, iv_l, 'b--',label='2.5')\n",
    "ax.legend(loc='best');"
   ]
  },
  {
   "cell_type": "code",
   "execution_count": 27,
   "metadata": {},
   "outputs": [],
   "source": [
    "def plot_regression(x,y):\n",
    "    res = sm.OLS(y, x).fit()\n",
    "    prstd, iv_l, iv_u = wls_prediction_std(res)\n",
    "\n",
    "    fig, ax = plt.subplots(figsize=(8,6))\n",
    "\n",
    "    ax.plot(x, y, 'o', label=\"data\")\n",
    "    #ax.plot(x, y, 'b-', label=\"True\")\n",
    "    ax.plot(x, res.fittedvalues, 'r--.', label=\"OLS\")\n",
    "    ax.plot(x, iv_u, 'g--',label='97.5% Confidence Level')\n",
    "    ax.plot(x, iv_l, 'b--',label='2.5% Confidence Level')\n",
    "    ax.legend(loc='best');\n",
    "    plt.show()"
   ]
  },
  {
   "cell_type": "code",
   "execution_count": 28,
   "metadata": {},
   "outputs": [
    {
     "data": {
      "image/png": "[encoded data removed]",
      "text/plain": [
       "<Figure size 576x432 with 1 Axes>"
      ]
     },
     "metadata": {
      "needs_background": "light"
     },
     "output_type": "display_data"
    }
   ],
   "source": [
    "plot_regression(x,y)\n"
   ]
  },
  {
   "cell_type": "code",
   "execution_count": null,
   "metadata": {},
   "outputs": [],
   "source": []
  }
 ],
 "metadata": {
  "kernelspec": {
   "display_name": "Python 3",
   "language": "python",
   "name": "python3"
  },
  "language_info": {
   "codemirror_mode": {
    "name": "ipython",
    "version": 3
   },
   "file_extension": ".py",
   "mimetype": "text/x-python",
   "name": "python",
   "nbconvert_exporter": "python",
   "pygments_lexer": "ipython3",
   "version": "3.7.3"
  }
 },
 "nbformat": 4,
 "nbformat_minor": 2
}

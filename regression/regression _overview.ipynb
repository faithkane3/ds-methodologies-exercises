{
 "cells": [
  {
   "cell_type": "markdown",
   "metadata": {},
   "source": [
    "### Regression Overview\n",
    "\n",
    "-A supervised technique to deal with continuous target variable"
   ]
  },
  {
   "cell_type": "markdown",
   "metadata": {},
   "source": [
    "#### Predicting Continuous Outcomes\n"
   ]
  },
  {
   "cell_type": "markdown",
   "metadata": {},
   "source": [
    "#### Acquire\n",
    "\n",
    "-Pandas, Python, SQL\n",
    "\n",
    "-Product is a py file\n",
    "\n",
    "    Deal with dtypes and NULLs\n",
    "    \n",
    "-Practice data acquisition and manipulation using SQL and Python\n",
    "\n",
    "    SQL: Joins, filters, export to csv\n",
    "\n",
    "    Pandas: Acquire, descriptive stats, conditionals, concat, aggregates\n",
    "    \n",
    "#### Preparation\n",
    "\n",
    "-Scaling to be able to compare different features\n",
    "\n",
    "#### Exploration\n",
    "\n",
    "-Matplotlib, Seaborn, Scipy.stats\n",
    "\n",
    "-Product could be visualization, the results of a hypothesis test, etc.\n",
    "\n",
    "    -Feature engineering, tweaking our independent variables\n",
    "\n",
    "#### Modeling\n",
    "\n",
    "-Evaluation"
   ]
  },
  {
   "cell_type": "markdown",
   "metadata": {},
   "source": [
    "### About Regression\n",
    "\n",
    "-Regression is a supervised machine learning technique used to model the relationships between one (univariate) or more (multivariate) feature and how they contribute to producing a particular outcome, represented by a continuous target variable.\n"
   ]
  },
  {
   "cell_type": "markdown",
   "metadata": {},
   "source": [
    "### Goals\n",
    "\n",
    "-High level goal: A function that 'mimics' or 'models' this relationship, so that when new observations are available, predictions of the target variable can be made by computing the function with the new input feature values.\n",
    "\n",
    "-More technical goal: Find the line or plane that minimizes the errors in our predictions when compared to the labeled data.\n",
    "\n"
   ]
  },
  {
   "cell_type": "markdown",
   "metadata": {},
   "source": [
    "### How it works\n",
    "\n",
    "-The algorithm attempts to find the “best” choices of values for the parameters, which in a linear regression model are the coefficients, $b_i$, in order to make the formula as “accurate” as possible, i.e. minimize the error. There are different ways to define the error. But whichever evaluation metric is selected, we find the line of best fit by identifying the parameters that minimize that error.\n",
    "\n",
    "-Once estimated, the parameters (intercept and coefficients) allow the value of the target variable to be obtained from the values of the feature variables.\n",
    "\n",
    "-In a univariate linear case, our parameters are the y-intercept ($b_0$) and the coefficient ($b_1$) of the line y= $b_0$ + $b_1$x.\n",
    "\n",
    "-\n"
   ]
  },
  {
   "cell_type": "markdown",
   "metadata": {},
   "source": [
    "#### Univariate Linear Regression\n",
    "\n",
    "-1 feature, 1 target\n",
    "\n",
    "-Evaluation: minimize the error between the actual values and the estimated values."
   ]
  },
  {
   "cell_type": "markdown",
   "metadata": {},
   "source": [
    "### Multi-Variate LInear Regression\n",
    "\n",
    "-2+ features, 1 target\n",
    "\n",
    "-The model remains linear in that the output is a linear combination of the input variables.\n"
   ]
  },
  {
   "cell_type": "markdown",
   "metadata": {},
   "source": [
    "### Polynomial Regression\n",
    "\n",
    "-Models the non-linear relationship of the features and the target.\n",
    "\n",
    "-The relationship could follow a sine, cosine, exponential, logrithmic, or quadratic function, as examples.\n",
    "\n",
    "-This is still considered to be linear model as the coefficients/weights associated with the features are still linear. While the curve we are fitting may be quadratic in nature. x² is only a feature. We must convert the original features into their higher order terms.\n",
    "\n",
    "-In Python, we can use the PolynomialFeatures class provided by scikit-learn, and then train the model using Linear Regression\n"
   ]
  },
  {
   "cell_type": "markdown",
   "metadata": {},
   "source": [
    "### Model Workflow \n",
    "\n",
    "    -Make it: instantiating linear regression object  \n",
    "\n",
    "    -Fit it: fit model and pass in target and variables used to predict\n",
    "\n",
    "    -Use it: predict"
   ]
  },
  {
   "cell_type": "markdown",
   "metadata": {},
   "source": [
    "### Feature Engineering Workflow\n",
    "\n",
    "    -MinMaxScaler()\n",
    "\n",
    "    -s.fit()\n",
    "\n",
    "    -transform()"
   ]
  },
  {
   "cell_type": "markdown",
   "metadata": {},
   "source": [
    "### Acquire and Prep\n"
   ]
  },
  {
   "cell_type": "code",
   "execution_count": null,
   "metadata": {},
   "outputs": [],
   "source": []
  },
  {
   "cell_type": "code",
   "execution_count": null,
   "metadata": {},
   "outputs": [],
   "source": []
  },
  {
   "cell_type": "code",
   "execution_count": null,
   "metadata": {},
   "outputs": [],
   "source": []
  },
  {
   "cell_type": "code",
   "execution_count": null,
   "metadata": {},
   "outputs": [],
   "source": []
  },
  {
   "cell_type": "code",
   "execution_count": null,
   "metadata": {},
   "outputs": [],
   "source": []
  },
  {
   "cell_type": "code",
   "execution_count": null,
   "metadata": {},
   "outputs": [],
   "source": []
  }
 ],
 "metadata": {
  "kernelspec": {
   "display_name": "Python 3",
   "language": "python",
   "name": "python3"
  },
  "language_info": {
   "codemirror_mode": {
    "name": "ipython",
    "version": 3
   },
   "file_extension": ".py",
   "mimetype": "text/x-python",
   "name": "python",
   "nbconvert_exporter": "python",
   "pygments_lexer": "ipython3",
   "version": "3.7.3"
  }
 },
 "nbformat": 4,
 "nbformat_minor": 2
}

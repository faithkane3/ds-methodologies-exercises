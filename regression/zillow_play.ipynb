{
 "cells": [
  {
   "cell_type": "code",
   "execution_count": 1,
   "metadata": {},
   "outputs": [],
   "source": [
    "import pandas as pd\n",
    "import numpy as np\n",
    "import csv\n",
    "from matplotlib import pyplot as plt\n",
    "import seaborn as sns\n"
   ]
  },
  {
   "cell_type": "code",
   "execution_count": 3,
   "metadata": {},
   "outputs": [],
   "source": [
    "df = pd.read_csv(\"County_MedianValuePerSqFt_AllHomes.csv\", usecols=[\"RegionName\", \"2017-05\", \"2017-06\"])"
   ]
  },
  {
   "cell_type": "code",
   "execution_count": 4,
   "metadata": {},
   "outputs": [
    {
     "data": {
      "text/html": [
       "<div>\n",
       "<style scoped>\n",
       "    .dataframe tbody tr th:only-of-type {\n",
       "        vertical-align: middle;\n",
       "    }\n",
       "\n",
       "    .dataframe tbody tr th {\n",
       "        vertical-align: top;\n",
       "    }\n",
       "\n",
       "    .dataframe thead th {\n",
       "        text-align: right;\n",
       "    }\n",
       "</style>\n",
       "<table border=\"1\" class=\"dataframe\">\n",
       "  <thead>\n",
       "    <tr style=\"text-align: right;\">\n",
       "      <th></th>\n",
       "      <th>RegionName</th>\n",
       "      <th>2017-05</th>\n",
       "      <th>2017-06</th>\n",
       "    </tr>\n",
       "  </thead>\n",
       "  <tbody>\n",
       "    <tr>\n",
       "      <th>0</th>\n",
       "      <td>Los Angeles County</td>\n",
       "      <td>389</td>\n",
       "      <td>390</td>\n",
       "    </tr>\n",
       "    <tr>\n",
       "      <th>1</th>\n",
       "      <td>Cook County</td>\n",
       "      <td>156</td>\n",
       "      <td>157</td>\n",
       "    </tr>\n",
       "    <tr>\n",
       "      <th>2</th>\n",
       "      <td>Harris County</td>\n",
       "      <td>91</td>\n",
       "      <td>91</td>\n",
       "    </tr>\n",
       "    <tr>\n",
       "      <th>3</th>\n",
       "      <td>Maricopa County</td>\n",
       "      <td>139</td>\n",
       "      <td>140</td>\n",
       "    </tr>\n",
       "    <tr>\n",
       "      <th>4</th>\n",
       "      <td>San Diego County</td>\n",
       "      <td>343</td>\n",
       "      <td>345</td>\n",
       "    </tr>\n",
       "  </tbody>\n",
       "</table>\n",
       "</div>"
      ],
      "text/plain": [
       "           RegionName  2017-05  2017-06\n",
       "0  Los Angeles County      389      390\n",
       "1         Cook County      156      157\n",
       "2       Harris County       91       91\n",
       "3     Maricopa County      139      140\n",
       "4    San Diego County      343      345"
      ]
     },
     "execution_count": 4,
     "metadata": {},
     "output_type": "execute_result"
    }
   ],
   "source": [
    "df.head()"
   ]
  },
  {
   "cell_type": "code",
   "execution_count": 5,
   "metadata": {},
   "outputs": [
    {
     "data": {
      "text/plain": [
       "RegionName    0\n",
       "2017-05       0\n",
       "2017-06       0\n",
       "dtype: int64"
      ]
     },
     "execution_count": 5,
     "metadata": {},
     "output_type": "execute_result"
    }
   ],
   "source": [
    "df.isnull().sum()"
   ]
  },
  {
   "cell_type": "code",
   "execution_count": 6,
   "metadata": {},
   "outputs": [
    {
     "name": "stdout",
     "output_type": "stream",
     "text": [
      "<class 'pandas.core.frame.DataFrame'>\n",
      "RangeIndex: 1805 entries, 0 to 1804\n",
      "Data columns (total 3 columns):\n",
      "RegionName    1805 non-null object\n",
      "2017-05       1805 non-null int64\n",
      "2017-06       1805 non-null int64\n",
      "dtypes: int64(2), object(1)\n",
      "memory usage: 42.4+ KB\n"
     ]
    }
   ],
   "source": [
    "df.info()"
   ]
  },
  {
   "cell_type": "code",
   "execution_count": 8,
   "metadata": {},
   "outputs": [
    {
     "data": {
      "text/html": [
       "<div>\n",
       "<style scoped>\n",
       "    .dataframe tbody tr th:only-of-type {\n",
       "        vertical-align: middle;\n",
       "    }\n",
       "\n",
       "    .dataframe tbody tr th {\n",
       "        vertical-align: top;\n",
       "    }\n",
       "\n",
       "    .dataframe thead th {\n",
       "        text-align: right;\n",
       "    }\n",
       "</style>\n",
       "<table border=\"1\" class=\"dataframe\">\n",
       "  <thead>\n",
       "    <tr style=\"text-align: right;\">\n",
       "      <th></th>\n",
       "      <th>2017-05</th>\n",
       "      <th>2017-06</th>\n",
       "    </tr>\n",
       "  </thead>\n",
       "  <tbody>\n",
       "    <tr>\n",
       "      <th>count</th>\n",
       "      <td>1805.000000</td>\n",
       "      <td>1805.000000</td>\n",
       "    </tr>\n",
       "    <tr>\n",
       "      <th>mean</th>\n",
       "      <td>107.272022</td>\n",
       "      <td>107.751247</td>\n",
       "    </tr>\n",
       "    <tr>\n",
       "      <th>std</th>\n",
       "      <td>79.173178</td>\n",
       "      <td>79.584081</td>\n",
       "    </tr>\n",
       "    <tr>\n",
       "      <th>min</th>\n",
       "      <td>21.000000</td>\n",
       "      <td>21.000000</td>\n",
       "    </tr>\n",
       "    <tr>\n",
       "      <th>25%</th>\n",
       "      <td>65.000000</td>\n",
       "      <td>66.000000</td>\n",
       "    </tr>\n",
       "    <tr>\n",
       "      <th>50%</th>\n",
       "      <td>89.000000</td>\n",
       "      <td>89.000000</td>\n",
       "    </tr>\n",
       "    <tr>\n",
       "      <th>75%</th>\n",
       "      <td>125.000000</td>\n",
       "      <td>126.000000</td>\n",
       "    </tr>\n",
       "    <tr>\n",
       "      <th>max</th>\n",
       "      <td>1463.000000</td>\n",
       "      <td>1466.000000</td>\n",
       "    </tr>\n",
       "  </tbody>\n",
       "</table>\n",
       "</div>"
      ],
      "text/plain": [
       "           2017-05      2017-06\n",
       "count  1805.000000  1805.000000\n",
       "mean    107.272022   107.751247\n",
       "std      79.173178    79.584081\n",
       "min      21.000000    21.000000\n",
       "25%      65.000000    66.000000\n",
       "50%      89.000000    89.000000\n",
       "75%     125.000000   126.000000\n",
       "max    1463.000000  1466.000000"
      ]
     },
     "execution_count": 8,
     "metadata": {},
     "output_type": "execute_result"
    }
   ],
   "source": [
    "df.describe()"
   ]
  },
  {
   "cell_type": "code",
   "execution_count": 10,
   "metadata": {},
   "outputs": [
    {
     "data": {
      "text/html": [
       "<div>\n",
       "<style scoped>\n",
       "    .dataframe tbody tr th:only-of-type {\n",
       "        vertical-align: middle;\n",
       "    }\n",
       "\n",
       "    .dataframe tbody tr th {\n",
       "        vertical-align: top;\n",
       "    }\n",
       "\n",
       "    .dataframe thead th {\n",
       "        text-align: right;\n",
       "    }\n",
       "</style>\n",
       "<table border=\"1\" class=\"dataframe\">\n",
       "  <thead>\n",
       "    <tr style=\"text-align: right;\">\n",
       "      <th></th>\n",
       "      <th>2017-05</th>\n",
       "      <th>2017-06</th>\n",
       "    </tr>\n",
       "    <tr>\n",
       "      <th>RegionName</th>\n",
       "      <th></th>\n",
       "      <th></th>\n",
       "    </tr>\n",
       "  </thead>\n",
       "  <tbody>\n",
       "    <tr>\n",
       "      <th>Ada County</th>\n",
       "      <td>145.0</td>\n",
       "      <td>146.0</td>\n",
       "    </tr>\n",
       "    <tr>\n",
       "      <th>Adair County</th>\n",
       "      <td>61.0</td>\n",
       "      <td>61.0</td>\n",
       "    </tr>\n",
       "    <tr>\n",
       "      <th>Adams County</th>\n",
       "      <td>130.6</td>\n",
       "      <td>131.2</td>\n",
       "    </tr>\n",
       "    <tr>\n",
       "      <th>Aiken County</th>\n",
       "      <td>74.0</td>\n",
       "      <td>75.0</td>\n",
       "    </tr>\n",
       "    <tr>\n",
       "      <th>Alachua County</th>\n",
       "      <td>105.0</td>\n",
       "      <td>106.0</td>\n",
       "    </tr>\n",
       "  </tbody>\n",
       "</table>\n",
       "</div>"
      ],
      "text/plain": [
       "                2017-05  2017-06\n",
       "RegionName                      \n",
       "Ada County        145.0    146.0\n",
       "Adair County       61.0     61.0\n",
       "Adams County      130.6    131.2\n",
       "Aiken County       74.0     75.0\n",
       "Alachua County    105.0    106.0"
      ]
     },
     "execution_count": 10,
     "metadata": {},
     "output_type": "execute_result"
    }
   ],
   "source": [
    "df_by_county = df.groupby([\"RegionName\"]).mean()\n",
    "df_by_county.head()"
   ]
  },
  {
   "cell_type": "code",
   "execution_count": 19,
   "metadata": {},
   "outputs": [
    {
     "data": {
      "text/html": [
       "<div>\n",
       "<style scoped>\n",
       "    .dataframe tbody tr th:only-of-type {\n",
       "        vertical-align: middle;\n",
       "    }\n",
       "\n",
       "    .dataframe tbody tr th {\n",
       "        vertical-align: top;\n",
       "    }\n",
       "\n",
       "    .dataframe thead th {\n",
       "        text-align: right;\n",
       "    }\n",
       "</style>\n",
       "<table border=\"1\" class=\"dataframe\">\n",
       "  <thead>\n",
       "    <tr style=\"text-align: right;\">\n",
       "      <th></th>\n",
       "      <th>2017-05</th>\n",
       "      <th>2017-06</th>\n",
       "      <th>delta_05_to_06</th>\n",
       "    </tr>\n",
       "    <tr>\n",
       "      <th>RegionName</th>\n",
       "      <th></th>\n",
       "      <th></th>\n",
       "      <th></th>\n",
       "    </tr>\n",
       "  </thead>\n",
       "  <tbody>\n",
       "    <tr>\n",
       "      <th>Ada County</th>\n",
       "      <td>145.0</td>\n",
       "      <td>146.0</td>\n",
       "      <td>1.0</td>\n",
       "    </tr>\n",
       "    <tr>\n",
       "      <th>Adair County</th>\n",
       "      <td>61.0</td>\n",
       "      <td>61.0</td>\n",
       "      <td>0.0</td>\n",
       "    </tr>\n",
       "    <tr>\n",
       "      <th>Adams County</th>\n",
       "      <td>130.6</td>\n",
       "      <td>131.2</td>\n",
       "      <td>0.6</td>\n",
       "    </tr>\n",
       "    <tr>\n",
       "      <th>Aiken County</th>\n",
       "      <td>74.0</td>\n",
       "      <td>75.0</td>\n",
       "      <td>1.0</td>\n",
       "    </tr>\n",
       "    <tr>\n",
       "      <th>Alachua County</th>\n",
       "      <td>105.0</td>\n",
       "      <td>106.0</td>\n",
       "      <td>1.0</td>\n",
       "    </tr>\n",
       "  </tbody>\n",
       "</table>\n",
       "</div>"
      ],
      "text/plain": [
       "                2017-05  2017-06  delta_05_to_06\n",
       "RegionName                                      \n",
       "Ada County        145.0    146.0             1.0\n",
       "Adair County       61.0     61.0             0.0\n",
       "Adams County      130.6    131.2             0.6\n",
       "Aiken County       74.0     75.0             1.0\n",
       "Alachua County    105.0    106.0             1.0"
      ]
     },
     "execution_count": 19,
     "metadata": {},
     "output_type": "execute_result"
    }
   ],
   "source": [
    "df_by_county[\"delta_05_to_06\"] = df_by_county[\"2017-06\"] - df_by_county[\"2017-05\"]\n",
    "df_by_county.head()"
   ]
  },
  {
   "cell_type": "code",
   "execution_count": 20,
   "metadata": {},
   "outputs": [
    {
     "name": "stdout",
     "output_type": "stream",
     "text": [
      "<class 'pandas.core.frame.DataFrame'>\n",
      "Index: 1202 entries, Ada County to Yuma County\n",
      "Data columns (total 3 columns):\n",
      "2017-05           1202 non-null float64\n",
      "2017-06           1202 non-null float64\n",
      "delta_05_to_06    1202 non-null float64\n",
      "dtypes: float64(3)\n",
      "memory usage: 37.6+ KB\n"
     ]
    }
   ],
   "source": [
    "df_by_county.info()"
   ]
  },
  {
   "cell_type": "code",
   "execution_count": 21,
   "metadata": {},
   "outputs": [
    {
     "data": {
      "text/plain": [
       "2017-05           1463.0\n",
       "2017-06           1466.0\n",
       "delta_05_to_06      13.0\n",
       "dtype: float64"
      ]
     },
     "execution_count": 21,
     "metadata": {},
     "output_type": "execute_result"
    }
   ],
   "source": [
    "df_by_county.max()"
   ]
  },
  {
   "cell_type": "code",
   "execution_count": 22,
   "metadata": {},
   "outputs": [
    {
     "data": {
      "text/plain": [
       "2017-05           New York County\n",
       "2017-06           New York County\n",
       "delta_05_to_06    Gunnison County\n",
       "dtype: object"
      ]
     },
     "execution_count": 22,
     "metadata": {},
     "output_type": "execute_result"
    }
   ],
   "source": [
    "df_by_county.idxmax()"
   ]
  },
  {
   "cell_type": "code",
   "execution_count": 23,
   "metadata": {},
   "outputs": [
    {
     "data": {
      "text/plain": [
       "2017-05           23.0\n",
       "2017-06           24.0\n",
       "delta_05_to_06    -2.0\n",
       "dtype: float64"
      ]
     },
     "execution_count": 23,
     "metadata": {},
     "output_type": "execute_result"
    }
   ],
   "source": [
    "df_by_county.min()"
   ]
  },
  {
   "cell_type": "code",
   "execution_count": 24,
   "metadata": {},
   "outputs": [
    {
     "data": {
      "text/plain": [
       "2017-05                Baylor County\n",
       "2017-06                Baylor County\n",
       "delta_05_to_06    Clear Creek County\n",
       "dtype: object"
      ]
     },
     "execution_count": 24,
     "metadata": {},
     "output_type": "execute_result"
    }
   ],
   "source": [
    "df_by_county.idxmin()"
   ]
  },
  {
   "cell_type": "markdown",
   "metadata": {},
   "source": [
    "#### Project Walkthrough"
   ]
  },
  {
   "cell_type": "markdown",
   "metadata": {},
   "source": [
    "-First Iteration: \n",
    "\n",
    "    Have a baseline by the end of Thursday\n",
    "    \n",
    "        -Drop NULLs, scale, model (can skip scale if you want)\n",
    "        -sqft of home, number of bedrooms, and number of bathrooms\n",
    "        \n",
    "-Second Iteration:\n",
    "    \n",
    "    Have an MVP by the end of Friday with same features from baseline\n",
    "    \n",
    "-SQL Best Practice:\n",
    "\n",
    "    -Limit the data you pull in to 100 rows when you request from database\n",
    "    \n",
    "    -Filter the data you bring it to limit what you bring in\n",
    "    \n",
    "    -You should end up with around 20,000 records ONLY\n",
    "    \n",
    "    -Subqueries will run first, but you probably won't have to do one.\n",
    "    \n",
    "        For this, query pretty straight forward.\n",
    "        \n",
    "    -Predictions and Properties, make sure you're using the right year. Last transaction date will be in predictions which is what you use to filter for \"hot months.\" \n",
    "    \n",
    "-Work in your Notebook bc it is the report you will deliver.\n",
    "\n",
    "    Document everything you do and functions you use, so that someone can reproduce your work.\n",
    "\n",
    "x = features that best predict the value of the house \n",
    "y = assess value (value of the house)\n",
    "\n",
    "-Distribution chart of tax rate by county, a histogram by count of properties at each tax rate\n",
    "\n",
    "-Report and Presentation summarizing your findings about the drivers of the assess value of a home. Presentation 5 minutes or less.\n",
    "\n",
    "-A github repo\n",
    "\n",
    "-You do not need to do feature selection for this project"
   ]
  },
  {
   "cell_type": "markdown",
   "metadata": {},
   "source": [
    "### SQL Query"
   ]
  },
  {
   "cell_type": "code",
   "execution_count": null,
   "metadata": {},
   "outputs": [],
   "source": [
    "SELECT transactiondate\n",
    "FROM predictions_2017\n",
    "WHERE transactiondate LIKE \"2017-05%\" and \"2017-06%\"\n",
    "ORDER BY transactiondate;"
   ]
  },
  {
   "cell_type": "code",
   "execution_count": null,
   "metadata": {},
   "outputs": [],
   "source": [
    "SELECT bedroomcnt, \n",
    "       bathroomcnt, \n",
    "       taxamount,\n",
    "       taxvaluedollarcnt\n",
    "       propertylandusedesc,\n",
    "       propertylandusetypeid, \n",
    "       fips\n",
    "FROM predictions_2017\n",
    "JOIN properties_2017 USING(id)\n",
    "JOIN propertylandusetype USING(propertylandusetypeid)\n",
    "WHERE (transactiondate LIKE \"2017-05%\" OR transactiondate LIKE \"2017-06%\") \n",
    "\tAND propertylandusetypeid = \"261\" \n",
    "\tOR (propertylandusetypeid = \"279\" AND propertylandusedesc=\"Single Family Residential\")\n",
    "ORDER BY fips;"
   ]
  }
 ],
 "metadata": {
  "kernelspec": {
   "display_name": "Python 3",
   "language": "python",
   "name": "python3"
  },
  "language_info": {
   "codemirror_mode": {
    "name": "ipython",
    "version": 3
   },
   "file_extension": ".py",
   "mimetype": "text/x-python",
   "name": "python",
   "nbconvert_exporter": "python",
   "pygments_lexer": "ipython3",
   "version": "3.7.3"
  }
 },
 "nbformat": 4,
 "nbformat_minor": 2
}

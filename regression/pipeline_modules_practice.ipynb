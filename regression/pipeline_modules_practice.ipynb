{
 "cells": [
  {
   "cell_type": "code",
   "execution_count": 1,
   "metadata": {},
   "outputs": [],
   "source": [
    "import pandas as pd\n",
    "import seaborn as sns\n",
    "import numpy as np\n",
    "from pydataset import data\n",
    "import wrangle\n",
    "import util\n",
    "from sklearn.model_selection import train_test_split\n",
    "from split_scale import split_my_data, standard_scaler, scale_inverse\n",
    "from sklearn.preprocessing import StandardScaler, QuantileTransformer, PowerTransformer, RobustScaler, MinMaxScaler\n"
   ]
  },
  {
   "cell_type": "code",
   "execution_count": 2,
   "metadata": {},
   "outputs": [],
   "source": [
    "telco = wrangle.wrangle_telco()"
   ]
  },
  {
   "cell_type": "code",
   "execution_count": 3,
   "metadata": {},
   "outputs": [
    {
     "name": "stdout",
     "output_type": "stream",
     "text": [
      "<class 'pandas.core.frame.DataFrame'>\n",
      "Int64Index: 1685 entries, 0 to 1694\n",
      "Data columns (total 3 columns):\n",
      "monthly_charges    1685 non-null float64\n",
      "total_charges      1685 non-null float64\n",
      "tenure             1685 non-null int64\n",
      "dtypes: float64(2), int64(1)\n",
      "memory usage: 52.7 KB\n"
     ]
    }
   ],
   "source": [
    "telco.info()"
   ]
  },
  {
   "cell_type": "code",
   "execution_count": 4,
   "metadata": {},
   "outputs": [
    {
     "data": {
      "text/html": [
       "<div>\n",
       "<style scoped>\n",
       "    .dataframe tbody tr th:only-of-type {\n",
       "        vertical-align: middle;\n",
       "    }\n",
       "\n",
       "    .dataframe tbody tr th {\n",
       "        vertical-align: top;\n",
       "    }\n",
       "\n",
       "    .dataframe thead th {\n",
       "        text-align: right;\n",
       "    }\n",
       "</style>\n",
       "<table border=\"1\" class=\"dataframe\">\n",
       "  <thead>\n",
       "    <tr style=\"text-align: right;\">\n",
       "      <th></th>\n",
       "      <th>monthly_charges</th>\n",
       "      <th>total_charges</th>\n",
       "      <th>tenure</th>\n",
       "    </tr>\n",
       "  </thead>\n",
       "  <tbody>\n",
       "    <tr>\n",
       "      <th>count</th>\n",
       "      <td>1685.000000</td>\n",
       "      <td>1685.000000</td>\n",
       "      <td>1685.00000</td>\n",
       "    </tr>\n",
       "    <tr>\n",
       "      <th>mean</th>\n",
       "      <td>60.872374</td>\n",
       "      <td>3728.933947</td>\n",
       "      <td>57.07181</td>\n",
       "    </tr>\n",
       "    <tr>\n",
       "      <th>std</th>\n",
       "      <td>34.712210</td>\n",
       "      <td>2571.252806</td>\n",
       "      <td>17.72913</td>\n",
       "    </tr>\n",
       "    <tr>\n",
       "      <th>min</th>\n",
       "      <td>18.400000</td>\n",
       "      <td>20.350000</td>\n",
       "      <td>1.00000</td>\n",
       "    </tr>\n",
       "    <tr>\n",
       "      <th>25%</th>\n",
       "      <td>24.050000</td>\n",
       "      <td>1278.800000</td>\n",
       "      <td>48.00000</td>\n",
       "    </tr>\n",
       "    <tr>\n",
       "      <th>50%</th>\n",
       "      <td>64.450000</td>\n",
       "      <td>3623.950000</td>\n",
       "      <td>64.00000</td>\n",
       "    </tr>\n",
       "    <tr>\n",
       "      <th>75%</th>\n",
       "      <td>90.550000</td>\n",
       "      <td>5999.850000</td>\n",
       "      <td>71.00000</td>\n",
       "    </tr>\n",
       "    <tr>\n",
       "      <th>max</th>\n",
       "      <td>118.750000</td>\n",
       "      <td>8672.450000</td>\n",
       "      <td>72.00000</td>\n",
       "    </tr>\n",
       "  </tbody>\n",
       "</table>\n",
       "</div>"
      ],
      "text/plain": [
       "       monthly_charges  total_charges      tenure\n",
       "count      1685.000000    1685.000000  1685.00000\n",
       "mean         60.872374    3728.933947    57.07181\n",
       "std          34.712210    2571.252806    17.72913\n",
       "min          18.400000      20.350000     1.00000\n",
       "25%          24.050000    1278.800000    48.00000\n",
       "50%          64.450000    3623.950000    64.00000\n",
       "75%          90.550000    5999.850000    71.00000\n",
       "max         118.750000    8672.450000    72.00000"
      ]
     },
     "execution_count": 4,
     "metadata": {},
     "output_type": "execute_result"
    }
   ],
   "source": [
    "telco.describe()"
   ]
  },
  {
   "cell_type": "code",
   "execution_count": 5,
   "metadata": {},
   "outputs": [],
   "source": [
    "#telco = telco.drop(columns=\"customer_id\")"
   ]
  },
  {
   "cell_type": "code",
   "execution_count": 6,
   "metadata": {},
   "outputs": [
    {
     "data": {
      "text/html": [
       "<div>\n",
       "<style scoped>\n",
       "    .dataframe tbody tr th:only-of-type {\n",
       "        vertical-align: middle;\n",
       "    }\n",
       "\n",
       "    .dataframe tbody tr th {\n",
       "        vertical-align: top;\n",
       "    }\n",
       "\n",
       "    .dataframe thead th {\n",
       "        text-align: right;\n",
       "    }\n",
       "</style>\n",
       "<table border=\"1\" class=\"dataframe\">\n",
       "  <thead>\n",
       "    <tr style=\"text-align: right;\">\n",
       "      <th></th>\n",
       "      <th>monthly_charges</th>\n",
       "      <th>total_charges</th>\n",
       "      <th>tenure</th>\n",
       "    </tr>\n",
       "  </thead>\n",
       "  <tbody>\n",
       "    <tr>\n",
       "      <th>119</th>\n",
       "      <td>75.50</td>\n",
       "      <td>5212.65</td>\n",
       "      <td>70</td>\n",
       "    </tr>\n",
       "    <tr>\n",
       "      <th>1424</th>\n",
       "      <td>20.30</td>\n",
       "      <td>1079.05</td>\n",
       "      <td>55</td>\n",
       "    </tr>\n",
       "    <tr>\n",
       "      <th>385</th>\n",
       "      <td>109.05</td>\n",
       "      <td>7108.20</td>\n",
       "      <td>65</td>\n",
       "    </tr>\n",
       "    <tr>\n",
       "      <th>1140</th>\n",
       "      <td>98.30</td>\n",
       "      <td>6859.50</td>\n",
       "      <td>70</td>\n",
       "    </tr>\n",
       "    <tr>\n",
       "      <th>1504</th>\n",
       "      <td>116.25</td>\n",
       "      <td>8564.75</td>\n",
       "      <td>71</td>\n",
       "    </tr>\n",
       "  </tbody>\n",
       "</table>\n",
       "</div>"
      ],
      "text/plain": [
       "      monthly_charges  total_charges  tenure\n",
       "119             75.50        5212.65      70\n",
       "1424            20.30        1079.05      55\n",
       "385            109.05        7108.20      65\n",
       "1140            98.30        6859.50      70\n",
       "1504           116.25        8564.75      71"
      ]
     },
     "execution_count": 6,
     "metadata": {},
     "output_type": "execute_result"
    }
   ],
   "source": [
    "train, test = split_my_data(telco)\n",
    "train.head()"
   ]
  },
  {
   "cell_type": "code",
   "execution_count": 24,
   "metadata": {},
   "outputs": [],
   "source": [
    "def tell_me_about(df):\n",
    "    print()\n",
    "    print()\n",
    "    print(\"Info about:\\n\")\n",
    "    print(df.info())\n",
    "    print(\"\\nDescribe:\\n\")\n",
    "    print(df.describe())\n",
    "    print(\"\\nPreview:\\n\")\n",
    "    print(df.head())"
   ]
  },
  {
   "cell_type": "code",
   "execution_count": 25,
   "metadata": {},
   "outputs": [
    {
     "name": "stdout",
     "output_type": "stream",
     "text": [
      "Info about:\n",
      "\n",
      "<class 'pandas.core.frame.DataFrame'>\n",
      "Int64Index: 1348 entries, 119 to 1544\n",
      "Data columns (total 3 columns):\n",
      "monthly_charges    1348 non-null float64\n",
      "total_charges      1348 non-null float64\n",
      "tenure             1348 non-null float64\n",
      "dtypes: float64(3)\n",
      "memory usage: 42.1 KB\n",
      "None\n",
      "\n",
      "Describe:\n",
      "\n",
      "       monthly_charges  total_charges       tenure\n",
      "count      1348.000000    1348.000000  1348.000000\n",
      "mean         60.921180    3740.536907    57.277448\n",
      "std          34.756867    2571.617986    17.448668\n",
      "min          18.400000      20.350000     1.000000\n",
      "25%          23.887500    1277.275000    49.000000\n",
      "50%          64.400000    3734.700000    64.000000\n",
      "75%          90.687500    5987.675000    71.000000\n",
      "max         118.750000    8672.450000    72.000000\n",
      "\n",
      "Preview:\n",
      "\n",
      "      monthly_charges  total_charges  tenure\n",
      "119             75.50        5212.65    70.0\n",
      "1424            20.30        1079.05    55.0\n",
      "385            109.05        7108.20    65.0\n",
      "1140            98.30        6859.50    70.0\n",
      "1504           116.25        8564.75    71.0\n"
     ]
    }
   ],
   "source": [
    "tell_me_about(train)"
   ]
  },
  {
   "cell_type": "code",
   "execution_count": 7,
   "metadata": {},
   "outputs": [
    {
     "name": "stdout",
     "output_type": "stream",
     "text": [
      "      monthly_charges  total_charges    tenure\n",
      "119          0.419607       0.572659  0.729412\n",
      "1424        -1.169158      -1.035331 -0.130571\n",
      "385          1.385242       1.310036  0.442751\n",
      "1140         1.075836       1.213291  0.729412\n",
      "1504         1.592472       1.876641  0.786745\n",
      "      monthly_charges  total_charges    tenure\n",
      "305         -1.163401      -0.870704  0.844077\n",
      "452          1.450002       1.488589  0.557416\n",
      "917          1.389560       1.287299  0.328087\n",
      "1421        -1.193622      -0.978302  0.385419\n",
      "1557        -1.059786      -1.226585 -1.907870\n"
     ]
    }
   ],
   "source": [
    "scaler, scaled_train, scaled_test = standard_scaler(train, test)\n",
    "print(scaled_train.head())\n",
    "print(scaled_test.head())"
   ]
  },
  {
   "cell_type": "code",
   "execution_count": 8,
   "metadata": {},
   "outputs": [
    {
     "name": "stdout",
     "output_type": "stream",
     "text": [
      "      monthly_charges  total_charges  tenure\n",
      "119             75.50        5212.65    70.0\n",
      "1424            20.30        1079.05    55.0\n",
      "385            109.05        7108.20    65.0\n",
      "1140            98.30        6859.50    70.0\n",
      "1504           116.25        8564.75    71.0\n",
      "      monthly_charges  total_charges  tenure\n",
      "305             20.50        1502.25    72.0\n",
      "452            111.30        7567.20    67.0\n",
      "917            109.20        7049.75    63.0\n",
      "1421            19.45        1225.65    64.0\n",
      "1557            24.10         587.40    24.0\n"
     ]
    }
   ],
   "source": [
    "train, test = scale_inverse(scaler, scaled_train, scaled_test)\n",
    "print(train.head())\n",
    "print(test.head())"
   ]
  },
  {
   "cell_type": "code",
   "execution_count": null,
   "metadata": {},
   "outputs": [],
   "source": []
  }
 ],
 "metadata": {
  "kernelspec": {
   "display_name": "Python 3",
   "language": "python",
   "name": "python3"
  },
  "language_info": {
   "codemirror_mode": {
    "name": "ipython",
    "version": 3
   },
   "file_extension": ".py",
   "mimetype": "text/x-python",
   "name": "python",
   "nbconvert_exporter": "python",
   "pygments_lexer": "ipython3",
   "version": "3.7.3"
  }
 },
 "nbformat": 4,
 "nbformat_minor": 2
}

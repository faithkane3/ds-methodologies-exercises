{
 "cells": [
  {
   "cell_type": "markdown",
   "metadata": {},
   "source": [
    "# NLP: Classify Articles from Titles NOTES"
   ]
  },
  {
   "cell_type": "markdown",
   "metadata": {},
   "source": [
    "- tokenize puts makes each word its own object, a list of words\n",
    "\n",
    "\n",
    "- corpus.stopwords\n",
    "\n",
    "\n",
    "- select what will become the features and labels and target variable\n",
    "\n",
    "\n",
    "- Normalize text\n",
    "\n",
    "\n",
    "- re.sub(r'/b[a-z]{,2}\\b, '', string)   drop words less than 3 characters\n",
    "\n",
    "\n",
    "- re.sub(r'[/r|/n|/r/n]+', '', string)  drop returns or newlines\n",
    "\n",
    "\n",
    "- string.strip()\n",
    "\n",
    "\n",
    "- re.sub(r'\\s+', ' ', string)   drop multiple spaces and sub single space\n",
    "\n",
    "\n",
    "- df = df.assign(normalized = df.original.apply(normalize))  add a new col to df based on existing col\n",
    "\n",
    "\n",
    "- word_df = pd.DataFrame(dict(word = unique_words))   create a df of unique words from all docs\n",
    "\n",
    "\n",
    "- word_df.assign(idf = lambda df: df.word.apply(idf))  add idf values to df as col\n",
    "\n",
    "\n",
    "- word_df.set_index('word').sort_values(by='idf', ascending = False)  set word col as index, sort by the idf col from largest to smallest\n",
    "\n",
    "\n",
    "- High IDF == word appears in fewer docs, less docs(smaller proportion of docs)\n",
    "- Low IDF == word appears in more docs, more docs(larger proportion of docs)\n",
    "\n",
    "- Term Frequency (TF) should always be <= 1\n",
    "\n",
    "- High TF == word appears more frequently, larger proportion of total words\n",
    "- Low TF == word appears less frquently, smaller proportion of total words\n",
    "\n",
    "- Low TF and High IDF ==  most powerful words, highest entropy words\n",
    "    - The highest frequency amongst words in all docs and lowest number of appearances in total docs "
   ]
  },
  {
   "cell_type": "code",
   "execution_count": null,
   "metadata": {},
   "outputs": [],
   "source": []
  }
 ],
 "metadata": {
  "kernelspec": {
   "display_name": "Python 3",
   "language": "python",
   "name": "python3"
  },
  "language_info": {
   "codemirror_mode": {
    "name": "ipython",
    "version": 3
   },
   "file_extension": ".py",
   "mimetype": "text/x-python",
   "name": "python",
   "nbconvert_exporter": "python",
   "pygments_lexer": "ipython3",
   "version": "3.7.3"
  },
  "toc": {
   "base_numbering": 1,
   "nav_menu": {},
   "number_sections": true,
   "sideBar": true,
   "skip_h1_title": false,
   "title_cell": "Table of Contents",
   "title_sidebar": "Contents",
   "toc_cell": false,
   "toc_position": {},
   "toc_section_display": true,
   "toc_window_display": false
  }
 },
 "nbformat": 4,
 "nbformat_minor": 2
}

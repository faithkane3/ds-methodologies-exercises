{
 "cells": [
  {
   "cell_type": "markdown",
   "metadata": {
    "toc": true
   },
   "source": [
    "<h1>Table of Contents<span class=\"tocSkip\"></span></h1>\n",
    "<div class=\"toc\"><ul class=\"toc-item\"><li><span><a href=\"#Beautiful-Soup---Web-Scraping\" data-toc-modified-id=\"Beautiful-Soup---Web-Scraping-1\"><span class=\"toc-item-num\">1&nbsp;&nbsp;</span>Beautiful Soup - Web Scraping</a></span><ul class=\"toc-item\"><li><span><a href=\"#What-is-Beautiful-Soup?\" data-toc-modified-id=\"What-is-Beautiful-Soup?-1.1\"><span class=\"toc-item-num\">1.1&nbsp;&nbsp;</span><strong><font color=\"red\">What is Beautiful Soup?</font></strong></a></span></li><li><span><a href=\"#So-What-Do-I-Do-With-Beautiful-Soup?\" data-toc-modified-id=\"So-What-Do-I-Do-With-Beautiful-Soup?-1.2\"><span class=\"toc-item-num\">1.2&nbsp;&nbsp;</span><strong><font color=\"orange\">So What Do I Do With Beautiful Soup?</font></strong></a></span><ul class=\"toc-item\"><li><span><a href=\"#HTML-Elements\" data-toc-modified-id=\"HTML-Elements-1.2.1\"><span class=\"toc-item-num\">1.2.1&nbsp;&nbsp;</span><strong><font color=\"purple\">HTML Elements</font></strong></a></span></li><li><span><a href=\"#HTML-Attributes\" data-toc-modified-id=\"HTML-Attributes-1.2.2\"><span class=\"toc-item-num\">1.2.2&nbsp;&nbsp;</span><strong><font color=\"purple\">HTML Attributes</font></strong></a></span></li></ul></li><li><span><a href=\"#Now-What?\" data-toc-modified-id=\"Now-What?-1.3\"><span class=\"toc-item-num\">1.3&nbsp;&nbsp;</span><strong><font color=\"green\">Now What?</font></strong></a></span></li><li><span><a href=\"#Codeup-Blogs\" data-toc-modified-id=\"Codeup-Blogs-1.4\"><span class=\"toc-item-num\">1.4&nbsp;&nbsp;</span><strong><font color=\"blue\">Codeup Blogs</font></strong></a></span><ul class=\"toc-item\"><li><span><a href=\"#Grab-Title-from-Page\" data-toc-modified-id=\"Grab-Title-from-Page-1.4.1\"><span class=\"toc-item-num\">1.4.1&nbsp;&nbsp;</span><strong><font color=\"purple\">Grab Title from Page</font></strong></a></span></li><li><span><a href=\"#Grab-Text-from-Page\" data-toc-modified-id=\"Grab-Text-from-Page-1.4.2\"><span class=\"toc-item-num\">1.4.2&nbsp;&nbsp;</span><strong><font color=\"purple\">Grab Text from Page</font></strong></a></span></li><li><span><a href=\"#Build-Blog-Function\" data-toc-modified-id=\"Build-Blog-Function-1.4.3\"><span class=\"toc-item-num\">1.4.3&nbsp;&nbsp;</span><strong><font color=\"purple\">Build Blog Function</font></strong></a></span></li><li><span><a href=\"#Test-Function\" data-toc-modified-id=\"Test-Function-1.4.4\"><span class=\"toc-item-num\">1.4.4&nbsp;&nbsp;</span><strong><font color=\"purple\">Test Function</font></strong></a></span></li><li><span><a href=\"#Bonus-URL-Scrape\" data-toc-modified-id=\"Bonus-URL-Scrape-1.4.5\"><span class=\"toc-item-num\">1.4.5&nbsp;&nbsp;</span><strong><font color=\"purple\">Bonus URL Scrape</font></strong></a></span></li><li><span><a href=\"#Bonus-URL-Function\" data-toc-modified-id=\"Bonus-URL-Function-1.4.6\"><span class=\"toc-item-num\">1.4.6&nbsp;&nbsp;</span><strong><font color=\"purple\">Bonus URL Function</font></strong></a></span></li></ul></li><li><span><a href=\"#Inshorts-News-Articles\" data-toc-modified-id=\"Inshorts-News-Articles-1.5\"><span class=\"toc-item-num\">1.5&nbsp;&nbsp;</span><strong><font color=\"blue\">Inshorts News Articles</font></strong></a></span><ul class=\"toc-item\"><li><span><a href=\"#Scrape-Article-News-Cards\" data-toc-modified-id=\"Scrape-Article-News-Cards-1.5.1\"><span class=\"toc-item-num\">1.5.1&nbsp;&nbsp;</span><strong><font color=\"purple\">Scrape Article News Cards</font></strong></a></span></li><li><span><a href=\"#Scrape-the-Title-from-Each-News-Cards\" data-toc-modified-id=\"Scrape-the-Title-from-Each-News-Cards-1.5.2\"><span class=\"toc-item-num\">1.5.2&nbsp;&nbsp;</span><strong><font color=\"purple\">Scrape the Title from Each News Cards</font></strong></a></span></li><li><span><a href=\"#Scrape-Author-from-News-Cards\" data-toc-modified-id=\"Scrape-Author-from-News-Cards-1.5.3\"><span class=\"toc-item-num\">1.5.3&nbsp;&nbsp;</span><strong><font color=\"purple\">Scrape Author from News Cards</font></strong></a></span></li><li><span><a href=\"#Scrape-Text-from-Article-Page\" data-toc-modified-id=\"Scrape-Text-from-Article-Page-1.5.4\"><span class=\"toc-item-num\">1.5.4&nbsp;&nbsp;</span><strong><font color=\"purple\">Scrape Text from Article Page</font></strong></a></span></li><li><span><a href=\"#Build-Article-Function\" data-toc-modified-id=\"Build-Article-Function-1.5.5\"><span class=\"toc-item-num\">1.5.5&nbsp;&nbsp;</span><strong><font color=\"purple\">Build Article Function</font></strong></a></span></li></ul></li></ul></li></ul></div>"
   ]
  },
  {
   "cell_type": "code",
   "execution_count": 1,
   "metadata": {},
   "outputs": [],
   "source": [
    "import pandas as pd\n",
    "import numpy as np\n",
    "import matplotlib.pyplot as plt\n",
    "%matplotlib inline\n",
    "\n",
    "from requests import get\n",
    "import re\n",
    "from bs4 import BeautifulSoup\n",
    "import os"
   ]
  },
  {
   "cell_type": "markdown",
   "metadata": {},
   "source": [
    "### Beautiful Soup - Web Scraping\n",
    "\n",
    "#### **<font color=red>What is Beautiful Soup?</font>**\n",
    "\n",
    "Beautiful Soup is a Pyhon library for scraping information from web pages. You have to be careful when web scraping data from sites that the site allows the practice. You can check by typing `/robots.txt` after the base url of a site.\n",
    "\n",
    "#### **<font color=orange>So What Do I Do With Beautiful Soup?</font>**\n",
    "\n",
    "Here, we are looking to retrieve content from a web page, but the web page is written in HTML (HyperText Markup Language), so we will use the `requests` library to get an response with the HTML from our desired page and `BeautifulSoup` to parse the HTML response. It would be helpful to have a basic understanding of the different HTML elements used to create web pages.\n",
    "\n",
    "##### **<font color=purple>HTML Elements</font>**\n",
    "\n",
    "An HTML element usually consists of a start tag `<html>` and en end tag `</html>` with content between the tags.\n",
    "\n",
    "`<html>` element defines the whole document\n",
    "\n",
    "`<body>` element defines the document body\n",
    "\n",
    "`<h1>` element defines a heading\n",
    "\n",
    "`<p>` or paragraph element defines new pargraphs of text\n",
    "\n",
    "`<a>` element (tell the browser to render a link). `<a>` elements use the `href` attribute to tell the link where to go.\n",
    "\n",
    "`<div>` element defines a division or area of the web page\n",
    "\n",
    "`<img>` element defines an image and uses the `src` attribute to hold the image address.\n",
    "\n",
    "##### **<font color=purple>HTML Attributes</font>**\n",
    "\n",
    "These are optional, but they make the HTML elements easier to work with because they give the elements names. You will have to examine a web page to find out if it uses these properties.\n",
    "\n",
    "`class` is an attribute of an HTML element that defines equal styles for tags with the same class. One element can have multiple classes and different elements can share the same classes, so classes cannot be used as unique identifiers.\n",
    "\n",
    "`id` is an attribute of an HTML element. Each element can only have one id, so they can be used as unique identifiers.\n",
    "\n",
    "`itemprop` is an attribute that consists of a name-value pair and is used to add properties to an element.\n",
    "\n",
    "`href` is an attribute of an `<a>` element that contains the link address.\n",
    "\n",
    "`src` is an attribuate of an `<img>` element that contains the address for an image.\n",
    "\n",
    "#### **<font color=green>Now What?</font>**\n",
    "\n",
    "We will need to use the `requests` library to retrieve the HTML from a web page we want to scrape. You can review how to use the `requests` library in my notebook [here](https://faithkane3.github.io/time_series_review/time_series_review).\n",
    "\n",
    "Next, we will inspect the structure of the web page by right-clicking on the page we want to scrape and clicking 'inspect'. By clicking the icon in the far upper left of the new window, we can move our cursor over the part of the web page we want to scrape and see the responsible HTML code for that section high-lighted on the right. We can use the tag and its properties with `BeautifulSoup` to `soup.find(name=tag)`\n",
    "\n",
    "We will need to use `BeautifulSoup` to parse the HTML response to our request. "
   ]
  },
  {
   "cell_type": "code",
   "execution_count": 56,
   "metadata": {},
   "outputs": [
    {
     "data": {
      "text/plain": [
       "True"
      ]
     },
     "execution_count": 56,
     "metadata": {},
     "output_type": "execute_result"
    }
   ],
   "source": [
    "url = 'https://codeup.com/codeups-data-science-career-accelerator-is-here/'\n",
    "headers = {'User-Agent': 'Codeup Bayes Data Science'} \n",
    "    \n",
    "response = get(url, headers=headers)\n",
    "response.ok"
   ]
  },
  {
   "cell_type": "code",
   "execution_count": 57,
   "metadata": {},
   "outputs": [
    {
     "name": "stdout",
     "output_type": "stream",
     "text": [
      "<class 'str'>\n"
     ]
    }
   ],
   "source": [
    "# Here's our long string; we'll use this to make our soup object\n",
    "\n",
    "print(type(response.text))"
   ]
  },
  {
   "cell_type": "code",
   "execution_count": 58,
   "metadata": {},
   "outputs": [
    {
     "name": "stdout",
     "output_type": "stream",
     "text": [
      "<class 'bs4.BeautifulSoup'>\n"
     ]
    }
   ],
   "source": [
    "# Use BeautifulSoup using our response string\n",
    "\n",
    "soup = BeautifulSoup(response.text, 'html.parser')\n",
    "\n",
    "# Now we have our BeautifulSoup object, we can use its built-in methods and properties\n",
    "\n",
    "print(type(soup))"
   ]
  },
  {
   "cell_type": "markdown",
   "metadata": {},
   "source": [
    "#### **<font color=blue>Codeup Blogs</font>**\n",
    "\n",
    "**Goals:** Write a function to scrape urls from main Codeup blog web page and write a function that returns a dictionary of blog titles and text for each blog page. \n",
    "\n",
    "##### **<font color=purple>Grab Title from Page</font>**\n",
    "\n",
    "Here I use the `.find()` method on my soup with the `<h1>` tag and its `headline` attribute. Below, you can see two different ways to code this. As always, there is no one way to accomplish our task, so I've shown several ways to get the title below. "
   ]
  },
  {
   "cell_type": "code",
   "execution_count": 61,
   "metadata": {},
   "outputs": [
    {
     "data": {
      "text/plain": [
       "'Codeup’s Data Science Career Accelerator is Here! - Codeup'"
      ]
     },
     "execution_count": 61,
     "metadata": {},
     "output_type": "execute_result"
    }
   ],
   "source": [
    "# soup.title returns title tags and the text between them; .text returns just the text.\n",
    "\n",
    "soup.title.text"
   ]
  },
  {
   "cell_type": "code",
   "execution_count": 5,
   "metadata": {},
   "outputs": [
    {
     "data": {
      "text/plain": [
       "<h1 class=\"jupiterx-post-title\" itemprop=\"headline\">Codeup’s Data Science Career Accelerator is Here!</h1>"
      ]
     },
     "execution_count": 5,
     "metadata": {},
     "output_type": "execute_result"
    }
   ],
   "source": [
    "# This is what the h1 element contains. I want to access the itemprop headline\n",
    "\n",
    "soup.find('h1')"
   ]
  },
  {
   "cell_type": "code",
   "execution_count": 6,
   "metadata": {},
   "outputs": [
    {
     "name": "stdout",
     "output_type": "stream",
     "text": [
      "Codeup’s Data Science Career Accelerator is Here!\n"
     ]
    }
   ],
   "source": [
    "# I can pass in a dictionary of attributes with key/value pairs\n",
    "\n",
    "title = soup.find('h1', attrs={'itemprop': 'headline'}).text\n",
    "print(title)"
   ]
  },
  {
   "cell_type": "code",
   "execution_count": 7,
   "metadata": {},
   "outputs": [
    {
     "name": "stdout",
     "output_type": "stream",
     "text": [
      "Codeup’s Data Science Career Accelerator is Here!\n"
     ]
    }
   ],
   "source": [
    "# I will use the find method on my soup passing in h1 element and itemprop attribute\n",
    "# I'm going to use this code because it returns exactly what I want.\n",
    "\n",
    "title = soup.find('h1', itemprop='headline' ).text\n",
    "print(title)"
   ]
  },
  {
   "cell_type": "code",
   "execution_count": 8,
   "metadata": {},
   "outputs": [
    {
     "name": "stdout",
     "output_type": "stream",
     "text": [
      "<class 'str'>\n"
     ]
    }
   ],
   "source": [
    "print(type(title))"
   ]
  },
  {
   "cell_type": "markdown",
   "metadata": {},
   "source": [
    "##### **<font color=purple>Grab Text from Page</font>**"
   ]
  },
  {
   "cell_type": "code",
   "execution_count": 9,
   "metadata": {},
   "outputs": [
    {
     "name": "stdout",
     "output_type": "stream",
     "text": [
      "The rumors are true! The time has arrived. Codeup has officially opened applications to our new Data Science career accelerator, with only 25 seats available! This immersive program is one of a kind in San Antonio, and will help you land a job in Glassdoor’s #1 Best Job in America.Data Science is a method of providing actionable intelligence from data. The data revolution has hit San Antonio, resulting in an explosion in Data Scientist positions across companies like USAA, Accenture, Booz Allen Hamilton, and HEB. We’ve even seen UTSA invest $70 M for a Cybersecurity Center and School of Data Science. We built a program to specifically meet the growing demands of this industry.Our program will be 18 weeks long, full-time, hands-on, and project-based. Our curriculum development and instruction is led by Senior Data Scientist, Maggie Giust, who has worked at HEB, Capital Group, and Rackspace, along with input from dozens of practitioners and hiring partners. Students will work with real data sets, realistic problems, and the entire data science pipeline from collection to deployment. They will receive professional development training in resume writing, interviewing, and continuing education to prepare for a smooth transition to the workforce.We focus on applied data science for immediate impact and ROI in a business, which is how we can back it all up with a 6 month tuition refund guarantee – just like our existing Web Dev program. We’re focusing on Data Science with Python, SQL, and ML, covered in 14 modules: 1) Fundamentals; 2) Applied statistics; 3) SQL; 4) Python; 5) Supervised machine learning – regression; 6) Supervised machine learning – classification; 7) Unsupervised machine learning – clustering; 8) Time series analysis; 9) Anomaly detection; 10) Natural language processing; 11) Distributed machine learning; 12) Advanced topics (deep learning, NoSQL, cloud deployment, etc.); 13) Storytelling with data; and 14) Domain expertise development.Applications are now open for Codeup’s first Data Science cohort, which will start class on February 4, 2019. Hurry – there are only 25 seats available! To further our mission of cultivating inclusive growth, scholarships will be available to women, minorities, LGBTQIA+ individuals, veterans, first responders, and people relocating to San Antonio.If you want to learn about joining our program or hiring our graduates, email datascience@codeup.com!\n"
     ]
    }
   ],
   "source": [
    "article = soup.find('div', attrs={'itemprop':'text'}).text\n",
    "print(article)"
   ]
  },
  {
   "cell_type": "code",
   "execution_count": 10,
   "metadata": {},
   "outputs": [
    {
     "name": "stdout",
     "output_type": "stream",
     "text": [
      "<class 'str'>\n"
     ]
    }
   ],
   "source": [
    "print(type(article))"
   ]
  },
  {
   "cell_type": "markdown",
   "metadata": {},
   "source": [
    "##### **<font color=purple>Build Blog Function</font>**"
   ]
  },
  {
   "cell_type": "code",
   "execution_count": 11,
   "metadata": {},
   "outputs": [],
   "source": [
    "urls = ['https://codeup.com/codeups-data-science-career-accelerator-is-here/',\n",
    "            'https://codeup.com/data-science-myths/',\n",
    "            'https://codeup.com/data-science-vs-data-analytics-whats-the-difference/',\n",
    "            'https://codeup.com/10-tips-to-crush-it-at-the-sa-tech-job-fair/',\n",
    "            'https://codeup.com/competitor-bootcamps-are-closing-is-the-model-in-danger/']\n",
    "\n",
    "def get_blog_articles(urls, cache=False):\n",
    "    '''\n",
    "    This function takes in a list of Codeup Blog urls and a parameter\n",
    "    with default cache == False which returns a df from a csv file.\n",
    "    If cache == True, the function scrapes the title and text for each url, creates a list of dictionaries\n",
    "    with the title and text for each blog, converts list to df, and returns df.\n",
    "    '''\n",
    "    if cache == False:\n",
    "        df = pd.read_csv('big_blogs.csv', index_col=0)\n",
    "    else:\n",
    "        headers = {'User-Agent': 'Codeup Bayes Data Science'} \n",
    "\n",
    "        # Create an empty list to hold dictionaries\n",
    "        articles = []\n",
    "\n",
    "        # Loop through each url in our list of urls\n",
    "        for url in urls:\n",
    "\n",
    "            # get request to each url saved in response\n",
    "            response = get(url, headers=headers)\n",
    "\n",
    "            # Create soup object from response text and parse\n",
    "            soup = BeautifulSoup(response.text, 'html.parser')\n",
    "\n",
    "            # Save the title of each blog in variable title\n",
    "            title = soup.find('h1', itemprop='headline' ).text\n",
    "\n",
    "            # Save the text in each blog to variable text\n",
    "            text = soup.find('div', itemprop='text').text\n",
    "\n",
    "            # Create a dictionary holding the title and text for each blog\n",
    "            article = {'title': title, 'content': text}\n",
    "\n",
    "            # Add each dictionary to the articles list of dictionaries\n",
    "            articles.append(article)\n",
    "        # convert our list of dictionaries to a df\n",
    "        df = pd.DataFrame(articles)\n",
    "\n",
    "        # Write df to csv file for faster access\n",
    "        df.to_csv('big_blogs.csv')\n",
    "    \n",
    "    return df"
   ]
  },
  {
   "cell_type": "markdown",
   "metadata": {},
   "source": [
    "##### **<font color=purple>Test Function</font>**"
   ]
  },
  {
   "cell_type": "code",
   "execution_count": 12,
   "metadata": {},
   "outputs": [
    {
     "data": {
      "text/html": [
       "<div>\n",
       "<style scoped>\n",
       "    .dataframe tbody tr th:only-of-type {\n",
       "        vertical-align: middle;\n",
       "    }\n",
       "\n",
       "    .dataframe tbody tr th {\n",
       "        vertical-align: top;\n",
       "    }\n",
       "\n",
       "    .dataframe thead th {\n",
       "        text-align: right;\n",
       "    }\n",
       "</style>\n",
       "<table border=\"1\" class=\"dataframe\">\n",
       "  <thead>\n",
       "    <tr style=\"text-align: right;\">\n",
       "      <th></th>\n",
       "      <th>title</th>\n",
       "      <th>content</th>\n",
       "    </tr>\n",
       "  </thead>\n",
       "  <tbody>\n",
       "    <tr>\n",
       "      <th>0</th>\n",
       "      <td>Codeup’s Data Science Career Accelerator is Here!</td>\n",
       "      <td>The rumors are true! The time has arrived. Cod...</td>\n",
       "    </tr>\n",
       "    <tr>\n",
       "      <th>1</th>\n",
       "      <td>Data Science Myths</td>\n",
       "      <td>By Dimitri Antoniou and Maggie GiustData Scien...</td>\n",
       "    </tr>\n",
       "    <tr>\n",
       "      <th>2</th>\n",
       "      <td>Data Science VS Data Analytics: What’s The Dif...</td>\n",
       "      <td>By Dimitri AntoniouA week ago, Codeup launched...</td>\n",
       "    </tr>\n",
       "    <tr>\n",
       "      <th>3</th>\n",
       "      <td>10 Tips to Crush It at the SA Tech Job Fair</td>\n",
       "      <td>10 Tips to Crush It at the SA Tech Job FairSA ...</td>\n",
       "    </tr>\n",
       "    <tr>\n",
       "      <th>4</th>\n",
       "      <td>Competitor Bootcamps Are Closing. Is the Model...</td>\n",
       "      <td>Competitor Bootcamps Are Closing. Is the Model...</td>\n",
       "    </tr>\n",
       "  </tbody>\n",
       "</table>\n",
       "</div>"
      ],
      "text/plain": [
       "                                               title  \\\n",
       "0  Codeup’s Data Science Career Accelerator is Here!   \n",
       "1                                 Data Science Myths   \n",
       "2  Data Science VS Data Analytics: What’s The Dif...   \n",
       "3        10 Tips to Crush It at the SA Tech Job Fair   \n",
       "4  Competitor Bootcamps Are Closing. Is the Model...   \n",
       "\n",
       "                                             content  \n",
       "0  The rumors are true! The time has arrived. Cod...  \n",
       "1  By Dimitri Antoniou and Maggie GiustData Scien...  \n",
       "2  By Dimitri AntoniouA week ago, Codeup launched...  \n",
       "3  10 Tips to Crush It at the SA Tech Job FairSA ...  \n",
       "4  Competitor Bootcamps Are Closing. Is the Model...  "
      ]
     },
     "execution_count": 12,
     "metadata": {},
     "output_type": "execute_result"
    }
   ],
   "source": [
    "# I don't want\n",
    "\n",
    "blogs = get_blog_articles(urls=urls, cache=True)\n",
    "blogs"
   ]
  },
  {
   "cell_type": "markdown",
   "metadata": {},
   "source": [
    "##### **<font color=purple>Bonus URL Scrape</font>**"
   ]
  },
  {
   "cell_type": "code",
   "execution_count": 13,
   "metadata": {},
   "outputs": [],
   "source": [
    "# I'm going to hit Codeup's main blog page to scarpe the urls\n",
    "\n",
    "url = 'https://codeup.com/resources/#blog'\n",
    "headers = {'User-Agent': 'Codeup Bayes Data Science'} \n",
    "\n",
    "response = get(url, headers=headers)\n",
    "soup = BeautifulSoup(response.text, 'html.parser')"
   ]
  },
  {
   "cell_type": "code",
   "execution_count": 20,
   "metadata": {},
   "outputs": [
    {
     "data": {
      "text/plain": [
       "[<a class=\"jet-listing-dynamic-link__link\" href=\"https://codeup.com/bootcamp-to-bootcamp/\"><span class=\"jet-listing-dynamic-link__label\">Read More</span></a>,\n",
       " <a class=\"jet-listing-dynamic-link__link\" href=\"https://codeup.com/how-to-get-started-on-a-programming-exercise/\"><span class=\"jet-listing-dynamic-link__label\">Read More</span></a>]"
      ]
     },
     "execution_count": 20,
     "metadata": {},
     "output_type": "execute_result"
    }
   ],
   "source": [
    "# I'm using a element with class_ to get a list of tag elements from my soup object\n",
    "\n",
    "link_list = soup.find_all('a', class_='jet-listing-dynamic-link__link')\n",
    "link_list[:2]"
   ]
  },
  {
   "cell_type": "code",
   "execution_count": 21,
   "metadata": {},
   "outputs": [
    {
     "name": "stdout",
     "output_type": "stream",
     "text": [
      "<class 'bs4.element.ResultSet'>\n",
      "<class 'bs4.element.Tag'>\n",
      "Our bs element ResultSet contains 99 element tags.\n"
     ]
    }
   ],
   "source": [
    "# Using find_all has returned a bs ResultSet with 99 bs tags inside\n",
    "\n",
    "print(type(link_list))\n",
    "print(type(link_list[0]))\n",
    "print(f'Our bs element ResultSet contains {len(link_list)} element tags.')"
   ]
  },
  {
   "cell_type": "code",
   "execution_count": 22,
   "metadata": {},
   "outputs": [],
   "source": [
    "# Create empty urls list and for each chunk above, grab the href/link\n",
    "# Add each link to the urls list\n",
    "\n",
    "urls = []\n",
    "for link in link_list:\n",
    "    urls.append(link.get('href'))"
   ]
  },
  {
   "cell_type": "code",
   "execution_count": 23,
   "metadata": {
    "scrolled": true
   },
   "outputs": [
    {
     "name": "stdout",
     "output_type": "stream",
     "text": [
      "99\n"
     ]
    },
    {
     "data": {
      "text/plain": [
       "['https://codeup.com/bootcamp-to-bootcamp/',\n",
       " 'https://codeup.com/how-to-get-started-on-a-programming-exercise/',\n",
       " 'https://codeup.com/career-in-data-science/',\n",
       " 'https://codeup.com/getting-hired-in-a-remote-environment/',\n",
       " 'https://codeup.com/codeup-remote-students/',\n",
       " 'https://codeup.com/covid-relief/',\n",
       " 'https://codeup.com/discovering-my-passion-through-codeup/',\n",
       " 'https://codeup.com/covid-19/',\n",
       " 'https://codeup.com/15-tips-for-virtual-interview-and-meetings/',\n",
       " 'https://codeup.com/setting-myself-up-for-success-at-codeup/',\n",
       " 'https://codeup.com/landing-my-dream-job-through-a-web-development-course/',\n",
       " 'https://codeup.com/a-second-career-start/',\n",
       " 'https://codeup.com/2019-codeup/',\n",
       " 'https://codeup.com/how-to-pick-coding-bootcamp-curriculum/',\n",
       " 'https://codeup.com/your-investment-with-codeup/',\n",
       " 'https://codeup.com/best-path-to-software-development-is-not-a-four-year-degree/',\n",
       " 'https://codeup.com/financial-aid-options/',\n",
       " 'https://codeup.com/software-development-mentors/',\n",
       " 'https://codeup.com/ds-mentors/',\n",
       " 'https://codeup.com/breaking-the-mold-my-journey-to-become-a-software-developer/',\n",
       " 'https://codeup.com/are-coding-schools-regulated-in-texas-it-depends/',\n",
       " 'https://codeup.com/thinking-about-a-bootcamp-to-transition-careers/',\n",
       " 'https://codeup.com/how-i-became-a-software-developer-with-codeup/',\n",
       " 'https://codeup.com/why-i-chose-to-teach-at-codeup/',\n",
       " 'https://codeup.com/how-a-year-of-life-change-lead-me-to-codeup/',\n",
       " 'https://codeup.com/codeup-talks-expanding-its-coding-school-to-all-of-texas-2/',\n",
       " 'https://codeup.com/why-codeup-is-bringing-its-software-bootcamp-to-north-texas/',\n",
       " 'https://codeup.com/how-i-paid-43-for-my-codeup-tuition/',\n",
       " 'https://codeup.com/codeup-dallas-now-taking-applications/',\n",
       " 'https://codeup.com/a-quest-through-codeup/',\n",
       " 'https://codeup.com/quickpath-solving-the-data-science-talent-shortage-with-codeup/',\n",
       " 'https://codeup.com/codeup-set-to-open-dallas-campus/',\n",
       " 'https://codeup.com/local-career-accelerator-program-expanding-to-dallas/',\n",
       " 'https://codeup.com/codeup-set-to-open-coding-school-in-dallas/',\n",
       " 'https://codeup.com/codeup-to-open-dallas-campus-in-2020/',\n",
       " 'https://codeup.com/local-coding-school-expanding-to-dallas/',\n",
       " 'https://codeup.com/codeup-dallas-2020/',\n",
       " 'https://codeup.com/data-science-in-the-real-world/',\n",
       " 'https://codeup.com/a-quest-through-codeup-2/',\n",
       " 'https://codeup.com/from-bootcamp-to-bootcamp-how-i-found-purpose-through-coding/',\n",
       " 'https://codeup.com/5-common-excuses-keeping-you-from-breaking-into-the-tech-field/',\n",
       " 'https://codeup.com/why-san-antonio-has-more-than-tacos-to-offer/',\n",
       " 'https://codeup.com/everyday-encounters-with-data-science/',\n",
       " 'https://codeup.com/codeup-grows-up-5th-birthday-party/',\n",
       " 'https://codeup.com/learn-to-code-workshop-html-css-intro-to-web-development/',\n",
       " 'https://codeup.com/coding-resolutions-for-the-new-year/',\n",
       " 'https://codeup.com/codeup-prepared-career/',\n",
       " 'https://codeup.com/why-im-thankful-for-codeup/',\n",
       " 'https://codeup.com/path-codeup-coding-bootcamps/',\n",
       " 'https://codeup.com/codeup-student-check-in-month-3/',\n",
       " 'https://codeup.com/styling-hair-stying-interfaces/',\n",
       " 'https://codeup.com/from-cooking-steaks-to-cooking-code/',\n",
       " 'https://codeup.com/data-science-myths/',\n",
       " 'https://codeup.com/dont-be-scared-of-coding/',\n",
       " 'https://codeup.com/where-do-data-scientists-come-from/',\n",
       " 'https://codeup.com/data-science-vs-data-analytics-whats-the-difference/',\n",
       " 'https://codeup.com/debugging-with-codey-the-rubber-duck/',\n",
       " 'https://codeup.com/from-the-service-industry-to-software-development/',\n",
       " 'https://codeup.com/codeup-student-check-in-month-2/',\n",
       " 'https://codeup.com/codeups-data-science-career-accelerator-is-here/',\n",
       " 'https://codeup.com/which-program-is-right-for-me/',\n",
       " 'https://codeup.com/from-a-recent-college-grad-to-software-developer/',\n",
       " 'https://codeup.com/5-things-codeup-doesnt-tell-you/',\n",
       " 'https://codeup.com/the-message-behind-our-billboards/',\n",
       " 'https://codeup.com/skills-fund-financing-to-fuel-your-codeup-future/',\n",
       " 'https://codeup.com/what-is-data-science/',\n",
       " 'https://codeup.com/women-in-tech-scholarship-recipient-amy/',\n",
       " 'https://codeup.com/anxious-about-the-job-fair/',\n",
       " 'https://codeup.com/codeup-student-check-in-month-1/',\n",
       " 'https://codeup.com/announcing-our-new-scholarship-minorities-in-tech-scholarship/',\n",
       " 'https://codeup.com/fresh-out-of-codeup-cayden-simler/',\n",
       " 'https://codeup.com/top-trends-and-tools-for-recruiters-in-the-tech-industry/',\n",
       " 'https://codeup.com/all-about-the-alamo-colleges-partnership/',\n",
       " 'https://codeup.com/the-job-fair-is-over-now-what-post-job-fair-tips/',\n",
       " 'https://codeup.com/10-tips-to-crush-it-at-the-sa-tech-job-fair/',\n",
       " 'https://codeup.com/5-hiring-trends-in-software-development/',\n",
       " 'https://codeup.com/what-makes-a-successful-software-developer/',\n",
       " 'https://codeup.com/alumni-spotlight-stefanie-young-and-lorne-barfield/',\n",
       " 'https://codeup.com/alumni-spotlight-mary-kaitlin-mk-warren/',\n",
       " 'https://codeup.com/competitor-bootcamps-are-closing-is-the-model-in-danger/',\n",
       " 'https://codeup.com/codeup-doubles-down-on-transparency-in-student-outcomes/',\n",
       " 'https://codeup.com/the-codeup-commitment-to-your-financial-well-being/',\n",
       " 'https://codeup.com/itt-tech-closes-new-model-of-education-rises/',\n",
       " 'https://codeup.com/codeups-impact-on-the-san-antonio-tech-community/',\n",
       " 'https://codeup.com/bootcamp-living-expenses-codeups-got-you-covered/',\n",
       " 'https://codeup.com/6-tips-for-picking-the-best-coding-bootcamp/',\n",
       " 'https://codeup.com/open-for-bitcoin-business/',\n",
       " 'https://codeup.com/a-guide-to-hiring-fresh-technical-talent/',\n",
       " 'https://codeup.com/dont-worry-heres-the-best-bootcamp-funding-options/',\n",
       " 'https://codeup.com/startup-week-the-little-week-that-could-and-did/',\n",
       " 'https://codeup.com/the-results-are-in-codeup-growsup-was-a-smashing-success/',\n",
       " 'https://codeup.com/codeup-helps-rails-girls-help-women-learn-to-code-in-san-antonio/',\n",
       " 'https://codeup.com/filling-up-fast-with-good-reason/',\n",
       " 'https://codeup.com/codeup-and-launchcode-partner-to-help-grads-launch-careers-in-coding/',\n",
       " 'https://codeup.com/press-release-free-learn-to-code-bootcamp-for-veterans-and-transitioning-servicemembers-launches-in-class-portion/',\n",
       " 'https://codeup.com/what-the-sa-tech-job-fair-says-about-san-antonio/',\n",
       " 'https://codeup.com/why-choose-codeup/',\n",
       " 'https://codeup.com/use-your-texas-unemployment-benefits-at-codeup/',\n",
       " 'https://codeup.com/qa-with-luis-martinez-director-of-entrepreneurship-at-trinity-university/']"
      ]
     },
     "execution_count": 23,
     "metadata": {},
     "output_type": "execute_result"
    }
   ],
   "source": [
    "# Wow, 99 links! Ready to scrape titles and text from each\n",
    "\n",
    "print(len(urls))\n",
    "urls"
   ]
  },
  {
   "cell_type": "markdown",
   "metadata": {},
   "source": [
    "##### **<font color=purple>Bonus URL Function</font>**"
   ]
  },
  {
   "cell_type": "code",
   "execution_count": 24,
   "metadata": {},
   "outputs": [],
   "source": [
    "def get_all_urls():\n",
    "    '''\n",
    "    This function scrapes all of the Codeup blog urls from\n",
    "    the main Codeup blog page and returns a list of urls.\n",
    "    '''\n",
    "    # The main Codeup blog page with all the urls\n",
    "    url = 'https://codeup.com/resources/#blog'\n",
    "    \n",
    "    headers = {'User-Agent': 'Codeup Bayes Data Science'} \n",
    "    \n",
    "    # Send request to main page and get response\n",
    "    response = get(url, headers=headers)\n",
    "    \n",
    "    # Create soup object using response\n",
    "    soup = BeautifulSoup(response.text, 'html.parser')\n",
    "    \n",
    "    # Create empty list to hold the urls for all blogs\n",
    "    urls = []\n",
    "    \n",
    "    # Create a list of the element tags that hold the href/links\n",
    "    link_list = soup.find_all('a', class_='jet-listing-dynamic-link__link')\n",
    "    \n",
    "    # get the href/link from each element tag in my list\n",
    "    for link in link_list:\n",
    "        \n",
    "        # Add the link to my urls list\n",
    "        urls.append(link.get('href'))\n",
    "        \n",
    "    return urls"
   ]
  },
  {
   "cell_type": "code",
   "execution_count": 25,
   "metadata": {},
   "outputs": [],
   "source": [
    "# Now I can use my same function with my new urls list function!\n",
    "\n",
    "big_blogs = get_blog_articles(urls=get_all_urls(), cache=True)"
   ]
  },
  {
   "cell_type": "code",
   "execution_count": 26,
   "metadata": {},
   "outputs": [
    {
     "data": {
      "text/html": [
       "<div>\n",
       "<style scoped>\n",
       "    .dataframe tbody tr th:only-of-type {\n",
       "        vertical-align: middle;\n",
       "    }\n",
       "\n",
       "    .dataframe tbody tr th {\n",
       "        vertical-align: top;\n",
       "    }\n",
       "\n",
       "    .dataframe thead th {\n",
       "        text-align: right;\n",
       "    }\n",
       "</style>\n",
       "<table border=\"1\" class=\"dataframe\">\n",
       "  <thead>\n",
       "    <tr style=\"text-align: right;\">\n",
       "      <th></th>\n",
       "      <th>title</th>\n",
       "      <th>content</th>\n",
       "    </tr>\n",
       "  </thead>\n",
       "  <tbody>\n",
       "    <tr>\n",
       "      <th>0</th>\n",
       "      <td>From Bootcamp to Bootcamp: Two Military Vetera...</td>\n",
       "      <td>Are you a veteran or active-duty military memb...</td>\n",
       "    </tr>\n",
       "    <tr>\n",
       "      <th>1</th>\n",
       "      <td>How to Get Started On Any Programming Exercise</td>\n",
       "      <td>Programming is hard. Whether you’re just begin...</td>\n",
       "    </tr>\n",
       "    <tr>\n",
       "      <th>2</th>\n",
       "      <td>The Best Path to a Career in Data Science</td>\n",
       "      <td>In our blog, “The Best Path To A Career In Sof...</td>\n",
       "    </tr>\n",
       "    <tr>\n",
       "      <th>3</th>\n",
       "      <td>Getting Hired in a Remote Environment</td>\n",
       "      <td>As a career accelerator with a tuition refund ...</td>\n",
       "    </tr>\n",
       "    <tr>\n",
       "      <th>4</th>\n",
       "      <td>The Remote Codeup Student Experience</td>\n",
       "      <td>Communities across Texas have now lived in a r...</td>\n",
       "    </tr>\n",
       "  </tbody>\n",
       "</table>\n",
       "</div>"
      ],
      "text/plain": [
       "                                               title  \\\n",
       "0  From Bootcamp to Bootcamp: Two Military Vetera...   \n",
       "1     How to Get Started On Any Programming Exercise   \n",
       "2          The Best Path to a Career in Data Science   \n",
       "3              Getting Hired in a Remote Environment   \n",
       "4               The Remote Codeup Student Experience   \n",
       "\n",
       "                                             content  \n",
       "0  Are you a veteran or active-duty military memb...  \n",
       "1  Programming is hard. Whether you’re just begin...  \n",
       "2  In our blog, “The Best Path To A Career In Sof...  \n",
       "3  As a career accelerator with a tuition refund ...  \n",
       "4  Communities across Texas have now lived in a r...  "
      ]
     },
     "execution_count": 26,
     "metadata": {},
     "output_type": "execute_result"
    }
   ],
   "source": [
    "big_blogs.head()"
   ]
  },
  {
   "cell_type": "code",
   "execution_count": 27,
   "metadata": {},
   "outputs": [
    {
     "name": "stdout",
     "output_type": "stream",
     "text": [
      "<class 'pandas.core.frame.DataFrame'>\n",
      "RangeIndex: 99 entries, 0 to 98\n",
      "Data columns (total 2 columns):\n",
      " #   Column   Non-Null Count  Dtype \n",
      "---  ------   --------------  ----- \n",
      " 0   title    99 non-null     object\n",
      " 1   content  99 non-null     object\n",
      "dtypes: object(2)\n",
      "memory usage: 1.7+ KB\n"
     ]
    }
   ],
   "source": [
    "big_blogs.info()"
   ]
  },
  {
   "cell_type": "code",
   "execution_count": 28,
   "metadata": {},
   "outputs": [
    {
     "data": {
      "text/html": [
       "<div>\n",
       "<style scoped>\n",
       "    .dataframe tbody tr th:only-of-type {\n",
       "        vertical-align: middle;\n",
       "    }\n",
       "\n",
       "    .dataframe tbody tr th {\n",
       "        vertical-align: top;\n",
       "    }\n",
       "\n",
       "    .dataframe thead th {\n",
       "        text-align: right;\n",
       "    }\n",
       "</style>\n",
       "<table border=\"1\" class=\"dataframe\">\n",
       "  <thead>\n",
       "    <tr style=\"text-align: right;\">\n",
       "      <th></th>\n",
       "      <th>title</th>\n",
       "      <th>content</th>\n",
       "    </tr>\n",
       "  </thead>\n",
       "  <tbody>\n",
       "    <tr>\n",
       "      <th>0</th>\n",
       "      <td>From Bootcamp to Bootcamp: Two Military Vetera...</td>\n",
       "      <td>Are you a veteran or active-duty military memb...</td>\n",
       "    </tr>\n",
       "    <tr>\n",
       "      <th>1</th>\n",
       "      <td>How to Get Started On Any Programming Exercise</td>\n",
       "      <td>Programming is hard. Whether you’re just begin...</td>\n",
       "    </tr>\n",
       "    <tr>\n",
       "      <th>2</th>\n",
       "      <td>The Best Path to a Career in Data Science</td>\n",
       "      <td>In our blog, “The Best Path To A Career In Sof...</td>\n",
       "    </tr>\n",
       "    <tr>\n",
       "      <th>3</th>\n",
       "      <td>Getting Hired in a Remote Environment</td>\n",
       "      <td>As a career accelerator with a tuition refund ...</td>\n",
       "    </tr>\n",
       "    <tr>\n",
       "      <th>4</th>\n",
       "      <td>The Remote Codeup Student Experience</td>\n",
       "      <td>Communities across Texas have now lived in a r...</td>\n",
       "    </tr>\n",
       "  </tbody>\n",
       "</table>\n",
       "</div>"
      ],
      "text/plain": [
       "                                               title  \\\n",
       "0  From Bootcamp to Bootcamp: Two Military Vetera...   \n",
       "1     How to Get Started On Any Programming Exercise   \n",
       "2          The Best Path to a Career in Data Science   \n",
       "3              Getting Hired in a Remote Environment   \n",
       "4               The Remote Codeup Student Experience   \n",
       "\n",
       "                                             content  \n",
       "0  Are you a veteran or active-duty military memb...  \n",
       "1  Programming is hard. Whether you’re just begin...  \n",
       "2  In our blog, “The Best Path To A Career In Sof...  \n",
       "3  As a career accelerator with a tuition refund ...  \n",
       "4  Communities across Texas have now lived in a r...  "
      ]
     },
     "execution_count": 28,
     "metadata": {},
     "output_type": "execute_result"
    }
   ],
   "source": [
    "big_blogs = get_blog_articles(urls=get_all_urls(), cache=False)\n",
    "big_blogs.head()"
   ]
  },
  {
   "cell_type": "markdown",
   "metadata": {},
   "source": [
    "#### **<font color=blue>Inshorts News Articles</font>**\n",
    "\n",
    "**Goal:**  Write a function that scrapes the news articles for the following topics:\n",
    "\n",
    "- Business\n",
    "\n",
    "\n",
    "- Sports\n",
    "\n",
    "\n",
    "- Technology\n",
    "\n",
    "\n",
    "- Entertainment"
   ]
  },
  {
   "cell_type": "code",
   "execution_count": 82,
   "metadata": {},
   "outputs": [
    {
     "data": {
      "text/plain": [
       "True"
      ]
     },
     "execution_count": 82,
     "metadata": {},
     "output_type": "execute_result"
    }
   ],
   "source": [
    "url = 'https://inshorts.com/en/read/entertainment'\n",
    "\n",
    "response = get(url)\n",
    "response.ok"
   ]
  },
  {
   "cell_type": "code",
   "execution_count": 83,
   "metadata": {},
   "outputs": [],
   "source": [
    "soup = BeautifulSoup(response.text, 'html.parser')"
   ]
  },
  {
   "cell_type": "markdown",
   "metadata": {},
   "source": [
    "##### **<font color=purple>Scrape Article News Cards</font>**"
   ]
  },
  {
   "cell_type": "code",
   "execution_count": 84,
   "metadata": {},
   "outputs": [
    {
     "name": "stdout",
     "output_type": "stream",
     "text": [
      "<class 'bs4.element.ResultSet'>\n"
     ]
    },
    {
     "data": {
      "text/plain": [
       "<div class=\"news-card z-depth-1\" itemscope=\"\" itemtype=\"http://schema.org/NewsArticle\">\n",
       "<span content=\"\" itemid=\"https://inshorts.com/en/news/boney-kapoors-two-more-house-helps-test-+ve-for-coronavirus-1590120036558\" itemprop=\"mainEntityOfPage\" itemscope=\"\" itemtype=\"https://schema.org/WebPage\"></span>\n",
       "<span itemprop=\"author\" itemscope=\"itemscope\" itemtype=\"https://schema.org/Person\">\n",
       "<span content=\"Vidushi Mishra\" itemprop=\"name\"></span>\n",
       "</span>\n",
       "<span content=\"Boney Kapoor's two more house helps test +ve for coronavirus\" itemprop=\"description\"></span>\n",
       "<span itemprop=\"image\" itemscope=\"\" itemtype=\"https://schema.org/ImageObject\">\n",
       "<meta content=\"https://static.inshorts.com/inshorts/images/v1/variants/jpg/m/2020/05_may/22_fri/img_1590149359237_242.jpg?\" itemprop=\"url\"/>\n",
       "<meta content=\"864\" itemprop=\"width\"/>\n",
       "<meta content=\"483\" itemprop=\"height\"/>\n",
       "</span>\n",
       "<span itemprop=\"publisher\" itemscope=\"itemscope\" itemtype=\"https://schema.org/Organization\">\n",
       "<span content=\"https://inshorts.com/\" itemprop=\"url\"></span>\n",
       "<span content=\"Inshorts\" itemprop=\"name\"></span>\n",
       "<span itemprop=\"logo\" itemscope=\"\" itemtype=\"https://schema.org/ImageObject\">\n",
       "<span content=\"https://assets.inshorts.com/inshorts/images/v1/variants/jpg/m/2018/11_nov/21_wed/img_1542823931298_497.jpg\" itemprop=\"url\"></span>\n",
       "<meta content=\"400\" itemprop=\"width\"/>\n",
       "<meta content=\"60\" itemprop=\"height\"/>\n",
       "</span>\n",
       "</span>\n",
       "<div class=\"news-card-image\" style=\"background-image: url('https://static.inshorts.com/inshorts/images/v1/variants/jpg/m/2020/05_may/22_fri/img_1590149359237_242.jpg?')\">\n",
       "</div>\n",
       "<div class=\"news-card-title news-right-box\">\n",
       "<a class=\"clickable\" href=\"/en/news/boney-kapoors-two-more-house-helps-test-+ve-for-coronavirus-1590120036558\" onclick=\"ga('send', {'hitType': 'event', 'eventCategory': 'TitleOfNews', 'eventAction': 'clicked', 'eventLabel': 'Boney%20Kapoor's%20two%20more%20house%20helps%20test%20%2Bve%20for%20coronavirus)' });\" style=\"color:#44444d!important\">\n",
       "<span itemprop=\"headline\">Boney Kapoor's two more house helps test +ve for coronavirus</span>\n",
       "</a>\n",
       "<div class=\"news-card-author-time news-card-author-time-in-title\">\n",
       "<a href=\"/prev/en/news/boney-kapoors-two-more-house-helps-test-+ve-for-coronavirus-1590120036558\"><span class=\"short\">short</span></a> by <span class=\"author\">Vidushi Mishra</span> / \n",
       "      <span class=\"time\" content=\"2020-05-22T04:00:36.000Z\" itemprop=\"datePublished\">09:30 am</span> on <span clas=\"date\">22 May 2020,Friday</span>\n",
       "</div>\n",
       "</div>\n",
       "<div class=\"news-card-content news-right-box\">\n",
       "<div itemprop=\"articleBody\">Two more domestic staff members at Boney Kapoor's house tested positive for the coronavirus on Thursday. This comes after the producer's 23-year-old domestic help tested positive for the virus on Tuesday. \"All other staff members...Boney ji, [daughters] Janhvi and Khushi have tested negative,\" Boney's spokesperson said, adding, \"All of them...even the ones who tested positive are asymptomatic.\"</div>\n",
       "<div class=\"news-card-author-time news-card-author-time-in-content\">\n",
       "<a href=\"/prev/en/news/boney-kapoors-two-more-house-helps-test-+ve-for-coronavirus-1590120036558\"><span class=\"short\">short</span></a> by <span class=\"author\">Vidushi Mishra</span> / \n",
       "      <span class=\"time\" content=\"2020-05-22T04:00:36.000Z\" itemprop=\"dateModified\">09:30 am</span> on <span class=\"date\">22 May</span>\n",
       "</div>\n",
       "</div>\n",
       "</div>"
      ]
     },
     "execution_count": 84,
     "metadata": {},
     "output_type": "execute_result"
    }
   ],
   "source": [
    "# Scrape a ResultSet of all the news cards on the page\n",
    "\n",
    "cards = soup.find_all('div', class_='news-card')\n",
    "print(type(cards))\n",
    "cards[0]"
   ]
  },
  {
   "cell_type": "markdown",
   "metadata": {},
   "source": [
    "##### **<font color=purple>Scrape the Title from Each News Cards</font>**"
   ]
  },
  {
   "cell_type": "code",
   "execution_count": 81,
   "metadata": {
    "scrolled": true
   },
   "outputs": [
    {
     "name": "stdout",
     "output_type": "stream",
     "text": [
      "Grief I feel is indescribable: Raghu on losing friend Abdul to coronavirus\n",
      "Boney Kapoor's two more house helps test +ve for coronavirus\n",
      "Was at home all day: Shehnaaz Gill's dad on rape accusation\n",
      "FIR filed against KRK for derogatory tweets on Rishi, Irrfan\n",
      "I'm forced to sell fruits as I don't have option: Solanki who featured in Dream Girl\n",
      "Will accept being hanged if found 1% guilty of rape: Shehnaaz's dad\n",
      "I didn't need to do any preparation: Anurag on his Ghoomketu role\n",
      "People thought I sang Tinka Tinka but it was Alisha: Priyanka\n",
      "IMPPA requests filmmakers to clear dues of their employees\n",
      "The news has left me feeling hollow: Shah Rukh on cyclone Amphan\n",
      "Prithviraj, 'Aadujeevitham' team return to India from Jordan\n",
      "If there was something wrong, it wouldn't have made ₹250 cr: Arjan on Kabir Singh\n",
      "People's safety essential: Nawazuddin on Ghoomketu's web release\n",
      "Staying at home is price we have to pay to overcome pandemic: Anil\n",
      "Should we send a rescue team: Nagpur Police on Anushka's dinosaur video\n",
      "Mahabharat actor seeks help from industry, says 'I'm struggling for basic needs'\n",
      "Left John Cena so he wouldn't regret having kids with me: Nikki\n",
      "Kapil apologises to Kayastha community for hurting religious sentiments\n",
      "Anshula and I didn't touch mom's room for 6 years after her death: Arjun\n",
      "I'm not ashamed of doing it: Esha Gupta on 'Humshakals'\n",
      "Will happen whenever it has to: Shama after postponing wedding\n",
      "One more Chinese virus is going away, rating has come down: Mukesh on TikTok\n",
      "Irrfan's son Babil shares old pics of actor meeting school kids\n",
      "It annoyed me when people called me 'gareebon ki Angelina Jolie': Esha\n",
      "Initially, I was sceptical to act with Nawazuddin: Ghoomketu co-star Ila\n"
     ]
    }
   ],
   "source": [
    "# Save the title of each news card to a variable title\n",
    "for card in cards:\n",
    "    title = card.find('span', itemprop='headline' ).text\n",
    "    print(title)"
   ]
  },
  {
   "cell_type": "markdown",
   "metadata": {},
   "source": [
    "##### **<font color=purple>Scrape Author from News Cards</font>**"
   ]
  },
  {
   "cell_type": "code",
   "execution_count": 42,
   "metadata": {},
   "outputs": [
    {
     "name": "stdout",
     "output_type": "stream",
     "text": [
      "Vidushi Mishra\n",
      "Vidushi Mishra\n",
      "Udit Gupta\n",
      "Vidushi Mishra\n",
      "Udit Gupta\n",
      "Udit Gupta\n",
      "Vidushi Mishra\n",
      "Vidushi Mishra\n",
      "Udit Gupta\n",
      "Vidushi Mishra\n",
      "Udit Gupta\n",
      "Udit Gupta\n",
      "Vidushi Mishra\n",
      "Udit Gupta\n",
      "Vidushi Mishra\n",
      "Udit Gupta\n",
      "Udit Gupta\n",
      "Vidushi Mishra\n",
      "Udit Gupta\n",
      "Vidushi Mishra\n",
      "Udit Gupta\n",
      "Udit Gupta\n",
      "Udit Gupta\n",
      "Vidushi Mishra\n",
      "Udit Gupta\n"
     ]
    }
   ],
   "source": [
    "# Save the author of the news card to variable author\n",
    "for card in cards:\n",
    "    author = card.find('span', class_='author').text\n",
    "    print(author)"
   ]
  },
  {
   "cell_type": "markdown",
   "metadata": {},
   "source": [
    "##### **<font color=purple>Scrape Text from Article Page</font>**"
   ]
  },
  {
   "cell_type": "code",
   "execution_count": 43,
   "metadata": {},
   "outputs": [
    {
     "name": "stdout",
     "output_type": "stream",
     "text": [
      "An FIR was registered against Kamaal R Khan on Wednesday for allegedly tweeting derogatory remarks about late actors Rishi Kapoor and Irrfan Khan, police said. Kapoor must not die as liquor shops are set to open soon, Kamaal allegedly tweeted on 30 April. Furthermore, Kamaal had allegedly passed offensive remarks about Irrfan a day before his death on 29 April.\n",
      "Two more domestic staff members at Boney Kapoor's house tested positive for the coronavirus on Thursday. This comes after the producer's 23-year-old domestic help tested positive for the virus on Tuesday. \"All other staff members...Boney ji, [daughters] Janhvi and Khushi have tested negative,\" Boney's spokesperson said, adding, \"All of them...even the ones who tested positive are asymptomatic.\"\n",
      "Actor-producer Raghu Ram took to Instagram to condole the demise of his friend, Abdul Rauf, who died of coronavirus on Thursday night. \"Grief I feel is indescribable,\" he wrote. \"You came into my life in 2009 as Raju, my driver. You worked in...production of many shows, rising to...top as head of...production at Monozygotic. You changed your destiny with...effort,\" Raghu added.\n",
      "After being accused of raping a 40-year-old woman at gunpoint, Shehnaaz Gill's father Santokh Singh Sukh said he was at his home all day. Adding that there is sufficient evidence, Santokh said his house and the place where the alleged incident happened are under CCTV surveillance. He added the woman is a divorcee who wants to marry his friend.\n",
      "Solanki Diwakar, who was part of films like 'Sonchiriya' and 'Dream Girl', has said he's forced to sell fruits to sustain his family as he has \"no other option\". \"It's bad luck that I don't get roles frequently,\" he added. Solanki further said he developed a passion for acting while selling papad during intervals at a theatre in Uttar Pradesh.\n",
      "Shah Rukh Khan on Friday took to Twitter to express concern for those affected by cyclone Amphan in West Bengal and Odisha. \"The news has left me feeling hollow. Each & every one of them is my own. Like my family,\" he wrote. \"We must stay strong through these testing times until we can smile together again,\" Shah Rukh added. \n",
      "The 58-member crew of upcoming Malayalam film 'Aadujeevitham', including actor Prithviraj Sukumaran, returned to India on Friday after being stranded in Jordan since 12 March due to coronavirus pandemic. The film's team was flown to Kochi via Delhi from Amman as part of India's Vande Bharat phase two mission. They will now undergo state government-mandated institutional quarantine for seven days.\n",
      "Nawazuddin Siddiqui, whose film 'Ghoomketu' released on a streaming platform on Friday, has said OTT platforms are best for films' release amid COVID-19 pandemic, adding, \"The time is such that one can't think about theatres.\" \"It's important to think about human lives now, their safety is more essential,\" he stated. \"If they are...safe, they will definitely go to...[theatres],\" Nawazuddin added.\n",
      "Arjun Kapoor has said he and his sister, Anshula Kapoor, didn't touch their mother's room for six years after her death. He added, \"But then...point is, it's not...normal thing to do, have one room completely locked up forever when you don't have place in...house, right?\" Arjun further said, \"But it's just that for me and Anshula, this house is her.\"\n",
      "Taking to Instagram on Friday, Shehnaaz Gill's father Santokh Singh Sukh, who has been accused of raping a 40-year-old woman at gunpoint, said that he is innocent. \"There is a big conspiracy against me to defame me, I will clear it in two days,\" he wrote. Santokh added he will accept being hanged if he is found even 1% guilty.\n",
      "Anurag Kashyap, while talking about playing a \"laidback character\" in 'Ghoomketu', said, \"I didn't need to do any [preparation].\" \"I'm a reluctant actor so playing lazy came easily,\" he added. \"Also, somehow I've only played a cop in my last three outings...If not an evil cop then a corrupt or a lazy cop but never a good cop,\" Anurag said. \n",
      "Mukesh Khanna has shared a video criticising TikTok and wrote, \"It's an app for useless people.\" In the video, he's seen telling his fans that there's a lot more to do in life than making TikTok videos. \"In these...times, we're getting...good news. One more Chinese virus called TikTok is going away...Rating has come down from 4.5 to 1.3,\" he added. \n",
      "Nikki Bella has revealed she and ex-fiancé John Cena ended their relationship in 2018 over disagreements about wanting children. \"What pushed me in the end, was like, if I'm going to force someone to be a father...what if he looks at you down the road and...regrets everything,\" she said. \"And I remember thinking, 'It's not what I want',\" Nikki added.\n",
      "Actor Anil Kapoor, while talking about the coronavirus pandemic, said, \"Staying at home is the price we have to pay to overcome the pandemic.\" The 63-year-old actor added that his meetings are happening over video calls and he's working virtually now. Anil further urged everyone to exercise for half an hour daily, adding, \"I workout indoors every day almost twice.\" \n",
      "Esha Gupta has said that it used to annoy her when people used to troll her for looking like American actress Angelina Jolie and get nasty. \"People would call me, 'Oh...gareebon ki Angelina Jolie (Angelina Jolie of the poor)',\" Esha said. \"And, I used to say, 'Yeah, but you are calling yourself gareeb (poor) there',\" the 34-year-old actress added.\n",
      "Kapil Sharma on Thursday issued an apology to Kayastha community for hurting their religious sentiments in an episode of 'The Kapil Sharma Show' that aired on March 28. \"If...mention of Shri Chitragupta Ji has hurt your sentiments, then I and my...team apologise to you,\" he tweeted. \"I pray to God that may you all be safe and happy,\" Kapil added.\n",
      "Punjabi actor Satish Kaul, who essayed the role of Lord Indra in 'Mahabharat', has said the ongoing lockdown has made the matters worse for him. He further said he's \"struggling for medicines, groceries and basic needs\", adding, \"I appeal to...industry people to help me.\" \"I got so much love as...actor, I need some attention now as...human in need,\" Satish said. \n",
      "Indian Motion Pictures Producers' Association (IMPPA) has requested filmmakers who are its members to clear the dues of their employees, workers, artists and technicians as \"they are more vulnerable\" amid the coronavirus lockdown. \"On humanitarian ground we request all our members...to clear their dues as much as possible...to ensure they get enough money to fulfil their daily needs,\" IMPPA said.\n",
      "Actor Arjan Bajwa, who played Shahid Kapoor's elder brother in 'Kabir Singh', has said if there was something wrong with the story or what was shown in the film, it wouldn't have earned more than ₹250 crore. \"The simple line would be that what some people...accused the film of being, it was probably in their mind,\" he added. \n",
      "Shama Sikander and fiancé James Milliron, who planned to do a destination wedding in September-end, have postponed it due to coronavirus pandemic. \"COVID-19 has changed our ideas about everything...The wedding will happen whenever it has to,\" the actress said. \"We're...trying to help those around us to get through this tough time. And, that has...brought more joy to us,\" Shama added.\n",
      "Actress-singer Ila Arun has said she was initially sceptical about acting with Nawazuddin Siddiqui in 'Ghoomketu'. \"His mind is alert and he adds certain nuance in every scene that takes character to...next level,\" Ila said about Nawazuddin. \"I, as...senior actor, had to stay on my toes. I had to stay alert to match up to his performance level,\" she added.\n",
      "Late actor Irrfan Khan's son Babil Khan on Thursday took to Instagram to share some old pictures of his father. In the pictures, Irrfan can be seen interacting with school kids at his farmhouse. \"Whenever it was farmhouse time for him, these kids and...school principal would show up to meet,\" Babil wrote. Commenting on the post, Ishaan Khatter wrote, \"Precious.\"\n",
      "Actress Esha Gupta, while talking about her 2014 film 'Humshakals' which also starred Saif Ali Khan and Riteish Deshmukh, said, \"It was a bit of a phase that...affected me because the film had badly flopped.\" She added that the film is still a part of her career and she's not ashamed doing it. \"You learn from your mistakes,\" Esha said.\n",
      "Taking to Instagram, Priyanka Chopra shared a short clip from the music video of 'Tinka Tinka' from her 2005 film 'Karam' and wrote, \"When this song was released, most thought it was me...But...it was...one of my favourite singers [Alisha Chinai].\" She further wrote the singer complemented her tone very well. \"Thank you Alisha...so this Thursday.... #TBT,\" the 37-year-old actress added.\n",
      "Reacting to Anushka Sharma's video wherein Virat Kohli was seen mimicking the movement and sound of a dinosaur, Nagpur Police tweeted, \"Should we ask @MahaForest Department to send a rescue team?\" Reacting to it, a user wrote, \"Hilarious reply,\" while another wrote, \"Nagpur Police got no chill.\" Celebrities, including Ranveer Singh and Sania Mirza, had also commented on Anushka's video. \n"
     ]
    }
   ],
   "source": [
    "# Save the text of each article to variable text\n",
    "\n",
    "for card in cards:\n",
    "    text = card.find('div', itemprop='articleBody').text\n",
    "    print(text)"
   ]
  },
  {
   "cell_type": "code",
   "execution_count": 46,
   "metadata": {},
   "outputs": [],
   "source": [
    "# Create an empty list, articles, to hold the dictionaries for each article\n",
    "articles = []\n",
    "\n",
    "# Loop through each news card on the page and get what we want\n",
    "for card in cards:\n",
    "    title = card.find('span', itemprop='headline' ).get_text()\n",
    "    author = card.find('span', class_='author').get_text()\n",
    "    content = card.find('div', itemprop='articleBody').get_text()\n",
    "    \n",
    "    # Create a dictionary, article, for each news card\n",
    "    article = {'title': title, 'author': author, 'content': content}\n",
    "    \n",
    "    # Add the dictionary, article, to our list of dictionaries, articles.\n",
    "    articles.append(article)"
   ]
  },
  {
   "cell_type": "code",
   "execution_count": 47,
   "metadata": {},
   "outputs": [
    {
     "name": "stdout",
     "output_type": "stream",
     "text": [
      "25\n"
     ]
    },
    {
     "data": {
      "text/plain": [
       "[{'title': 'FIR filed against KRK for derogatory tweets on Rishi, Irrfan',\n",
       "  'author': 'Vidushi Mishra',\n",
       "  'content': 'An FIR was registered against Kamaal R Khan on Wednesday for allegedly tweeting derogatory remarks about late actors Rishi Kapoor and Irrfan Khan, police said. Kapoor must not die as liquor shops are set to open soon, Kamaal allegedly tweeted on 30 April. Furthermore, Kamaal had allegedly passed offensive remarks about Irrfan a day before his death on 29 April.'},\n",
       " {'title': \"Boney Kapoor's two more house helps test +ve for coronavirus\",\n",
       "  'author': 'Vidushi Mishra',\n",
       "  'content': 'Two more domestic staff members at Boney Kapoor\\'s house tested positive for the coronavirus on Thursday. This comes after the producer\\'s 23-year-old domestic help tested positive for the virus on Tuesday. \"All other staff members...Boney ji, [daughters] Janhvi and Khushi have tested negative,\" Boney\\'s spokesperson said, adding, \"All of them...even the ones who tested positive are asymptomatic.\"'}]"
      ]
     },
     "execution_count": 47,
     "metadata": {},
     "output_type": "execute_result"
    }
   ],
   "source": [
    "# Here we see our list contains 25 dictionaries for news cards\n",
    "\n",
    "print(len(articles))\n",
    "articles[:2]"
   ]
  },
  {
   "cell_type": "markdown",
   "metadata": {},
   "source": [
    "##### **<font color=purple>Build Article Function</font>**"
   ]
  },
  {
   "cell_type": "code",
   "execution_count": 50,
   "metadata": {},
   "outputs": [],
   "source": [
    "def get_news_articles(cache=False):\n",
    "    '''\n",
    "    This function uses a cache parameter with default cache == False to give the option of \n",
    "    returning in a df of inshorts topics and info by reading a csv file or\n",
    "    of doing a fresh scrape of inshort pages with topics business, sports, technology,\n",
    "    and entertainment and writing the returned df to a csv file.\n",
    "    '''\n",
    "    # default to read in a csv instead of scrape for df\n",
    "    if cache == False:\n",
    "        df = pd.read_csv('articles.csv', index_col=0)\n",
    "        \n",
    "    # cache == True completes a fresh scrape for df    \n",
    "    else:\n",
    "    \n",
    "        # Set base_url that will be used in get request\n",
    "\n",
    "        base_url = 'https://inshorts.com/en/read/'\n",
    "\n",
    "        topics = ['business', 'sports', 'technology', 'entertainment']\n",
    "\n",
    "        # Create an empty list, articles, to hold our dictionaries\n",
    "        articles = []\n",
    "\n",
    "        for topic in topics:\n",
    "\n",
    "            # Get a response object from the main inshorts page\n",
    "            response = get(base_url + topic)\n",
    "\n",
    "            # Create soup object using response from inshort\n",
    "            soup = BeautifulSoup(response.text, 'html.parser')\n",
    "\n",
    "\n",
    "            # Scrape a ResultSet of all the news cards on the page\n",
    "            cards = soup.find_all('div', class_='news-card')\n",
    "\n",
    "            # Loop through each news card on the page and get what we want\n",
    "            for card in cards:\n",
    "                title = card.find('span', itemprop='headline' ).get_text()\n",
    "                author = card.find('span', class_='author').get_text()\n",
    "                content = card.find('div', itemprop='articleBody').get_text()\n",
    "\n",
    "                # Create a dictionary, article, for each news card\n",
    "                article = ({'topic': topic, \n",
    "                            'title': title, \n",
    "                            'author': author, \n",
    "                            'content': content})\n",
    "\n",
    "                # Add the dictionary, article, to our list of dictionaries, articles.\n",
    "                articles.append(article)\n",
    "            \n",
    "        # Why not return it as a DataFrame?!\n",
    "        df = pd.DataFrame(articles)\n",
    "        \n",
    "        # Write df to csv for future use\n",
    "        df.to_csv('articles.csv')\n",
    "    \n",
    "    return df"
   ]
  },
  {
   "cell_type": "code",
   "execution_count": 51,
   "metadata": {},
   "outputs": [
    {
     "data": {
      "text/html": [
       "<div>\n",
       "<style scoped>\n",
       "    .dataframe tbody tr th:only-of-type {\n",
       "        vertical-align: middle;\n",
       "    }\n",
       "\n",
       "    .dataframe tbody tr th {\n",
       "        vertical-align: top;\n",
       "    }\n",
       "\n",
       "    .dataframe thead th {\n",
       "        text-align: right;\n",
       "    }\n",
       "</style>\n",
       "<table border=\"1\" class=\"dataframe\">\n",
       "  <thead>\n",
       "    <tr style=\"text-align: right;\">\n",
       "      <th></th>\n",
       "      <th>topic</th>\n",
       "      <th>title</th>\n",
       "      <th>author</th>\n",
       "      <th>content</th>\n",
       "    </tr>\n",
       "  </thead>\n",
       "  <tbody>\n",
       "    <tr>\n",
       "      <th>0</th>\n",
       "      <td>business</td>\n",
       "      <td>RBI allows banks to offer moratorium on EMI pa...</td>\n",
       "      <td>Krishna Veera Vanamali</td>\n",
       "      <td>RBI Governor Shaktikanta Das on Friday announc...</td>\n",
       "    </tr>\n",
       "    <tr>\n",
       "      <th>1</th>\n",
       "      <td>business</td>\n",
       "      <td>GDP growth in 2020-21 expected to remain in ne...</td>\n",
       "      <td>Ankush Verma</td>\n",
       "      <td>Reserve Bank of India Governor Shaktikanta Das...</td>\n",
       "    </tr>\n",
       "    <tr>\n",
       "      <th>2</th>\n",
       "      <td>business</td>\n",
       "      <td>Govt releases fare structure for domestic flig...</td>\n",
       "      <td>Nandini Sinha</td>\n",
       "      <td>The DGCA has released fare structure for domes...</td>\n",
       "    </tr>\n",
       "    <tr>\n",
       "      <th>3</th>\n",
       "      <td>business</td>\n",
       "      <td>Oxfam to fire 1,450 staff, shut offices in 18 ...</td>\n",
       "      <td>Anushka Dixit</td>\n",
       "      <td>Oxfam International has announced that it'll b...</td>\n",
       "    </tr>\n",
       "    <tr>\n",
       "      <th>4</th>\n",
       "      <td>business</td>\n",
       "      <td>Vaccine development is like rollercoaster: Ser...</td>\n",
       "      <td>Dharna</td>\n",
       "      <td>Serum Institute of India CEO Adar Poonawalla s...</td>\n",
       "    </tr>\n",
       "  </tbody>\n",
       "</table>\n",
       "</div>"
      ],
      "text/plain": [
       "      topic                                              title  \\\n",
       "0  business  RBI allows banks to offer moratorium on EMI pa...   \n",
       "1  business  GDP growth in 2020-21 expected to remain in ne...   \n",
       "2  business  Govt releases fare structure for domestic flig...   \n",
       "3  business  Oxfam to fire 1,450 staff, shut offices in 18 ...   \n",
       "4  business  Vaccine development is like rollercoaster: Ser...   \n",
       "\n",
       "                   author                                            content  \n",
       "0  Krishna Veera Vanamali  RBI Governor Shaktikanta Das on Friday announc...  \n",
       "1            Ankush Verma  Reserve Bank of India Governor Shaktikanta Das...  \n",
       "2           Nandini Sinha  The DGCA has released fare structure for domes...  \n",
       "3           Anushka Dixit  Oxfam International has announced that it'll b...  \n",
       "4                  Dharna  Serum Institute of India CEO Adar Poonawalla s...  "
      ]
     },
     "execution_count": 51,
     "metadata": {},
     "output_type": "execute_result"
    }
   ],
   "source": [
    "df = get_news_articles(cache=True)\n",
    "df.head()"
   ]
  },
  {
   "cell_type": "code",
   "execution_count": 52,
   "metadata": {},
   "outputs": [
    {
     "data": {
      "text/plain": [
       "business         25\n",
       "entertainment    25\n",
       "sports           25\n",
       "technology       25\n",
       "Name: topic, dtype: int64"
      ]
     },
     "execution_count": 52,
     "metadata": {},
     "output_type": "execute_result"
    }
   ],
   "source": [
    "df.topic.value_counts()"
   ]
  },
  {
   "cell_type": "code",
   "execution_count": 53,
   "metadata": {},
   "outputs": [
    {
     "name": "stdout",
     "output_type": "stream",
     "text": [
      "<class 'pandas.core.frame.DataFrame'>\n",
      "RangeIndex: 100 entries, 0 to 99\n",
      "Data columns (total 4 columns):\n",
      " #   Column   Non-Null Count  Dtype \n",
      "---  ------   --------------  ----- \n",
      " 0   topic    100 non-null    object\n",
      " 1   title    100 non-null    object\n",
      " 2   author   100 non-null    object\n",
      " 3   content  100 non-null    object\n",
      "dtypes: object(4)\n",
      "memory usage: 3.2+ KB\n"
     ]
    }
   ],
   "source": [
    "df.info()"
   ]
  },
  {
   "cell_type": "code",
   "execution_count": 54,
   "metadata": {},
   "outputs": [
    {
     "data": {
      "text/html": [
       "<div>\n",
       "<style scoped>\n",
       "    .dataframe tbody tr th:only-of-type {\n",
       "        vertical-align: middle;\n",
       "    }\n",
       "\n",
       "    .dataframe tbody tr th {\n",
       "        vertical-align: top;\n",
       "    }\n",
       "\n",
       "    .dataframe thead th {\n",
       "        text-align: right;\n",
       "    }\n",
       "</style>\n",
       "<table border=\"1\" class=\"dataframe\">\n",
       "  <thead>\n",
       "    <tr style=\"text-align: right;\">\n",
       "      <th></th>\n",
       "      <th>topic</th>\n",
       "      <th>title</th>\n",
       "      <th>author</th>\n",
       "      <th>content</th>\n",
       "    </tr>\n",
       "  </thead>\n",
       "  <tbody>\n",
       "    <tr>\n",
       "      <th>0</th>\n",
       "      <td>business</td>\n",
       "      <td>RBI allows banks to offer moratorium on EMI pa...</td>\n",
       "      <td>Krishna Veera Vanamali</td>\n",
       "      <td>RBI Governor Shaktikanta Das on Friday announc...</td>\n",
       "    </tr>\n",
       "    <tr>\n",
       "      <th>1</th>\n",
       "      <td>business</td>\n",
       "      <td>GDP growth in 2020-21 expected to remain in ne...</td>\n",
       "      <td>Ankush Verma</td>\n",
       "      <td>Reserve Bank of India Governor Shaktikanta Das...</td>\n",
       "    </tr>\n",
       "    <tr>\n",
       "      <th>2</th>\n",
       "      <td>business</td>\n",
       "      <td>Govt releases fare structure for domestic flig...</td>\n",
       "      <td>Nandini Sinha</td>\n",
       "      <td>The DGCA has released fare structure for domes...</td>\n",
       "    </tr>\n",
       "    <tr>\n",
       "      <th>3</th>\n",
       "      <td>business</td>\n",
       "      <td>Oxfam to fire 1,450 staff, shut offices in 18 ...</td>\n",
       "      <td>Anushka Dixit</td>\n",
       "      <td>Oxfam International has announced that it'll b...</td>\n",
       "    </tr>\n",
       "    <tr>\n",
       "      <th>4</th>\n",
       "      <td>business</td>\n",
       "      <td>Vaccine development is like rollercoaster: Ser...</td>\n",
       "      <td>Dharna</td>\n",
       "      <td>Serum Institute of India CEO Adar Poonawalla s...</td>\n",
       "    </tr>\n",
       "  </tbody>\n",
       "</table>\n",
       "</div>"
      ],
      "text/plain": [
       "      topic                                              title  \\\n",
       "0  business  RBI allows banks to offer moratorium on EMI pa...   \n",
       "1  business  GDP growth in 2020-21 expected to remain in ne...   \n",
       "2  business  Govt releases fare structure for domestic flig...   \n",
       "3  business  Oxfam to fire 1,450 staff, shut offices in 18 ...   \n",
       "4  business  Vaccine development is like rollercoaster: Ser...   \n",
       "\n",
       "                   author                                            content  \n",
       "0  Krishna Veera Vanamali  RBI Governor Shaktikanta Das on Friday announc...  \n",
       "1            Ankush Verma  Reserve Bank of India Governor Shaktikanta Das...  \n",
       "2           Nandini Sinha  The DGCA has released fare structure for domes...  \n",
       "3           Anushka Dixit  Oxfam International has announced that it'll b...  \n",
       "4                  Dharna  Serum Institute of India CEO Adar Poonawalla s...  "
      ]
     },
     "execution_count": 54,
     "metadata": {},
     "output_type": "execute_result"
    }
   ],
   "source": [
    "df = get_news_articles(cache=False)\n",
    "df.head()"
   ]
  },
  {
   "cell_type": "code",
   "execution_count": 55,
   "metadata": {},
   "outputs": [
    {
     "name": "stdout",
     "output_type": "stream",
     "text": [
      "<class 'pandas.core.frame.DataFrame'>\n",
      "Int64Index: 100 entries, 0 to 99\n",
      "Data columns (total 4 columns):\n",
      " #   Column   Non-Null Count  Dtype \n",
      "---  ------   --------------  ----- \n",
      " 0   topic    100 non-null    object\n",
      " 1   title    100 non-null    object\n",
      " 2   author   100 non-null    object\n",
      " 3   content  100 non-null    object\n",
      "dtypes: object(4)\n",
      "memory usage: 3.9+ KB\n"
     ]
    }
   ],
   "source": [
    "df.info()"
   ]
  },
  {
   "cell_type": "code",
   "execution_count": null,
   "metadata": {},
   "outputs": [],
   "source": []
  }
 ],
 "metadata": {
  "kernelspec": {
   "display_name": "Python 3",
   "language": "python",
   "name": "python3"
  },
  "language_info": {
   "codemirror_mode": {
    "name": "ipython",
    "version": 3
   },
   "file_extension": ".py",
   "mimetype": "text/x-python",
   "name": "python",
   "nbconvert_exporter": "python",
   "pygments_lexer": "ipython3",
   "version": "3.7.4"
  },
  "toc": {
   "base_numbering": 1,
   "nav_menu": {},
   "number_sections": true,
   "sideBar": true,
   "skip_h1_title": true,
   "title_cell": "Table of Contents",
   "title_sidebar": "Contents",
   "toc_cell": true,
   "toc_position": {
    "height": "calc(100% - 180px)",
    "left": "10px",
    "top": "150px",
    "width": "200px"
   },
   "toc_section_display": true,
   "toc_window_display": true
  }
 },
 "nbformat": 4,
 "nbformat_minor": 4
}

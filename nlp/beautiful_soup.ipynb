{
 "cells": [
  {
   "cell_type": "markdown",
   "metadata": {
    "toc": true
   },
   "source": [
    "<h1>Table of Contents<span class=\"tocSkip\"></span></h1>\n",
    "<div class=\"toc\"><ul class=\"toc-item\"><li><span><a href=\"#Beautiful-Soup---Web-Scraping\" data-toc-modified-id=\"Beautiful-Soup---Web-Scraping-1\"><span class=\"toc-item-num\">1&nbsp;&nbsp;</span>Beautiful Soup - Web Scraping</a></span><ul class=\"toc-item\"><li><span><a href=\"#What-is-Beautiful-Soup?\" data-toc-modified-id=\"What-is-Beautiful-Soup?-1.1\"><span class=\"toc-item-num\">1.1&nbsp;&nbsp;</span><strong><font color=\"red\">What is Beautiful Soup?</font></strong></a></span></li><li><span><a href=\"#So-What-Do-I-Do-With-Beautiful-Soup?\" data-toc-modified-id=\"So-What-Do-I-Do-With-Beautiful-Soup?-1.2\"><span class=\"toc-item-num\">1.2&nbsp;&nbsp;</span><strong><font color=\"orange\">So What Do I Do With Beautiful Soup?</font></strong></a></span><ul class=\"toc-item\"><li><span><a href=\"#HTML-Elements\" data-toc-modified-id=\"HTML-Elements-1.2.1\"><span class=\"toc-item-num\">1.2.1&nbsp;&nbsp;</span>HTML Elements</a></span></li><li><span><a href=\"#HTML-Attributes\" data-toc-modified-id=\"HTML-Attributes-1.2.2\"><span class=\"toc-item-num\">1.2.2&nbsp;&nbsp;</span>HTML Attributes</a></span></li></ul></li><li><span><a href=\"#Now-What?\" data-toc-modified-id=\"Now-What?-1.3\"><span class=\"toc-item-num\">1.3&nbsp;&nbsp;</span><strong><font color=\"green\">Now What?</font></strong></a></span></li></ul></li><li><span><a href=\"#Codeup-Blogs\" data-toc-modified-id=\"Codeup-Blogs-2\"><span class=\"toc-item-num\">2&nbsp;&nbsp;</span>Codeup Blogs</a></span><ul class=\"toc-item\"><li><span><a href=\"#Grab-Title-from-Page\" data-toc-modified-id=\"Grab-Title-from-Page-2.1\"><span class=\"toc-item-num\">2.1&nbsp;&nbsp;</span>Grab Title from Page</a></span></li><li><span><a href=\"#Grab-Text-from-Page\" data-toc-modified-id=\"Grab-Text-from-Page-2.2\"><span class=\"toc-item-num\">2.2&nbsp;&nbsp;</span>Grab Text from Page</a></span></li><li><span><a href=\"#Build-Blog-Function\" data-toc-modified-id=\"Build-Blog-Function-2.3\"><span class=\"toc-item-num\">2.3&nbsp;&nbsp;</span>Build Blog Function</a></span></li><li><span><a href=\"#Test-Function\" data-toc-modified-id=\"Test-Function-2.4\"><span class=\"toc-item-num\">2.4&nbsp;&nbsp;</span>Test Function</a></span></li><li><span><a href=\"#Bonus-URL-Scrape\" data-toc-modified-id=\"Bonus-URL-Scrape-2.5\"><span class=\"toc-item-num\">2.5&nbsp;&nbsp;</span>Bonus URL Scrape</a></span></li><li><span><a href=\"#Bonus-URL-Function\" data-toc-modified-id=\"Bonus-URL-Function-2.6\"><span class=\"toc-item-num\">2.6&nbsp;&nbsp;</span>Bonus URL Function</a></span></li></ul></li><li><span><a href=\"#Inshorts-News-Articles\" data-toc-modified-id=\"Inshorts-News-Articles-3\"><span class=\"toc-item-num\">3&nbsp;&nbsp;</span>Inshorts News Articles</a></span><ul class=\"toc-item\"><li><span><a href=\"#Scrape-News-Cards-from-Main-Page\" data-toc-modified-id=\"Scrape-News-Cards-from-Main-Page-3.1\"><span class=\"toc-item-num\">3.1&nbsp;&nbsp;</span>Scrape News Cards from Main Page</a></span></li><li><span><a href=\"#Scrape-the-Title-from-Each-News-Cards\" data-toc-modified-id=\"Scrape-the-Title-from-Each-News-Cards-3.2\"><span class=\"toc-item-num\">3.2&nbsp;&nbsp;</span>Scrape the Title from Each News Cards</a></span></li><li><span><a href=\"#Scrape-Author-from-News-Cards\" data-toc-modified-id=\"Scrape-Author-from-News-Cards-3.3\"><span class=\"toc-item-num\">3.3&nbsp;&nbsp;</span>Scrape Author from News Cards</a></span></li><li><span><a href=\"#Scrape-Text-from-News-Cards\" data-toc-modified-id=\"Scrape-Text-from-News-Cards-3.4\"><span class=\"toc-item-num\">3.4&nbsp;&nbsp;</span>Scrape Text from News Cards</a></span></li><li><span><a href=\"#Build-Article-Function\" data-toc-modified-id=\"Build-Article-Function-3.5\"><span class=\"toc-item-num\">3.5&nbsp;&nbsp;</span>Build Article Function</a></span></li></ul></li></ul></div>"
   ]
  },
  {
   "cell_type": "code",
   "execution_count": 1,
   "metadata": {},
   "outputs": [],
   "source": [
    "import pandas as pd\n",
    "import numpy as np\n",
    "\n",
    "from requests import get\n",
    "import re\n",
    "from bs4 import BeautifulSoup\n",
    "import os"
   ]
  },
  {
   "cell_type": "markdown",
   "metadata": {},
   "source": [
    "### Beautiful Soup - Web Scraping\n",
    "\n",
    "#### **<font color=red>What is Beautiful Soup?</font>**\n",
    "\n",
    "Beautiful Soup is a Pyhon library for scraping information from web pages. You have to be careful when web scraping data from sites that the site allows the practice. You can check by typing `/robots.txt` after the base url of a site.\n",
    "\n",
    "#### **<font color=orange>So What Do I Do With Beautiful Soup?</font>**\n",
    "\n",
    "Here, we are looking to retrieve content from a web page, but the web page is written in HTML (HyperText Markup Language), so we will use the `requests` library to get an response with the HTML from our desired page and `BeautifulSoup` to parse the HTML response. It would be helpful to have a basic understanding of the different HTML elements used to create web pages.\n",
    "\n",
    "##### HTML Elements\n",
    "\n",
    "An HTML element usually consists of a start tag `<html>` and en end tag `</html>` with content between the tags.\n",
    "\n",
    "`<html>` element defines the whole document\n",
    "\n",
    "`<body>` element defines the document body\n",
    "\n",
    "`<h1>` element defines a heading\n",
    "\n",
    "`<p>` or paragraph element defines new pargraphs of text\n",
    "\n",
    "`<a>` element (tell the browser to render a link). `<a>` elements use the `href` attribute to tell the link where to go.\n",
    "\n",
    "`<div>` element defines a division or area of the web page\n",
    "\n",
    "`<img>` element defines an image and uses the `src` attribute to hold the image address.\n",
    "\n",
    "##### HTML Attributes\n",
    "\n",
    "These are optional, but they make the HTML elements easier to work with because they give the elements names. You will have to examine a web page to find out if it uses these properties.\n",
    "\n",
    "`class` is an attribute of an HTML element that defines equal styles for tags with the same class. One element can have multiple classes and different elements can share the same classes, so classes cannot be used as unique identifiers.\n",
    "\n",
    "`id` is an attribute of an HTML element. Each element can only have one id, so they can be used as unique identifiers.\n",
    "\n",
    "`itemprop` is an attribute that consists of a name-value pair and is used to add properties to an element.\n",
    "\n",
    "`href` is an attribute of an `<a>` element that contains the link address.\n",
    "\n",
    "`src` is an attribuate of an `<img>` element that contains the address for an image.\n",
    "\n",
    "#### **<font color=green>Now What?</font>**\n",
    "\n",
    "We will need to use the `requests` library to retrieve the HTML from a web page we want to scrape. You can review how to use the `requests` library in my notebook [here](https://faithkane3.github.io/time_series_review/time_series_review).\n",
    "\n",
    "Next, we will inspect the structure of the web page by right-clicking on the page we want to scrape and clicking 'inspect'. By clicking the icon in the far upper left of the new window, we can move our cursor over the part of the web page we want to scrape and see the responsible HTML code for that section high-lighted on the right. We can use the tag and its properties with `BeautifulSoup` to `soup.find(name=tag)`\n",
    "\n",
    "We will need to use `BeautifulSoup` to parse the HTML response to our request. "
   ]
  },
  {
   "cell_type": "code",
   "execution_count": 2,
   "metadata": {},
   "outputs": [
    {
     "data": {
      "text/plain": [
       "True"
      ]
     },
     "execution_count": 2,
     "metadata": {},
     "output_type": "execute_result"
    }
   ],
   "source": [
    "url = 'https://codeup.com/codeups-data-science-career-accelerator-is-here/'\n",
    "headers = {'User-Agent': 'Codeup Bayes Data Science'} \n",
    "    \n",
    "response = get(url, headers=headers)\n",
    "response.ok"
   ]
  },
  {
   "cell_type": "code",
   "execution_count": 3,
   "metadata": {},
   "outputs": [
    {
     "name": "stdout",
     "output_type": "stream",
     "text": [
      "<class 'str'>\n"
     ]
    }
   ],
   "source": [
    "# Here's our long string; we'll use this to make our soup object\n",
    "\n",
    "print(type(response.text))"
   ]
  },
  {
   "cell_type": "code",
   "execution_count": 4,
   "metadata": {},
   "outputs": [
    {
     "name": "stdout",
     "output_type": "stream",
     "text": [
      "<class 'bs4.BeautifulSoup'>\n"
     ]
    }
   ],
   "source": [
    "# Use BeautifulSoup using our response string\n",
    "\n",
    "soup = BeautifulSoup(response.text, 'html.parser')\n",
    "\n",
    "# Now we have our BeautifulSoup object, we can use its built-in methods and properties\n",
    "\n",
    "print(type(soup))"
   ]
  },
  {
   "cell_type": "markdown",
   "metadata": {},
   "source": [
    "### Codeup Blogs\n",
    "\n",
    "**Goals:** Write a function to scrape urls from main Codeup blog web page and write a function that returns a dictionary of blog titles and text for each blog page. \n",
    "\n",
    "#### Grab Title from Page\n",
    "\n",
    "Here I use the `.find()` method on my soup with the `<h1>` tag and its `itemprop` attribute equal to `headline`. Below, you can see two different ways to code this. As always, there is no one way to accomplish our task, so I've shown several ways to get the title below. "
   ]
  },
  {
   "cell_type": "code",
   "execution_count": 5,
   "metadata": {},
   "outputs": [
    {
     "data": {
      "text/plain": [
       "<h1 class=\"jupiterx-post-title\" itemprop=\"headline\">Codeup’s Data Science Career Accelerator is Here!</h1>"
      ]
     },
     "execution_count": 5,
     "metadata": {},
     "output_type": "execute_result"
    }
   ],
   "source": [
    "# This is what the h1 element contains. I want to access the itemprop headline\n",
    "\n",
    "soup.find('h1')"
   ]
  },
  {
   "cell_type": "code",
   "execution_count": 6,
   "metadata": {},
   "outputs": [
    {
     "name": "stdout",
     "output_type": "stream",
     "text": [
      "Codeup’s Data Science Career Accelerator is Here!\n"
     ]
    }
   ],
   "source": [
    "# I will use the find method on my soup passing in h1 element and itemprop attribute\n",
    "\n",
    "title = soup.find('h1', itemprop='headline' ).text\n",
    "print(title)"
   ]
  },
  {
   "cell_type": "code",
   "execution_count": 7,
   "metadata": {},
   "outputs": [
    {
     "name": "stdout",
     "output_type": "stream",
     "text": [
      "<class 'str'>\n"
     ]
    }
   ],
   "source": [
    "print(type(title))"
   ]
  },
  {
   "cell_type": "markdown",
   "metadata": {},
   "source": [
    "#### Grab Text from Page"
   ]
  },
  {
   "cell_type": "code",
   "execution_count": 8,
   "metadata": {},
   "outputs": [
    {
     "name": "stdout",
     "output_type": "stream",
     "text": [
      "The rumors are true! The time has arrived. Codeup has officially opened applications to our new Data Science career accelerator, with only 25 seats available! This immersive program is one of a kind in San Antonio, and will help you land a job in Gla\n"
     ]
    }
   ],
   "source": [
    "# I will use the find method on my soup passing in h1 element and itemprop attribute\n",
    "\n",
    "article = soup.find('div', itemprop='text').text\n",
    "print(article[:250])"
   ]
  },
  {
   "cell_type": "code",
   "execution_count": 9,
   "metadata": {},
   "outputs": [
    {
     "name": "stdout",
     "output_type": "stream",
     "text": [
      "<class 'str'>\n"
     ]
    }
   ],
   "source": [
    "print(type(article))"
   ]
  },
  {
   "cell_type": "markdown",
   "metadata": {},
   "source": [
    "#### Build Blog Function"
   ]
  },
  {
   "cell_type": "code",
   "execution_count": 10,
   "metadata": {},
   "outputs": [],
   "source": [
    "urls = ['https://codeup.com/codeups-data-science-career-accelerator-is-here/',\n",
    "            'https://codeup.com/data-science-myths/',\n",
    "            'https://codeup.com/data-science-vs-data-analytics-whats-the-difference/',\n",
    "            'https://codeup.com/10-tips-to-crush-it-at-the-sa-tech-job-fair/',\n",
    "            'https://codeup.com/competitor-bootcamps-are-closing-is-the-model-in-danger/']\n",
    "\n",
    "def get_blog_articles(urls, cache=False):\n",
    "    '''\n",
    "    This function takes in a list of Codeup Blog urls and a parameter\n",
    "    with default cache == False which returns a df from a csv file.\n",
    "    If cache == True, the function scrapes the title and text for each url, creates a list of dictionaries\n",
    "    with the title and text for each blog, converts list to df, and returns df.\n",
    "    '''\n",
    "    if cache == False:\n",
    "        df = pd.read_csv('big_blogs.csv', index_col=0)\n",
    "    else:\n",
    "        headers = {'User-Agent': 'Codeup Bayes Data Science'} \n",
    "\n",
    "        # Create an empty list to hold dictionaries\n",
    "        articles = []\n",
    "\n",
    "        # Loop through each url in our list of urls\n",
    "        for url in urls:\n",
    "\n",
    "            # get request to each url saved in response\n",
    "            response = get(url, headers=headers)\n",
    "\n",
    "            # Create soup object from response text and parse\n",
    "            soup = BeautifulSoup(response.text, 'html.parser')\n",
    "\n",
    "            # Save the title of each blog in variable title\n",
    "            title = soup.find('h1', itemprop='headline' ).text\n",
    "\n",
    "            # Save the text in each blog to variable text\n",
    "            text = soup.find('div', itemprop='text').text\n",
    "\n",
    "            # Create a dictionary holding the title and text for each blog\n",
    "            article = {'title': title, 'content': text}\n",
    "\n",
    "            # Add each dictionary to the articles list of dictionaries\n",
    "            articles.append(article)\n",
    "        # convert our list of dictionaries to a df\n",
    "        df = pd.DataFrame(articles)\n",
    "\n",
    "        # Write df to csv file for faster access\n",
    "        df.to_csv('big_blogs.csv')\n",
    "    \n",
    "    return df"
   ]
  },
  {
   "cell_type": "markdown",
   "metadata": {},
   "source": [
    "#### Test Function"
   ]
  },
  {
   "cell_type": "code",
   "execution_count": 11,
   "metadata": {},
   "outputs": [
    {
     "data": {
      "text/html": [
       "<div>\n",
       "<style scoped>\n",
       "    .dataframe tbody tr th:only-of-type {\n",
       "        vertical-align: middle;\n",
       "    }\n",
       "\n",
       "    .dataframe tbody tr th {\n",
       "        vertical-align: top;\n",
       "    }\n",
       "\n",
       "    .dataframe thead th {\n",
       "        text-align: right;\n",
       "    }\n",
       "</style>\n",
       "<table border=\"1\" class=\"dataframe\">\n",
       "  <thead>\n",
       "    <tr style=\"text-align: right;\">\n",
       "      <th></th>\n",
       "      <th>title</th>\n",
       "      <th>content</th>\n",
       "    </tr>\n",
       "  </thead>\n",
       "  <tbody>\n",
       "    <tr>\n",
       "      <th>0</th>\n",
       "      <td>Codeup’s Data Science Career Accelerator is Here!</td>\n",
       "      <td>The rumors are true! The time has arrived. Cod...</td>\n",
       "    </tr>\n",
       "    <tr>\n",
       "      <th>1</th>\n",
       "      <td>Data Science Myths</td>\n",
       "      <td>By Dimitri Antoniou and Maggie GiustData Scien...</td>\n",
       "    </tr>\n",
       "    <tr>\n",
       "      <th>2</th>\n",
       "      <td>Data Science VS Data Analytics: What’s The Dif...</td>\n",
       "      <td>By Dimitri AntoniouA week ago, Codeup launched...</td>\n",
       "    </tr>\n",
       "    <tr>\n",
       "      <th>3</th>\n",
       "      <td>10 Tips to Crush It at the SA Tech Job Fair</td>\n",
       "      <td>10 Tips to Crush It at the SA Tech Job FairSA ...</td>\n",
       "    </tr>\n",
       "    <tr>\n",
       "      <th>4</th>\n",
       "      <td>Competitor Bootcamps Are Closing. Is the Model...</td>\n",
       "      <td>Competitor Bootcamps Are Closing. Is the Model...</td>\n",
       "    </tr>\n",
       "  </tbody>\n",
       "</table>\n",
       "</div>"
      ],
      "text/plain": [
       "                                               title  \\\n",
       "0  Codeup’s Data Science Career Accelerator is Here!   \n",
       "1                                 Data Science Myths   \n",
       "2  Data Science VS Data Analytics: What’s The Dif...   \n",
       "3        10 Tips to Crush It at the SA Tech Job Fair   \n",
       "4  Competitor Bootcamps Are Closing. Is the Model...   \n",
       "\n",
       "                                             content  \n",
       "0  The rumors are true! The time has arrived. Cod...  \n",
       "1  By Dimitri Antoniou and Maggie GiustData Scien...  \n",
       "2  By Dimitri AntoniouA week ago, Codeup launched...  \n",
       "3  10 Tips to Crush It at the SA Tech Job FairSA ...  \n",
       "4  Competitor Bootcamps Are Closing. Is the Model...  "
      ]
     },
     "execution_count": 11,
     "metadata": {},
     "output_type": "execute_result"
    }
   ],
   "source": [
    "# I don't want\n",
    "\n",
    "blogs = get_blog_articles(urls=urls, cache=True)\n",
    "blogs"
   ]
  },
  {
   "cell_type": "markdown",
   "metadata": {},
   "source": [
    "#### Bonus URL Scrape"
   ]
  },
  {
   "cell_type": "code",
   "execution_count": 12,
   "metadata": {},
   "outputs": [],
   "source": [
    "# I'm going to hit Codeup's main blog page to scarpe the urls\n",
    "\n",
    "url = 'https://codeup.com/resources/#blog'\n",
    "headers = {'User-Agent': 'Codeup Bayes Data Science'} \n",
    "\n",
    "response = get(url, headers=headers)\n",
    "soup = BeautifulSoup(response.text, 'html.parser')"
   ]
  },
  {
   "cell_type": "code",
   "execution_count": 13,
   "metadata": {},
   "outputs": [
    {
     "data": {
      "text/plain": [
       "[<a class=\"jet-listing-dynamic-link__link\" href=\"https://codeup.com/bootcamp-to-bootcamp/\"><span class=\"jet-listing-dynamic-link__label\">Read More</span></a>,\n",
       " <a class=\"jet-listing-dynamic-link__link\" href=\"https://codeup.com/how-to-get-started-on-a-programming-exercise/\"><span class=\"jet-listing-dynamic-link__label\">Read More</span></a>]"
      ]
     },
     "execution_count": 13,
     "metadata": {},
     "output_type": "execute_result"
    }
   ],
   "source": [
    "# I'm using a element with class_ to get a list of tag elements from my soup object\n",
    "\n",
    "link_list = soup.find_all('a', class_='jet-listing-dynamic-link__link')\n",
    "link_list[:2]"
   ]
  },
  {
   "cell_type": "code",
   "execution_count": 14,
   "metadata": {},
   "outputs": [
    {
     "name": "stdout",
     "output_type": "stream",
     "text": [
      "<class 'bs4.element.ResultSet'>\n",
      "<class 'bs4.element.Tag'>\n",
      "Our bs element ResultSet contains 99 element tags.\n"
     ]
    }
   ],
   "source": [
    "# Using find_all has returned a bs ResultSet with 99 bs tags inside\n",
    "\n",
    "print(type(link_list))\n",
    "print(type(link_list[0]))\n",
    "print(f'Our bs element ResultSet contains {len(link_list)} element tags.')"
   ]
  },
  {
   "cell_type": "code",
   "execution_count": 15,
   "metadata": {},
   "outputs": [],
   "source": [
    "# Create empty urls list and for each chunk above, grab the href/link\n",
    "# Add each link to the urls list\n",
    "\n",
    "urls = []\n",
    "for link in link_list:\n",
    "    urls.append(link.get('href'))"
   ]
  },
  {
   "cell_type": "code",
   "execution_count": 16,
   "metadata": {
    "scrolled": true
   },
   "outputs": [
    {
     "name": "stdout",
     "output_type": "stream",
     "text": [
      "99\n"
     ]
    },
    {
     "data": {
      "text/plain": [
       "['https://codeup.com/bootcamp-to-bootcamp/',\n",
       " 'https://codeup.com/how-to-get-started-on-a-programming-exercise/',\n",
       " 'https://codeup.com/career-in-data-science/',\n",
       " 'https://codeup.com/getting-hired-in-a-remote-environment/',\n",
       " 'https://codeup.com/codeup-remote-students/',\n",
       " 'https://codeup.com/covid-relief/',\n",
       " 'https://codeup.com/discovering-my-passion-through-codeup/',\n",
       " 'https://codeup.com/covid-19/',\n",
       " 'https://codeup.com/15-tips-for-virtual-interview-and-meetings/',\n",
       " 'https://codeup.com/setting-myself-up-for-success-at-codeup/']"
      ]
     },
     "execution_count": 16,
     "metadata": {},
     "output_type": "execute_result"
    }
   ],
   "source": [
    "# Wow, 99 links! Ready to scrape titles and text from each\n",
    "\n",
    "print(len(urls))\n",
    "urls[:10]"
   ]
  },
  {
   "cell_type": "markdown",
   "metadata": {},
   "source": [
    "#### Bonus URL Function"
   ]
  },
  {
   "cell_type": "code",
   "execution_count": 17,
   "metadata": {},
   "outputs": [],
   "source": [
    "def get_all_urls():\n",
    "    '''\n",
    "    This function scrapes all of the Codeup blog urls from\n",
    "    the main Codeup blog page and returns a list of urls.\n",
    "    '''\n",
    "    # The main Codeup blog page with all the urls\n",
    "    url = 'https://codeup.com/resources/#blog'\n",
    "    \n",
    "    headers = {'User-Agent': 'Codeup Bayes Data Science'} \n",
    "    \n",
    "    # Send request to main page and get response\n",
    "    response = get(url, headers=headers)\n",
    "    \n",
    "    # Create soup object using response\n",
    "    soup = BeautifulSoup(response.text, 'html.parser')\n",
    "    \n",
    "    # Create empty list to hold the urls for all blogs\n",
    "    urls = []\n",
    "    \n",
    "    # Create a list of the element tags that hold the href/links\n",
    "    link_list = soup.find_all('a', class_='jet-listing-dynamic-link__link')\n",
    "    \n",
    "    # get the href/link from each element tag in my list\n",
    "    for link in link_list:\n",
    "        \n",
    "        # Add the link to my urls list\n",
    "        urls.append(link.get('href'))\n",
    "        \n",
    "    return urls"
   ]
  },
  {
   "cell_type": "code",
   "execution_count": 18,
   "metadata": {},
   "outputs": [],
   "source": [
    "# Now I can use my same function with my new urls list function!\n",
    "\n",
    "big_blogs = get_blog_articles(urls=get_all_urls(), cache=True)"
   ]
  },
  {
   "cell_type": "code",
   "execution_count": 19,
   "metadata": {},
   "outputs": [
    {
     "data": {
      "text/html": [
       "<div>\n",
       "<style scoped>\n",
       "    .dataframe tbody tr th:only-of-type {\n",
       "        vertical-align: middle;\n",
       "    }\n",
       "\n",
       "    .dataframe tbody tr th {\n",
       "        vertical-align: top;\n",
       "    }\n",
       "\n",
       "    .dataframe thead th {\n",
       "        text-align: right;\n",
       "    }\n",
       "</style>\n",
       "<table border=\"1\" class=\"dataframe\">\n",
       "  <thead>\n",
       "    <tr style=\"text-align: right;\">\n",
       "      <th></th>\n",
       "      <th>title</th>\n",
       "      <th>content</th>\n",
       "    </tr>\n",
       "  </thead>\n",
       "  <tbody>\n",
       "    <tr>\n",
       "      <th>0</th>\n",
       "      <td>From Bootcamp to Bootcamp: Two Military Vetera...</td>\n",
       "      <td>Are you a veteran or active-duty military memb...</td>\n",
       "    </tr>\n",
       "    <tr>\n",
       "      <th>1</th>\n",
       "      <td>How to Get Started On Any Programming Exercise</td>\n",
       "      <td>Programming is hard. Whether you’re just begin...</td>\n",
       "    </tr>\n",
       "    <tr>\n",
       "      <th>2</th>\n",
       "      <td>The Best Path to a Career in Data Science</td>\n",
       "      <td>In our blog, “The Best Path To A Career In Sof...</td>\n",
       "    </tr>\n",
       "    <tr>\n",
       "      <th>3</th>\n",
       "      <td>Getting Hired in a Remote Environment</td>\n",
       "      <td>As a career accelerator with a tuition refund ...</td>\n",
       "    </tr>\n",
       "    <tr>\n",
       "      <th>4</th>\n",
       "      <td>The Remote Codeup Student Experience</td>\n",
       "      <td>Communities across Texas have now lived in a r...</td>\n",
       "    </tr>\n",
       "  </tbody>\n",
       "</table>\n",
       "</div>"
      ],
      "text/plain": [
       "                                               title  \\\n",
       "0  From Bootcamp to Bootcamp: Two Military Vetera...   \n",
       "1     How to Get Started On Any Programming Exercise   \n",
       "2          The Best Path to a Career in Data Science   \n",
       "3              Getting Hired in a Remote Environment   \n",
       "4               The Remote Codeup Student Experience   \n",
       "\n",
       "                                             content  \n",
       "0  Are you a veteran or active-duty military memb...  \n",
       "1  Programming is hard. Whether you’re just begin...  \n",
       "2  In our blog, “The Best Path To A Career In Sof...  \n",
       "3  As a career accelerator with a tuition refund ...  \n",
       "4  Communities across Texas have now lived in a r...  "
      ]
     },
     "execution_count": 19,
     "metadata": {},
     "output_type": "execute_result"
    }
   ],
   "source": [
    "big_blogs.head()"
   ]
  },
  {
   "cell_type": "code",
   "execution_count": 20,
   "metadata": {},
   "outputs": [
    {
     "name": "stdout",
     "output_type": "stream",
     "text": [
      "<class 'pandas.core.frame.DataFrame'>\n",
      "RangeIndex: 99 entries, 0 to 98\n",
      "Data columns (total 2 columns):\n",
      " #   Column   Non-Null Count  Dtype \n",
      "---  ------   --------------  ----- \n",
      " 0   title    99 non-null     object\n",
      " 1   content  99 non-null     object\n",
      "dtypes: object(2)\n",
      "memory usage: 1.7+ KB\n"
     ]
    }
   ],
   "source": [
    "big_blogs.info()"
   ]
  },
  {
   "cell_type": "code",
   "execution_count": 21,
   "metadata": {},
   "outputs": [
    {
     "data": {
      "text/html": [
       "<div>\n",
       "<style scoped>\n",
       "    .dataframe tbody tr th:only-of-type {\n",
       "        vertical-align: middle;\n",
       "    }\n",
       "\n",
       "    .dataframe tbody tr th {\n",
       "        vertical-align: top;\n",
       "    }\n",
       "\n",
       "    .dataframe thead th {\n",
       "        text-align: right;\n",
       "    }\n",
       "</style>\n",
       "<table border=\"1\" class=\"dataframe\">\n",
       "  <thead>\n",
       "    <tr style=\"text-align: right;\">\n",
       "      <th></th>\n",
       "      <th>title</th>\n",
       "      <th>content</th>\n",
       "    </tr>\n",
       "  </thead>\n",
       "  <tbody>\n",
       "    <tr>\n",
       "      <th>0</th>\n",
       "      <td>From Bootcamp to Bootcamp: Two Military Vetera...</td>\n",
       "      <td>Are you a veteran or active-duty military memb...</td>\n",
       "    </tr>\n",
       "    <tr>\n",
       "      <th>1</th>\n",
       "      <td>How to Get Started On Any Programming Exercise</td>\n",
       "      <td>Programming is hard. Whether you’re just begin...</td>\n",
       "    </tr>\n",
       "    <tr>\n",
       "      <th>2</th>\n",
       "      <td>The Best Path to a Career in Data Science</td>\n",
       "      <td>In our blog, “The Best Path To A Career In Sof...</td>\n",
       "    </tr>\n",
       "    <tr>\n",
       "      <th>3</th>\n",
       "      <td>Getting Hired in a Remote Environment</td>\n",
       "      <td>As a career accelerator with a tuition refund ...</td>\n",
       "    </tr>\n",
       "    <tr>\n",
       "      <th>4</th>\n",
       "      <td>The Remote Codeup Student Experience</td>\n",
       "      <td>Communities across Texas have now lived in a r...</td>\n",
       "    </tr>\n",
       "  </tbody>\n",
       "</table>\n",
       "</div>"
      ],
      "text/plain": [
       "                                               title  \\\n",
       "0  From Bootcamp to Bootcamp: Two Military Vetera...   \n",
       "1     How to Get Started On Any Programming Exercise   \n",
       "2          The Best Path to a Career in Data Science   \n",
       "3              Getting Hired in a Remote Environment   \n",
       "4               The Remote Codeup Student Experience   \n",
       "\n",
       "                                             content  \n",
       "0  Are you a veteran or active-duty military memb...  \n",
       "1  Programming is hard. Whether you’re just begin...  \n",
       "2  In our blog, “The Best Path To A Career In Sof...  \n",
       "3  As a career accelerator with a tuition refund ...  \n",
       "4  Communities across Texas have now lived in a r...  "
      ]
     },
     "execution_count": 21,
     "metadata": {},
     "output_type": "execute_result"
    }
   ],
   "source": [
    "big_blogs = get_blog_articles(urls=get_all_urls(), cache=False)\n",
    "big_blogs.head()"
   ]
  },
  {
   "cell_type": "markdown",
   "metadata": {},
   "source": [
    "### Inshorts News Articles\n",
    "\n",
    "**Goal:**  Write a function that scrapes the news articles for the following topics:\n",
    "\n",
    "- Business\n",
    "\n",
    "\n",
    "- Sports\n",
    "\n",
    "\n",
    "- Technology\n",
    "\n",
    "\n",
    "- Entertainment"
   ]
  },
  {
   "cell_type": "code",
   "execution_count": 22,
   "metadata": {},
   "outputs": [
    {
     "data": {
      "text/plain": [
       "True"
      ]
     },
     "execution_count": 22,
     "metadata": {},
     "output_type": "execute_result"
    }
   ],
   "source": [
    "url = 'https://inshorts.com/en/read/entertainment'\n",
    "\n",
    "response = get(url)\n",
    "response.ok"
   ]
  },
  {
   "cell_type": "code",
   "execution_count": 23,
   "metadata": {},
   "outputs": [],
   "source": [
    "soup = BeautifulSoup(response.text, 'html.parser')"
   ]
  },
  {
   "cell_type": "markdown",
   "metadata": {},
   "source": [
    "#### Scrape News Cards from Main Page"
   ]
  },
  {
   "cell_type": "code",
   "execution_count": 24,
   "metadata": {
    "scrolled": true
   },
   "outputs": [
    {
     "name": "stdout",
     "output_type": "stream",
     "text": [
      "<class 'bs4.element.ResultSet'>\n"
     ]
    },
    {
     "data": {
      "text/plain": [
       "<div class=\"news-card z-depth-1\" itemscope=\"\" itemtype=\"http://schema.org/NewsArticle\">\n",
       "<span content=\"\" itemid=\"https://inshorts.com/en/news/karan-johar-confirms-2-house-helps-tested-covid19-+ve-says-he-tested-ve-1590428432730\" itemprop=\"mainEntityOfPage\" itemscope=\"\" itemtype=\"https://schema.org/WebPage\"></span>\n",
       "<span itemprop=\"author\" itemscope=\"itemscope\" itemtype=\"https://schema.org/Person\">\n",
       "<span content=\"Daisy Mowke\" itemprop=\"name\"></span>\n",
       "</span>\n",
       "<span content=\"Karan Johar confirms 2 house helps tested COVID-19 +ve, says he tested -ve\" itemprop=\"description\"></span>\n",
       "<span itemprop=\"image\" itemscope=\"\" itemtype=\"https://schema.org/ImageObject\">\n",
       "<meta content=\"https://static.inshorts.com/inshorts/images/v1/variants/jpg/m/2020/05_may/25_mon/img_1590427546377_667.jpg?\" itemprop=\"url\"/>\n",
       "<meta content=\"864\" itemprop=\"width\"/>\n",
       "<meta content=\"483\" itemprop=\"height\"/>\n",
       "</span>\n",
       "<span itemprop=\"publisher\" itemscope=\"itemscope\" itemtype=\"https://schema.org/Organization\">\n",
       "<span content=\"https://inshorts.com/\" itemprop=\"url\"></span>\n",
       "<span content=\"Inshorts\" itemprop=\"name\"></span>\n",
       "<span itemprop=\"logo\" itemscope=\"\" itemtype=\"https://schema.org/ImageObject\">\n",
       "<span content=\"https://assets.inshorts.com/inshorts/images/v1/variants/jpg/m/2018/11_nov/21_wed/img_1542823931298_497.jpg\" itemprop=\"url\"></span>\n",
       "<meta content=\"400\" itemprop=\"width\"/>\n",
       "<meta content=\"60\" itemprop=\"height\"/>\n",
       "</span>\n",
       "</span>\n",
       "<div class=\"news-card-image\" style=\"background-image: url('https://static.inshorts.com/inshorts/images/v1/variants/jpg/m/2020/05_may/25_mon/img_1590427546377_667.jpg?')\">\n",
       "</div>\n",
       "<div class=\"news-card-title news-right-box\">\n",
       "<a class=\"clickable\" href=\"/en/news/karan-johar-confirms-2-house-helps-tested-covid19-+ve-says-he-tested-ve-1590428432730\" onclick=\"ga('send', {'hitType': 'event', 'eventCategory': 'TitleOfNews', 'eventAction': 'clicked', 'eventLabel': 'Karan%20Johar%20confirms%202%20house%20helps%20tested%20COVID-19%20%2Bve%2C%20says%20he%20tested%20-ve)' });\" style=\"color:#44444d!important\">\n",
       "<span itemprop=\"headline\">Karan Johar confirms 2 house helps tested COVID-19 +ve, says he tested -ve</span>\n",
       "</a>\n",
       "<div class=\"news-card-author-time news-card-author-time-in-title\">\n",
       "<a href=\"/prev/en/news/karan-johar-confirms-2-house-helps-tested-covid19-+ve-says-he-tested-ve-1590428432730\"><span class=\"short\">short</span></a> by <span class=\"author\">Daisy Mowke</span> / \n",
       "      <span class=\"time\" content=\"2020-05-25T17:40:32.000Z\" itemprop=\"datePublished\">11:10 pm</span> on <span clas=\"date\">25 May 2020,Monday</span>\n",
       "</div>\n",
       "</div>\n",
       "<div class=\"news-card-content news-right-box\">\n",
       "<div itemprop=\"articleBody\">Filmmaker Karan Johar took to social media on Monday to announce that two members of his household staff have tested positive for coronavirus. \"The BMC was informed immediately, and the building has been fumigated and sterilised by them as per the norms,\" he wrote. Johar added that he and his family members took swab tests and have tested negative. </div>\n",
       "<div class=\"news-card-author-time news-card-author-time-in-content\">\n",
       "<a href=\"/prev/en/news/karan-johar-confirms-2-house-helps-tested-covid19-+ve-says-he-tested-ve-1590428432730\"><span class=\"short\">short</span></a> by <span class=\"author\">Daisy Mowke</span> / \n",
       "      <span class=\"time\" content=\"2020-05-25T17:40:32.000Z\" itemprop=\"dateModified\">11:10 pm</span> on <span class=\"date\">25 May</span>\n",
       "</div>\n",
       "</div>\n",
       "<div class=\"news-card-footer news-right-box\">\n",
       "<div class=\"read-more\">read more at <a class=\"source\" href=\"https://www.hindustantimes.com/bollywood/karan-johar-confirms-2-members-of-his-household-staff-have-tested-positive-for-covid-19-says-he-and-his-family-are-safe-and-asymptomatic/story-ZfgxyUtHdvYKrhtoPtNkjN.html?utm_campaign=fullarticle&amp;utm_medium=referral&amp;utm_source=inshorts \" onclick=\"ga('send', {'hitType': 'event', 'eventCategory': 'ReadMore', 'eventAction': 'clicked', 'eventLabel': 'Hindustan%20Times' });\" target=\"_blank\">Hindustan Times</a></div>\n",
       "</div>\n",
       "</div>"
      ]
     },
     "execution_count": 24,
     "metadata": {},
     "output_type": "execute_result"
    }
   ],
   "source": [
    "# Scrape a ResultSet of all the news cards on the page\n",
    "\n",
    "cards = soup.find_all('div', class_='news-card')\n",
    "print(type(cards))\n",
    "cards[0]"
   ]
  },
  {
   "cell_type": "markdown",
   "metadata": {},
   "source": [
    "#### Scrape the Title from Each News Cards"
   ]
  },
  {
   "cell_type": "code",
   "execution_count": 25,
   "metadata": {
    "scrolled": true
   },
   "outputs": [
    {
     "data": {
      "text/plain": [
       "['Karan Johar confirms 2 house helps tested COVID-19 +ve, says he tested -ve',\n",
       " \"Complaint against Anushka over dialogue 'insulting' Nepali people in Paatal Lok\",\n",
       " \"Photographer told Salman to just 'catch and smooch' me, he refused: Bhagyashree\",\n",
       " 'BJP MLA files complaint against Anushka over morphed pic with Yogi in Paatal Lok',\n",
       " \"Vir Das' neighbour 'sneezes' at him after accusing him of violating social distancing\"]"
      ]
     },
     "execution_count": 25,
     "metadata": {},
     "output_type": "execute_result"
    }
   ],
   "source": [
    "# Save the title of each news card to list titles\n",
    "\n",
    "titles = []\n",
    "for card in cards:\n",
    "    title = card.find('span', itemprop='headline' ).text\n",
    "    titles.append(title)\n",
    "    \n",
    "titles[:5]"
   ]
  },
  {
   "cell_type": "markdown",
   "metadata": {},
   "source": [
    "#### Scrape Author from News Cards"
   ]
  },
  {
   "cell_type": "code",
   "execution_count": 26,
   "metadata": {},
   "outputs": [
    {
     "data": {
      "text/plain": [
       "['Daisy Mowke', 'Daisy Mowke', 'Daisy Mowke', 'Daisy Mowke', 'Daisy Mowke']"
      ]
     },
     "execution_count": 26,
     "metadata": {},
     "output_type": "execute_result"
    }
   ],
   "source": [
    "# Save the author of the news card to list authors\n",
    "\n",
    "authors = []\n",
    "for card in cards:\n",
    "    author = card.find('span', class_='author').text\n",
    "    authors.append(author)\n",
    "    \n",
    "authors[:5]"
   ]
  },
  {
   "cell_type": "markdown",
   "metadata": {},
   "source": [
    "#### Scrape Text from News Cards"
   ]
  },
  {
   "cell_type": "code",
   "execution_count": 27,
   "metadata": {},
   "outputs": [
    {
     "data": {
      "text/plain": [
       "['Filmmaker Karan Johar took to social media on Monday to announce that two members of his household staff have tested positive for coronavirus. \"The BMC was informed immediately, and the building has been fumigated and sterilised by them as per the norms,\" he wrote. Johar added that he and his family members took swab tests and have tested negative. ',\n",
       " \"A complaint has been filed against Anushka Sharma's production 'Paatal Lok' with the National Human Rights Commission (NHRC) for a dialogue that is allegedly 'insulting' to Nepali people. The complaint has been filed by All Arunachal Pradesh Gorkha Youth Welfare Association. Earlier this week, advocate Viren Sri Gurung had sent a legal notice to Anushka.\"]"
      ]
     },
     "execution_count": 27,
     "metadata": {},
     "output_type": "execute_result"
    }
   ],
   "source": [
    "# Save the text of each article to a list of texts\n",
    "\n",
    "texts = []\n",
    "for card in cards:\n",
    "    text = card.find('div', itemprop='articleBody').text\n",
    "    texts.append(text)\n",
    "    \n",
    "texts[:2]"
   ]
  },
  {
   "cell_type": "code",
   "execution_count": 28,
   "metadata": {},
   "outputs": [],
   "source": [
    "# Create an empty list, articles, to hold the dictionaries for each article\n",
    "articles = []\n",
    "\n",
    "# Loop through each news card on the page and get what we want\n",
    "for card in cards:\n",
    "    title = card.find('span', itemprop='headline' ).text\n",
    "    author = card.find('span', class_='author').text\n",
    "    content = card.find('div', itemprop='articleBody').text\n",
    "    \n",
    "    # Create a dictionary, article, for each news card\n",
    "    article = {'title': title, 'author': author, 'content': content}\n",
    "    \n",
    "    # Add the dictionary, article, to our list of dictionaries, articles.\n",
    "    articles.append(article)"
   ]
  },
  {
   "cell_type": "code",
   "execution_count": 29,
   "metadata": {},
   "outputs": [
    {
     "name": "stdout",
     "output_type": "stream",
     "text": [
      "25\n"
     ]
    },
    {
     "data": {
      "text/plain": [
       "[{'title': 'Karan Johar confirms 2 house helps tested COVID-19 +ve, says he tested -ve',\n",
       "  'author': 'Daisy Mowke',\n",
       "  'content': 'Filmmaker Karan Johar took to social media on Monday to announce that two members of his household staff have tested positive for coronavirus. \"The BMC was informed immediately, and the building has been fumigated and sterilised by them as per the norms,\" he wrote. Johar added that he and his family members took swab tests and have tested negative. '},\n",
       " {'title': \"Complaint against Anushka over dialogue 'insulting' Nepali people in Paatal Lok\",\n",
       "  'author': 'Daisy Mowke',\n",
       "  'content': \"A complaint has been filed against Anushka Sharma's production 'Paatal Lok' with the National Human Rights Commission (NHRC) for a dialogue that is allegedly 'insulting' to Nepali people. The complaint has been filed by All Arunachal Pradesh Gorkha Youth Welfare Association. Earlier this week, advocate Viren Sri Gurung had sent a legal notice to Anushka.\"}]"
      ]
     },
     "execution_count": 29,
     "metadata": {},
     "output_type": "execute_result"
    }
   ],
   "source": [
    "# Here we see our list contains 25 dictionaries for news cards\n",
    "\n",
    "print(len(articles))\n",
    "articles[:2]"
   ]
  },
  {
   "cell_type": "markdown",
   "metadata": {},
   "source": [
    "#### Build Article Function"
   ]
  },
  {
   "cell_type": "code",
   "execution_count": 30,
   "metadata": {},
   "outputs": [],
   "source": [
    "def get_news_articles(cache=False):\n",
    "    '''\n",
    "    This function uses a cache parameter with default cache == False to give the option of \n",
    "    returning in a df of inshorts topics and info by reading a csv file or\n",
    "    of doing a fresh scrape of inshort pages with topics business, sports, technology,\n",
    "    and entertainment and writing the returned df to a csv file.\n",
    "    '''\n",
    "    # default to read in a csv instead of scrape for df\n",
    "    if cache == False:\n",
    "        df = pd.read_csv('articles.csv', index_col=0)\n",
    "        \n",
    "    # cache == True completes a fresh scrape for df    \n",
    "    else:\n",
    "    \n",
    "        # Set base_url that will be used in get request\n",
    "\n",
    "        base_url = 'https://inshorts.com/en/read/'\n",
    "\n",
    "        topics = ['business', 'sports', 'technology', 'entertainment']\n",
    "\n",
    "        # Create an empty list, articles, to hold our dictionaries\n",
    "        articles = []\n",
    "\n",
    "        for topic in topics:\n",
    "\n",
    "            # Get a response object from the main inshorts page\n",
    "            response = get(base_url + topic)\n",
    "\n",
    "            # Create soup object using response from inshort\n",
    "            soup = BeautifulSoup(response.text, 'html.parser')\n",
    "\n",
    "\n",
    "            # Scrape a ResultSet of all the news cards on the page\n",
    "            cards = soup.find_all('div', class_='news-card')\n",
    "\n",
    "            # Loop through each news card on the page and get what we want\n",
    "            for card in cards:\n",
    "                title = card.find('span', itemprop='headline' ).text\n",
    "                author = card.find('span', class_='author').text\n",
    "                content = card.find('div', itemprop='articleBody').text\n",
    "\n",
    "                # Create a dictionary, article, for each news card\n",
    "                article = ({'topic': topic, \n",
    "                            'title': title, \n",
    "                            'author': author, \n",
    "                            'content': content})\n",
    "\n",
    "                # Add the dictionary, article, to our list of dictionaries, articles.\n",
    "                articles.append(article)\n",
    "            \n",
    "        # Why not return it as a DataFrame?!\n",
    "        df = pd.DataFrame(articles)\n",
    "        \n",
    "        # Write df to csv for future use\n",
    "        df.to_csv('articles.csv')\n",
    "    \n",
    "    return df"
   ]
  },
  {
   "cell_type": "code",
   "execution_count": 31,
   "metadata": {},
   "outputs": [
    {
     "data": {
      "text/html": [
       "<div>\n",
       "<style scoped>\n",
       "    .dataframe tbody tr th:only-of-type {\n",
       "        vertical-align: middle;\n",
       "    }\n",
       "\n",
       "    .dataframe tbody tr th {\n",
       "        vertical-align: top;\n",
       "    }\n",
       "\n",
       "    .dataframe thead th {\n",
       "        text-align: right;\n",
       "    }\n",
       "</style>\n",
       "<table border=\"1\" class=\"dataframe\">\n",
       "  <thead>\n",
       "    <tr style=\"text-align: right;\">\n",
       "      <th></th>\n",
       "      <th>topic</th>\n",
       "      <th>title</th>\n",
       "      <th>author</th>\n",
       "      <th>content</th>\n",
       "    </tr>\n",
       "  </thead>\n",
       "  <tbody>\n",
       "    <tr>\n",
       "      <th>0</th>\n",
       "      <td>business</td>\n",
       "      <td>3 employees at Hyundai's Chennai plant test po...</td>\n",
       "      <td>Pragya Swastik</td>\n",
       "      <td>Hyundai Motor India on Sunday said its three e...</td>\n",
       "    </tr>\n",
       "    <tr>\n",
       "      <th>1</th>\n",
       "      <td>business</td>\n",
       "      <td>CEO of New Zealand media outlet Stuff buys the...</td>\n",
       "      <td>Dharna</td>\n",
       "      <td>Sinead Boucher, the CEO of New Zealand-based m...</td>\n",
       "    </tr>\n",
       "    <tr>\n",
       "      <th>2</th>\n",
       "      <td>business</td>\n",
       "      <td>Lockdown extensions won't help, cases will con...</td>\n",
       "      <td>Anushka Dixit</td>\n",
       "      <td>Mahindra Group Chairman Anand Mahindra said th...</td>\n",
       "    </tr>\n",
       "    <tr>\n",
       "      <th>3</th>\n",
       "      <td>business</td>\n",
       "      <td>102-year-old car rental firm Hertz files for b...</td>\n",
       "      <td>Dharna</td>\n",
       "      <td>Global car rental company Hertz has filed for ...</td>\n",
       "    </tr>\n",
       "    <tr>\n",
       "      <th>4</th>\n",
       "      <td>business</td>\n",
       "      <td>Jeff Bezos, Zuckerberg highest-earning billion...</td>\n",
       "      <td>Pragya Swastik</td>\n",
       "      <td>Amazon CEO Jeff Bezos and Facebook CEO Mark Zu...</td>\n",
       "    </tr>\n",
       "  </tbody>\n",
       "</table>\n",
       "</div>"
      ],
      "text/plain": [
       "      topic                                              title  \\\n",
       "0  business  3 employees at Hyundai's Chennai plant test po...   \n",
       "1  business  CEO of New Zealand media outlet Stuff buys the...   \n",
       "2  business  Lockdown extensions won't help, cases will con...   \n",
       "3  business  102-year-old car rental firm Hertz files for b...   \n",
       "4  business  Jeff Bezos, Zuckerberg highest-earning billion...   \n",
       "\n",
       "           author                                            content  \n",
       "0  Pragya Swastik  Hyundai Motor India on Sunday said its three e...  \n",
       "1          Dharna  Sinead Boucher, the CEO of New Zealand-based m...  \n",
       "2   Anushka Dixit  Mahindra Group Chairman Anand Mahindra said th...  \n",
       "3          Dharna  Global car rental company Hertz has filed for ...  \n",
       "4  Pragya Swastik  Amazon CEO Jeff Bezos and Facebook CEO Mark Zu...  "
      ]
     },
     "execution_count": 31,
     "metadata": {},
     "output_type": "execute_result"
    }
   ],
   "source": [
    "df = get_news_articles(cache=True)\n",
    "df.head()"
   ]
  },
  {
   "cell_type": "code",
   "execution_count": 32,
   "metadata": {},
   "outputs": [
    {
     "data": {
      "text/plain": [
       "sports           25\n",
       "entertainment    25\n",
       "business         25\n",
       "technology       24\n",
       "Name: topic, dtype: int64"
      ]
     },
     "execution_count": 32,
     "metadata": {},
     "output_type": "execute_result"
    }
   ],
   "source": [
    "df.topic.value_counts()"
   ]
  },
  {
   "cell_type": "code",
   "execution_count": 33,
   "metadata": {},
   "outputs": [
    {
     "name": "stdout",
     "output_type": "stream",
     "text": [
      "<class 'pandas.core.frame.DataFrame'>\n",
      "RangeIndex: 99 entries, 0 to 98\n",
      "Data columns (total 4 columns):\n",
      " #   Column   Non-Null Count  Dtype \n",
      "---  ------   --------------  ----- \n",
      " 0   topic    99 non-null     object\n",
      " 1   title    99 non-null     object\n",
      " 2   author   99 non-null     object\n",
      " 3   content  99 non-null     object\n",
      "dtypes: object(4)\n",
      "memory usage: 3.2+ KB\n"
     ]
    }
   ],
   "source": [
    "df.info()"
   ]
  },
  {
   "cell_type": "code",
   "execution_count": 34,
   "metadata": {},
   "outputs": [
    {
     "data": {
      "text/html": [
       "<div>\n",
       "<style scoped>\n",
       "    .dataframe tbody tr th:only-of-type {\n",
       "        vertical-align: middle;\n",
       "    }\n",
       "\n",
       "    .dataframe tbody tr th {\n",
       "        vertical-align: top;\n",
       "    }\n",
       "\n",
       "    .dataframe thead th {\n",
       "        text-align: right;\n",
       "    }\n",
       "</style>\n",
       "<table border=\"1\" class=\"dataframe\">\n",
       "  <thead>\n",
       "    <tr style=\"text-align: right;\">\n",
       "      <th></th>\n",
       "      <th>topic</th>\n",
       "      <th>title</th>\n",
       "      <th>author</th>\n",
       "      <th>content</th>\n",
       "    </tr>\n",
       "  </thead>\n",
       "  <tbody>\n",
       "    <tr>\n",
       "      <th>0</th>\n",
       "      <td>business</td>\n",
       "      <td>3 employees at Hyundai's Chennai plant test po...</td>\n",
       "      <td>Pragya Swastik</td>\n",
       "      <td>Hyundai Motor India on Sunday said its three e...</td>\n",
       "    </tr>\n",
       "    <tr>\n",
       "      <th>1</th>\n",
       "      <td>business</td>\n",
       "      <td>CEO of New Zealand media outlet Stuff buys the...</td>\n",
       "      <td>Dharna</td>\n",
       "      <td>Sinead Boucher, the CEO of New Zealand-based m...</td>\n",
       "    </tr>\n",
       "    <tr>\n",
       "      <th>2</th>\n",
       "      <td>business</td>\n",
       "      <td>Lockdown extensions won't help, cases will con...</td>\n",
       "      <td>Anushka Dixit</td>\n",
       "      <td>Mahindra Group Chairman Anand Mahindra said th...</td>\n",
       "    </tr>\n",
       "    <tr>\n",
       "      <th>3</th>\n",
       "      <td>business</td>\n",
       "      <td>102-year-old car rental firm Hertz files for b...</td>\n",
       "      <td>Dharna</td>\n",
       "      <td>Global car rental company Hertz has filed for ...</td>\n",
       "    </tr>\n",
       "    <tr>\n",
       "      <th>4</th>\n",
       "      <td>business</td>\n",
       "      <td>Jeff Bezos, Zuckerberg highest-earning billion...</td>\n",
       "      <td>Pragya Swastik</td>\n",
       "      <td>Amazon CEO Jeff Bezos and Facebook CEO Mark Zu...</td>\n",
       "    </tr>\n",
       "  </tbody>\n",
       "</table>\n",
       "</div>"
      ],
      "text/plain": [
       "      topic                                              title  \\\n",
       "0  business  3 employees at Hyundai's Chennai plant test po...   \n",
       "1  business  CEO of New Zealand media outlet Stuff buys the...   \n",
       "2  business  Lockdown extensions won't help, cases will con...   \n",
       "3  business  102-year-old car rental firm Hertz files for b...   \n",
       "4  business  Jeff Bezos, Zuckerberg highest-earning billion...   \n",
       "\n",
       "           author                                            content  \n",
       "0  Pragya Swastik  Hyundai Motor India on Sunday said its three e...  \n",
       "1          Dharna  Sinead Boucher, the CEO of New Zealand-based m...  \n",
       "2   Anushka Dixit  Mahindra Group Chairman Anand Mahindra said th...  \n",
       "3          Dharna  Global car rental company Hertz has filed for ...  \n",
       "4  Pragya Swastik  Amazon CEO Jeff Bezos and Facebook CEO Mark Zu...  "
      ]
     },
     "execution_count": 34,
     "metadata": {},
     "output_type": "execute_result"
    }
   ],
   "source": [
    "df = get_news_articles(cache=False)\n",
    "df.head()"
   ]
  },
  {
   "cell_type": "code",
   "execution_count": 35,
   "metadata": {},
   "outputs": [
    {
     "name": "stdout",
     "output_type": "stream",
     "text": [
      "<class 'pandas.core.frame.DataFrame'>\n",
      "Int64Index: 99 entries, 0 to 98\n",
      "Data columns (total 4 columns):\n",
      " #   Column   Non-Null Count  Dtype \n",
      "---  ------   --------------  ----- \n",
      " 0   topic    99 non-null     object\n",
      " 1   title    99 non-null     object\n",
      " 2   author   99 non-null     object\n",
      " 3   content  99 non-null     object\n",
      "dtypes: object(4)\n",
      "memory usage: 3.9+ KB\n"
     ]
    }
   ],
   "source": [
    "df.info()"
   ]
  }
 ],
 "metadata": {
  "kernelspec": {
   "display_name": "Python 3",
   "language": "python",
   "name": "python3"
  },
  "language_info": {
   "codemirror_mode": {
    "name": "ipython",
    "version": 3
   },
   "file_extension": ".py",
   "mimetype": "text/x-python",
   "name": "python",
   "nbconvert_exporter": "python",
   "pygments_lexer": "ipython3",
   "version": "3.7.4"
  },
  "toc": {
   "base_numbering": 1,
   "nav_menu": {},
   "number_sections": true,
   "sideBar": true,
   "skip_h1_title": true,
   "title_cell": "Table of Contents",
   "title_sidebar": "Contents",
   "toc_cell": true,
   "toc_position": {
    "height": "calc(100% - 180px)",
    "left": "10px",
    "top": "150px",
    "width": "200px"
   },
   "toc_section_display": true,
   "toc_window_display": true
  }
 },
 "nbformat": 4,
 "nbformat_minor": 4
}

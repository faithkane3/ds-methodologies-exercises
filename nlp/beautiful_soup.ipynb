{
 "cells": [
  {
   "cell_type": "markdown",
   "metadata": {
    "toc": true
   },
   "source": [
    "<h1>Table of Contents<span class=\"tocSkip\"></span></h1>\n",
    "<div class=\"toc\"><ul class=\"toc-item\"><li><span><a href=\"#Beautiful-Soup---Web-Scraping\" data-toc-modified-id=\"Beautiful-Soup---Web-Scraping-1\"><span class=\"toc-item-num\">1&nbsp;&nbsp;</span>Beautiful Soup - Web Scraping</a></span><ul class=\"toc-item\"><li><span><a href=\"#What-is-Beautiful-Soup?\" data-toc-modified-id=\"What-is-Beautiful-Soup?-1.1\"><span class=\"toc-item-num\">1.1&nbsp;&nbsp;</span><strong><font color=\"red\">What is Beautiful Soup?</font></strong></a></span></li><li><span><a href=\"#So-What-Do-I-Do-With-Beautiful-Soup?\" data-toc-modified-id=\"So-What-Do-I-Do-With-Beautiful-Soup?-1.2\"><span class=\"toc-item-num\">1.2&nbsp;&nbsp;</span><strong><font color=\"orange\">So What Do I Do With Beautiful Soup?</font></strong></a></span><ul class=\"toc-item\"><li><span><a href=\"#HTML-Elements\" data-toc-modified-id=\"HTML-Elements-1.2.1\"><span class=\"toc-item-num\">1.2.1&nbsp;&nbsp;</span><strong><font color=\"purple\">HTML Elements</font></strong></a></span></li><li><span><a href=\"#HTML-Terms\" data-toc-modified-id=\"HTML-Terms-1.2.2\"><span class=\"toc-item-num\">1.2.2&nbsp;&nbsp;</span><strong><font color=\"purple\">HTML Terms</font></strong></a></span></li><li><span><a href=\"#HTML-Properties-and-Attributes\" data-toc-modified-id=\"HTML-Properties-and-Attributes-1.2.3\"><span class=\"toc-item-num\">1.2.3&nbsp;&nbsp;</span><strong><font color=\"purple\">HTML Properties and Attributes</font></strong></a></span></li></ul></li><li><span><a href=\"#Now-What?\" data-toc-modified-id=\"Now-What?-1.3\"><span class=\"toc-item-num\">1.3&nbsp;&nbsp;</span><strong><font color=\"green\">Now What?</font></strong></a></span></li><li><span><a href=\"#Codeup-Blogs\" data-toc-modified-id=\"Codeup-Blogs-1.4\"><span class=\"toc-item-num\">1.4&nbsp;&nbsp;</span><strong><font color=\"blue\">Codeup Blogs</font></strong></a></span><ul class=\"toc-item\"><li><span><a href=\"#Grab-Title-from-Page\" data-toc-modified-id=\"Grab-Title-from-Page-1.4.1\"><span class=\"toc-item-num\">1.4.1&nbsp;&nbsp;</span><strong><font color=\"purple\">Grab Title from Page</font></strong></a></span></li><li><span><a href=\"#Grab-Text-from-Page\" data-toc-modified-id=\"Grab-Text-from-Page-1.4.2\"><span class=\"toc-item-num\">1.4.2&nbsp;&nbsp;</span><strong><font color=\"purple\">Grab Text from Page</font></strong></a></span></li><li><span><a href=\"#Build-Blog-Function\" data-toc-modified-id=\"Build-Blog-Function-1.4.3\"><span class=\"toc-item-num\">1.4.3&nbsp;&nbsp;</span><strong><font color=\"purple\">Build Blog Function</font></strong></a></span></li><li><span><a href=\"#Test-Function\" data-toc-modified-id=\"Test-Function-1.4.4\"><span class=\"toc-item-num\">1.4.4&nbsp;&nbsp;</span><strong><font color=\"purple\">Test Function</font></strong></a></span></li><li><span><a href=\"#Bonus-URL-Scrape\" data-toc-modified-id=\"Bonus-URL-Scrape-1.4.5\"><span class=\"toc-item-num\">1.4.5&nbsp;&nbsp;</span><strong><font color=\"purple\">Bonus URL Scrape</font></strong></a></span></li><li><span><a href=\"#Bonus-URL-Function\" data-toc-modified-id=\"Bonus-URL-Function-1.4.6\"><span class=\"toc-item-num\">1.4.6&nbsp;&nbsp;</span><strong><font color=\"purple\">Bonus URL Function</font></strong></a></span></li></ul></li><li><span><a href=\"#Inshorts-News-Articles\" data-toc-modified-id=\"Inshorts-News-Articles-1.5\"><span class=\"toc-item-num\">1.5&nbsp;&nbsp;</span><strong><font color=\"blue\">Inshorts News Articles</font></strong></a></span></li></ul></li></ul></div>"
   ]
  },
  {
   "cell_type": "code",
   "execution_count": 1,
   "metadata": {},
   "outputs": [],
   "source": [
    "import pandas as pd\n",
    "import numpy as np\n",
    "import matplotlib.pyplot as plt\n",
    "%matplotlib inline\n",
    "\n",
    "from requests import get\n",
    "import re\n",
    "from bs4 import BeautifulSoup\n",
    "import os"
   ]
  },
  {
   "cell_type": "markdown",
   "metadata": {},
   "source": [
    "### Beautiful Soup - Web Scraping\n",
    "\n",
    "#### **<font color=red>What is Beautiful Soup?</font>**\n",
    "\n",
    "\n",
    "\n",
    "#### **<font color=orange>So What Do I Do With Beautiful Soup?</font>**\n",
    "\n",
    "Here, we are looking to retrieve content from a web page, but the web page is written in HTML (HyperText Markup Language), so we need a basic understanding of the different HTML elements used to create web pages.\n",
    "\n",
    "##### **<font color=purple>HTML Elements</font>**\n",
    "\n",
    "`<html>` tag identifies all contents as html\n",
    "\n",
    "`<head>` tag contains data about the title of the web page\n",
    "\n",
    "`<body>` tag contains the main content of the web page\n",
    "\n",
    "`<p>` or paragraph tag creates new pargraphs of text\n",
    "\n",
    "`<a>` tag (tell the browser to render a link). `<a>` tags use the `href` property to tell the link where to go.\n",
    "\n",
    "`<div>` tag indentifies a division of the page\n",
    "\n",
    "`<b>` tag bolds the text inside\n",
    "\n",
    "`<i>` tag italicizes the text inside\n",
    "\n",
    "`<table>` tag creates a table\n",
    "\n",
    "`<form>` tag creates an input form\n",
    "   \n",
    "><font color=purple>The tags are nested inside of the main html tag like you see below.</font>\n",
    "\n",
    "```html\n",
    "<html>\n",
    "    <head>\n",
    "    </head>\n",
    "    <body>\n",
    "    <p>\n",
    "        <a href = \"link\", id='name_of_link'>\n",
    "    </p>\n",
    "    <p class=''>\n",
    "    </p>\n",
    "    </body>\n",
    "</html>\n",
    "```\n",
    "\n",
    "##### **<font color=purple>HTML Terms</font>**\n",
    "\n",
    "**child** -> a tag inside of another tag. The `<p>` tags above are children of the `<body>` tag.\n",
    "\n",
    "**parent** -> the tag another tag is inside of. The `<body>` tag is the parent of the `<p>` tag.\n",
    "\n",
    "**sibling** -> a tag that is nested inside the same parent tag as another tag. The two `<p>` tags are siblings tags inside of the `<body>` tag.\n",
    "\n",
    "##### **<font color=purple>HTML Properties and Attributes</font>**\n",
    "\n",
    "These are optional, but they make the HTML elements easier to work with because they give the elements names. You will have to examine a web page to find out if it uses these properties.\n",
    "\n",
    "`class` is a property of an HTML element. One element can have multiple classes and elements can share the same classes, so classes cannot be used as unique identifiers.\n",
    "\n",
    "`id` is a property of an HTML element. Each element can only have one id, so they can be used as unique identifiers.\n",
    "\n",
    "`itemprop` is an attribute that consists of a name-value pair and is used to add properties to an item.\n",
    "\n",
    "#### **<font color=green>Now What?</font>**\n",
    "\n",
    "We will need to use the `requests` library to retrieve the HTML from a web page we want to scrape. You can review how to use the `requests` library in my notebook [here](https://faithkane3.github.io/time_series_review/time_series_review).\n",
    "\n",
    "Next, we will inspect the structure of the web page by right-clicking on the page we want to scrape and clicking 'inspect'. This will allow us to move our cursor over the part of the page we want to scrape and see the responsible HTML code for that section high-lighted on the right. We can use the tag and its properties with `BeautifulSoup` to `soup.find(name=tag)`\n",
    "\n",
    "We will need to use `BeautifulSoup` to parse the HTML response to our request. \n",
    "\n"
   ]
  },
  {
   "cell_type": "code",
   "execution_count": 2,
   "metadata": {},
   "outputs": [
    {
     "data": {
      "text/plain": [
       "True"
      ]
     },
     "execution_count": 2,
     "metadata": {},
     "output_type": "execute_result"
    }
   ],
   "source": [
    "url = 'https://codeup.com/codeups-data-science-career-accelerator-is-here/'\n",
    "headers = {'User-Agent': 'Codeup Bayes Data Science'} \n",
    "    \n",
    "response = get(url, headers=headers)\n",
    "response.ok"
   ]
  },
  {
   "cell_type": "code",
   "execution_count": 3,
   "metadata": {},
   "outputs": [
    {
     "name": "stdout",
     "output_type": "stream",
     "text": [
      "<class 'str'>\n"
     ]
    }
   ],
   "source": [
    "# Here's our long string; we'll use this to make our soup object\n",
    "\n",
    "print(type(response.text))"
   ]
  },
  {
   "cell_type": "code",
   "execution_count": 4,
   "metadata": {},
   "outputs": [
    {
     "name": "stdout",
     "output_type": "stream",
     "text": [
      "<class 'bs4.BeautifulSoup'>\n"
     ]
    }
   ],
   "source": [
    "# Use BeautifulSoup using our response string\n",
    "\n",
    "soup = BeautifulSoup(response.text, 'html.parser')\n",
    "\n",
    "# Now we have our BeautifulSoup object, we can use its built-in methods and properties\n",
    "\n",
    "print(type(soup))"
   ]
  },
  {
   "cell_type": "markdown",
   "metadata": {},
   "source": [
    "#### **<font color=blue>Codeup Blogs</font>**\n",
    "\n",
    "**Goals:** Write a function to scrape urls from main Codeup blog web page and write a function that returns a dictionary of blog titles and text for each blog page. \n",
    "\n",
    "##### **<font color=purple>Grab Title from Page</font>**"
   ]
  },
  {
   "cell_type": "code",
   "execution_count": 5,
   "metadata": {},
   "outputs": [
    {
     "name": "stdout",
     "output_type": "stream",
     "text": [
      "Codeup’s Data Science Career Accelerator is Here!\n"
     ]
    }
   ],
   "source": [
    "# I will use the find method on my soup passing in \n",
    "\n",
    "title = soup.find('h1', itemprop='headline' ).get_text()\n",
    "print(title)"
   ]
  },
  {
   "cell_type": "code",
   "execution_count": 6,
   "metadata": {},
   "outputs": [
    {
     "name": "stdout",
     "output_type": "stream",
     "text": [
      "<class 'str'>\n"
     ]
    }
   ],
   "source": [
    "print(type(title))"
   ]
  },
  {
   "cell_type": "markdown",
   "metadata": {},
   "source": [
    "##### **<font color=purple>Grab Text from Page</font>**"
   ]
  },
  {
   "cell_type": "code",
   "execution_count": 7,
   "metadata": {},
   "outputs": [
    {
     "name": "stdout",
     "output_type": "stream",
     "text": [
      "The rumors are true! The time has arrived. Codeup has officially opened applications to our new Data Science career accelerator, with only 25 seats available! This immersive program is one of a kind in San Antonio, and will help you land a job in Glassdoor’s #1 Best Job in America.Data Science is a method of providing actionable intelligence from data. The data revolution has hit San Antonio, resulting in an explosion in Data Scientist positions across companies like USAA, Accenture, Booz Allen Hamilton, and HEB. We’ve even seen UTSA invest $70 M for a Cybersecurity Center and School of Data Science. We built a program to specifically meet the growing demands of this industry.Our program will be 18 weeks long, full-time, hands-on, and project-based. Our curriculum development and instruction is led by Senior Data Scientist, Maggie Giust, who has worked at HEB, Capital Group, and Rackspace, along with input from dozens of practitioners and hiring partners. Students will work with real data sets, realistic problems, and the entire data science pipeline from collection to deployment. They will receive professional development training in resume writing, interviewing, and continuing education to prepare for a smooth transition to the workforce.We focus on applied data science for immediate impact and ROI in a business, which is how we can back it all up with a 6 month tuition refund guarantee – just like our existing Web Dev program. We’re focusing on Data Science with Python, SQL, and ML, covered in 14 modules: 1) Fundamentals; 2) Applied statistics; 3) SQL; 4) Python; 5) Supervised machine learning – regression; 6) Supervised machine learning – classification; 7) Unsupervised machine learning – clustering; 8) Time series analysis; 9) Anomaly detection; 10) Natural language processing; 11) Distributed machine learning; 12) Advanced topics (deep learning, NoSQL, cloud deployment, etc.); 13) Storytelling with data; and 14) Domain expertise development.Applications are now open for Codeup’s first Data Science cohort, which will start class on February 4, 2019. Hurry – there are only 25 seats available! To further our mission of cultivating inclusive growth, scholarships will be available to women, minorities, LGBTQIA+ individuals, veterans, first responders, and people relocating to San Antonio.If you want to learn about joining our program or hiring our graduates, email datascience@codeup.com!\n"
     ]
    }
   ],
   "source": [
    "article = soup.find('div', itemprop='text').get_text()\n",
    "print(article)"
   ]
  },
  {
   "cell_type": "code",
   "execution_count": 8,
   "metadata": {},
   "outputs": [
    {
     "name": "stdout",
     "output_type": "stream",
     "text": [
      "<class 'str'>\n"
     ]
    }
   ],
   "source": [
    "print(type(article))"
   ]
  },
  {
   "cell_type": "markdown",
   "metadata": {},
   "source": [
    "##### **<font color=purple>Build Blog Function</font>**"
   ]
  },
  {
   "cell_type": "code",
   "execution_count": 9,
   "metadata": {},
   "outputs": [],
   "source": [
    "urls = ['https://codeup.com/codeups-data-science-career-accelerator-is-here/',\n",
    "            'https://codeup.com/data-science-myths/',\n",
    "            'https://codeup.com/data-science-vs-data-analytics-whats-the-difference/',\n",
    "            'https://codeup.com/10-tips-to-crush-it-at-the-sa-tech-job-fair/',\n",
    "            'https://codeup.com/competitor-bootcamps-are-closing-is-the-model-in-danger/']\n",
    "\n",
    "def get_blog_articles(urls):\n",
    "    '''\n",
    "    This function takes in a list of Codeup Blog urls and a dictionary headers \n",
    "    and scrapes the title and text for each url returning a list of dictionaries\n",
    "    with the title and text for each blog.\n",
    "    '''\n",
    "    headers = {'User-Agent': 'Codeup Bayes Data Science'} \n",
    "    \n",
    "    # Create an empty list to hold dictionaries\n",
    "    articles = []\n",
    "    \n",
    "    # Loop through each url in our list of urls\n",
    "    for url in urls:\n",
    "        \n",
    "        # get request to each url saved in response\n",
    "        response = get(url, headers=headers)\n",
    "        \n",
    "        # Create soup object from response text and parse\n",
    "        soup = BeautifulSoup(response.text, 'html.parser')\n",
    "        \n",
    "        # Save the title of each blog in variable title\n",
    "        title = soup.find('h1', itemprop='headline' ).get_text()\n",
    "        \n",
    "        # Save the text in each blog to variable text\n",
    "        text = soup.find('div', itemprop='text').get_text()\n",
    "        \n",
    "        # Create a dictionary holding the title and text for each blog\n",
    "        article = {'title': title, 'content': text}\n",
    "        \n",
    "        # Add each dictionary to the articles list of dictionaries\n",
    "        articles.append(article)\n",
    "        \n",
    "    return articles"
   ]
  },
  {
   "cell_type": "markdown",
   "metadata": {},
   "source": [
    "##### **<font color=purple>Test Function</font>**"
   ]
  },
  {
   "cell_type": "code",
   "execution_count": 10,
   "metadata": {},
   "outputs": [
    {
     "data": {
      "text/plain": [
       "[{'title': 'Codeup’s Data Science Career Accelerator is Here!',\n",
       "  'content': 'The rumors are true! The time has arrived. Codeup has officially opened applications to our new Data Science career accelerator, with only 25 seats available! This immersive program is one of a kind in San Antonio, and will help you land a job in\\xa0Glassdoor’s #1 Best Job in America.Data Science is a method of providing actionable intelligence from data.\\xa0The data revolution has hit San Antonio,\\xa0resulting in an explosion in Data Scientist positions\\xa0across companies like USAA, Accenture, Booz Allen Hamilton, and HEB. We’ve even seen\\xa0UTSA invest $70 M for a Cybersecurity Center and School of Data Science.\\xa0We built a program to specifically meet the growing demands of this industry.Our program will be 18 weeks long, full-time, hands-on, and project-based. Our curriculum development and instruction is led by Senior Data Scientist, Maggie Giust, who has worked at HEB, Capital Group, and Rackspace, along with input from dozens of practitioners and hiring partners. Students will work with real data sets, realistic problems, and the entire data science pipeline from collection to deployment. They will receive professional development training in resume writing, interviewing, and continuing education to prepare for a smooth transition to the workforce.We focus on applied data science for immediate impact and ROI in a business, which is how we can back it all up with a 6 month tuition refund guarantee – just like our existing Web Dev program. We’re focusing on Data Science with Python, SQL, and ML, covered in\\xa014 modules: 1) Fundamentals; 2) Applied statistics; 3) SQL; 4) Python; 5) Supervised machine learning – regression; 6) Supervised machine learning – classification; 7) Unsupervised machine learning – clustering; 8) Time series analysis; 9) Anomaly detection; 10) Natural language processing; 11) Distributed machine learning; 12) Advanced topics (deep learning, NoSQL, cloud deployment, etc.); 13) Storytelling with data; and 14) Domain expertise development.Applications are now open\\xa0for Codeup’s first Data Science cohort, which will start class on February 4, 2019. Hurry – there are only 25 seats available! To further our mission of cultivating inclusive growth, scholarships will be available to women, minorities, LGBTQIA+ individuals, veterans, first responders, and people relocating to San Antonio.If you want to learn about joining our program or hiring our graduates, email datascience@codeup.com!'},\n",
       " {'title': 'Data Science Myths',\n",
       "  'content': 'By Dimitri Antoniou and Maggie GiustData Science, Big Data, Machine Learning, NLP, Neural Networks…these buzzwords have rapidly spread into mainstream use over the last few years. Unfortunately, definitions are varied and sources of truth are limited. Data Scientists are in fact not magical unicorn wizards who can snap their fingers and turn a business around! Today, we’ll take a cue from our favorite Mythbusters to tackle some common myths and misconceptions in the field of Data Science.via GIPHYMyth #1: Data Science = StatisticsAt first glance, this one doesn’t sound unreasonable. Statistics is defined as, “A branch of mathematics dealing with the collection, analysis, interpretation, and presentation of masses of numerical data.” That sounds a lot like our definition of Data Science: a method of drawing actionable intelligence from data. In truth, statistics is actually one small piece of Data Science. As our Senior Data Scientist puts it, “Statistics forces us to make assumptions about the nature of the relationship between variables, the distribution of the data, etc.” In the traditional Data Science venn diagram, you’ll see that math/stats make up ⅓ of a working professional. These are tools and skills to leverage, but data science itself is about drawing intelligence from data.BUSTED via GIPHY\\xa0Myth #2: Data Scientist = Business/Data AnalystThis one is so common that we wrote a whole post about it! These are separate and different roles within the data field. While a data scientist will often do analytics, their spectrum of work is wider. A data analyst will use structured data to create dashboards and KPIs, while a Data Scientist deals with unstructured and messy data for a range of outputs. If they’re interested, business analysts will often progress to data scientists.BUSTEDvia GIPHY\\xa0Myth #3: Data Science = Data ScienceThis one’s tricky, because it’s impossible to either confirm or bust! The ‘myth’ is that one person or company using the term Data Science is not necessarily the same as another person or company using the same term. Depending on organizational capacity, individual experience, educational background, and many other variables, we might be using the same name for different animals.Tl;dr: don’t assume a common understanding across hiring managers, recruiters, and practitioners. Look instead for specifics of tools, techniques, methodologies, and outputs. That being said, this one falls in the “plausible” category, because it may actually be true in some circumstances, while false in others.PLAUSIBLEvia GIPHY\\xa0Myth #4: Data Science curricula are well-defined and consistent.We recommend checking this one out for yourself! A quick google search for bootcamps, master’s degree programs, and online courses will reveal that different organizations teach different things. There is no commonly accepted framework for teaching data science! Some focus more on the engineering, others focus more on machine learning, some think deep learning is foundational, and some prefer to use R. Our curriculum was built through employer interviews, practitioner interviews, market research, and company partnerships. But we’re based in San Antonio! A bootcamp in New York might follow the same process and end up with a different syllabus. Keep in mind, whatever your learning path, that there will be gaps in your learning. The most important thing is to recognize those gaps.BUSTEDvia GIPHY\\xa0Myth #5: If I want to be a data scientist, I just need to learn Python or R.This one is common and dangerous! Just like statistics, programming languages like Python and R are tools. They’re just pieces of a larger puzzle! Knowing Python without understanding the data science pipeline is like knowing how to build a floor without having a floor plan. Of course, these are valuable technical skills that give you a leg up, but they’re second in importance to asking the right questions, knowing what tools to use when, and communicating your findings.BUSTEDvia GIPHYStill have questions? Reach out to us at (210) 802-7289 or DataScience@codeup.com! Want to learn more about Data Science? Check out our recent blog posts at tribucodeup.wpengine.com/blog. And of course, if data science gets you excited, get started with us today at tribucodeup.wpengine.com/apply![rev_slider alias=”footer”][/rev_slider]'},\n",
       " {'title': 'Data Science VS Data Analytics: What’s The Difference?',\n",
       "  'content': 'By Dimitri AntoniouA week ago, Codeup launched our immersive Data Science career accelerator! With our first class kicking off in February and only 25 seats available, we’ve been answering a lot of questions from prospective students. One in particular has come up so many times we decided to dedicate a blog post to it. What is the difference between data science and data analytics?First, let’s define some of our terms! Take a look at this blog to understand what Data Science is. In short, it is a method of turning raw data into action, leading to a desired outcome. Big Data refers to data sets that are large and complex, usually exceeding the capacity of computers and normal processing power to deal with. Machine Learning is the process of ‘learning’ underlying patterns of data in order to automate the extraction of intelligence from that data.Now, let’s look at the data pipeline that data scientists work through to reach the actionable insights and outcomes we mentioned:We start by collecting data, which may come from social media channels, network logs, financials, employee records, or more.We then process that data into usable information stored in databases or streamed.Next, we look back on the history of that data to summarize, describe, and explain, turning the data into meaningful knowledge. Here we’re primarily using mathematics, statistics, and visualization methods.Now we convert that knowledge into intelligence, seeking to predict future events so that we can make decisions in the present. This is where practitioners will introduce mathematical/statistical modeling through machine learning to their data.Finally, we enable action by building automations, running tests, building visualizations, monitoring new data, etc.Data professionals work at different stages of the spectrum to move data through the pipeline. On the left, Big Data Engineers specialize in collecting, storing, and processing data, getting it from Data to Information. In the middle, analysts work to understand and convert that information to knowledge. Lastly, a Machine Learning Engineer utilizes machine learning algorithms to turn intelligence into action by building automations, visualizations, recommendations, and predictions.Data Scientists span multiple stages of this pipeline, from information to action. They will spend about 70% of their time wrangling data in the information stage. They will conduct statistical analysis to derive knowledge. Lastly, they predict future events and build automations using machine learning.For those technical folk out there, data science is to data engineering or machine learning engineering as full-stack development is to front-end or back-end development. For the non-technical folk, data science is the umbrella term that houses data analytics, machine learning, and other data professions.So what’s the biggest difference between a data analyst and a data scientist? Data scientists utilize computer programming and machine learning in addition to mathematics and statistics. Still have questions? Reach out to us at (210) 802-7289 or DataScience@codeup.com! Wondering which of Codeup’s programs is right for you? We’ve got you covered. And of course, if data science gets you excited, get started with us today at tribucodeup.wpengine.com/apply!'},\n",
       " {'title': '10 Tips to Crush It at the SA Tech Job Fair',\n",
       "  'content': '10 Tips to Crush It at the SA Tech Job FairSA Tech Job FairThe third bi-annual San Antonio Tech Job Fair is just around the corner. Over 25 companies will be at The Jack Guenther Pavilion\\xa0on April 10th, and they are hungry for new tech team members!At the job fair, companies want to quickly source a list of new talent leads. AKA they need to find qualified employees they can begin interviewing for jobs. Recruiters will represent their organization at tables with informational handouts and company swag. Your goal at a job fair is to set yourself apart from other candidates and ensure your name makes it to the top of those lead lists.Think of your interaction with the company as a mini screening interview. The company rep will subtly evaluate basic qualities like your professionalism, communication and interpersonal skills, work experience, and interest level in the organization. Job fairs are also an opportunity for you to gain information about companies that may not be easily accessible online. \\xa0At Codeup, we’re passionate about bridging the gap between talent and demand, so we’ve outlined 10 tips to ensure you bring your A-game and leave a lasting impression!10 Tips for Totally Crushing it at the SA Tech Job FairUse keywords to describe your skills, but don’t go overboard. You’ll probably be talking to a recruiter or talent acquisition specialist. As a technical candidate, recognize these individuals usually aren’t developers or network administrators. They know terms like “JavaScript” and “Apache,” but haven’t written a line of code or spun up a server, so don’t get too caught up in industry jargon.Research the companies ahead of time. Review the list of attending companies and make sure you know what the company does and whether or not they hire people in your desired role. Look up recent news on the company and mention it during your conversation.Define your own goals for the job fair. Are you searching for a specific type of role or company culture? What matters most in your job search? Are there companies you want to prioritize? \\xa0Develop a game plan and be intentional with your time.Prepare a stellar résumé. Bring about 20 copies of your résumé to the event, printed on nice paper. We won’t cover resume writing in this post, but there are a plethora of online resources you can consult. For job fairs, don’t worry about cover letters.Polish your online profiles. If recruiters have a copy of your resume, you can be sure they will stalk you online soon. Make sure your online presence is professional and appropriate. A good place to start is by Googling yourself. Update your LinkedIn, and clean up any social media profiles.Craft a 30-60 second elevator pitch. You may only have a few minutes with an employer. What will you say if they ask, “Tell me about yourself?” Consider structuring your pitch like this: Who you are + What you do + What your goals are + Why that matters to the company.Don’t show up in a t-shirt, but trade in your suit for something more chill. Always keep it professional, but remember: tech is typically more casual than other industries. You’ll likely feel out of place if you look like you belong on Wall St., so refer to this guide on dressing for tech interviews.Don’t forget the basics. Start and end each conversation with a firm handshake. Make eye contact while conversing. Smile! Thank the recruiter before you move on to the next table.Ask educated questions. Don’t waste valuable face time with recruiters by asking questions like, “What does [Insert Company here] do?” They hate that question! Instead, try some of these:What are the top 3-5 examples of knowledge, skills, and abilities you look for in candidates?What’s the best advice you have for someone who wants to work here?What is your interview process like?Are you hiring for any roles not currently listed on your websites?Follow up. Collect business cards from each table. The next day, send a short note expressing your interest in the company’s opportunities and thanking the recruiter for his or her time.RSVP for the SA Tech Job Fair taking place at the Jack Guenther Pavilion – September 18th starting at 4 pm.\\xa0'},\n",
       " {'title': 'Competitor Bootcamps Are Closing. Is the Model in Danger?',\n",
       "  'content': 'Competitor Bootcamps Are Closing. Is the Model in Danger?\\xa0Is the programming bootcamp model in danger?In recent news, DevBootcamp and The Iron Yard announced that they are closing their doors. This is big news. DevBootcamp was the first programming bootcamp model and The Iron Yard is a national player with 15 campuses across the U.S. In both cases, the companies cited an unsustainable business model. Does that mean the boot-camp model is dead?tl;dr “Nope!”Bootcamps exist because traditional education models have failed to provide students job-ready skills for the 21st century. Students demand better employment options from their education. Employers demand skilled and job ready candidates. Big Education’s failure to meet those needs through traditional methods created the fertile ground for the new business model of the programming bootcamp.Education giant Kaplan and Apollo Education Group (owner of University of Phoenix) bought their way into this new educational model when they purchased The Iron Yard and DevBootcamp. They purchased their competition with the intent to scale up the model. Unfortunately, Big Education is too habituated to coming up short for students. They bought the upstarts that challenged them, tried making changes to run those bootcamps in the “Big Education” way, and, sadly, they’ve closed the doors when they realized that scaling education is more challenging when student outcomes truly matter.The bootcamp model is still new and there will be plenty consolidation, competition, and changes in the future. This model is based on actually being adaptive, innovative, and sustainable. And there’s always room for innovation.What we’ve learned at Codeup…Education is challenging to scale.Prioritizing quality over growth pays off.What we’re doing at Codeup…Higher standards in our application process are leading to better student outcomes.Our reputation and commitment to quality is opening new doors to previously uninterested/unreachable employers.In the beginning, the majority of Codeup graduates went to work with startups and small businesses. We’re now seeing a larger amount of our graduates place at medium to large sized businesses.Demand is growing and employers are learning that the results are in the graduates.Codeup’s model is sustainable, inclusive, and works.Call or contact us today to see how Codeup’s commitment to quality and approach to being a career accelerator can make a profound difference in your life.'}]"
      ]
     },
     "execution_count": 10,
     "metadata": {},
     "output_type": "execute_result"
    }
   ],
   "source": [
    "articles = get_blog_articles(urls=urls)\n",
    "articles"
   ]
  },
  {
   "cell_type": "markdown",
   "metadata": {},
   "source": [
    "##### **<font color=purple>Bonus URL Scrape</font>**"
   ]
  },
  {
   "cell_type": "code",
   "execution_count": 11,
   "metadata": {},
   "outputs": [],
   "source": [
    "# I'm going to hit Codeup's main blog page to scarpe the urls\n",
    "\n",
    "url = 'https://codeup.com/resources/#blog'\n",
    "headers = {'User-Agent': 'Codeup Bayes Data Science'} \n",
    "\n",
    "response = get(url, headers=headers)\n",
    "soup = BeautifulSoup(response.text, 'html.parser')"
   ]
  },
  {
   "cell_type": "code",
   "execution_count": 12,
   "metadata": {},
   "outputs": [
    {
     "data": {
      "text/plain": [
       "[<a class=\"jet-listing-dynamic-link__link\" href=\"https://codeup.com/how-to-get-started-on-a-programming-exercise/\"><span class=\"jet-listing-dynamic-link__label\">Read More</span></a>,\n",
       " <a class=\"jet-listing-dynamic-link__link\" href=\"https://codeup.com/career-in-data-science/\"><span class=\"jet-listing-dynamic-link__label\">Read More</span></a>]"
      ]
     },
     "execution_count": 12,
     "metadata": {},
     "output_type": "execute_result"
    }
   ],
   "source": [
    "# I'm using class_ to get a list of tag elements from my soup object\n",
    "\n",
    "link_list = soup.find_all(class_=\"jet-listing-dynamic-link__link\")\n",
    "link_list[:2]"
   ]
  },
  {
   "cell_type": "code",
   "execution_count": 13,
   "metadata": {},
   "outputs": [
    {
     "data": {
      "text/plain": [
       "bs4.element.Tag"
      ]
     },
     "execution_count": 13,
     "metadata": {},
     "output_type": "execute_result"
    }
   ],
   "source": [
    "type(link_list[0])"
   ]
  },
  {
   "cell_type": "code",
   "execution_count": 14,
   "metadata": {},
   "outputs": [],
   "source": [
    "# Create empty urls list and for each chunk above, grab the href/link\n",
    "# Add each link to the urls list\n",
    "\n",
    "urls = []\n",
    "for link in link_list:\n",
    "    urls.append(link.get('href'))"
   ]
  },
  {
   "cell_type": "code",
   "execution_count": 15,
   "metadata": {},
   "outputs": [
    {
     "name": "stdout",
     "output_type": "stream",
     "text": [
      "99\n"
     ]
    },
    {
     "data": {
      "text/plain": [
       "['https://codeup.com/how-to-get-started-on-a-programming-exercise/',\n",
       " 'https://codeup.com/career-in-data-science/',\n",
       " 'https://codeup.com/getting-hired-in-a-remote-environment/',\n",
       " 'https://codeup.com/codeup-remote-students/',\n",
       " 'https://codeup.com/covid-relief/',\n",
       " 'https://codeup.com/discovering-my-passion-through-codeup/',\n",
       " 'https://codeup.com/covid-19/',\n",
       " 'https://codeup.com/15-tips-for-virtual-interview-and-meetings/',\n",
       " 'https://codeup.com/setting-myself-up-for-success-at-codeup/',\n",
       " 'https://codeup.com/landing-my-dream-job-through-a-web-development-course/',\n",
       " 'https://codeup.com/a-second-career-start/',\n",
       " 'https://codeup.com/2019-codeup/',\n",
       " 'https://codeup.com/how-to-pick-coding-bootcamp-curriculum/',\n",
       " 'https://codeup.com/your-investment-with-codeup/',\n",
       " 'https://codeup.com/best-path-to-software-development-is-not-a-four-year-degree/',\n",
       " 'https://codeup.com/financial-aid-options/',\n",
       " 'https://codeup.com/software-development-mentors/',\n",
       " 'https://codeup.com/ds-mentors/',\n",
       " 'https://codeup.com/breaking-the-mold-my-journey-to-become-a-software-developer/',\n",
       " 'https://codeup.com/are-coding-schools-regulated-in-texas-it-depends/',\n",
       " 'https://codeup.com/thinking-about-a-bootcamp-to-transition-careers/',\n",
       " 'https://codeup.com/how-i-became-a-software-developer-with-codeup/',\n",
       " 'https://codeup.com/why-i-chose-to-teach-at-codeup/',\n",
       " 'https://codeup.com/how-a-year-of-life-change-lead-me-to-codeup/',\n",
       " 'https://codeup.com/codeup-talks-expanding-its-coding-school-to-all-of-texas-2/',\n",
       " 'https://codeup.com/why-codeup-is-bringing-its-software-bootcamp-to-north-texas/',\n",
       " 'https://codeup.com/how-i-paid-43-for-my-codeup-tuition/',\n",
       " 'https://codeup.com/codeup-dallas-now-taking-applications/',\n",
       " 'https://codeup.com/a-quest-through-codeup/',\n",
       " 'https://codeup.com/quickpath-solving-the-data-science-talent-shortage-with-codeup/',\n",
       " 'https://codeup.com/codeup-set-to-open-dallas-campus/',\n",
       " 'https://codeup.com/local-career-accelerator-program-expanding-to-dallas/',\n",
       " 'https://codeup.com/codeup-set-to-open-coding-school-in-dallas/',\n",
       " 'https://codeup.com/codeup-to-open-dallas-campus-in-2020/',\n",
       " 'https://codeup.com/local-coding-school-expanding-to-dallas/',\n",
       " 'https://codeup.com/codeup-dallas-2020/',\n",
       " 'https://codeup.com/data-science-in-the-real-world/',\n",
       " 'https://codeup.com/a-quest-through-codeup-2/',\n",
       " 'https://codeup.com/from-bootcamp-to-bootcamp-how-i-found-purpose-through-coding/',\n",
       " 'https://codeup.com/5-common-excuses-keeping-you-from-breaking-into-the-tech-field/',\n",
       " 'https://codeup.com/why-san-antonio-has-more-than-tacos-to-offer/',\n",
       " 'https://codeup.com/everyday-encounters-with-data-science/',\n",
       " 'https://codeup.com/codeup-grows-up-5th-birthday-party/',\n",
       " 'https://codeup.com/learn-to-code-workshop-html-css-intro-to-web-development/',\n",
       " 'https://codeup.com/coding-resolutions-for-the-new-year/',\n",
       " 'https://codeup.com/codeup-prepared-career/',\n",
       " 'https://codeup.com/why-im-thankful-for-codeup/',\n",
       " 'https://codeup.com/path-codeup-coding-bootcamps/',\n",
       " 'https://codeup.com/codeup-student-check-in-month-3/',\n",
       " 'https://codeup.com/styling-hair-stying-interfaces/',\n",
       " 'https://codeup.com/from-cooking-steaks-to-cooking-code/',\n",
       " 'https://codeup.com/data-science-myths/',\n",
       " 'https://codeup.com/dont-be-scared-of-coding/',\n",
       " 'https://codeup.com/where-do-data-scientists-come-from/',\n",
       " 'https://codeup.com/data-science-vs-data-analytics-whats-the-difference/',\n",
       " 'https://codeup.com/debugging-with-codey-the-rubber-duck/',\n",
       " 'https://codeup.com/from-the-service-industry-to-software-development/',\n",
       " 'https://codeup.com/codeup-student-check-in-month-2/',\n",
       " 'https://codeup.com/codeups-data-science-career-accelerator-is-here/',\n",
       " 'https://codeup.com/which-program-is-right-for-me/',\n",
       " 'https://codeup.com/from-a-recent-college-grad-to-software-developer/',\n",
       " 'https://codeup.com/5-things-codeup-doesnt-tell-you/',\n",
       " 'https://codeup.com/the-message-behind-our-billboards/',\n",
       " 'https://codeup.com/skills-fund-financing-to-fuel-your-codeup-future/',\n",
       " 'https://codeup.com/what-is-data-science/',\n",
       " 'https://codeup.com/women-in-tech-scholarship-recipient-amy/',\n",
       " 'https://codeup.com/anxious-about-the-job-fair/',\n",
       " 'https://codeup.com/codeup-student-check-in-month-1/',\n",
       " 'https://codeup.com/announcing-our-new-scholarship-minorities-in-tech-scholarship/',\n",
       " 'https://codeup.com/fresh-out-of-codeup-cayden-simler/',\n",
       " 'https://codeup.com/top-trends-and-tools-for-recruiters-in-the-tech-industry/',\n",
       " 'https://codeup.com/all-about-the-alamo-colleges-partnership/',\n",
       " 'https://codeup.com/the-job-fair-is-over-now-what-post-job-fair-tips/',\n",
       " 'https://codeup.com/10-tips-to-crush-it-at-the-sa-tech-job-fair/',\n",
       " 'https://codeup.com/5-hiring-trends-in-software-development/',\n",
       " 'https://codeup.com/what-makes-a-successful-software-developer/',\n",
       " 'https://codeup.com/alumni-spotlight-stefanie-young-and-lorne-barfield/',\n",
       " 'https://codeup.com/alumni-spotlight-mary-kaitlin-mk-warren/',\n",
       " 'https://codeup.com/competitor-bootcamps-are-closing-is-the-model-in-danger/',\n",
       " 'https://codeup.com/codeup-doubles-down-on-transparency-in-student-outcomes/',\n",
       " 'https://codeup.com/the-codeup-commitment-to-your-financial-well-being/',\n",
       " 'https://codeup.com/itt-tech-closes-new-model-of-education-rises/',\n",
       " 'https://codeup.com/codeups-impact-on-the-san-antonio-tech-community/',\n",
       " 'https://codeup.com/bootcamp-living-expenses-codeups-got-you-covered/',\n",
       " 'https://codeup.com/6-tips-for-picking-the-best-coding-bootcamp/',\n",
       " 'https://codeup.com/open-for-bitcoin-business/',\n",
       " 'https://codeup.com/a-guide-to-hiring-fresh-technical-talent/',\n",
       " 'https://codeup.com/dont-worry-heres-the-best-bootcamp-funding-options/',\n",
       " 'https://codeup.com/startup-week-the-little-week-that-could-and-did/',\n",
       " 'https://codeup.com/the-results-are-in-codeup-growsup-was-a-smashing-success/',\n",
       " 'https://codeup.com/codeup-helps-rails-girls-help-women-learn-to-code-in-san-antonio/',\n",
       " 'https://codeup.com/filling-up-fast-with-good-reason/',\n",
       " 'https://codeup.com/codeup-and-launchcode-partner-to-help-grads-launch-careers-in-coding/',\n",
       " 'https://codeup.com/press-release-free-learn-to-code-bootcamp-for-veterans-and-transitioning-servicemembers-launches-in-class-portion/',\n",
       " 'https://codeup.com/what-the-sa-tech-job-fair-says-about-san-antonio/',\n",
       " 'https://codeup.com/why-choose-codeup/',\n",
       " 'https://codeup.com/use-your-texas-unemployment-benefits-at-codeup/',\n",
       " 'https://codeup.com/qa-with-luis-martinez-director-of-entrepreneurship-at-trinity-university/',\n",
       " 'https://codeup.com/exploring-new-domains-icanns-gtld-program/']"
      ]
     },
     "execution_count": 15,
     "metadata": {},
     "output_type": "execute_result"
    }
   ],
   "source": [
    "# Wow, 99 links! Ready to scrape titles and text from each\n",
    "\n",
    "print(len(urls))\n",
    "urls"
   ]
  },
  {
   "cell_type": "markdown",
   "metadata": {},
   "source": [
    "##### **<font color=purple>Bonus URL Function</font>**"
   ]
  },
  {
   "cell_type": "code",
   "execution_count": 16,
   "metadata": {},
   "outputs": [],
   "source": [
    "def get_all_urls():\n",
    "     '''\n",
    "    This function scrapes all of the Codeup blog urls from\n",
    "    the main Codeup blog page and returns a list of urls.\n",
    "    '''\n",
    "    # The main Codeup blog page with all the urls\n",
    "    url = 'https://codeup.com/resources/#blog'\n",
    "    \n",
    "    headers = {'User-Agent': 'Codeup Bayes Data Science'} \n",
    "    \n",
    "    # Send request to main page and get response\n",
    "    response = get(url, headers=headers)\n",
    "    \n",
    "    # Create soup object using response\n",
    "    soup = BeautifulSoup(response.text, 'html.parser')\n",
    "    \n",
    "    # Create empty list to hold the urls for all blogs\n",
    "    urls = []\n",
    "    \n",
    "    # Create a list of the element tags that hold the href/links\n",
    "    link_list = soup.find_all(class_=\"jet-listing-dynamic-link__link\")\n",
    "    \n",
    "    # get the href/link from each element tag in my list\n",
    "    for link in link_list:\n",
    "        \n",
    "        # Add the link to my urls list\n",
    "        urls.append(link.get('href'))\n",
    "        \n",
    "    return urls"
   ]
  },
  {
   "cell_type": "code",
   "execution_count": 17,
   "metadata": {},
   "outputs": [],
   "source": [
    "# Now I can use my same function with my new urls list!\n",
    "\n",
    "big_articles = acquire_blog_articles(urls=get_all_urls())"
   ]
  },
  {
   "cell_type": "code",
   "execution_count": 18,
   "metadata": {},
   "outputs": [
    {
     "data": {
      "text/plain": [
       "99"
      ]
     },
     "execution_count": 18,
     "metadata": {},
     "output_type": "execute_result"
    }
   ],
   "source": [
    "len(big_articles)"
   ]
  },
  {
   "cell_type": "markdown",
   "metadata": {},
   "source": [
    "#### **<font color=blue>Inshorts News Articles</font>**\n",
    "\n",
    "**Goal:**  Write a function that scrapes the news articles for the following topics:\n",
    "\n",
    "- Business\n",
    "\n",
    "\n",
    "- Sports\n",
    "\n",
    "\n",
    "- Technology\n",
    "\n",
    "\n",
    "- Entertainment"
   ]
  },
  {
   "cell_type": "code",
   "execution_count": 34,
   "metadata": {},
   "outputs": [
    {
     "data": {
      "text/plain": [
       "True"
      ]
     },
     "execution_count": 34,
     "metadata": {},
     "output_type": "execute_result"
    }
   ],
   "source": [
    "url = 'https://www.deccanherald.com/national/coronavirus-in-india-news-live-updates-total-cases-deaths-covid-19-tracker-today-worldometer-update-lockdown-40-latest-news-838583.html?utm_campaign=fullarticle&utm_medium=referral&utm_source=inshorts '\n",
    "\n",
    "response = get(url)\n",
    "response.ok"
   ]
  },
  {
   "cell_type": "code",
   "execution_count": 35,
   "metadata": {},
   "outputs": [],
   "source": [
    "soup = BeautifulSoup(response.text, 'html.parser')"
   ]
  },
  {
   "cell_type": "code",
   "execution_count": 37,
   "metadata": {},
   "outputs": [
    {
     "data": {
      "text/plain": [
       "\"Coronavirus news live updates: Mumbai's COVID-19 cases cross 25k-mark; India's tally more than 1.17 lakh\""
      ]
     },
     "execution_count": 37,
     "metadata": {},
     "output_type": "execute_result"
    }
   ],
   "source": [
    "# Save the title of each article to variable title\n",
    "title = soup.find('h1', id='page-title' ).get_text()\n",
    "title"
   ]
  },
  {
   "cell_type": "code",
   "execution_count": null,
   "metadata": {},
   "outputs": [],
   "source": []
  },
  {
   "cell_type": "code",
   "execution_count": 39,
   "metadata": {},
   "outputs": [],
   "source": [
    "# Save the text in each blog to variable text\n",
    "text = soup.find('div', id='main-content').get_text()"
   ]
  },
  {
   "cell_type": "code",
   "execution_count": 40,
   "metadata": {},
   "outputs": [
    {
     "data": {
      "text/plain": [
       "'On the 58th day of the lockdown, with over 5000 new cases recorded in 24 hours, again, India\\'s tally crosses 1,17,400 (1.17 lakh) and the death toll at 3,536. Railways released a list of 200 trains to be run from June 1. Bookings for the train opened at 10 am on the IRCTC website. Union Railways Minister Piyush Goyal said that the ministry will announce the resumption of more trains in upcoming days. Domestic flights are allowed to operate by the MHA. Stay tuned for more updates.21:49The total number of COVID-19 positive cases in the state is 303, till 9pm today: Jharkhand Government21:45Madhya Pradesh reports 248 COVID-19 cases in 24 hours248 new positive cases reported today, taking the total number of positive cases in the state to 5981, of which 2843 patients have been cured and discharged. The death toll stands at 270: Madhya Pradesh Health Department21:38With 212 new cases, Rajasthan\\'s tally reaches 6,227212 COVID-19 positive cases reported in the state today, taking the total number of positive cases to 6227: Rajasthan Health Department21:31Delhi govt sent 1.32 lakh migrants to their hometowns via special trains: Deputy Chief Minister Manish Sisodia21:20Reservation counters, common service centres for booking reserved tickets to open on May 22; zones to identify stations for counters: Rlys21:19Intra-district ST bus services to resume from May 22 in MaharashtraIntra-district ST bus services to resume from May 22 in Maharashtra subject to certain conditions; red zones and COVID-19 containment areas excluded: MSRTC21:1724 new cases reported in Uttarakhand24 new COVID-19 positive cases reported in the state till 8pm today; taking the total number of positive cases in the state is now 146: Uttarakhand Health Department20:37Around 2,300 patients availed free COVID-19 treatment in hospitals under Ayushman Bharat: Official20:35Goa reports 2 new COVID-19 cases2 new COVID-19 positive cases have been reported in Goa today; taking the total number of positive cases to 52: Directorate of Health Services, Goa20:30Jammu and Kashmir reports 59 new COVID-19 cases59 COVID-19 positive cases have been reported in Jammu and Kashmir today; 8 from Jammu division and 51 Kashmir division. Total positive cases stand at 1449, of which 745 cases are active. Death toll stands at 20: Govt of Jammu and Kashmir20:29371 new COVID-19 cases reported in Gujarat371 new COVID-19 positive cases have been reported in Gujarat in the last 24 hours. Total cases in the state stand at 12910, including 5488 cured/discharged and 773 deaths: State Health Department19:56Railways to provide full refund for cancelled tickets for special trains scheduled to run from June 119:55IndiGo to operate 97 repatriation flights between Kerala and Saudi Arabia, Doha, Kuwait and Muscat: IndiGo airlines19:2247 new cases reported in Mumbai\\'s Dharavi47 new positive cases, no death recorded in Mumbai\\'s Dharavi today; the total number of positive patients in the area is now 1425: Brihanmumbai Municipal Corporation19:15Scientists propose new truncated process for developing COVID-19 vaccines at \"pandemic speed\"Scientists have proposed a new truncated process for developing vaccines quickly during a pandemic, with a fast start and many steps executed in parallel before confirming a successful outcome of another step, an approach they claim can help stop the coronavirus crisis.Read more19:05MHA to States*Violations of MHA Guidelines being reported at various places*States/UTs must strictly implement all measures to contain #COVIDー19*Local authorities must take all necessary steps to enforce the guidelines@DeccanHerald pic.twitter.com/5SrUdv1HX0— Shemin (@shemin_joy) May 21, 2020\\n18:38\\xa0\\xa0Over nine lakh stranded migrant workers were sent back to their home states from Gujarat in 633 special Shramik trains: Official18:36Tamil Nadu reports 776 new COVID-19 cases today776 new positive COVID-19 cases & 7 deaths reported in Tamil Nadu today, of which 567 cases are from Chennai. 400 patients have been discharged today: State Health Minister C Vijayabaskar18:01COVID-19 tally in Himachal Pradesh stands at 137The total number of COVID-19 positive cases in the state stands at 137 now, including 51 discharged patients & 3 deaths. The number of active cases is 79: Himachal Pradesh Health Department17:46143 new COVID-19 cases reported in Karnataka in last 24 hours143 new COVID-19 positive cases have been reported in Karnataka from 5 pm yesterday till 5 pm today; taking the total number of positive cases to 1605. There are 992 active cases: Health Department, Karnataka17:39No beds for COVID-19 patients in Mumbai\\'s govt hospitals: FadnavisNo beds for COVID-19 patients in govt hospitals in Mumbai, while half of ICU capacity in private hospitals unoccupied: Devendra Fadnavis17:389 new COVID-19 cases. one death reported in CRPFNine new cases of COVID-19 & one death have been reported in Central Reserve Police Force today, taking a total number of cases to 335 & fatalities to two in the force. 121 jawans are undergoing treatment: CRPF17:24Around 3,099 people recovered from COVID-19 in UPIn last 24 hours, 360 new positive cases have been reported in the state. Active cases stand at 2,130 while 127 deaths have occurred due to COVID-19 and 3,099 people have been cured/discharged till now: Principal Secretary (Health) Amit Mohan Prasad17:21Kerala reports 24 new COVID-19 casesNumber of active cases of COVID-19 rises to 177 in Kerala, with 24 more people testing positive today: Kerala Health Department17:18COVID-19 cases in Chandigarh rise to 216Number of COVID-19 cases rises to 216 in Chandigarh including three deaths. Number of active cases stands at 48: Chandigarh Administration16:49Hyderabad constable dies of COVID-19A 37-year-old police constable in Hyderabad, who was at the frontline of the fight against coronavirus, succumbs to COVID-19 at govt hospital: Official16:48Resumption of sports training to depend on local administration\\'s approval: SAI16:22\\'Aarigya Setu app not mandatory for boarding flights\\'Passengers who don\\'t have Aarogya Setu app can give self-declaration form, will not be stopped from boarding flights: Aviation Minister16:21Private carriers will also join Vande Bharat Mission to repatriate Indians stranded abroad: Aviation Minister16:1696 more COVID-19 cases reported in Bihar96 more positive cases of COVID-19 have been reported in Bihar today, taking the total number of positive cases to 1872: Information and Public Relations Department, Govt. of Bihar15:57Don\\'t know when flight operations will be resumed completely: PuriCan\\'t comment right now on when we would be able to restore flight operations completely: Aviation Minister15:52Coronavirus infections top 5 million worldwideGlobal infections from the novel coronavirus surpassed five million on Thursday as the pandemic played out unevenly across the planet, with China eager to declare a victory, Europe tentatively emerging from its shell and deaths still rising in hotspots in Latin America.AFP15:46Flight routes have been classified into 7 types: Aviation MinFlight routes have been classified into 7 types- 1) Flight time less than 40 minutes, 2) 40 - 60 minutes, 3) 60 - 90 minutes, 4) 90 - 120 minutes, 5) 120 - 150 minutes, 6) 150 - 180 minutes, 7) 180 - 210 minutes. All routes within the country fall within these 7: Civil Aviation Min15:45Social distancing requirement not met even if middle seats in flights are kept vacant, so we will fill up middle seats: Aviation Minister15:33Minimum fare for Delhi-Mumbai route will be Rs 3,500: PuriWe\\'ve set a minimum & a maximum fare. In the case of Delhi, Mumbai the minimum fare would be Rs 3,500 for a journey between 90-120 minutes, the maximum fare would be Rs 10,000. This is operative for 3 months - till one minute to midnight on 24th August: Civil Aviation Minister HS Puri15:32We have divided routes in seven sections for fare control; first section is where flight duration is less than 40 mins: Aviation Minister15:31Only one check-in bag will be allowed while boarding the flight: PuriThe cabin crew will be required to be in full protective gear. Only one check-in bag will be allowed. Passengers should report before at least 2 hours before departure time. Fares will be regulated & will be in a fixed range: Civil Aviation Minister Hardeep Singh Puri15:29Meanwhile, Delhi\\'s COVID-19 tally rises to 11,659Coronavirus death toll in Delhi mounts to 194; a highest single-day spike of 571 fresh cases takes tally to 11,659: Authorities15:25Only one-third flights will be permitted form metro to non-metro cities where weekly departures are more than 100: Aviation Minister15:21Will think about resuming international flights: PuriBased on our experience on opening up of domestic flights, we might have to tweak some procedures, only then we will think about international flights: Civil Aviation Minister Hardeep Singh Puri15:16Lockdown has been effective, coronavirus-related fatality figures of India are one of the lowest in the world: Aviation Minister15:11\"Private carriers will join the effort of bringing back stranded Indians,\" Civil Aviation Minister said\"Have gained more confidence for normalisation of situation,\" Aviation Minister Hardeep Singh Puri.\"Private carriers will join the effort of bringing back stranded Indians,\" he said.\"The clear emphasis of Vande Bharat Mission has been to bring back those genuinely stranded or in distress, not to bring back everyone who want to come,\" the Civil Aviation Minister said.\"In Week 2 of Vande Bharat Mission, we ramped up numbers, made it more than double. We are planning to further increase the number of people to be brought back. BesidesAir India, private carriers too are joining in the effort,\" he said.15:05Aviation Minister Hardeep Singh Puri addresses media over resumption of flights\"Under Vande Bharat Mission, we have brought back more than 20,000 of our citizens who were stranded or in distress in foreign countries,\" said Aviation Minister Hardeep Singh Puri.\"When we announced Vande Bharat Mission on 5th May, we met virtually. The very fact that we are meeting on 21st May physically, it is a reflection of the fact that we have gained more confidence in the normalisation of the situation and resumption,\" he said.15:00DK Shivakumar writes to Chief Minister BS Yediyurappa over Sonia Gandhi\\'s caseKarnataka Congress Chief DK Shivakumar writes to Chief Minister BS Yediyurappa, demanding the withdrawal of the FIR registered against Congress President Sonia Gandhi over the party\\'s tweet regarding PM CARES Fund on May 11.Karnataka Congress Chief DK Shivakumar writes to Chief Minister BS Yediyurappa, demanding the withdrawal of the FIR registered against Congress President Sonia Gandhi over the party\\'s tweet regarding PM CARES Fund on May 11. https://t.co/ZmmYpRsENI pic.twitter.com/3kB17t2sw9— ANI (@ANI) May 21, 2020\\n14:57Coronavirus pandemic may cause long-term health problems: StudyThe life-altering effects of the COVID-19 pandemic are likely to result in lasting physical and mental health consequences for many people worldwide, particularly those from vulnerable populations, according to a study.Read more14:56Case filed against Sonia Gandhi for Congress tweet on PM-CARES FundThe case has been registered under Sections 153 and 505 (1)(B) of the IPC, which relate to wantonly provoking people and inciting them to commit offence against any other class or community.Read more14:55Strides Pharma to conduct trials in India for potential COVID-19 drugIndian pharmaceutical company Strides Pharma Science Ltd said on Thursday it has obtained regulatory approval to conduct clinical trials of antiviral drug favipiravir, a potential treatment for COVID-19.Read more14:32Lockdown relaxations in Mumbai: Home delivery of alcohol allowed in Thane, according to TV reports.14:28Public transport allowed in KarnatakaPublic transport allowed in Karnataka with lockdown 4.0 restrictions, according to reports. No shared autos allowed and social distancing norms to be followed in vehicles.14:23Here are the revised testing guidelines by ICMR13:32Defence sector has faced most pressure: Rajnath Singh\\xa0The manufacturing sector has been the most affected by lockdown and disruption in existing supply chains, defence sector is no exception. Defence sector has faced more pressure compared to other sectors: Defence Minister Rajnath SinghManufacturing sector has been the most affected by lockdown and disruption in existing supply chains, defence sector is no exception. Defence sector has faced more pressure compared to other sectors: Defence Minister Rajnath Singh #COVID19 pic.twitter.com/NWAU2sLa7r— ANI (@ANI) May 21, 2020\\n13:29116 new COVID-19 positive cases reported in Karnataka116 new COVID-19 positive cases reported in Karnataka (from 5 PM y\\'day to 12 PM today), 14 people discharged during this period. Total positive cases in the state rises to 1568, total deaths stand at 41 and a total of 570 people have been discharged so far: Govt of Karnataka13:07Total 200 trains to resume its operation from June 1, railways to announce resumption of more trains in upcoming daysAt 12:00 Hours, 73 trains available in IRCTC online booking system for booking. 149025 tickets booked having 290510 passengers. Total 200 trains to resume its operation from June 1.Railway Minister Piyush Goyal during his conversation with BJP spokesperson Sambit Patra announced that railways will announce the resumption of more trains in the upcoming days. The railways allowed operation of shops at stations. However, only takeaways will be allowed.Train ticket booking will resume at around 1.7 lakh common service centres from Friday across the country. Bookings will also resume at counters of different stations in the next 2-3 days. The railways is developing a protocol in this regard.12:53Rate of COVID-19 outbreak in India: 3% deaths, 58% active cases, 38.73% recovered cases12:50Aviation Ministry issues new rules for domestic flights12:29New rules for domestic flightsAviation Ministry issues general instructions for domestic travellers. Only those passengers with confirmed web check-in will be allowed to enter the airport. Passengers will be required to wear protective gear (face mask). Only one check-in bag will be allowed.Airlines won\\'t provide meal servics in flights. Only passengers with confirmed web check-in can enter airport, no physical check-in at countersPassengers would not be permitted to consume eatables inside the aircraft during the flight. No paper or magazines to be available in the aircraft.Sequential passenger disembarkation to be carried out to ensure social distancing, the ministry said.Passengers to complete the check-in procedure and baggage drop of at least 60 minutes before departure: Ministry of Civil Aviation (MoCA) pic.twitter.com/ZDHQDbPsdE— ANI (@ANI) May 21, 2020\\n12:24Mumbai-linked COVID-19 cases mount in KarnatakaCOVID-19 cases linked to Mumbai, the virus hotspot, continued to mount in old Mysuru and Kalyana Karnataka districts. As many as 51 of the 67 COVID-19 cases reported in the state on Wednesday are with a travel history to Mumbai or other Maharashtra cities.Read more12:23Coronavirus lockdown: Man stranded at Delhi-Ghaziabad border finally boards Shramik train to attend father\\'s funeralAs his father\\'s health worsened, Mohammad Shamshad, 28, made all efforts to rush back to his village in Hardoi district in Uttar Pradesh. But he found all roads that could take him home blocked at the Delhi-Ghaziabad border.Read more12:21Listen | Pandemic Podcast: Trains, domestic flights to restart as coronavirus cases shoot up in IndiaDeccan Herald’s Pandemic Podcast focuses on the COVID-19 situation. In this episode, Dhanyata M Poovaiah brings news highlights that matter to you. DH journalist Akash Sriram brings in DH Fact Check.11:46The IRCTC stock jumped 5 percent in the opening trade to Rs 1,400.70 on the BSE, according to reports11:44Railways to start bookings of 200 regular passenger trains from 10 am today on the IRCTC websiteRailways to start bookings of 200 regular passenger trains from 10 am today on the IRCTC website. No ticket will be sold at any railway station.In a statement, the Indian Railways explained regarding the for glitch in online reservation for 20p special regular trains. The booking was started at 10 am today for trains starting from June 1:As online bookings open at 10 am... There might be teething issues. So many people will log in at the same time and all 200 trains would take time to FIRE up on reservation systems.There would be issues due to weather conditions in Eastern part of India so firing up from those locations would also get impacted. Firing of trains is a time consuming exercise and it means actual loading of all info train journey , it\\'s booking parameters etc on IT system and this is done simultaneously from both the originating zone and terminating zone. Due ro cyclonic conditions in East, the firing from that end is expected to be impacted for some time. All are advised to have patience. Indian Railways is doing this graded restoration to ensure that maximum persons can move in the conditions.10:49Congress slams PM\"Governments sitting in Delhi and Lucknow are not concerned with the poor!I wish Modiji and Yogijicould hear this,\" tweets Congress leader Randeep Singh Surjewala.दिल्ली-लखनऊ में बैठी सरकारों को ग़रीब से नही सरोकार!काश मोदी-योगी जी ये बात सुन पाते ⬇️ pic.twitter.com/ol102gd1tV— Randeep Singh Surjewala (@rssurjewala) May 21, 2020\\n10:21AAI has issued SOPs to all its airports for reopening domestic flight servicesAirports Authority of India (AAI) has issued Standard Operating Procedures (SOP) to all its airports for recommencement of domestic commercial flight operations from 25th May. All passengers must compulsorily be registered with the Aarogya Setu app on their phones as per the SOP.It shall be verified by the Central Industrial Security Force/Airport staff at the entry gate. However, Aarogya Setu is not mandatory for children below the age of 14 years, the AAI said in a statement.10:18One new COVID-19 positive case in AssamOne new COVID-19 positive case confirmed at Barpeta Medical College. The patient is at Kokrajhar Quarantine Centre. Total cases in the state 189, including 48 recovered, 4 deaths and 3 migrated: Assam Health Minister Himanta Biswa SarmaAlert ~ One new #COVID19 positive case confirmed at Barpeta Medical College, where the tests were done. The patient is at Kokrajhar Quarantine Centre.↗️Total cases 189↗️Recovered 48↗️Active cases 134↗️Deaths 04↗️Migrated 03Update 9:20 am / May 21#AssamCovidCount pic.twitter.com/73lMMxIuDC— Himanta Biswa Sarma (@himantabiswa) May 21, 2020\\n10:16Coronavirus: Industries limping back to normalcy with fewer workersWith the government relaxing lockdown restrictions, the industrial activity is limping back to normalcy with about 50-60% of the workforce returning to work.Read more09:51A migrant deboards a train through its emergency window at Danapur station, during the ongoing COVID-19 nationwide lockdown, in Patna, Wednesday, May 20, 2020. (PTI Photo)09:50Chennai: A migrant, from Manipur, carrying a child waits to board a bus to reach Central Railway Station, during the ongoing nationwide COVID-19 lockdown, in Chennai, Wednesday, May 20, 2020. (PTI Photo/R Senthil Kumar)09:4683 more COVID-19 cases and 3 deaths reported in Rajasthan83 more COVID-19 cases and 3 deaths reported in Rajasthan today, as of 9 am. Total number of cases in the state is now at 6098, including 2527 active cases & 150 deaths: State Health Department09:44In Pics: First special Air India flight from Sydney to New Delhi, under Vande Bharat Mission took off today with 224 Indians onboard, says High Commission of India in AustraliaFirst special Air India flight from Sydney to New Delhi, under #VandeBharatMission took off today with 224 Indians onboard: High Commission of India in Australia pic.twitter.com/G1TdqxuLet— ANI (@ANI) May 21, 2020\\n09:14Total number of confirmed positive cases in India reaches 1,12,409; death toll stands at 3,441 as of May 21, according to DH\\'s tally09:01Guidelines for train services from June 1Only passengers with Confirmed tickets shall be allowed to enter the Railway station.Screening to be done before boarding and only asymptomatic passengers are allowed to enter /board the train.Concessions for four categories of Divyangjan concession and 11 categories of patient concessions are permitted in these special trains.On arrival at their destination, the travelling passengers will have to adhere to such health protocols as are prescribed by the destination state/UT.No Linen, blankets and curtains shall be provided inside the train.First chart shall be prepared at least 4 hours before scheduled departure and second chart shall be prepared at least 2 hours((unlike present practice of 30 minutes) before scheduled departure. Only online current booking shall be permitted in between first and second chart preparation.All passengers shall be compulsorily screened and only asymptomatic passengers are allowed to enter /board the train.All passengers must wear face covers/masks at the entry and during travel.The passengers shall reach the station at least 90 minutes in advance to facilitate thermal screening at the station. Only passengers who are found asymptomatic will be permitted to travel.Passengers shall observe social distancing both at the station and on trains.08:58Indian Railways set to resume intrastate services; 2 trains approved in KarnatakaThe Railways is set to resume intrastate services as it approved commencement of two trains in Karnataka from May 22, the South Western Railways said on Wednesday.Read more08:56COVID-19: Controversy on origin of virus resurfaces, thanks to a new studyThe controversy on the origin of the COVID-19 virus has resurfaced, thanks to a new study that found the virus has an unusually high efficiency to bind to the human cells.Read more08:21Here’s how to intern in the COVID-19 eraBusinesses, schools, working professionals, and all societal and economic aspects have been affected due to COVID-19. Like other fields, the education sector is dynamically adapting to the situations dictated by the pandemic.Read more08:17Amphan likely to continue to move north-northeastwardsSevere cyclonic storm Amphan over Bangladesh & adjoining West Bengal coast moved north-northeastwards with a speed of 30 km/ph during the past 6 hours. Very likely to continue to move north-northeastwards & weaken further into a deep depression during the next 3 hours: IMDFollow DH\\'s live coverage of the AMPHAN cyclone here08:1595 new coronavirus positive cases in UP95 new coronavirus positive cases reported in Uttar Pradesh\\'s Barabanki taking the total number of positive cases in the district to 124 including 122 active cases and 2 cured/discharged: District Magistrate Barabanki (ANI)07:22In Pics: Police are checking the temperature using a thermometer gun, of people who have arrived to make purchases at Okhla vegetable marketDelhi: Police are checking the temperature using a thermometer gun, of people who have arrived to make purchases at Okhla vegetable market amid the #CoronavirusPandemic. pic.twitter.com/u38LsgCbAm— ANI (@ANI) May 21, 2020\\n07:08Only online tickets allowed to be booked: Indian RailwaysRailways releases list of 200 trains to be run from June 1, bookings to begin from May 21.These will be fully reserved trains having both AC, non-AC classes; general coaches shall also have reserved seats for sitting, the Indian Railways said.Second seating (2S) fare shall be charged for general coaches being reserved; seat to all passengers, it said.Only online tickets allowed to be booked; advance reservation period shall be max 30 days for trains to be run from June 1, Railways said.RAC, waitlist to be generated but waiting list ticket-holders not permitted to board trains to be run from June 1, said the Indian Railways.Railways will run 200 fully reserved trains with AC/Non-AC coaches, wef 1st juneTickets can only be booked online, 30 days advanceAll coaches including General coach will be fully reservedE-ticket booking on IRCTC website starts at 10 am on 21st Mayhttps://t.co/hsXjIkzpby— Ministry of Railways (@RailMinIndia) May 20, 2020\\n02:22Justin Trudeau puts on mask, Canadians urged to do sameCanadian Prime Minister Justin Trudeau said Wednesday he now wears a face mask in public when social distancing is not possible, as health authorities urged everyone in the country to do the same.Read more02:09Coronavirus deaths top 325,000 worldwide: AFP tallyMore than 325,000 people worldwide have died from the novel coronavirus, three-quarters of them in Europe and the United States, since it broke out in China in December, according to an AFP tally based on official sources at 1800 GMT Wednesday.Read more01:49For every positive COVID-19 test more than 20 negative tests have been done: ICMRFor every positive COVID-19 test more than 20 negative tests have been done, the ICMR said Wednesday, asserting there has been a 1,000-fold increase in the quantum of test per days in the last two months.Read more01:33US diner arrested for shooting cook in face mask rowA would-be diner suspected of shooting a US restaurant employee after he was denied service for refusing to wear a face mask has been arrested for attempted murder, police said Wednesday.Read more01:07Sonowal asks banks to devise plan to maximise credit flow to MSMEsAssam Chief Minister Sarbananda Sonowal Wednesday urged the public and private sector banks of the state to devise a standard operating plan to maximize credit flow to MSMEs and other distressed sectors.Read more00:504 Indian Railways staffers to undergo test after 5 passengers on Delhi-Chennai train found COVID-19 positiveAfter five passengers on a Delhi-Chennai Rajdhani special train were found to be coronavirus positive upon their arrival in the southern city on May 13, four railway staffers have been asked by the national transporter to test for the disease.Read more00:39SAI sends more than a dozen into quarantineAs many as 19 people, including four top officials of the Sports Authority of India (SAI), South Centre here, have gone into quarantine following the death of one of its cooks, whose samples returned positive for coronavirus on Tuesday.Read more00:14UP Dy CM Dinesh Sharma accuses Congress of playing politics in times of crisisUttar Pradesh Deputy Chief Minister Dinesh Sharma on Wednesday accused the Congress of doing politics at a time of intense crisis, saying this has never been done before by a major political party.Read more23:59Apple,Google release COVID-19 exposure notification APIAs promised, Americal technology majors Apple and Google released the COVID-19 exposure notification API (Application Program Interface) for global health authorities and registered app developers.Read more23:42Special train: Online ticket booking from ThursdayAdvance onlineticket booking for special trains which will resume its operation on June 1 will start from 10 am on May 21.Read more23:23Coronavirus pandemic propels Congress into public discourseThe Congress, which was down in the dumps after two successive Lok Sabha poll debacles and battling a leadership crisis, has suddenly found a voice in the public discourse in the last two months of the Corona crisisRead more23:22WHO reports most coronavirus cases in a day, worried about poor countriesThere were 106,000 new cases of newcoronavirusinfection recorded worldwide in the last 24 hours - the most in a single day yet, the World Health Organization said on Wednesday, expressing concern for poor countries even as rich ones emerge from lockdown.\"We still have a long way to go in this pandemic,\" WHO director-general Tedros Adhanom Ghebreyesus told a news conference. \"We are very concerned about rising cases in low and middle-income countries.\"23:0815 most-impacted nations have seen 83 times more deaths, 34 times more infections than India: Health ministryThe 15 most-impacted countries due to COVID-19, with a cumulative population almost equal to that of India, have seen 83 times more deaths and 34 times more infections, the Union health ministry said on Wednesday as the nationwide cases registered a record single-day spike of 5,611.Read more23:06COVID-19 pandemic may reverse human development for first time in 30 years, says UNThe novel coronavirus outbreak has starkly exposed inequalities worldwide and could set back human development for the first time since 1990, the United Nations said on Wednesday.Read more22:56Railways releases list of 200 trains to be run from June 1, bookings to begin from May 2122:44India Inc\\'s foreign direct investment dips 62% to USD 976 mn in AprilIndia\\'s overseas direct investment (ODI) in April dipped 62 per cent to USD 976.14 million, data from the Reserve Bank showed.Read more22:06During today’s Cabinet meeting, important decisions were taken which are focused on welfare of migrants, poor, senior citizens, easier availability of credit, harnessing opportunities in the fisheries sector. They will benefit several citizens. - PM ModiDuring today’s Cabinet meeting, important decisions were taken which are focused on welfare of migrants, poor, senior citizens, easier availability of credit, harnessing opportunities in the fisheries sector. They will benefit several citizens.— Narendra Modi (@narendramodi) May 20, 2020\\n22:03Indian Railways announces the details of trains to be operated from June 1. These are special non AC trains and will have fixed time table.21:46\\xa0A total of 170 COVID-19 positive cases reported in Rajasthan todayA total of 170 COVID-19 positive cases reported in Rajasthan today; 4 deaths reported and 67 people recovered today. The total number of positive cases in the state rises to 6015, including 147 deaths and 3000 discharged: Rajasthan Health Department21:43Govt amends lockdown 4.0 guidelines. Domestic air travel is deleted from the list of prohibited activities21:22Maharashtra Health Minister says over 10k COVID-19 patients dischargedThe current count of COVID19 patients in the state of Maharashtra is 39297. Today,newly 2250 patients have been identified as positive. Also newly 679 patients have been cured today,totally 10318 patients are cured & discharged from the hospitals. Total Active patients are 27581.— Rajesh Tope (@rajeshtope11) May 20, 2020\\n21:20Rly Board okays opening of catering, vending units at stations; food Plaza, refreshment room items to be served as takeaways only: Order20:55An official working with the Medical Education Section of Health Services tested positive for COVID-19An official working with the Medical Education Section of Health Services tested positive for COVID-19.It has been decided to sanitize the concerned room in the premises. The premises to remain closed from 5:30 pm today till 6 am tomorrow: Ministry of Health and Family Welfare20:4673 new COVID-19 cases detected in Jammu and Kashmir; total number of cases reaches 1,390: officials20:36\\xa0\\xa0270 new positive cases reported today, taking the total number of positive cases in the state to 5735. The death toll stands at 267: Madhya Pradesh Health Department270 new positive cases reported today, taking the total number of positive cases in the state to 5735. The death toll stands at 267: Madhya Pradesh Health Department pic.twitter.com/oL9PdsEmrX— ANI (@ANI) May 20, 2020\\n20:3327 more COVID-19 positive cases reported in Telangana. Total number of cases in the state is now at 1661, including 1013 cured/discharged, 608 active cases and 40 deaths: State Health Department20:322250 new COVID-19 cases & 65 deaths reported in Maharashtra today.Total number of cases in the state is now at 39297, including 27581 active cases and 1390 deaths: State Health Department20:3130 new COVID-19 positive cases have been reported in Jharkhand today, taking the total number of cases to 278: State Health Secretary Nitin Madan Kulkarni20:18Gujarat reports 30 new COVID-19 deathsWith 398 new patients, number of coronavirus cases in Gujarat increases to 12,539, while death toll reaches 749 with 30 persons dying: health official20:172 new positive cases have been reported today in Chandigarhnew positive cases have been reported today in Chandigarh, taking the total positive cases in the union territory to 202 including 3 deaths: Chandigarh Health Department20:1611 new COVID-19 positive cases in Manipur11 new COVID-19 positive cases have been reported in Manipur today; taking the total number of positive cases to 20: Government of Manipur.20:13Domestic flights will commence from 25th May, initially, only a small percentage of the total number of domestic flights will be operated. Then depending on the experience we gain, we will increase the number of flights: Union Civil Aviation MinisterDomestic flights will commence from 25th May, initially, only a small percentage of the total number of domestic flights will be operated. Then depending on the experience we gain, we will increase the number of flights: Union Civil Aviation Minister Hardeep Singh PuriI think Standard Operating Procedure (SOPs) should not be made so onerous that they are difficult to be followed. We\\'ve now reached a happy balance and SOPs will be announced soon. Those will be the norms for some time: Hardeep Singh PuriWe are looking at some basic measures that could be taken relating to capping prices of airline tickets, but those will be comfortableWe are commencing operation of flights in all parts of the country, including Kolkata. But, the weather&climatic conditions in Kolkata may not permit flight services at present20:014 new COVID-19 positive cases have been reported in Goa today; taking the total number of positive cases to 50: Directorate of Health Services, Goa19:43Some US states accused of fudging or bungling COVID-19 testing dataPublic health officials in some states are accused of bunglingcoronavirusinfection statistics or even using a little sleight of hand to deliberately make things look better than they are.Read more19:40Coronavirus lockdown: 15-year-old girl brings father from Gurugram to Bihar on bicycleCycling almost 1,200 km with a debilitated person riding pillion could be a daunting task even for professional athletes, leave alone an ordinary teenager and that too amid thecoronaviruspandemic. In this case, the heavily-stacked odds against Bihar girl Jyoti Kumari were no match for her grit.Read more19:36US-based firm leads COVID-19 vaccine race, clinical trials show promising early results: ExpertsAs scientists across the world work frantically to find a vaccine against COVID-19, which continues its rapid global spread, all eyes are on US-based company Moderna’s encouraging early results on a small group of healthy volunteers.Read more19:13743 new COVID-19 positive cases have been reported in Tamil Nadu today743 new COVID-19 positive cases have been reported in Tamil Nadu today; taking the total number of cases to 13,191. Death toll rises to 87 with 3 deaths that have been reported today: State Health Department.19:05Two accused test positive for COVID-19, 24 cops quarantined in BengaluruTwenty-four police personnel in the city have been quarantined after two persons, who were detained at their station in connection with a theft case here, tested positive for COVID-19.The personnel attached to the Hebbagodi police station here have been sent to an institutional quarantine centre, police said on Wednesday.Read more19:03Donald Trump blames China for \\'mass Worldwide killing\\'President Donald Trump again lashed out at China Wednesday over the coronavirus pandemic, blaming Beijing for \"mass Worldwide killing.\"Some wacko in China just released a statement blaming everybody other than China for the Virus which has now killed hundreds of thousands of people. Please explain to this dope that it was the “incompetence of China”, and nothing else, that did this mass Worldwide killing!— Donald J. Trump (@realDonaldTrump) May 20, 2020\\n\\nThe early morning tweet, which also referred to an unidentified \"wacko in China,\" was the latest heated rhetoric from the White House, where Trump is making attacks on Beijing a centerpiece of his November reelection bid.18:56Coronavirus lockdown: Haryana takes back decision to ply inter-state buses, public transport within state onlyHaryana government on Wednesday took back its decision to ply inter-state buses but said its buses will continue to run within the state.Read more18:50Finance Ministry has issued sanction orders for ₹46,038.70 cr today for the May instalment of Devolution of States’ Share in Central Taxes & Duties.Finance Ministry has issued sanction orders for ₹46,038.70 cr today for the May instalment of Devolution of States’ Share in Central Taxes & Duties. #IndiaFightsCorona pic.twitter.com/158b6C6c5f— Ministry of Finance 🇮🇳 #StayHome #StaySafe (@FinMinIndia) May 20, 2020\\n18:49\\xa0\\xa024 new COVID-19 cases in Kerala, tally 666, active cases 161: CM Pinarayi Vijayan18:48Finance Minister Nirmala Sitharaman speaks to ANI Editor Smita Prakash.#WATCH: Finance Minister Nirmala Sitharaman speaks to ANI Editor Smita Prakash. https://t.co/NqEaIstcmU— ANI (@ANI) May 20, 2020\\n18:17Inovio says COVID-19 vaccine produces antibodies in mice, guinea pigsU.S. immunotherapy company Inovio Pharmaceuticals Inc on Wednesday said its experimental vaccine to prevent coronavirus infection was shown to produce protective antibodies and immune system responses in mice and guinea pigs.Read more17:54Buses arranged by Congress for Uttar Pradesh\\'s migrant workers start turning back from Rajasthan-UP border: Rajasthan Police official17:49To support and revive our MSMEs, Modi cabinet today has also approved additional funding of ₹3 lakh crores through introduction of Emergency Credit Line Guarantee Scheme (ECLGS): Amit ShahTo support and revive our MSMEs, Modi cabinet today has also approved additional funding of ₹3 lakh crores through introduction of Emergency Credit Line Guarantee Scheme (ECLGS). This will boost our economy by helping the MSMEs to face challenges posed by COVID-19.To support and revive our MSMEs, Modi cabinet today has also approved additional funding of ₹3 lakh crores through introduction of Emergency Credit Line Guarantee Scheme (ECLGS). This will boost our economy by helping the MSMEs to face challenges posed by COVID-19.— Amit Shah (@AmitShah) May 20, 2020\\n17:4767 new COVID-19 positive cases have been reported in Karnataka67 new COVID-19positive cases have been reported in Karnataka from 5pm yesterday to 5 pm today; taking the total number of positive cases to 1462. There are 864 active cases: Health Department, Karnataka17:4525 more COVID-19cases reported in Dharavi area of Mumbai today. Total number of cases in the area is now at 1378: Brihanmumbai Municipal Corporation (BMC)17:33Over 70% companies likely to continue work-from-home policy for next 6 month: SurveyMore than 70 per cent of companies are likely to continue the work-from-home policy for a percentage of their total staff for the next six months to maintain social distancing and for business continuity, according to a survey by Knight Frank.Read More17:32It was important to give stimulus for businesses to start off. In PM Garib Kalyan scheme - introduced after lockdown, we gave some cash transfer. With that done, we weren\\'t closing the option: FM to ANI on did govt consider more immediate measure while deciding17:22\\xa0\\xa0Will review evidence to take call on Hydroxychloroquine\\'s efficacy: ICMR on if HCQ is being dropped from COVID-19 treatment plan17:16269 new positive cases in UP in 24 hoursIn last 24 hours, 269 new positive cases have been reported in the state. Active cases stand at 1,955 while 123 deaths have occured due to COVID-19 and 2,918 people have been cured till now: Principal Seceratery (Health) Amit Mohan Prasad17:12Domestic civil aviation operations will recommence in a calibrated manner from Monday 25th May 2020.All airports & air carriers are being informed to be ready for operations from 25th May.SOPs for passenger movement are also being separately issued by @MoCA_GoI.— Hardeep Singh Puri (@HardeepSPuri) May 20, 2020\\n17:08Domestic civil aviation operations will recommence in a calibrated manner from 25 May.Domestic civil aviation operations will recommence in a calibrated manner from 25 May. All airports & air carriers are being informed to be ready for operations from 25 May. SOPs for passenger movement also being separately issued by Ministry: Civil Aviation Minister16:46\\xa0India\\'s recovery rate is nearly 40%, early identification prevented majority of cases from becoming critical - MoHFW\\'s Lav AgarwalIt is satisfactory to note that 42,298 people have recovered and the number of active cases are 61,149: Lav Agarwal, Union Health Ministry joint secretaryIf the total population of the world is taken into account then 62 people per lakh population have been affected due to COVID-19. In India, 7.9 people per lakh population of this country got affected due to the virus4.2 people per lakh population across the world have died due to COVID-19In India it is 0.2 deaths per lakh population16:02Taking into consideration the academic interest of large number of students,it has been decided to grant exemption from the lockdown measures to conduct Board examination for classes 10th&12th: Amit ShahTaking into consideration the academic interest of large number of students,it has been decided to grant exemption from the lockdown measures to conduct Board examination for classes 10th&12th,with few conditions like social distancing,face mask etc for their safety: HM Amit ShahTaking into consideration the academic interest of large number of students,it has been decided to grant exemption from the lockdown measures to conduct Board examination for classes 10th&12th,with few conditions like social distancing,face mask etc for their safety: HM Amit Shah pic.twitter.com/X4eUAcOGTo— ANI (@ANI) May 20, 2020\\n16:01Watch LIVE: Media briefing on COVID-19 and Super Cyclone Amphan15:58Priyanka Gandhi posts Twitter video regarding the UP migrants issueWe\\'ll have to understand our responsibilities. They (migrant labourers walking to return to their native states) aren\\'t just Indians but India\\'s spinal cord. The country runs on their blood&sweat. It\\'s everyone\\'s responsibility. It\\'s no the time for politics: Priyanka GVश्रमिक भाई - बहनों के लिए ये संकट का समय है। इस समय संवेदना साथ उनकी मदद करना ही हम सबका उद्देश्य है। https://t.co/omrja4xjme— Priyanka Gandhi Vadra (@priyankagandhi) May 20, 2020\\n\\nAt 4 PM it will be 24 hrs since the buses were made available. If you want to use it, do it. Give us permission. If you want to use BJP party flags and stickers on buses then do it. If you want to say that you made those buses available, do it. But let the buses run15:309 new COVID-19 positive cases reported in Uttarakhand9 new COVID-19 positive cases reported in Uttarakhand today, 1 cured/discharged. The total number of positive cases in the state rises to 120: Uttarakhand State Control Room for COVID-19.15:25Rajasthan reports 107 cases of COVID-19 till 2 pmRajasthan reports 107 cases of COVID-19 till 2 pm. Total cases in the state stand at 5952, including 143 deaths: State Health Department15:07Amritsar: Stranded migrant workers along with their\\xa0families gather for a medical screeningStranded migrant workers along with theirfamilies gather for a medical screening before boarding a train to Sultanpur in Uttar Pradesh state to return to their hometowns after the government eased a nationwide lockdown imposed as a preventive measure against the COVID-19 coronavirus, in Amritsar on May 20, 2020. (Photo by AFP)14:56One tests COVID-19 positive in Directorate General of Health Services at Nirman BhawanA COVID-19 positive case found in Directorate General of Health Services in medical education division at Union Health Ministry, Nirman Bhawan. Proper protocol for sanitisation of entire area will take place, contact tracing initiated: Ministry of Health & Family Welfare officials14:54Delhi Covid-19 Update May 20Fresh Cases 534 (highest for a single day)Total cases 11088Ten more deaths added to tollTotal 176Discharged 442Total 5192Under treatment 5720 (including 2358 in home isolation)Total samples tested 15028213:33\\'Shramik special\\' trains now need no permit from receiving states\\'Shramik special\\' trains now need no permit from receiving states. This will cut short the communication time between the states and decisions can be taken faster: RD Bajpai, Railways Executive Director13:3163 more COVID-19 cases reported in Karnataka63 more COVID-19 cases reported in Karnataka between yesterday 5 pm and 12 pm today. Total number of cases in the state is now at 1458, including 864 active cases & 41 deaths (1 due to \\'non-covid\\' cause): State Health Department12:26WATCH | (Note - Abusive language) | Locals pelt stones at police on Delhi-Gurugram border near Palam Vihar, allegedly after they were not allowed to cross the border into Gurugram#WATCH Delhi: Locals pelt stones at police on Delhi-Gurugram border near Palam Vihar, allegedly after they were not allowed to cross the border into Gurugram. More details awaited. (Note - Abusive language) pic.twitter.com/FZ9PKInsuf— ANI (@ANI) May 20, 2020\\n11:48Here are a few coronavirus updates across India61 more COVID-19 cases reported in Rajasthan today, as of 9 am. Total number of cases in the state is now at 5906, including 2409 active cases & 143 deaths: State Health DepartmentNumber of COVID-19 cases has climbed to 248 in Jharkhand out of which 118 cases are active: State Health DepartmentThe total number of COVID19 active cases in Central Industrial Security Force now stands at 96.68 new COVID-19 cases reported in Andhra Pradesh in the last 24 hours, taking the total number of positive cases to 2407: Andhra Pradesh Health DepartmentMaharashtra: A 26-year-old resident doctor working in a COVID-19 ward at Mumbai\\'s Nair hospital sustained head injury after a ceiling fan fell on him yesterday. He is currently kept under observation at the hospital.The total number of COVID-19 positive cases in Maharashtra Police is now 1388 including 948 active cases, 428 recovered and 12 deaths: Maharashtra Police09:37Highest ever spike of 5,611 COVID-19 cases & 140 deaths in the last 24 hours. Total number of cases in the country now at 106750, including 61149 active cases & 3303 deaths: Ministry of Health and Family Welfare09:02Chief Minister Yogi Adityanath has expressed grief over the death of 6 people in Etawah. He has directed to provide financial assistance of Rs 2 lakh each to the families of the deceased & Rs 50,000 for the injured: Chief Minister\\'s Office\\xa007:42United States records more than 1,500 coronavirus deaths in the past 24 hours: AFP02:20As workers return home, expect a surge in coronavirus casesWhile the country has crossed the psychological mark of one lakh COVID-19 cases, there are other indicators which should also cause concern and call for greater attention than in the past weeks.Read more01:50Donald Trump defends his use of unproven treatment for coronavirusUS President Donald Trump on Tuesday defended his use of a prescription malaria drug to try to ward off the novel coronavirus despite medical warnings, saying it was up to individuals to make their own decisions.Read more01:32Lockdown 4.0: Offices in educational institutions, malls allowed to open in RajasthanThe Rajasthan government on Tuesday allowed offices in educational institutions and malls to open in the fourth phase of the coronavirus lockdown, slated to end on May 31.Read more01:09Russia denounces US attempts to \\'break\\' World Health OrganizationRussia on Tuesday denounced President Donald Trump\\'s threat to pull the United States out of the World Health Organization over its handling of the coronavirus pandemic.Read more00:47Walmart says Flipkart\\'s \\'limited operations\\' negatively affected Q1 growthRetail major Walmart on Tuesday said \"limited operations\" by its Indian e-commerce firm Flipkart amid coronavirus outbreak has\"negatively affected growth\" of its international business in the March 2020 quarter.Read more00:15No invasive technique be adopted for forensic autopsy in COVID-19 death cases: ICMRInvasive technique should not be adopted for forensic autopsy in COVID-19death cases as mortuary staff are exposed to potentially dangerous health risks due to organ fluids and secretions even after taking the highest precautions, the ICMR said on Tuesday.Read more23:48Russia scaling down war games amid coronavirus pandemicRussia\\'s foreign minister said Tuesday that Moscow has scaled down its military drills amid the coronavirus pandemic.Read more23:35F1 demands UK quarantine exemptions for Silverstone GP, elite sportA British Grand Prix would be \"impossible\" this year if elite sport is not exempt from 14-day quarantine restrictions when entering the United Kingdom, Formula One said on Tuesday.Read more23:19World Bank says COVID-19 to push 60 million into poverty; announces USD 160 billion assistance to 100 countriesThe coronavirus pandemic is expected to throw into extreme poverty more than 60 million people globally, the World Bank said on Tuesday as it announced emergency operations worth USD 160 billion in 100 developing countries to fight this deadly virus.Read more23:07Tamil Nadu reports 688 fresh COVID-19 cases, tally crosses 12k; 3 deaths, toll now 84An additional 688 cases of coronavirus in Tamil Nadu on Tuesday took the state\\'s cumulative tally of the virus past 12,000, with the state recording three more deaths, the government said.Read more22:45Maharashtra COVID-19: Update76 deaths todayProgressive deaths 1325New cases today 2127Progressive cases 37136Total patients discharged today 1202Total progressive discharge 963922:31\\xa0323 new positive cases reported in Uttar Pradesh323 new positive cases have been reported in Uttar Pradesh; taking the total number of positive cases to 4926. Death toll stands at 135: State Health Department22:30338 new COVID-19\\xa0positive cases reported in Rajasthan338 new COVID-19positive cases have been reported in Rajasthan today; taking the cumulative positive cases to 5845. 5 deaths have been reported today and death toll is at 143: Rajasthan Health Department.22:16UK death toll rises to 35,341 The United Kingdom\\'s death toll from confirmed cases of COVID-19 rose to 35,341 on Tuesday, an increase of 545 on the day, environment minister George Eustice said.21:50WHO member states agree to an independent probe into the UN agency\\'s COVID-19 responseWorld Health Organisation (WHO) member states agreed on Tuesday to an independent probe into the UN agency\\'s COVID-19 response as US criticism mounted over its handling of the pandemic21:46The politics of train: No one wants to miss the busRailways’ decision to run Shramik special trains without themandatory consent of stateshas given a short in the arm to the BJP, whose ministers had run into confrontation with several opposition Chief Ministers on the issue.Well those who are trained in politics understand the politics of training well. A full blown political war brew over the Shramik Special train issue before the Centre decided to go for a change of rules in running these on Tuesday.Read more21:13\\xa0\\xa043 deaths in Mumbai today1411 fresh cases, 43 deathsreported in Mumbai today.Mumbai\\'s progressive death toll touches 80021:057 new COVID-19 positive cases have been reported in the state today; taking the total number of positive cases to 111: Uttarakhand Health Department20:51Maharashtra has 25% recovery now: State Health Minister Rajesh TopeToday a record number of 1202 patients in the state were discharged from hospitals after recovering from COVID-19. Maharashtra is having over 25% recovery rate of COVID patients now: Maharashtra Health Minister Rajesh Tope20:50Coronavirus lockdown: 4 migrant labourers killed in separate road accidents in Uttar PradeshFour migrant labourers were killed in separate road accidents in Uttar Pradesh\\'s Mahoba and Banda districts, police said on Tuesday.Read more20:3413 new COVID-19 positive cases detected from Sarusajai Quarantine Centre. Now the total patient count goes to 154: Assam Health Minister Himanta Biswa SarmaAlert - 13 new #COVID + cases detected from Sarusajai Quarantine Centre. Now the total patient count goes to 154.In view of the rising number I earnestly request you to #StayAtHome and follow #SocialDistancing & hygiene norms.Update 7:45 pm / May 19 pic.twitter.com/JwTrbRIuN9— Himanta Biswa Sarma (@himantabiswa) May 19, 2020\\n20:28Coronavirus: European Union urges all nations to back WHOThe EU on Tuesday urged all countries to back the World Health Organisation (WHO) after President Donald Trump threatened to permanently cut US funding.European Commission spokeswoman Virginie Battu-Henriksson said global cooperation is \"the only effective and viable option to win this battle\".Read more20:2628 more positive cases have been reported in Jammu & Kashmir28 more positive cases have been reported in Jammu&Kashmir; 22 from Kashmir division and 6 from Jammu division. Total positive cases in the union territorystand at 1317 including 653 active cases: Govt of Jammu and Kashmir20:22\\xa0395 new COVID-19 positive cases have been reported in Gujarat in last 24 hours395 new COVID-19 positive cases have been reported in Gujarat in last 24 hours. Total cases in the state stand at 12,141, including 5043 cured/discharged and 719 deaths: State Health Department20:21601 more COVID019 cases & 3 deaths reported in Tamil Nadu601 more COVID019 cases & 3 deaths reported in Tamil Nadu today. Total number of cases in the state is now at 12,448, including 7,466 active cases & 84 deaths: State Health Department19:39Maharashtra reports 2,100 new COVID-19 casesMaharashtra reports 2,100 new COVID-19 cases, taking tally to 37,158: Health Minister Rajesh Tope19:36136 new COVID-19 positive cases have been reported in West Bengal136 new COVID-19 positive cases have been reported in West Bengal today. The total number of cases in the state is now at 2,961, including 178 deaths. 72 deaths also occurred due to comorbidity: West Bengal Health Department19:14One more COVID-19 case in Puducherry, active cases rise to 919:13\\xa0\\xa0A record number of 1,08,233 samples were tested yesterday in the country. So far a total of 24,25,742 samples have been tested: Ministry of Health and Family Welfare19:116 new COVID-19 positive cases confirmed in Assam6 new COVID-19 positive cases confirmed. Out of the 3 from Guwahati, 2 are related to a cancer patient who lost his life at GMCH (wife & daughter). 2 patients are from Karimganj & one from Sarusajai quarantine centre. Total patient count 141: Assam Minister Himanta Biswa Sarma19:10With the spike of 36 cases in Haryana today, total number of positive cases in the state rise to 964 cases including 627 discharges and 14 deaths: State Health Department19:0722 new positive cases of COVID-19 reported in Punjab today22 new positive cases of COVID-19 have been reported in Punjab today. Total number of positive cases rise to 2002 cases including 322 active cases, 1,642 cured and 38 deaths: State Health Department18:45Chief Minister YS Jagan Mohan Reddy has directed the officers to complete the first phase of development works in schools under the Nadu-Nedu initiative by the end of July and prepare for launch of YSR Vidya Kanuka on August 3 when schools will be reopened: Andhra Pradesh CMOAs the schools are going to be reopened on August 3, the Chief Minister is preparing to launch YSR Vidhya Kanuka on the same day, where all the school going students will be provided with uniform, books, belt, shoes, and socks: Andhra Pradesh Chief Minister\\'s Office (CMO)(ANI)18:44DGCA allows Approved Training Organization to function for simulator utilisation only, for Pilots.DGCA allows Approved Training Organization to function for simulator utilisation only, for Pilots. Non-Scheduled Operator Permit (NSOP) operators are allowed to conduct non-revenue local training flights. DGCA directs that social distancing/disinfecting to be strictly followed.DGCA allows Approved Training Organization to function for simulator utilisation only, for Pilots. Non-Scheduled Operator Permit (NSOP) operators are allowed to conduct non-revenue local training flights. DGCA directs that social distancing/disinfecting to be strictly followed. pic.twitter.com/7XDlIX3fch— ANI (@ANI) May 19, 2020\\n18:42CBI alerts states, UTs about malicious phishing software cerberus that uses COVID-19 messages for infecting smartphones: Officials18:31Himachal Pradesh relaxes curfewAs per the order of the govt, relaxation in curfew henceforth shall be for 8 hours daily. The relaxation in curfew in Shimla district shall be from 9:30 AM to 5:30 PM till further orders: District Magistrate, Shimla (Himachal Pradesh)18:14\\xa09 more BEST employees have tested positive for COVID-19.9 more BEST employees have tested positive for COVID-19. Total positive cases in BEST is now 137: BEST Public Relations Officer, Mumbai17:59Opposition leaders to discuss plan to \\'expose\\' Modi\\'s alleged mishandling of coronavirus situationTop leaders of around 20 Opposition parties, including Sonia Gandhi, Sharad Pawar, Uddhav Thackeray, Mamata Banerjee and Sitaram Yechury, will meet on Friday through video conference to discuss a strategy to \"expose\" the Narendra Modi government\\'s \"mishandling\" of the COVID-19 situation, \"inadequate\" financial package and \"bulldozing\" of states.Read more17:34BSF has 3 fresh cases3 COVID-19 positive cases in last 24 hours. They\\'re under treatment in designated COVID hospitals. Since yesterday 22 COVID-19 positive BSF personnel have been discharged from hospitals in Delhi, in addition to earlier 192. Total recovered till today 214. Active cases 144: BSF17:31K\\'taka reports 149 fresh cases, record spike149 new COVID-19 positive cases have been reported from 5 pm yesterday till 5 pm today. Total number of cases in the state is now at 1395, including 811 active cases, 543 discharges & 41 deaths (1 due to \\'non-covid\\' cause): State Health Department17:30Two new COVID-19 positive cases have been reported in Jharkhand. One each from Latehar and Jamshedpur. Both have returned from Delhi. Total cases in Jharkhand stand at 233: State Health Secretary Nitin Madan Kulkarni17:14J&K govt issues revised guidelines for Lockdown 4.0.All economic and courier services, all agriculture, horticulture, animal husbandry and related activities, banks and financial activities permitted in the entire union territory.J&K govt issues revised guidelines for #lockdown4. All economic and courier services, all agriculture, horticulture, animal husbandry and related activities, banks and financial activities permitted in the entire union territory. pic.twitter.com/9BRvurQ2FQ— ANI (@ANI) May 19, 2020\\n\\n17:133 new positive cases reported today in Chandigarh3 new positive cases have been reported today in Chandigarh, taking the total positive cases in the union territory to 199 including 3 deaths: Chandigarh Health Department17:12West Bengal CM Mamata Banerjee confirms participation in Opposition parties\\' virtual meeting on COVID-19 situation17:09Kerala COVID-19 cases, deaths12 more from other states and abroad tested COVID-19 positiveTotal infected so far: 642Now under treatment: 1423 died 497 negative so far0 negative today12 fresh cases today71,545 in home observation455 in hospital observation46,958 samples tested so far45,527 tested negative\\n\\n'"
      ]
     },
     "execution_count": 40,
     "metadata": {},
     "output_type": "execute_result"
    }
   ],
   "source": [
    "text"
   ]
  },
  {
   "cell_type": "code",
   "execution_count": null,
   "metadata": {},
   "outputs": [],
   "source": [
    "def get_news_articles(urls):\n",
    "    '''\n",
    "    This function takes in a list of Codeup Blog urls and a dictionary headers \n",
    "    and scrapes the title and text for each url returning a list of dictionaries\n",
    "    with the title and text for each blog.\n",
    "    '''\n",
    "    headers = {'User-Agent': 'Codeup Bayes Data Science'} \n",
    "    \n",
    "    # Create an empty list to hold dictionaries\n",
    "    articles = []\n",
    "    \n",
    "    # Loop through each url in our list of urls\n",
    "    for url in urls:\n",
    "        \n",
    "        # get request to each url saved in response\n",
    "        response = get(url, headers=headers)\n",
    "        \n",
    "        # Create soup object from response text and parse\n",
    "        soup = BeautifulSoup(response.text, 'html.parser')\n",
    "        \n",
    "        # Save the title of each blog in variable title\n",
    "        title = soup.find('h1', itemprop='headline' ).get_text()\n",
    "        \n",
    "        # Save the text in each blog to variable text\n",
    "        text = soup.find('div', itemprop='text').get_text()\n",
    "        \n",
    "        # Create a dictionary holding the title and text for each blog\n",
    "        article = {'title': title, 'content': text}\n",
    "        \n",
    "        # Add each dictionary to the articles list of dictionaries\n",
    "        articles.append(article)\n",
    "        \n",
    "    return articles"
   ]
  },
  {
   "cell_type": "code",
   "execution_count": null,
   "metadata": {},
   "outputs": [],
   "source": []
  },
  {
   "cell_type": "code",
   "execution_count": 20,
   "metadata": {},
   "outputs": [
    {
     "data": {
      "text/plain": [
       "True"
      ]
     },
     "execution_count": 20,
     "metadata": {},
     "output_type": "execute_result"
    }
   ],
   "source": [
    "topics = ['business', 'sports', 'technology', 'entertainment']\n",
    "base_url = 'https://inshorts.com/en/read/'\n",
    "\n",
    "response = get(base_url + 'business')\n",
    "response.ok"
   ]
  },
  {
   "cell_type": "code",
   "execution_count": 29,
   "metadata": {},
   "outputs": [
    {
     "data": {
      "text/plain": [
       "[<a class=\"source\" href=\"https://www.deccanherald.com/national/coronavirus-in-india-news-live-updates-total-cases-deaths-covid-19-tracker-today-worldometer-update-lockdown-40-latest-news-838583.html?utm_campaign=fullarticle&amp;utm_medium=referral&amp;utm_source=inshorts \" onclick=\"ga('send', {'hitType': 'event', 'eventCategory': 'ReadMore', 'eventAction': 'clicked', 'eventLabel': 'Deccan%20Herald' });\" target=\"_blank\">Deccan Herald</a>,\n",
       " <a class=\"source\" href=\"https://twitter.com/DGCAIndia/status/1263469610956881923?s=20&amp;utm_campaign=fullarticle&amp;utm_medium=referral&amp;utm_source=inshorts \" onclick=\"ga('send', {'hitType': 'event', 'eventCategory': 'ReadMore', 'eventAction': 'clicked', 'eventLabel': 'Twitter' });\" target=\"_blank\">Twitter</a>]"
      ]
     },
     "execution_count": 29,
     "metadata": {},
     "output_type": "execute_result"
    }
   ],
   "source": [
    "# Create our soup object using our response.text\n",
    "\n",
    "soup = BeautifulSoup(response.text, 'html.parser')\n",
    "\n",
    "# Create a list of tags, so I can grab the href/link\n",
    "link_list = soup.find_all(class_='source')\n",
    "link_list[:2]"
   ]
  },
  {
   "cell_type": "code",
   "execution_count": 30,
   "metadata": {},
   "outputs": [],
   "source": [
    "# Create empty urls list and for each chunk above, grab the href/link\n",
    "# Add each link to the urls list\n",
    "\n",
    "urls = []\n",
    "for link in link_list:\n",
    "    urls.append(link.get('href'))"
   ]
  },
  {
   "cell_type": "code",
   "execution_count": 32,
   "metadata": {},
   "outputs": [
    {
     "name": "stdout",
     "output_type": "stream",
     "text": [
      "24\n"
     ]
    },
    {
     "data": {
      "text/plain": [
       "['https://www.deccanherald.com/national/coronavirus-in-india-news-live-updates-total-cases-deaths-covid-19-tracker-today-worldometer-update-lockdown-40-latest-news-838583.html?utm_campaign=fullarticle&utm_medium=referral&utm_source=inshorts ',\n",
       " 'https://twitter.com/DGCAIndia/status/1263469610956881923?s=20&utm_campaign=fullarticle&utm_medium=referral&utm_source=inshorts ']"
      ]
     },
     "execution_count": 32,
     "metadata": {},
     "output_type": "execute_result"
    }
   ],
   "source": [
    "# I have 24 links on the first page of business articles\n",
    "\n",
    "print(len(urls))\n",
    "urls[:2]"
   ]
  },
  {
   "cell_type": "code",
   "execution_count": 33,
   "metadata": {},
   "outputs": [
    {
     "data": {
      "text/plain": [
       "<div class=\"load-more-wrapper\">\n",
       "<div class=\"clickable unselectable load-more z-depth-1 hoverable\" id=\"load-more-btn\" onclick=\"loadMoreNews()\">Load More</div>\n",
       "<div class=\"clickable unselectable load-more\" id=\"load-more-gif\" style=\"display:none;\"><img id=\"load-more-gif\" src=\"https://assets.inshorts.com/website_assets/images/ajax-loader.gif\"/></div>\n",
       "</div>"
      ]
     },
     "execution_count": 33,
     "metadata": {},
     "output_type": "execute_result"
    }
   ],
   "source": [
    "soup.find(class_='load-more-wrapper')"
   ]
  },
  {
   "cell_type": "code",
   "execution_count": null,
   "metadata": {},
   "outputs": [],
   "source": []
  }
 ],
 "metadata": {
  "kernelspec": {
   "display_name": "Python 3",
   "language": "python",
   "name": "python3"
  },
  "language_info": {
   "codemirror_mode": {
    "name": "ipython",
    "version": 3
   },
   "file_extension": ".py",
   "mimetype": "text/x-python",
   "name": "python",
   "nbconvert_exporter": "python",
   "pygments_lexer": "ipython3",
   "version": "3.7.4"
  },
  "toc": {
   "base_numbering": 1,
   "nav_menu": {},
   "number_sections": true,
   "sideBar": true,
   "skip_h1_title": true,
   "title_cell": "Table of Contents",
   "title_sidebar": "Contents",
   "toc_cell": true,
   "toc_position": {},
   "toc_section_display": true,
   "toc_window_display": true
  }
 },
 "nbformat": 4,
 "nbformat_minor": 4
}

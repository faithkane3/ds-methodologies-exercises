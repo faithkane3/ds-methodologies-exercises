{
 "cells": [
  {
   "cell_type": "markdown",
   "metadata": {
    "toc": true
   },
   "source": [
    "<h1>Table of Contents<span class=\"tocSkip\"></span></h1>\n",
    "<div class=\"toc\"><ul class=\"toc-item\"></ul></div>"
   ]
  },
  {
   "cell_type": "code",
   "execution_count": 4,
   "metadata": {},
   "outputs": [],
   "source": [
    "import pandas as pd\n",
    "import numpy as np\n",
    "\n",
    "import matplotlib.pyplot as plt\n",
    "%matplotlib inline\n",
    "\n",
    "import os\n",
    "import unicodedata\n",
    "import re\n",
    "import json\n",
    "\n",
    "import nltk\n",
    "from nltk.tokenize.toktok import ToktokTokenizer\n",
    "from nltk.corpus import stopwords\n",
    "\n",
    "from acquire_walkthrough import get_all_urls, get_blog_articles, get_news_articles"
   ]
  },
  {
   "cell_type": "markdown",
   "metadata": {},
   "source": [
    "### Natural Language Processing\n",
    "\n",
    "#### **<font color=red>What is Natural Language Processing?</font>**\n",
    "\n",
    "Beautiful Soup is a Pyhon library for scraping information from web pages. You have to be careful when web scraping data from sites that the site allows the practice. You can check by typing `/robots.txt` after the base url of a site.\n",
    "\n",
    "#### **<font color=orange>So What Do I Do With Beautiful Soup?</font>**\n"
   ]
  },
  {
   "cell_type": "code",
   "execution_count": null,
   "metadata": {},
   "outputs": [],
   "source": []
  },
  {
   "cell_type": "code",
   "execution_count": null,
   "metadata": {},
   "outputs": [],
   "source": []
  },
  {
   "cell_type": "code",
   "execution_count": null,
   "metadata": {},
   "outputs": [],
   "source": []
  },
  {
   "cell_type": "code",
   "execution_count": null,
   "metadata": {},
   "outputs": [],
   "source": []
  },
  {
   "cell_type": "code",
   "execution_count": 9,
   "metadata": {},
   "outputs": [],
   "source": [
    "df = get_news_articles()"
   ]
  },
  {
   "cell_type": "code",
   "execution_count": 10,
   "metadata": {},
   "outputs": [
    {
     "data": {
      "text/html": [
       "<div>\n",
       "<style scoped>\n",
       "    .dataframe tbody tr th:only-of-type {\n",
       "        vertical-align: middle;\n",
       "    }\n",
       "\n",
       "    .dataframe tbody tr th {\n",
       "        vertical-align: top;\n",
       "    }\n",
       "\n",
       "    .dataframe thead th {\n",
       "        text-align: right;\n",
       "    }\n",
       "</style>\n",
       "<table border=\"1\" class=\"dataframe\">\n",
       "  <thead>\n",
       "    <tr style=\"text-align: right;\">\n",
       "      <th></th>\n",
       "      <th>topic</th>\n",
       "      <th>title</th>\n",
       "      <th>author</th>\n",
       "      <th>content</th>\n",
       "    </tr>\n",
       "  </thead>\n",
       "  <tbody>\n",
       "    <tr>\n",
       "      <th>0</th>\n",
       "      <td>business</td>\n",
       "      <td>RBI allows banks to offer moratorium on EMI pa...</td>\n",
       "      <td>Krishna Veera Vanamali</td>\n",
       "      <td>RBI Governor Shaktikanta Das on Friday announc...</td>\n",
       "    </tr>\n",
       "    <tr>\n",
       "      <th>1</th>\n",
       "      <td>business</td>\n",
       "      <td>GDP growth in 2020-21 expected to remain in ne...</td>\n",
       "      <td>Ankush Verma</td>\n",
       "      <td>Reserve Bank of India Governor Shaktikanta Das...</td>\n",
       "    </tr>\n",
       "    <tr>\n",
       "      <th>2</th>\n",
       "      <td>business</td>\n",
       "      <td>Govt releases fare structure for domestic flig...</td>\n",
       "      <td>Nandini Sinha</td>\n",
       "      <td>The DGCA has released fare structure for domes...</td>\n",
       "    </tr>\n",
       "    <tr>\n",
       "      <th>3</th>\n",
       "      <td>business</td>\n",
       "      <td>Oxfam to fire 1,450 staff, shut offices in 18 ...</td>\n",
       "      <td>Anushka Dixit</td>\n",
       "      <td>Oxfam International has announced that it'll b...</td>\n",
       "    </tr>\n",
       "    <tr>\n",
       "      <th>4</th>\n",
       "      <td>business</td>\n",
       "      <td>Vaccine development is like rollercoaster: Ser...</td>\n",
       "      <td>Dharna</td>\n",
       "      <td>Serum Institute of India CEO Adar Poonawalla s...</td>\n",
       "    </tr>\n",
       "  </tbody>\n",
       "</table>\n",
       "</div>"
      ],
      "text/plain": [
       "      topic                                              title  \\\n",
       "0  business  RBI allows banks to offer moratorium on EMI pa...   \n",
       "1  business  GDP growth in 2020-21 expected to remain in ne...   \n",
       "2  business  Govt releases fare structure for domestic flig...   \n",
       "3  business  Oxfam to fire 1,450 staff, shut offices in 18 ...   \n",
       "4  business  Vaccine development is like rollercoaster: Ser...   \n",
       "\n",
       "                   author                                            content  \n",
       "0  Krishna Veera Vanamali  RBI Governor Shaktikanta Das on Friday announc...  \n",
       "1            Ankush Verma  Reserve Bank of India Governor Shaktikanta Das...  \n",
       "2           Nandini Sinha  The DGCA has released fare structure for domes...  \n",
       "3           Anushka Dixit  Oxfam International has announced that it'll b...  \n",
       "4                  Dharna  Serum Institute of India CEO Adar Poonawalla s...  "
      ]
     },
     "execution_count": 10,
     "metadata": {},
     "output_type": "execute_result"
    }
   ],
   "source": [
    "df.head()"
   ]
  },
  {
   "cell_type": "code",
   "execution_count": null,
   "metadata": {},
   "outputs": [],
   "source": []
  }
 ],
 "metadata": {
  "kernelspec": {
   "display_name": "Python 3",
   "language": "python",
   "name": "python3"
  },
  "language_info": {
   "codemirror_mode": {
    "name": "ipython",
    "version": 3
   },
   "file_extension": ".py",
   "mimetype": "text/x-python",
   "name": "python",
   "nbconvert_exporter": "python",
   "pygments_lexer": "ipython3",
   "version": "3.7.4"
  },
  "toc": {
   "base_numbering": 1,
   "nav_menu": {},
   "number_sections": true,
   "sideBar": true,
   "skip_h1_title": true,
   "title_cell": "Table of Contents",
   "title_sidebar": "Contents",
   "toc_cell": true,
   "toc_position": {},
   "toc_section_display": true,
   "toc_window_display": false
  }
 },
 "nbformat": 4,
 "nbformat_minor": 4
}

{
 "cells": [
  {
   "cell_type": "markdown",
   "metadata": {
    "toc": true
   },
   "source": [
    "<h1>Table of Contents<span class=\"tocSkip\"></span></h1>\n",
    "<div class=\"toc\"><ul class=\"toc-item\"><li><span><a href=\"#Natural-Language-Processing\" data-toc-modified-id=\"Natural-Language-Processing-1\"><span class=\"toc-item-num\">1&nbsp;&nbsp;</span>Natural Language Processing</a></span><ul class=\"toc-item\"><li><span><a href=\"#What-is-Natural-Language-Processing?\" data-toc-modified-id=\"What-is-Natural-Language-Processing?-1.1\"><span class=\"toc-item-num\">1.1&nbsp;&nbsp;</span><strong><font color=\"red\">What is Natural Language Processing?</font></strong></a></span></li><li><span><a href=\"#So-What?\" data-toc-modified-id=\"So-What?-1.2\"><span class=\"toc-item-num\">1.2&nbsp;&nbsp;</span><strong><font color=\"orange\">So What?</font></strong></a></span></li><li><span><a href=\"#Normalization-Examples:\" data-toc-modified-id=\"Normalization-Examples:-1.3\"><span class=\"toc-item-num\">1.3&nbsp;&nbsp;</span>Normalization Examples:</a></span><ul class=\"toc-item\"><li><span><a href=\"#Lowercase-Using-df.col.str.lower()\" data-toc-modified-id=\"Lowercase-Using-df.col.str.lower()-1.3.1\"><span class=\"toc-item-num\">1.3.1&nbsp;&nbsp;</span>Lowercase Using <code>df.col.str.lower()</code></a></span></li><li><span><a href=\"#Normalize-Unicode-Characters\" data-toc-modified-id=\"Normalize-Unicode-Characters-1.3.2\"><span class=\"toc-item-num\">1.3.2&nbsp;&nbsp;</span>Normalize Unicode Characters</a></span></li><li><span><a href=\"#Remove-Special-Characters-Using-Regex\" data-toc-modified-id=\"Remove-Special-Characters-Using-Regex-1.3.3\"><span class=\"toc-item-num\">1.3.3&nbsp;&nbsp;</span>Remove Special Characters Using Regex</a></span></li></ul></li><li><span><a href=\"#Now-What?\" data-toc-modified-id=\"Now-What?-1.4\"><span class=\"toc-item-num\">1.4&nbsp;&nbsp;</span><strong><font color=\"green\">Now What?</font></strong></a></span><ul class=\"toc-item\"><li><span><a href=\"#Basic-Clean-Function\" data-toc-modified-id=\"Basic-Clean-Function-1.4.1\"><span class=\"toc-item-num\">1.4.1&nbsp;&nbsp;</span>Basic Clean Function</a></span></li></ul></li><li><span><a href=\"#Tokenization-Examples:\" data-toc-modified-id=\"Tokenization-Examples:-1.5\"><span class=\"toc-item-num\">1.5&nbsp;&nbsp;</span>Tokenization Examples:</a></span><ul class=\"toc-item\"><li><span><a href=\"#Using-.split()\" data-toc-modified-id=\"Using-.split()-1.5.1\"><span class=\"toc-item-num\">1.5.1&nbsp;&nbsp;</span>Using <code>.split()</code></a></span></li><li><span><a href=\"#Using-Regex\" data-toc-modified-id=\"Using-Regex-1.5.2\"><span class=\"toc-item-num\">1.5.2&nbsp;&nbsp;</span>Using Regex</a></span></li><li><span><a href=\"#Using-NLTK-Tokenization\" data-toc-modified-id=\"Using-NLTK-Tokenization-1.5.3\"><span class=\"toc-item-num\">1.5.3&nbsp;&nbsp;</span>Using NLTK Tokenization</a></span></li><li><span><a href=\"#Tokenize-Function\" data-toc-modified-id=\"Tokenize-Function-1.5.4\"><span class=\"toc-item-num\">1.5.4&nbsp;&nbsp;</span>Tokenize Function</a></span></li><li><span><a href=\"#Using-NLTK-PorterStemmer\" data-toc-modified-id=\"Using-NLTK-PorterStemmer-1.5.5\"><span class=\"toc-item-num\">1.5.5&nbsp;&nbsp;</span>Using NLTK PorterStemmer</a></span></li><li><span><a href=\"#Stem-Function\" data-toc-modified-id=\"Stem-Function-1.5.6\"><span class=\"toc-item-num\">1.5.6&nbsp;&nbsp;</span>Stem Function</a></span></li><li><span><a href=\"#Using-NLTK-WordNetLemmatizer\" data-toc-modified-id=\"Using-NLTK-WordNetLemmatizer-1.5.7\"><span class=\"toc-item-num\">1.5.7&nbsp;&nbsp;</span>Using NLTK WordNetLemmatizer</a></span></li><li><span><a href=\"#Lemmatize-Function\" data-toc-modified-id=\"Lemmatize-Function-1.5.8\"><span class=\"toc-item-num\">1.5.8&nbsp;&nbsp;</span>Lemmatize Function</a></span></li><li><span><a href=\"#Using-NLTK-Stopwords\" data-toc-modified-id=\"Using-NLTK-Stopwords-1.5.9\"><span class=\"toc-item-num\">1.5.9&nbsp;&nbsp;</span>Using NLTK Stopwords</a></span></li><li><span><a href=\"#Stopwords-Function\" data-toc-modified-id=\"Stopwords-Function-1.5.10\"><span class=\"toc-item-num\">1.5.10&nbsp;&nbsp;</span>Stopwords Function</a></span></li><li><span><a href=\"#Prep-Article-Function\" data-toc-modified-id=\"Prep-Article-Function-1.5.11\"><span class=\"toc-item-num\">1.5.11&nbsp;&nbsp;</span>Prep Article Function</a></span></li></ul></li></ul></li></ul></div>"
   ]
  },
  {
   "cell_type": "code",
   "execution_count": 1,
   "metadata": {},
   "outputs": [],
   "source": [
    "import pandas as pd\n",
    "import numpy as np\n",
    "\n",
    "import os\n",
    "import unicodedata\n",
    "import re\n",
    "import json\n",
    "\n",
    "import nltk\n",
    "from nltk.tokenize.toktok import ToktokTokenizer\n",
    "from nltk.corpus import stopwords\n",
    "\n",
    "from acquire_walkthrough import get_news_articles"
   ]
  },
  {
   "cell_type": "markdown",
   "metadata": {},
   "source": [
    "### Natural Language Processing\n",
    "\n",
    "#### **<font color=red>What is Natural Language Processing?</font>**\n",
    "\n",
    "Natural Language Processing allows you to use techniques in Python libraries like NLTK (Natural Language Tool Kit) and Spacy to create machine-useable structure out of natural language text. In other words, you can manipulate natural language in such a way that renders it useful in machine learning. Machines can't read words, but they can recognize numbers, so we have to process the text we want to use in a way that retains the original meaning while representing the text with numbers.\n",
    "\n",
    "#### **<font color=orange>So What?</font>**\n",
    "\n",
    "We need to know some basic terminology to get started:"
   ]
  },
  {
   "cell_type": "markdown",
   "metadata": {},
   "source": [
    "**Normalization** - is when you perform a series of tasks like making all text lowercase, removing punctuation, expanding contractions, removing anything that's not an ASCII character, etc.\n",
    "\n",
    "#### Normalization Examples:\n",
    "\n",
    "##### Lowercase Using `df.col.str.lower()`"
   ]
  },
  {
   "cell_type": "code",
   "execution_count": 15,
   "metadata": {},
   "outputs": [
    {
     "data": {
      "text/html": [
       "<div>\n",
       "<style scoped>\n",
       "    .dataframe tbody tr th:only-of-type {\n",
       "        vertical-align: middle;\n",
       "    }\n",
       "\n",
       "    .dataframe tbody tr th {\n",
       "        vertical-align: top;\n",
       "    }\n",
       "\n",
       "    .dataframe thead th {\n",
       "        text-align: right;\n",
       "    }\n",
       "</style>\n",
       "<table border=\"1\" class=\"dataframe\">\n",
       "  <thead>\n",
       "    <tr style=\"text-align: right;\">\n",
       "      <th></th>\n",
       "      <th>topic</th>\n",
       "      <th>title</th>\n",
       "      <th>author</th>\n",
       "      <th>content</th>\n",
       "    </tr>\n",
       "  </thead>\n",
       "  <tbody>\n",
       "    <tr>\n",
       "      <th>0</th>\n",
       "      <td>business</td>\n",
       "      <td>3 employees at Hyundai's Chennai plant test po...</td>\n",
       "      <td>Pragya Swastik</td>\n",
       "      <td>Hyundai Motor India on Sunday said its three e...</td>\n",
       "    </tr>\n",
       "    <tr>\n",
       "      <th>1</th>\n",
       "      <td>business</td>\n",
       "      <td>CEO of New Zealand media outlet Stuff buys the...</td>\n",
       "      <td>Dharna</td>\n",
       "      <td>Sinead Boucher, the CEO of New Zealand-based m...</td>\n",
       "    </tr>\n",
       "    <tr>\n",
       "      <th>2</th>\n",
       "      <td>business</td>\n",
       "      <td>Lockdown extensions won't help, cases will con...</td>\n",
       "      <td>Anushka Dixit</td>\n",
       "      <td>Mahindra Group Chairman Anand Mahindra said th...</td>\n",
       "    </tr>\n",
       "    <tr>\n",
       "      <th>3</th>\n",
       "      <td>business</td>\n",
       "      <td>102-year-old car rental firm Hertz files for b...</td>\n",
       "      <td>Dharna</td>\n",
       "      <td>Global car rental company Hertz has filed for ...</td>\n",
       "    </tr>\n",
       "    <tr>\n",
       "      <th>4</th>\n",
       "      <td>business</td>\n",
       "      <td>Jeff Bezos, Zuckerberg highest-earning billion...</td>\n",
       "      <td>Pragya Swastik</td>\n",
       "      <td>Amazon CEO Jeff Bezos and Facebook CEO Mark Zu...</td>\n",
       "    </tr>\n",
       "  </tbody>\n",
       "</table>\n",
       "</div>"
      ],
      "text/plain": [
       "      topic                                              title  \\\n",
       "0  business  3 employees at Hyundai's Chennai plant test po...   \n",
       "1  business  CEO of New Zealand media outlet Stuff buys the...   \n",
       "2  business  Lockdown extensions won't help, cases will con...   \n",
       "3  business  102-year-old car rental firm Hertz files for b...   \n",
       "4  business  Jeff Bezos, Zuckerberg highest-earning billion...   \n",
       "\n",
       "           author                                            content  \n",
       "0  Pragya Swastik  Hyundai Motor India on Sunday said its three e...  \n",
       "1          Dharna  Sinead Boucher, the CEO of New Zealand-based m...  \n",
       "2   Anushka Dixit  Mahindra Group Chairman Anand Mahindra said th...  \n",
       "3          Dharna  Global car rental company Hertz has filed for ...  \n",
       "4  Pragya Swastik  Amazon CEO Jeff Bezos and Facebook CEO Mark Zu...  "
      ]
     },
     "execution_count": 15,
     "metadata": {},
     "output_type": "execute_result"
    }
   ],
   "source": [
    "df = get_news_articles()\n",
    "df.head()"
   ]
  },
  {
   "cell_type": "code",
   "execution_count": 16,
   "metadata": {},
   "outputs": [
    {
     "data": {
      "text/plain": [
       "0     hyundai motor india on sunday said its three e...\n",
       "1     sinead boucher, the ceo of new zealand-based m...\n",
       "2     mahindra group chairman anand mahindra said th...\n",
       "3     global car rental company hertz has filed for ...\n",
       "4     amazon ceo jeff bezos and facebook ceo mark zu...\n",
       "                            ...                        \n",
       "94    rahul dholakia has said filmmaking in the post...\n",
       "95    reese witherspoon has shared she used to be wo...\n",
       "96    suchitra pillai, who played commandant tyagi i...\n",
       "97    ellie goulding recently revealed that she \"kis...\n",
       "98    producers guild of india (guild) on monday twe...\n",
       "Name: content, Length: 99, dtype: object"
      ]
     },
     "execution_count": 16,
     "metadata": {},
     "output_type": "execute_result"
    }
   ],
   "source": [
    "# Note I have not reassigned this or changed the inplace argument to True yet; just a look.\n",
    "\n",
    "df.content.str.lower()"
   ]
  },
  {
   "cell_type": "markdown",
   "metadata": {},
   "source": [
    "##### Normalize Unicode Characters\n",
    "\n",
    "[Here](https://pandas.pydata.org/pandas-docs/stable/reference/api/pandas.Series.str.normalize.html) is the documentation for using `unicodedata.normalize()` as a str method on a Pandas Series.\n",
    "\n",
    "```python\n",
    "df.col.str.normalize(form, unistr)\n",
    "```\n",
    "\n",
    "```python\n",
    "df.col.str.encode('ascii', 'ignore')\n",
    "```\n",
    "\n",
    "```python\n",
    "df.col.str.decode('utf-8', 'ignore')\n",
    "```\n",
    "\n",
    "```python\n",
    "df.col.str.replace(r\"[^A-z0-9'\\s]\", '', regex=True)\n",
    "```"
   ]
  },
  {
   "cell_type": "code",
   "execution_count": 17,
   "metadata": {},
   "outputs": [
    {
     "data": {
      "text/plain": [
       "0     Hyundai Motor India on Sunday said its three e...\n",
       "1     Sinead Boucher, the CEO of New Zealand-based m...\n",
       "2     Mahindra Group Chairman Anand Mahindra said th...\n",
       "3     Global car rental company Hertz has filed for ...\n",
       "4     Amazon CEO Jeff Bezos and Facebook CEO Mark Zu...\n",
       "                            ...                        \n",
       "94    Rahul Dholakia has said filmmaking in the post...\n",
       "95    Reese Witherspoon has shared she used to be wo...\n",
       "96    Suchitra Pillai, who played Commandant Tyagi i...\n",
       "97    Ellie Goulding recently revealed that she \"kis...\n",
       "98    Producers Guild of India (GUILD) on Monday twe...\n",
       "Name: content, Length: 99, dtype: object"
      ]
     },
     "execution_count": 17,
     "metadata": {},
     "output_type": "execute_result"
    }
   ],
   "source": [
    "# Again, this is a look because it has not been reassigned or changed in place.\n",
    "\n",
    "df.content.str.normalize('NFKC').str.encode('ascii', 'ignore').str.decode('utf-8', 'ignore')"
   ]
  },
  {
   "cell_type": "markdown",
   "metadata": {},
   "source": [
    "##### Remove Special Characters Using Regex\n",
    "\n",
    "I found [this article](https://kanoki.org/2019/11/12/how-to-use-regex-in-pandas/) very helpful when using Regex in Pandas!"
   ]
  },
  {
   "cell_type": "code",
   "execution_count": 18,
   "metadata": {},
   "outputs": [
    {
     "data": {
      "text/plain": [
       "0     Hyundai Motor India on Sunday said its three e...\n",
       "1     Sinead Boucher the CEO of New Zealandbased med...\n",
       "2     Mahindra Group Chairman Anand Mahindra said th...\n",
       "3     Global car rental company Hertz has filed for ...\n",
       "4     Amazon CEO Jeff Bezos and Facebook CEO Mark Zu...\n",
       "                            ...                        \n",
       "94    Rahul Dholakia has said filmmaking in the post...\n",
       "95    Reese Witherspoon has shared she used to be wo...\n",
       "96    Suchitra Pillai who played Commandant Tyagi in...\n",
       "97    Ellie Goulding recently revealed that she kiss...\n",
       "98    Producers Guild of India GUILD on Monday tweet...\n",
       "Name: content, Length: 99, dtype: object"
      ]
     },
     "execution_count": 18,
     "metadata": {},
     "output_type": "execute_result"
    }
   ],
   "source": [
    "# Again, this is a look because it has not been reassigned or changed in place.\n",
    "\n",
    "df.content.str.replace(r\"[^A-z0-9'\\s]\", '', regex=True)"
   ]
  },
  {
   "cell_type": "code",
   "execution_count": 23,
   "metadata": {},
   "outputs": [],
   "source": [
    "# Now, I can chain these together and assign to my df as a new columm, 'basic_clean'\n",
    "\n",
    "df['basic_clean'] = df.content.str.lower()\\\n",
    "                    .str.replace(r\"[^A-z0-9'\\s]\", '', regex=True)\\\n",
    "                    .str.normalize('NFKC')\\\n",
    "                    .str.encode('ascii', 'ignore')\\\n",
    "                    .str.decode('utf-8', 'ignore')"
   ]
  },
  {
   "cell_type": "code",
   "execution_count": 24,
   "metadata": {},
   "outputs": [
    {
     "data": {
      "text/html": [
       "<div>\n",
       "<style scoped>\n",
       "    .dataframe tbody tr th:only-of-type {\n",
       "        vertical-align: middle;\n",
       "    }\n",
       "\n",
       "    .dataframe tbody tr th {\n",
       "        vertical-align: top;\n",
       "    }\n",
       "\n",
       "    .dataframe thead th {\n",
       "        text-align: right;\n",
       "    }\n",
       "</style>\n",
       "<table border=\"1\" class=\"dataframe\">\n",
       "  <thead>\n",
       "    <tr style=\"text-align: right;\">\n",
       "      <th></th>\n",
       "      <th>topic</th>\n",
       "      <th>title</th>\n",
       "      <th>author</th>\n",
       "      <th>content</th>\n",
       "      <th>basic_clean</th>\n",
       "    </tr>\n",
       "  </thead>\n",
       "  <tbody>\n",
       "    <tr>\n",
       "      <th>0</th>\n",
       "      <td>business</td>\n",
       "      <td>3 employees at Hyundai's Chennai plant test po...</td>\n",
       "      <td>Pragya Swastik</td>\n",
       "      <td>Hyundai Motor India on Sunday said its three e...</td>\n",
       "      <td>hyundai motor india on sunday said its three e...</td>\n",
       "    </tr>\n",
       "    <tr>\n",
       "      <th>1</th>\n",
       "      <td>business</td>\n",
       "      <td>CEO of New Zealand media outlet Stuff buys the...</td>\n",
       "      <td>Dharna</td>\n",
       "      <td>Sinead Boucher, the CEO of New Zealand-based m...</td>\n",
       "      <td>sinead boucher the ceo of new zealandbased med...</td>\n",
       "    </tr>\n",
       "    <tr>\n",
       "      <th>2</th>\n",
       "      <td>business</td>\n",
       "      <td>Lockdown extensions won't help, cases will con...</td>\n",
       "      <td>Anushka Dixit</td>\n",
       "      <td>Mahindra Group Chairman Anand Mahindra said th...</td>\n",
       "      <td>mahindra group chairman anand mahindra said th...</td>\n",
       "    </tr>\n",
       "    <tr>\n",
       "      <th>3</th>\n",
       "      <td>business</td>\n",
       "      <td>102-year-old car rental firm Hertz files for b...</td>\n",
       "      <td>Dharna</td>\n",
       "      <td>Global car rental company Hertz has filed for ...</td>\n",
       "      <td>global car rental company hertz has filed for ...</td>\n",
       "    </tr>\n",
       "    <tr>\n",
       "      <th>4</th>\n",
       "      <td>business</td>\n",
       "      <td>Jeff Bezos, Zuckerberg highest-earning billion...</td>\n",
       "      <td>Pragya Swastik</td>\n",
       "      <td>Amazon CEO Jeff Bezos and Facebook CEO Mark Zu...</td>\n",
       "      <td>amazon ceo jeff bezos and facebook ceo mark zu...</td>\n",
       "    </tr>\n",
       "  </tbody>\n",
       "</table>\n",
       "</div>"
      ],
      "text/plain": [
       "      topic                                              title  \\\n",
       "0  business  3 employees at Hyundai's Chennai plant test po...   \n",
       "1  business  CEO of New Zealand media outlet Stuff buys the...   \n",
       "2  business  Lockdown extensions won't help, cases will con...   \n",
       "3  business  102-year-old car rental firm Hertz files for b...   \n",
       "4  business  Jeff Bezos, Zuckerberg highest-earning billion...   \n",
       "\n",
       "           author                                            content  \\\n",
       "0  Pragya Swastik  Hyundai Motor India on Sunday said its three e...   \n",
       "1          Dharna  Sinead Boucher, the CEO of New Zealand-based m...   \n",
       "2   Anushka Dixit  Mahindra Group Chairman Anand Mahindra said th...   \n",
       "3          Dharna  Global car rental company Hertz has filed for ...   \n",
       "4  Pragya Swastik  Amazon CEO Jeff Bezos and Facebook CEO Mark Zu...   \n",
       "\n",
       "                                         basic_clean  \n",
       "0  hyundai motor india on sunday said its three e...  \n",
       "1  sinead boucher the ceo of new zealandbased med...  \n",
       "2  mahindra group chairman anand mahindra said th...  \n",
       "3  global car rental company hertz has filed for ...  \n",
       "4  amazon ceo jeff bezos and facebook ceo mark zu...  "
      ]
     },
     "execution_count": 24,
     "metadata": {},
     "output_type": "execute_result"
    }
   ],
   "source": [
    "df.head()"
   ]
  },
  {
   "cell_type": "markdown",
   "metadata": {},
   "source": [
    "#### **<font color=green>Now What?</font>**\n",
    "\n",
    "##### Basic Clean Function"
   ]
  },
  {
   "cell_type": "code",
   "execution_count": 21,
   "metadata": {},
   "outputs": [],
   "source": [
    "def basic_clean(df, col):\n",
    "    '''\n",
    "    This function takes in a df and a string for a column and\n",
    "    returns the df with a new column named 'basic_clean' with the\n",
    "    passed column text normalized.\n",
    "    '''\n",
    "    df['basic_clean'] = df[col].str.lower()\\\n",
    "                    .str.replace(r\"[^A-z0-9'\\s]\", '', regex=True)\\\n",
    "                    .str.normalize('NFKC')\\\n",
    "                    .str.encode('ascii', 'ignore')\\\n",
    "                    .str.decode('utf-8', 'ignore')\n",
    "    return df"
   ]
  },
  {
   "cell_type": "code",
   "execution_count": 22,
   "metadata": {},
   "outputs": [
    {
     "data": {
      "text/html": [
       "<div>\n",
       "<style scoped>\n",
       "    .dataframe tbody tr th:only-of-type {\n",
       "        vertical-align: middle;\n",
       "    }\n",
       "\n",
       "    .dataframe tbody tr th {\n",
       "        vertical-align: top;\n",
       "    }\n",
       "\n",
       "    .dataframe thead th {\n",
       "        text-align: right;\n",
       "    }\n",
       "</style>\n",
       "<table border=\"1\" class=\"dataframe\">\n",
       "  <thead>\n",
       "    <tr style=\"text-align: right;\">\n",
       "      <th></th>\n",
       "      <th>topic</th>\n",
       "      <th>title</th>\n",
       "      <th>author</th>\n",
       "      <th>content</th>\n",
       "      <th>basic_clean</th>\n",
       "    </tr>\n",
       "  </thead>\n",
       "  <tbody>\n",
       "    <tr>\n",
       "      <th>0</th>\n",
       "      <td>business</td>\n",
       "      <td>3 employees at Hyundai's Chennai plant test po...</td>\n",
       "      <td>Pragya Swastik</td>\n",
       "      <td>Hyundai Motor India on Sunday said its three e...</td>\n",
       "      <td>hyundai motor india on sunday said its three e...</td>\n",
       "    </tr>\n",
       "    <tr>\n",
       "      <th>1</th>\n",
       "      <td>business</td>\n",
       "      <td>CEO of New Zealand media outlet Stuff buys the...</td>\n",
       "      <td>Dharna</td>\n",
       "      <td>Sinead Boucher, the CEO of New Zealand-based m...</td>\n",
       "      <td>sinead boucher the ceo of new zealandbased med...</td>\n",
       "    </tr>\n",
       "  </tbody>\n",
       "</table>\n",
       "</div>"
      ],
      "text/plain": [
       "      topic                                              title  \\\n",
       "0  business  3 employees at Hyundai's Chennai plant test po...   \n",
       "1  business  CEO of New Zealand media outlet Stuff buys the...   \n",
       "\n",
       "           author                                            content  \\\n",
       "0  Pragya Swastik  Hyundai Motor India on Sunday said its three e...   \n",
       "1          Dharna  Sinead Boucher, the CEO of New Zealand-based m...   \n",
       "\n",
       "                                         basic_clean  \n",
       "0  hyundai motor india on sunday said its three e...  \n",
       "1  sinead boucher the ceo of new zealandbased med...  "
      ]
     },
     "execution_count": 22,
     "metadata": {},
     "output_type": "execute_result"
    }
   ],
   "source": [
    "df = basic_clean(df, 'content')\n",
    "df.head(2)"
   ]
  },
  {
   "cell_type": "markdown",
   "metadata": {},
   "source": [
    "**Tokenization** - is when you split larger strings of text into smaller pieces or tokens by setting a boundary. You might chunk a sentence into words using a space as a boundary or a paragraph into sentences using punctuation as a boundary.\n",
    "\n",
    "#### Tokenization Examples:\n",
    "\n",
    "##### Using `.split()`\n",
    "\n",
    "Tokenizing using `.split()` is simple but also limited to one delimiter."
   ]
  },
  {
   "cell_type": "code",
   "execution_count": 25,
   "metadata": {},
   "outputs": [],
   "source": [
    "text = 'Knowledge is the compound interest of curiosity. - James Clear'"
   ]
  },
  {
   "cell_type": "code",
   "execution_count": 26,
   "metadata": {},
   "outputs": [
    {
     "data": {
      "text/plain": [
       "['Knowledge',\n",
       " 'is',\n",
       " 'the',\n",
       " 'compound',\n",
       " 'interest',\n",
       " 'of',\n",
       " 'curiosity.',\n",
       " '-',\n",
       " 'James',\n",
       " 'Clear']"
      ]
     },
     "execution_count": 26,
     "metadata": {},
     "output_type": "execute_result"
    }
   ],
   "source": [
    "text.split()"
   ]
  },
  {
   "cell_type": "code",
   "execution_count": 76,
   "metadata": {},
   "outputs": [],
   "source": [
    "text = \"There's the kind of person who is always the victim in any story they tell. Always on the receiving end of some injustice. There's the kind of person who is always the kind of hero of every story they tell. There's the smart person; they delivered the clever put down there.\""
   ]
  },
  {
   "cell_type": "code",
   "execution_count": 77,
   "metadata": {},
   "outputs": [
    {
     "data": {
      "text/plain": [
       "[\"There's the kind of person who is always the victim in any story they tell\",\n",
       " ' Always on the receiving end of some injustice',\n",
       " \" There's the kind of person who is always the kind of hero of every story they tell\",\n",
       " \" There's the smart person; they delivered the clever put down there\",\n",
       " '']"
      ]
     },
     "execution_count": 77,
     "metadata": {},
     "output_type": "execute_result"
    }
   ],
   "source": [
    "text.split('.')"
   ]
  },
  {
   "cell_type": "markdown",
   "metadata": {},
   "source": [
    "##### Using Regex\n",
    "\n",
    "**<font color=purple>Identifiers</font>**\n",
    "\n",
    "<table ><tr><th>Character</th><th>Description</th><th>Example Pattern Code</th><th >Exammple Match</th></tr>\n",
    "\n",
    "<tr ><td><span >\\d</span></td><td>A digit</td><td>file_\\d\\d</td><td>file_25</td></tr>\n",
    "\n",
    "<tr ><td><span >\\w</span></td><td>Alphanumeric</td><td>\\w-\\w\\w\\w</td><td>A-b_1</td></tr>\n",
    "\n",
    "\n",
    "\n",
    "<tr ><td><span >\\s</span></td><td>White space</td><td>a\\sb\\sc</td><td>a b c</td></tr>\n",
    "\n",
    "\n",
    "\n",
    "<tr ><td><span >\\D</span></td><td>A non digit</td><td>\\D\\D\\D</td><td>ABC</td></tr>\n",
    "\n",
    "<tr ><td><span >\\W</span></td><td>Non-alphanumeric</td><td>\\W\\W\\W\\W\\W</td><td>*-+=)</td></tr>\n",
    "\n",
    "<tr ><td><span >\\S</span></td><td>Non-whitespace</td><td>\\S\\S\\S\\S</td><td>Yoyo</td></tr></table>\n",
    "\n",
    "**<font color=purple>Quantifiers</font>**\n",
    "\n",
    "<table ><tr><th>Character</th><th>Description</th><th>Example Pattern Code</th><th >Exammple Match</th></tr>\n",
    "\n",
    "<tr ><td><span >+</span></td><td>Occurs one or more times</td><td>\tVersion \\w-\\w+</td><td>Version A-b1_1</td></tr>\n",
    "\n",
    "<tr ><td><span >{3}</span></td><td>Occurs exactly 3 times</td><td>\\D{3}</td><td>abc</td></tr>\n",
    "\n",
    "\n",
    "\n",
    "<tr ><td><span >{2,4}</span></td><td>Occurs 2 to 4 times</td><td>\\d{2,4}</td><td>123</td></tr>\n",
    "\n",
    "\n",
    "\n",
    "<tr ><td><span >{3,}</span></td><td>Occurs 3 or more</td><td>\\w{3,}</td><td>anycharacters</td></tr>\n",
    "\n",
    "<tr ><td><span >\\*</span></td><td>Occurs zero or more times</td><td>A\\*B\\*C*</td><td>AAACC</td></tr>\n",
    "\n",
    "<tr ><td><span >?</span></td><td>Once or none</td><td>plurals?</td><td>plural</td></tr></table>\n",
    "\n",
    "**<font color=purple>More Regex</font>**\n",
    "\n",
    "<table ><tr><th>Character</th><th>Description</th><th>Example</th></tr>\n",
    "    \n",
    "<tr ><td><span >|</span></td><td>or statement</td><td>r'dog|cat'</td></tr>\n",
    "\n",
    "<tr ><td><span >*</span></td><td>wildcard</td><td>r'.at'</td></tr>\n",
    "    \n",
    "<tr ><td><span >^</span></td><td>starts with</td><td>r'^\\d'</td></tr>\n",
    "    \n",
    "<tr ><td><span >[^]</span></td><td>exclusion</td><td>r'[^a-z]'</td></tr>"
   ]
  },
  {
   "cell_type": "code",
   "execution_count": 29,
   "metadata": {
    "scrolled": true
   },
   "outputs": [
    {
     "data": {
      "text/plain": [
       "['Knowledge',\n",
       " 'is',\n",
       " 'the',\n",
       " 'compound',\n",
       " 'interest',\n",
       " 'of',\n",
       " 'curiosity',\n",
       " 'James',\n",
       " 'Clear']"
      ]
     },
     "execution_count": 29,
     "metadata": {},
     "output_type": "execute_result"
    }
   ],
   "source": [
    "# Split your text using a regex pattern in .findall()\n",
    "\n",
    "pattern = r'[\\w]+'\n",
    "text = 'Knowledge is the compound interest of curiosity. - James Clear'\n",
    "\n",
    "tokens = re.findall(pattern, text)\n",
    "tokens"
   ]
  },
  {
   "cell_type": "code",
   "execution_count": 78,
   "metadata": {},
   "outputs": [
    {
     "data": {
      "text/plain": [
       "[\"There's the kind of person who is always the victim in any story they tell\",\n",
       " ' Always on the receiving end of some injustice',\n",
       " \" There's the kind of person who is always the kind of hero of every story they tell\",\n",
       " \" There's the smart person\",\n",
       " ' they delivered the clever put down there',\n",
       " '']"
      ]
     },
     "execution_count": 78,
     "metadata": {},
     "output_type": "execute_result"
    }
   ],
   "source": [
    "# Use `.compile()` with .split(text) to split your text on more than one delimiter\n",
    "\n",
    "pattern = re.compile(r'[.;!?]')\n",
    "text = \"There's the kind of person who is always the victim in any story they tell. Always on the receiving end of some injustice. There's the kind of person who is always the kind of hero of every story they tell. There's the smart person; they delivered the clever put down there.\"\n",
    "\n",
    "pattern.split(text)"
   ]
  },
  {
   "cell_type": "markdown",
   "metadata": {},
   "source": [
    "##### Using NLTK Tokenization\n",
    "\n",
    "```python\n",
    "tokenizer = nltk.tokenize.ToktokTokenizer()\n",
    "\n",
    "```\n",
    "\n",
    "```python\n",
    "df[tokenized] = df.col.apply(tokenizer.tokenize)\n",
    "```\n",
    "**<font color=red>I am not going to join the words in my lists back into sentences because this form will be helpful in my next functions.</font>**"
   ]
  },
  {
   "cell_type": "code",
   "execution_count": 32,
   "metadata": {},
   "outputs": [],
   "source": [
    "tokenizer = nltk.tokenize.ToktokTokenizer()"
   ]
  },
  {
   "cell_type": "code",
   "execution_count": 33,
   "metadata": {
    "scrolled": true
   },
   "outputs": [
    {
     "data": {
      "text/plain": [
       "0    [hyundai, motor, india, on, sunday, said, its,...\n",
       "1    [sinead, boucher, the, ceo, of, new, zealandba...\n",
       "Name: basic_clean, dtype: object"
      ]
     },
     "execution_count": 33,
     "metadata": {},
     "output_type": "execute_result"
    }
   ],
   "source": [
    "df.basic_clean.apply(tokenizer.tokenize)[:2]"
   ]
  },
  {
   "cell_type": "code",
   "execution_count": 34,
   "metadata": {},
   "outputs": [],
   "source": [
    "# Here we apply nltk's tokenizer to each row, or text, in our basic_clean Series\n",
    "\n",
    "df['clean_tokes'] = df.basic_clean.apply(tokenizer.tokenize)"
   ]
  },
  {
   "cell_type": "code",
   "execution_count": 35,
   "metadata": {},
   "outputs": [
    {
     "data": {
      "text/html": [
       "<div>\n",
       "<style scoped>\n",
       "    .dataframe tbody tr th:only-of-type {\n",
       "        vertical-align: middle;\n",
       "    }\n",
       "\n",
       "    .dataframe tbody tr th {\n",
       "        vertical-align: top;\n",
       "    }\n",
       "\n",
       "    .dataframe thead th {\n",
       "        text-align: right;\n",
       "    }\n",
       "</style>\n",
       "<table border=\"1\" class=\"dataframe\">\n",
       "  <thead>\n",
       "    <tr style=\"text-align: right;\">\n",
       "      <th></th>\n",
       "      <th>topic</th>\n",
       "      <th>title</th>\n",
       "      <th>author</th>\n",
       "      <th>content</th>\n",
       "      <th>basic_clean</th>\n",
       "      <th>clean_tokes</th>\n",
       "    </tr>\n",
       "  </thead>\n",
       "  <tbody>\n",
       "    <tr>\n",
       "      <th>0</th>\n",
       "      <td>business</td>\n",
       "      <td>3 employees at Hyundai's Chennai plant test po...</td>\n",
       "      <td>Pragya Swastik</td>\n",
       "      <td>Hyundai Motor India on Sunday said its three e...</td>\n",
       "      <td>hyundai motor india on sunday said its three e...</td>\n",
       "      <td>[hyundai, motor, india, on, sunday, said, its,...</td>\n",
       "    </tr>\n",
       "    <tr>\n",
       "      <th>1</th>\n",
       "      <td>business</td>\n",
       "      <td>CEO of New Zealand media outlet Stuff buys the...</td>\n",
       "      <td>Dharna</td>\n",
       "      <td>Sinead Boucher, the CEO of New Zealand-based m...</td>\n",
       "      <td>sinead boucher the ceo of new zealandbased med...</td>\n",
       "      <td>[sinead, boucher, the, ceo, of, new, zealandba...</td>\n",
       "    </tr>\n",
       "  </tbody>\n",
       "</table>\n",
       "</div>"
      ],
      "text/plain": [
       "      topic                                              title  \\\n",
       "0  business  3 employees at Hyundai's Chennai plant test po...   \n",
       "1  business  CEO of New Zealand media outlet Stuff buys the...   \n",
       "\n",
       "           author                                            content  \\\n",
       "0  Pragya Swastik  Hyundai Motor India on Sunday said its three e...   \n",
       "1          Dharna  Sinead Boucher, the CEO of New Zealand-based m...   \n",
       "\n",
       "                                         basic_clean  \\\n",
       "0  hyundai motor india on sunday said its three e...   \n",
       "1  sinead boucher the ceo of new zealandbased med...   \n",
       "\n",
       "                                         clean_tokes  \n",
       "0  [hyundai, motor, india, on, sunday, said, its,...  \n",
       "1  [sinead, boucher, the, ceo, of, new, zealandba...  "
      ]
     },
     "execution_count": 35,
     "metadata": {},
     "output_type": "execute_result"
    }
   ],
   "source": [
    "df.head(2)"
   ]
  },
  {
   "cell_type": "markdown",
   "metadata": {},
   "source": [
    "**<font color=green>Now What?</font>**\n",
    "\n",
    "##### Tokenize Function"
   ]
  },
  {
   "cell_type": "code",
   "execution_count": 36,
   "metadata": {},
   "outputs": [],
   "source": [
    "def tokenize(df, col):\n",
    "    '''\n",
    "    This function takes in a df and a string for a column and\n",
    "    returns a df with a new column named 'clean_tokes' with the\n",
    "    passed column text tokenized and in a list.\n",
    "    '''\n",
    "    tokenizer = nltk.tokenize.ToktokTokenizer()\n",
    "    df['clean_tokes'] = df[col].apply(tokenizer.tokenize)\n",
    "    return df"
   ]
  },
  {
   "cell_type": "code",
   "execution_count": 37,
   "metadata": {},
   "outputs": [
    {
     "data": {
      "text/html": [
       "<div>\n",
       "<style scoped>\n",
       "    .dataframe tbody tr th:only-of-type {\n",
       "        vertical-align: middle;\n",
       "    }\n",
       "\n",
       "    .dataframe tbody tr th {\n",
       "        vertical-align: top;\n",
       "    }\n",
       "\n",
       "    .dataframe thead th {\n",
       "        text-align: right;\n",
       "    }\n",
       "</style>\n",
       "<table border=\"1\" class=\"dataframe\">\n",
       "  <thead>\n",
       "    <tr style=\"text-align: right;\">\n",
       "      <th></th>\n",
       "      <th>topic</th>\n",
       "      <th>title</th>\n",
       "      <th>author</th>\n",
       "      <th>content</th>\n",
       "      <th>basic_clean</th>\n",
       "      <th>clean_tokes</th>\n",
       "    </tr>\n",
       "  </thead>\n",
       "  <tbody>\n",
       "    <tr>\n",
       "      <th>0</th>\n",
       "      <td>business</td>\n",
       "      <td>3 employees at Hyundai's Chennai plant test po...</td>\n",
       "      <td>Pragya Swastik</td>\n",
       "      <td>Hyundai Motor India on Sunday said its three e...</td>\n",
       "      <td>hyundai motor india on sunday said its three e...</td>\n",
       "      <td>[hyundai, motor, india, on, sunday, said, its,...</td>\n",
       "    </tr>\n",
       "    <tr>\n",
       "      <th>1</th>\n",
       "      <td>business</td>\n",
       "      <td>CEO of New Zealand media outlet Stuff buys the...</td>\n",
       "      <td>Dharna</td>\n",
       "      <td>Sinead Boucher, the CEO of New Zealand-based m...</td>\n",
       "      <td>sinead boucher the ceo of new zealandbased med...</td>\n",
       "      <td>[sinead, boucher, the, ceo, of, new, zealandba...</td>\n",
       "    </tr>\n",
       "  </tbody>\n",
       "</table>\n",
       "</div>"
      ],
      "text/plain": [
       "      topic                                              title  \\\n",
       "0  business  3 employees at Hyundai's Chennai plant test po...   \n",
       "1  business  CEO of New Zealand media outlet Stuff buys the...   \n",
       "\n",
       "           author                                            content  \\\n",
       "0  Pragya Swastik  Hyundai Motor India on Sunday said its three e...   \n",
       "1          Dharna  Sinead Boucher, the CEO of New Zealand-based m...   \n",
       "\n",
       "                                         basic_clean  \\\n",
       "0  hyundai motor india on sunday said its three e...   \n",
       "1  sinead boucher the ceo of new zealandbased med...   \n",
       "\n",
       "                                         clean_tokes  \n",
       "0  [hyundai, motor, india, on, sunday, said, its,...  \n",
       "1  [sinead, boucher, the, ceo, of, new, zealandba...  "
      ]
     },
     "execution_count": 37,
     "metadata": {},
     "output_type": "execute_result"
    }
   ],
   "source": [
    "df = tokenize(df, 'basic_clean')\n",
    "df.head(2)"
   ]
  },
  {
   "cell_type": "markdown",
   "metadata": {},
   "source": [
    "**Stemming** - is when you reduce related words in your text to their common stem. It can make it easier when you are searching for a particular word in your text to search for their common stem rather than every form of the word. Stemmers aren't that sophisticated in the way they chop off word endings at their common stems; Spacy, another python NLP library, doesn't even include a stemmer in their library. Spacy only offers the more sophisticated lemmatizer, which we will look at in NLTK next.\n",
    "\n",
    "\n",
    "##### Using NLTK PorterStemmer\n",
    "\n",
    "```python\n",
    "ps = nltk.porter.PorterStemmer()\n",
    "```\n",
    "\n",
    "```python\n",
    "stems = df.tokenized_col.apply(lambda row: [ps.stem(word) for word in row])\n",
    "```\n",
    "\n",
    "```python\n",
    "df['stemmed'] = stems.str.join(' ')\n",
    "```"
   ]
  },
  {
   "cell_type": "code",
   "execution_count": 38,
   "metadata": {},
   "outputs": [],
   "source": [
    "# Create porter stemmer\n",
    "\n",
    "ps = nltk.porter.PorterStemmer()"
   ]
  },
  {
   "cell_type": "code",
   "execution_count": 40,
   "metadata": {},
   "outputs": [
    {
     "data": {
      "text/plain": [
       "0    [hyundai, motor, india, on, sunday, said, it, ...\n",
       "1    [sinead, boucher, the, ceo, of, new, zealandba...\n",
       "Name: clean_tokes, dtype: object"
      ]
     },
     "execution_count": 40,
     "metadata": {},
     "output_type": "execute_result"
    }
   ],
   "source": [
    "# Stem each token from our clean_tokes Series of lists\n",
    "\n",
    "stems = df.clean_tokes.apply(lambda row: [ps.stem(word) for word in row])\n",
    "stems.head(2)"
   ]
  },
  {
   "cell_type": "code",
   "execution_count": 41,
   "metadata": {},
   "outputs": [],
   "source": [
    "# Join our cleaned, stemmed lists of words back into sentences\n",
    "\n",
    "df['stemmed'] = stems.str.join(' ')"
   ]
  },
  {
   "cell_type": "code",
   "execution_count": 42,
   "metadata": {},
   "outputs": [
    {
     "data": {
      "text/html": [
       "<div>\n",
       "<style scoped>\n",
       "    .dataframe tbody tr th:only-of-type {\n",
       "        vertical-align: middle;\n",
       "    }\n",
       "\n",
       "    .dataframe tbody tr th {\n",
       "        vertical-align: top;\n",
       "    }\n",
       "\n",
       "    .dataframe thead th {\n",
       "        text-align: right;\n",
       "    }\n",
       "</style>\n",
       "<table border=\"1\" class=\"dataframe\">\n",
       "  <thead>\n",
       "    <tr style=\"text-align: right;\">\n",
       "      <th></th>\n",
       "      <th>topic</th>\n",
       "      <th>title</th>\n",
       "      <th>author</th>\n",
       "      <th>content</th>\n",
       "      <th>basic_clean</th>\n",
       "      <th>clean_tokes</th>\n",
       "      <th>stemmed</th>\n",
       "    </tr>\n",
       "  </thead>\n",
       "  <tbody>\n",
       "    <tr>\n",
       "      <th>0</th>\n",
       "      <td>business</td>\n",
       "      <td>3 employees at Hyundai's Chennai plant test positive for coronavirus</td>\n",
       "      <td>Pragya Swastik</td>\n",
       "      <td>Hyundai Motor India on Sunday said its three employees at Chennai-based plant have tested positive for coronavirus after showing mild symptoms of cough and cold. The second-largest carmaker in the country had resumed operations at Irungattukottai-based plant (near Chennai) on May 8. All three em...</td>\n",
       "      <td>hyundai motor india on sunday said its three employees at chennaibased plant have tested positive for coronavirus after showing mild symptoms of cough and cold the secondlargest carmaker in the country had resumed operations at irungattukottaibased plant near chennai on may 8 all three employees...</td>\n",
       "      <td>[hyundai, motor, india, on, sunday, said, its, three, employees, at, chennaibased, plant, have, tested, positive, for, coronavirus, after, showing, mild, symptoms, of, cough, and, cold, the, secondlargest, carmaker, in, the, country, had, resumed, operations, at, irungattukottaibased, plant, nea...</td>\n",
       "      <td>hyundai motor india on sunday said it three employe at chennaibas plant have test posit for coronaviru after show mild symptom of cough and cold the secondlargest carmak in the countri had resum oper at irungattukottaibas plant near chennai on may 8 all three employe are recov fast toward normal...</td>\n",
       "    </tr>\n",
       "    <tr>\n",
       "      <th>1</th>\n",
       "      <td>business</td>\n",
       "      <td>CEO of New Zealand media outlet Stuff buys the company for ₹46</td>\n",
       "      <td>Dharna</td>\n",
       "      <td>Sinead Boucher, the CEO of New Zealand-based media outlet Stuff, has bought the company from Australian broadcaster Nine Entertainment for just NZ$1 (around ₹46) to maintain local ownership. This comes a month after Stuff asked staff to voluntarily take pay cuts amid the coronavirus pandemic. Ni...</td>\n",
       "      <td>sinead boucher the ceo of new zealandbased media outlet stuff has bought the company from australian broadcaster nine entertainment for just nz1 around 46 to maintain local ownership this comes a month after stuff asked staff to voluntarily take pay cuts amid the coronavirus pandemic nine would ...</td>\n",
       "      <td>[sinead, boucher, the, ceo, of, new, zealandbased, media, outlet, stuff, has, bought, the, company, from, australian, broadcaster, nine, entertainment, for, just, nz1, around, 46, to, maintain, local, ownership, this, comes, a, month, after, stuff, asked, staff, to, voluntarily, take, pay, cuts,...</td>\n",
       "      <td>sinead boucher the ceo of new zealandbas media outlet stuff ha bought the compani from australian broadcast nine entertain for just nz1 around 46 to maintain local ownership thi come a month after stuff ask staff to voluntarili take pay cut amid the coronaviru pandem nine would take a hit of 262...</td>\n",
       "    </tr>\n",
       "  </tbody>\n",
       "</table>\n",
       "</div>"
      ],
      "text/plain": [
       "      topic  \\\n",
       "0  business   \n",
       "1  business   \n",
       "\n",
       "                                                                  title  \\\n",
       "0  3 employees at Hyundai's Chennai plant test positive for coronavirus   \n",
       "1        CEO of New Zealand media outlet Stuff buys the company for ₹46   \n",
       "\n",
       "           author  \\\n",
       "0  Pragya Swastik   \n",
       "1          Dharna   \n",
       "\n",
       "                                                                                                                                                                                                                                                                                                       content  \\\n",
       "0  Hyundai Motor India on Sunday said its three employees at Chennai-based plant have tested positive for coronavirus after showing mild symptoms of cough and cold. The second-largest carmaker in the country had resumed operations at Irungattukottai-based plant (near Chennai) on May 8. All three em...   \n",
       "1  Sinead Boucher, the CEO of New Zealand-based media outlet Stuff, has bought the company from Australian broadcaster Nine Entertainment for just NZ$1 (around ₹46) to maintain local ownership. This comes a month after Stuff asked staff to voluntarily take pay cuts amid the coronavirus pandemic. Ni...   \n",
       "\n",
       "                                                                                                                                                                                                                                                                                                   basic_clean  \\\n",
       "0  hyundai motor india on sunday said its three employees at chennaibased plant have tested positive for coronavirus after showing mild symptoms of cough and cold the secondlargest carmaker in the country had resumed operations at irungattukottaibased plant near chennai on may 8 all three employees...   \n",
       "1  sinead boucher the ceo of new zealandbased media outlet stuff has bought the company from australian broadcaster nine entertainment for just nz1 around 46 to maintain local ownership this comes a month after stuff asked staff to voluntarily take pay cuts amid the coronavirus pandemic nine would ...   \n",
       "\n",
       "                                                                                                                                                                                                                                                                                                   clean_tokes  \\\n",
       "0  [hyundai, motor, india, on, sunday, said, its, three, employees, at, chennaibased, plant, have, tested, positive, for, coronavirus, after, showing, mild, symptoms, of, cough, and, cold, the, secondlargest, carmaker, in, the, country, had, resumed, operations, at, irungattukottaibased, plant, nea...   \n",
       "1  [sinead, boucher, the, ceo, of, new, zealandbased, media, outlet, stuff, has, bought, the, company, from, australian, broadcaster, nine, entertainment, for, just, nz1, around, 46, to, maintain, local, ownership, this, comes, a, month, after, stuff, asked, staff, to, voluntarily, take, pay, cuts,...   \n",
       "\n",
       "                                                                                                                                                                                                                                                                                                       stemmed  \n",
       "0  hyundai motor india on sunday said it three employe at chennaibas plant have test posit for coronaviru after show mild symptom of cough and cold the secondlargest carmak in the countri had resum oper at irungattukottaibas plant near chennai on may 8 all three employe are recov fast toward normal...  \n",
       "1  sinead boucher the ceo of new zealandbas media outlet stuff ha bought the compani from australian broadcast nine entertain for just nz1 around 46 to maintain local ownership thi come a month after stuff ask staff to voluntarili take pay cut amid the coronaviru pandem nine would take a hit of 262...  "
      ]
     },
     "execution_count": 42,
     "metadata": {},
     "output_type": "execute_result"
    }
   ],
   "source": [
    "# We can do a quick visual check that our stemmer is working.\n",
    "\n",
    "pd.options.display.max_colwidth = 300\n",
    "df.head(2)"
   ]
  },
  {
   "cell_type": "markdown",
   "metadata": {},
   "source": [
    "**<font color=green>Now What?</font>**\n",
    "\n",
    "##### Stem Function"
   ]
  },
  {
   "cell_type": "code",
   "execution_count": 43,
   "metadata": {},
   "outputs": [],
   "source": [
    "def stem(df, col):\n",
    "    '''\n",
    "    This function takes in a df and a string for a column name and\n",
    "    returns a df with a new column named 'stemmed'.\n",
    "    '''\n",
    "    # Create porter stemmer\n",
    "    ps = nltk.porter.PorterStemmer()\n",
    "    \n",
    "    # Stem each token from our clean_tokes Series of lists\n",
    "    stems = df[col].apply(lambda row: [ps.stem(word) for word in row])\n",
    "    \n",
    "    # Join our cleaned, stemmed lists of words back into sentences\n",
    "    df['stemmed'] = stems.str.join(' ')\n",
    "    \n",
    "    return df"
   ]
  },
  {
   "cell_type": "code",
   "execution_count": 45,
   "metadata": {},
   "outputs": [
    {
     "data": {
      "text/html": [
       "<div>\n",
       "<style scoped>\n",
       "    .dataframe tbody tr th:only-of-type {\n",
       "        vertical-align: middle;\n",
       "    }\n",
       "\n",
       "    .dataframe tbody tr th {\n",
       "        vertical-align: top;\n",
       "    }\n",
       "\n",
       "    .dataframe thead th {\n",
       "        text-align: right;\n",
       "    }\n",
       "</style>\n",
       "<table border=\"1\" class=\"dataframe\">\n",
       "  <thead>\n",
       "    <tr style=\"text-align: right;\">\n",
       "      <th></th>\n",
       "      <th>topic</th>\n",
       "      <th>title</th>\n",
       "      <th>author</th>\n",
       "      <th>content</th>\n",
       "      <th>basic_clean</th>\n",
       "      <th>clean_tokes</th>\n",
       "      <th>stemmed</th>\n",
       "    </tr>\n",
       "  </thead>\n",
       "  <tbody>\n",
       "    <tr>\n",
       "      <th>97</th>\n",
       "      <td>entertainment</td>\n",
       "      <td>I kissed quite a few frogs before I met my husband: Ellie</td>\n",
       "      <td>Vidushi Mishra</td>\n",
       "      <td>Ellie Goulding recently revealed that she \"kissed quite a few frogs\" before she met husband Caspar Jopling. \"That sounds harsh but that's the best way to say it because I did have a few relationships before Caspar that I thought at the time were amazing,\" the 33-year-old singer said. Reportedly,...</td>\n",
       "      <td>ellie goulding recently revealed that she kissed quite a few frogs before she met husband caspar jopling that sounds harsh but that's the best way to say it because i did have a few relationships before caspar that i thought at the time were amazing the 33yearold singer said reportedly ellie had...</td>\n",
       "      <td>[ellie, goulding, recently, revealed, that, she, kissed, quite, a, few, frogs, before, she, met, husband, caspar, jopling, that, sounds, harsh, but, that, ', s, the, best, way, to, say, it, because, i, did, have, a, few, relationships, before, caspar, that, i, thought, at, the, time, were, amazi...</td>\n",
       "      <td>elli gould recent reveal that she kiss quit a few frog befor she met husband caspar jopl that sound harsh but that ' s the best way to say it becaus i did have a few relationship befor caspar that i thought at the time were amaz the 33yearold singer said reportedli elli had date princ harri and ...</td>\n",
       "    </tr>\n",
       "    <tr>\n",
       "      <th>98</th>\n",
       "      <td>entertainment</td>\n",
       "      <td>Producers Guild prepares guidelines on COVID-19 prevention</td>\n",
       "      <td>Vidushi Mishra</td>\n",
       "      <td>Producers Guild of India (GUILD) on Monday tweeted the link to its Standard Operating Procedure (SOP) on technical and organisational measures for coronavirus contagion prevention, that will be followed when they are permitted to resume shooting. Furthermore, the GUILD thanked Maharashtra Chief ...</td>\n",
       "      <td>producers guild of india guild on monday tweeted the link to its standard operating procedure sop on technical and organisational measures for coronavirus contagion prevention that will be followed when they are permitted to resume shooting furthermore the guild thanked maharashtra chief ministe...</td>\n",
       "      <td>[producers, guild, of, india, guild, on, monday, tweeted, the, link, to, its, standard, operating, procedure, sop, on, technical, and, organisational, measures, for, coronavirus, contagion, prevention, that, will, be, followed, when, they, are, permitted, to, resume, shooting, furthermore, the, ...</td>\n",
       "      <td>produc guild of india guild on monday tweet the link to it standard oper procedur sop on technic and organis measur for coronaviru contagion prevent that will be follow when they are permit to resum shoot furthermor the guild thank maharashtra chief minist uddhav thackeray for consid request fro...</td>\n",
       "    </tr>\n",
       "  </tbody>\n",
       "</table>\n",
       "</div>"
      ],
      "text/plain": [
       "            topic                                                       title  \\\n",
       "97  entertainment   I kissed quite a few frogs before I met my husband: Ellie   \n",
       "98  entertainment  Producers Guild prepares guidelines on COVID-19 prevention   \n",
       "\n",
       "            author  \\\n",
       "97  Vidushi Mishra   \n",
       "98  Vidushi Mishra   \n",
       "\n",
       "                                                                                                                                                                                                                                                                                                        content  \\\n",
       "97  Ellie Goulding recently revealed that she \"kissed quite a few frogs\" before she met husband Caspar Jopling. \"That sounds harsh but that's the best way to say it because I did have a few relationships before Caspar that I thought at the time were amazing,\" the 33-year-old singer said. Reportedly,...   \n",
       "98  Producers Guild of India (GUILD) on Monday tweeted the link to its Standard Operating Procedure (SOP) on technical and organisational measures for coronavirus contagion prevention, that will be followed when they are permitted to resume shooting. Furthermore, the GUILD thanked Maharashtra Chief ...   \n",
       "\n",
       "                                                                                                                                                                                                                                                                                                    basic_clean  \\\n",
       "97  ellie goulding recently revealed that she kissed quite a few frogs before she met husband caspar jopling that sounds harsh but that's the best way to say it because i did have a few relationships before caspar that i thought at the time were amazing the 33yearold singer said reportedly ellie had...   \n",
       "98  producers guild of india guild on monday tweeted the link to its standard operating procedure sop on technical and organisational measures for coronavirus contagion prevention that will be followed when they are permitted to resume shooting furthermore the guild thanked maharashtra chief ministe...   \n",
       "\n",
       "                                                                                                                                                                                                                                                                                                    clean_tokes  \\\n",
       "97  [ellie, goulding, recently, revealed, that, she, kissed, quite, a, few, frogs, before, she, met, husband, caspar, jopling, that, sounds, harsh, but, that, ', s, the, best, way, to, say, it, because, i, did, have, a, few, relationships, before, caspar, that, i, thought, at, the, time, were, amazi...   \n",
       "98  [producers, guild, of, india, guild, on, monday, tweeted, the, link, to, its, standard, operating, procedure, sop, on, technical, and, organisational, measures, for, coronavirus, contagion, prevention, that, will, be, followed, when, they, are, permitted, to, resume, shooting, furthermore, the, ...   \n",
       "\n",
       "                                                                                                                                                                                                                                                                                                        stemmed  \n",
       "97  elli gould recent reveal that she kiss quit a few frog befor she met husband caspar jopl that sound harsh but that ' s the best way to say it becaus i did have a few relationship befor caspar that i thought at the time were amaz the 33yearold singer said reportedli elli had date princ harri and ...  \n",
       "98  produc guild of india guild on monday tweet the link to it standard oper procedur sop on technic and organis measur for coronaviru contagion prevent that will be follow when they are permit to resum shoot furthermor the guild thank maharashtra chief minist uddhav thackeray for consid request fro...  "
      ]
     },
     "execution_count": 45,
     "metadata": {},
     "output_type": "execute_result"
    }
   ],
   "source": [
    "df = stem(df, 'clean_tokes')\n",
    "df.tail(2)"
   ]
  },
  {
   "cell_type": "markdown",
   "metadata": {},
   "source": [
    "**Lemmatization** - is when you reduce related words in your text to their lemma or word base by applying a morphological analysis to your text. Like stemming, this is done to reduce the number of forms you have of the same word, so they can be analyzed as a single item. However, with stemming, you might end up with tokens that are not actually words anymore after they have been chopped off at their base, but with lemmatization you will end up with real words. A drawback of lemmatization is that it takes longer than stemming; you can try both to see which gives you better results as you analyze a given text.\n",
    "\n",
    "##### Using NLTK WordNetLemmatizer\n",
    "\n",
    "```python\n",
    "nltk.download('wordnet')\n",
    "```\n",
    "\n",
    "```python\n",
    "wnl = nltk.stem.WordNetLemmatizer()\n",
    "```\n",
    "\n",
    "```python\n",
    "lemmas = df.tokenized_col.apply(lambda row: [wnl.lemmatize(word) for word in row])\n",
    "```\n",
    "\n",
    "```python\n",
    "df['lemmatized'] = lemmas.str.join(' ')\n",
    "```"
   ]
  },
  {
   "cell_type": "code",
   "execution_count": 47,
   "metadata": {},
   "outputs": [],
   "source": [
    "wnl = nltk.stem.WordNetLemmatizer()"
   ]
  },
  {
   "cell_type": "code",
   "execution_count": 48,
   "metadata": {},
   "outputs": [
    {
     "data": {
      "text/plain": [
       "0    [hyundai, motor, india, on, sunday, said, it, three, employee, at, chennaibased, plant, have, tested, positive, for, coronavirus, after, showing, mild, symptom, of, cough, and, cold, the, secondlargest, carmaker, in, the, country, had, resumed, operation, at, irungattukottaibased, plant, near, c...\n",
       "1    [sinead, boucher, the, ceo, of, new, zealandbased, medium, outlet, stuff, ha, bought, the, company, from, australian, broadcaster, nine, entertainment, for, just, nz1, around, 46, to, maintain, local, ownership, this, come, a, month, after, stuff, asked, staff, to, voluntarily, take, pay, cut, a...\n",
       "Name: clean_tokes, dtype: object"
      ]
     },
     "execution_count": 48,
     "metadata": {},
     "output_type": "execute_result"
    }
   ],
   "source": [
    "# Lemmatize each token from our clean_tokes Series of lists\n",
    "\n",
    "lemmas = df.clean_tokes.apply(lambda row: [wnl.lemmatize(word) for word in row])\n",
    "lemmas.head(2)"
   ]
  },
  {
   "cell_type": "code",
   "execution_count": 49,
   "metadata": {},
   "outputs": [],
   "source": [
    "# Join our cleaned, lemmatized lists of words back into sentences\n",
    "\n",
    "df['lemmatized'] = lemmas.str.join(' ')"
   ]
  },
  {
   "cell_type": "code",
   "execution_count": 63,
   "metadata": {},
   "outputs": [
    {
     "data": {
      "text/html": [
       "<div>\n",
       "<style scoped>\n",
       "    .dataframe tbody tr th:only-of-type {\n",
       "        vertical-align: middle;\n",
       "    }\n",
       "\n",
       "    .dataframe tbody tr th {\n",
       "        vertical-align: top;\n",
       "    }\n",
       "\n",
       "    .dataframe thead th {\n",
       "        text-align: right;\n",
       "    }\n",
       "</style>\n",
       "<table border=\"1\" class=\"dataframe\">\n",
       "  <thead>\n",
       "    <tr style=\"text-align: right;\">\n",
       "      <th></th>\n",
       "      <th>topic</th>\n",
       "      <th>title</th>\n",
       "      <th>author</th>\n",
       "      <th>content</th>\n",
       "      <th>basic_clean</th>\n",
       "      <th>clean_tokes</th>\n",
       "      <th>stemmed</th>\n",
       "      <th>lemmatized</th>\n",
       "    </tr>\n",
       "  </thead>\n",
       "  <tbody>\n",
       "    <tr>\n",
       "      <th>0</th>\n",
       "      <td>business</td>\n",
       "      <td>3 employees at Hyundai's Chennai plant test positive for coronavirus</td>\n",
       "      <td>Pragya Swastik</td>\n",
       "      <td>Hyundai Motor India on Sunday said its three employees at Chennai-based plant have tested positive for coronavirus after showing mild symptoms of cough and cold. The second-largest carmaker in the country had resumed operations at Irungattukottai-based plant (near Chennai) on May 8. All three em...</td>\n",
       "      <td>hyundai motor india on sunday said its three employees at chennaibased plant have tested positive for coronavirus after showing mild symptoms of cough and cold the secondlargest carmaker in the country had resumed operations at irungattukottaibased plant near chennai on may 8 all three employees...</td>\n",
       "      <td>[hyundai, motor, india, on, sunday, said, its, three, employees, at, chennaibased, plant, have, tested, positive, for, coronavirus, after, showing, mild, symptoms, of, cough, and, cold, the, secondlargest, carmaker, in, the, country, had, resumed, operations, at, irungattukottaibased, plant, nea...</td>\n",
       "      <td>hyundai motor india on sunday said it three employe at chennaibas plant have test posit for coronaviru after show mild symptom of cough and cold the secondlargest carmak in the countri had resum oper at irungattukottaibas plant near chennai on may 8 all three employe are recov fast toward normal...</td>\n",
       "      <td>hyundai motor india on sunday said it three employee at chennaibased plant have tested positive for coronavirus after showing mild symptom of cough and cold the secondlargest carmaker in the country had resumed operation at irungattukottaibased plant near chennai on may 8 all three employee are ...</td>\n",
       "    </tr>\n",
       "    <tr>\n",
       "      <th>1</th>\n",
       "      <td>business</td>\n",
       "      <td>CEO of New Zealand media outlet Stuff buys the company for ₹46</td>\n",
       "      <td>Dharna</td>\n",
       "      <td>Sinead Boucher, the CEO of New Zealand-based media outlet Stuff, has bought the company from Australian broadcaster Nine Entertainment for just NZ$1 (around ₹46) to maintain local ownership. This comes a month after Stuff asked staff to voluntarily take pay cuts amid the coronavirus pandemic. Ni...</td>\n",
       "      <td>sinead boucher the ceo of new zealandbased media outlet stuff has bought the company from australian broadcaster nine entertainment for just nz1 around 46 to maintain local ownership this comes a month after stuff asked staff to voluntarily take pay cuts amid the coronavirus pandemic nine would ...</td>\n",
       "      <td>[sinead, boucher, the, ceo, of, new, zealandbased, media, outlet, stuff, has, bought, the, company, from, australian, broadcaster, nine, entertainment, for, just, nz1, around, 46, to, maintain, local, ownership, this, comes, a, month, after, stuff, asked, staff, to, voluntarily, take, pay, cuts,...</td>\n",
       "      <td>sinead boucher the ceo of new zealandbas media outlet stuff ha bought the compani from australian broadcast nine entertain for just nz1 around 46 to maintain local ownership thi come a month after stuff ask staff to voluntarili take pay cut amid the coronaviru pandem nine would take a hit of 262...</td>\n",
       "      <td>sinead boucher the ceo of new zealandbased medium outlet stuff ha bought the company from australian broadcaster nine entertainment for just nz1 around 46 to maintain local ownership this come a month after stuff asked staff to voluntarily take pay cut amid the coronavirus pandemic nine would ta...</td>\n",
       "    </tr>\n",
       "  </tbody>\n",
       "</table>\n",
       "</div>"
      ],
      "text/plain": [
       "      topic  \\\n",
       "0  business   \n",
       "1  business   \n",
       "\n",
       "                                                                  title  \\\n",
       "0  3 employees at Hyundai's Chennai plant test positive for coronavirus   \n",
       "1        CEO of New Zealand media outlet Stuff buys the company for ₹46   \n",
       "\n",
       "           author  \\\n",
       "0  Pragya Swastik   \n",
       "1          Dharna   \n",
       "\n",
       "                                                                                                                                                                                                                                                                                                       content  \\\n",
       "0  Hyundai Motor India on Sunday said its three employees at Chennai-based plant have tested positive for coronavirus after showing mild symptoms of cough and cold. The second-largest carmaker in the country had resumed operations at Irungattukottai-based plant (near Chennai) on May 8. All three em...   \n",
       "1  Sinead Boucher, the CEO of New Zealand-based media outlet Stuff, has bought the company from Australian broadcaster Nine Entertainment for just NZ$1 (around ₹46) to maintain local ownership. This comes a month after Stuff asked staff to voluntarily take pay cuts amid the coronavirus pandemic. Ni...   \n",
       "\n",
       "                                                                                                                                                                                                                                                                                                   basic_clean  \\\n",
       "0  hyundai motor india on sunday said its three employees at chennaibased plant have tested positive for coronavirus after showing mild symptoms of cough and cold the secondlargest carmaker in the country had resumed operations at irungattukottaibased plant near chennai on may 8 all three employees...   \n",
       "1  sinead boucher the ceo of new zealandbased media outlet stuff has bought the company from australian broadcaster nine entertainment for just nz1 around 46 to maintain local ownership this comes a month after stuff asked staff to voluntarily take pay cuts amid the coronavirus pandemic nine would ...   \n",
       "\n",
       "                                                                                                                                                                                                                                                                                                   clean_tokes  \\\n",
       "0  [hyundai, motor, india, on, sunday, said, its, three, employees, at, chennaibased, plant, have, tested, positive, for, coronavirus, after, showing, mild, symptoms, of, cough, and, cold, the, secondlargest, carmaker, in, the, country, had, resumed, operations, at, irungattukottaibased, plant, nea...   \n",
       "1  [sinead, boucher, the, ceo, of, new, zealandbased, media, outlet, stuff, has, bought, the, company, from, australian, broadcaster, nine, entertainment, for, just, nz1, around, 46, to, maintain, local, ownership, this, comes, a, month, after, stuff, asked, staff, to, voluntarily, take, pay, cuts,...   \n",
       "\n",
       "                                                                                                                                                                                                                                                                                                       stemmed  \\\n",
       "0  hyundai motor india on sunday said it three employe at chennaibas plant have test posit for coronaviru after show mild symptom of cough and cold the secondlargest carmak in the countri had resum oper at irungattukottaibas plant near chennai on may 8 all three employe are recov fast toward normal...   \n",
       "1  sinead boucher the ceo of new zealandbas media outlet stuff ha bought the compani from australian broadcast nine entertain for just nz1 around 46 to maintain local ownership thi come a month after stuff ask staff to voluntarili take pay cut amid the coronaviru pandem nine would take a hit of 262...   \n",
       "\n",
       "                                                                                                                                                                                                                                                                                                    lemmatized  \n",
       "0  hyundai motor india on sunday said it three employee at chennaibased plant have tested positive for coronavirus after showing mild symptom of cough and cold the secondlargest carmaker in the country had resumed operation at irungattukottaibased plant near chennai on may 8 all three employee are ...  \n",
       "1  sinead boucher the ceo of new zealandbased medium outlet stuff ha bought the company from australian broadcaster nine entertainment for just nz1 around 46 to maintain local ownership this come a month after stuff asked staff to voluntarily take pay cut amid the coronavirus pandemic nine would ta...  "
      ]
     },
     "execution_count": 63,
     "metadata": {},
     "output_type": "execute_result"
    }
   ],
   "source": [
    "df.head(2)"
   ]
  },
  {
   "cell_type": "code",
   "execution_count": 60,
   "metadata": {},
   "outputs": [
    {
     "data": {
      "text/plain": [
       "False"
      ]
     },
     "execution_count": 60,
     "metadata": {},
     "output_type": "execute_result"
    }
   ],
   "source": [
    "# Just a quick sanity check that these are actually changing something...\n",
    "\n",
    "df.stemmed.iloc[98] == df.lemmatized.iloc[98]"
   ]
  },
  {
   "cell_type": "markdown",
   "metadata": {},
   "source": [
    "**<font color=green>Now What?</font>**\n",
    "\n",
    "##### Lemmatize Function"
   ]
  },
  {
   "cell_type": "code",
   "execution_count": 61,
   "metadata": {},
   "outputs": [],
   "source": [
    "def lemmatize(df, col):\n",
    "    '''\n",
    "    This function takes in a df and a string for column name and\n",
    "    returns the original df with a new column called 'lemmatized'.\n",
    "    '''\n",
    "    # Create the lemmatizer\n",
    "    wnl = nltk.stem.WordNetLemmatizer()\n",
    "    \n",
    "    # Lemmatize each token from our clean_tokes Series of lists\n",
    "    lemmas = df[col].apply(lambda row: [wnl.lemmatize(word) for word in row])\n",
    "    \n",
    "    # Join the cleaned and lemmatized tokens back into sentences\n",
    "    df['lemmatized'] = lemmas.str.join(' ')\n",
    "    return df"
   ]
  },
  {
   "cell_type": "code",
   "execution_count": 62,
   "metadata": {},
   "outputs": [
    {
     "data": {
      "text/html": [
       "<div>\n",
       "<style scoped>\n",
       "    .dataframe tbody tr th:only-of-type {\n",
       "        vertical-align: middle;\n",
       "    }\n",
       "\n",
       "    .dataframe tbody tr th {\n",
       "        vertical-align: top;\n",
       "    }\n",
       "\n",
       "    .dataframe thead th {\n",
       "        text-align: right;\n",
       "    }\n",
       "</style>\n",
       "<table border=\"1\" class=\"dataframe\">\n",
       "  <thead>\n",
       "    <tr style=\"text-align: right;\">\n",
       "      <th></th>\n",
       "      <th>topic</th>\n",
       "      <th>title</th>\n",
       "      <th>author</th>\n",
       "      <th>content</th>\n",
       "      <th>basic_clean</th>\n",
       "      <th>clean_tokes</th>\n",
       "      <th>stemmed</th>\n",
       "      <th>lemmatized</th>\n",
       "    </tr>\n",
       "  </thead>\n",
       "  <tbody>\n",
       "    <tr>\n",
       "      <th>0</th>\n",
       "      <td>business</td>\n",
       "      <td>3 employees at Hyundai's Chennai plant test positive for coronavirus</td>\n",
       "      <td>Pragya Swastik</td>\n",
       "      <td>Hyundai Motor India on Sunday said its three employees at Chennai-based plant have tested positive for coronavirus after showing mild symptoms of cough and cold. The second-largest carmaker in the country had resumed operations at Irungattukottai-based plant (near Chennai) on May 8. All three em...</td>\n",
       "      <td>hyundai motor india on sunday said its three employees at chennaibased plant have tested positive for coronavirus after showing mild symptoms of cough and cold the secondlargest carmaker in the country had resumed operations at irungattukottaibased plant near chennai on may 8 all three employees...</td>\n",
       "      <td>[hyundai, motor, india, on, sunday, said, its, three, employees, at, chennaibased, plant, have, tested, positive, for, coronavirus, after, showing, mild, symptoms, of, cough, and, cold, the, secondlargest, carmaker, in, the, country, had, resumed, operations, at, irungattukottaibased, plant, nea...</td>\n",
       "      <td>hyundai motor india on sunday said it three employe at chennaibas plant have test posit for coronaviru after show mild symptom of cough and cold the secondlargest carmak in the countri had resum oper at irungattukottaibas plant near chennai on may 8 all three employe are recov fast toward normal...</td>\n",
       "      <td>hyundai motor india on sunday said it three employee at chennaibased plant have tested positive for coronavirus after showing mild symptom of cough and cold the secondlargest carmaker in the country had resumed operation at irungattukottaibased plant near chennai on may 8 all three employee are ...</td>\n",
       "    </tr>\n",
       "    <tr>\n",
       "      <th>1</th>\n",
       "      <td>business</td>\n",
       "      <td>CEO of New Zealand media outlet Stuff buys the company for ₹46</td>\n",
       "      <td>Dharna</td>\n",
       "      <td>Sinead Boucher, the CEO of New Zealand-based media outlet Stuff, has bought the company from Australian broadcaster Nine Entertainment for just NZ$1 (around ₹46) to maintain local ownership. This comes a month after Stuff asked staff to voluntarily take pay cuts amid the coronavirus pandemic. Ni...</td>\n",
       "      <td>sinead boucher the ceo of new zealandbased media outlet stuff has bought the company from australian broadcaster nine entertainment for just nz1 around 46 to maintain local ownership this comes a month after stuff asked staff to voluntarily take pay cuts amid the coronavirus pandemic nine would ...</td>\n",
       "      <td>[sinead, boucher, the, ceo, of, new, zealandbased, media, outlet, stuff, has, bought, the, company, from, australian, broadcaster, nine, entertainment, for, just, nz1, around, 46, to, maintain, local, ownership, this, comes, a, month, after, stuff, asked, staff, to, voluntarily, take, pay, cuts,...</td>\n",
       "      <td>sinead boucher the ceo of new zealandbas media outlet stuff ha bought the compani from australian broadcast nine entertain for just nz1 around 46 to maintain local ownership thi come a month after stuff ask staff to voluntarili take pay cut amid the coronaviru pandem nine would take a hit of 262...</td>\n",
       "      <td>sinead boucher the ceo of new zealandbased medium outlet stuff ha bought the company from australian broadcaster nine entertainment for just nz1 around 46 to maintain local ownership this come a month after stuff asked staff to voluntarily take pay cut amid the coronavirus pandemic nine would ta...</td>\n",
       "    </tr>\n",
       "  </tbody>\n",
       "</table>\n",
       "</div>"
      ],
      "text/plain": [
       "      topic  \\\n",
       "0  business   \n",
       "1  business   \n",
       "\n",
       "                                                                  title  \\\n",
       "0  3 employees at Hyundai's Chennai plant test positive for coronavirus   \n",
       "1        CEO of New Zealand media outlet Stuff buys the company for ₹46   \n",
       "\n",
       "           author  \\\n",
       "0  Pragya Swastik   \n",
       "1          Dharna   \n",
       "\n",
       "                                                                                                                                                                                                                                                                                                       content  \\\n",
       "0  Hyundai Motor India on Sunday said its three employees at Chennai-based plant have tested positive for coronavirus after showing mild symptoms of cough and cold. The second-largest carmaker in the country had resumed operations at Irungattukottai-based plant (near Chennai) on May 8. All three em...   \n",
       "1  Sinead Boucher, the CEO of New Zealand-based media outlet Stuff, has bought the company from Australian broadcaster Nine Entertainment for just NZ$1 (around ₹46) to maintain local ownership. This comes a month after Stuff asked staff to voluntarily take pay cuts amid the coronavirus pandemic. Ni...   \n",
       "\n",
       "                                                                                                                                                                                                                                                                                                   basic_clean  \\\n",
       "0  hyundai motor india on sunday said its three employees at chennaibased plant have tested positive for coronavirus after showing mild symptoms of cough and cold the secondlargest carmaker in the country had resumed operations at irungattukottaibased plant near chennai on may 8 all three employees...   \n",
       "1  sinead boucher the ceo of new zealandbased media outlet stuff has bought the company from australian broadcaster nine entertainment for just nz1 around 46 to maintain local ownership this comes a month after stuff asked staff to voluntarily take pay cuts amid the coronavirus pandemic nine would ...   \n",
       "\n",
       "                                                                                                                                                                                                                                                                                                   clean_tokes  \\\n",
       "0  [hyundai, motor, india, on, sunday, said, its, three, employees, at, chennaibased, plant, have, tested, positive, for, coronavirus, after, showing, mild, symptoms, of, cough, and, cold, the, secondlargest, carmaker, in, the, country, had, resumed, operations, at, irungattukottaibased, plant, nea...   \n",
       "1  [sinead, boucher, the, ceo, of, new, zealandbased, media, outlet, stuff, has, bought, the, company, from, australian, broadcaster, nine, entertainment, for, just, nz1, around, 46, to, maintain, local, ownership, this, comes, a, month, after, stuff, asked, staff, to, voluntarily, take, pay, cuts,...   \n",
       "\n",
       "                                                                                                                                                                                                                                                                                                       stemmed  \\\n",
       "0  hyundai motor india on sunday said it three employe at chennaibas plant have test posit for coronaviru after show mild symptom of cough and cold the secondlargest carmak in the countri had resum oper at irungattukottaibas plant near chennai on may 8 all three employe are recov fast toward normal...   \n",
       "1  sinead boucher the ceo of new zealandbas media outlet stuff ha bought the compani from australian broadcast nine entertain for just nz1 around 46 to maintain local ownership thi come a month after stuff ask staff to voluntarili take pay cut amid the coronaviru pandem nine would take a hit of 262...   \n",
       "\n",
       "                                                                                                                                                                                                                                                                                                    lemmatized  \n",
       "0  hyundai motor india on sunday said it three employee at chennaibased plant have tested positive for coronavirus after showing mild symptom of cough and cold the secondlargest carmaker in the country had resumed operation at irungattukottaibased plant near chennai on may 8 all three employee are ...  \n",
       "1  sinead boucher the ceo of new zealandbased medium outlet stuff ha bought the company from australian broadcaster nine entertainment for just nz1 around 46 to maintain local ownership this come a month after stuff asked staff to voluntarily take pay cut amid the coronavirus pandemic nine would ta...  "
      ]
     },
     "execution_count": 62,
     "metadata": {},
     "output_type": "execute_result"
    }
   ],
   "source": [
    "df = lemmatize(df, 'clean_tokes')\n",
    "df.head(2)"
   ]
  },
  {
   "cell_type": "markdown",
   "metadata": {},
   "source": [
    "**Stopwords** - are words which are filtered out during the preparation of your text for analyzation and modeling. Stopwords are those that offer little to the meaning of your text and are basically just adding noise to your analysis. Words such as 'the', 'and', 'a', and the like can be removed, so you can better focus on the good stuff. \n",
    "\n",
    "##### Using NLTK Stopwords\n",
    "\n",
    "```python\n",
    "import nltk; nltk.download('stopwords')\n",
    "```\n",
    "\n",
    "```python\n",
    "stopword_list = stopwords.words('english')\n",
    "```\n",
    "\n",
    "```python\n",
    "words = df.col.str.split()\n",
    "```\n",
    "\n",
    "```python\n",
    "filtered_words = words.apply(lambda row: [word for word in row if word not in stopword_list])\n",
    "```\n",
    "\n",
    "```python\n",
    "df['clean_words'] = filtered_words.str.join(' ')\n",
    "```"
   ]
  },
  {
   "cell_type": "code",
   "execution_count": 64,
   "metadata": {},
   "outputs": [],
   "source": [
    "stopword_list = stopwords.words('english')"
   ]
  },
  {
   "cell_type": "code",
   "execution_count": 65,
   "metadata": {},
   "outputs": [],
   "source": [
    "# Split words in lemmatized column\n",
    "\n",
    "words = df.lemmatized.str.split()\n",
    "\n",
    "# Check each word in each row of the column against stopword_list and return only those that are not in list\n",
    "\n",
    "filtered_words = words.apply(lambda row: [word for word in row if word not in stopword_list])\n",
    "df['clean_lemmas'] = filtered_words.str.join(' ')"
   ]
  },
  {
   "cell_type": "code",
   "execution_count": 66,
   "metadata": {},
   "outputs": [],
   "source": [
    "# Do the same as above but for stemmed words\n",
    "\n",
    "words = df.stemmed.str.split()\n",
    "\n",
    "filtered_words = words.apply(lambda row: [word for word in row if word not in stopword_list])\n",
    "df['clean_stemmed'] = filtered_words.str.join(' ')"
   ]
  },
  {
   "cell_type": "code",
   "execution_count": 67,
   "metadata": {},
   "outputs": [
    {
     "data": {
      "text/html": [
       "<div>\n",
       "<style scoped>\n",
       "    .dataframe tbody tr th:only-of-type {\n",
       "        vertical-align: middle;\n",
       "    }\n",
       "\n",
       "    .dataframe tbody tr th {\n",
       "        vertical-align: top;\n",
       "    }\n",
       "\n",
       "    .dataframe thead th {\n",
       "        text-align: right;\n",
       "    }\n",
       "</style>\n",
       "<table border=\"1\" class=\"dataframe\">\n",
       "  <thead>\n",
       "    <tr style=\"text-align: right;\">\n",
       "      <th></th>\n",
       "      <th>topic</th>\n",
       "      <th>title</th>\n",
       "      <th>author</th>\n",
       "      <th>content</th>\n",
       "      <th>basic_clean</th>\n",
       "      <th>clean_tokes</th>\n",
       "      <th>stemmed</th>\n",
       "      <th>lemmatized</th>\n",
       "      <th>clean_lemmas</th>\n",
       "      <th>clean_stemmed</th>\n",
       "    </tr>\n",
       "  </thead>\n",
       "  <tbody>\n",
       "    <tr>\n",
       "      <th>0</th>\n",
       "      <td>business</td>\n",
       "      <td>3 employees at Hyundai's Chennai plant test positive for coronavirus</td>\n",
       "      <td>Pragya Swastik</td>\n",
       "      <td>Hyundai Motor India on Sunday said its three employees at Chennai-based plant have tested positive for coronavirus after showing mild symptoms of cough and cold. The second-largest carmaker in the country had resumed operations at Irungattukottai-based plant (near Chennai) on May 8. All three em...</td>\n",
       "      <td>hyundai motor india on sunday said its three employees at chennaibased plant have tested positive for coronavirus after showing mild symptoms of cough and cold the secondlargest carmaker in the country had resumed operations at irungattukottaibased plant near chennai on may 8 all three employees...</td>\n",
       "      <td>[hyundai, motor, india, on, sunday, said, its, three, employees, at, chennaibased, plant, have, tested, positive, for, coronavirus, after, showing, mild, symptoms, of, cough, and, cold, the, secondlargest, carmaker, in, the, country, had, resumed, operations, at, irungattukottaibased, plant, nea...</td>\n",
       "      <td>hyundai motor india on sunday said it three employe at chennaibas plant have test posit for coronaviru after show mild symptom of cough and cold the secondlargest carmak in the countri had resum oper at irungattukottaibas plant near chennai on may 8 all three employe are recov fast toward normal...</td>\n",
       "      <td>hyundai motor india on sunday said it three employee at chennaibased plant have tested positive for coronavirus after showing mild symptom of cough and cold the secondlargest carmaker in the country had resumed operation at irungattukottaibased plant near chennai on may 8 all three employee are ...</td>\n",
       "      <td>hyundai motor india sunday said three employee chennaibased plant tested positive coronavirus showing mild symptom cough cold secondlargest carmaker country resumed operation irungattukottaibased plant near chennai may 8 three employee recovering fast towards normalcy company said</td>\n",
       "      <td>hyundai motor india sunday said three employe chennaibas plant test posit coronaviru show mild symptom cough cold secondlargest carmak countri resum oper irungattukottaibas plant near chennai may 8 three employe recov fast toward normalci compani said</td>\n",
       "    </tr>\n",
       "    <tr>\n",
       "      <th>1</th>\n",
       "      <td>business</td>\n",
       "      <td>CEO of New Zealand media outlet Stuff buys the company for ₹46</td>\n",
       "      <td>Dharna</td>\n",
       "      <td>Sinead Boucher, the CEO of New Zealand-based media outlet Stuff, has bought the company from Australian broadcaster Nine Entertainment for just NZ$1 (around ₹46) to maintain local ownership. This comes a month after Stuff asked staff to voluntarily take pay cuts amid the coronavirus pandemic. Ni...</td>\n",
       "      <td>sinead boucher the ceo of new zealandbased media outlet stuff has bought the company from australian broadcaster nine entertainment for just nz1 around 46 to maintain local ownership this comes a month after stuff asked staff to voluntarily take pay cuts amid the coronavirus pandemic nine would ...</td>\n",
       "      <td>[sinead, boucher, the, ceo, of, new, zealandbased, media, outlet, stuff, has, bought, the, company, from, australian, broadcaster, nine, entertainment, for, just, nz1, around, 46, to, maintain, local, ownership, this, comes, a, month, after, stuff, asked, staff, to, voluntarily, take, pay, cuts,...</td>\n",
       "      <td>sinead boucher the ceo of new zealandbas media outlet stuff ha bought the compani from australian broadcast nine entertain for just nz1 around 46 to maintain local ownership thi come a month after stuff ask staff to voluntarili take pay cut amid the coronaviru pandem nine would take a hit of 262...</td>\n",
       "      <td>sinead boucher the ceo of new zealandbased medium outlet stuff ha bought the company from australian broadcaster nine entertainment for just nz1 around 46 to maintain local ownership this come a month after stuff asked staff to voluntarily take pay cut amid the coronavirus pandemic nine would ta...</td>\n",
       "      <td>sinead boucher ceo new zealandbased medium outlet stuff ha bought company australian broadcaster nine entertainment nz1 around 46 maintain local ownership come month stuff asked staff voluntarily take pay cut amid coronavirus pandemic nine would take hit 2629 million fullyear result sale</td>\n",
       "      <td>sinead boucher ceo new zealandbas media outlet stuff ha bought compani australian broadcast nine entertain nz1 around 46 maintain local ownership thi come month stuff ask staff voluntarili take pay cut amid coronaviru pandem nine would take hit 2629 million fullyear result sale</td>\n",
       "    </tr>\n",
       "  </tbody>\n",
       "</table>\n",
       "</div>"
      ],
      "text/plain": [
       "      topic  \\\n",
       "0  business   \n",
       "1  business   \n",
       "\n",
       "                                                                  title  \\\n",
       "0  3 employees at Hyundai's Chennai plant test positive for coronavirus   \n",
       "1        CEO of New Zealand media outlet Stuff buys the company for ₹46   \n",
       "\n",
       "           author  \\\n",
       "0  Pragya Swastik   \n",
       "1          Dharna   \n",
       "\n",
       "                                                                                                                                                                                                                                                                                                       content  \\\n",
       "0  Hyundai Motor India on Sunday said its three employees at Chennai-based plant have tested positive for coronavirus after showing mild symptoms of cough and cold. The second-largest carmaker in the country had resumed operations at Irungattukottai-based plant (near Chennai) on May 8. All three em...   \n",
       "1  Sinead Boucher, the CEO of New Zealand-based media outlet Stuff, has bought the company from Australian broadcaster Nine Entertainment for just NZ$1 (around ₹46) to maintain local ownership. This comes a month after Stuff asked staff to voluntarily take pay cuts amid the coronavirus pandemic. Ni...   \n",
       "\n",
       "                                                                                                                                                                                                                                                                                                   basic_clean  \\\n",
       "0  hyundai motor india on sunday said its three employees at chennaibased plant have tested positive for coronavirus after showing mild symptoms of cough and cold the secondlargest carmaker in the country had resumed operations at irungattukottaibased plant near chennai on may 8 all three employees...   \n",
       "1  sinead boucher the ceo of new zealandbased media outlet stuff has bought the company from australian broadcaster nine entertainment for just nz1 around 46 to maintain local ownership this comes a month after stuff asked staff to voluntarily take pay cuts amid the coronavirus pandemic nine would ...   \n",
       "\n",
       "                                                                                                                                                                                                                                                                                                   clean_tokes  \\\n",
       "0  [hyundai, motor, india, on, sunday, said, its, three, employees, at, chennaibased, plant, have, tested, positive, for, coronavirus, after, showing, mild, symptoms, of, cough, and, cold, the, secondlargest, carmaker, in, the, country, had, resumed, operations, at, irungattukottaibased, plant, nea...   \n",
       "1  [sinead, boucher, the, ceo, of, new, zealandbased, media, outlet, stuff, has, bought, the, company, from, australian, broadcaster, nine, entertainment, for, just, nz1, around, 46, to, maintain, local, ownership, this, comes, a, month, after, stuff, asked, staff, to, voluntarily, take, pay, cuts,...   \n",
       "\n",
       "                                                                                                                                                                                                                                                                                                       stemmed  \\\n",
       "0  hyundai motor india on sunday said it three employe at chennaibas plant have test posit for coronaviru after show mild symptom of cough and cold the secondlargest carmak in the countri had resum oper at irungattukottaibas plant near chennai on may 8 all three employe are recov fast toward normal...   \n",
       "1  sinead boucher the ceo of new zealandbas media outlet stuff ha bought the compani from australian broadcast nine entertain for just nz1 around 46 to maintain local ownership thi come a month after stuff ask staff to voluntarili take pay cut amid the coronaviru pandem nine would take a hit of 262...   \n",
       "\n",
       "                                                                                                                                                                                                                                                                                                    lemmatized  \\\n",
       "0  hyundai motor india on sunday said it three employee at chennaibased plant have tested positive for coronavirus after showing mild symptom of cough and cold the secondlargest carmaker in the country had resumed operation at irungattukottaibased plant near chennai on may 8 all three employee are ...   \n",
       "1  sinead boucher the ceo of new zealandbased medium outlet stuff ha bought the company from australian broadcaster nine entertainment for just nz1 around 46 to maintain local ownership this come a month after stuff asked staff to voluntarily take pay cut amid the coronavirus pandemic nine would ta...   \n",
       "\n",
       "                                                                                                                                                                                                                                                                                       clean_lemmas  \\\n",
       "0         hyundai motor india sunday said three employee chennaibased plant tested positive coronavirus showing mild symptom cough cold secondlargest carmaker country resumed operation irungattukottaibased plant near chennai may 8 three employee recovering fast towards normalcy company said   \n",
       "1  sinead boucher ceo new zealandbased medium outlet stuff ha bought company australian broadcaster nine entertainment nz1 around 46 maintain local ownership come month stuff asked staff voluntarily take pay cut amid coronavirus pandemic nine would take hit 2629 million fullyear result sale   \n",
       "\n",
       "                                                                                                                                                                                                                                                                            clean_stemmed  \n",
       "0                             hyundai motor india sunday said three employe chennaibas plant test posit coronaviru show mild symptom cough cold secondlargest carmak countri resum oper irungattukottaibas plant near chennai may 8 three employe recov fast toward normalci compani said  \n",
       "1  sinead boucher ceo new zealandbas media outlet stuff ha bought compani australian broadcast nine entertain nz1 around 46 maintain local ownership thi come month stuff ask staff voluntarili take pay cut amid coronaviru pandem nine would take hit 2629 million fullyear result sale  "
      ]
     },
     "execution_count": 67,
     "metadata": {},
     "output_type": "execute_result"
    }
   ],
   "source": [
    "df.head(2)"
   ]
  },
  {
   "cell_type": "markdown",
   "metadata": {},
   "source": [
    "**<font color=green>Now What?</font>**\n",
    "\n",
    "##### Stopwords Function"
   ]
  },
  {
   "cell_type": "code",
   "execution_count": 68,
   "metadata": {},
   "outputs": [],
   "source": [
    "def remove_stopwords(df, col):\n",
    "    '''\n",
    "    This function takes in a df and a string for column name and \n",
    "    returns the df with a new column named 'clean' with stopwords removed.\n",
    "    '''\n",
    "    # Create stopword_list\n",
    "    stopword_list = stopwords.words('english')\n",
    "    \n",
    "    # Split words in column\n",
    "    words = df[col].str.split()\n",
    "    \n",
    "    # Check each word in each row of the column against stopword_list and return only those that are not in list\n",
    "    filtered_words = words.apply(lambda row: [word for word in row if word not in stopword_list])\n",
    "    \n",
    "    # Create new column of words that have stopwords removed\n",
    "    df['clean_' + col] = filtered_words.str.join(' ')\n",
    "    \n",
    "    return df"
   ]
  },
  {
   "cell_type": "code",
   "execution_count": 69,
   "metadata": {},
   "outputs": [
    {
     "data": {
      "text/html": [
       "<div>\n",
       "<style scoped>\n",
       "    .dataframe tbody tr th:only-of-type {\n",
       "        vertical-align: middle;\n",
       "    }\n",
       "\n",
       "    .dataframe tbody tr th {\n",
       "        vertical-align: top;\n",
       "    }\n",
       "\n",
       "    .dataframe thead th {\n",
       "        text-align: right;\n",
       "    }\n",
       "</style>\n",
       "<table border=\"1\" class=\"dataframe\">\n",
       "  <thead>\n",
       "    <tr style=\"text-align: right;\">\n",
       "      <th></th>\n",
       "      <th>topic</th>\n",
       "      <th>title</th>\n",
       "      <th>author</th>\n",
       "      <th>content</th>\n",
       "      <th>basic_clean</th>\n",
       "      <th>clean_tokes</th>\n",
       "      <th>stemmed</th>\n",
       "      <th>lemmatized</th>\n",
       "      <th>clean_lemmas</th>\n",
       "      <th>clean_stemmed</th>\n",
       "      <th>clean_lemmatized</th>\n",
       "    </tr>\n",
       "  </thead>\n",
       "  <tbody>\n",
       "    <tr>\n",
       "      <th>0</th>\n",
       "      <td>business</td>\n",
       "      <td>3 employees at Hyundai's Chennai plant test positive for coronavirus</td>\n",
       "      <td>Pragya Swastik</td>\n",
       "      <td>Hyundai Motor India on Sunday said its three employees at Chennai-based plant have tested positive for coronavirus after showing mild symptoms of cough and cold. The second-largest carmaker in the country had resumed operations at Irungattukottai-based plant (near Chennai) on May 8. All three em...</td>\n",
       "      <td>hyundai motor india on sunday said its three employees at chennaibased plant have tested positive for coronavirus after showing mild symptoms of cough and cold the secondlargest carmaker in the country had resumed operations at irungattukottaibased plant near chennai on may 8 all three employees...</td>\n",
       "      <td>[hyundai, motor, india, on, sunday, said, its, three, employees, at, chennaibased, plant, have, tested, positive, for, coronavirus, after, showing, mild, symptoms, of, cough, and, cold, the, secondlargest, carmaker, in, the, country, had, resumed, operations, at, irungattukottaibased, plant, nea...</td>\n",
       "      <td>hyundai motor india on sunday said it three employe at chennaibas plant have test posit for coronaviru after show mild symptom of cough and cold the secondlargest carmak in the countri had resum oper at irungattukottaibas plant near chennai on may 8 all three employe are recov fast toward normal...</td>\n",
       "      <td>hyundai motor india on sunday said it three employee at chennaibased plant have tested positive for coronavirus after showing mild symptom of cough and cold the secondlargest carmaker in the country had resumed operation at irungattukottaibased plant near chennai on may 8 all three employee are ...</td>\n",
       "      <td>hyundai motor india sunday said three employee chennaibased plant tested positive coronavirus showing mild symptom cough cold secondlargest carmaker country resumed operation irungattukottaibased plant near chennai may 8 three employee recovering fast towards normalcy company said</td>\n",
       "      <td>hyundai motor india sunday said three employe chennaibas plant test posit coronaviru show mild symptom cough cold secondlargest carmak countri resum oper irungattukottaibas plant near chennai may 8 three employe recov fast toward normalci compani said</td>\n",
       "      <td>hyundai motor india sunday said three employee chennaibased plant tested positive coronavirus showing mild symptom cough cold secondlargest carmaker country resumed operation irungattukottaibased plant near chennai may 8 three employee recovering fast towards normalcy company said</td>\n",
       "    </tr>\n",
       "    <tr>\n",
       "      <th>1</th>\n",
       "      <td>business</td>\n",
       "      <td>CEO of New Zealand media outlet Stuff buys the company for ₹46</td>\n",
       "      <td>Dharna</td>\n",
       "      <td>Sinead Boucher, the CEO of New Zealand-based media outlet Stuff, has bought the company from Australian broadcaster Nine Entertainment for just NZ$1 (around ₹46) to maintain local ownership. This comes a month after Stuff asked staff to voluntarily take pay cuts amid the coronavirus pandemic. Ni...</td>\n",
       "      <td>sinead boucher the ceo of new zealandbased media outlet stuff has bought the company from australian broadcaster nine entertainment for just nz1 around 46 to maintain local ownership this comes a month after stuff asked staff to voluntarily take pay cuts amid the coronavirus pandemic nine would ...</td>\n",
       "      <td>[sinead, boucher, the, ceo, of, new, zealandbased, media, outlet, stuff, has, bought, the, company, from, australian, broadcaster, nine, entertainment, for, just, nz1, around, 46, to, maintain, local, ownership, this, comes, a, month, after, stuff, asked, staff, to, voluntarily, take, pay, cuts,...</td>\n",
       "      <td>sinead boucher the ceo of new zealandbas media outlet stuff ha bought the compani from australian broadcast nine entertain for just nz1 around 46 to maintain local ownership thi come a month after stuff ask staff to voluntarili take pay cut amid the coronaviru pandem nine would take a hit of 262...</td>\n",
       "      <td>sinead boucher the ceo of new zealandbased medium outlet stuff ha bought the company from australian broadcaster nine entertainment for just nz1 around 46 to maintain local ownership this come a month after stuff asked staff to voluntarily take pay cut amid the coronavirus pandemic nine would ta...</td>\n",
       "      <td>sinead boucher ceo new zealandbased medium outlet stuff ha bought company australian broadcaster nine entertainment nz1 around 46 maintain local ownership come month stuff asked staff voluntarily take pay cut amid coronavirus pandemic nine would take hit 2629 million fullyear result sale</td>\n",
       "      <td>sinead boucher ceo new zealandbas media outlet stuff ha bought compani australian broadcast nine entertain nz1 around 46 maintain local ownership thi come month stuff ask staff voluntarili take pay cut amid coronaviru pandem nine would take hit 2629 million fullyear result sale</td>\n",
       "      <td>sinead boucher ceo new zealandbased medium outlet stuff ha bought company australian broadcaster nine entertainment nz1 around 46 maintain local ownership come month stuff asked staff voluntarily take pay cut amid coronavirus pandemic nine would take hit 2629 million fullyear result sale</td>\n",
       "    </tr>\n",
       "  </tbody>\n",
       "</table>\n",
       "</div>"
      ],
      "text/plain": [
       "      topic  \\\n",
       "0  business   \n",
       "1  business   \n",
       "\n",
       "                                                                  title  \\\n",
       "0  3 employees at Hyundai's Chennai plant test positive for coronavirus   \n",
       "1        CEO of New Zealand media outlet Stuff buys the company for ₹46   \n",
       "\n",
       "           author  \\\n",
       "0  Pragya Swastik   \n",
       "1          Dharna   \n",
       "\n",
       "                                                                                                                                                                                                                                                                                                       content  \\\n",
       "0  Hyundai Motor India on Sunday said its three employees at Chennai-based plant have tested positive for coronavirus after showing mild symptoms of cough and cold. The second-largest carmaker in the country had resumed operations at Irungattukottai-based plant (near Chennai) on May 8. All three em...   \n",
       "1  Sinead Boucher, the CEO of New Zealand-based media outlet Stuff, has bought the company from Australian broadcaster Nine Entertainment for just NZ$1 (around ₹46) to maintain local ownership. This comes a month after Stuff asked staff to voluntarily take pay cuts amid the coronavirus pandemic. Ni...   \n",
       "\n",
       "                                                                                                                                                                                                                                                                                                   basic_clean  \\\n",
       "0  hyundai motor india on sunday said its three employees at chennaibased plant have tested positive for coronavirus after showing mild symptoms of cough and cold the secondlargest carmaker in the country had resumed operations at irungattukottaibased plant near chennai on may 8 all three employees...   \n",
       "1  sinead boucher the ceo of new zealandbased media outlet stuff has bought the company from australian broadcaster nine entertainment for just nz1 around 46 to maintain local ownership this comes a month after stuff asked staff to voluntarily take pay cuts amid the coronavirus pandemic nine would ...   \n",
       "\n",
       "                                                                                                                                                                                                                                                                                                   clean_tokes  \\\n",
       "0  [hyundai, motor, india, on, sunday, said, its, three, employees, at, chennaibased, plant, have, tested, positive, for, coronavirus, after, showing, mild, symptoms, of, cough, and, cold, the, secondlargest, carmaker, in, the, country, had, resumed, operations, at, irungattukottaibased, plant, nea...   \n",
       "1  [sinead, boucher, the, ceo, of, new, zealandbased, media, outlet, stuff, has, bought, the, company, from, australian, broadcaster, nine, entertainment, for, just, nz1, around, 46, to, maintain, local, ownership, this, comes, a, month, after, stuff, asked, staff, to, voluntarily, take, pay, cuts,...   \n",
       "\n",
       "                                                                                                                                                                                                                                                                                                       stemmed  \\\n",
       "0  hyundai motor india on sunday said it three employe at chennaibas plant have test posit for coronaviru after show mild symptom of cough and cold the secondlargest carmak in the countri had resum oper at irungattukottaibas plant near chennai on may 8 all three employe are recov fast toward normal...   \n",
       "1  sinead boucher the ceo of new zealandbas media outlet stuff ha bought the compani from australian broadcast nine entertain for just nz1 around 46 to maintain local ownership thi come a month after stuff ask staff to voluntarili take pay cut amid the coronaviru pandem nine would take a hit of 262...   \n",
       "\n",
       "                                                                                                                                                                                                                                                                                                    lemmatized  \\\n",
       "0  hyundai motor india on sunday said it three employee at chennaibased plant have tested positive for coronavirus after showing mild symptom of cough and cold the secondlargest carmaker in the country had resumed operation at irungattukottaibased plant near chennai on may 8 all three employee are ...   \n",
       "1  sinead boucher the ceo of new zealandbased medium outlet stuff ha bought the company from australian broadcaster nine entertainment for just nz1 around 46 to maintain local ownership this come a month after stuff asked staff to voluntarily take pay cut amid the coronavirus pandemic nine would ta...   \n",
       "\n",
       "                                                                                                                                                                                                                                                                                       clean_lemmas  \\\n",
       "0         hyundai motor india sunday said three employee chennaibased plant tested positive coronavirus showing mild symptom cough cold secondlargest carmaker country resumed operation irungattukottaibased plant near chennai may 8 three employee recovering fast towards normalcy company said   \n",
       "1  sinead boucher ceo new zealandbased medium outlet stuff ha bought company australian broadcaster nine entertainment nz1 around 46 maintain local ownership come month stuff asked staff voluntarily take pay cut amid coronavirus pandemic nine would take hit 2629 million fullyear result sale   \n",
       "\n",
       "                                                                                                                                                                                                                                                                            clean_stemmed  \\\n",
       "0                             hyundai motor india sunday said three employe chennaibas plant test posit coronaviru show mild symptom cough cold secondlargest carmak countri resum oper irungattukottaibas plant near chennai may 8 three employe recov fast toward normalci compani said   \n",
       "1  sinead boucher ceo new zealandbas media outlet stuff ha bought compani australian broadcast nine entertain nz1 around 46 maintain local ownership thi come month stuff ask staff voluntarili take pay cut amid coronaviru pandem nine would take hit 2629 million fullyear result sale   \n",
       "\n",
       "                                                                                                                                                                                                                                                                                   clean_lemmatized  \n",
       "0         hyundai motor india sunday said three employee chennaibased plant tested positive coronavirus showing mild symptom cough cold secondlargest carmaker country resumed operation irungattukottaibased plant near chennai may 8 three employee recovering fast towards normalcy company said  \n",
       "1  sinead boucher ceo new zealandbased medium outlet stuff ha bought company australian broadcaster nine entertainment nz1 around 46 maintain local ownership come month stuff asked staff voluntarily take pay cut amid coronavirus pandemic nine would take hit 2629 million fullyear result sale  "
      ]
     },
     "execution_count": 69,
     "metadata": {},
     "output_type": "execute_result"
    }
   ],
   "source": [
    "df = remove_stopwords(df, 'lemmatized')\n",
    "df.head(2)"
   ]
  },
  {
   "cell_type": "markdown",
   "metadata": {},
   "source": [
    "**<font color=green>Now What?</font>**\n",
    "\n",
    "##### Prep Article Function"
   ]
  },
  {
   "cell_type": "code",
   "execution_count": 70,
   "metadata": {},
   "outputs": [],
   "source": [
    "df = get_news_articles()"
   ]
  },
  {
   "cell_type": "code",
   "execution_count": 71,
   "metadata": {},
   "outputs": [],
   "source": [
    "def prep_article_data(df):\n",
    "    '''\n",
    "    This function takes in the news articles df and\n",
    "    returns the df with original columns plus cleaned\n",
    "    and lemmatized content without stopwords.\n",
    "    '''\n",
    "    # Do basic clean on article content\n",
    "    df = basic_clean(df, 'content')\n",
    "    \n",
    "    # Tokenize clean article content\n",
    "    df = tokenize(df, 'basic_clean')\n",
    "    \n",
    "    # Stem cleaned and tokenized article content\n",
    "    df = stem(df, 'clean_tokes')\n",
    "    \n",
    "    # Remove stopwords from Lemmatized article content\n",
    "    df = remove_stopwords(df, 'stemmed')\n",
    "    \n",
    "    # Lemmatize cleaned and tokenized article content\n",
    "    df = lemmatize(df, 'clean_tokes')\n",
    "    \n",
    "    # Remove stopwords from Lemmatized article content\n",
    "    df = remove_stopwords(df, 'lemmatized')\n",
    "    \n",
    "    return df[['topic', 'title', 'author', 'content', 'clean_stemmed', 'clean_lemmatized']]"
   ]
  },
  {
   "cell_type": "code",
   "execution_count": 73,
   "metadata": {},
   "outputs": [
    {
     "data": {
      "text/html": [
       "<div>\n",
       "<style scoped>\n",
       "    .dataframe tbody tr th:only-of-type {\n",
       "        vertical-align: middle;\n",
       "    }\n",
       "\n",
       "    .dataframe tbody tr th {\n",
       "        vertical-align: top;\n",
       "    }\n",
       "\n",
       "    .dataframe thead th {\n",
       "        text-align: right;\n",
       "    }\n",
       "</style>\n",
       "<table border=\"1\" class=\"dataframe\">\n",
       "  <thead>\n",
       "    <tr style=\"text-align: right;\">\n",
       "      <th></th>\n",
       "      <th>topic</th>\n",
       "      <th>title</th>\n",
       "      <th>author</th>\n",
       "      <th>content</th>\n",
       "      <th>clean_stemmed</th>\n",
       "      <th>clean_lemmatized</th>\n",
       "    </tr>\n",
       "  </thead>\n",
       "  <tbody>\n",
       "    <tr>\n",
       "      <th>0</th>\n",
       "      <td>business</td>\n",
       "      <td>3 employees at Hyundai's Chennai plant test positive for coronavirus</td>\n",
       "      <td>Pragya Swastik</td>\n",
       "      <td>Hyundai Motor India on Sunday said its three employees at Chennai-based plant have tested positive for coronavirus after showing mild symptoms of cough and cold. The second-largest carmaker in the country had resumed operations at Irungattukottai-based plant (near Chennai) on May 8. All three em...</td>\n",
       "      <td>hyundai motor india sunday said three employe chennaibas plant test posit coronaviru show mild symptom cough cold secondlargest carmak countri resum oper irungattukottaibas plant near chennai may 8 three employe recov fast toward normalci compani said</td>\n",
       "      <td>hyundai motor india sunday said three employee chennaibased plant tested positive coronavirus showing mild symptom cough cold secondlargest carmaker country resumed operation irungattukottaibased plant near chennai may 8 three employee recovering fast towards normalcy company said</td>\n",
       "    </tr>\n",
       "    <tr>\n",
       "      <th>1</th>\n",
       "      <td>business</td>\n",
       "      <td>CEO of New Zealand media outlet Stuff buys the company for ₹46</td>\n",
       "      <td>Dharna</td>\n",
       "      <td>Sinead Boucher, the CEO of New Zealand-based media outlet Stuff, has bought the company from Australian broadcaster Nine Entertainment for just NZ$1 (around ₹46) to maintain local ownership. This comes a month after Stuff asked staff to voluntarily take pay cuts amid the coronavirus pandemic. Ni...</td>\n",
       "      <td>sinead boucher ceo new zealandbas media outlet stuff ha bought compani australian broadcast nine entertain nz1 around 46 maintain local ownership thi come month stuff ask staff voluntarili take pay cut amid coronaviru pandem nine would take hit 2629 million fullyear result sale</td>\n",
       "      <td>sinead boucher ceo new zealandbased medium outlet stuff ha bought company australian broadcaster nine entertainment nz1 around 46 maintain local ownership come month stuff asked staff voluntarily take pay cut amid coronavirus pandemic nine would take hit 2629 million fullyear result sale</td>\n",
       "    </tr>\n",
       "  </tbody>\n",
       "</table>\n",
       "</div>"
      ],
      "text/plain": [
       "      topic  \\\n",
       "0  business   \n",
       "1  business   \n",
       "\n",
       "                                                                  title  \\\n",
       "0  3 employees at Hyundai's Chennai plant test positive for coronavirus   \n",
       "1        CEO of New Zealand media outlet Stuff buys the company for ₹46   \n",
       "\n",
       "           author  \\\n",
       "0  Pragya Swastik   \n",
       "1          Dharna   \n",
       "\n",
       "                                                                                                                                                                                                                                                                                                       content  \\\n",
       "0  Hyundai Motor India on Sunday said its three employees at Chennai-based plant have tested positive for coronavirus after showing mild symptoms of cough and cold. The second-largest carmaker in the country had resumed operations at Irungattukottai-based plant (near Chennai) on May 8. All three em...   \n",
       "1  Sinead Boucher, the CEO of New Zealand-based media outlet Stuff, has bought the company from Australian broadcaster Nine Entertainment for just NZ$1 (around ₹46) to maintain local ownership. This comes a month after Stuff asked staff to voluntarily take pay cuts amid the coronavirus pandemic. Ni...   \n",
       "\n",
       "                                                                                                                                                                                                                                                                            clean_stemmed  \\\n",
       "0                             hyundai motor india sunday said three employe chennaibas plant test posit coronaviru show mild symptom cough cold secondlargest carmak countri resum oper irungattukottaibas plant near chennai may 8 three employe recov fast toward normalci compani said   \n",
       "1  sinead boucher ceo new zealandbas media outlet stuff ha bought compani australian broadcast nine entertain nz1 around 46 maintain local ownership thi come month stuff ask staff voluntarili take pay cut amid coronaviru pandem nine would take hit 2629 million fullyear result sale   \n",
       "\n",
       "                                                                                                                                                                                                                                                                                   clean_lemmatized  \n",
       "0         hyundai motor india sunday said three employee chennaibased plant tested positive coronavirus showing mild symptom cough cold secondlargest carmaker country resumed operation irungattukottaibased plant near chennai may 8 three employee recovering fast towards normalcy company said  \n",
       "1  sinead boucher ceo new zealandbased medium outlet stuff ha bought company australian broadcaster nine entertainment nz1 around 46 maintain local ownership come month stuff asked staff voluntarily take pay cut amid coronavirus pandemic nine would take hit 2629 million fullyear result sale  "
      ]
     },
     "execution_count": 73,
     "metadata": {},
     "output_type": "execute_result"
    }
   ],
   "source": [
    "df = prep_article_data(df)\n",
    "df.head(2)"
   ]
  }
 ],
 "metadata": {
  "kernelspec": {
   "display_name": "Python 3",
   "language": "python",
   "name": "python3"
  },
  "language_info": {
   "codemirror_mode": {
    "name": "ipython",
    "version": 3
   },
   "file_extension": ".py",
   "mimetype": "text/x-python",
   "name": "python",
   "nbconvert_exporter": "python",
   "pygments_lexer": "ipython3",
   "version": "3.7.4"
  },
  "toc": {
   "base_numbering": 1,
   "nav_menu": {},
   "number_sections": true,
   "sideBar": true,
   "skip_h1_title": true,
   "title_cell": "Table of Contents",
   "title_sidebar": "Contents",
   "toc_cell": true,
   "toc_position": {},
   "toc_section_display": true,
   "toc_window_display": false
  }
 },
 "nbformat": 4,
 "nbformat_minor": 4
}

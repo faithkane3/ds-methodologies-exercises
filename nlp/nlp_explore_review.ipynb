{
 "cells": [
  {
   "cell_type": "markdown",
   "metadata": {
    "toc": true
   },
   "source": [
    "<h1>Table of Contents<span class=\"tocSkip\"></span></h1>\n",
    "<div class=\"toc\"><ul class=\"toc-item\"></ul></div>"
   ]
  },
  {
   "cell_type": "code",
   "execution_count": 1,
   "metadata": {},
   "outputs": [],
   "source": [
    "import pandas as pd\n",
    "import numpy as np\n",
    "\n",
    "import os\n",
    "import unicodedata\n",
    "import re\n",
    "import json\n",
    "\n",
    "import nltk\n",
    "from nltk.tokenize.toktok import ToktokTokenizer\n",
    "from nltk.corpus import stopwords\n",
    "\n",
    "from acquire_walkthrough import get_news_articles\n",
    "from prepare_walkthrough import prep_article_data"
   ]
  },
  {
   "cell_type": "code",
   "execution_count": 2,
   "metadata": {},
   "outputs": [],
   "source": [
    "df = get_news_articles()"
   ]
  },
  {
   "cell_type": "code",
   "execution_count": 3,
   "metadata": {},
   "outputs": [],
   "source": [
    "df = prep_article_data(df)"
   ]
  },
  {
   "cell_type": "code",
   "execution_count": 4,
   "metadata": {},
   "outputs": [
    {
     "data": {
      "text/html": [
       "<div>\n",
       "<style scoped>\n",
       "    .dataframe tbody tr th:only-of-type {\n",
       "        vertical-align: middle;\n",
       "    }\n",
       "\n",
       "    .dataframe tbody tr th {\n",
       "        vertical-align: top;\n",
       "    }\n",
       "\n",
       "    .dataframe thead th {\n",
       "        text-align: right;\n",
       "    }\n",
       "</style>\n",
       "<table border=\"1\" class=\"dataframe\">\n",
       "  <thead>\n",
       "    <tr style=\"text-align: right;\">\n",
       "      <th></th>\n",
       "      <th>topic</th>\n",
       "      <th>title</th>\n",
       "      <th>author</th>\n",
       "      <th>content</th>\n",
       "      <th>clean_stemmed</th>\n",
       "      <th>clean_lemmatized</th>\n",
       "    </tr>\n",
       "  </thead>\n",
       "  <tbody>\n",
       "    <tr>\n",
       "      <th>0</th>\n",
       "      <td>business</td>\n",
       "      <td>3 employees at Hyundai's Chennai plant test po...</td>\n",
       "      <td>Pragya Swastik</td>\n",
       "      <td>Hyundai Motor India on Sunday said its three e...</td>\n",
       "      <td>hyundai motor india sunday said three employe ...</td>\n",
       "      <td>hyundai motor india sunday said three employee...</td>\n",
       "    </tr>\n",
       "    <tr>\n",
       "      <th>1</th>\n",
       "      <td>business</td>\n",
       "      <td>CEO of New Zealand media outlet Stuff buys the...</td>\n",
       "      <td>Dharna</td>\n",
       "      <td>Sinead Boucher, the CEO of New Zealand-based m...</td>\n",
       "      <td>sinead boucher ceo new zealandbas media outlet...</td>\n",
       "      <td>sinead boucher ceo new zealandbased medium out...</td>\n",
       "    </tr>\n",
       "    <tr>\n",
       "      <th>2</th>\n",
       "      <td>business</td>\n",
       "      <td>Lockdown extensions won't help, cases will con...</td>\n",
       "      <td>Anushka Dixit</td>\n",
       "      <td>Mahindra Group Chairman Anand Mahindra said th...</td>\n",
       "      <td>mahindra group chairman anand mahindra said lo...</td>\n",
       "      <td>mahindra group chairman anand mahindra said lo...</td>\n",
       "    </tr>\n",
       "    <tr>\n",
       "      <th>3</th>\n",
       "      <td>business</td>\n",
       "      <td>102-year-old car rental firm Hertz files for b...</td>\n",
       "      <td>Dharna</td>\n",
       "      <td>Global car rental company Hertz has filed for ...</td>\n",
       "      <td>global car rental compani hertz ha file bankru...</td>\n",
       "      <td>global car rental company hertz ha filed bankr...</td>\n",
       "    </tr>\n",
       "    <tr>\n",
       "      <th>4</th>\n",
       "      <td>business</td>\n",
       "      <td>Jeff Bezos, Zuckerberg highest-earning billion...</td>\n",
       "      <td>Pragya Swastik</td>\n",
       "      <td>Amazon CEO Jeff Bezos and Facebook CEO Mark Zu...</td>\n",
       "      <td>amazon ceo jeff bezo facebook ceo mark zuckerb...</td>\n",
       "      <td>amazon ceo jeff bezos facebook ceo mark zucker...</td>\n",
       "    </tr>\n",
       "  </tbody>\n",
       "</table>\n",
       "</div>"
      ],
      "text/plain": [
       "      topic                                              title  \\\n",
       "0  business  3 employees at Hyundai's Chennai plant test po...   \n",
       "1  business  CEO of New Zealand media outlet Stuff buys the...   \n",
       "2  business  Lockdown extensions won't help, cases will con...   \n",
       "3  business  102-year-old car rental firm Hertz files for b...   \n",
       "4  business  Jeff Bezos, Zuckerberg highest-earning billion...   \n",
       "\n",
       "           author                                            content  \\\n",
       "0  Pragya Swastik  Hyundai Motor India on Sunday said its three e...   \n",
       "1          Dharna  Sinead Boucher, the CEO of New Zealand-based m...   \n",
       "2   Anushka Dixit  Mahindra Group Chairman Anand Mahindra said th...   \n",
       "3          Dharna  Global car rental company Hertz has filed for ...   \n",
       "4  Pragya Swastik  Amazon CEO Jeff Bezos and Facebook CEO Mark Zu...   \n",
       "\n",
       "                                       clean_stemmed  \\\n",
       "0  hyundai motor india sunday said three employe ...   \n",
       "1  sinead boucher ceo new zealandbas media outlet...   \n",
       "2  mahindra group chairman anand mahindra said lo...   \n",
       "3  global car rental compani hertz ha file bankru...   \n",
       "4  amazon ceo jeff bezo facebook ceo mark zuckerb...   \n",
       "\n",
       "                                    clean_lemmatized  \n",
       "0  hyundai motor india sunday said three employee...  \n",
       "1  sinead boucher ceo new zealandbased medium out...  \n",
       "2  mahindra group chairman anand mahindra said lo...  \n",
       "3  global car rental company hertz ha filed bankr...  \n",
       "4  amazon ceo jeff bezos facebook ceo mark zucker...  "
      ]
     },
     "execution_count": 4,
     "metadata": {},
     "output_type": "execute_result"
    }
   ],
   "source": [
    "df.head()"
   ]
  },
  {
   "cell_type": "code",
   "execution_count": null,
   "metadata": {},
   "outputs": [],
   "source": []
  }
 ],
 "metadata": {
  "kernelspec": {
   "display_name": "Python 3",
   "language": "python",
   "name": "python3"
  },
  "language_info": {
   "codemirror_mode": {
    "name": "ipython",
    "version": 3
   },
   "file_extension": ".py",
   "mimetype": "text/x-python",
   "name": "python",
   "nbconvert_exporter": "python",
   "pygments_lexer": "ipython3",
   "version": "3.7.4"
  },
  "toc": {
   "base_numbering": 1,
   "nav_menu": {},
   "number_sections": true,
   "sideBar": true,
   "skip_h1_title": true,
   "title_cell": "Table of Contents",
   "title_sidebar": "Contents",
   "toc_cell": true,
   "toc_position": {},
   "toc_section_display": true,
   "toc_window_display": false
  }
 },
 "nbformat": 4,
 "nbformat_minor": 4
}

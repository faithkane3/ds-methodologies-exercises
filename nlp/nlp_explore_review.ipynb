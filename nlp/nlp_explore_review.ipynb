{
 "cells": [
  {
   "cell_type": "markdown",
   "metadata": {
    "toc": true
   },
   "source": [
    "<h1>Table of Contents<span class=\"tocSkip\"></span></h1>\n",
    "<div class=\"toc\"><ul class=\"toc-item\"><li><span><a href=\"#Acquire-News-Articles\" data-toc-modified-id=\"Acquire-News-Articles-1\"><span class=\"toc-item-num\">1&nbsp;&nbsp;</span>Acquire News Articles</a></span></li><li><span><a href=\"#Prepare-News-Articles\" data-toc-modified-id=\"Prepare-News-Articles-2\"><span class=\"toc-item-num\">2&nbsp;&nbsp;</span>Prepare News Articles</a></span></li><li><span><a href=\"#Explore-Lemmatized-Text\" data-toc-modified-id=\"Explore-Lemmatized-Text-3\"><span class=\"toc-item-num\">3&nbsp;&nbsp;</span>Explore Lemmatized Text</a></span><ul class=\"toc-item\"><li><span><a href=\"#Create-a-Series-for--Corpus-of-Words-by-Topic-Label\" data-toc-modified-id=\"Create-a-Series-for--Corpus-of-Words-by-Topic-Label-3.1\"><span class=\"toc-item-num\">3.1&nbsp;&nbsp;</span>Create a Series for  Corpus of Words by Topic Label</a></span></li><li><span><a href=\"#Create-a-Series-of-Word-Frequencies-for-Each-Topic-Label\" data-toc-modified-id=\"Create-a-Series-of-Word-Frequencies-for-Each-Topic-Label-3.2\"><span class=\"toc-item-num\">3.2&nbsp;&nbsp;</span>Create a Series of Word Frequencies for Each Topic Label</a></span></li><li><span><a href=\"#Create-df-of-Word-Frequencies-for-Each-Subset-Above\" data-toc-modified-id=\"Create-df-of-Word-Frequencies-for-Each-Subset-Above-3.3\"><span class=\"toc-item-num\">3.3&nbsp;&nbsp;</span>Create df of Word Frequencies for Each Subset Above</a></span></li></ul></li></ul></div>"
   ]
  },
  {
   "cell_type": "code",
   "execution_count": 13,
   "metadata": {},
   "outputs": [],
   "source": [
    "import pandas as pd\n",
    "import numpy as np\n",
    "\n",
    "import os\n",
    "import unicodedata\n",
    "import re\n",
    "import json\n",
    "\n",
    "import nltk\n",
    "from nltk.tokenize.toktok import ToktokTokenizer\n",
    "from nltk.corpus import stopwords\n",
    "\n",
    "from acquire_walkthrough import get_news_articles\n",
    "from prepare_walkthrough import prep_article_data"
   ]
  },
  {
   "cell_type": "markdown",
   "metadata": {},
   "source": [
    "## Acquire News Articles"
   ]
  },
  {
   "cell_type": "code",
   "execution_count": 14,
   "metadata": {},
   "outputs": [],
   "source": [
    "df = get_news_articles()"
   ]
  },
  {
   "cell_type": "markdown",
   "metadata": {},
   "source": [
    "## Prepare News Articles"
   ]
  },
  {
   "cell_type": "code",
   "execution_count": 15,
   "metadata": {},
   "outputs": [],
   "source": [
    "df = prep_article_data(df)"
   ]
  },
  {
   "cell_type": "code",
   "execution_count": 16,
   "metadata": {},
   "outputs": [
    {
     "data": {
      "text/html": [
       "<div>\n",
       "<style scoped>\n",
       "    .dataframe tbody tr th:only-of-type {\n",
       "        vertical-align: middle;\n",
       "    }\n",
       "\n",
       "    .dataframe tbody tr th {\n",
       "        vertical-align: top;\n",
       "    }\n",
       "\n",
       "    .dataframe thead th {\n",
       "        text-align: right;\n",
       "    }\n",
       "</style>\n",
       "<table border=\"1\" class=\"dataframe\">\n",
       "  <thead>\n",
       "    <tr style=\"text-align: right;\">\n",
       "      <th></th>\n",
       "      <th>topic</th>\n",
       "      <th>title</th>\n",
       "      <th>author</th>\n",
       "      <th>content</th>\n",
       "      <th>clean_stemmed</th>\n",
       "      <th>clean_lemmatized</th>\n",
       "    </tr>\n",
       "  </thead>\n",
       "  <tbody>\n",
       "    <tr>\n",
       "      <th>0</th>\n",
       "      <td>business</td>\n",
       "      <td>Firm whose stock surged 1000% in 2020 starts h...</td>\n",
       "      <td>Krishna Veera Vanamali</td>\n",
       "      <td>US biotech company Novavax said it has started...</td>\n",
       "      <td>us biotech compani novavax said ha start phase...</td>\n",
       "      <td>u biotech company novavax said ha started phas...</td>\n",
       "    </tr>\n",
       "    <tr>\n",
       "      <th>1</th>\n",
       "      <td>business</td>\n",
       "      <td>India's economic growth seen at 1.2% in Q4 FY2...</td>\n",
       "      <td>Dharna</td>\n",
       "      <td>India's economy is estimated to have grown at ...</td>\n",
       "      <td>india economi estim grown 12 quarter end march...</td>\n",
       "      <td>india economy estimated grown 12 quarter ended...</td>\n",
       "    </tr>\n",
       "    <tr>\n",
       "      <th>2</th>\n",
       "      <td>business</td>\n",
       "      <td>TVS Motor cuts employees' salaries by up to 20...</td>\n",
       "      <td>Dharna</td>\n",
       "      <td>TVS Motor Company has said it is cutting the s...</td>\n",
       "      <td>tv motor compani ha said cut salari employe si...</td>\n",
       "      <td>tv motor company ha said cutting salary employ...</td>\n",
       "    </tr>\n",
       "    <tr>\n",
       "      <th>3</th>\n",
       "      <td>business</td>\n",
       "      <td>Lockdown extensions won't help, cases will con...</td>\n",
       "      <td>Anushka Dixit</td>\n",
       "      <td>Mahindra Group Chairman Anand Mahindra said th...</td>\n",
       "      <td>mahindra group chairman anand mahindra said lo...</td>\n",
       "      <td>mahindra group chairman anand mahindra said lo...</td>\n",
       "    </tr>\n",
       "    <tr>\n",
       "      <th>4</th>\n",
       "      <td>business</td>\n",
       "      <td>Uber India fires 600 employees reducing 25% of...</td>\n",
       "      <td>Dharna</td>\n",
       "      <td>Uber is firing 600 employees in India, or 25% ...</td>\n",
       "      <td>uber fire 600 employe india 25 workforc countr...</td>\n",
       "      <td>uber firing 600 employee india 25 workforce co...</td>\n",
       "    </tr>\n",
       "  </tbody>\n",
       "</table>\n",
       "</div>"
      ],
      "text/plain": [
       "      topic                                              title  \\\n",
       "0  business  Firm whose stock surged 1000% in 2020 starts h...   \n",
       "1  business  India's economic growth seen at 1.2% in Q4 FY2...   \n",
       "2  business  TVS Motor cuts employees' salaries by up to 20...   \n",
       "3  business  Lockdown extensions won't help, cases will con...   \n",
       "4  business  Uber India fires 600 employees reducing 25% of...   \n",
       "\n",
       "                   author                                            content  \\\n",
       "0  Krishna Veera Vanamali  US biotech company Novavax said it has started...   \n",
       "1                  Dharna  India's economy is estimated to have grown at ...   \n",
       "2                  Dharna  TVS Motor Company has said it is cutting the s...   \n",
       "3           Anushka Dixit  Mahindra Group Chairman Anand Mahindra said th...   \n",
       "4                  Dharna  Uber is firing 600 employees in India, or 25% ...   \n",
       "\n",
       "                                       clean_stemmed  \\\n",
       "0  us biotech compani novavax said ha start phase...   \n",
       "1  india economi estim grown 12 quarter end march...   \n",
       "2  tv motor compani ha said cut salari employe si...   \n",
       "3  mahindra group chairman anand mahindra said lo...   \n",
       "4  uber fire 600 employe india 25 workforc countr...   \n",
       "\n",
       "                                    clean_lemmatized  \n",
       "0  u biotech company novavax said ha started phas...  \n",
       "1  india economy estimated grown 12 quarter ended...  \n",
       "2  tv motor company ha said cutting salary employ...  \n",
       "3  mahindra group chairman anand mahindra said lo...  \n",
       "4  uber firing 600 employee india 25 workforce co...  "
      ]
     },
     "execution_count": 16,
     "metadata": {},
     "output_type": "execute_result"
    }
   ],
   "source": [
    "df.head()"
   ]
  },
  {
   "cell_type": "code",
   "execution_count": 17,
   "metadata": {},
   "outputs": [
    {
     "data": {
      "text/html": [
       "<div>\n",
       "<style scoped>\n",
       "    .dataframe tbody tr th:only-of-type {\n",
       "        vertical-align: middle;\n",
       "    }\n",
       "\n",
       "    .dataframe tbody tr th {\n",
       "        vertical-align: top;\n",
       "    }\n",
       "\n",
       "    .dataframe thead th {\n",
       "        text-align: right;\n",
       "    }\n",
       "</style>\n",
       "<table border=\"1\" class=\"dataframe\">\n",
       "  <thead>\n",
       "    <tr style=\"text-align: right;\">\n",
       "      <th></th>\n",
       "      <th>label</th>\n",
       "      <th>text</th>\n",
       "    </tr>\n",
       "  </thead>\n",
       "  <tbody>\n",
       "    <tr>\n",
       "      <th>0</th>\n",
       "      <td>business</td>\n",
       "      <td>u biotech company novavax said ha started phas...</td>\n",
       "    </tr>\n",
       "  </tbody>\n",
       "</table>\n",
       "</div>"
      ],
      "text/plain": [
       "      label                                               text\n",
       "0  business  u biotech company novavax said ha started phas..."
      ]
     },
     "execution_count": 17,
     "metadata": {},
     "output_type": "execute_result"
    }
   ],
   "source": [
    "# Select label and text and rename accordingly\n",
    "df_lem = df[['topic', 'clean_lemmatized']]\n",
    "\n",
    "df_lem = df_lem.rename(columns={'topic': 'label', 'clean_lemmatized': 'text'})\n",
    "\n",
    "# df_lem uses lemmatized text\n",
    "df_lem.head(1)"
   ]
  },
  {
   "cell_type": "markdown",
   "metadata": {},
   "source": [
    "## Explore Lemmatized Text"
   ]
  },
  {
   "cell_type": "code",
   "execution_count": 18,
   "metadata": {},
   "outputs": [
    {
     "data": {
      "text/html": [
       "<div>\n",
       "<style scoped>\n",
       "    .dataframe tbody tr th:only-of-type {\n",
       "        vertical-align: middle;\n",
       "    }\n",
       "\n",
       "    .dataframe tbody tr th {\n",
       "        vertical-align: top;\n",
       "    }\n",
       "\n",
       "    .dataframe thead th {\n",
       "        text-align: right;\n",
       "    }\n",
       "</style>\n",
       "<table border=\"1\" class=\"dataframe\">\n",
       "  <thead>\n",
       "    <tr style=\"text-align: right;\">\n",
       "      <th></th>\n",
       "      <th>n</th>\n",
       "      <th>percent</th>\n",
       "    </tr>\n",
       "  </thead>\n",
       "  <tbody>\n",
       "    <tr>\n",
       "      <th>business</th>\n",
       "      <td>25</td>\n",
       "      <td>0.252525</td>\n",
       "    </tr>\n",
       "    <tr>\n",
       "      <th>entertainment</th>\n",
       "      <td>25</td>\n",
       "      <td>0.252525</td>\n",
       "    </tr>\n",
       "    <tr>\n",
       "      <th>sports</th>\n",
       "      <td>25</td>\n",
       "      <td>0.252525</td>\n",
       "    </tr>\n",
       "    <tr>\n",
       "      <th>technology</th>\n",
       "      <td>24</td>\n",
       "      <td>0.242424</td>\n",
       "    </tr>\n",
       "  </tbody>\n",
       "</table>\n",
       "</div>"
      ],
      "text/plain": [
       "                n   percent\n",
       "business       25  0.252525\n",
       "entertainment  25  0.252525\n",
       "sports         25  0.252525\n",
       "technology     24  0.242424"
      ]
     },
     "execution_count": 18,
     "metadata": {},
     "output_type": "execute_result"
    }
   ],
   "source": [
    "# Our scraped data is very balanced\n",
    "\n",
    "labels = pd.concat([df_lem.label.value_counts(),\n",
    "                    df_lem.label.value_counts(normalize=True)], axis=1)\n",
    "labels.columns = ['n', 'percent']\n",
    "labels"
   ]
  },
  {
   "cell_type": "markdown",
   "metadata": {},
   "source": [
    "### Create a Series for  Corpus of Words by Topic Label"
   ]
  },
  {
   "cell_type": "code",
   "execution_count": 49,
   "metadata": {},
   "outputs": [
    {
     "data": {
      "text/plain": [
       "['u',\n",
       " 'biotech',\n",
       " 'company',\n",
       " 'novavax',\n",
       " 'said',\n",
       " 'ha',\n",
       " 'started',\n",
       " 'phase',\n",
       " '1',\n",
       " 'clinical']"
      ]
     },
     "execution_count": 49,
     "metadata": {},
     "output_type": "execute_result"
    }
   ],
   "source": [
    "business_words = ' '.join(df_lem[df_lem.label == 'business'].text).split(' ')\n",
    "business_words[:10]"
   ]
  },
  {
   "cell_type": "code",
   "execution_count": 50,
   "metadata": {},
   "outputs": [
    {
     "data": {
      "text/plain": [
       "['south',\n",
       " 'indian',\n",
       " 'actor',\n",
       " 'prithviraj',\n",
       " 'sukumaran',\n",
       " 'today',\n",
       " 'shared',\n",
       " 'picture',\n",
       " 'physical',\n",
       " 'transformation']"
      ]
     },
     "execution_count": 50,
     "metadata": {},
     "output_type": "execute_result"
    }
   ],
   "source": [
    "entertainment_words = ' '.join(df_lem[df_lem.label == 'entertainment'].text).split(' ')\n",
    "entertainment_words[:10]"
   ]
  },
  {
   "cell_type": "code",
   "execution_count": 51,
   "metadata": {},
   "outputs": [
    {
     "data": {
      "text/plain": [
       "['exindia',\n",
       " 'captain',\n",
       " 'rahul',\n",
       " 'dravid',\n",
       " 'ha',\n",
       " 'said',\n",
       " 'idea',\n",
       " 'creating',\n",
       " 'biosecure',\n",
       " 'environment']"
      ]
     },
     "execution_count": 51,
     "metadata": {},
     "output_type": "execute_result"
    }
   ],
   "source": [
    "sports_words = ' '.join(df_lem[df_lem.label == 'sports'].text).split(' ')\n",
    "sports_words[:10]"
   ]
  },
  {
   "cell_type": "code",
   "execution_count": 52,
   "metadata": {},
   "outputs": [
    {
     "data": {
      "text/plain": [
       "['former',\n",
       " 'nasa',\n",
       " 'apple',\n",
       " 'engineer',\n",
       " 'mark',\n",
       " 'rober',\n",
       " 'built',\n",
       " 'elaborate',\n",
       " 'obstacle',\n",
       " 'course']"
      ]
     },
     "execution_count": 52,
     "metadata": {},
     "output_type": "execute_result"
    }
   ],
   "source": [
    "technology_words = ' '.join(df_lem[df_lem.label == 'technology'].text).split(' ')\n",
    "technology_words[:10]"
   ]
  },
  {
   "cell_type": "code",
   "execution_count": 53,
   "metadata": {},
   "outputs": [
    {
     "data": {
      "text/plain": [
       "['u',\n",
       " 'biotech',\n",
       " 'company',\n",
       " 'novavax',\n",
       " 'said',\n",
       " 'ha',\n",
       " 'started',\n",
       " 'phase',\n",
       " '1',\n",
       " 'clinical']"
      ]
     },
     "execution_count": 53,
     "metadata": {},
     "output_type": "execute_result"
    }
   ],
   "source": [
    "all_words = ' '.join(df_lem.text).split(' ')\n",
    "all_words[:10]"
   ]
  },
  {
   "cell_type": "markdown",
   "metadata": {},
   "source": [
    "### Create a Series of Word Frequencies for Each Topic Label"
   ]
  },
  {
   "cell_type": "code",
   "execution_count": 55,
   "metadata": {},
   "outputs": [
    {
     "data": {
      "text/plain": [
       "said          26\n",
       "ha            19\n",
       "india         16\n",
       "company       15\n",
       "million        9\n",
       "              ..\n",
       "member         1\n",
       "completely     1\n",
       "peru           1\n",
       "tv             1\n",
       "sbis           1\n",
       "Length: 651, dtype: int64"
      ]
     },
     "execution_count": 55,
     "metadata": {},
     "output_type": "execute_result"
    }
   ],
   "source": [
    "business_freq = pd.Series(business_words).value_counts()\n",
    "business_freq"
   ]
  },
  {
   "cell_type": "code",
   "execution_count": 56,
   "metadata": {},
   "outputs": [],
   "source": [
    "entertainment_freq = pd.Series(entertainment_words).value_counts()\n",
    "sports_freq = pd.Series(sports_words).value_counts()\n",
    "technology_freq = pd.Series(technology_words).value_counts()\n",
    "all_freq = pd.Series(all_words).value_counts()"
   ]
  },
  {
   "cell_type": "markdown",
   "metadata": {},
   "source": [
    "### Create df of Word Frequencies for Each Subset Above"
   ]
  },
  {
   "cell_type": "code",
   "execution_count": 57,
   "metadata": {},
   "outputs": [
    {
     "data": {
      "text/html": [
       "<div>\n",
       "<style scoped>\n",
       "    .dataframe tbody tr th:only-of-type {\n",
       "        vertical-align: middle;\n",
       "    }\n",
       "\n",
       "    .dataframe tbody tr th {\n",
       "        vertical-align: top;\n",
       "    }\n",
       "\n",
       "    .dataframe thead th {\n",
       "        text-align: right;\n",
       "    }\n",
       "</style>\n",
       "<table border=\"1\" class=\"dataframe\">\n",
       "  <thead>\n",
       "    <tr style=\"text-align: right;\">\n",
       "      <th></th>\n",
       "      <th>all</th>\n",
       "      <th>business</th>\n",
       "      <th>entertainment</th>\n",
       "      <th>sports</th>\n",
       "      <th>technology</th>\n",
       "    </tr>\n",
       "  </thead>\n",
       "  <tbody>\n",
       "    <tr>\n",
       "      <th>1</th>\n",
       "      <td>3</td>\n",
       "      <td>0</td>\n",
       "      <td>0</td>\n",
       "      <td>0</td>\n",
       "      <td>3</td>\n",
       "    </tr>\n",
       "    <tr>\n",
       "      <th>10</th>\n",
       "      <td>3</td>\n",
       "      <td>0</td>\n",
       "      <td>1</td>\n",
       "      <td>1</td>\n",
       "      <td>5</td>\n",
       "    </tr>\n",
       "    <tr>\n",
       "      <th>100</th>\n",
       "      <td>1</td>\n",
       "      <td>0</td>\n",
       "      <td>0</td>\n",
       "      <td>1</td>\n",
       "      <td>2</td>\n",
       "    </tr>\n",
       "    <tr>\n",
       "      <th>1000</th>\n",
       "      <td>1</td>\n",
       "      <td>0</td>\n",
       "      <td>0</td>\n",
       "      <td>1</td>\n",
       "      <td>2</td>\n",
       "    </tr>\n",
       "    <tr>\n",
       "      <th>10000</th>\n",
       "      <td>0</td>\n",
       "      <td>0</td>\n",
       "      <td>1</td>\n",
       "      <td>0</td>\n",
       "      <td>1</td>\n",
       "    </tr>\n",
       "  </tbody>\n",
       "</table>\n",
       "</div>"
      ],
      "text/plain": [
       "       all  business  entertainment  sports  technology\n",
       "1        3         0              0       0           3\n",
       "10       3         0              1       1           5\n",
       "100      1         0              0       1           2\n",
       "1000     1         0              0       1           2\n",
       "10000    0         0              1       0           1"
      ]
     },
     "execution_count": 57,
     "metadata": {},
     "output_type": "execute_result"
    }
   ],
   "source": [
    "word_counts = (pd.concat([business_freq, entertainment_freq, sports_freq, technology_freq, all_freq], axis=1, sort=True)\n",
    "              .set_axis(['all', 'business', 'entertainment', 'sports', 'technology'], axis=1, inplace=False)\n",
    "              .fillna(0)\n",
    "              .apply(lambda s: s.astype(int)))\n",
    "\n",
    "word_counts.head()"
   ]
  },
  {
   "cell_type": "code",
   "execution_count": 58,
   "metadata": {},
   "outputs": [
    {
     "data": {
      "text/html": [
       "<div>\n",
       "<style scoped>\n",
       "    .dataframe tbody tr th:only-of-type {\n",
       "        vertical-align: middle;\n",
       "    }\n",
       "\n",
       "    .dataframe tbody tr th {\n",
       "        vertical-align: top;\n",
       "    }\n",
       "\n",
       "    .dataframe thead th {\n",
       "        text-align: right;\n",
       "    }\n",
       "</style>\n",
       "<table border=\"1\" class=\"dataframe\">\n",
       "  <thead>\n",
       "    <tr style=\"text-align: right;\">\n",
       "      <th></th>\n",
       "      <th>all</th>\n",
       "      <th>business</th>\n",
       "      <th>entertainment</th>\n",
       "      <th>sports</th>\n",
       "      <th>technology</th>\n",
       "    </tr>\n",
       "  </thead>\n",
       "  <tbody>\n",
       "    <tr>\n",
       "      <th>said</th>\n",
       "      <td>26</td>\n",
       "      <td>23</td>\n",
       "      <td>15</td>\n",
       "      <td>13</td>\n",
       "      <td>77</td>\n",
       "    </tr>\n",
       "    <tr>\n",
       "      <th>ha</th>\n",
       "      <td>19</td>\n",
       "      <td>16</td>\n",
       "      <td>20</td>\n",
       "      <td>14</td>\n",
       "      <td>69</td>\n",
       "    </tr>\n",
       "    <tr>\n",
       "      <th>india</th>\n",
       "      <td>16</td>\n",
       "      <td>1</td>\n",
       "      <td>4</td>\n",
       "      <td>4</td>\n",
       "      <td>25</td>\n",
       "    </tr>\n",
       "    <tr>\n",
       "      <th>company</th>\n",
       "      <td>15</td>\n",
       "      <td>1</td>\n",
       "      <td>0</td>\n",
       "      <td>8</td>\n",
       "      <td>24</td>\n",
       "    </tr>\n",
       "    <tr>\n",
       "      <th>u</th>\n",
       "      <td>9</td>\n",
       "      <td>3</td>\n",
       "      <td>0</td>\n",
       "      <td>4</td>\n",
       "      <td>16</td>\n",
       "    </tr>\n",
       "    <tr>\n",
       "      <th>share</th>\n",
       "      <td>9</td>\n",
       "      <td>1</td>\n",
       "      <td>1</td>\n",
       "      <td>9</td>\n",
       "      <td>20</td>\n",
       "    </tr>\n",
       "    <tr>\n",
       "      <th>million</th>\n",
       "      <td>9</td>\n",
       "      <td>0</td>\n",
       "      <td>0</td>\n",
       "      <td>10</td>\n",
       "      <td>19</td>\n",
       "    </tr>\n",
       "    <tr>\n",
       "      <th>ceo</th>\n",
       "      <td>7</td>\n",
       "      <td>0</td>\n",
       "      <td>2</td>\n",
       "      <td>5</td>\n",
       "      <td>14</td>\n",
       "    </tr>\n",
       "    <tr>\n",
       "      <th>may</th>\n",
       "      <td>6</td>\n",
       "      <td>0</td>\n",
       "      <td>1</td>\n",
       "      <td>5</td>\n",
       "      <td>12</td>\n",
       "    </tr>\n",
       "    <tr>\n",
       "      <th>sold</th>\n",
       "      <td>6</td>\n",
       "      <td>0</td>\n",
       "      <td>0</td>\n",
       "      <td>4</td>\n",
       "      <td>10</td>\n",
       "    </tr>\n",
       "  </tbody>\n",
       "</table>\n",
       "</div>"
      ],
      "text/plain": [
       "         all  business  entertainment  sports  technology\n",
       "said      26        23             15      13          77\n",
       "ha        19        16             20      14          69\n",
       "india     16         1              4       4          25\n",
       "company   15         1              0       8          24\n",
       "u          9         3              0       4          16\n",
       "share      9         1              1       9          20\n",
       "million    9         0              0      10          19\n",
       "ceo        7         0              2       5          14\n",
       "may        6         0              1       5          12\n",
       "sold       6         0              0       4          10"
      ]
     },
     "execution_count": 58,
     "metadata": {},
     "output_type": "execute_result"
    }
   ],
   "source": [
    "word_counts.sort_values(by='all', ascending=False).head(10)"
   ]
  },
  {
   "cell_type": "markdown",
   "metadata": {},
   "source": [
    "###"
   ]
  }
 ],
 "metadata": {
  "kernelspec": {
   "display_name": "Python 3",
   "language": "python",
   "name": "python3"
  },
  "language_info": {
   "codemirror_mode": {
    "name": "ipython",
    "version": 3
   },
   "file_extension": ".py",
   "mimetype": "text/x-python",
   "name": "python",
   "nbconvert_exporter": "python",
   "pygments_lexer": "ipython3",
   "version": "3.7.4"
  },
  "toc": {
   "base_numbering": 1,
   "nav_menu": {},
   "number_sections": true,
   "sideBar": true,
   "skip_h1_title": true,
   "title_cell": "Table of Contents",
   "title_sidebar": "Contents",
   "toc_cell": true,
   "toc_position": {},
   "toc_section_display": true,
   "toc_window_display": false
  }
 },
 "nbformat": 4,
 "nbformat_minor": 4
}

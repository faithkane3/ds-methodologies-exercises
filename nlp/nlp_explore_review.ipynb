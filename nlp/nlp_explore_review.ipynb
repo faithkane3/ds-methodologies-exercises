{
 "cells": [
  {
   "cell_type": "markdown",
   "metadata": {
    "toc": true
   },
   "source": [
    "<h1>Table of Contents<span class=\"tocSkip\"></span></h1>\n",
    "<div class=\"toc\"><ul class=\"toc-item\"><li><span><a href=\"#Acquire-News-Articles\" data-toc-modified-id=\"Acquire-News-Articles-1\"><span class=\"toc-item-num\">1&nbsp;&nbsp;</span>Acquire News Articles</a></span></li><li><span><a href=\"#Prepare-News-Articles\" data-toc-modified-id=\"Prepare-News-Articles-2\"><span class=\"toc-item-num\">2&nbsp;&nbsp;</span>Prepare News Articles</a></span></li><li><span><a href=\"#Explore-Lemmatized-Text\" data-toc-modified-id=\"Explore-Lemmatized-Text-3\"><span class=\"toc-item-num\">3&nbsp;&nbsp;</span>Explore Lemmatized Text</a></span></li></ul></div>"
   ]
  },
  {
   "cell_type": "code",
   "execution_count": 2,
   "metadata": {},
   "outputs": [],
   "source": [
    "import pandas as pd\n",
    "import numpy as np\n",
    "\n",
    "import os\n",
    "import unicodedata\n",
    "import re\n",
    "import json\n",
    "\n",
    "import nltk\n",
    "from nltk.tokenize.toktok import ToktokTokenizer\n",
    "from nltk.corpus import stopwords\n",
    "\n",
    "from acquire_walkthrough import get_news_articles\n",
    "from prepare_walkthrough import prep_article_data"
   ]
  },
  {
   "cell_type": "markdown",
   "metadata": {},
   "source": [
    "## Acquire News Articles"
   ]
  },
  {
   "cell_type": "code",
   "execution_count": 3,
   "metadata": {},
   "outputs": [],
   "source": [
    "df = get_news_articles()"
   ]
  },
  {
   "cell_type": "markdown",
   "metadata": {},
   "source": [
    "## Prepare News Articles"
   ]
  },
  {
   "cell_type": "code",
   "execution_count": 4,
   "metadata": {},
   "outputs": [],
   "source": [
    "df = prep_article_data(df)"
   ]
  },
  {
   "cell_type": "code",
   "execution_count": 5,
   "metadata": {},
   "outputs": [
    {
     "data": {
      "text/html": [
       "<div>\n",
       "<style scoped>\n",
       "    .dataframe tbody tr th:only-of-type {\n",
       "        vertical-align: middle;\n",
       "    }\n",
       "\n",
       "    .dataframe tbody tr th {\n",
       "        vertical-align: top;\n",
       "    }\n",
       "\n",
       "    .dataframe thead th {\n",
       "        text-align: right;\n",
       "    }\n",
       "</style>\n",
       "<table border=\"1\" class=\"dataframe\">\n",
       "  <thead>\n",
       "    <tr style=\"text-align: right;\">\n",
       "      <th></th>\n",
       "      <th>topic</th>\n",
       "      <th>title</th>\n",
       "      <th>author</th>\n",
       "      <th>content</th>\n",
       "      <th>clean_stemmed</th>\n",
       "      <th>clean_lemmatized</th>\n",
       "    </tr>\n",
       "  </thead>\n",
       "  <tbody>\n",
       "    <tr>\n",
       "      <th>0</th>\n",
       "      <td>business</td>\n",
       "      <td>Firm whose stock surged 1000% in 2020 starts h...</td>\n",
       "      <td>Krishna Veera Vanamali</td>\n",
       "      <td>US biotech company Novavax said it has started...</td>\n",
       "      <td>us biotech compani novavax said ha start phase...</td>\n",
       "      <td>u biotech company novavax said ha started phas...</td>\n",
       "    </tr>\n",
       "    <tr>\n",
       "      <th>1</th>\n",
       "      <td>business</td>\n",
       "      <td>India's economic growth seen at 1.2% in Q4 FY2...</td>\n",
       "      <td>Dharna</td>\n",
       "      <td>India's economy is estimated to have grown at ...</td>\n",
       "      <td>india ' economi estim grown 12 quarter end mar...</td>\n",
       "      <td>india ' economy estimated grown 12 quarter end...</td>\n",
       "    </tr>\n",
       "    <tr>\n",
       "      <th>2</th>\n",
       "      <td>business</td>\n",
       "      <td>TVS Motor cuts employees' salaries by up to 20...</td>\n",
       "      <td>Dharna</td>\n",
       "      <td>TVS Motor Company has said it is cutting the s...</td>\n",
       "      <td>tv motor compani ha said cut salari employe si...</td>\n",
       "      <td>tv motor company ha said cutting salary employ...</td>\n",
       "    </tr>\n",
       "    <tr>\n",
       "      <th>3</th>\n",
       "      <td>business</td>\n",
       "      <td>Lockdown extensions won't help, cases will con...</td>\n",
       "      <td>Anushka Dixit</td>\n",
       "      <td>Mahindra Group Chairman Anand Mahindra said th...</td>\n",
       "      <td>mahindra group chairman anand mahindra said lo...</td>\n",
       "      <td>mahindra group chairman anand mahindra said lo...</td>\n",
       "    </tr>\n",
       "    <tr>\n",
       "      <th>4</th>\n",
       "      <td>business</td>\n",
       "      <td>Uber India fires 600 employees reducing 25% of...</td>\n",
       "      <td>Dharna</td>\n",
       "      <td>Uber is firing 600 employees in India, or 25% ...</td>\n",
       "      <td>uber fire 600 employe india 25 workforc countr...</td>\n",
       "      <td>uber firing 600 employee india 25 workforce co...</td>\n",
       "    </tr>\n",
       "  </tbody>\n",
       "</table>\n",
       "</div>"
      ],
      "text/plain": [
       "      topic                                              title  \\\n",
       "0  business  Firm whose stock surged 1000% in 2020 starts h...   \n",
       "1  business  India's economic growth seen at 1.2% in Q4 FY2...   \n",
       "2  business  TVS Motor cuts employees' salaries by up to 20...   \n",
       "3  business  Lockdown extensions won't help, cases will con...   \n",
       "4  business  Uber India fires 600 employees reducing 25% of...   \n",
       "\n",
       "                   author                                            content  \\\n",
       "0  Krishna Veera Vanamali  US biotech company Novavax said it has started...   \n",
       "1                  Dharna  India's economy is estimated to have grown at ...   \n",
       "2                  Dharna  TVS Motor Company has said it is cutting the s...   \n",
       "3           Anushka Dixit  Mahindra Group Chairman Anand Mahindra said th...   \n",
       "4                  Dharna  Uber is firing 600 employees in India, or 25% ...   \n",
       "\n",
       "                                       clean_stemmed  \\\n",
       "0  us biotech compani novavax said ha start phase...   \n",
       "1  india ' economi estim grown 12 quarter end mar...   \n",
       "2  tv motor compani ha said cut salari employe si...   \n",
       "3  mahindra group chairman anand mahindra said lo...   \n",
       "4  uber fire 600 employe india 25 workforc countr...   \n",
       "\n",
       "                                    clean_lemmatized  \n",
       "0  u biotech company novavax said ha started phas...  \n",
       "1  india ' economy estimated grown 12 quarter end...  \n",
       "2  tv motor company ha said cutting salary employ...  \n",
       "3  mahindra group chairman anand mahindra said lo...  \n",
       "4  uber firing 600 employee india 25 workforce co...  "
      ]
     },
     "execution_count": 5,
     "metadata": {},
     "output_type": "execute_result"
    }
   ],
   "source": [
    "df.head()"
   ]
  },
  {
   "cell_type": "code",
   "execution_count": 10,
   "metadata": {},
   "outputs": [
    {
     "data": {
      "text/html": [
       "<div>\n",
       "<style scoped>\n",
       "    .dataframe tbody tr th:only-of-type {\n",
       "        vertical-align: middle;\n",
       "    }\n",
       "\n",
       "    .dataframe tbody tr th {\n",
       "        vertical-align: top;\n",
       "    }\n",
       "\n",
       "    .dataframe thead th {\n",
       "        text-align: right;\n",
       "    }\n",
       "</style>\n",
       "<table border=\"1\" class=\"dataframe\">\n",
       "  <thead>\n",
       "    <tr style=\"text-align: right;\">\n",
       "      <th></th>\n",
       "      <th>label</th>\n",
       "      <th>text</th>\n",
       "    </tr>\n",
       "  </thead>\n",
       "  <tbody>\n",
       "    <tr>\n",
       "      <th>0</th>\n",
       "      <td>business</td>\n",
       "      <td>u biotech company novavax said ha started phas...</td>\n",
       "    </tr>\n",
       "  </tbody>\n",
       "</table>\n",
       "</div>"
      ],
      "text/plain": [
       "      label                                               text\n",
       "0  business  u biotech company novavax said ha started phas..."
      ]
     },
     "execution_count": 10,
     "metadata": {},
     "output_type": "execute_result"
    }
   ],
   "source": [
    "# Select label and text and rename accordingly\n",
    "df_lem = df[['topic', 'clean_lemmatized']]\n",
    "\n",
    "df_lem.rename(columns={'topic': 'label', 'clean_lemmatized': 'text'}, inplace=True)\n",
    "\n",
    "# df_lem uses lemmatized text\n",
    "df_lem.head(1)"
   ]
  },
  {
   "cell_type": "markdown",
   "metadata": {},
   "source": [
    "## Explore Lemmatized Text"
   ]
  },
  {
   "cell_type": "code",
   "execution_count": 12,
   "metadata": {},
   "outputs": [
    {
     "data": {
      "text/html": [
       "<div>\n",
       "<style scoped>\n",
       "    .dataframe tbody tr th:only-of-type {\n",
       "        vertical-align: middle;\n",
       "    }\n",
       "\n",
       "    .dataframe tbody tr th {\n",
       "        vertical-align: top;\n",
       "    }\n",
       "\n",
       "    .dataframe thead th {\n",
       "        text-align: right;\n",
       "    }\n",
       "</style>\n",
       "<table border=\"1\" class=\"dataframe\">\n",
       "  <thead>\n",
       "    <tr style=\"text-align: right;\">\n",
       "      <th></th>\n",
       "      <th>n</th>\n",
       "      <th>percent</th>\n",
       "    </tr>\n",
       "  </thead>\n",
       "  <tbody>\n",
       "    <tr>\n",
       "      <th>sports</th>\n",
       "      <td>25</td>\n",
       "      <td>0.252525</td>\n",
       "    </tr>\n",
       "    <tr>\n",
       "      <th>business</th>\n",
       "      <td>25</td>\n",
       "      <td>0.252525</td>\n",
       "    </tr>\n",
       "    <tr>\n",
       "      <th>entertainment</th>\n",
       "      <td>25</td>\n",
       "      <td>0.252525</td>\n",
       "    </tr>\n",
       "    <tr>\n",
       "      <th>technology</th>\n",
       "      <td>24</td>\n",
       "      <td>0.242424</td>\n",
       "    </tr>\n",
       "  </tbody>\n",
       "</table>\n",
       "</div>"
      ],
      "text/plain": [
       "                n   percent\n",
       "sports         25  0.252525\n",
       "business       25  0.252525\n",
       "entertainment  25  0.252525\n",
       "technology     24  0.242424"
      ]
     },
     "execution_count": 12,
     "metadata": {},
     "output_type": "execute_result"
    }
   ],
   "source": [
    "# Our scraped data is very balanced\n",
    "\n",
    "labels = pd.concat([df_lem.label.value_counts(),\n",
    "                    df_lem.label.value_counts(normalize=True)], axis=1)\n",
    "labels.columns = ['n', 'percent']\n",
    "labels"
   ]
  },
  {
   "cell_type": "markdown",
   "metadata": {},
   "source": [
    "### Create a Series for "
   ]
  },
  {
   "cell_type": "code",
   "execution_count": null,
   "metadata": {},
   "outputs": [],
   "source": [
    "def label_filter(df, labels):\n",
    "    '''\n",
    "    This function takes in a df and a list of strings\n",
    "    for labels and returns\n",
    "    '''\n",
    "    for label in labels:\n",
    "        label + '_words' = ' '.join(df[df.label == label].text)"
   ]
  },
  {
   "cell_type": "code",
   "execution_count": 19,
   "metadata": {},
   "outputs": [
    {
     "data": {
      "text/plain": [
       "\"exindia captain rahul dravid ha said idea creating biosecure environment around team cricket resume unrealistic case biobubbleyou testing quarantine day two test one player test positive happens added end test series said cricketerturnedcommentator aakash chopra ha said batsman given soon zing bail light said moment see light come give batsman happening zing bail heavy dont come easily [ struck ball ] reacting shahid afridi ' remark pm narendra modi expakistan legspinner danish kaneria said afridi think speaking matter added want join politics quit tie cricket said speech like create negative image pakistan cricket india also around world condoling demise indian hockey legend balbir singh sr passed away monday akshay kumar took twitter share picture late 96yearold saddened hear [ ] demise[ h ] ad good fortune meeting inpast amazing personality wrote akshay ' ' gold ' wa loosely based threetime olympic gold medallist ' life india opener shikhar dhawan monday took twitter praise actor sonu sood helping stranded migrant reach home big salute sonu sood heroic effort tweeted dhawan sood recently arranged bus send migrant worker home uttar pradesh bihar jharkhand karnataka ha also distributed food poor cricket west indie cwi ceo johnny grave ha revealed ready plan send 25man squad england around june 8 threematch test series played july current plan working ha three test starting july 8 july 16 july 24 stated bournemouth goalkeeper aaron ramsdale ha revealed ' one two individual tested positive coronavirus last round premier league testing ' definitely shock ' contact anybody ' got said far premier league ha tested 1744 player club staff member virus west indie test team player including captain jason holder returned training authority eased restriction coronavirus pandemic come cricket west indie ceo johnny grave revealed ready plan send 25man squad england threematch test series played july sport authority india sai ha resumed activity two five stadium delhi government eased restriction coronavirus pandemic according sai sporting activity resumed jawaharlal nehru stadium major dhyan chand national stadium activity others expected resume week ' time pakistan head coach chief selector misbahulhaq ha stated pakistan limitedovers captain babar azam close class virat kohli steve smith joe root babar ' want team want top performer pakistanin time ' get better captain experience misbah added demise former hockey player balbir singh sr exindian sprinter milkha singh said wa hockey legend dhyan chand wa balbir sr close association revealed olympian milkha facility worked hard made country proud added south africa batsman dean elgar said ' asked take test side captaincy would mean lot ' definitely easy test captain think leadership come extremely naturally stated earlier teammate aiden markram expressed desire appointed sa test captain west indie fast bowler kemar roach instagram live session named former south africa allrounder jacques kallis toughest batsman ha bowled kallis wa technical solid approachhe played easily stated roach kallis south africa ' alltime leading scorer test odis scored 10000 run format expakistan captain saleem malik wa banned life 2000 matchfixing ha said ha received letter pcb ' anticorruption unit ready respond question malik ' ban wa lifted session court 2008 however ' yet get clearance pcb icc get back cricket activity bangladesh wicketkeeperbatsman mushfiqur rahim ha said ' regret ' played ipl ' bigger representing bangladesh ipl definitely one biggest t20 league worldif get opportunity course ' playand ' ttheni ' never regret stated rahim went unsold ipl 2020 auction cricketerturnedcommentator aakash chopra ha picked alltime royal challenger bangalore xi virat kohli chris gayle opener chopra picked kl rahul ab de villiers number three four position respectively followed ross taylor robin uthappa named mitchell starc anil kumble yuzvendra chahal vinay kumar zaheer khan team former england batsman ian bell facebook live session revealed like technical batsman added ' hard look past virat kohli ' cover drive world crickethe probably best moment bell played 118 test england scoring 7727 run included 22 century double hundred indian pacer varun aaron podcast revealed rahul dravid toughest batsman ha ever bowled every time i[ bowled ] net felt like wa bowling 120kph aaron stated ' never bowled batsman would lunge outand play ' bowled throw added pakistan cricket board pcb reportedly set appoint former spinner saqlain mushtaq coach international player national high performance centre lahore saqlain picked 208 wicket 49 test 288 wicket 169 odis ha previous experience england west indie new zealand team spin bowling coachconsultant exaustralia pacer brett lee instagram live picked sachin tendulkar world ' best batsman jacques kallis complete cricketer felt like sachin time playit felt like wa batting return crease batting next stump stated lee kallis south africa ' alltime leading runscorer odis test former pakistan pacer shoaib akhtar espncricinfo videocast revealed expakistan captain inzamamulhaq could read ball second faster others could bowl inzamam even net 10 year said among batsman played well akhtar named rahul dravid stating wa able penetrate dravid ' defence condoling demise hockey legend balbir singh sr punjab chief minister amarinder singh said balbir sr exemplified quality perseverance dedication sportsmanship sir dearly missed forever remain inspiration grateful state bid farewell amarinder added balbir sr wa semicomatose state since may 18 online interview pakistan batsman masood said ha never played jasprit bumrah india pacer challenge want take asked pick toughest bowler ha faced far masood named australia fast bowler pat cummins bumrah second icc odi ranking bowler australia pacer pat cummins ha said learnt lot time ha played ipl previous ipl stintsi wa bowling last couple situation could either win lose match ' huge experience explained ' put highpressure situation [ ipl ] added juventus shared video cristiano ronaldo seen kicking football basketball hoop training serie club returned team training last week following suspension football march due coronavirus pandemic earlier barcelona forward lionel messi wa seen heading football net training\""
      ]
     },
     "execution_count": 19,
     "metadata": {},
     "output_type": "execute_result"
    }
   ],
   "source": [
    "sports_words = ' '.join(df_lem[df_lem.label == 'sports'].text)\n",
    "sports_words"
   ]
  },
  {
   "cell_type": "code",
   "execution_count": null,
   "metadata": {},
   "outputs": [],
   "source": []
  }
 ],
 "metadata": {
  "kernelspec": {
   "display_name": "Python 3",
   "language": "python",
   "name": "python3"
  },
  "language_info": {
   "codemirror_mode": {
    "name": "ipython",
    "version": 3
   },
   "file_extension": ".py",
   "mimetype": "text/x-python",
   "name": "python",
   "nbconvert_exporter": "python",
   "pygments_lexer": "ipython3",
   "version": "3.7.4"
  },
  "toc": {
   "base_numbering": 1,
   "nav_menu": {},
   "number_sections": true,
   "sideBar": true,
   "skip_h1_title": true,
   "title_cell": "Table of Contents",
   "title_sidebar": "Contents",
   "toc_cell": true,
   "toc_position": {},
   "toc_section_display": true,
   "toc_window_display": false
  }
 },
 "nbformat": 4,
 "nbformat_minor": 4
}

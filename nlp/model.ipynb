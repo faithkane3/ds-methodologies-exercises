{
 "cells": [
  {
   "cell_type": "markdown",
   "metadata": {},
   "source": [
    "# NLP: Classify Articles from Titles\n",
    "\n",
    "We will walk through an end-to-end example of taking the raw text of the articles' titles, clean it, tokenize and vectorize it, explore it, and develop a model to classify each article into one of 4 labeled classes (business, sports, technology, or entertainment). "
   ]
  },
  {
   "cell_type": "code",
   "execution_count": 3,
   "metadata": {},
   "outputs": [],
   "source": [
    "import unicodedata\n",
    "import re\n",
    "import json\n",
    "\n",
    "import nltk\n",
    "from nltk.tokenize.toktok import ToktokTokenizer\n",
    "from nltk.corpus import stopwords\n",
    "\n",
    "import pandas as pd\n",
    "import numpy as np\n",
    "\n",
    "import matplotlib.pyplot as plt\n",
    "import seaborn as sns\n",
    "\n",
    "# matplotlib default plotting styles\n",
    "plt.rc(\"patch\", edgecolor=\"black\", force_edgecolor=True)\n",
    "plt.rc(\"axes\", grid=True)\n",
    "plt.rc(\"grid\", linestyle=\":\", linewidth=0.8, alpha=0.7)\n",
    "plt.rc(\"axes.spines\", right=False, top=False)\n",
    "plt.rc(\"figure\", figsize=(11, 8))\n",
    "plt.rc(\"font\", size=12.0)\n",
    "plt.rc(\"hist\", bins=25)\n",
    "\n",
    "import acquire"
   ]
  },
  {
   "cell_type": "markdown",
   "metadata": {},
   "source": [
    "## Acquire: Scrape InShorts.com\n",
    "\n",
    "Acquire news articles from [InShorts](inshorts.com) using `BeautifulSoup` and `get.requests`\n",
    "\n",
    "- [business](https://inshorts.com/en/read/business)\n",
    "- [sports](https://inshorts.com/en/read/sports)\n",
    "- [technology](https://inshorts.com/en/read/technology)\n",
    "- [entertainment](https://inshorts.com/en/read/entertainment)"
   ]
  },
  {
   "cell_type": "code",
   "execution_count": 4,
   "metadata": {},
   "outputs": [],
   "source": [
    "original_df = acquire.get_news_articles()"
   ]
  },
  {
   "cell_type": "code",
   "execution_count": 5,
   "metadata": {},
   "outputs": [
    {
     "data": {
      "text/html": [
       "<div>\n",
       "<style scoped>\n",
       "    .dataframe tbody tr th:only-of-type {\n",
       "        vertical-align: middle;\n",
       "    }\n",
       "\n",
       "    .dataframe tbody tr th {\n",
       "        vertical-align: top;\n",
       "    }\n",
       "\n",
       "    .dataframe thead th {\n",
       "        text-align: right;\n",
       "    }\n",
       "</style>\n",
       "<table border=\"1\" class=\"dataframe\">\n",
       "  <thead>\n",
       "    <tr style=\"text-align: right;\">\n",
       "      <th></th>\n",
       "      <th>author</th>\n",
       "      <th>body</th>\n",
       "      <th>category</th>\n",
       "      <th>published_date</th>\n",
       "      <th>title</th>\n",
       "    </tr>\n",
       "  </thead>\n",
       "  <tbody>\n",
       "    <tr>\n",
       "      <th>0</th>\n",
       "      <td>Krishna Veera Vanamali</td>\n",
       "      <td>British cave explorer Vernon Unsworth, who los...</td>\n",
       "      <td>business</td>\n",
       "      <td>2019-12-07T15:31:16.000Z</td>\n",
       "      <td>I'll take it on the chin: Cave explorer after ...</td>\n",
       "    </tr>\n",
       "    <tr>\n",
       "      <th>1</th>\n",
       "      <td>Krishna Veera Vanamali</td>\n",
       "      <td>After a US jury found that Elon Musk did not d...</td>\n",
       "      <td>business</td>\n",
       "      <td>2019-12-07T16:34:59.000Z</td>\n",
       "      <td>My faith in humanity is restored: Musk after w...</td>\n",
       "    </tr>\n",
       "    <tr>\n",
       "      <th>2</th>\n",
       "      <td>Dharna</td>\n",
       "      <td>A Lucknow-based customer has filed an FIR agai...</td>\n",
       "      <td>business</td>\n",
       "      <td>2019-12-09T08:17:05.000Z</td>\n",
       "      <td>FIR filed against Club Factory in Lucknow for ...</td>\n",
       "    </tr>\n",
       "    <tr>\n",
       "      <th>3</th>\n",
       "      <td>Pragya Swastik</td>\n",
       "      <td>Former RBI Governor Raghuram Rajan in an artic...</td>\n",
       "      <td>business</td>\n",
       "      <td>2019-12-08T10:40:17.000Z</td>\n",
       "      <td>Ideas come from a small set of people around P...</td>\n",
       "    </tr>\n",
       "    <tr>\n",
       "      <th>4</th>\n",
       "      <td>Krishna Veera Vanamali</td>\n",
       "      <td>Congress leader Shashi Tharoor said he wants a...</td>\n",
       "      <td>business</td>\n",
       "      <td>2019-12-08T01:30:55.000Z</td>\n",
       "      <td>I want a 'New India' where Bajaj can speak fea...</td>\n",
       "    </tr>\n",
       "  </tbody>\n",
       "</table>\n",
       "</div>"
      ],
      "text/plain": [
       "                   author                                               body  \\\n",
       "0  Krishna Veera Vanamali  British cave explorer Vernon Unsworth, who los...   \n",
       "1  Krishna Veera Vanamali  After a US jury found that Elon Musk did not d...   \n",
       "2                  Dharna  A Lucknow-based customer has filed an FIR agai...   \n",
       "3          Pragya Swastik  Former RBI Governor Raghuram Rajan in an artic...   \n",
       "4  Krishna Veera Vanamali  Congress leader Shashi Tharoor said he wants a...   \n",
       "\n",
       "   category            published_date  \\\n",
       "0  business  2019-12-07T15:31:16.000Z   \n",
       "1  business  2019-12-07T16:34:59.000Z   \n",
       "2  business  2019-12-09T08:17:05.000Z   \n",
       "3  business  2019-12-08T10:40:17.000Z   \n",
       "4  business  2019-12-08T01:30:55.000Z   \n",
       "\n",
       "                                               title  \n",
       "0  I'll take it on the chin: Cave explorer after ...  \n",
       "1  My faith in humanity is restored: Musk after w...  \n",
       "2  FIR filed against Club Factory in Lucknow for ...  \n",
       "3  Ideas come from a small set of people around P...  \n",
       "4  I want a 'New India' where Bajaj can speak fea...  "
      ]
     },
     "execution_count": 5,
     "metadata": {},
     "output_type": "execute_result"
    }
   ],
   "source": [
    "original_df.head()"
   ]
  },
  {
   "cell_type": "markdown",
   "metadata": {},
   "source": [
    "We are only going to work with the article titles in this example. \n",
    "We will select title and category (our target variable) and assign those to a new dataframe that we will work with moving forward. "
   ]
  },
  {
   "cell_type": "code",
   "execution_count": 6,
   "metadata": {},
   "outputs": [],
   "source": [
    "df = original_df[['title','category']]"
   ]
  },
  {
   "cell_type": "code",
   "execution_count": 7,
   "metadata": {},
   "outputs": [
    {
     "data": {
      "text/html": [
       "<div>\n",
       "<style scoped>\n",
       "    .dataframe tbody tr th:only-of-type {\n",
       "        vertical-align: middle;\n",
       "    }\n",
       "\n",
       "    .dataframe tbody tr th {\n",
       "        vertical-align: top;\n",
       "    }\n",
       "\n",
       "    .dataframe thead th {\n",
       "        text-align: right;\n",
       "    }\n",
       "</style>\n",
       "<table border=\"1\" class=\"dataframe\">\n",
       "  <thead>\n",
       "    <tr style=\"text-align: right;\">\n",
       "      <th></th>\n",
       "      <th>title</th>\n",
       "      <th>category</th>\n",
       "    </tr>\n",
       "  </thead>\n",
       "  <tbody>\n",
       "    <tr>\n",
       "      <th>0</th>\n",
       "      <td>I'll take it on the chin: Cave explorer after ...</td>\n",
       "      <td>business</td>\n",
       "    </tr>\n",
       "    <tr>\n",
       "      <th>1</th>\n",
       "      <td>My faith in humanity is restored: Musk after w...</td>\n",
       "      <td>business</td>\n",
       "    </tr>\n",
       "    <tr>\n",
       "      <th>2</th>\n",
       "      <td>FIR filed against Club Factory in Lucknow for ...</td>\n",
       "      <td>business</td>\n",
       "    </tr>\n",
       "    <tr>\n",
       "      <th>3</th>\n",
       "      <td>Ideas come from a small set of people around P...</td>\n",
       "      <td>business</td>\n",
       "    </tr>\n",
       "    <tr>\n",
       "      <th>4</th>\n",
       "      <td>I want a 'New India' where Bajaj can speak fea...</td>\n",
       "      <td>business</td>\n",
       "    </tr>\n",
       "  </tbody>\n",
       "</table>\n",
       "</div>"
      ],
      "text/plain": [
       "                                               title  category\n",
       "0  I'll take it on the chin: Cave explorer after ...  business\n",
       "1  My faith in humanity is restored: Musk after w...  business\n",
       "2  FIR filed against Club Factory in Lucknow for ...  business\n",
       "3  Ideas come from a small set of people around P...  business\n",
       "4  I want a 'New India' where Bajaj can speak fea...  business"
      ]
     },
     "execution_count": 7,
     "metadata": {},
     "output_type": "execute_result"
    }
   ],
   "source": [
    "df.head()"
   ]
  },
  {
   "cell_type": "code",
   "execution_count": 8,
   "metadata": {},
   "outputs": [
    {
     "data": {
      "text/plain": [
       "(99, 2)"
      ]
     },
     "execution_count": 8,
     "metadata": {},
     "output_type": "execute_result"
    }
   ],
   "source": [
    "df.shape"
   ]
  },
  {
   "cell_type": "markdown",
   "metadata": {},
   "source": [
    "## Prepare\n",
    "### Normalize Text\n",
    "\n",
    "- Convert to all lowercase  \n",
    "- Normalize the unicode chars  \n",
    "- Remove any non-alpha or whitespace characters  \n",
    "- Remove any alpha strings with 2 characters or less  "
   ]
  },
  {
   "cell_type": "code",
   "execution_count": 9,
   "metadata": {},
   "outputs": [
    {
     "name": "stdout",
     "output_type": "stream",
     "text": [
      "I'll take it on the chin: Cave explorer after losing case against Elon Musk\n",
      "i'll take it on the chin: cave explorer after losing case against elon musk\n",
      "i'll take it on the chin: cave explorer after losing case against elon musk\n",
      "i ll take it on the chin  cave explorer after losing case against elon musk\n",
      "  take   the chin  cave explorer after losing case against elon musk\n",
      "  take   the chin  cave explorer after losing case against elon musk\n",
      " take the chin cave explorer after losing case against elon musk\n",
      "take the chin cave explorer after losing case against elon musk\n"
     ]
    }
   ],
   "source": [
    "string = df.title[0]\n",
    "print(string)\n",
    "string = string.lower()\n",
    "print(string)\n",
    "string = unicodedata.normalize('NFKD', string).encode('ascii', 'ignore').decode('utf-8', 'ignore')\n",
    "print(string)\n",
    "\n",
    "string = re.sub(r'[^a-z]', ' ', string)\n",
    "print(string)\n",
    "\n",
    "string = re.sub(r'\\b[a-z]{,2}\\b', '', string)\n",
    "print(string)\n",
    "\n",
    "string = re.sub(r'[\\r|\\n|\\r\\n]+', ' ', string)\n",
    "print(string)\n",
    "\n",
    "string = re.sub(r'\\s+', ' ', string)\n",
    "print(string)\n",
    "\n",
    "string = string.strip()\n",
    "print(string)"
   ]
  },
  {
   "cell_type": "code",
   "execution_count": 10,
   "metadata": {},
   "outputs": [],
   "source": [
    "def normalize(string):\n",
    "    \"\"\"\n",
    "    Convert to all lowercase  \n",
    "    Normalize the unicode chars  \n",
    "    Remove any non-alpha or whitespace characters  \n",
    "    Remove any alpha strings with 2 characters or less  \n",
    "    \"\"\"\n",
    "    string = string.lower()\n",
    "    string = unicodedata.normalize('NFKD', string).encode('ascii', 'ignore').decode('utf-8', 'ignore')\n",
    "    \n",
    "    # keep only alpha chars\n",
    "    string = re.sub(r'[^a-z]', ' ', string)\n",
    "    \n",
    "    # remove strings less than 2 chars in length\n",
    "    string = re.sub(r'\\b[a-z]{,2}\\b', '', string)\n",
    "    \n",
    "    # convert newlines and tabs to a single space\n",
    "    string = re.sub(r'[\\r|\\n|\\r\\n]+', ' ', string)\n",
    "    \n",
    "    # strip extra whitespace\n",
    "    string = string.strip()\n",
    "    \n",
    "    return string\n",
    "\n",
    "df = df.assign(normalized = df.title.apply(normalize))"
   ]
  },
  {
   "cell_type": "code",
   "execution_count": 11,
   "metadata": {},
   "outputs": [
    {
     "data": {
      "text/html": [
       "<div>\n",
       "<style scoped>\n",
       "    .dataframe tbody tr th:only-of-type {\n",
       "        vertical-align: middle;\n",
       "    }\n",
       "\n",
       "    .dataframe tbody tr th {\n",
       "        vertical-align: top;\n",
       "    }\n",
       "\n",
       "    .dataframe thead th {\n",
       "        text-align: right;\n",
       "    }\n",
       "</style>\n",
       "<table border=\"1\" class=\"dataframe\">\n",
       "  <thead>\n",
       "    <tr style=\"text-align: right;\">\n",
       "      <th></th>\n",
       "      <th>title</th>\n",
       "      <th>category</th>\n",
       "      <th>normalized</th>\n",
       "    </tr>\n",
       "  </thead>\n",
       "  <tbody>\n",
       "    <tr>\n",
       "      <th>0</th>\n",
       "      <td>I'll take it on the chin: Cave explorer after ...</td>\n",
       "      <td>business</td>\n",
       "      <td>take   the chin  cave explorer after losing ca...</td>\n",
       "    </tr>\n",
       "    <tr>\n",
       "      <th>1</th>\n",
       "      <td>My faith in humanity is restored: Musk after w...</td>\n",
       "      <td>business</td>\n",
       "      <td>faith  humanity  restored  musk after winning ...</td>\n",
       "    </tr>\n",
       "    <tr>\n",
       "      <th>2</th>\n",
       "      <td>FIR filed against Club Factory in Lucknow for ...</td>\n",
       "      <td>business</td>\n",
       "      <td>fir filed against club factory  lucknow for se...</td>\n",
       "    </tr>\n",
       "    <tr>\n",
       "      <th>3</th>\n",
       "      <td>Ideas come from a small set of people around P...</td>\n",
       "      <td>business</td>\n",
       "      <td>ideas come from  small set  people around   ra...</td>\n",
       "    </tr>\n",
       "    <tr>\n",
       "      <th>4</th>\n",
       "      <td>I want a 'New India' where Bajaj can speak fea...</td>\n",
       "      <td>business</td>\n",
       "      <td>want   new india  where bajaj can speak fearle...</td>\n",
       "    </tr>\n",
       "  </tbody>\n",
       "</table>\n",
       "</div>"
      ],
      "text/plain": [
       "                                               title  category  \\\n",
       "0  I'll take it on the chin: Cave explorer after ...  business   \n",
       "1  My faith in humanity is restored: Musk after w...  business   \n",
       "2  FIR filed against Club Factory in Lucknow for ...  business   \n",
       "3  Ideas come from a small set of people around P...  business   \n",
       "4  I want a 'New India' where Bajaj can speak fea...  business   \n",
       "\n",
       "                                          normalized  \n",
       "0  take   the chin  cave explorer after losing ca...  \n",
       "1  faith  humanity  restored  musk after winning ...  \n",
       "2  fir filed against club factory  lucknow for se...  \n",
       "3  ideas come from  small set  people around   ra...  \n",
       "4  want   new india  where bajaj can speak fearle...  "
      ]
     },
     "execution_count": 11,
     "metadata": {},
     "output_type": "execute_result"
    }
   ],
   "source": [
    "df.head()"
   ]
  },
  {
   "cell_type": "markdown",
   "metadata": {},
   "source": [
    "### Stem"
   ]
  },
  {
   "cell_type": "code",
   "execution_count": 12,
   "metadata": {},
   "outputs": [
    {
     "name": "stdout",
     "output_type": "stream",
     "text": [
      "take the chin cave explorer after losing case against elon musk\n"
     ]
    }
   ],
   "source": [
    "print(string)\n",
    "\n",
    "ps = nltk.porter.PorterStemmer()\n",
    "stems = [ps.stem(word) for word in string.split()]\n",
    "stem_string = ' '.join(stems)"
   ]
  },
  {
   "cell_type": "code",
   "execution_count": 13,
   "metadata": {},
   "outputs": [],
   "source": [
    "def stem(string):\n",
    "    ps = nltk.porter.PorterStemmer()\n",
    "    stems = [ps.stem(word) for word in string.split()]\n",
    "    string_of_stems = ' '.join(stems)\n",
    "    return string_of_stems"
   ]
  },
  {
   "cell_type": "markdown",
   "metadata": {},
   "source": [
    "### Lemmatize"
   ]
  },
  {
   "cell_type": "code",
   "execution_count": 14,
   "metadata": {},
   "outputs": [
    {
     "name": "stdout",
     "output_type": "stream",
     "text": [
      "take the chin cave explorer after losing case against elon musk\n",
      "take the chin cave explorer after losing case against elon musk\n",
      "take the chin cave explor after lose case against elon musk\n"
     ]
    }
   ],
   "source": [
    "print(string)\n",
    "wnl = nltk.stem.WordNetLemmatizer()\n",
    "lemmas = [wnl.lemmatize(word) for word in string.split()]\n",
    "lemma_string = ' '.join(lemmas)\n",
    "print(lemma_string)\n",
    "print(stem_string)"
   ]
  },
  {
   "cell_type": "code",
   "execution_count": 15,
   "metadata": {},
   "outputs": [],
   "source": [
    "def lemmatize(string):\n",
    "    wnl = nltk.stem.WordNetLemmatizer()\n",
    "    lemmas = [wnl.lemmatize(word) for word in string.split()]\n",
    "    string_of_lemmas = ' '.join(lemmas)\n",
    "    return string_of_lemmas"
   ]
  },
  {
   "cell_type": "markdown",
   "metadata": {},
   "source": [
    "### Tokenize"
   ]
  },
  {
   "cell_type": "code",
   "execution_count": 16,
   "metadata": {},
   "outputs": [
    {
     "name": "stdout",
     "output_type": "stream",
     "text": [
      "take the chin cave explorer after losing case against elon musk\n"
     ]
    }
   ],
   "source": [
    "print(string)\n",
    "tokenizer = nltk.tokenize.ToktokTokenizer()\n",
    "tokenized_string = tokenizer.tokenize(string, return_str=True)"
   ]
  },
  {
   "cell_type": "code",
   "execution_count": 17,
   "metadata": {},
   "outputs": [],
   "source": [
    "def tokenize(string):\n",
    "    tokenizer = nltk.tokenize.ToktokTokenizer()\n",
    "    return tokenizer.tokenize(string, return_str=True)"
   ]
  },
  {
   "cell_type": "markdown",
   "metadata": {},
   "source": [
    "### Remove Stopwords"
   ]
  },
  {
   "cell_type": "code",
   "execution_count": 18,
   "metadata": {},
   "outputs": [
    {
     "name": "stdout",
     "output_type": "stream",
     "text": [
      "['take', 'the', 'chin', 'cave', 'explorer', 'after', 'losing', 'case', 'against', 'elon', 'musk']\n"
     ]
    },
    {
     "data": {
      "text/plain": [
       "'take chin cave explorer losing case elon musk'"
      ]
     },
     "execution_count": 18,
     "metadata": {},
     "output_type": "execute_result"
    }
   ],
   "source": [
    "words = tokenized_string.split()\n",
    "print(words)\n",
    "stopwords_list = stopwords.words('english')\n",
    "exclude_words = ['me']\n",
    "stopwords_list = set(stopwords_list) - set(exclude_words)\n",
    "include_words = ['Dom']\n",
    "stopwords_list = stopwords_list.union(set(include_words))\n",
    "filtered_words = [w for w in words if w not in stopwords_list]\n",
    "filtered_words = ' '.join(filtered_words)\n",
    "filtered_words"
   ]
  },
  {
   "cell_type": "code",
   "execution_count": 19,
   "metadata": {},
   "outputs": [],
   "source": [
    "def remove_stopwords(tokenized_string, extra_words=[], exclude_words=[]):\n",
    "    words = tokenized_string.split()\n",
    "    stopword_list = stopwords.words('english')\n",
    "\n",
    "    # remove the excluded words from the stopword list\n",
    "    stopword_list = set(stopword_list) - set(exclude_words)\n",
    "\n",
    "    # add in the user specified extra words\n",
    "    stopword_list = stopword_list.union(set(extra_words))\n",
    "\n",
    "    filtered_words = [w for w in words if w not in stopword_list]\n",
    "    final_string = \" \".join(filtered_words)\n",
    "    return final_string"
   ]
  },
  {
   "cell_type": "markdown",
   "metadata": {},
   "source": [
    "### Prep Summary"
   ]
  },
  {
   "cell_type": "code",
   "execution_count": 20,
   "metadata": {},
   "outputs": [
    {
     "data": {
      "text/html": [
       "<div>\n",
       "<style scoped>\n",
       "    .dataframe tbody tr th:only-of-type {\n",
       "        vertical-align: middle;\n",
       "    }\n",
       "\n",
       "    .dataframe tbody tr th {\n",
       "        vertical-align: top;\n",
       "    }\n",
       "\n",
       "    .dataframe thead th {\n",
       "        text-align: right;\n",
       "    }\n",
       "</style>\n",
       "<table border=\"1\" class=\"dataframe\">\n",
       "  <thead>\n",
       "    <tr style=\"text-align: right;\">\n",
       "      <th></th>\n",
       "      <th>title</th>\n",
       "      <th>category</th>\n",
       "    </tr>\n",
       "  </thead>\n",
       "  <tbody>\n",
       "    <tr>\n",
       "      <th>0</th>\n",
       "      <td>I'll take it on the chin: Cave explorer after ...</td>\n",
       "      <td>business</td>\n",
       "    </tr>\n",
       "    <tr>\n",
       "      <th>1</th>\n",
       "      <td>My faith in humanity is restored: Musk after w...</td>\n",
       "      <td>business</td>\n",
       "    </tr>\n",
       "    <tr>\n",
       "      <th>2</th>\n",
       "      <td>FIR filed against Club Factory in Lucknow for ...</td>\n",
       "      <td>business</td>\n",
       "    </tr>\n",
       "    <tr>\n",
       "      <th>3</th>\n",
       "      <td>Ideas come from a small set of people around P...</td>\n",
       "      <td>business</td>\n",
       "    </tr>\n",
       "    <tr>\n",
       "      <th>4</th>\n",
       "      <td>I want a 'New India' where Bajaj can speak fea...</td>\n",
       "      <td>business</td>\n",
       "    </tr>\n",
       "  </tbody>\n",
       "</table>\n",
       "</div>"
      ],
      "text/plain": [
       "                                               title  category\n",
       "0  I'll take it on the chin: Cave explorer after ...  business\n",
       "1  My faith in humanity is restored: Musk after w...  business\n",
       "2  FIR filed against Club Factory in Lucknow for ...  business\n",
       "3  Ideas come from a small set of people around P...  business\n",
       "4  I want a 'New India' where Bajaj can speak fea...  business"
      ]
     },
     "execution_count": 20,
     "metadata": {},
     "output_type": "execute_result"
    }
   ],
   "source": [
    "df = original_df[['title','category']]\n",
    "df.head()"
   ]
  },
  {
   "cell_type": "code",
   "execution_count": 21,
   "metadata": {},
   "outputs": [
    {
     "data": {
      "text/html": [
       "<div>\n",
       "<style scoped>\n",
       "    .dataframe tbody tr th:only-of-type {\n",
       "        vertical-align: middle;\n",
       "    }\n",
       "\n",
       "    .dataframe tbody tr th {\n",
       "        vertical-align: top;\n",
       "    }\n",
       "\n",
       "    .dataframe thead th {\n",
       "        text-align: right;\n",
       "    }\n",
       "</style>\n",
       "<table border=\"1\" class=\"dataframe\">\n",
       "  <thead>\n",
       "    <tr style=\"text-align: right;\">\n",
       "      <th></th>\n",
       "      <th>title</th>\n",
       "      <th>category</th>\n",
       "      <th>original</th>\n",
       "      <th>normalized</th>\n",
       "      <th>stemmed</th>\n",
       "      <th>lemmatized</th>\n",
       "      <th>cleaned</th>\n",
       "    </tr>\n",
       "  </thead>\n",
       "  <tbody>\n",
       "    <tr>\n",
       "      <th>0</th>\n",
       "      <td>I'll take it on the chin: Cave explorer after ...</td>\n",
       "      <td>business</td>\n",
       "      <td>I'll take it on the chin: Cave explorer after ...</td>\n",
       "      <td>take   the chin  cave explorer after losing ca...</td>\n",
       "      <td>take the chin cave explor after lose case agai...</td>\n",
       "      <td>take the chin cave explorer after losing case ...</td>\n",
       "      <td>take chin cave explor lose case elon musk</td>\n",
       "    </tr>\n",
       "    <tr>\n",
       "      <th>1</th>\n",
       "      <td>My faith in humanity is restored: Musk after w...</td>\n",
       "      <td>business</td>\n",
       "      <td>My faith in humanity is restored: Musk after w...</td>\n",
       "      <td>faith  humanity  restored  musk after winning ...</td>\n",
       "      <td>faith human restor musk after win defam case</td>\n",
       "      <td>faith humanity restored musk after winning def...</td>\n",
       "      <td>faith human restor musk win defam case</td>\n",
       "    </tr>\n",
       "    <tr>\n",
       "      <th>2</th>\n",
       "      <td>FIR filed against Club Factory in Lucknow for ...</td>\n",
       "      <td>business</td>\n",
       "      <td>FIR filed against Club Factory in Lucknow for ...</td>\n",
       "      <td>fir filed against club factory  lucknow for se...</td>\n",
       "      <td>fir file against club factori lucknow for sell...</td>\n",
       "      <td>fir filed against club factory lucknow for sel...</td>\n",
       "      <td>fir file club factori lucknow sell fake item</td>\n",
       "    </tr>\n",
       "    <tr>\n",
       "      <th>3</th>\n",
       "      <td>Ideas come from a small set of people around P...</td>\n",
       "      <td>business</td>\n",
       "      <td>Ideas come from a small set of people around P...</td>\n",
       "      <td>ideas come from  small set  people around   ra...</td>\n",
       "      <td>idea come from small set peopl around rajan ec...</td>\n",
       "      <td>idea come from small set people around rajan e...</td>\n",
       "      <td>idea come small set peopl around rajan econom ...</td>\n",
       "    </tr>\n",
       "    <tr>\n",
       "      <th>4</th>\n",
       "      <td>I want a 'New India' where Bajaj can speak fea...</td>\n",
       "      <td>business</td>\n",
       "      <td>I want a 'New India' where Bajaj can speak fea...</td>\n",
       "      <td>want   new india  where bajaj can speak fearle...</td>\n",
       "      <td>want new india where bajaj can speak fearlessl...</td>\n",
       "      <td>want new india where bajaj can speak fearlessl...</td>\n",
       "      <td>want new india bajaj speak fearlessli govt tha...</td>\n",
       "    </tr>\n",
       "  </tbody>\n",
       "</table>\n",
       "</div>"
      ],
      "text/plain": [
       "                                               title  category  \\\n",
       "0  I'll take it on the chin: Cave explorer after ...  business   \n",
       "1  My faith in humanity is restored: Musk after w...  business   \n",
       "2  FIR filed against Club Factory in Lucknow for ...  business   \n",
       "3  Ideas come from a small set of people around P...  business   \n",
       "4  I want a 'New India' where Bajaj can speak fea...  business   \n",
       "\n",
       "                                            original  \\\n",
       "0  I'll take it on the chin: Cave explorer after ...   \n",
       "1  My faith in humanity is restored: Musk after w...   \n",
       "2  FIR filed against Club Factory in Lucknow for ...   \n",
       "3  Ideas come from a small set of people around P...   \n",
       "4  I want a 'New India' where Bajaj can speak fea...   \n",
       "\n",
       "                                          normalized  \\\n",
       "0  take   the chin  cave explorer after losing ca...   \n",
       "1  faith  humanity  restored  musk after winning ...   \n",
       "2  fir filed against club factory  lucknow for se...   \n",
       "3  ideas come from  small set  people around   ra...   \n",
       "4  want   new india  where bajaj can speak fearle...   \n",
       "\n",
       "                                             stemmed  \\\n",
       "0  take the chin cave explor after lose case agai...   \n",
       "1       faith human restor musk after win defam case   \n",
       "2  fir file against club factori lucknow for sell...   \n",
       "3  idea come from small set peopl around rajan ec...   \n",
       "4  want new india where bajaj can speak fearlessl...   \n",
       "\n",
       "                                          lemmatized  \\\n",
       "0  take the chin cave explorer after losing case ...   \n",
       "1  faith humanity restored musk after winning def...   \n",
       "2  fir filed against club factory lucknow for sel...   \n",
       "3  idea come from small set people around rajan e...   \n",
       "4  want new india where bajaj can speak fearlessl...   \n",
       "\n",
       "                                             cleaned  \n",
       "0          take chin cave explor lose case elon musk  \n",
       "1             faith human restor musk win defam case  \n",
       "2       fir file club factori lucknow sell fake item  \n",
       "3  idea come small set peopl around rajan econom ...  \n",
       "4  want new india bajaj speak fearlessli govt tha...  "
      ]
     },
     "execution_count": 21,
     "metadata": {},
     "output_type": "execute_result"
    }
   ],
   "source": [
    "df = original_df[['title','category']]\n",
    "df = df.assign(original = df.title)\n",
    "\n",
    "df = df.assign(normalized = df.original.apply(normalize))\n",
    "\n",
    "df = df.assign(stemmed = df.normalized.apply(stem))\n",
    "df = df.assign(lemmatized = df.normalized.apply(lemmatize))\n",
    "\n",
    "df = df.assign(cleaned = df.stemmed.apply(remove_stopwords))\n",
    "df.head()"
   ]
  },
  {
   "cell_type": "code",
   "execution_count": 22,
   "metadata": {},
   "outputs": [],
   "source": [
    "def prep_articles(df):\n",
    "    df = df.assign(original = df.title)\n",
    "    df = df.assign(normalized = df.original.apply(normalize))\n",
    "    df = df.assign(stemmed = df.normalized.apply(stem))\n",
    "    df = df.assign(lemmatized = df.normalized.apply(lemmatize))\n",
    "    df = df.assign(cleaned = df.stemmed.apply(remove_stopwords))\n",
    "    df.drop(columns=[\"title\"], inplace=True)\n",
    "    return df"
   ]
  },
  {
   "cell_type": "markdown",
   "metadata": {},
   "source": [
    "### Wrangle Summary (Acquire + Prep)\n",
    "\n",
    "1. acquire data via web scraping  \n",
    "2. select the column of text to be used as features and the target variable  \n",
    "3. prepare the text  \n",
    "    - normalize the text  \n",
    "    - lemmatize the normalized text  \n",
    "    - remove stopwords from the lemmatized text  \n",
    "    "
   ]
  },
  {
   "cell_type": "code",
   "execution_count": 23,
   "metadata": {},
   "outputs": [],
   "source": [
    "def prep_news_articles(text, target):\n",
    "    df = acquire.get_news_articles()\n",
    "    df = df[[text, target]]\n",
    "    df = prep_articles(df)\n",
    "    return df"
   ]
  },
  {
   "cell_type": "code",
   "execution_count": 24,
   "metadata": {},
   "outputs": [],
   "source": [
    "df = prep_news_articles('title','category')"
   ]
  },
  {
   "cell_type": "code",
   "execution_count": 25,
   "metadata": {},
   "outputs": [
    {
     "data": {
      "text/html": [
       "<div>\n",
       "<style scoped>\n",
       "    .dataframe tbody tr th:only-of-type {\n",
       "        vertical-align: middle;\n",
       "    }\n",
       "\n",
       "    .dataframe tbody tr th {\n",
       "        vertical-align: top;\n",
       "    }\n",
       "\n",
       "    .dataframe thead th {\n",
       "        text-align: right;\n",
       "    }\n",
       "</style>\n",
       "<table border=\"1\" class=\"dataframe\">\n",
       "  <thead>\n",
       "    <tr style=\"text-align: right;\">\n",
       "      <th></th>\n",
       "      <th>category</th>\n",
       "      <th>cleaned</th>\n",
       "    </tr>\n",
       "  </thead>\n",
       "  <tbody>\n",
       "    <tr>\n",
       "      <th>0</th>\n",
       "      <td>business</td>\n",
       "      <td>take chin cave explor lose case elon musk</td>\n",
       "    </tr>\n",
       "    <tr>\n",
       "      <th>1</th>\n",
       "      <td>business</td>\n",
       "      <td>faith human restor musk win defam case</td>\n",
       "    </tr>\n",
       "    <tr>\n",
       "      <th>2</th>\n",
       "      <td>business</td>\n",
       "      <td>fir file club factori lucknow sell fake item</td>\n",
       "    </tr>\n",
       "    <tr>\n",
       "      <th>3</th>\n",
       "      <td>business</td>\n",
       "      <td>idea come small set peopl around rajan econom ...</td>\n",
       "    </tr>\n",
       "    <tr>\n",
       "      <th>4</th>\n",
       "      <td>business</td>\n",
       "      <td>want new india bajaj speak fearlessli govt tha...</td>\n",
       "    </tr>\n",
       "  </tbody>\n",
       "</table>\n",
       "</div>"
      ],
      "text/plain": [
       "   category                                            cleaned\n",
       "0  business          take chin cave explor lose case elon musk\n",
       "1  business             faith human restor musk win defam case\n",
       "2  business       fir file club factori lucknow sell fake item\n",
       "3  business  idea come small set peopl around rajan econom ...\n",
       "4  business  want new india bajaj speak fearlessli govt tha..."
      ]
     },
     "execution_count": 25,
     "metadata": {},
     "output_type": "execute_result"
    }
   ],
   "source": [
    "df = df[['category','cleaned']]\n",
    "\n",
    "df.head()"
   ]
  },
  {
   "cell_type": "markdown",
   "metadata": {},
   "source": [
    "## Explore & Define Features\n",
    "\n",
    "We will do a very quick exploration, due to time, which will naturally blend into feature engineering.  \n",
    "\n",
    "### Category Distribution"
   ]
  },
  {
   "cell_type": "code",
   "execution_count": 26,
   "metadata": {},
   "outputs": [
    {
     "data": {
      "text/plain": [
       "entertainment    0.252525\n",
       "sports           0.252525\n",
       "technology       0.252525\n",
       "business         0.242424\n",
       "Name: category, dtype: float64"
      ]
     },
     "execution_count": 26,
     "metadata": {},
     "output_type": "execute_result"
    }
   ],
   "source": [
    "df.category.value_counts(normalize=True)"
   ]
  },
  {
   "cell_type": "code",
   "execution_count": 27,
   "metadata": {},
   "outputs": [
    {
     "data": {
      "text/html": [
       "<div>\n",
       "<style scoped>\n",
       "    .dataframe tbody tr th:only-of-type {\n",
       "        vertical-align: middle;\n",
       "    }\n",
       "\n",
       "    .dataframe tbody tr th {\n",
       "        vertical-align: top;\n",
       "    }\n",
       "\n",
       "    .dataframe thead th {\n",
       "        text-align: right;\n",
       "    }\n",
       "</style>\n",
       "<table border=\"1\" class=\"dataframe\">\n",
       "  <thead>\n",
       "    <tr style=\"text-align: right;\">\n",
       "      <th></th>\n",
       "      <th>n</th>\n",
       "      <th>percent</th>\n",
       "    </tr>\n",
       "  </thead>\n",
       "  <tbody>\n",
       "    <tr>\n",
       "      <th>entertainment</th>\n",
       "      <td>25</td>\n",
       "      <td>0.252525</td>\n",
       "    </tr>\n",
       "    <tr>\n",
       "      <th>sports</th>\n",
       "      <td>25</td>\n",
       "      <td>0.252525</td>\n",
       "    </tr>\n",
       "    <tr>\n",
       "      <th>technology</th>\n",
       "      <td>25</td>\n",
       "      <td>0.252525</td>\n",
       "    </tr>\n",
       "    <tr>\n",
       "      <th>business</th>\n",
       "      <td>24</td>\n",
       "      <td>0.242424</td>\n",
       "    </tr>\n",
       "  </tbody>\n",
       "</table>\n",
       "</div>"
      ],
      "text/plain": [
       "                n   percent\n",
       "entertainment  25  0.252525\n",
       "sports         25  0.252525\n",
       "technology     25  0.252525\n",
       "business       24  0.242424"
      ]
     },
     "execution_count": 27,
     "metadata": {},
     "output_type": "execute_result"
    }
   ],
   "source": [
    "pd.concat(\n",
    "    [df.category.value_counts(), df.category.value_counts(normalize=True)], axis=1\n",
    ").set_axis([\"n\", \"percent\"], axis=1, inplace=False)"
   ]
  },
  {
   "cell_type": "markdown",
   "metadata": {},
   "source": [
    "### Term Frequency\n",
    "\n",
    "Generally, when you hear 'Term Frequency', it is referring to the number of documents in which a word appears.  \n",
    "*When we move on to computing TF-IDF, this basic definition of Term Frequency applies*.  \n",
    "\n",
    "However, term frequency can be calculated in a number of ways, all of which reflect how frequently a word appears in a document.  \n",
    "\n",
    "- **Raw Count**: This is simply the count of the number of occurances of each word.\n",
    "- **Frequency**: The number of times each word appears divided by the total number of words.\n",
    "- **Augmented Frequency**: The frequency of each word divided by the maximum frequency. This can help prevent bias towards larger documents."
   ]
  },
  {
   "cell_type": "code",
   "execution_count": 28,
   "metadata": {},
   "outputs": [],
   "source": [
    "# raw_count = pd.Series(' '.join(df[df.category=='business']['cleaned']).split()).value_counts()"
   ]
  },
  {
   "cell_type": "code",
   "execution_count": 29,
   "metadata": {},
   "outputs": [],
   "source": [
    "raw_count = pd.Series(\" \".join(df.cleaned).split()).value_counts()"
   ]
  },
  {
   "cell_type": "code",
   "execution_count": 30,
   "metadata": {},
   "outputs": [
    {
     "data": {
      "image/png": "[encoded data removed]",
      "text/plain": [
       "<Figure size 432x288 with 1 Axes>"
      ]
     },
     "metadata": {
      "needs_background": "light"
     },
     "output_type": "display_data"
    }
   ],
   "source": [
    "raw_count.sort_values(ascending=False)[0:10].plot.barh(width=.9)\n",
    "plt.title('10 most common words')\n",
    "\n",
    "plt.show()"
   ]
  },
  {
   "cell_type": "code",
   "execution_count": 31,
   "metadata": {},
   "outputs": [
    {
     "data": {
      "text/html": [
       "<div>\n",
       "<style scoped>\n",
       "    .dataframe tbody tr th:only-of-type {\n",
       "        vertical-align: middle;\n",
       "    }\n",
       "\n",
       "    .dataframe tbody tr th {\n",
       "        vertical-align: top;\n",
       "    }\n",
       "\n",
       "    .dataframe thead th {\n",
       "        text-align: right;\n",
       "    }\n",
       "</style>\n",
       "<table border=\"1\" class=\"dataframe\">\n",
       "  <thead>\n",
       "    <tr style=\"text-align: right;\">\n",
       "      <th></th>\n",
       "      <th>raw_count</th>\n",
       "      <th>frequency</th>\n",
       "      <th>augmented_frequency</th>\n",
       "    </tr>\n",
       "  </thead>\n",
       "  <tbody>\n",
       "    <tr>\n",
       "      <th>report</th>\n",
       "      <td>9</td>\n",
       "      <td>0.011628</td>\n",
       "      <td>1.000000</td>\n",
       "    </tr>\n",
       "    <tr>\n",
       "      <th>show</th>\n",
       "      <td>7</td>\n",
       "      <td>0.009044</td>\n",
       "      <td>0.777778</td>\n",
       "    </tr>\n",
       "    <tr>\n",
       "      <th>year</th>\n",
       "      <td>7</td>\n",
       "      <td>0.009044</td>\n",
       "      <td>0.777778</td>\n",
       "    </tr>\n",
       "    <tr>\n",
       "      <th>film</th>\n",
       "      <td>6</td>\n",
       "      <td>0.007752</td>\n",
       "      <td>0.666667</td>\n",
       "    </tr>\n",
       "    <tr>\n",
       "      <th>award</th>\n",
       "      <td>5</td>\n",
       "      <td>0.006460</td>\n",
       "      <td>0.555556</td>\n",
       "    </tr>\n",
       "  </tbody>\n",
       "</table>\n",
       "</div>"
      ],
      "text/plain": [
       "        raw_count  frequency  augmented_frequency\n",
       "report          9   0.011628             1.000000\n",
       "show            7   0.009044             0.777778\n",
       "year            7   0.009044             0.777778\n",
       "film            6   0.007752             0.666667\n",
       "award           5   0.006460             0.555556"
      ]
     },
     "execution_count": 31,
     "metadata": {},
     "output_type": "execute_result"
    }
   ],
   "source": [
    "# type(raw_count)\n",
    "\n",
    "tf_df = pd.DataFrame({'raw_count': raw_count})\n",
    "\n",
    "tf_df = tf_df.assign(frequency = lambda df: df.raw_count / df.raw_count.sum())\n",
    "\n",
    "tf_df = tf_df.assign(augmented_frequency = lambda df: df.frequency / df.frequency.max())\n",
    "\n",
    "tf_df.frequency.max()\n",
    "\n",
    "tf_df.head()"
   ]
  },
  {
   "cell_type": "code",
   "execution_count": 32,
   "metadata": {},
   "outputs": [
    {
     "data": {
      "text/html": [
       "<div>\n",
       "<style scoped>\n",
       "    .dataframe tbody tr th:only-of-type {\n",
       "        vertical-align: middle;\n",
       "    }\n",
       "\n",
       "    .dataframe tbody tr th {\n",
       "        vertical-align: top;\n",
       "    }\n",
       "\n",
       "    .dataframe thead th {\n",
       "        text-align: right;\n",
       "    }\n",
       "</style>\n",
       "<table border=\"1\" class=\"dataframe\">\n",
       "  <thead>\n",
       "    <tr style=\"text-align: right;\">\n",
       "      <th></th>\n",
       "      <th>raw_count</th>\n",
       "      <th>frequency</th>\n",
       "      <th>augmented_frequency</th>\n",
       "    </tr>\n",
       "  </thead>\n",
       "  <tbody>\n",
       "    <tr>\n",
       "      <th>report</th>\n",
       "      <td>9</td>\n",
       "      <td>0.011628</td>\n",
       "      <td>1.000000</td>\n",
       "    </tr>\n",
       "    <tr>\n",
       "      <th>show</th>\n",
       "      <td>7</td>\n",
       "      <td>0.009044</td>\n",
       "      <td>0.777778</td>\n",
       "    </tr>\n",
       "    <tr>\n",
       "      <th>year</th>\n",
       "      <td>7</td>\n",
       "      <td>0.009044</td>\n",
       "      <td>0.777778</td>\n",
       "    </tr>\n",
       "    <tr>\n",
       "      <th>film</th>\n",
       "      <td>6</td>\n",
       "      <td>0.007752</td>\n",
       "      <td>0.666667</td>\n",
       "    </tr>\n",
       "    <tr>\n",
       "      <th>award</th>\n",
       "      <td>5</td>\n",
       "      <td>0.006460</td>\n",
       "      <td>0.555556</td>\n",
       "    </tr>\n",
       "    <tr>\n",
       "      <th>cricket</th>\n",
       "      <td>5</td>\n",
       "      <td>0.006460</td>\n",
       "      <td>0.555556</td>\n",
       "    </tr>\n",
       "  </tbody>\n",
       "</table>\n",
       "</div>"
      ],
      "text/plain": [
       "         raw_count  frequency  augmented_frequency\n",
       "report           9   0.011628             1.000000\n",
       "show             7   0.009044             0.777778\n",
       "year             7   0.009044             0.777778\n",
       "film             6   0.007752             0.666667\n",
       "award            5   0.006460             0.555556\n",
       "cricket          5   0.006460             0.555556"
      ]
     },
     "execution_count": 32,
     "metadata": {},
     "output_type": "execute_result"
    }
   ],
   "source": [
    "tf_df = (pd.DataFrame({'raw_count': raw_count})\n",
    "         .assign(frequency=lambda df: df.raw_count / df.raw_count.sum())\n",
    "         .assign(augmented_frequency=lambda df: df.frequency / df.frequency.max()))\n",
    "\n",
    "tf_df.head(6)"
   ]
  },
  {
   "cell_type": "markdown",
   "metadata": {},
   "source": [
    "### Inverse Document Frequency (IDF)\n",
    "\n",
    "Inverse Document Frequency also provides information about individual words, but, in order to use this measure, we must have multiple documents, i.e. several different bodies of text.\n",
    "\n",
    "- provides information about individual words in a document with respect the those words' frequency across the corpus, which must include multiple documents.  \n",
    "- indicates how valuable a word is in terms of the information it provides.\n",
    "- The more frequently a word appears in the corpus, the less information it provides when found in a certain document. This will lead to a lower IDF score. \n",
    "- Lower IDF $\\rightarrow$ less important when found in a document, i.e. that word gives us less information about the document than a word with a high IDF. \n",
    "- Example: 'the' would have a *very* low IDF which indicates we learn very little about an individual document knowing that the word 'the' appears in it.  \n",
    "\n",
    "$$\n",
    "\\mbox{idf}(\\mbox{word})\n",
    "=\n",
    "\\log\\left(\\frac{\\mbox{# of documents}}{\\mbox{# of documents containing the word + 1}}\\right)\n",
    "$$\n",
    "\n",
    "Notes on IDF calculation\n",
    "\n",
    "- If a given word doesn't appear in any documents, the denominator in the equation above would be zero, so it is best to add 1 to the denominator, as indicated above.   \n",
    "- The denominator is *NOT* necessarily equivalent to Term Frequency, which is the total number of times the word appears in a corpus. When a word appears in a document more than once, these numbers will differ. \n",
    "    \n",
    "\n",
    "\n",
    "For example, imagine we have 20 documents. We can visualize what the idf score looks like with the code below:"
   ]
  },
  {
   "cell_type": "code",
   "execution_count": 33,
   "metadata": {},
   "outputs": [
    {
     "data": {
      "text/plain": [
       "Text(0.5, 1.0, 'IDF for a given word')"
      ]
     },
     "execution_count": 33,
     "metadata": {},
     "output_type": "execute_result"
    },
    {
     "data": {
      "image/png": "[encoded data removed]",
      "text/plain": [
       "<Figure size 864x576 with 1 Axes>"
      ]
     },
     "metadata": {
      "needs_background": "light"
     },
     "output_type": "display_data"
    }
   ],
   "source": [
    "n_documents = 20\n",
    "\n",
    "x_denominator = np.arange(1, n_documents + 1)\n",
    "y_idf = np.log(n_documents / x_denominator)\n",
    "\n",
    "plt.figure(figsize=(12, 8))\n",
    "plt.plot(x_denominator, y_idf, marker='.')\n",
    "\n",
    "plt.xticks(x_denominator)\n",
    "plt.xlabel('# of Documents the word appears in')\n",
    "plt.ylabel('IDF')\n",
    "plt.title('IDF for a given word')"
   ]
  },
  {
   "cell_type": "markdown",
   "metadata": {},
   "source": [
    "Compute IDF for the titles of the news ariticles. We need:  \n",
    "\n",
    "- number of occurrences of the word (denominator)   \n",
    "- total number of documents (numerator) \n",
    "\n",
    "First, let's compute IDF for a single word to see how it's done.  "
   ]
  },
  {
   "cell_type": "code",
   "execution_count": 34,
   "metadata": {},
   "outputs": [
    {
     "name": "stdout",
     "output_type": "stream",
     "text": [
      "word: india\n",
      "# of occurrences:  5\n",
      "# of documents:  99\n",
      "idf =  2.803360380906535\n"
     ]
    }
   ],
   "source": [
    "print(\"word: india\")\n",
    "denom = sum([1 for doc in df.cleaned if 'india' in doc])\n",
    "print(\"# of occurrences: \", denom)\n",
    "num = len(df.cleaned)\n",
    "print(\"# of documents: \", num)\n",
    "idf = np.log(num/(denom+1))\n",
    "print(\"idf = \", idf)"
   ]
  },
  {
   "cell_type": "markdown",
   "metadata": {},
   "source": [
    "Write the IDF function"
   ]
  },
  {
   "cell_type": "code",
   "execution_count": 35,
   "metadata": {},
   "outputs": [],
   "source": [
    "def idf(word):\n",
    "    n_occurrences = sum([1 for doc in df.cleaned if word in doc])\n",
    "    n_docs = len(df.cleaned)\n",
    "    idf = np.log(n_docs/n_occurrences)\n",
    "    return idf"
   ]
  },
  {
   "cell_type": "markdown",
   "metadata": {},
   "source": [
    "Now, we need to do it for all words in our corpus. To do that, we need:  \n",
    "\n",
    "- list of unique words  \n",
    "- assign words to a dataframe  \n",
    "- calculate the idf for each word  "
   ]
  },
  {
   "cell_type": "markdown",
   "metadata": {},
   "source": [
    "#### Unique Words\n",
    "\n",
    "- join all docs together into corpus as single document\n",
    "- split corpus into single words & convert to list of words\n",
    "- keep only a single, unique value for each word. (dedup)\n"
   ]
  },
  {
   "cell_type": "code",
   "execution_count": 36,
   "metadata": {},
   "outputs": [
    {
     "data": {
      "text/plain": [
       "numpy.ndarray"
      ]
     },
     "execution_count": 36,
     "metadata": {},
     "output_type": "execute_result"
    }
   ],
   "source": [
    "part1 = ' '.join(df.cleaned)\n",
    "part2 = part1.split()\n",
    "part3 = pd.Series(part2)\n",
    "# print(part3.value_counts())\n",
    "\n",
    "part4 = part3.unique()\n",
    "type(part4)\n",
    "# confirm that those words that existed multiple times, are now only represented once in the unique_words list. \n",
    "# print(pd.Series(part4).value_counts())"
   ]
  },
  {
   "cell_type": "code",
   "execution_count": 37,
   "metadata": {},
   "outputs": [],
   "source": [
    "unique_words = pd.Series(' '.join(df.cleaned).split()).unique()"
   ]
  },
  {
   "cell_type": "markdown",
   "metadata": {},
   "source": [
    "- add to a dataframe\n",
    "- apply idf() to compute IDF for each unique word\n",
    "- sort idf_df for quick peeks into the results"
   ]
  },
  {
   "cell_type": "code",
   "execution_count": 38,
   "metadata": {},
   "outputs": [
    {
     "data": {
      "text/html": [
       "<div>\n",
       "<style scoped>\n",
       "    .dataframe tbody tr th:only-of-type {\n",
       "        vertical-align: middle;\n",
       "    }\n",
       "\n",
       "    .dataframe tbody tr th {\n",
       "        vertical-align: top;\n",
       "    }\n",
       "\n",
       "    .dataframe thead th {\n",
       "        text-align: right;\n",
       "    }\n",
       "</style>\n",
       "<table border=\"1\" class=\"dataframe\">\n",
       "  <thead>\n",
       "    <tr style=\"text-align: right;\">\n",
       "      <th></th>\n",
       "      <th>idf</th>\n",
       "    </tr>\n",
       "    <tr>\n",
       "      <th>word</th>\n",
       "      <th></th>\n",
       "    </tr>\n",
       "  </thead>\n",
       "  <tbody>\n",
       "    <tr>\n",
       "      <th>dedic</th>\n",
       "      <td>4.59512</td>\n",
       "    </tr>\n",
       "    <tr>\n",
       "      <th>line</th>\n",
       "      <td>4.59512</td>\n",
       "    </tr>\n",
       "    <tr>\n",
       "      <th>joshua</th>\n",
       "      <td>4.59512</td>\n",
       "    </tr>\n",
       "    <tr>\n",
       "      <th>headach</th>\n",
       "      <td>4.59512</td>\n",
       "    </tr>\n",
       "    <tr>\n",
       "      <th>facil</th>\n",
       "      <td>4.59512</td>\n",
       "    </tr>\n",
       "  </tbody>\n",
       "</table>\n",
       "</div>"
      ],
      "text/plain": [
       "             idf\n",
       "word            \n",
       "dedic    4.59512\n",
       "line     4.59512\n",
       "joshua   4.59512\n",
       "headach  4.59512\n",
       "facil    4.59512"
      ]
     },
     "execution_count": 38,
     "metadata": {},
     "output_type": "execute_result"
    }
   ],
   "source": [
    "word_df = pd.DataFrame(dict(word = unique_words))\n",
    "word_df.head()\n",
    "\n",
    "word_df = word_df.assign(idf = lambda df: df.word.apply(idf))\n",
    "\n",
    "word_df.set_index('word').sort_values(by='idf', ascending = False).head(5)"
   ]
  },
  {
   "cell_type": "code",
   "execution_count": 39,
   "metadata": {},
   "outputs": [
    {
     "data": {
      "text/html": [
       "<div>\n",
       "<style scoped>\n",
       "    .dataframe tbody tr th:only-of-type {\n",
       "        vertical-align: middle;\n",
       "    }\n",
       "\n",
       "    .dataframe tbody tr th {\n",
       "        vertical-align: top;\n",
       "    }\n",
       "\n",
       "    .dataframe thead th {\n",
       "        text-align: right;\n",
       "    }\n",
       "</style>\n",
       "<table border=\"1\" class=\"dataframe\">\n",
       "  <thead>\n",
       "    <tr style=\"text-align: right;\">\n",
       "      <th></th>\n",
       "      <th>idf</th>\n",
       "    </tr>\n",
       "    <tr>\n",
       "      <th>word</th>\n",
       "      <th></th>\n",
       "    </tr>\n",
       "  </thead>\n",
       "  <tbody>\n",
       "    <tr>\n",
       "      <th>dedic</th>\n",
       "      <td>4.59512</td>\n",
       "    </tr>\n",
       "    <tr>\n",
       "      <th>line</th>\n",
       "      <td>4.59512</td>\n",
       "    </tr>\n",
       "    <tr>\n",
       "      <th>joshua</th>\n",
       "      <td>4.59512</td>\n",
       "    </tr>\n",
       "    <tr>\n",
       "      <th>headach</th>\n",
       "      <td>4.59512</td>\n",
       "    </tr>\n",
       "    <tr>\n",
       "      <th>facil</th>\n",
       "      <td>4.59512</td>\n",
       "    </tr>\n",
       "  </tbody>\n",
       "</table>\n",
       "</div>"
      ],
      "text/plain": [
       "             idf\n",
       "word            \n",
       "dedic    4.59512\n",
       "line     4.59512\n",
       "joshua   4.59512\n",
       "headach  4.59512\n",
       "facil    4.59512"
      ]
     },
     "execution_count": 39,
     "metadata": {},
     "output_type": "execute_result"
    }
   ],
   "source": [
    "# put in a dataframe\n",
    "idf_df = pd.DataFrame(dict(word = unique_words))\\\n",
    "    .assign(idf = lambda df: df.word.apply(idf))\\\n",
    "    .set_index('word').sort_values(by='idf', ascending = False)\n",
    "\n",
    "idf_df.head(5)"
   ]
  },
  {
   "cell_type": "markdown",
   "metadata": {},
   "source": [
    "### TF-IDF"
   ]
  },
  {
   "cell_type": "code",
   "execution_count": 40,
   "metadata": {},
   "outputs": [
    {
     "data": {
      "text/html": [
       "<div>\n",
       "<style scoped>\n",
       "    .dataframe tbody tr th:only-of-type {\n",
       "        vertical-align: middle;\n",
       "    }\n",
       "\n",
       "    .dataframe tbody tr th {\n",
       "        vertical-align: top;\n",
       "    }\n",
       "\n",
       "    .dataframe thead th {\n",
       "        text-align: right;\n",
       "    }\n",
       "</style>\n",
       "<table border=\"1\" class=\"dataframe\">\n",
       "  <thead>\n",
       "    <tr style=\"text-align: right;\">\n",
       "      <th></th>\n",
       "      <th>word</th>\n",
       "      <th>tf</th>\n",
       "      <th>doc</th>\n",
       "    </tr>\n",
       "  </thead>\n",
       "  <tbody>\n",
       "    <tr>\n",
       "      <th>0</th>\n",
       "      <td>chin</td>\n",
       "      <td>0.125</td>\n",
       "      <td>0</td>\n",
       "    </tr>\n",
       "    <tr>\n",
       "      <th>1</th>\n",
       "      <td>musk</td>\n",
       "      <td>0.125</td>\n",
       "      <td>0</td>\n",
       "    </tr>\n",
       "    <tr>\n",
       "      <th>2</th>\n",
       "      <td>cave</td>\n",
       "      <td>0.125</td>\n",
       "      <td>0</td>\n",
       "    </tr>\n",
       "    <tr>\n",
       "      <th>3</th>\n",
       "      <td>explor</td>\n",
       "      <td>0.125</td>\n",
       "      <td>0</td>\n",
       "    </tr>\n",
       "    <tr>\n",
       "      <th>4</th>\n",
       "      <td>case</td>\n",
       "      <td>0.125</td>\n",
       "      <td>0</td>\n",
       "    </tr>\n",
       "    <tr>\n",
       "      <th>5</th>\n",
       "      <td>lose</td>\n",
       "      <td>0.125</td>\n",
       "      <td>0</td>\n",
       "    </tr>\n",
       "    <tr>\n",
       "      <th>6</th>\n",
       "      <td>elon</td>\n",
       "      <td>0.125</td>\n",
       "      <td>0</td>\n",
       "    </tr>\n",
       "    <tr>\n",
       "      <th>7</th>\n",
       "      <td>take</td>\n",
       "      <td>0.125</td>\n",
       "      <td>0</td>\n",
       "    </tr>\n",
       "  </tbody>\n",
       "</table>\n",
       "</div>"
      ],
      "text/plain": [
       "     word     tf  doc\n",
       "0    chin  0.125    0\n",
       "1    musk  0.125    0\n",
       "2    cave  0.125    0\n",
       "3  explor  0.125    0\n",
       "4    case  0.125    0\n",
       "5    lose  0.125    0\n",
       "6    elon  0.125    0\n",
       "7    take  0.125    0"
      ]
     },
     "execution_count": 40,
     "metadata": {},
     "output_type": "execute_result"
    }
   ],
   "source": [
    "documents = df.cleaned.to_dict()\n",
    "# documents\n",
    "\n",
    "text = df.cleaned[0]\n",
    "\n",
    "pd.Series(text.split()).value_counts()\\\n",
    "    .reset_index()\\\n",
    "    .set_axis(['word','raw_count'], axis=1, inplace=False)\\\n",
    "    .assign(tf = lambda df: df.raw_count / df.shape[0])\\\n",
    "    .drop(columns=['raw_count'])\\\n",
    "    .assign(doc=0)"
   ]
  },
  {
   "cell_type": "code",
   "execution_count": 41,
   "metadata": {},
   "outputs": [],
   "source": [
    "# We'll caclulate the tf-idf value for every word across every document\n",
    "tfs = []\n",
    "\n",
    "# Start by iterating over all the documents\n",
    "for doc, text in documents.items():\n",
    "    # We'll make a data frame that contains the tf for every word in every document\n",
    "    tf_df = (pd.Series(text.split())\n",
    "          .value_counts()\n",
    "          .reset_index()\n",
    "          .set_axis(['word', 'raw_count'], axis=1, inplace=False)\n",
    "          .assign(tf=lambda df: df.raw_count / df.shape[0])\n",
    "          .drop(columns='raw_count')\n",
    "          .assign(doc=doc))\n",
    "    # Then add that data frame to our list\n",
    "    tfs.append(tf_df)"
   ]
  },
  {
   "cell_type": "code",
   "execution_count": 42,
   "metadata": {},
   "outputs": [
    {
     "data": {
      "text/plain": [
       "[     word     tf  doc\n",
       " 0    chin  0.125    0\n",
       " 1    musk  0.125    0\n",
       " 2    cave  0.125    0\n",
       " 3  explor  0.125    0\n",
       " 4    case  0.125    0\n",
       " 5    lose  0.125    0\n",
       " 6    elon  0.125    0\n",
       " 7    take  0.125    0,      word        tf  doc\n",
       " 0    musk  0.142857    1\n",
       " 1   human  0.142857    1\n",
       " 2  restor  0.142857    1\n",
       " 3    case  0.142857    1\n",
       " 4   defam  0.142857    1\n",
       " 5   faith  0.142857    1\n",
       " 6     win  0.142857    1]"
      ]
     },
     "execution_count": 42,
     "metadata": {},
     "output_type": "execute_result"
    }
   ],
   "source": [
    "tfs[0:2]"
   ]
  },
  {
   "cell_type": "code",
   "execution_count": 43,
   "metadata": {},
   "outputs": [],
   "source": [
    "tfidf_df = pd.concat(tfs)\\\n",
    "            .assign(idf = lambda tf_df: tf_df.word.apply(idf))\\\n",
    "            .assign(tf_idf = lambda tf_df: tf_df.idf * tf_df.tf)\\\n",
    "            .drop(columns=['tf', 'idf'])\\\n",
    "            .sort_values(by='tf_idf', ascending=False)"
   ]
  },
  {
   "cell_type": "code",
   "execution_count": 44,
   "metadata": {},
   "outputs": [
    {
     "data": {
      "text/html": [
       "<div>\n",
       "<style scoped>\n",
       "    .dataframe tbody tr th:only-of-type {\n",
       "        vertical-align: middle;\n",
       "    }\n",
       "\n",
       "    .dataframe tbody tr th {\n",
       "        vertical-align: top;\n",
       "    }\n",
       "\n",
       "    .dataframe thead th {\n",
       "        text-align: right;\n",
       "    }\n",
       "</style>\n",
       "<table border=\"1\" class=\"dataframe\">\n",
       "  <thead>\n",
       "    <tr style=\"text-align: right;\">\n",
       "      <th></th>\n",
       "      <th>word</th>\n",
       "      <th>doc</th>\n",
       "      <th>tf_idf</th>\n",
       "    </tr>\n",
       "  </thead>\n",
       "  <tbody>\n",
       "    <tr>\n",
       "      <th>0</th>\n",
       "      <td>call</td>\n",
       "      <td>54</td>\n",
       "      <td>1.312891</td>\n",
       "    </tr>\n",
       "    <tr>\n",
       "      <th>0</th>\n",
       "      <td>airport</td>\n",
       "      <td>5</td>\n",
       "      <td>1.312891</td>\n",
       "    </tr>\n",
       "    <tr>\n",
       "      <th>0</th>\n",
       "      <td>iphon</td>\n",
       "      <td>58</td>\n",
       "      <td>1.300658</td>\n",
       "    </tr>\n",
       "    <tr>\n",
       "      <th>0</th>\n",
       "      <td>walsh</td>\n",
       "      <td>30</td>\n",
       "      <td>1.148780</td>\n",
       "    </tr>\n",
       "    <tr>\n",
       "      <th>0</th>\n",
       "      <td>miss</td>\n",
       "      <td>77</td>\n",
       "      <td>1.114849</td>\n",
       "    </tr>\n",
       "  </tbody>\n",
       "</table>\n",
       "</div>"
      ],
      "text/plain": [
       "      word  doc    tf_idf\n",
       "0     call   54  1.312891\n",
       "0  airport    5  1.312891\n",
       "0    iphon   58  1.300658\n",
       "0    walsh   30  1.148780\n",
       "0     miss   77  1.114849"
      ]
     },
     "execution_count": 44,
     "metadata": {},
     "output_type": "execute_result"
    }
   ],
   "source": [
    "tfidf_df.head()"
   ]
  },
  {
   "cell_type": "markdown",
   "metadata": {},
   "source": [
    "### TF-IDF with Scikit-Learn"
   ]
  },
  {
   "cell_type": "code",
   "execution_count": 45,
   "metadata": {},
   "outputs": [],
   "source": [
    "from sklearn.feature_extraction.text import TfidfVectorizer\n",
    "\n",
    "tfidf = TfidfVectorizer()\n",
    "tfidfs = tfidf.fit_transform(documents.values())"
   ]
  },
  {
   "cell_type": "markdown",
   "metadata": {},
   "source": [
    "This returns a sparse matrix:  \n",
    "- a matrix with more 0s than anything else. \n",
    "- Numpy has a special type that makes some manipulations and operations faster on sparse matrices.\n",
    "\n",
    "Becuase our data set is pretty small, we can convert our sparse matrix to a regular one, aka 'dense matrix', and put everything in a dataframe. If our data were larger, the operation below might take much longer."
   ]
  },
  {
   "cell_type": "code",
   "execution_count": 46,
   "metadata": {},
   "outputs": [
    {
     "data": {
      "text/html": [
       "<div>\n",
       "<style scoped>\n",
       "    .dataframe tbody tr th:only-of-type {\n",
       "        vertical-align: middle;\n",
       "    }\n",
       "\n",
       "    .dataframe tbody tr th {\n",
       "        vertical-align: top;\n",
       "    }\n",
       "\n",
       "    .dataframe thead th {\n",
       "        text-align: right;\n",
       "    }\n",
       "</style>\n",
       "<table border=\"1\" class=\"dataframe\">\n",
       "  <thead>\n",
       "    <tr style=\"text-align: right;\">\n",
       "      <th></th>\n",
       "      <th>aaryan</th>\n",
       "      <th>ab</th>\n",
       "      <th>abl</th>\n",
       "      <th>account</th>\n",
       "      <th>across</th>\n",
       "      <th>actor</th>\n",
       "      <th>actress</th>\n",
       "      <th>adventur</th>\n",
       "      <th>age</th>\n",
       "      <th>agre</th>\n",
       "      <th>...</th>\n",
       "      <th>whatsapp</th>\n",
       "      <th>win</th>\n",
       "      <th>without</th>\n",
       "      <th>worth</th>\n",
       "      <th>wrongli</th>\n",
       "      <th>ye</th>\n",
       "      <th>year</th>\n",
       "      <th>zero</th>\n",
       "      <th>zilingo</th>\n",
       "      <th>zurich</th>\n",
       "    </tr>\n",
       "  </thead>\n",
       "  <tbody>\n",
       "    <tr>\n",
       "      <th>0</th>\n",
       "      <td>0.0</td>\n",
       "      <td>0.0</td>\n",
       "      <td>0.0</td>\n",
       "      <td>0.0</td>\n",
       "      <td>0.0</td>\n",
       "      <td>0.0</td>\n",
       "      <td>0.0</td>\n",
       "      <td>0.0</td>\n",
       "      <td>0.0</td>\n",
       "      <td>0.0</td>\n",
       "      <td>...</td>\n",
       "      <td>0.0</td>\n",
       "      <td>0.00000</td>\n",
       "      <td>0.0</td>\n",
       "      <td>0.0</td>\n",
       "      <td>0.0</td>\n",
       "      <td>0.0</td>\n",
       "      <td>0.0</td>\n",
       "      <td>0.0</td>\n",
       "      <td>0.0</td>\n",
       "      <td>0.0</td>\n",
       "    </tr>\n",
       "    <tr>\n",
       "      <th>1</th>\n",
       "      <td>0.0</td>\n",
       "      <td>0.0</td>\n",
       "      <td>0.0</td>\n",
       "      <td>0.0</td>\n",
       "      <td>0.0</td>\n",
       "      <td>0.0</td>\n",
       "      <td>0.0</td>\n",
       "      <td>0.0</td>\n",
       "      <td>0.0</td>\n",
       "      <td>0.0</td>\n",
       "      <td>...</td>\n",
       "      <td>0.0</td>\n",
       "      <td>0.33934</td>\n",
       "      <td>0.0</td>\n",
       "      <td>0.0</td>\n",
       "      <td>0.0</td>\n",
       "      <td>0.0</td>\n",
       "      <td>0.0</td>\n",
       "      <td>0.0</td>\n",
       "      <td>0.0</td>\n",
       "      <td>0.0</td>\n",
       "    </tr>\n",
       "    <tr>\n",
       "      <th>2</th>\n",
       "      <td>0.0</td>\n",
       "      <td>0.0</td>\n",
       "      <td>0.0</td>\n",
       "      <td>0.0</td>\n",
       "      <td>0.0</td>\n",
       "      <td>0.0</td>\n",
       "      <td>0.0</td>\n",
       "      <td>0.0</td>\n",
       "      <td>0.0</td>\n",
       "      <td>0.0</td>\n",
       "      <td>...</td>\n",
       "      <td>0.0</td>\n",
       "      <td>0.00000</td>\n",
       "      <td>0.0</td>\n",
       "      <td>0.0</td>\n",
       "      <td>0.0</td>\n",
       "      <td>0.0</td>\n",
       "      <td>0.0</td>\n",
       "      <td>0.0</td>\n",
       "      <td>0.0</td>\n",
       "      <td>0.0</td>\n",
       "    </tr>\n",
       "    <tr>\n",
       "      <th>3</th>\n",
       "      <td>0.0</td>\n",
       "      <td>0.0</td>\n",
       "      <td>0.0</td>\n",
       "      <td>0.0</td>\n",
       "      <td>0.0</td>\n",
       "      <td>0.0</td>\n",
       "      <td>0.0</td>\n",
       "      <td>0.0</td>\n",
       "      <td>0.0</td>\n",
       "      <td>0.0</td>\n",
       "      <td>...</td>\n",
       "      <td>0.0</td>\n",
       "      <td>0.00000</td>\n",
       "      <td>0.0</td>\n",
       "      <td>0.0</td>\n",
       "      <td>0.0</td>\n",
       "      <td>0.0</td>\n",
       "      <td>0.0</td>\n",
       "      <td>0.0</td>\n",
       "      <td>0.0</td>\n",
       "      <td>0.0</td>\n",
       "    </tr>\n",
       "    <tr>\n",
       "      <th>4</th>\n",
       "      <td>0.0</td>\n",
       "      <td>0.0</td>\n",
       "      <td>0.0</td>\n",
       "      <td>0.0</td>\n",
       "      <td>0.0</td>\n",
       "      <td>0.0</td>\n",
       "      <td>0.0</td>\n",
       "      <td>0.0</td>\n",
       "      <td>0.0</td>\n",
       "      <td>0.0</td>\n",
       "      <td>...</td>\n",
       "      <td>0.0</td>\n",
       "      <td>0.00000</td>\n",
       "      <td>0.0</td>\n",
       "      <td>0.0</td>\n",
       "      <td>0.0</td>\n",
       "      <td>0.0</td>\n",
       "      <td>0.0</td>\n",
       "      <td>0.0</td>\n",
       "      <td>0.0</td>\n",
       "      <td>0.0</td>\n",
       "    </tr>\n",
       "  </tbody>\n",
       "</table>\n",
       "<p>5 rows × 558 columns</p>\n",
       "</div>"
      ],
      "text/plain": [
       "   aaryan   ab  abl  account  across  actor  actress  adventur  age  agre  \\\n",
       "0     0.0  0.0  0.0      0.0     0.0    0.0      0.0       0.0  0.0   0.0   \n",
       "1     0.0  0.0  0.0      0.0     0.0    0.0      0.0       0.0  0.0   0.0   \n",
       "2     0.0  0.0  0.0      0.0     0.0    0.0      0.0       0.0  0.0   0.0   \n",
       "3     0.0  0.0  0.0      0.0     0.0    0.0      0.0       0.0  0.0   0.0   \n",
       "4     0.0  0.0  0.0      0.0     0.0    0.0      0.0       0.0  0.0   0.0   \n",
       "\n",
       "   ...  whatsapp      win  without  worth  wrongli   ye  year  zero  zilingo  \\\n",
       "0  ...       0.0  0.00000      0.0    0.0      0.0  0.0   0.0   0.0      0.0   \n",
       "1  ...       0.0  0.33934      0.0    0.0      0.0  0.0   0.0   0.0      0.0   \n",
       "2  ...       0.0  0.00000      0.0    0.0      0.0  0.0   0.0   0.0      0.0   \n",
       "3  ...       0.0  0.00000      0.0    0.0      0.0  0.0   0.0   0.0      0.0   \n",
       "4  ...       0.0  0.00000      0.0    0.0      0.0  0.0   0.0   0.0      0.0   \n",
       "\n",
       "   zurich  \n",
       "0     0.0  \n",
       "1     0.0  \n",
       "2     0.0  \n",
       "3     0.0  \n",
       "4     0.0  \n",
       "\n",
       "[5 rows x 558 columns]"
      ]
     },
     "execution_count": 46,
     "metadata": {},
     "output_type": "execute_result"
    }
   ],
   "source": [
    "features_df = pd.DataFrame(tfidfs.todense(), columns=tfidf.get_feature_names())\n",
    "features_df.head()"
   ]
  },
  {
   "cell_type": "markdown",
   "metadata": {},
   "source": [
    "## Modeling"
   ]
  },
  {
   "cell_type": "code",
   "execution_count": 47,
   "metadata": {},
   "outputs": [],
   "source": [
    "from sklearn.model_selection import train_test_split\n",
    "from sklearn.linear_model import LogisticRegression\n",
    "from sklearn.metrics import classification_report, accuracy_score\n",
    "from sklearn.tree import DecisionTreeClassifier\n",
    "\n",
    "df = pd.read_csv('./spam_clean.csv')\n",
    "df.head()\n",
    "\n",
    "tfidf = TfidfVectorizer()\n",
    "X = tfidf.fit_transform(df.text)\n",
    "y = df.label\n",
    "\n",
    "X_train, X_test, y_train, y_test = train_test_split(X, y, stratify=y, test_size=.2)\n",
    "\n",
    "train = pd.DataFrame(dict(actual=y_train))\n",
    "test = pd.DataFrame(dict(actual=y_test))\n",
    "\n",
    "dt = DecisionTreeClassifier(criterion='entropy', splitter='best',\n",
    "                           max_depth=None, min_samples_split=8,\n",
    "                           min_samples_leaf=4,\n",
    "                           random_state=123).fit(X_train, y_train)\n",
    "\n",
    "train['predicted'] = dt.predict(X_train)\n",
    "test['predicted'] = dt.predict(X_test)"
   ]
  },
  {
   "cell_type": "code",
   "execution_count": 48,
   "metadata": {},
   "outputs": [
    {
     "name": "stdout",
     "output_type": "stream",
     "text": [
      "Accuracy: 98.38%\n",
      "---\n",
      "Confusion Matrix\n",
      "actual      ham  spam\n",
      "predicted            \n",
      "ham        3835    48\n",
      "spam         24   550\n",
      "---\n",
      "              precision    recall  f1-score   support\n",
      "\n",
      "         ham       0.99      0.99      0.99      3859\n",
      "        spam       0.96      0.92      0.94       598\n",
      "\n",
      "    accuracy                           0.98      4457\n",
      "   macro avg       0.97      0.96      0.96      4457\n",
      "weighted avg       0.98      0.98      0.98      4457\n",
      "\n"
     ]
    }
   ],
   "source": [
    "print('Accuracy: {:.2%}'.format(accuracy_score(train.actual, train.predicted)))\n",
    "print('---')\n",
    "print('Confusion Matrix')\n",
    "print(pd.crosstab(train.predicted, train.actual))\n",
    "print('---')\n",
    "print(classification_report(train.actual, train.predicted))"
   ]
  },
  {
   "cell_type": "code",
   "execution_count": 50,
   "metadata": {},
   "outputs": [
    {
     "name": "stdout",
     "output_type": "stream",
     "text": [
      "Accuracy: 96.05%\n",
      "---\n",
      "Confusion Matrix\n",
      "actual     ham  spam\n",
      "predicted           \n",
      "ham        948    26\n",
      "spam        18   123\n",
      "---\n",
      "              precision    recall  f1-score   support\n",
      "\n",
      "         ham       0.97      0.98      0.98       966\n",
      "        spam       0.87      0.83      0.85       149\n",
      "\n",
      "    accuracy                           0.96      1115\n",
      "   macro avg       0.92      0.90      0.91      1115\n",
      "weighted avg       0.96      0.96      0.96      1115\n",
      "\n"
     ]
    }
   ],
   "source": [
    "print('Accuracy: {:.2%}'.format(accuracy_score(test.actual, test.predicted)))\n",
    "print('---')\n",
    "print('Confusion Matrix')\n",
    "print(pd.crosstab(test.predicted, test.actual))\n",
    "print('---')\n",
    "print(classification_report(test.actual, test.predicted))"
   ]
  },
  {
   "cell_type": "markdown",
   "metadata": {},
   "source": [
    "# Notes"
   ]
  },
  {
   "cell_type": "markdown",
   "metadata": {},
   "source": [
    "### Feature Extraction: TF-IDF\n",
    "\n",
    "TF: Term Frequency; how often a word appears in a document.\n",
    "\n",
    "\n",
    "IDF: Inverse Documnet Frequency; a measure based on in how many documents will a word appear.\n",
    "\n",
    "\n",
    "TF-IDF: A combination of the two measures above."
   ]
  },
  {
   "cell_type": "markdown",
   "metadata": {},
   "source": [
    "### Term Frequency (TF)\n",
    "\n",
    "Term frequency can be calculated in a number of ways, all of which reflect how frequently a word appears in a document.\n",
    "\n",
    "\n",
    "Raw Count: This is simply the count of the number of occurances of each word.\n",
    "Frequency: The number of times each word appears divided by the total number of words.\n",
    "\n",
    "\n",
    "Augmented Frequency: The frequency of each word divided by the maximum frequency. This can help prevent bias towards larger documents."
   ]
  },
  {
   "cell_type": "markdown",
   "metadata": {},
   "source": [
    "### Modeling\n",
    "\n",
    "Now we'll use the computed TF-IDF values as features in a model. We'll take a look at the spam data set first.\n",
    "\n",
    "\n",
    "Because of the way we are modeling the data, we have a lot of columns, and it is not uncommon to have more columns than rows. Also, our data is very imbalanced in the class distribution, that is, there are many more ham messages than spam messages.\n",
    "\n",
    "\n",
    "Other than these considerations, we can treat this as a standard classification problem. We'll use logistic regression as an example:\n",
    "\n"
   ]
  },
  {
   "cell_type": "markdown",
   "metadata": {},
   "source": [
    "# Exercises\n",
    "\n",
    "- What other types of models (i.e. different classifcation algorithms) could you use?\n",
    "\n",
    "\n",
    "- How do the models prepare when trained on term frequency data alone, instead of TF-IDF values?"
   ]
  },
  {
   "cell_type": "markdown",
   "metadata": {},
   "source": [
    "## Logistic Regression Model"
   ]
  },
  {
   "cell_type": "code",
   "execution_count": 51,
   "metadata": {},
   "outputs": [
    {
     "name": "stderr",
     "output_type": "stream",
     "text": [
      "/usr/local/anaconda3/lib/python3.7/site-packages/sklearn/linear_model/logistic.py:432: FutureWarning: Default solver will be changed to 'lbfgs' in 0.22. Specify a solver to silence this warning.\n",
      "  FutureWarning)\n"
     ]
    }
   ],
   "source": [
    "df = pd.read_csv('spam_clean.csv')\n",
    "df.head()\n",
    "\n",
    "tfidf = TfidfVectorizer()\n",
    "X = tfidf.fit_transform(df.text)\n",
    "y = df.label\n",
    "\n",
    "X_train, X_test, y_train, y_test = train_test_split(X, y, stratify=y, test_size=.2)\n",
    "\n",
    "train = pd.DataFrame(dict(actual=y_train))\n",
    "test = pd.DataFrame(dict(actual=y_test))\n",
    "\n",
    "lm = LogisticRegression().fit(X_train, y_train)\n",
    "\n",
    "train['predicted'] = lm.predict(X_train)\n",
    "test['predicted'] = lm.predict(X_test)"
   ]
  },
  {
   "cell_type": "markdown",
   "metadata": {},
   "source": [
    "## Evaluate Train Set"
   ]
  },
  {
   "cell_type": "code",
   "execution_count": 63,
   "metadata": {},
   "outputs": [
    {
     "name": "stdout",
     "output_type": "stream",
     "text": [
      "Logistic Regression Train Accuracy: 97.96%\n",
      "---\n",
      "Confusion Matrix\n",
      "actual      ham  spam\n",
      "predicted            \n",
      "ham        3834    66\n",
      "spam         25   532\n",
      "---\n",
      "              precision    recall  f1-score   support\n",
      "\n",
      "         ham       0.98      0.99      0.99      3859\n",
      "        spam       0.96      0.89      0.92       598\n",
      "\n",
      "    accuracy                           0.98      4457\n",
      "   macro avg       0.97      0.94      0.95      4457\n",
      "weighted avg       0.98      0.98      0.98      4457\n",
      "\n"
     ]
    }
   ],
   "source": [
    "print('Logistic Regression Train Accuracy: {:.2%}'.format(accuracy_score(train.actual, train.predicted)))\n",
    "print('---')\n",
    "print('Confusion Matrix')\n",
    "print(pd.crosstab(train.predicted, train.actual))\n",
    "print('---')\n",
    "print(classification_report(train.actual, train.predicted))"
   ]
  },
  {
   "cell_type": "markdown",
   "metadata": {},
   "source": [
    "## Evaluate Test Set"
   ]
  },
  {
   "cell_type": "code",
   "execution_count": 64,
   "metadata": {},
   "outputs": [
    {
     "name": "stdout",
     "output_type": "stream",
     "text": [
      "Logistic Regression Test Accuracy: 97.94%\n",
      "---\n",
      "Confusion Matrix\n",
      "actual     ham  spam\n",
      "predicted           \n",
      "ham        961    18\n",
      "spam         5   131\n",
      "---\n",
      "              precision    recall  f1-score   support\n",
      "\n",
      "         ham       0.98      0.99      0.99       966\n",
      "        spam       0.96      0.88      0.92       149\n",
      "\n",
      "    accuracy                           0.98      1115\n",
      "   macro avg       0.97      0.94      0.95      1115\n",
      "weighted avg       0.98      0.98      0.98      1115\n",
      "\n"
     ]
    }
   ],
   "source": [
    "print('Logistic Regression Test Accuracy: {:.2%}'.format(accuracy_score(test.actual, test.predicted)))\n",
    "print('---')\n",
    "print('Confusion Matrix')\n",
    "print(pd.crosstab(test.predicted, test.actual))\n",
    "print('---')\n",
    "print(classification_report(test.actual, test.predicted))"
   ]
  },
  {
   "cell_type": "markdown",
   "metadata": {},
   "source": [
    "## Decision Tree Model"
   ]
  },
  {
   "cell_type": "code",
   "execution_count": 54,
   "metadata": {},
   "outputs": [],
   "source": [
    "df = pd.read_csv('./spam_clean.csv')\n",
    "df.head()\n",
    "\n",
    "tfidf = TfidfVectorizer()\n",
    "X = tfidf.fit_transform(df.text)\n",
    "y = df.label\n",
    "\n",
    "X_train, X_test, y_train, y_test = train_test_split(X, y, stratify=y, test_size=.2)\n",
    "\n",
    "train = pd.DataFrame(dict(actual=y_train))\n",
    "test = pd.DataFrame(dict(actual=y_test))\n",
    "\n",
    "dt = DecisionTreeClassifier(criterion='entropy', splitter='best',\n",
    "                           max_depth=None, min_samples_split=8,\n",
    "                           min_samples_leaf=4,\n",
    "                           random_state=123).fit(X_train, y_train)\n",
    "\n",
    "train['predicted'] = dt.predict(X_train)\n",
    "test['predicted'] = dt.predict(X_test)"
   ]
  },
  {
   "cell_type": "markdown",
   "metadata": {},
   "source": [
    "## Evaluate Train Set"
   ]
  },
  {
   "cell_type": "code",
   "execution_count": 65,
   "metadata": {},
   "outputs": [
    {
     "name": "stdout",
     "output_type": "stream",
     "text": [
      "Decision Tree Train Accuracy: 97.96%\n",
      "---\n",
      "Confusion Matrix\n",
      "actual      ham  spam\n",
      "predicted            \n",
      "ham        3834    66\n",
      "spam         25   532\n",
      "---\n",
      "              precision    recall  f1-score   support\n",
      "\n",
      "         ham       0.98      0.99      0.99      3859\n",
      "        spam       0.96      0.89      0.92       598\n",
      "\n",
      "    accuracy                           0.98      4457\n",
      "   macro avg       0.97      0.94      0.95      4457\n",
      "weighted avg       0.98      0.98      0.98      4457\n",
      "\n"
     ]
    }
   ],
   "source": [
    "print('Decision Tree Train Accuracy: {:.2%}'.format(accuracy_score(train.actual, train.predicted)))\n",
    "print('---')\n",
    "print('Confusion Matrix')\n",
    "print(pd.crosstab(train.predicted, train.actual))\n",
    "print('---')\n",
    "print(classification_report(train.actual, train.predicted))"
   ]
  },
  {
   "cell_type": "markdown",
   "metadata": {},
   "source": [
    "## Evaluate Test Set"
   ]
  },
  {
   "cell_type": "code",
   "execution_count": 66,
   "metadata": {},
   "outputs": [
    {
     "name": "stdout",
     "output_type": "stream",
     "text": [
      "Decision Tree Test Accuracy: 97.94%\n",
      "---\n",
      "Confusion Matrix\n",
      "actual     ham  spam\n",
      "predicted           \n",
      "ham        961    18\n",
      "spam         5   131\n",
      "---\n",
      "              precision    recall  f1-score   support\n",
      "\n",
      "         ham       0.98      0.99      0.99       966\n",
      "        spam       0.96      0.88      0.92       149\n",
      "\n",
      "    accuracy                           0.98      1115\n",
      "   macro avg       0.97      0.94      0.95      1115\n",
      "weighted avg       0.98      0.98      0.98      1115\n",
      "\n"
     ]
    }
   ],
   "source": [
    "print('Decision Tree Test Accuracy: {:.2%}'.format(accuracy_score(test.actual, test.predicted)))\n",
    "print('---')\n",
    "print('Confusion Matrix')\n",
    "print(pd.crosstab(test.predicted, test.actual))\n",
    "print('---')\n",
    "print(classification_report(test.actual, test.predicted))"
   ]
  },
  {
   "cell_type": "markdown",
   "metadata": {},
   "source": [
    "# K-Nearest Neighbors Model"
   ]
  },
  {
   "cell_type": "code",
   "execution_count": 57,
   "metadata": {},
   "outputs": [],
   "source": [
    "from sklearn.neighbors import KNeighborsClassifier\n",
    "\n",
    "df = pd.read_csv('./spam_clean.csv')\n",
    "df.head()\n",
    "\n",
    "tfidf = TfidfVectorizer()\n",
    "X = tfidf.fit_transform(df.text)\n",
    "y = df.label\n",
    "\n",
    "X_train, X_test, y_train, y_test = train_test_split(X, y, stratify=y, test_size=.2)\n",
    "\n",
    "train = pd.DataFrame(dict(actual=y_train))\n",
    "test = pd.DataFrame(dict(actual=y_test))\n",
    "\n",
    "knn = KNeighborsClassifier(n_neighbors=5, weights='uniform').fit(X_train, y_train)\n",
    "\n",
    "train['predicted'] = dt.predict(X_train)\n",
    "test['predicted'] = dt.predict(X_test)"
   ]
  },
  {
   "cell_type": "code",
   "execution_count": 67,
   "metadata": {},
   "outputs": [
    {
     "name": "stdout",
     "output_type": "stream",
     "text": [
      "K-NN Train Accuracy: 97.96%\n",
      "---\n",
      "Confusion Matrix\n",
      "actual      ham  spam\n",
      "predicted            \n",
      "ham        3834    66\n",
      "spam         25   532\n",
      "---\n",
      "              precision    recall  f1-score   support\n",
      "\n",
      "         ham       0.98      0.99      0.99      3859\n",
      "        spam       0.96      0.89      0.92       598\n",
      "\n",
      "    accuracy                           0.98      4457\n",
      "   macro avg       0.97      0.94      0.95      4457\n",
      "weighted avg       0.98      0.98      0.98      4457\n",
      "\n"
     ]
    }
   ],
   "source": [
    "print('K-NN Train Accuracy: {:.2%}'.format(accuracy_score(train.actual, train.predicted)))\n",
    "print('---')\n",
    "print('Confusion Matrix')\n",
    "print(pd.crosstab(train.predicted, train.actual))\n",
    "print('---')\n",
    "print(classification_report(train.actual, train.predicted))"
   ]
  },
  {
   "cell_type": "code",
   "execution_count": 68,
   "metadata": {},
   "outputs": [
    {
     "name": "stdout",
     "output_type": "stream",
     "text": [
      "K-NN Test Accuracy: 97.94%\n",
      "---\n",
      "Confusion Matrix\n",
      "actual     ham  spam\n",
      "predicted           \n",
      "ham        961    18\n",
      "spam         5   131\n",
      "---\n",
      "              precision    recall  f1-score   support\n",
      "\n",
      "         ham       0.98      0.99      0.99       966\n",
      "        spam       0.96      0.88      0.92       149\n",
      "\n",
      "    accuracy                           0.98      1115\n",
      "   macro avg       0.97      0.94      0.95      1115\n",
      "weighted avg       0.98      0.98      0.98      1115\n",
      "\n"
     ]
    }
   ],
   "source": [
    "print('K-NN Test Accuracy: {:.2%}'.format(accuracy_score(test.actual, test.predicted)))\n",
    "print('---')\n",
    "print('Confusion Matrix')\n",
    "print(pd.crosstab(test.predicted, test.actual))\n",
    "print('---')\n",
    "print(classification_report(test.actual, test.predicted))"
   ]
  },
  {
   "cell_type": "code",
   "execution_count": null,
   "metadata": {},
   "outputs": [],
   "source": []
  }
 ],
 "metadata": {
  "kernelspec": {
   "display_name": "Python 3",
   "language": "python",
   "name": "python3"
  },
  "language_info": {
   "codemirror_mode": {
    "name": "ipython",
    "version": 3
   },
   "file_extension": ".py",
   "mimetype": "text/x-python",
   "name": "python",
   "nbconvert_exporter": "python",
   "pygments_lexer": "ipython3",
   "version": "3.7.3"
  },
  "toc": {
   "base_numbering": 1,
   "nav_menu": {},
   "number_sections": true,
   "sideBar": true,
   "skip_h1_title": false,
   "title_cell": "Table of Contents",
   "title_sidebar": "Contents",
   "toc_cell": false,
   "toc_position": {},
   "toc_section_display": true,
   "toc_window_display": false
  }
 },
 "nbformat": 4,
 "nbformat_minor": 2
}

{
 "cells": [
  {
   "cell_type": "markdown",
   "metadata": {
    "toc": true
   },
   "source": [
    "<h1>Table of Contents<span class=\"tocSkip\"></span></h1>\n",
    "<div class=\"toc\"><ul class=\"toc-item\"><li><span><a href=\"#Acquire-News-Articles\" data-toc-modified-id=\"Acquire-News-Articles-1\"><span class=\"toc-item-num\">1&nbsp;&nbsp;</span>Acquire News Articles</a></span></li><li><span><a href=\"#Prepare-News-Articles\" data-toc-modified-id=\"Prepare-News-Articles-2\"><span class=\"toc-item-num\">2&nbsp;&nbsp;</span>Prepare News Articles</a></span><ul class=\"toc-item\"><li><span><a href=\"#Extra-Cleaning\" data-toc-modified-id=\"Extra-Cleaning-2.1\"><span class=\"toc-item-num\">2.1&nbsp;&nbsp;</span>Extra Cleaning</a></span></li></ul></li><li><span><a href=\"#Explore-Text\" data-toc-modified-id=\"Explore-Text-3\"><span class=\"toc-item-num\">3&nbsp;&nbsp;</span>Explore Text</a></span><ul class=\"toc-item\"><li><span><a href=\"#Create-Numeric-Columns-in-df\" data-toc-modified-id=\"Create-Numeric-Columns-in-df-3.1\"><span class=\"toc-item-num\">3.1&nbsp;&nbsp;</span>Create Numeric Columns in df</a></span></li></ul></li><li><span><a href=\"#Identify-Important-Words-in-Text\" data-toc-modified-id=\"Identify-Important-Words-in-Text-4\"><span class=\"toc-item-num\">4&nbsp;&nbsp;</span>Identify Important Words in Text</a></span><ul class=\"toc-item\"><li><span><a href=\"#Create-and-Visualize-N-grams\" data-toc-modified-id=\"Create-and-Visualize-N-grams-4.1\"><span class=\"toc-item-num\">4.1&nbsp;&nbsp;</span>Create and Visualize N-grams</a></span><ul class=\"toc-item\"><li><span><a href=\"#Create-N-grams-Function\" data-toc-modified-id=\"Create-N-grams-Function-4.1.1\"><span class=\"toc-item-num\">4.1.1&nbsp;&nbsp;</span>Create N-grams Function</a></span></li><li><span><a href=\"#Visualize-N-grams\" data-toc-modified-id=\"Visualize-N-grams-4.1.2\"><span class=\"toc-item-num\">4.1.2&nbsp;&nbsp;</span>Visualize N-grams</a></span></li></ul></li><li><span><a href=\"#Create-a-Series-for--Corpus-of-Words-by-Topic-Label\" data-toc-modified-id=\"Create-a-Series-for--Corpus-of-Words-by-Topic-Label-4.2\"><span class=\"toc-item-num\">4.2&nbsp;&nbsp;</span>Create a Series for  Corpus of Words by Topic Label</a></span></li><li><span><a href=\"#Create-a-Series-of-Word-Frequencies-for-Each-Topic-Label\" data-toc-modified-id=\"Create-a-Series-of-Word-Frequencies-for-Each-Topic-Label-4.3\"><span class=\"toc-item-num\">4.3&nbsp;&nbsp;</span>Create a Series of Word Frequencies for Each Topic Label</a></span></li></ul></li><li><span><a href=\"#Remove-More-Stopwords\" data-toc-modified-id=\"Remove-More-Stopwords-5\"><span class=\"toc-item-num\">5&nbsp;&nbsp;</span>Remove More Stopwords</a></span><ul class=\"toc-item\"><li><span><a href=\"#Create-df-of-Word-Frequencies-for-Each-Subset-Above\" data-toc-modified-id=\"Create-df-of-Word-Frequencies-for-Each-Subset-Above-5.1\"><span class=\"toc-item-num\">5.1&nbsp;&nbsp;</span>Create df of Word Frequencies for Each Subset Above</a></span></li><li><span><a href=\"#Search-for-Topic-specific-Words\" data-toc-modified-id=\"Search-for-Topic-specific-Words-5.2\"><span class=\"toc-item-num\">5.2&nbsp;&nbsp;</span>Search for Topic-specific Words</a></span></li><li><span><a href=\"#Word-Clouds!\" data-toc-modified-id=\"Word-Clouds!-5.3\"><span class=\"toc-item-num\">5.3&nbsp;&nbsp;</span>Word Clouds!</a></span></li></ul></li></ul></div>"
   ]
  },
  {
   "cell_type": "code",
   "execution_count": 24,
   "metadata": {},
   "outputs": [],
   "source": [
    "import pandas as pd\n",
    "import numpy as np\n",
    "\n",
    "import os\n",
    "import unicodedata\n",
    "import re\n",
    "import json\n",
    "\n",
    "import nltk\n",
    "from nltk.tokenize.toktok import ToktokTokenizer\n",
    "from nltk.corpus import stopwords\n",
    "from nltk.util import ngrams\n",
    "\n",
    "import matplotlib.pyplot as plt\n",
    "%matplotlib inline\n",
    "import seaborn as sns\n",
    "from wordcloud import WordCloud\n",
    "\n",
    "from acquire_walkthrough import get_news_articles\n",
    "from prepare_walkthrough import prep_article_data"
   ]
  },
  {
   "cell_type": "markdown",
   "metadata": {},
   "source": [
    "## Acquire News Articles"
   ]
  },
  {
   "cell_type": "code",
   "execution_count": 42,
   "metadata": {},
   "outputs": [],
   "source": [
    "df = get_news_articles()"
   ]
  },
  {
   "cell_type": "markdown",
   "metadata": {},
   "source": [
    "## Prepare News Articles\n",
    "\n",
    "I'm going to use my cleaned, lemmatized text with minimal stopwords removed to start; that is how my `prep_article_data` will deliver my text to me here. As I explore, I will probably be adding stopwords and removing tokens that are just noise as I come across them."
   ]
  },
  {
   "cell_type": "code",
   "execution_count": 43,
   "metadata": {},
   "outputs": [],
   "source": [
    "df = prep_article_data(df)"
   ]
  },
  {
   "cell_type": "code",
   "execution_count": 44,
   "metadata": {},
   "outputs": [
    {
     "data": {
      "text/html": [
       "<div>\n",
       "<style scoped>\n",
       "    .dataframe tbody tr th:only-of-type {\n",
       "        vertical-align: middle;\n",
       "    }\n",
       "\n",
       "    .dataframe tbody tr th {\n",
       "        vertical-align: top;\n",
       "    }\n",
       "\n",
       "    .dataframe thead th {\n",
       "        text-align: right;\n",
       "    }\n",
       "</style>\n",
       "<table border=\"1\" class=\"dataframe\">\n",
       "  <thead>\n",
       "    <tr style=\"text-align: right;\">\n",
       "      <th></th>\n",
       "      <th>topic</th>\n",
       "      <th>title</th>\n",
       "      <th>author</th>\n",
       "      <th>content</th>\n",
       "      <th>clean_stemmed</th>\n",
       "      <th>clean_lemmatized</th>\n",
       "    </tr>\n",
       "  </thead>\n",
       "  <tbody>\n",
       "    <tr>\n",
       "      <th>0</th>\n",
       "      <td>business</td>\n",
       "      <td>US firm buys Serum Institute parent's Czech un...</td>\n",
       "      <td>Krishna Veera Vanamali</td>\n",
       "      <td>US biotech firm Novavax has announced it's buy...</td>\n",
       "      <td>us biotech firm novavax ha announc buy czech r...</td>\n",
       "      <td>u biotech firm novavax ha announced buying cze...</td>\n",
       "    </tr>\n",
       "    <tr>\n",
       "      <th>1</th>\n",
       "      <td>business</td>\n",
       "      <td>Twitter CEO donates $10M to project giving $1,...</td>\n",
       "      <td>Pragya Swastik</td>\n",
       "      <td>Twitter's billionaire CEO Jack Dorsey has dona...</td>\n",
       "      <td>twitter billionair ceo jack dorsey ha donat 10...</td>\n",
       "      <td>twitter billionaire ceo jack dorsey ha donated...</td>\n",
       "    </tr>\n",
       "    <tr>\n",
       "      <th>2</th>\n",
       "      <td>business</td>\n",
       "      <td>Google in talks to buy 5% stake in Vodafone Id...</td>\n",
       "      <td>Krishna Veera Vanamali</td>\n",
       "      <td>Google is exploring an investment in Vodafone ...</td>\n",
       "      <td>googl explor invest vodafon idea part us techn...</td>\n",
       "      <td>google exploring investment vodafone idea part...</td>\n",
       "    </tr>\n",
       "    <tr>\n",
       "      <th>3</th>\n",
       "      <td>business</td>\n",
       "      <td>Microsoft in talks to buy 2.5% stake in Jio fo...</td>\n",
       "      <td>Anushka Dixit</td>\n",
       "      <td>Microsoft is in talks with Mukesh Ambani-led R...</td>\n",
       "      <td>microsoft talk mukesh ambanil relianc industri...</td>\n",
       "      <td>microsoft talk mukesh ambaniled reliance indus...</td>\n",
       "    </tr>\n",
       "    <tr>\n",
       "      <th>4</th>\n",
       "      <td>business</td>\n",
       "      <td>25-year-old Anant Ambani joins $65 billion Jio...</td>\n",
       "      <td>Krishna Veera Vanamali</td>\n",
       "      <td>Asia's richest person Mukesh Ambani's 25-year-...</td>\n",
       "      <td>asia richest person mukesh ambani 25yearold so...</td>\n",
       "      <td>asia richest person mukesh ambanis 25yearold s...</td>\n",
       "    </tr>\n",
       "  </tbody>\n",
       "</table>\n",
       "</div>"
      ],
      "text/plain": [
       "      topic                                              title  \\\n",
       "0  business  US firm buys Serum Institute parent's Czech un...   \n",
       "1  business  Twitter CEO donates $10M to project giving $1,...   \n",
       "2  business  Google in talks to buy 5% stake in Vodafone Id...   \n",
       "3  business  Microsoft in talks to buy 2.5% stake in Jio fo...   \n",
       "4  business  25-year-old Anant Ambani joins $65 billion Jio...   \n",
       "\n",
       "                   author                                            content  \\\n",
       "0  Krishna Veera Vanamali  US biotech firm Novavax has announced it's buy...   \n",
       "1          Pragya Swastik  Twitter's billionaire CEO Jack Dorsey has dona...   \n",
       "2  Krishna Veera Vanamali  Google is exploring an investment in Vodafone ...   \n",
       "3           Anushka Dixit  Microsoft is in talks with Mukesh Ambani-led R...   \n",
       "4  Krishna Veera Vanamali  Asia's richest person Mukesh Ambani's 25-year-...   \n",
       "\n",
       "                                       clean_stemmed  \\\n",
       "0  us biotech firm novavax ha announc buy czech r...   \n",
       "1  twitter billionair ceo jack dorsey ha donat 10...   \n",
       "2  googl explor invest vodafon idea part us techn...   \n",
       "3  microsoft talk mukesh ambanil relianc industri...   \n",
       "4  asia richest person mukesh ambani 25yearold so...   \n",
       "\n",
       "                                    clean_lemmatized  \n",
       "0  u biotech firm novavax ha announced buying cze...  \n",
       "1  twitter billionaire ceo jack dorsey ha donated...  \n",
       "2  google exploring investment vodafone idea part...  \n",
       "3  microsoft talk mukesh ambaniled reliance indus...  \n",
       "4  asia richest person mukesh ambanis 25yearold s...  "
      ]
     },
     "execution_count": 44,
     "metadata": {},
     "output_type": "execute_result"
    }
   ],
   "source": [
    "df.head()"
   ]
  },
  {
   "cell_type": "code",
   "execution_count": 45,
   "metadata": {},
   "outputs": [
    {
     "data": {
      "text/html": [
       "<div>\n",
       "<style scoped>\n",
       "    .dataframe tbody tr th:only-of-type {\n",
       "        vertical-align: middle;\n",
       "    }\n",
       "\n",
       "    .dataframe tbody tr th {\n",
       "        vertical-align: top;\n",
       "    }\n",
       "\n",
       "    .dataframe thead th {\n",
       "        text-align: right;\n",
       "    }\n",
       "</style>\n",
       "<table border=\"1\" class=\"dataframe\">\n",
       "  <thead>\n",
       "    <tr style=\"text-align: right;\">\n",
       "      <th></th>\n",
       "      <th>label</th>\n",
       "      <th>text</th>\n",
       "    </tr>\n",
       "  </thead>\n",
       "  <tbody>\n",
       "    <tr>\n",
       "      <th>0</th>\n",
       "      <td>business</td>\n",
       "      <td>u biotech firm novavax ha announced buying cze...</td>\n",
       "    </tr>\n",
       "  </tbody>\n",
       "</table>\n",
       "</div>"
      ],
      "text/plain": [
       "      label                                               text\n",
       "0  business  u biotech firm novavax ha announced buying cze..."
      ]
     },
     "execution_count": 45,
     "metadata": {},
     "output_type": "execute_result"
    }
   ],
   "source": [
    "# Select label and text and rename accordingly\n",
    "df_lem = df[['topic', 'clean_lemmatized']]\n",
    "\n",
    "df_lem = df_lem.rename(columns={'topic': 'label', 'clean_lemmatized': 'text'})\n",
    "\n",
    "# df_lem uses lemmatized text\n",
    "df_lem.head(1)"
   ]
  },
  {
   "cell_type": "markdown",
   "metadata": {},
   "source": [
    "### Extra Cleaning\n",
    "\n",
    "As I explore my text data, I will find more things I want to remove. I know from exploring the text I scraped from inshort articles that there are a lot of numbers that are not useful to me for my purposes of sentiment analysis and creating a machine learning model that can predict the topic, or label, of an article. I'm going to remove numbers from my text here, and as I find more unnecessary tokens, I will return here to remove them."
   ]
  },
  {
   "cell_type": "code",
   "execution_count": 46,
   "metadata": {},
   "outputs": [],
   "source": [
    "# replace numbers in my text column with empty strings.\n",
    "\n",
    "df_lem['text'] = df_lem.text.replace(r'\\d', '', regex=True)"
   ]
  },
  {
   "cell_type": "code",
   "execution_count": 47,
   "metadata": {},
   "outputs": [
    {
     "data": {
      "text/html": [
       "<div>\n",
       "<style scoped>\n",
       "    .dataframe tbody tr th:only-of-type {\n",
       "        vertical-align: middle;\n",
       "    }\n",
       "\n",
       "    .dataframe tbody tr th {\n",
       "        vertical-align: top;\n",
       "    }\n",
       "\n",
       "    .dataframe thead th {\n",
       "        text-align: right;\n",
       "    }\n",
       "</style>\n",
       "<table border=\"1\" class=\"dataframe\">\n",
       "  <thead>\n",
       "    <tr style=\"text-align: right;\">\n",
       "      <th></th>\n",
       "      <th>label</th>\n",
       "      <th>text</th>\n",
       "    </tr>\n",
       "  </thead>\n",
       "  <tbody>\n",
       "    <tr>\n",
       "      <th>0</th>\n",
       "      <td>business</td>\n",
       "      <td>u biotech firm novavax ha announced buying cze...</td>\n",
       "    </tr>\n",
       "    <tr>\n",
       "      <th>1</th>\n",
       "      <td>business</td>\n",
       "      <td>twitter billionaire ceo jack dorsey ha donated...</td>\n",
       "    </tr>\n",
       "    <tr>\n",
       "      <th>2</th>\n",
       "      <td>business</td>\n",
       "      <td>google exploring investment vodafone idea part...</td>\n",
       "    </tr>\n",
       "    <tr>\n",
       "      <th>3</th>\n",
       "      <td>business</td>\n",
       "      <td>microsoft talk mukesh ambaniled reliance indus...</td>\n",
       "    </tr>\n",
       "    <tr>\n",
       "      <th>4</th>\n",
       "      <td>business</td>\n",
       "      <td>asia richest person mukesh ambanis yearold son...</td>\n",
       "    </tr>\n",
       "  </tbody>\n",
       "</table>\n",
       "</div>"
      ],
      "text/plain": [
       "      label                                               text\n",
       "0  business  u biotech firm novavax ha announced buying cze...\n",
       "1  business  twitter billionaire ceo jack dorsey ha donated...\n",
       "2  business  google exploring investment vodafone idea part...\n",
       "3  business  microsoft talk mukesh ambaniled reliance indus...\n",
       "4  business  asia richest person mukesh ambanis yearold son..."
      ]
     },
     "execution_count": 47,
     "metadata": {},
     "output_type": "execute_result"
    }
   ],
   "source": [
    "df_lem.head()"
   ]
  },
  {
   "cell_type": "code",
   "execution_count": 48,
   "metadata": {},
   "outputs": [
    {
     "data": {
      "text/plain": [
       "0    [u, biotech, firm, novavax, ha, announced, buy...\n",
       "1    [twitter, billionaire, ceo, jack, dorsey, ha, ...\n",
       "2    [google, exploring, investment, vodafone, idea...\n",
       "3    [microsoft, talk, mukesh, ambaniled, reliance,...\n",
       "4    [asia, richest, person, mukesh, ambanis, yearo...\n",
       "Name: text, dtype: object"
      ]
     },
     "execution_count": 48,
     "metadata": {},
     "output_type": "execute_result"
    }
   ],
   "source": [
    "# split my text into lists of words\n",
    "\n",
    "words = df_lem['text'].str.split()\n",
    "words.head()"
   ]
  },
  {
   "cell_type": "code",
   "execution_count": 50,
   "metadata": {},
   "outputs": [
    {
     "data": {
      "text/plain": [
       "0    [biotech, firm, novavax, announced, buying, cz...\n",
       "1    [twitter, billionaire, ceo, jack, dorsey, dona...\n",
       "2    [google, exploring, investment, vodafone, idea...\n",
       "3    [microsoft, talk, mukesh, ambaniled, reliance,...\n",
       "4    [asia, richest, person, mukesh, ambanis, yearo...\n",
       "Name: text, dtype: object"
      ]
     },
     "execution_count": 50,
     "metadata": {},
     "output_type": "execute_result"
    }
   ],
   "source": [
    "# remove extra stopwords identified through exploration\n",
    "\n",
    "extra_stopwords_list = ['ha', 'wa', 'said', 'u', '']\n",
    "filtered_words = words.apply(lambda row: [word for word in row if word not in extra_stopwords_list])\n",
    "filtered_words.head()"
   ]
  },
  {
   "cell_type": "code",
   "execution_count": 53,
   "metadata": {},
   "outputs": [
    {
     "data": {
      "text/html": [
       "<div>\n",
       "<style scoped>\n",
       "    .dataframe tbody tr th:only-of-type {\n",
       "        vertical-align: middle;\n",
       "    }\n",
       "\n",
       "    .dataframe tbody tr th {\n",
       "        vertical-align: top;\n",
       "    }\n",
       "\n",
       "    .dataframe thead th {\n",
       "        text-align: right;\n",
       "    }\n",
       "</style>\n",
       "<table border=\"1\" class=\"dataframe\">\n",
       "  <thead>\n",
       "    <tr style=\"text-align: right;\">\n",
       "      <th></th>\n",
       "      <th>label</th>\n",
       "      <th>text</th>\n",
       "    </tr>\n",
       "  </thead>\n",
       "  <tbody>\n",
       "    <tr>\n",
       "      <th>0</th>\n",
       "      <td>business</td>\n",
       "      <td>biotech firm novavax announced buying czech re...</td>\n",
       "    </tr>\n",
       "    <tr>\n",
       "      <th>1</th>\n",
       "      <td>business</td>\n",
       "      <td>twitter billionaire ceo jack dorsey donated mi...</td>\n",
       "    </tr>\n",
       "    <tr>\n",
       "      <th>2</th>\n",
       "      <td>business</td>\n",
       "      <td>google exploring investment vodafone idea part...</td>\n",
       "    </tr>\n",
       "    <tr>\n",
       "      <th>3</th>\n",
       "      <td>business</td>\n",
       "      <td>microsoft talk mukesh ambaniled reliance indus...</td>\n",
       "    </tr>\n",
       "    <tr>\n",
       "      <th>4</th>\n",
       "      <td>business</td>\n",
       "      <td>asia richest person mukesh ambanis yearold son...</td>\n",
       "    </tr>\n",
       "  </tbody>\n",
       "</table>\n",
       "</div>"
      ],
      "text/plain": [
       "      label                                               text\n",
       "0  business  biotech firm novavax announced buying czech re...\n",
       "1  business  twitter billionaire ceo jack dorsey donated mi...\n",
       "2  business  google exploring investment vodafone idea part...\n",
       "3  business  microsoft talk mukesh ambaniled reliance indus...\n",
       "4  business  asia richest person mukesh ambanis yearold son..."
      ]
     },
     "execution_count": 53,
     "metadata": {},
     "output_type": "execute_result"
    }
   ],
   "source": [
    "# join my lists of words into strings and reassign my filtered words to my df as text\n",
    "\n",
    "df_lem['text'] = filtered_words.str.join(' ')\n",
    "df_lem.head()"
   ]
  },
  {
   "cell_type": "markdown",
   "metadata": {},
   "source": [
    "## Explore Text\n",
    "\n",
    "Our dataframe has 100 rows/observations and 2 columns; `label` is one of four topics, business, entertainment, technology, sports, which is our target, and `text` is a string of tokens/words from each observation or article. Each observation is the text from one article and the topic of the article."
   ]
  },
  {
   "cell_type": "code",
   "execution_count": 54,
   "metadata": {},
   "outputs": [
    {
     "name": "stdout",
     "output_type": "stream",
     "text": [
      "Our df_lem dataframe has 100 rows and 2 columns\n"
     ]
    }
   ],
   "source": [
    "print(f'Our df_lem dataframe has {df_lem.shape[0]} rows and {df_lem.shape[1]} columns')"
   ]
  },
  {
   "cell_type": "code",
   "execution_count": 55,
   "metadata": {},
   "outputs": [
    {
     "data": {
      "text/plain": [
       "sports           25\n",
       "business         25\n",
       "entertainment    25\n",
       "technology       25\n",
       "Name: label, dtype: int64"
      ]
     },
     "execution_count": 55,
     "metadata": {},
     "output_type": "execute_result"
    }
   ],
   "source": [
    "# I only have four possible values for my label column. I'm going to make it a category dtype\n",
    "\n",
    "df_lem.label.value_counts()"
   ]
  },
  {
   "cell_type": "code",
   "execution_count": 56,
   "metadata": {},
   "outputs": [],
   "source": [
    "df_lem['label'] = df_lem.label.astype('category')"
   ]
  },
  {
   "cell_type": "code",
   "execution_count": 57,
   "metadata": {},
   "outputs": [
    {
     "data": {
      "text/html": [
       "<div>\n",
       "<style scoped>\n",
       "    .dataframe tbody tr th:only-of-type {\n",
       "        vertical-align: middle;\n",
       "    }\n",
       "\n",
       "    .dataframe tbody tr th {\n",
       "        vertical-align: top;\n",
       "    }\n",
       "\n",
       "    .dataframe thead th {\n",
       "        text-align: right;\n",
       "    }\n",
       "</style>\n",
       "<table border=\"1\" class=\"dataframe\">\n",
       "  <thead>\n",
       "    <tr style=\"text-align: right;\">\n",
       "      <th></th>\n",
       "      <th>n</th>\n",
       "      <th>percent</th>\n",
       "    </tr>\n",
       "  </thead>\n",
       "  <tbody>\n",
       "    <tr>\n",
       "      <th>technology</th>\n",
       "      <td>25</td>\n",
       "      <td>0.25</td>\n",
       "    </tr>\n",
       "    <tr>\n",
       "      <th>sports</th>\n",
       "      <td>25</td>\n",
       "      <td>0.25</td>\n",
       "    </tr>\n",
       "    <tr>\n",
       "      <th>entertainment</th>\n",
       "      <td>25</td>\n",
       "      <td>0.25</td>\n",
       "    </tr>\n",
       "    <tr>\n",
       "      <th>business</th>\n",
       "      <td>25</td>\n",
       "      <td>0.25</td>\n",
       "    </tr>\n",
       "  </tbody>\n",
       "</table>\n",
       "</div>"
      ],
      "text/plain": [
       "                n  percent\n",
       "technology     25     0.25\n",
       "sports         25     0.25\n",
       "entertainment  25     0.25\n",
       "business       25     0.25"
      ]
     },
     "execution_count": 57,
     "metadata": {},
     "output_type": "execute_result"
    }
   ],
   "source": [
    "# Our scraped data is very balanced!\n",
    "\n",
    "labels = pd.concat([df_lem.label.value_counts(),\n",
    "                    df_lem.label.value_counts(normalize=True)], axis=1)\n",
    "labels.columns = ['n', 'percent']\n",
    "labels"
   ]
  },
  {
   "cell_type": "code",
   "execution_count": 58,
   "metadata": {},
   "outputs": [
    {
     "data": {
      "text/plain": [
       "0    biotech firm novavax announced buying czech re...\n",
       "1    twitter billionaire ceo jack dorsey donated mi...\n",
       "2    google exploring investment vodafone idea part...\n",
       "3    microsoft talk mukesh ambaniled reliance indus...\n",
       "4    asia richest person mukesh ambanis yearold son...\n",
       "Name: text, dtype: object"
      ]
     },
     "execution_count": 58,
     "metadata": {},
     "output_type": "execute_result"
    }
   ],
   "source": [
    "# Take a quick look at my text column values\n",
    "\n",
    "df_lem.text.head()"
   ]
  },
  {
   "cell_type": "markdown",
   "metadata": {},
   "source": [
    "### Create Numeric Columns in df"
   ]
  },
  {
   "cell_type": "code",
   "execution_count": 59,
   "metadata": {},
   "outputs": [
    {
     "data": {
      "text/html": [
       "<div>\n",
       "<style scoped>\n",
       "    .dataframe tbody tr th:only-of-type {\n",
       "        vertical-align: middle;\n",
       "    }\n",
       "\n",
       "    .dataframe tbody tr th {\n",
       "        vertical-align: top;\n",
       "    }\n",
       "\n",
       "    .dataframe thead th {\n",
       "        text-align: right;\n",
       "    }\n",
       "</style>\n",
       "<table border=\"1\" class=\"dataframe\">\n",
       "  <thead>\n",
       "    <tr style=\"text-align: right;\">\n",
       "      <th></th>\n",
       "      <th>label</th>\n",
       "      <th>text</th>\n",
       "      <th>length</th>\n",
       "    </tr>\n",
       "  </thead>\n",
       "  <tbody>\n",
       "    <tr>\n",
       "      <th>0</th>\n",
       "      <td>business</td>\n",
       "      <td>biotech firm novavax announced buying czech re...</td>\n",
       "      <td>274</td>\n",
       "    </tr>\n",
       "    <tr>\n",
       "      <th>1</th>\n",
       "      <td>business</td>\n",
       "      <td>twitter billionaire ceo jack dorsey donated mi...</td>\n",
       "      <td>260</td>\n",
       "    </tr>\n",
       "    <tr>\n",
       "      <th>2</th>\n",
       "      <td>business</td>\n",
       "      <td>google exploring investment vodafone idea part...</td>\n",
       "      <td>230</td>\n",
       "    </tr>\n",
       "    <tr>\n",
       "      <th>3</th>\n",
       "      <td>business</td>\n",
       "      <td>microsoft talk mukesh ambaniled reliance indus...</td>\n",
       "      <td>262</td>\n",
       "    </tr>\n",
       "    <tr>\n",
       "      <th>4</th>\n",
       "      <td>business</td>\n",
       "      <td>asia richest person mukesh ambanis yearold son...</td>\n",
       "      <td>245</td>\n",
       "    </tr>\n",
       "  </tbody>\n",
       "</table>\n",
       "</div>"
      ],
      "text/plain": [
       "      label                                               text  length\n",
       "0  business  biotech firm novavax announced buying czech re...     274\n",
       "1  business  twitter billionaire ceo jack dorsey donated mi...     260\n",
       "2  business  google exploring investment vodafone idea part...     230\n",
       "3  business  microsoft talk mukesh ambaniled reliance indus...     262\n",
       "4  business  asia richest person mukesh ambanis yearold son...     245"
      ]
     },
     "execution_count": 59,
     "metadata": {},
     "output_type": "execute_result"
    }
   ],
   "source": [
    "# Create a column that gives the length of the text/string for each observation\n",
    "\n",
    "df_lem['length'] = df_lem.text.apply(len)\n",
    "df_lem.head()"
   ]
  },
  {
   "cell_type": "markdown",
   "metadata": {},
   "source": [
    "## Identify Important Words in Text"
   ]
  },
  {
   "cell_type": "markdown",
   "metadata": {},
   "source": [
    "### Create and Visualize N-grams\n",
    "\n",
    "In creating my Bag of Words to search my Corpus for the most common uni, bi, and trigrams, I see that I have empty strings, single letters, and truncated verbs that will not add meaning to my exploration. I will definitely go back to my 'extra cleaning' section and remove the following stopwords: u, ha, '', wa, said."
   ]
  },
  {
   "cell_type": "code",
   "execution_count": 61,
   "metadata": {},
   "outputs": [
    {
     "data": {
      "text/plain": [
       "['biotech',\n",
       " 'firm',\n",
       " 'novavax',\n",
       " 'announced',\n",
       " 'buying',\n",
       " 'czech',\n",
       " 'republicbased',\n",
       " 'praha',\n",
       " 'vaccine',\n",
       " 'unit']"
      ]
     },
     "execution_count": 61,
     "metadata": {},
     "output_type": "execute_result"
    }
   ],
   "source": [
    "# create a bag of words or list with every word from every observation\n",
    "\n",
    "bow = ' '.join(df_lem.text).split(' ')\n",
    "bow[:10]"
   ]
  },
  {
   "cell_type": "code",
   "execution_count": null,
   "metadata": {},
   "outputs": [],
   "source": [
    "# create lists of uni-, bi-, and trigrams\n",
    "\n",
    "unigrams = list(ngrams(bow, 1))\n",
    "bigrams = list(ngrams(bow, 2))\n",
    "trigrams = list(ngrams(bow, 3))"
   ]
  },
  {
   "cell_type": "code",
   "execution_count": 71,
   "metadata": {},
   "outputs": [
    {
     "data": {
      "text/plain": [
       "dict_keys(['unigrams', 'bigrams', 'trigrams'])"
      ]
     },
     "execution_count": 71,
     "metadata": {},
     "output_type": "execute_result"
    }
   ],
   "source": [
    "# create a dictionary holding the uni-, bi-, and trigrams from our bow\n",
    "\n",
    "grams_dict = {'unigrams': unigrams, 'bigrams': bigrams, 'trigrams': trigrams}\n",
    "grams_dict.keys()"
   ]
  },
  {
   "cell_type": "markdown",
   "metadata": {},
   "source": [
    "#### Create N-grams Function"
   ]
  },
  {
   "cell_type": "code",
   "execution_count": 72,
   "metadata": {},
   "outputs": [],
   "source": [
    "def grab_ngrams(df, col):\n",
    "    '''\n",
    "    This function takes in a df and a string name for a column, creates\n",
    "    a bag of words by combining the words in all of the observations, and\n",
    "    returns a dictionary holding all uni-, bi-, and trigrams.\n",
    "    '''\n",
    "    # create our corpus or bag of words\n",
    "    bow = ' '.join(df[col]).split(' ')\n",
    "    \n",
    "    # create lists of uni-, bi-, and trigrams\n",
    "    unigrams = list(ngrams(bow, 1))\n",
    "    bigrams = list(ngrams(bow, 2))\n",
    "    trigrams = list(ngrams(bow, 3))\n",
    "    \n",
    "    # create a dictionary holding the uni-, bi-, and trigrams from our bow\n",
    "    grams_dict = {'unigrams': unigrams, 'bigrams': bigrams, 'trigrams': trigrams}\n",
    "    \n",
    "    return grams_dict"
   ]
  },
  {
   "cell_type": "code",
   "execution_count": 73,
   "metadata": {},
   "outputs": [
    {
     "data": {
      "text/plain": [
       "dict_keys(['unigrams', 'bigrams', 'trigrams'])"
      ]
     },
     "execution_count": 73,
     "metadata": {},
     "output_type": "execute_result"
    }
   ],
   "source": [
    "ngrams_dict = grab_ngrams(df_lem, 'text')\n",
    "ngrams_dict.keys()"
   ]
  },
  {
   "cell_type": "markdown",
   "metadata": {},
   "source": [
    "#### Visualize N-grams"
   ]
  },
  {
   "cell_type": "code",
   "execution_count": 85,
   "metadata": {},
   "outputs": [
    {
     "data": {
      "text/plain": [
       "(added,)          33\n",
       "(billion,)        23\n",
       "(india,)          22\n",
       "(company,)        19\n",
       "(time,)           18\n",
       "(platform,)       17\n",
       "(user,)           15\n",
       "(film,)           15\n",
       "(year,)           15\n",
       "(jio,)            14\n",
       "(facebook,)       14\n",
       "(investment,)     14\n",
       "(twitter,)        13\n",
       "(coronavirus,)    13\n",
       "(google,)         13\n",
       "(cricket,)        12\n",
       "(ceo,)            12\n",
       "(report,)         12\n",
       "(orbit,)          11\n",
       "(captain,)        11\n",
       "dtype: int64"
      ]
     },
     "execution_count": 85,
     "metadata": {},
     "output_type": "execute_result"
    }
   ],
   "source": [
    "pd.Series(ngrams_dict['unigrams']).value_counts().head(20)"
   ]
  },
  {
   "cell_type": "code",
   "execution_count": 86,
   "metadata": {},
   "outputs": [
    {
     "data": {
      "text/plain": [
       "(social, medium)           8\n",
       "(coronavirus, pandemic)    8\n",
       "(virgin, orbit)            6\n",
       "(elon, musk)               6\n",
       "(jio, platform)            6\n",
       "(medium, platform)         5\n",
       "(nasa, astronaut)          5\n",
       "(raised, billion)          5\n",
       "(president, donald)        5\n",
       "(reliance, industry)       5\n",
       "(donald, trump)            5\n",
       "(spacex, ceo)              4\n",
       "(billion, month)           4\n",
       "(vodafone, idea)           4\n",
       "(ceo, elon)                4\n",
       "(jio, raised)              4\n",
       "(added, factcheck)         4\n",
       "(amid, coronavirus)        4\n",
       "(twitter, added)           4\n",
       "(lakh, crore)              4\n",
       "dtype: int64"
      ]
     },
     "execution_count": 86,
     "metadata": {},
     "output_type": "execute_result"
    }
   ],
   "source": [
    "pd.Series(ngrams_dict['bigrams']).value_counts().head(20)"
   ]
  },
  {
   "cell_type": "code",
   "execution_count": 79,
   "metadata": {},
   "outputs": [],
   "source": [
    "top_10_unigrams = ngrams_dict['unigrams'][:10]\n",
    "top_10_bigrams = ngrams_dict['bigrams'][:10]\n",
    "top_10_trigrams = ngrams_dict['trigrams'][:10]"
   ]
  },
  {
   "cell_type": "code",
   "execution_count": null,
   "metadata": {},
   "outputs": [],
   "source": []
  },
  {
   "cell_type": "markdown",
   "metadata": {},
   "source": [
    "### Create a Series for  Corpus of Words by Topic Label\n",
    "\n",
    "Creating the Corpus from our text means that we are making a large combined list of all of the tokens/words from all of our documents. In our context, that means that we will join all of the text from each row of a column into a long list of words, and then rejoin those words into long strings of words separated by spaces."
   ]
  },
  {
   "cell_type": "code",
   "execution_count": 80,
   "metadata": {},
   "outputs": [
    {
     "data": {
      "text/plain": [
       "['u',\n",
       " 'biotech',\n",
       " 'company',\n",
       " 'novavax',\n",
       " 'said',\n",
       " 'ha',\n",
       " 'started',\n",
       " 'phase',\n",
       " '',\n",
       " 'clinical']"
      ]
     },
     "execution_count": 80,
     "metadata": {},
     "output_type": "execute_result"
    }
   ],
   "source": [
    "business_words = ' '.join(df_lem[df_lem.label == 'business'].no_num_text).split(' ')\n",
    "business_words[:10]"
   ]
  },
  {
   "cell_type": "code",
   "execution_count": 81,
   "metadata": {},
   "outputs": [
    {
     "data": {
      "text/plain": [
       "['south',\n",
       " 'indian',\n",
       " 'actor',\n",
       " 'prithviraj',\n",
       " 'sukumaran',\n",
       " 'today',\n",
       " 'shared',\n",
       " 'picture',\n",
       " 'physical',\n",
       " 'transformation']"
      ]
     },
     "execution_count": 81,
     "metadata": {},
     "output_type": "execute_result"
    }
   ],
   "source": [
    "entertainment_words = ' '.join(df_lem[df_lem.label == 'entertainment'].no_num_text).split(' ')\n",
    "entertainment_words[:10]"
   ]
  },
  {
   "cell_type": "code",
   "execution_count": 82,
   "metadata": {},
   "outputs": [
    {
     "data": {
      "text/plain": [
       "['exindia',\n",
       " 'captain',\n",
       " 'rahul',\n",
       " 'dravid',\n",
       " 'ha',\n",
       " 'said',\n",
       " 'idea',\n",
       " 'creating',\n",
       " 'biosecure',\n",
       " 'environment']"
      ]
     },
     "execution_count": 82,
     "metadata": {},
     "output_type": "execute_result"
    }
   ],
   "source": [
    "sports_words = ' '.join(df_lem[df_lem.label == 'sports'].no_num_text).split(' ')\n",
    "sports_words[:10]"
   ]
  },
  {
   "cell_type": "code",
   "execution_count": 83,
   "metadata": {},
   "outputs": [
    {
     "data": {
      "text/plain": [
       "['former',\n",
       " 'nasa',\n",
       " 'apple',\n",
       " 'engineer',\n",
       " 'mark',\n",
       " 'rober',\n",
       " 'built',\n",
       " 'elaborate',\n",
       " 'obstacle',\n",
       " 'course']"
      ]
     },
     "execution_count": 83,
     "metadata": {},
     "output_type": "execute_result"
    }
   ],
   "source": [
    "technology_words = ' '.join(df_lem[df_lem.label == 'technology'].no_num_text).split(' ')\n",
    "technology_words[:10]"
   ]
  },
  {
   "cell_type": "code",
   "execution_count": 84,
   "metadata": {},
   "outputs": [
    {
     "data": {
      "text/plain": [
       "['u',\n",
       " 'biotech',\n",
       " 'company',\n",
       " 'novavax',\n",
       " 'said',\n",
       " 'ha',\n",
       " 'started',\n",
       " 'phase',\n",
       " '',\n",
       " 'clinical']"
      ]
     },
     "execution_count": 84,
     "metadata": {},
     "output_type": "execute_result"
    }
   ],
   "source": [
    "all_words = ' '.join(df_lem.no_num_text).split(' ')\n",
    "all_words[:10]"
   ]
  },
  {
   "cell_type": "markdown",
   "metadata": {},
   "source": [
    "### Create a Series of Word Frequencies for Each Topic Label\n",
    "\n",
    "- Here I can see that I still have words and empty strings that are adding noise to my text data. I want to remove some of this noise at this point.\n",
    "\n",
    "Words that add nothing to the meaning:\n",
    "\n",
    "- empty strings `''`\n",
    "\n",
    "- said\n",
    "\n",
    "- ha\n",
    "\n",
    "- wa"
   ]
  },
  {
   "cell_type": "code",
   "execution_count": 90,
   "metadata": {},
   "outputs": [
    {
     "data": {
      "text/plain": [
       "           70\n",
       "said       26\n",
       "ha         19\n",
       "india      16\n",
       "company    15\n",
       "dtype: int64"
      ]
     },
     "execution_count": 90,
     "metadata": {},
     "output_type": "execute_result"
    }
   ],
   "source": [
    "# I have a frequency of 70 for an empty string\n",
    "\n",
    "business_freq = pd.Series(business_words).value_counts()\n",
    "business_freq.head()"
   ]
  },
  {
   "cell_type": "code",
   "execution_count": 95,
   "metadata": {},
   "outputs": [],
   "source": [
    "# I'm going to get rid of the empty string noise here\n",
    "\n",
    "df.no_num_text.replace()"
   ]
  },
  {
   "cell_type": "code",
   "execution_count": 96,
   "metadata": {},
   "outputs": [
    {
     "data": {
      "text/plain": [
       "said       26\n",
       "ha         19\n",
       "india      16\n",
       "company    15\n",
       "share       9\n",
       "dtype: int64"
      ]
     },
     "execution_count": 96,
     "metadata": {},
     "output_type": "execute_result"
    }
   ],
   "source": [
    "# I'm checking that they're gone\n",
    "\n",
    "business_freq.head()"
   ]
  },
  {
   "cell_type": "code",
   "execution_count": 91,
   "metadata": {},
   "outputs": [
    {
     "data": {
      "text/plain": [
       "bloomberg     1\n",
       "founded       1\n",
       "member        1\n",
       "completely    1\n",
       "singtel       1\n",
       "dtype: int64"
      ]
     },
     "execution_count": 91,
     "metadata": {},
     "output_type": "execute_result"
    }
   ],
   "source": [
    "business_freq.tail()"
   ]
  },
  {
   "cell_type": "code",
   "execution_count": 88,
   "metadata": {},
   "outputs": [
    {
     "data": {
      "text/plain": [
       "said     23\n",
       "wa       22\n",
       "ha       16\n",
       "film     16\n",
       "added    12\n",
       "dtype: int64"
      ]
     },
     "execution_count": 88,
     "metadata": {},
     "output_type": "execute_result"
    }
   ],
   "source": [
    "entertainment_freq = pd.Series(entertainment_words).value_counts()\n",
    "entertainment_freq.head()"
   ]
  },
  {
   "cell_type": "code",
   "execution_count": 89,
   "metadata": {},
   "outputs": [
    {
     "data": {
      "text/plain": [
       "distress      1\n",
       "yelled        1\n",
       "decided       1\n",
       "try           1\n",
       "togetherso    1\n",
       "dtype: int64"
      ]
     },
     "execution_count": 89,
     "metadata": {},
     "output_type": "execute_result"
    }
   ],
   "source": [
    "entertainment_freq.tail()"
   ]
  },
  {
   "cell_type": "code",
   "execution_count": 97,
   "metadata": {},
   "outputs": [
    {
     "data": {
      "text/plain": [
       "ha      20\n",
       "        18\n",
       "said    15\n",
       "test    14\n",
       "wa      12\n",
       "dtype: int64"
      ]
     },
     "execution_count": 97,
     "metadata": {},
     "output_type": "execute_result"
    }
   ],
   "source": [
    "sports_freq = pd.Series(sports_words).value_counts()\n",
    "sports_freq.head()"
   ]
  },
  {
   "cell_type": "code",
   "execution_count": 98,
   "metadata": {},
   "outputs": [
    {
     "data": {
      "text/plain": [
       "stintsi     1\n",
       "speaking    1\n",
       "probably    1\n",
       "round       1\n",
       "crease      1\n",
       "dtype: int64"
      ]
     },
     "execution_count": 98,
     "metadata": {},
     "output_type": "execute_result"
    }
   ],
   "source": [
    "sports_freq.tail()"
   ]
  },
  {
   "cell_type": "code",
   "execution_count": null,
   "metadata": {},
   "outputs": [],
   "source": [
    "technology_freq = pd.Series(technology_words).value_counts()"
   ]
  },
  {
   "cell_type": "code",
   "execution_count": 56,
   "metadata": {},
   "outputs": [],
   "source": [
    "all_freq = pd.Series(all_words).value_counts()"
   ]
  },
  {
   "cell_type": "markdown",
   "metadata": {},
   "source": [
    "## Remove More Stopwords"
   ]
  },
  {
   "cell_type": "code",
   "execution_count": 126,
   "metadata": {},
   "outputs": [],
   "source": [
    "def remove_stopwords(df, col):\n",
    "    '''\n",
    "    This function takes in a df and a string for column name and \n",
    "    returns the df with a new column named 'clean' with stopwords removed.\n",
    "    '''\n",
    "    # Create stopword_list\n",
    "    stopword_list = stopwords.words('english')\n",
    "    stopword_list.extend(['', 'ha', 'wa', 'said', 'u'])\n",
    "    \n",
    "    # Split words in column\n",
    "    words = df[col].str.split()\n",
    "    \n",
    "    # Check each word in each row of the column against stopword_list and return only those that are not in list\n",
    "    filtered_words = words.apply(lambda row: [word for word in row if word not in stopword_list])\n",
    "    \n",
    "    # Create new column of words that have stopwords removed\n",
    "    df['clean_' + col] = filtered_words.str.join(' ')\n",
    "    \n",
    "    return df"
   ]
  },
  {
   "cell_type": "code",
   "execution_count": 127,
   "metadata": {},
   "outputs": [
    {
     "data": {
      "text/html": [
       "<div>\n",
       "<style scoped>\n",
       "    .dataframe tbody tr th:only-of-type {\n",
       "        vertical-align: middle;\n",
       "    }\n",
       "\n",
       "    .dataframe tbody tr th {\n",
       "        vertical-align: top;\n",
       "    }\n",
       "\n",
       "    .dataframe thead th {\n",
       "        text-align: right;\n",
       "    }\n",
       "</style>\n",
       "<table border=\"1\" class=\"dataframe\">\n",
       "  <thead>\n",
       "    <tr style=\"text-align: right;\">\n",
       "      <th></th>\n",
       "      <th>label</th>\n",
       "      <th>text</th>\n",
       "      <th>no_num_text</th>\n",
       "      <th>clean_no_num_text</th>\n",
       "    </tr>\n",
       "  </thead>\n",
       "  <tbody>\n",
       "    <tr>\n",
       "      <th>0</th>\n",
       "      <td>business</td>\n",
       "      <td>u biotech company novavax said ha started phas...</td>\n",
       "      <td>u biotech company novavax said ha started phas...</td>\n",
       "      <td>biotech company novavax started phase clinical...</td>\n",
       "    </tr>\n",
       "    <tr>\n",
       "      <th>1</th>\n",
       "      <td>business</td>\n",
       "      <td>india economy estimated grown 12 quarter ended...</td>\n",
       "      <td>india economy estimated grown  quarter ended m...</td>\n",
       "      <td>india economy estimated grown quarter ended ma...</td>\n",
       "    </tr>\n",
       "    <tr>\n",
       "      <th>2</th>\n",
       "      <td>business</td>\n",
       "      <td>tv motor company ha said cutting salary employ...</td>\n",
       "      <td>tv motor company ha said cutting salary employ...</td>\n",
       "      <td>tv motor company cutting salary employee six m...</td>\n",
       "    </tr>\n",
       "    <tr>\n",
       "      <th>3</th>\n",
       "      <td>business</td>\n",
       "      <td>mahindra group chairman anand mahindra said lo...</td>\n",
       "      <td>mahindra group chairman anand mahindra said lo...</td>\n",
       "      <td>mahindra group chairman anand mahindra lockdow...</td>\n",
       "    </tr>\n",
       "    <tr>\n",
       "      <th>4</th>\n",
       "      <td>business</td>\n",
       "      <td>uber firing 600 employee india 25 workforce co...</td>\n",
       "      <td>uber firing  employee india  workforce country...</td>\n",
       "      <td>uber firing employee india workforce country a...</td>\n",
       "    </tr>\n",
       "  </tbody>\n",
       "</table>\n",
       "</div>"
      ],
      "text/plain": [
       "      label                                               text  \\\n",
       "0  business  u biotech company novavax said ha started phas...   \n",
       "1  business  india economy estimated grown 12 quarter ended...   \n",
       "2  business  tv motor company ha said cutting salary employ...   \n",
       "3  business  mahindra group chairman anand mahindra said lo...   \n",
       "4  business  uber firing 600 employee india 25 workforce co...   \n",
       "\n",
       "                                         no_num_text  \\\n",
       "0  u biotech company novavax said ha started phas...   \n",
       "1  india economy estimated grown  quarter ended m...   \n",
       "2  tv motor company ha said cutting salary employ...   \n",
       "3  mahindra group chairman anand mahindra said lo...   \n",
       "4  uber firing  employee india  workforce country...   \n",
       "\n",
       "                                   clean_no_num_text  \n",
       "0  biotech company novavax started phase clinical...  \n",
       "1  india economy estimated grown quarter ended ma...  \n",
       "2  tv motor company cutting salary employee six m...  \n",
       "3  mahindra group chairman anand mahindra lockdow...  \n",
       "4  uber firing employee india workforce country a...  "
      ]
     },
     "execution_count": 127,
     "metadata": {},
     "output_type": "execute_result"
    }
   ],
   "source": [
    "df = remove_stopwords(df_lem, 'no_num_text')\n",
    "df.head()"
   ]
  },
  {
   "cell_type": "code",
   "execution_count": null,
   "metadata": {},
   "outputs": [],
   "source": []
  },
  {
   "cell_type": "markdown",
   "metadata": {},
   "source": [
    "### Create df of Word Frequencies for Each Subset Above"
   ]
  },
  {
   "cell_type": "code",
   "execution_count": 57,
   "metadata": {},
   "outputs": [
    {
     "data": {
      "text/html": [
       "<div>\n",
       "<style scoped>\n",
       "    .dataframe tbody tr th:only-of-type {\n",
       "        vertical-align: middle;\n",
       "    }\n",
       "\n",
       "    .dataframe tbody tr th {\n",
       "        vertical-align: top;\n",
       "    }\n",
       "\n",
       "    .dataframe thead th {\n",
       "        text-align: right;\n",
       "    }\n",
       "</style>\n",
       "<table border=\"1\" class=\"dataframe\">\n",
       "  <thead>\n",
       "    <tr style=\"text-align: right;\">\n",
       "      <th></th>\n",
       "      <th>all</th>\n",
       "      <th>business</th>\n",
       "      <th>entertainment</th>\n",
       "      <th>sports</th>\n",
       "      <th>technology</th>\n",
       "    </tr>\n",
       "  </thead>\n",
       "  <tbody>\n",
       "    <tr>\n",
       "      <th>1</th>\n",
       "      <td>3</td>\n",
       "      <td>0</td>\n",
       "      <td>0</td>\n",
       "      <td>0</td>\n",
       "      <td>3</td>\n",
       "    </tr>\n",
       "    <tr>\n",
       "      <th>10</th>\n",
       "      <td>3</td>\n",
       "      <td>0</td>\n",
       "      <td>1</td>\n",
       "      <td>1</td>\n",
       "      <td>5</td>\n",
       "    </tr>\n",
       "    <tr>\n",
       "      <th>100</th>\n",
       "      <td>1</td>\n",
       "      <td>0</td>\n",
       "      <td>0</td>\n",
       "      <td>1</td>\n",
       "      <td>2</td>\n",
       "    </tr>\n",
       "    <tr>\n",
       "      <th>1000</th>\n",
       "      <td>1</td>\n",
       "      <td>0</td>\n",
       "      <td>0</td>\n",
       "      <td>1</td>\n",
       "      <td>2</td>\n",
       "    </tr>\n",
       "    <tr>\n",
       "      <th>10000</th>\n",
       "      <td>0</td>\n",
       "      <td>0</td>\n",
       "      <td>1</td>\n",
       "      <td>0</td>\n",
       "      <td>1</td>\n",
       "    </tr>\n",
       "  </tbody>\n",
       "</table>\n",
       "</div>"
      ],
      "text/plain": [
       "       all  business  entertainment  sports  technology\n",
       "1        3         0              0       0           3\n",
       "10       3         0              1       1           5\n",
       "100      1         0              0       1           2\n",
       "1000     1         0              0       1           2\n",
       "10000    0         0              1       0           1"
      ]
     },
     "execution_count": 57,
     "metadata": {},
     "output_type": "execute_result"
    }
   ],
   "source": [
    "word_counts = (pd.concat([business_freq, entertainment_freq, sports_freq, technology_freq, all_freq], axis=1, sort=True)\n",
    "              .set_axis(['all', 'business', 'entertainment', 'sports', 'technology'], axis=1, inplace=False)\n",
    "              .fillna(0)\n",
    "              .apply(lambda s: s.astype(int)))\n",
    "\n",
    "word_counts.head()"
   ]
  },
  {
   "cell_type": "code",
   "execution_count": 122,
   "metadata": {},
   "outputs": [
    {
     "data": {
      "text/html": [
       "<div>\n",
       "<style scoped>\n",
       "    .dataframe tbody tr th:only-of-type {\n",
       "        vertical-align: middle;\n",
       "    }\n",
       "\n",
       "    .dataframe tbody tr th {\n",
       "        vertical-align: top;\n",
       "    }\n",
       "\n",
       "    .dataframe thead th {\n",
       "        text-align: right;\n",
       "    }\n",
       "</style>\n",
       "<table border=\"1\" class=\"dataframe\">\n",
       "  <thead>\n",
       "    <tr style=\"text-align: right;\">\n",
       "      <th></th>\n",
       "      <th>all</th>\n",
       "      <th>business</th>\n",
       "      <th>entertainment</th>\n",
       "      <th>sports</th>\n",
       "      <th>technology</th>\n",
       "    </tr>\n",
       "  </thead>\n",
       "  <tbody>\n",
       "    <tr>\n",
       "      <th>ha</th>\n",
       "      <td>19</td>\n",
       "      <td>16</td>\n",
       "      <td>20</td>\n",
       "      <td>14</td>\n",
       "      <td>69</td>\n",
       "    </tr>\n",
       "    <tr>\n",
       "      <th>said</th>\n",
       "      <td>26</td>\n",
       "      <td>23</td>\n",
       "      <td>15</td>\n",
       "      <td>13</td>\n",
       "      <td>77</td>\n",
       "    </tr>\n",
       "    <tr>\n",
       "      <th>million</th>\n",
       "      <td>9</td>\n",
       "      <td>0</td>\n",
       "      <td>0</td>\n",
       "      <td>10</td>\n",
       "      <td>19</td>\n",
       "    </tr>\n",
       "    <tr>\n",
       "      <th>share</th>\n",
       "      <td>9</td>\n",
       "      <td>1</td>\n",
       "      <td>1</td>\n",
       "      <td>9</td>\n",
       "      <td>20</td>\n",
       "    </tr>\n",
       "    <tr>\n",
       "      <th>company</th>\n",
       "      <td>15</td>\n",
       "      <td>1</td>\n",
       "      <td>0</td>\n",
       "      <td>8</td>\n",
       "      <td>24</td>\n",
       "    </tr>\n",
       "    <tr>\n",
       "      <th>wa</th>\n",
       "      <td>4</td>\n",
       "      <td>22</td>\n",
       "      <td>12</td>\n",
       "      <td>7</td>\n",
       "      <td>45</td>\n",
       "    </tr>\n",
       "    <tr>\n",
       "      <th>user</th>\n",
       "      <td>0</td>\n",
       "      <td>1</td>\n",
       "      <td>0</td>\n",
       "      <td>6</td>\n",
       "      <td>7</td>\n",
       "    </tr>\n",
       "    <tr>\n",
       "      <th>ceo</th>\n",
       "      <td>7</td>\n",
       "      <td>0</td>\n",
       "      <td>2</td>\n",
       "      <td>5</td>\n",
       "      <td>14</td>\n",
       "    </tr>\n",
       "    <tr>\n",
       "      <th>may</th>\n",
       "      <td>6</td>\n",
       "      <td>0</td>\n",
       "      <td>1</td>\n",
       "      <td>5</td>\n",
       "      <td>12</td>\n",
       "    </tr>\n",
       "    <tr>\n",
       "      <th>new</th>\n",
       "      <td>3</td>\n",
       "      <td>0</td>\n",
       "      <td>1</td>\n",
       "      <td>5</td>\n",
       "      <td>9</td>\n",
       "    </tr>\n",
       "    <tr>\n",
       "      <th>google</th>\n",
       "      <td>0</td>\n",
       "      <td>0</td>\n",
       "      <td>0</td>\n",
       "      <td>5</td>\n",
       "      <td>5</td>\n",
       "    </tr>\n",
       "    <tr>\n",
       "      <th>report</th>\n",
       "      <td>1</td>\n",
       "      <td>1</td>\n",
       "      <td>0</td>\n",
       "      <td>4</td>\n",
       "      <td>6</td>\n",
       "    </tr>\n",
       "    <tr>\n",
       "      <th>come</th>\n",
       "      <td>2</td>\n",
       "      <td>1</td>\n",
       "      <td>4</td>\n",
       "      <td>4</td>\n",
       "      <td>11</td>\n",
       "    </tr>\n",
       "    <tr>\n",
       "      <th>covid19</th>\n",
       "      <td>6</td>\n",
       "      <td>0</td>\n",
       "      <td>0</td>\n",
       "      <td>4</td>\n",
       "      <td>10</td>\n",
       "    </tr>\n",
       "    <tr>\n",
       "      <th>would</th>\n",
       "      <td>1</td>\n",
       "      <td>4</td>\n",
       "      <td>2</td>\n",
       "      <td>4</td>\n",
       "      <td>11</td>\n",
       "    </tr>\n",
       "    <tr>\n",
       "      <th>launch</th>\n",
       "      <td>0</td>\n",
       "      <td>0</td>\n",
       "      <td>0</td>\n",
       "      <td>4</td>\n",
       "      <td>4</td>\n",
       "    </tr>\n",
       "    <tr>\n",
       "      <th>rocket</th>\n",
       "      <td>0</td>\n",
       "      <td>0</td>\n",
       "      <td>0</td>\n",
       "      <td>4</td>\n",
       "      <td>4</td>\n",
       "    </tr>\n",
       "    <tr>\n",
       "      <th>government</th>\n",
       "      <td>1</td>\n",
       "      <td>0</td>\n",
       "      <td>1</td>\n",
       "      <td>4</td>\n",
       "      <td>6</td>\n",
       "    </tr>\n",
       "    <tr>\n",
       "      <th>system</th>\n",
       "      <td>0</td>\n",
       "      <td>0</td>\n",
       "      <td>0</td>\n",
       "      <td>4</td>\n",
       "      <td>4</td>\n",
       "    </tr>\n",
       "    <tr>\n",
       "      <th>u</th>\n",
       "      <td>9</td>\n",
       "      <td>3</td>\n",
       "      <td>0</td>\n",
       "      <td>4</td>\n",
       "      <td>16</td>\n",
       "    </tr>\n",
       "  </tbody>\n",
       "</table>\n",
       "</div>"
      ],
      "text/plain": [
       "            all  business  entertainment  sports  technology\n",
       "ha           19        16             20      14          69\n",
       "said         26        23             15      13          77\n",
       "million       9         0              0      10          19\n",
       "share         9         1              1       9          20\n",
       "company      15         1              0       8          24\n",
       "wa            4        22             12       7          45\n",
       "user          0         1              0       6           7\n",
       "ceo           7         0              2       5          14\n",
       "may           6         0              1       5          12\n",
       "new           3         0              1       5           9\n",
       "google        0         0              0       5           5\n",
       "report        1         1              0       4           6\n",
       "come          2         1              4       4          11\n",
       "covid19       6         0              0       4          10\n",
       "would         1         4              2       4          11\n",
       "launch        0         0              0       4           4\n",
       "rocket        0         0              0       4           4\n",
       "government    1         0              1       4           6\n",
       "system        0         0              0       4           4\n",
       "u             9         3              0       4          16"
      ]
     },
     "execution_count": 122,
     "metadata": {},
     "output_type": "execute_result"
    }
   ],
   "source": [
    "word_counts.sort_values(by='sports', ascending=False).head(20)"
   ]
  },
  {
   "cell_type": "markdown",
   "metadata": {},
   "source": [
    "### Search for Topic-specific Words"
   ]
  },
  {
   "cell_type": "code",
   "execution_count": 117,
   "metadata": {},
   "outputs": [
    {
     "data": {
      "text/html": [
       "<div>\n",
       "<style scoped>\n",
       "    .dataframe tbody tr th:only-of-type {\n",
       "        vertical-align: middle;\n",
       "    }\n",
       "\n",
       "    .dataframe tbody tr th {\n",
       "        vertical-align: top;\n",
       "    }\n",
       "\n",
       "    .dataframe thead th {\n",
       "        text-align: right;\n",
       "    }\n",
       "</style>\n",
       "<table border=\"1\" class=\"dataframe\">\n",
       "  <thead>\n",
       "    <tr style=\"text-align: right;\">\n",
       "      <th></th>\n",
       "      <th>all</th>\n",
       "      <th>business</th>\n",
       "      <th>entertainment</th>\n",
       "      <th>sports</th>\n",
       "      <th>technology</th>\n",
       "    </tr>\n",
       "  </thead>\n",
       "  <tbody>\n",
       "    <tr>\n",
       "      <th>zealand</th>\n",
       "      <td>0</td>\n",
       "      <td>0</td>\n",
       "      <td>1</td>\n",
       "      <td>0</td>\n",
       "      <td>1</td>\n",
       "    </tr>\n",
       "    <tr>\n",
       "      <th>zhao</th>\n",
       "      <td>1</td>\n",
       "      <td>0</td>\n",
       "      <td>0</td>\n",
       "      <td>0</td>\n",
       "      <td>1</td>\n",
       "    </tr>\n",
       "    <tr>\n",
       "      <th>zing</th>\n",
       "      <td>0</td>\n",
       "      <td>0</td>\n",
       "      <td>2</td>\n",
       "      <td>0</td>\n",
       "      <td>2</td>\n",
       "    </tr>\n",
       "    <tr>\n",
       "      <th>zoho</th>\n",
       "      <td>0</td>\n",
       "      <td>0</td>\n",
       "      <td>0</td>\n",
       "      <td>1</td>\n",
       "      <td>1</td>\n",
       "    </tr>\n",
       "    <tr>\n",
       "      <th>zoom</th>\n",
       "      <td>0</td>\n",
       "      <td>0</td>\n",
       "      <td>0</td>\n",
       "      <td>2</td>\n",
       "      <td>2</td>\n",
       "    </tr>\n",
       "  </tbody>\n",
       "</table>\n",
       "</div>"
      ],
      "text/plain": [
       "         all  business  entertainment  sports  technology\n",
       "zealand    0         0              1       0           1\n",
       "zhao       1         0              0       0           1\n",
       "zing       0         0              2       0           2\n",
       "zoho       0         0              0       1           1\n",
       "zoom       0         0              0       2           2"
      ]
     },
     "execution_count": 117,
     "metadata": {},
     "output_type": "execute_result"
    }
   ],
   "source": [
    "word_counts[word_counts.business == 0].tail()"
   ]
  },
  {
   "cell_type": "code",
   "execution_count": 72,
   "metadata": {},
   "outputs": [
    {
     "data": {
      "text/html": [
       "<div>\n",
       "<style scoped>\n",
       "    .dataframe tbody tr th:only-of-type {\n",
       "        vertical-align: middle;\n",
       "    }\n",
       "\n",
       "    .dataframe tbody tr th {\n",
       "        vertical-align: top;\n",
       "    }\n",
       "\n",
       "    .dataframe thead th {\n",
       "        text-align: right;\n",
       "    }\n",
       "</style>\n",
       "<table border=\"1\" class=\"dataframe\">\n",
       "  <thead>\n",
       "    <tr style=\"text-align: right;\">\n",
       "      <th></th>\n",
       "      <th>all</th>\n",
       "      <th>business</th>\n",
       "      <th>entertainment</th>\n",
       "      <th>sports</th>\n",
       "      <th>technology</th>\n",
       "    </tr>\n",
       "  </thead>\n",
       "  <tbody>\n",
       "  </tbody>\n",
       "</table>\n",
       "</div>"
      ],
      "text/plain": [
       "Empty DataFrame\n",
       "Columns: [all, business, entertainment, sports, technology]\n",
       "Index: []"
      ]
     },
     "execution_count": 72,
     "metadata": {},
     "output_type": "execute_result"
    }
   ],
   "source": [
    "word_counts[(\n",
    "            (word_counts.business == 0) & \n",
    "            (word_counts.sports == 0) &\n",
    "            (word_counts.technology == 0))]"
   ]
  },
  {
   "cell_type": "markdown",
   "metadata": {},
   "source": [
    "### Word Clouds!"
   ]
  },
  {
   "cell_type": "code",
   "execution_count": 115,
   "metadata": {},
   "outputs": [],
   "source": [
    "business_cloud = WordCloud(height=1000, width=1400).generate(' '.join(business_words))\n",
    "technology_cloud = WordCloud(height=1000, width=1400).generate(' '.join(technology_words))"
   ]
  },
  {
   "cell_type": "code",
   "execution_count": 113,
   "metadata": {},
   "outputs": [
    {
     "data": {
      "image/png": "[encoded data removed]",
      "text/plain": [
       "<Figure size 432x288 with 1 Axes>"
      ]
     },
     "metadata": {
      "needs_background": "light"
     },
     "output_type": "display_data"
    }
   ],
   "source": [
    "plt.imshow(business_cloud)\n",
    "plt.axis('off')\n",
    "plt.show()"
   ]
  },
  {
   "cell_type": "code",
   "execution_count": 116,
   "metadata": {},
   "outputs": [
    {
     "data": {
      "image/png": "[encoded data removed]",
      "text/plain": [
       "<Figure size 432x288 with 1 Axes>"
      ]
     },
     "metadata": {
      "needs_background": "light"
     },
     "output_type": "display_data"
    }
   ],
   "source": [
    "plt.imshow(technology_cloud)\n",
    "plt.axis('off')\n",
    "plt.show()"
   ]
  },
  {
   "cell_type": "code",
   "execution_count": null,
   "metadata": {},
   "outputs": [],
   "source": []
  }
 ],
 "metadata": {
  "kernelspec": {
   "display_name": "Python 3",
   "language": "python",
   "name": "python3"
  },
  "language_info": {
   "codemirror_mode": {
    "name": "ipython",
    "version": 3
   },
   "file_extension": ".py",
   "mimetype": "text/x-python",
   "name": "python",
   "nbconvert_exporter": "python",
   "pygments_lexer": "ipython3",
   "version": "3.7.4"
  },
  "toc": {
   "base_numbering": 1,
   "nav_menu": {},
   "number_sections": true,
   "sideBar": true,
   "skip_h1_title": true,
   "title_cell": "Table of Contents",
   "title_sidebar": "Contents",
   "toc_cell": true,
   "toc_position": {},
   "toc_section_display": true,
   "toc_window_display": false
  }
 },
 "nbformat": 4,
 "nbformat_minor": 4
}

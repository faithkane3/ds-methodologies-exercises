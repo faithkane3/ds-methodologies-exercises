{
 "cells": [
  {
   "cell_type": "markdown",
   "metadata": {},
   "source": [
    "# Data Acquistion"
   ]
  },
  {
   "cell_type": "markdown",
   "metadata": {},
   "source": [
    "- Manually explore the site in a web browser, and identify the relevant HTML elements.\n",
    "\n",
    "\n",
    "- Use the requests module to obtain the HTML from the page.\n",
    "\n",
    "\n",
    "- Use BeautifulSoup to parse the HTML and obtain the text/data that we want.\n",
    "\n",
    "\n",
    "- (Maybe) Script the process of requesting another page and parsing the data from it as well.\n",
    "\n",
    "\n",
    "- Take this data further down the data science pipeline.\n"
   ]
  },
  {
   "cell_type": "markdown",
   "metadata": {},
   "source": [
    "## Steps\n",
    "\n",
    "- Import the get() function from the requests module, BeautifulSoup from bs4, and pandas.\n",
    "\n",
    "\n",
    "- Assign the address of the web page to a variable named url.\n",
    "\n",
    "\n",
    "- Request the server the content of the web page by using get(), and store the server’s response in the variable response.\n",
    "\n",
    "\n",
    "- Print the response text to ensure you have an html page.\n",
    "\n",
    "\n",
    "- Take a look at the actual web page contents and inspect the source to understand the structure a bit.\n",
    "\n",
    "\n",
    "- Use BeautifulSoup to parse the HTML into a variable ('soup').\n",
    "\n",
    "\n",
    "- Identify the key tags you need to extract the data you are looking for.\n",
    "\n",
    "\n",
    "- Create a dataframe of the data desired.\n",
    "\n",
    "\n",
    "- Run some summary stats and inspect the data to ensure you have what you wanted.\n",
    "\n",
    "\n",
    "- Edit the data structure as needed, especially so that one column has all the text you want included in this analysis.\n",
    "\n",
    "\n",
    "- Create a corpus of the column with the text you want to analyze.\n",
    "Store that corpus for use in a future notebook."
   ]
  },
  {
   "cell_type": "markdown",
   "metadata": {},
   "source": [
    "# Select\n",
    "\n",
    "- returns a list, even if an empty list\n",
    "\n",
    "- you can access parts using indexing\n",
    "\n",
    "    - title = soup.select('#mk-page-introduce > div > h1')[0].get_text()"
   ]
  },
  {
   "cell_type": "code",
   "execution_count": 32,
   "metadata": {},
   "outputs": [],
   "source": [
    "from requests import get\n",
    "from bs4 import BeautifulSoup\n",
    "import os\n",
    "import pandas as pd"
   ]
  },
  {
   "cell_type": "markdown",
   "metadata": {},
   "source": [
    "# Lesson Practice"
   ]
  },
  {
   "cell_type": "code",
   "execution_count": 2,
   "metadata": {},
   "outputs": [],
   "source": [
    "url = 'https://codeup.com/codeups-data-science-career-accelerator-is-here/'\n",
    "headers = {'User-Agent': 'Codeup Bayes Data Science'} # codeup.com doesn't like our default user-agent\n",
    "response = get(url, headers=headers)"
   ]
  },
  {
   "cell_type": "code",
   "execution_count": 3,
   "metadata": {},
   "outputs": [
    {
     "name": "stdout",
     "output_type": "stream",
     "text": [
      "<!DOCTYPE html>\n",
      "<html lang=\"en-US\" >\n",
      "<head>\n",
      "\t\t<meta charset=\"UTF-8\" /><meta name=\"viewport\" content=\"width=device-width, initial-scale=1.0, minimum-scale=1.0, maximum-scale=1.0, user-scalable=0\" /><meta http-equiv=\"X-UA-Compatible\" content=\"IE=edge,chrome=1\" /><meta name=\"format-detection\" content=\"telephone=no\"><title>Codeup’s Data Science Career Accelerator is Here! - Codeup</title>\n",
      "<script type\n"
     ]
    }
   ],
   "source": [
    "print(response.text[:400])"
   ]
  },
  {
   "cell_type": "code",
   "execution_count": 4,
   "metadata": {},
   "outputs": [],
   "source": [
    "# create soup object\n",
    "\n",
    "soup = BeautifulSoup(response.text)"
   ]
  },
  {
   "cell_type": "code",
   "execution_count": 5,
   "metadata": {},
   "outputs": [
    {
     "data": {
      "text/plain": [
       "'Codeup’s Data Science Career Accelerator is Here!'"
      ]
     },
     "execution_count": 5,
     "metadata": {},
     "output_type": "execute_result"
    }
   ],
   "source": [
    "# get title of web page using .select and index and .get_text()\n",
    "# select returns ALL instances\n",
    "\n",
    "title = soup.select('#mk-page-introduce > div > h1')[0].get_text()\n",
    "title"
   ]
  },
  {
   "cell_type": "code",
   "execution_count": 6,
   "metadata": {},
   "outputs": [
    {
     "data": {
      "text/plain": [
       "'Codeup’s Data Science Career Accelerator is Here!'"
      ]
     },
     "execution_count": 6,
     "metadata": {},
     "output_type": "execute_result"
    }
   ],
   "source": [
    "# get title of web page using .find and .get_text()\n",
    "# find returns only the first instance \n",
    "\n",
    "title = soup.find(class_='page-title').get_text()\n",
    "title"
   ]
  },
  {
   "cell_type": "code",
   "execution_count": 7,
   "metadata": {
    "scrolled": true
   },
   "outputs": [
    {
     "data": {
      "text/plain": [
       "<div class=\"mk-single-content clearfix\" itemprop=\"mainEntityOfPage\">\n",
       "<p>The rumors are true! The time has arrived. Codeup has officially opened applications to our new Data Science career accelerator, with only 25 seats available! This immersive program is one of a kind in San Antonio, and will help you land a job in <strong><a href=\"https://www.glassdoor.com/List/Best-Jobs-in-America-LST_KQ0,20.htm\">Glassdoor’s #1 Best Job in America</a></strong>.</p>\n",
       "<p><a href=\"https://tribucodeup.wpengine.com/what-is-data-science/\"><strong>Data Science is a method of providing actionable intelligence from data.</strong></a> The data revolution has hit San Antonio, <strong><a href=\"https://www.indeed.com/jobs?q=Data+Scientist&amp;l=San+Antonio%2C+TX\">resulting in an explosion in Data Scientist positions</a> </strong>across companies like USAA, Accenture, Booz Allen Hamilton, and HEB. We’ve even seen <strong><a href=\"https://therivardreport.com/utsa-lands-70m-for-cybersecurity-center-school-of-data-science/\">UTSA invest $70 M for a Cybersecurity Center and School of Data Science.</a> </strong>We built a program to specifically meet the growing demands of this industry.</p>\n",
       "<p>Our program will be 18 weeks long, full-time, hands-on, and project-based. Our curriculum development and instruction is led by Senior Data Scientist, Maggie Giust, who has worked at HEB, Capital Group, and Rackspace, along with input from dozens of practitioners and hiring partners. Students will work with real data sets, realistic problems, and the entire data science pipeline from collection to deployment. They will receive professional development training in resume writing, interviewing, and continuing education to prepare for a smooth transition to the workforce.</p>\n",
       "<p>We focus on applied data science for immediate impact and ROI in a business, which is how we can back it all up with a 6 month tuition refund guarantee – just like our existing Web Dev program. We’re focusing on Data Science with Python, SQL, and ML, covered in <strong>14 modules</strong>: 1) Fundamentals; 2) Applied statistics; 3) SQL; 4) Python; 5) Supervised machine learning – regression; 6) Supervised machine learning – classification; 7) Unsupervised machine learning – clustering; 8) Time series analysis; 9) Anomaly detection; 10) Natural language processing; 11) Distributed machine learning; 12) Advanced topics (deep learning, NoSQL, cloud deployment, etc.); 13) Storytelling with data; and 14) Domain expertise development.</p>\n",
       "<p><strong>Applications are now open</strong> for Codeup’s first Data Science cohort, which will start class on February 4, 2019. Hurry – there are only 25 seats available! To further our mission of cultivating inclusive growth, scholarships will be available to women, minorities, LGBTQIA+ individuals, veterans, first responders, and people relocating to San Antonio.</p>\n",
       "<p>If you want to learn about joining our program or hiring our graduates, email datascience@codeup.com!</p>\n",
       "</div>"
      ]
     },
     "execution_count": 7,
     "metadata": {},
     "output_type": "execute_result"
    }
   ],
   "source": [
    "# get content of web page\n",
    "\n",
    "article = soup.find('div', class_='mk-single-content')\n",
    "article"
   ]
  },
  {
   "cell_type": "code",
   "execution_count": 8,
   "metadata": {},
   "outputs": [],
   "source": [
    "# store article text in a file\n",
    "\n",
    "with open('article.txt', 'w') as f:\n",
    "    f.write(article.text)"
   ]
  },
  {
   "cell_type": "code",
   "execution_count": 9,
   "metadata": {},
   "outputs": [],
   "source": [
    "# Function that either reads data locally or goes to fetch data and saves it\n",
    "\n",
    "def get_article_text():\n",
    "    # if we already have the data, read it locally\n",
    "    if os.path.exists('article.txt'):\n",
    "        with open('article.txt') as f:\n",
    "            return f.read()\n",
    "\n",
    "    # otherwise go fetch the data\n",
    "    url = 'https://codeup.com/codeups-data-science-career-accelerator-is-here/'\n",
    "    headers = {'User-Agent': 'Codeup Ada Data Science'}\n",
    "    response = get(url, headers=headers)\n",
    "    soup = BeautifulSoup(response.text)\n",
    "    article = soup.find('div', class_='mk-single-content')\n",
    "\n",
    "    # save it for next time\n",
    "    with open('article.txt', 'w') as f:\n",
    "        f.write(article.text)\n",
    "\n",
    "    return article.text"
   ]
  },
  {
   "cell_type": "code",
   "execution_count": 10,
   "metadata": {},
   "outputs": [
    {
     "data": {
      "text/plain": [
       "'\\nThe rumors are true! The time has arrived. Codeup has officially opened applications to our new Data Science career accelerator, with only 25 seats available! This immersive program is one of a kind in San Antonio, and will help you land a job in\\xa0Glassdoor’s #1 Best Job in America.\\nData Science is a method of providing actionable intelligence from data.\\xa0The data revolution has hit San Antonio,\\xa0resulting in an explosion in Data Scientist positions\\xa0across companies like USAA, Accenture, Booz Allen Hamilton, and HEB. We’ve even seen\\xa0UTSA invest $70 M for a Cybersecurity Center and School of Data Science.\\xa0We built a program to specifically meet the growing demands of this industry.\\nOur program will be 18 weeks long, full-time, hands-on, and project-based. Our curriculum development and instruction is led by Senior Data Scientist, Maggie Giust, who has worked at HEB, Capital Group, and Rackspace, along with input from dozens of practitioners and hiring partners. Students will work with real data sets, realistic problems, and the entire data science pipeline from collection to deployment. They will receive professional development training in resume writing, interviewing, and continuing education to prepare for a smooth transition to the workforce.\\nWe focus on applied data science for immediate impact and ROI in a business, which is how we can back it all up with a 6 month tuition refund guarantee – just like our existing Web Dev program. We’re focusing on Data Science with Python, SQL, and ML, covered in\\xa014 modules: 1) Fundamentals; 2) Applied statistics; 3) SQL; 4) Python; 5) Supervised machine learning – regression; 6) Supervised machine learning – classification; 7) Unsupervised machine learning – clustering; 8) Time series analysis; 9) Anomaly detection; 10) Natural language processing; 11) Distributed machine learning; 12) Advanced topics (deep learning, NoSQL, cloud deployment, etc.); 13) Storytelling with data; and 14) Domain expertise development.\\nApplications are now open\\xa0for Codeup’s first Data Science cohort, which will start class on February 4, 2019. Hurry – there are only 25 seats available! To further our mission of cultivating inclusive growth, scholarships will be available to women, minorities, LGBTQIA+ individuals, veterans, first responders, and people relocating to San Antonio.\\nIf you want to learn about joining our program or hiring our graduates, email datascience@codeup.com!\\n'"
      ]
     },
     "execution_count": 10,
     "metadata": {},
     "output_type": "execute_result"
    }
   ],
   "source": [
    "get_article_text()"
   ]
  },
  {
   "cell_type": "markdown",
   "metadata": {},
   "source": [
    "# Dataquest Web Scraping Tutorial"
   ]
  },
  {
   "cell_type": "code",
   "execution_count": null,
   "metadata": {},
   "outputs": [],
   "source": []
  },
  {
   "cell_type": "code",
   "execution_count": null,
   "metadata": {},
   "outputs": [],
   "source": []
  },
  {
   "cell_type": "code",
   "execution_count": null,
   "metadata": {},
   "outputs": [],
   "source": []
  },
  {
   "cell_type": "markdown",
   "metadata": {},
   "source": [
    "## Practice using element inspector on site"
   ]
  },
  {
   "cell_type": "code",
   "execution_count": 11,
   "metadata": {},
   "outputs": [],
   "source": [
    "url = 'https://www.retirement.org/mirabellaportland/healthcare/'"
   ]
  },
  {
   "cell_type": "code",
   "execution_count": 12,
   "metadata": {},
   "outputs": [],
   "source": [
    "headers = {'User-Agent':'Data Science Student'}\n",
    "response = get(url,headers=headers)"
   ]
  },
  {
   "cell_type": "code",
   "execution_count": 13,
   "metadata": {},
   "outputs": [],
   "source": [
    "soup = BeautifulSoup(response.text)"
   ]
  },
  {
   "cell_type": "code",
   "execution_count": 14,
   "metadata": {},
   "outputs": [
    {
     "data": {
      "text/plain": [
       "[]"
      ]
     },
     "execution_count": 14,
     "metadata": {},
     "output_type": "execute_result"
    }
   ],
   "source": [
    "soup.select('body > table > tbody')"
   ]
  },
  {
   "cell_type": "code",
   "execution_count": 15,
   "metadata": {},
   "outputs": [
    {
     "data": {
      "text/plain": [
       "'\\n\\t\\t\\t\\t\\t\\tNeed care now? >>\\t\\t\\t\\t\\t'"
      ]
     },
     "execution_count": 15,
     "metadata": {},
     "output_type": "execute_result"
    }
   ],
   "source": [
    "button = soup.select('#content > div.elementor.elementor-17 > div > div > section > div > div > div > div > div > section.elementor-element.elementor-element-73eff40.elementor-section-boxed.elementor-section-height-default.elementor-section-height-default.elementor-section.elementor-inner-section > div > div > div.elementor-element.elementor-element-c266824.elementor-column.elementor-col-50.elementor-inner-column > div > div > div > div > div > div > div > a')[0].get_text()\n",
    "button"
   ]
  },
  {
   "cell_type": "code",
   "execution_count": 16,
   "metadata": {},
   "outputs": [
    {
     "data": {
      "text/plain": [
       "'Need care now? >>'"
      ]
     },
     "execution_count": 16,
     "metadata": {},
     "output_type": "execute_result"
    }
   ],
   "source": [
    "button = button.strip()\n",
    "button"
   ]
  },
  {
   "cell_type": "code",
   "execution_count": 17,
   "metadata": {},
   "outputs": [],
   "source": [
    "content = soup.h1.get_text()"
   ]
  },
  {
   "cell_type": "code",
   "execution_count": 18,
   "metadata": {},
   "outputs": [
    {
     "data": {
      "text/plain": [
       "'Healthcare'"
      ]
     },
     "execution_count": 18,
     "metadata": {},
     "output_type": "execute_result"
    }
   ],
   "source": [
    "content = content.strip()\n",
    "content"
   ]
  },
  {
   "cell_type": "code",
   "execution_count": 19,
   "metadata": {},
   "outputs": [
    {
     "name": "stdout",
     "output_type": "stream",
     "text": [
      "<!DOCTYPE html>\n",
      "<html lang=\"en-US\">\n",
      " <head>\n",
      "  <meta charset=\"utf-8\"/>\n",
      "  <link href=\"https://gmpg.org/xfn/11\" rel=\"profile\"/>\n",
      "  <title>\n",
      "   Healthcare - Mirabella Portland\n",
      "  </title>\n",
      "  <!-- This site is optimized with the Yoast SEO plugin v12.6.2 - https://yoast.com/wordpress/plugins/seo/ -->\n",
      "  <meta content=\"max-snippet:-1, max-image-preview:large, max-video-preview:-1\" name=\"robots\"/>\n",
      "  <link href=\"https://www.retirement.org/mirabellaportland/healthcare/\" rel=\"canonical\"/>\n",
      "  <meta content=\"en_US\" property=\"og:locale\"/>\n",
      "  <meta content=\"article\" property=\"og:type\"/>\n",
      "  <meta content=\"Healthcare - Mirabella Portland\" property=\"og:title\"/>\n",
      "  <meta content=\"As a continuing care retirement community, Mirabella  Portland offers on-site healthcare services in addition to its independent living residences. From help with the activities of daily living to specialized nursing care, our continuum of care ensures you can live with peace of mind for the future knowing your needs will be taken care of should ... Read more\" property=\"og:description\"/>\n",
      "  <meta content=\"https://www.retirement.org/mirabellaportland/healthcare/\" property=\"og:url\"/>\n",
      "  <meta content=\"Mirabella Portland\" property=\"og:site_name\"/>\n",
      "  <meta content=\"summary_large_image\" name=\"twitter:card\"/>\n",
      "  <meta content=\"As a continuing care retirement community, Mirabella  Portland offers on-site healthcare services in addition to its independent living residences. From help with the activities of daily living to specialized nursing care, our continuum of care ensures you can live with peace of mind for the future knowing your needs will be taken care of should ... Read more\" name=\"twitter:description\"/>\n",
      "  <meta content=\"Healthcare - Mirabella Portland\" name=\"twitter:title\"/>\n",
      "  <script class=\"yoast-schema-graph yoast-schema-graph--main\" type=\"application/ld+json\">\n",
      "   {\"@context\":\"https://schema.org\",\"@graph\":[{\"@type\":\"WebSite\",\"@id\":\"https://www.retirement.org/mirabellaportland/#website\",\"url\":\"https://www.retirement.org/mirabellaportland/\",\"name\":\"Mirabella Portland\",\"potentialAction\":{\"@type\":\"SearchAction\",\"target\":\"https://www.retirement.org/mirabellaportland/?s={search_term_string}\",\"query-input\":\"required name=search_term_string\"}},{\"@type\":\"WebPage\",\"@id\":\"https://www.retirement.org/mirabellaportland/healthcare/#webpage\",\"url\":\"https://www.retirement.org/mirabellaportland/healthcare/\",\"inLanguage\":\"en-US\",\"name\":\"Healthcare - Mirabella Portland\",\"isPartOf\":{\"@id\":\"https://www.retirement.org/mirabellaportland/#website\"},\"datePublished\":\"2018-10-25T15:45:13+00:00\",\"dateModified\":\"2019-06-04T18:06:41+00:00\",\"breadcrumb\":{\"@id\":\"https://www.retirement.org/mirabellaportland/healthcare/#breadcrumb\"}},{\"@type\":\"BreadcrumbList\",\"@id\":\"https://www.retirement.org/mirabellaportland/healthcare/#breadcrumb\",\"itemListElement\":[{\"@type\":\"ListItem\",\"position\":1,\"item\":{\"@type\":\"WebPage\",\"@id\":\"https://www.retirement.org/mirabellaportland/\",\"url\":\"https://www.retirement.org/mirabellaportland/\",\"name\":\"Home\"}},{\"@type\":\"ListItem\",\"position\":2,\"item\":{\"@type\":\"WebPage\",\"@id\":\"https://www.retirement.org/mirabellaportland/healthcare/\",\"url\":\"https://www.retirement.org/mirabellaportland/healthcare/\",\"name\":\"Healthcare\"}}]}]}\n",
      "  </script>\n",
      "  <!-- / Yoast SEO plugin. -->\n",
      "  <link href=\"//fonts.googleapis.com\" rel=\"dns-prefetch\"/>\n",
      "  <link href=\"//s.w.org\" rel=\"dns-prefetch\"/>\n",
      "  <link href=\"https://www.retirement.org/mirabellaportland/feed/\" rel=\"alternate\" title=\"Mirabella Portland » Feed\" type=\"application/rss+xml\"/>\n",
      "  <link href=\"https://www.retirement.org/mirabellaportland/comments/feed/\" rel=\"alternate\" title=\"Mirabella Portland » Comments Feed\" type=\"application/rss+xml\"/>\n",
      "  <script type=\"text/javascript\">\n",
      "   window._wpemojiSettings = {\"baseUrl\":\"https:\\/\\/s.w.org\\/images\\/core\\/emoji\\/12.0.0-1\\/72x72\\/\",\"ext\":\".png\",\"svgUrl\":\"https:\\/\\/s.w.org\\/images\\/core\\/emoji\\/12.0.0-1\\/svg\\/\",\"svgExt\":\".svg\",\"source\":{\"concatemoji\":\"https:\\/\\/www.retirement.org\\/mirabellaportland\\/wp-includes\\/js\\/wp-emoji-release.min.js?ver=5.3\"}};\n",
      "\t\t\t!function(e,a,t){var r,n,o,i,p=a.createElement(\"canvas\"),s=p.getContext&&p.getContext(\"2d\");function c(e,t){var a=String.fromCharCode;s.clearRect(0,0,p.width,p.height),s.fillText(a.apply(this,e),0,0);var r=p.toDataURL();return s.clearRect(0,0,p.width,p.height),s.fillText(a.apply(this,t),0,0),r===p.toDataURL()}function l(e){if(!s||!s.fillText)return!1;switch(s.textBaseline=\"top\",s.font=\"600 32px Arial\",e){case\"flag\":return!c([127987,65039,8205,9895,65039],[127987,65039,8203,9895,65039])&&(!c([55356,56826,55356,56819],[55356,56826,8203,55356,56819])&&!c([55356,57332,56128,56423,56128,56418,56128,56421,56128,56430,56128,56423,56128,56447],[55356,57332,8203,56128,56423,8203,56128,56418,8203,56128,56421,8203,56128,56430,8203,56128,56423,8203,56128,56447]));case\"emoji\":return!c([55357,56424,55356,57342,8205,55358,56605,8205,55357,56424,55356,57340],[55357,56424,55356,57342,8203,55358,56605,8203,55357,56424,55356,57340])}return!1}function d(e){var t=a.createElement(\"script\");t.src=e,t.defer=t.type=\"text/javascript\",a.getElementsByTagName(\"head\")[0].appendChild(t)}for(i=Array(\"flag\",\"emoji\"),t.supports={everything:!0,everythingExceptFlag:!0},o=0;o<i.length;o++)t.supports[i[o]]=l(i[o]),t.supports.everything=t.supports.everything&&t.supports[i[o]],\"flag\"!==i[o]&&(t.supports.everythingExceptFlag=t.supports.everythingExceptFlag&&t.supports[i[o]]);t.supports.everythingExceptFlag=t.supports.everythingExceptFlag&&!t.supports.flag,t.DOMReady=!1,t.readyCallback=function(){t.DOMReady=!0},t.supports.everything||(n=function(){t.readyCallback()},a.addEventListener?(a.addEventListener(\"DOMContentLoaded\",n,!1),e.addEventListener(\"load\",n,!1)):(e.attachEvent(\"onload\",n),a.attachEvent(\"onreadystatechange\",function(){\"complete\"===a.readyState&&t.readyCallback()})),(r=t.source||{}).concatemoji?d(r.concatemoji):r.wpemoji&&r.twemoji&&(d(r.twemoji),d(r.wpemoji)))}(window,document,window._wpemojiSettings);\n",
      "  </script>\n",
      "  <style type=\"text/css\">\n",
      "   img.wp-smiley,\n",
      "img.emoji {\n",
      "\tdisplay: inline !important;\n",
      "\tborder: none !important;\n",
      "\tbox-shadow: none !important;\n",
      "\theight: 1em !important;\n",
      "\twidth: 1em !important;\n",
      "\tmargin: 0 .07em !important;\n",
      "\tvertical-align: -0.1em !important;\n",
      "\tbackground: none !important;\n",
      "\tpadding: 0 !important;\n",
      "}\n",
      "  </style>\n",
      "  <link href=\"https://www.retirement.org/mirabellaportland/wp-includes/css/dist/block-library/style.min.css?ver=5.3\" id=\"wp-block-library-css\" media=\"all\" rel=\"stylesheet\" type=\"text/css\"/>\n",
      "  <link href=\"https://www.retirement.org/mirabellaportland/wp-content/plugins/jquery-collapse-o-matic/light_style.css?ver=1.6\" id=\"collapseomatic-css-css\" media=\"all\" rel=\"stylesheet\" type=\"text/css\"/>\n",
      "  <link href=\"https://www.retirement.org/mirabellaportland/wp-content/plugins/modal-for-elementor/css/bootstrap.css?ver=5.3\" id=\"bootstrap-css\" media=\"all\" rel=\"stylesheet\" type=\"text/css\"/>\n",
      "  <link href=\"https://www.retirement.org/mirabellaportland/wp-content/plugins/modal-for-elementor/css/popup.css?ver=5.3\" id=\"modal-popup-css\" media=\"all\" rel=\"stylesheet\" type=\"text/css\"/>\n",
      "  <link href=\"https://www.retirement.org/mirabellaportland/wp-content/plugins/popup-anything-on-click/assets/css/popupaoc-public-style.css?ver=1.4.3\" id=\"popupaoc-public-style-css\" media=\"all\" rel=\"stylesheet\" type=\"text/css\"/>\n",
      "  <link href=\"https://fonts.googleapis.com/css?family=Merriweather%3A700&amp;subset=latin%2Call&amp;ver=5.3\" id=\"tt-easy-google-fonts-css\" media=\"all\" rel=\"stylesheet\" type=\"text/css\"/>\n",
      "  <link href=\"https://www.retirement.org/mirabellaportland/wp-content/themes/generatepress/css/unsemantic-grid.min.css?ver=2.4.1\" id=\"generate-style-grid-css\" media=\"all\" rel=\"stylesheet\" type=\"text/css\"/>\n",
      "  <link href=\"https://www.retirement.org/mirabellaportland/wp-content/themes/generatepress/style.min.css?ver=2.4.1\" id=\"generate-style-css\" media=\"all\" rel=\"stylesheet\" type=\"text/css\"/>\n",
      "  <style id=\"generate-style-inline-css\" type=\"text/css\">\n",
      "   body{background-color:#efefef;color:#3a3a3a;}a, a:visited{color:#1e73be;}a:hover, a:focus, a:active{color:#000000;}body .grid-container{max-width:1100px;}.wp-block-group__inner-container{max-width:1100px;margin-left:auto;margin-right:auto;}body, button, input, select, textarea{font-family:-apple-system, system-ui, BlinkMacSystemFont, \"Segoe UI\", Helvetica, Arial, sans-serif, \"Apple Color Emoji\", \"Segoe UI Emoji\", \"Segoe UI Symbol\";}.entry-content > [class*=\"wp-block-\"]:not(:last-child){margin-bottom:1.5em;}.main-navigation .main-nav ul ul li a{font-size:14px;}@media (max-width:768px){.main-title{font-size:30px;}h1{font-size:30px;}h2{font-size:25px;}}.top-bar{background-color:#636363;color:#ffffff;}.top-bar a,.top-bar a:visited{color:#ffffff;}.top-bar a:hover{color:#303030;}.site-header{background-color:#000000;color:#3a3a3a;}.site-header a,.site-header a:visited{color:#3a3a3a;}.main-title a,.main-title a:hover,.main-title a:visited{color:#222222;}.site-description{color:#757575;}.main-navigation .main-nav ul li a,.menu-toggle{color:#ffffff;}.main-navigation .main-nav ul li:hover > a,.main-navigation .main-nav ul li:focus > a, .main-navigation .main-nav ul li.sfHover > a{color:#ffffff;background-color:#337ab7;}button.menu-toggle:hover,button.menu-toggle:focus,.main-navigation .mobile-bar-items a,.main-navigation .mobile-bar-items a:hover,.main-navigation .mobile-bar-items a:focus{color:#ffffff;}.main-navigation .main-nav ul li[class*=\"current-menu-\"] > a{color:#ffffff;background-color:#337ab7;}.main-navigation .main-nav ul li[class*=\"current-menu-\"] > a:hover,.main-navigation .main-nav ul li[class*=\"current-menu-\"].sfHover > a{color:#ffffff;background-color:#337ab7;}.navigation-search input[type=\"search\"],.navigation-search input[type=\"search\"]:active, .navigation-search input[type=\"search\"]:focus, .main-navigation .main-nav ul li.search-item.active > a{color:#ffffff;background-color:#337ab7;}.main-navigation ul ul{background-color:#40c1ac;}.main-navigation .main-nav ul ul li a{color:#ffffff;}.main-navigation .main-nav ul ul li:hover > a,.main-navigation .main-nav ul ul li:focus > a,.main-navigation .main-nav ul ul li.sfHover > a{color:#337ab7;background-color:#ffffff;}.main-navigation .main-nav ul ul li[class*=\"current-menu-\"] > a{color:#ffffff;background-color:#40c1ac;}.main-navigation .main-nav ul ul li[class*=\"current-menu-\"] > a:hover,.main-navigation .main-nav ul ul li[class*=\"current-menu-\"].sfHover > a{color:#ffffff;background-color:#40c1ac;}.separate-containers .inside-article, .separate-containers .comments-area, .separate-containers .page-header, .one-container .container, .separate-containers .paging-navigation, .inside-page-header{background-color:#ffffff;}.entry-meta{color:#595959;}.entry-meta a,.entry-meta a:visited{color:#595959;}.entry-meta a:hover{color:#1e73be;}.sidebar .widget{background-color:#ffffff;}.sidebar .widget .widget-title{color:#000000;}.footer-widgets{background-color:#ffffff;}.footer-widgets .widget-title{color:#000000;}.site-info{color:#ffffff;background-color:#222222;}.site-info a,.site-info a:visited{color:#ffffff;}.site-info a:hover{color:#606060;}.footer-bar .widget_nav_menu .current-menu-item a{color:#606060;}input[type=\"text\"],input[type=\"email\"],input[type=\"url\"],input[type=\"password\"],input[type=\"search\"],input[type=\"tel\"],input[type=\"number\"],textarea,select{color:#666666;background-color:#fafafa;border-color:#cccccc;}input[type=\"text\"]:focus,input[type=\"email\"]:focus,input[type=\"url\"]:focus,input[type=\"password\"]:focus,input[type=\"search\"]:focus,input[type=\"tel\"]:focus,input[type=\"number\"]:focus,textarea:focus,select:focus{color:#666666;background-color:#ffffff;border-color:#bfbfbf;}button,html input[type=\"button\"],input[type=\"reset\"],input[type=\"submit\"],a.button,a.button:visited,a.wp-block-button__link:not(.has-background){color:#ffffff;background-color:#337ab7;}button:hover,html input[type=\"button\"]:hover,input[type=\"reset\"]:hover,input[type=\"submit\"]:hover,a.button:hover,button:focus,html input[type=\"button\"]:focus,input[type=\"reset\"]:focus,input[type=\"submit\"]:focus,a.button:focus,a.wp-block-button__link:not(.has-background):active,a.wp-block-button__link:not(.has-background):focus,a.wp-block-button__link:not(.has-background):hover{color:#ffffff;background-color:#40c1ac;}.generate-back-to-top,.generate-back-to-top:visited{background-color:rgba( 0,0,0,0.4 );color:#ffffff;}.generate-back-to-top:hover,.generate-back-to-top:focus{background-color:rgba( 0,0,0,0.6 );color:#ffffff;}.entry-content .alignwide, body:not(.no-sidebar) .entry-content .alignfull{margin-left:-40px;width:calc(100% + 80px);max-width:calc(100% + 80px);}.rtl .menu-item-has-children .dropdown-menu-toggle{padding-left:20px;}.rtl .main-navigation .main-nav ul li.menu-item-has-children > a{padding-right:20px;}@media (max-width:768px){.separate-containers .inside-article, .separate-containers .comments-area, .separate-containers .page-header, .separate-containers .paging-navigation, .one-container .site-content, .inside-page-header, .wp-block-group__inner-container{padding:30px;}.entry-content .alignwide, body:not(.no-sidebar) .entry-content .alignfull{margin-left:-30px;width:calc(100% + 60px);max-width:calc(100% + 60px);}}.one-container .sidebar .widget{padding:0px;}/* End cached CSS */@media (max-width: 768px){.main-navigation .menu-toggle,.main-navigation .mobile-bar-items,.sidebar-nav-mobile:not(#sticky-placeholder){display:block;}.main-navigation ul,.gen-sidebar-nav{display:none;}[class*=\"nav-float-\"] .site-header .inside-header > *{float:none;clear:both;}}@font-face {font-family: \"GeneratePress\";src:  url(\"https://www.retirement.org/mirabellaportland/wp-content/themes/generatepress/fonts/generatepress.eot\");src:  url(\"https://www.retirement.org/mirabellaportland/wp-content/themes/generatepress/fonts/generatepress.eot#iefix\") format(\"embedded-opentype\"),  url(\"https://www.retirement.org/mirabellaportland/wp-content/themes/generatepress/fonts/generatepress.woff2\") format(\"woff2\"),  url(\"https://www.retirement.org/mirabellaportland/wp-content/themes/generatepress/fonts/generatepress.woff\") format(\"woff\"),  url(\"https://www.retirement.org/mirabellaportland/wp-content/themes/generatepress/fonts/generatepress.ttf\") format(\"truetype\"),  url(\"https://www.retirement.org/mirabellaportland/wp-content/themes/generatepress/fonts/generatepress.svg#GeneratePress\") format(\"svg\");font-weight: normal;font-style: normal;}.main-navigation .slideout-toggle a:before,.slide-opened .slideout-overlay .slideout-exit:before {font-family: GeneratePress;}.slideout-navigation .dropdown-menu-toggle:before {content: \"\\f107\" !important;}.slideout-navigation .sfHover > a .dropdown-menu-toggle:before {content: \"\\f106\" !important;}\n",
      ".navigation-branding .main-title{font-weight:bold;text-transform:none;font-size:45px;}@media (max-width: 768px){.navigation-branding .main-title{font-size:30px;}}\n",
      ".page-hero{background-image:url(https://www.retirement.org/mirabellaportland/wp-content/uploads/sites/12/2019/02/healthcare.jpg);background-size:cover;background-position:center center;background-repeat:no-repeat;padding-top:220px;box-sizing:border-box;}.inside-page-hero > *:last-child{margin-bottom:0px;}.page-hero time.updated{display:none;}\n",
      "  </style>\n",
      "  <link href=\"https://www.retirement.org/mirabellaportland/wp-content/themes/generatepress/css/mobile.min.css?ver=2.4.1\" id=\"generate-mobile-style-css\" media=\"all\" rel=\"stylesheet\" type=\"text/css\"/>\n",
      "  <link href=\"https://www.retirement.org/mirabellaportland/wp-content/themes/generatepress-child/style.css?ver=2.1.4.1535644234\" id=\"generate-child-css\" media=\"all\" rel=\"stylesheet\" type=\"text/css\"/>\n",
      "  <link href=\"https://www.retirement.org/mirabellaportland/wp-content/plugins/elementor/assets/lib/eicons/css/elementor-icons.min.css?ver=5.4.0\" id=\"elementor-icons-css\" media=\"all\" rel=\"stylesheet\" type=\"text/css\"/>\n",
      "  <link href=\"https://www.retirement.org/mirabellaportland/wp-content/plugins/elementor/assets/lib/animations/animations.min.css?ver=2.7.5\" id=\"elementor-animations-css\" media=\"all\" rel=\"stylesheet\" type=\"text/css\"/>\n",
      "  <link href=\"https://www.retirement.org/mirabellaportland/wp-content/plugins/elementor/assets/css/frontend.min.css?ver=2.7.5\" id=\"elementor-frontend-css\" media=\"all\" rel=\"stylesheet\" type=\"text/css\"/>\n",
      "  <link href=\"https://www.retirement.org/mirabellaportland/wp-content/plugins/elementor-pro/assets/css/frontend.min.css?ver=2.7.2\" id=\"elementor-pro-css\" media=\"all\" rel=\"stylesheet\" type=\"text/css\"/>\n",
      "  <link href=\"https://www.retirement.org/mirabellaportland/wp-content/plugins/elementor/assets/lib/font-awesome/css/all.min.css?ver=2.7.5\" id=\"font-awesome-5-all-css\" media=\"all\" rel=\"stylesheet\" type=\"text/css\"/>\n",
      "  <link href=\"https://www.retirement.org/mirabellaportland/wp-content/plugins/elementor/assets/lib/font-awesome/css/v4-shims.min.css?ver=2.7.5\" id=\"font-awesome-4-shim-css\" media=\"all\" rel=\"stylesheet\" type=\"text/css\"/>\n",
      "  <link href=\"https://www.retirement.org/mirabellaportland/wp-content/uploads/sites/12/elementor/css/global.css?ver=1571272596\" id=\"elementor-global-css\" media=\"all\" rel=\"stylesheet\" type=\"text/css\"/>\n",
      "  <link href=\"https://www.retirement.org/mirabellaportland/wp-content/uploads/sites/12/elementor/css/post-17.css?ver=1571341587\" id=\"elementor-post-17-css\" media=\"all\" rel=\"stylesheet\" type=\"text/css\"/>\n",
      "  <link href=\"https://www.retirement.org/mirabellaportland/wp-content/themes/generatepress-child/ctc-style.css?ver=2.1.4.1535644234\" id=\"chld_thm_cfg_separate-css\" media=\"all\" rel=\"stylesheet\" type=\"text/css\"/>\n",
      "  <link href=\"https://www.retirement.org/mirabellaportland/wp-content/plugins/gp-premium/blog/functions/css/style-min.css?ver=1.8.3\" id=\"generate-blog-css\" media=\"all\" rel=\"stylesheet\" type=\"text/css\"/>\n",
      "  <link href=\"https://fonts.googleapis.com/css?family=Merriweather%3A100%2C100italic%2C200%2C200italic%2C300%2C300italic%2C400%2C400italic%2C500%2C500italic%2C600%2C600italic%2C700%2C700italic%2C800%2C800italic%2C900%2C900italic%7CLato%3A100%2C100italic%2C200%2C200italic%2C300%2C300italic%2C400%2C400italic%2C500%2C500italic%2C600%2C600italic%2C700%2C700italic%2C800%2C800italic%2C900%2C900italic&amp;ver=5.3\" id=\"google-fonts-1-css\" media=\"all\" rel=\"stylesheet\" type=\"text/css\"/>\n",
      "  <!--n2css-->\n",
      "  <script src=\"https://www.retirement.org/mirabellaportland/wp-includes/js/jquery/jquery.js?ver=1.12.4-wp\" type=\"text/javascript\">\n",
      "  </script>\n",
      "  <script src=\"https://www.retirement.org/mirabellaportland/wp-includes/js/jquery/jquery-migrate.min.js?ver=1.4.1\" type=\"text/javascript\">\n",
      "  </script>\n",
      "  <script src=\"https://www.retirement.org/mirabellaportland/wp-content/plugins/modal-for-elementor/js/jquery.cookie.js\" type=\"text/javascript\">\n",
      "  </script>\n",
      "  <script src=\"https://www.retirement.org/mirabellaportland/wp-content/plugins/elementor/assets/lib/font-awesome/js/v4-shims.min.js?ver=2.7.5\" type=\"text/javascript\">\n",
      "  </script>\n",
      "  <link href=\"https://www.retirement.org/mirabellaportland/wp-json/\" rel=\"https://api.w.org/\"/>\n",
      "  <link href=\"https://www.retirement.org/mirabellaportland/xmlrpc.php?rsd\" rel=\"EditURI\" title=\"RSD\" type=\"application/rsd+xml\"/>\n",
      "  <link href=\"https://www.retirement.org/mirabellaportland/wp-includes/wlwmanifest.xml\" rel=\"wlwmanifest\" type=\"application/wlwmanifest+xml\"/>\n",
      "  <meta content=\"WordPress 5.3\" name=\"generator\"/>\n",
      "  <link href=\"https://www.retirement.org/mirabellaportland/?p=17\" rel=\"shortlink\"/>\n",
      "  <link href=\"https://www.retirement.org/mirabellaportland/wp-json/oembed/1.0/embed?url=https%3A%2F%2Fwww.retirement.org%2Fmirabellaportland%2Fhealthcare%2F\" rel=\"alternate\" type=\"application/json+oembed\"/>\n",
      "  <link href=\"https://www.retirement.org/mirabellaportland/wp-json/oembed/1.0/embed?url=https%3A%2F%2Fwww.retirement.org%2Fmirabellaportland%2Fhealthcare%2F&amp;format=xml\" rel=\"alternate\" type=\"text/xml+oembed\"/>\n",
      "  <meta content=\"width=device-width, initial-scale=1\" name=\"viewport\"/>\n",
      "  <style type=\"text/css\">\n",
      "   .recentcomments a{display:inline !important;padding:0 !important;margin:0 !important;}\n",
      "  </style>\n",
      "  <script src=\"https://use.typekit.net/rdw7ftf.js\">\n",
      "  </script>\n",
      "  <script>\n",
      "   try{Typekit.load({ async: true });}catch(e){}\n",
      "  </script>\n",
      "  <link href=\"https://use.typekit.net/rjd7ifd.css\" rel=\"stylesheet\"/>\n",
      "  <!-- Global site tag (gtag.js) - Google Analytics -->\n",
      "  <script async=\"\" src=\"https://www.googletagmanager.com/gtag/js?id=UA-3193912-15\">\n",
      "  </script>\n",
      "  <script>\n",
      "   window.dataLayer = window.dataLayer || [];\r\n",
      "  function gtag(){dataLayer.push(arguments);}\r\n",
      "  gtag('js', new Date());\r\n",
      "\r\n",
      "  gtag('config', 'UA-3193912-15');\n",
      "  </script>\n",
      "  <script>\n",
      "   /*<![CDATA[*/(function(w,a,b,d,s){w[a]=w[a]||{};w[a][b]=w[a][b]||{q:[],track:function(r,e,t){this.q.push({r:r,e:e,t:t||+new Date});}};var e=d.createElement(s);var f=d.getElementsByTagName(s)[0];e.async=1;e.src='//seniorliving.retirement.org/cdnr/54/acton/bn/tracker/39603';f.parentNode.insertBefore(e,f);})(window,'ActOn','Beacon',document,'script');ActOn.Beacon.track();/*]]>*/\n",
      "  </script>\n",
      "  <link href=\"https://www.retirement.org/mirabellaportland/wp-content/uploads/sites/12/2018/10/PRS_logo-150x150.png\" rel=\"icon\" sizes=\"32x32\"/>\n",
      "  <link href=\"https://www.retirement.org/mirabellaportland/wp-content/uploads/sites/12/2018/10/PRS_logo.png\" rel=\"icon\" sizes=\"192x192\"/>\n",
      "  <link href=\"https://www.retirement.org/mirabellaportland/wp-content/uploads/sites/12/2018/10/PRS_logo.png\" rel=\"apple-touch-icon-precomposed\"/>\n",
      "  <meta content=\"https://www.retirement.org/mirabellaportland/wp-content/uploads/sites/12/2018/10/PRS_logo.png\" name=\"msapplication-TileImage\"/>\n",
      "  <style id=\"wp-custom-css\" type=\"text/css\">\n",
      "   body .grid-container {    max-width: 1140px;}\n",
      "\n",
      ".fa-facebook-square {\n",
      "\tcolor:#3B5998  !important;\n",
      "\tfont-size:30px;\n",
      "\tfloat:right;\n",
      "\tmargin-right:30px;\n",
      "}\n",
      ".hud {float:right;\t\n",
      "\tmargin-right:30px;}\n",
      "\n",
      "\n",
      "H1 {\n",
      "text-shadow: 1px 1px #000000 !important;\n",
      "\tmargin-bottom:0px;}\n",
      "\n",
      "/* Yoast*/\n",
      ".yoast-breadcrumb p {\n",
      "    margin: 10px 0 10px 0;\n",
      "\tfont-size:1.0em;\n",
      "\t    font-family: lato, serif;\n",
      "}\n",
      "\n",
      ".home-header {color:#ffffff;\n",
      "font-weight:bold;\n",
      "font-family:lato;}\n",
      "\n",
      ".site-header .header-image {margin:15px 0 0 10px;}\n",
      "\n",
      ".button.green-sea,\n",
      ".button.green-sea:visited {\n",
      "\tbackground: #337ab7;\n",
      "\tcolor:#FFF;\n",
      "\ttext-shadow: 1px 1px #000000;\n",
      "\tborder-radius:5px;\n",
      "}\n",
      "\n",
      ".button.green-sea:hover,\n",
      ".button.green-sea:active {\n",
      "\tbackground: #40c1ac;\n",
      "\tcolor:#FFF;}\n",
      "\n",
      "#menu-item-67 {background-color:#40c1ac;\n",
      "width:auto;}\n",
      "\n",
      ".opaque {background-color:rgba(5,45,94,0.29);\n",
      "padding:20px;}\n",
      "  </style>\n",
      "  <style id=\"tt-easy-google-font-styles\" type=\"text/css\">\n",
      "   p { }\n",
      "h1 { color: #ffffff; font-family: 'Merriweather'; font-style: normal; font-weight: 700; }\n",
      "h2 { }\n",
      "h3 { }\n",
      "h4 { }\n",
      "h5 { }\n",
      "h6 { }\n",
      "  </style>\n",
      " </head>\n",
      " <body class=\"page-template page-template-elementor_header_footer page page-id-17 page-parent wp-custom-logo wp-embed-responsive post-image-aligned-center sticky-menu-fade right-sidebar nav-float-right fluid-header separate-containers active-footer-widgets-2 header-aligned-left dropdown-hover elementor-default elementor-template-full-width elementor-page elementor-page-17 full-width-content\" itemscope=\"\" itemtype=\"https://schema.org/WebPage\">\n",
      "  <a class=\"screen-reader-text skip-link\" href=\"#content\" title=\"Skip to content\">\n",
      "   Skip to content\n",
      "  </a>\n",
      "  <header class=\"site-header\" id=\"masthead\" itemscope=\"\" itemtype=\"https://schema.org/WPHeader\">\n",
      "   <div class=\"inside-header grid-container grid-parent\">\n",
      "    <div class=\"header-widget\">\n",
      "     <aside class=\"widget_text widget inner-padding widget_custom_html\" id=\"custom_html-3\">\n",
      "      <div class=\"textwidget custom-html-widget\">\n",
      "       <a class=\"button green-sea\" href=\"http://www.retirement.org/mirabellaportland/schedule-a-tour/\">\n",
      "        Schedule a tour\n",
      "       </a>\n",
      "       <!--<a class=\"button green-sea\" href=\"http://www.retirement.org/mirabellaportland/events/\">Attend our next event</a>-->\n",
      "      </div>\n",
      "     </aside>\n",
      "    </div>\n",
      "    <div class=\"site-logo\">\n",
      "     <a href=\"https://www.retirement.org/mirabellaportland/\" rel=\"home\" title=\"Mirabella Portland\">\n",
      "      <img alt=\"Mirabella Portland\" class=\"header-image\" src=\"https://www.retirement.org/mirabellaportland/wp-content/uploads/sites/12/2018/10/cropped-logo.png\" title=\"Mirabella Portland\"/>\n",
      "     </a>\n",
      "    </div>\n",
      "    <nav class=\"main-navigation\" id=\"site-navigation\" itemscope=\"\" itemtype=\"https://schema.org/SiteNavigationElement\">\n",
      "     <div class=\"inside-navigation\">\n",
      "      <button aria-controls=\"primary-menu\" aria-expanded=\"false\" class=\"menu-toggle\">\n",
      "       <span class=\"mobile-menu\">\n",
      "        Menu\n",
      "       </span>\n",
      "      </button>\n",
      "      <div class=\"main-nav\" id=\"primary-menu\">\n",
      "       <ul class=\"menu sf-menu\" id=\"menu-main_nav\">\n",
      "        <li class=\"menu-item menu-item-type-post_type menu-item-object-page menu-item-has-children menu-item-53\" id=\"menu-item-53\">\n",
      "         <a href=\"https://www.retirement.org/mirabellaportland/community/\">\n",
      "          Community\n",
      "          <span class=\"dropdown-menu-toggle\" role=\"presentation\">\n",
      "          </span>\n",
      "         </a>\n",
      "         <ul class=\"sub-menu\">\n",
      "          <li class=\"menu-item menu-item-type-post_type menu-item-object-page menu-item-54\" id=\"menu-item-54\">\n",
      "           <a href=\"https://www.retirement.org/mirabellaportland/community/amenities-features/\">\n",
      "            Amenities &amp; Features\n",
      "           </a>\n",
      "          </li>\n",
      "          <li class=\"menu-item menu-item-type-post_type menu-item-object-page menu-item-55\" id=\"menu-item-55\">\n",
      "           <a href=\"https://www.retirement.org/mirabellaportland/community/dining/\">\n",
      "            Dining\n",
      "           </a>\n",
      "          </li>\n",
      "          <li class=\"menu-item menu-item-type-post_type menu-item-object-page menu-item-57\" id=\"menu-item-57\">\n",
      "           <a href=\"https://www.retirement.org/mirabellaportland/community/location/\">\n",
      "            Location\n",
      "           </a>\n",
      "          </li>\n",
      "         </ul>\n",
      "        </li>\n",
      "        <li class=\"menu-item menu-item-type-post_type menu-item-object-page menu-item-has-children menu-item-51\" id=\"menu-item-51\">\n",
      "         <a href=\"https://www.retirement.org/mirabellaportland/residences/\">\n",
      "          Residences\n",
      "          <span class=\"dropdown-menu-toggle\" role=\"presentation\">\n",
      "          </span>\n",
      "         </a>\n",
      "         <ul class=\"sub-menu\">\n",
      "          <li class=\"menu-item menu-item-type-post_type menu-item-object-page menu-item-52\" id=\"menu-item-52\">\n",
      "           <a href=\"https://www.retirement.org/mirabellaportland/residences/floor-plans/\">\n",
      "            Floor Plans\n",
      "           </a>\n",
      "          </li>\n",
      "         </ul>\n",
      "        </li>\n",
      "        <li class=\"menu-item menu-item-type-post_type menu-item-object-page current-menu-item page_item page-item-17 current_page_item menu-item-59\" id=\"menu-item-59\">\n",
      "         <a aria-current=\"page\" href=\"https://www.retirement.org/mirabellaportland/healthcare/\">\n",
      "          Healthcare\n",
      "         </a>\n",
      "        </li>\n",
      "        <li class=\"menu-item menu-item-type-post_type menu-item-object-page menu-item-has-children menu-item-62\" id=\"menu-item-62\">\n",
      "         <a href=\"https://www.retirement.org/mirabellaportland/about-us/\">\n",
      "          About Us\n",
      "          <span class=\"dropdown-menu-toggle\" role=\"presentation\">\n",
      "          </span>\n",
      "         </a>\n",
      "         <ul class=\"sub-menu\">\n",
      "          <li class=\"menu-item menu-item-type-post_type menu-item-object-page menu-item-61\" id=\"menu-item-61\">\n",
      "           <a href=\"https://www.retirement.org/mirabellaportland/about-us/careers/\">\n",
      "            Careers\n",
      "           </a>\n",
      "          </li>\n",
      "          <li class=\"menu-item menu-item-type-post_type menu-item-object-page menu-item-252\" id=\"menu-item-252\">\n",
      "           <a href=\"https://www.retirement.org/mirabellaportland/about-us/leadership/\">\n",
      "            Leadership\n",
      "           </a>\n",
      "          </li>\n",
      "         </ul>\n",
      "        </li>\n",
      "        <li class=\"menu-item menu-item-type-post_type menu-item-object-page menu-item-249\" id=\"menu-item-249\">\n",
      "         <a href=\"https://www.retirement.org/mirabellaportland/contact-us-2/\">\n",
      "          Contact Us\n",
      "         </a>\n",
      "        </li>\n",
      "       </ul>\n",
      "      </div>\n",
      "     </div>\n",
      "     <!-- .inside-navigation -->\n",
      "    </nav>\n",
      "    <!-- #site-navigation -->\n",
      "   </div>\n",
      "   <!-- .inside-header -->\n",
      "  </header>\n",
      "  <!-- #masthead -->\n",
      "  <div class=\"page-hero grid-container grid-parent\">\n",
      "   <div class=\"inside-page-hero grid-container grid-parent\">\n",
      "    <h1 class=\"opaque\">\n",
      "     Healthcare\n",
      "    </h1>\n",
      "   </div>\n",
      "  </div>\n",
      "  <div class=\"hfeed site grid-container container grid-parent\" id=\"page\">\n",
      "   <div class=\"site-content\" id=\"content\">\n",
      "    <div class=\"grid-container yoast-breadcrumb\">\n",
      "     <p id=\"breadcrumbs\">\n",
      "      <span>\n",
      "       <span>\n",
      "        <a href=\"https://www.retirement.org/mirabellaportland/\">\n",
      "         Home\n",
      "        </a>\n",
      "        »\n",
      "        <span aria-current=\"page\" class=\"breadcrumb_last\">\n",
      "         Healthcare\n",
      "        </span>\n",
      "       </span>\n",
      "      </span>\n",
      "     </p>\n",
      "    </div>\n",
      "    <div class=\"elementor elementor-17\" data-elementor-id=\"17\" data-elementor-settings=\"[]\" data-elementor-type=\"wp-post\">\n",
      "     <div class=\"elementor-inner\">\n",
      "      <div class=\"elementor-section-wrap\">\n",
      "       <section class=\"elementor-element elementor-element-0522cc6 elementor-section-boxed elementor-section-height-default elementor-section-height-default elementor-section elementor-top-section\" data-element_type=\"section\" data-id=\"0522cc6\">\n",
      "        <div class=\"elementor-container elementor-column-gap-default\">\n",
      "         <div class=\"elementor-row\">\n",
      "          <div class=\"elementor-element elementor-element-1f25330 elementor-column elementor-col-100 elementor-top-column\" data-element_type=\"column\" data-id=\"1f25330\" data-settings='{\"background_background\":\"classic\"}'>\n",
      "           <div class=\"elementor-column-wrap elementor-element-populated\">\n",
      "            <div class=\"elementor-widget-wrap\">\n",
      "             <div class=\"elementor-element elementor-element-4c9c76e elementor-widget elementor-widget-divider\" data-element_type=\"widget\" data-id=\"4c9c76e\" data-widget_type=\"divider.default\">\n",
      "              <div class=\"elementor-widget-container\">\n",
      "               <div class=\"elementor-divider\">\n",
      "                <span class=\"elementor-divider-separator\">\n",
      "                </span>\n",
      "               </div>\n",
      "              </div>\n",
      "             </div>\n",
      "             <div class=\"elementor-element elementor-element-ae3040c elementor-widget elementor-widget-text-editor\" data-element_type=\"widget\" data-id=\"ae3040c\" data-widget_type=\"text-editor.default\">\n",
      "              <div class=\"elementor-widget-container\">\n",
      "               <div class=\"elementor-text-editor elementor-clearfix\">\n",
      "                <p>\n",
      "                 As a continuing care retirement community, Mirabella  Portland offers on-site healthcare services in addition to its independent living residences. From help with the activities of daily living to specialized nursing care, our continuum of care ensures you can live with peace of mind for the future knowing your needs will be taken care of should they change over time.\n",
      "                </p>\n",
      "               </div>\n",
      "              </div>\n",
      "             </div>\n",
      "             <section class=\"elementor-element elementor-element-f61d78c elementor-section-boxed elementor-section-height-default elementor-section-height-default elementor-section elementor-inner-section\" data-element_type=\"section\" data-id=\"f61d78c\">\n",
      "              <div class=\"elementor-container elementor-column-gap-default\">\n",
      "               <div class=\"elementor-row\">\n",
      "                <div class=\"elementor-element elementor-element-8c45a8b elementor-column elementor-col-100 elementor-inner-column\" data-element_type=\"column\" data-id=\"8c45a8b\">\n",
      "                 <div class=\"elementor-column-wrap elementor-element-populated\">\n",
      "                  <div class=\"elementor-widget-wrap\">\n",
      "                   <div class=\"elementor-element elementor-element-10c2a0a elementor-widget elementor-widget-heading\" data-element_type=\"widget\" data-id=\"10c2a0a\" data-widget_type=\"heading.default\">\n",
      "                    <div class=\"elementor-widget-container\">\n",
      "                     <h2 class=\"elementor-heading-title elementor-size-default\">\n",
      "                      Assisted Living\n",
      "                     </h2>\n",
      "                    </div>\n",
      "                   </div>\n",
      "                   <div class=\"elementor-element elementor-element-2d9303a elementor-widget elementor-widget-text-editor\" data-element_type=\"widget\" data-id=\"2d9303a\" data-widget_type=\"text-editor.default\">\n",
      "                    <div class=\"elementor-widget-container\">\n",
      "                     <div class=\"elementor-text-editor elementor-clearfix\">\n",
      "                      <div class=\"row section\">\n",
      "                       <div class=\"col-sm-12 col-md-6 copy-block health-care-block\">\n",
      "                        <div class=\"row\">\n",
      "                         <div class=\"col-sm-12\">\n",
      "                          <div class=\"copy copy--blue copy-block__copy health-care-block__copy\">\n",
      "                           <p>\n",
      "                            Mirabella’s Assisted Living program offers personalized assistance, tailored supportive services, and compassionate care. Our approach provides an ideal solution for seniors who need some help with daily activities such as bathing, dressing, and medication reminders while still maintaining the highest possible level of independence.\n",
      "                           </p>\n",
      "                          </div>\n",
      "                         </div>\n",
      "                        </div>\n",
      "                       </div>\n",
      "                      </div>\n",
      "                     </div>\n",
      "                    </div>\n",
      "                   </div>\n",
      "                  </div>\n",
      "                 </div>\n",
      "                </div>\n",
      "               </div>\n",
      "              </div>\n",
      "             </section>\n",
      "             <div class=\"elementor-element elementor-element-7fdbbba elementor-widget elementor-widget-heading\" data-element_type=\"widget\" data-id=\"7fdbbba\" data-widget_type=\"heading.default\">\n",
      "              <div class=\"elementor-widget-container\">\n",
      "               <h2 class=\"elementor-heading-title elementor-size-default\">\n",
      "                Memory Support\n",
      "               </h2>\n",
      "              </div>\n",
      "             </div>\n",
      "             <div class=\"elementor-element elementor-element-f27211f elementor-widget elementor-widget-text-editor\" data-element_type=\"widget\" data-id=\"f27211f\" data-widget_type=\"text-editor.default\">\n",
      "              <div class=\"elementor-widget-container\">\n",
      "               <div class=\"elementor-text-editor elementor-clearfix\">\n",
      "                <p>\n",
      "                 At Mirabella, we know the impact Alzheimer’s and other memory-impairing diseases can have on families. That’s why we offer a specialized Memory Support Program with a combination of specially trained staff, adaptive programs, and purposeful physical space to enable residents and their families to find joy and meaning each day.\n",
      "                </p>\n",
      "               </div>\n",
      "              </div>\n",
      "             </div>\n",
      "             <section class=\"elementor-element elementor-element-73eff40 elementor-section-boxed elementor-section-height-default elementor-section-height-default elementor-section elementor-inner-section\" data-element_type=\"section\" data-id=\"73eff40\">\n",
      "              <div class=\"elementor-container elementor-column-gap-default\">\n",
      "               <div class=\"elementor-row\">\n",
      "                <div class=\"elementor-element elementor-element-9d1651b elementor-column elementor-col-50 elementor-inner-column\" data-element_type=\"column\" data-id=\"9d1651b\">\n",
      "                 <div class=\"elementor-column-wrap elementor-element-populated\">\n",
      "                  <div class=\"elementor-widget-wrap\">\n",
      "                   <div class=\"elementor-element elementor-element-082a8b5 elementor-widget elementor-widget-heading\" data-element_type=\"widget\" data-id=\"082a8b5\" data-widget_type=\"heading.default\">\n",
      "                    <div class=\"elementor-widget-container\">\n",
      "                     <h2 class=\"elementor-heading-title elementor-size-default\">\n",
      "                      Skilled Nursing and Rehabilitation\n",
      "                     </h2>\n",
      "                    </div>\n",
      "                   </div>\n",
      "                   <div class=\"elementor-element elementor-element-12ae5ca elementor-widget elementor-widget-text-editor\" data-element_type=\"widget\" data-id=\"12ae5ca\" data-widget_type=\"text-editor.default\">\n",
      "                    <div class=\"elementor-widget-container\">\n",
      "                     <div class=\"elementor-text-editor elementor-clearfix\">\n",
      "                      <p>\n",
      "                       Mirabella provides skilled nursing care in a warm, inviting atmosphere. Our on-site Skilled Nursing and Rehabilitation Center is staffed with professionals ready to assist residents in the transition from hospital to home. We offer an array of rehabilitation services, short-term nursing care for individuals recovering from illness or injury, and long-term care for individuals needing extended nursing care.\n",
      "                      </p>\n",
      "                      <p>\n",
      "                       Our community is Medicare certified and our professional staff is caring, compassionate, and available 24/7. What really sets Mirabella’s skilled nursing care apart is our philosophy of providing services and personal care tailored to individual needs. Our goal is to help each person return to their highest level of function in a comfortable and well‑appointed environment.\n",
      "                      </p>\n",
      "                     </div>\n",
      "                    </div>\n",
      "                   </div>\n",
      "                  </div>\n",
      "                 </div>\n",
      "                </div>\n",
      "                <div class=\"elementor-element elementor-element-c266824 elementor-column elementor-col-50 elementor-inner-column\" data-element_type=\"column\" data-id=\"c266824\">\n",
      "                 <div class=\"elementor-column-wrap elementor-element-populated\">\n",
      "                  <div class=\"elementor-widget-wrap\">\n",
      "                   <div class=\"elementor-element elementor-element-07e9820 elementor-cta--layout-image-above elementor-cta--skin-classic elementor-animated-content elementor-bg-transform elementor-bg-transform-zoom-in elementor-widget elementor-widget-call-to-action\" data-element_type=\"widget\" data-id=\"07e9820\" data-widget_type=\"call-to-action.default\">\n",
      "                    <div class=\"elementor-widget-container\">\n",
      "                     <div class=\"elementor-cta\">\n",
      "                      <div class=\"elementor-cta__content\">\n",
      "                       <div class=\"elementor-cta__button-wrapper elementor-cta__content-item elementor-content-item\">\n",
      "                        <a class=\"elementor-cta__button elementor-button elementor-size-sm\" href=\"http://retirement.org/mirabellaportland/healthcare/skilled-nursing/\">\n",
      "                         Need care now? &gt;&gt;\n",
      "                        </a>\n",
      "                       </div>\n",
      "                      </div>\n",
      "                     </div>\n",
      "                    </div>\n",
      "                   </div>\n",
      "                  </div>\n",
      "                 </div>\n",
      "                </div>\n",
      "               </div>\n",
      "              </div>\n",
      "             </section>\n",
      "             <section class=\"elementor-element elementor-element-a6f1930 elementor-section-boxed elementor-section-height-default elementor-section-height-default elementor-section elementor-inner-section\" data-element_type=\"section\" data-id=\"a6f1930\">\n",
      "              <div class=\"elementor-container elementor-column-gap-default\">\n",
      "               <div class=\"elementor-row\">\n",
      "                <div class=\"elementor-element elementor-element-f8325f1 elementor-column elementor-col-100 elementor-inner-column\" data-element_type=\"column\" data-id=\"f8325f1\">\n",
      "                 <div class=\"elementor-column-wrap elementor-element-populated\">\n",
      "                  <div class=\"elementor-widget-wrap\">\n",
      "                   <div class=\"elementor-element elementor-element-23cdbd5 elementor-widget elementor-widget-heading\" data-element_type=\"widget\" data-id=\"23cdbd5\" data-widget_type=\"heading.default\">\n",
      "                    <div class=\"elementor-widget-container\">\n",
      "                     <h2 class=\"elementor-heading-title elementor-size-default\">\n",
      "                      In-Home Care\n",
      "                     </h2>\n",
      "                    </div>\n",
      "                   </div>\n",
      "                   <div class=\"elementor-element elementor-element-35a71e1 elementor-widget elementor-widget-text-editor\" data-element_type=\"widget\" data-id=\"35a71e1\" data-widget_type=\"text-editor.default\">\n",
      "                    <div class=\"elementor-widget-container\">\n",
      "                     <div class=\"elementor-text-editor elementor-clearfix\">\n",
      "                      We understand the desire to remain in the comfort of your own home. That’s why we offer Mirabella residents who need extra care an array of personalized assistance services within their own Independent Living residence.\n",
      "                     </div>\n",
      "                    </div>\n",
      "                   </div>\n",
      "                  </div>\n",
      "                 </div>\n",
      "                </div>\n",
      "               </div>\n",
      "              </div>\n",
      "             </section>\n",
      "            </div>\n",
      "           </div>\n",
      "          </div>\n",
      "         </div>\n",
      "        </div>\n",
      "       </section>\n",
      "      </div>\n",
      "     </div>\n",
      "    </div>\n",
      "   </div>\n",
      "   <!-- #content -->\n",
      "  </div>\n",
      "  <!-- #page -->\n",
      "  <div class=\"site-footer\">\n",
      "   <div class=\"site footer-widgets\" id=\"footer-widgets\">\n",
      "    <div class=\"footer-widgets-container grid-container grid-parent\">\n",
      "     <div class=\"inside-footer-widgets\">\n",
      "      <div class=\"footer-widget-1 grid-parent grid-50 tablet-grid-50 mobile-grid-100\">\n",
      "       <aside class=\"widget inner-padding widget_text\" id=\"text-3\">\n",
      "        <div class=\"textwidget\">\n",
      "         <p>\n",
      "          <a href=\"http://www.retirement.org/mirabellaportland/accommodations/floor-plans/\">\n",
      "           Floor Plans\n",
      "          </a>\n",
      "          |\n",
      "          <a href=\"http://www.retirement.org/mirabellaportland/community/amenities-features/services-amenities/\">\n",
      "           Amenities\n",
      "          </a>\n",
      "          |\n",
      "          <a href=\"http://www.retirement.org/mirabellaportland/contact-us/\">\n",
      "           Contact\n",
      "          </a>\n",
      "          |\n",
      "          <a href=\"http://www.retirement.org/privacy-policy/\" rel=\"noopener noreferrer\" target=\"_blank\">\n",
      "           Privacy Policy\n",
      "          </a>\n",
      "         </p>\n",
      "        </div>\n",
      "       </aside>\n",
      "      </div>\n",
      "      <div class=\"footer-widget-2 grid-parent grid-50 tablet-grid-50 mobile-grid-100\">\n",
      "       <aside class=\"widget_text widget inner-padding widget_custom_html\" id=\"custom_html-5\">\n",
      "        <div class=\"textwidget custom-html-widget\">\n",
      "         <a href=\"https://www.hud.gov/program_offices/fair_housing_equal_opp\" rel=\"noopener noreferrer\" target=\"”new”\">\n",
      "          <img alt=\"hud\" class=\"hud\" src=\"https://www.retirement.org/mirabellaportland/wp-content/uploads/sites/2/2019/01/fair-housing_optimized.png\"/>\n",
      "         </a>\n",
      "         <a href=\"http://facebook.com/mirabellaportland\" rel=\"noopener noreferrer\" target=\"new\">\n",
      "          <i class=\"fa fa-facebook-square fa-3x\">\n",
      "          </i>\n",
      "         </a>\n",
      "        </div>\n",
      "       </aside>\n",
      "      </div>\n",
      "     </div>\n",
      "    </div>\n",
      "   </div>\n",
      "   <footer class=\"site-info\" itemscope=\"\" itemtype=\"https://schema.org/WPFooter\">\n",
      "    <div class=\"inside-site-info grid-container grid-parent\">\n",
      "     <div class=\"copyright-bar\">\n",
      "      © 2019 Mirabella Portland  • Designed by PRS Creative Services\n",
      "     </div>\n",
      "    </div>\n",
      "   </footer>\n",
      "   <!-- .site-info -->\n",
      "  </div>\n",
      "  <!-- .site-footer -->\n",
      "  <script type=\"text/javascript\">\n",
      "   var colomatduration = 'fast';\n",
      "var colomatslideEffect = 'slideFade';\n",
      "var colomatpauseInit = '';\n",
      "var colomattouchstart = '';\n",
      "  </script>\n",
      "  <script type=\"text/javascript\">\n",
      "   var ssaUrl = ('https:' == document.location.protocol ? 'https://' : 'http://') + 'pixel-a.basis.net/iap/89d3045eaa8c4294';new Image().src = ssaUrl; (function(d) { var syncUrl = ('https:' == document.location.protocol ? 'https://' : 'http://') + 'pixel-a.basis.net/dmp/asyncPixelSync'; var iframe = d.createElement('iframe'); (iframe.frameElement || iframe).style.cssText = \"width: 0; height: 0; border: 0;\"; iframe.src = \"javascript:false\"; d.body.appendChild(iframe); var doc = iframe.contentWindow.document; doc.open().write('<body onload=\"window.location.href=\\''+syncUrl+'\\'\">'); doc.close(); })(document);\n",
      "  </script>\n",
      "  <script src=\"https://www.retirement.org/mirabellaportland/wp-content/plugins/jquery-collapse-o-matic/js/collapse.js?ver=1.6.18\" type=\"text/javascript\">\n",
      "  </script>\n",
      "  <script src=\"https://www.retirement.org/mirabellaportland/wp-content/plugins/modal-for-elementor/js/bootstrap.js\" type=\"text/javascript\">\n",
      "  </script>\n",
      "  <script src=\"https://www.retirement.org/mirabellaportland/wp-content/plugins/modal-for-elementor/js/popup.js\" type=\"text/javascript\">\n",
      "  </script>\n",
      "  <!--[if lte IE 11]>\n",
      "<script type='text/javascript' src='https://www.retirement.org/mirabellaportland/wp-content/themes/generatepress/js/classList.min.js?ver=2.4.1'></script>\n",
      "<![endif]-->\n",
      "  <script src=\"https://www.retirement.org/mirabellaportland/wp-content/themes/generatepress/js/menu.min.js?ver=2.4.1\" type=\"text/javascript\">\n",
      "  </script>\n",
      "  <script src=\"https://www.retirement.org/mirabellaportland/wp-content/themes/generatepress/js/a11y.min.js?ver=2.4.1\" type=\"text/javascript\">\n",
      "  </script>\n",
      "  <script src=\"https://www.retirement.org/mirabellaportland/wp-includes/js/wp-embed.min.js?ver=5.3\" type=\"text/javascript\">\n",
      "  </script>\n",
      "  <script src=\"https://www.retirement.org/mirabellaportland/wp-content/plugins/elementor/assets/js/frontend-modules.min.js?ver=2.7.5\" type=\"text/javascript\">\n",
      "  </script>\n",
      "  <script src=\"https://www.retirement.org/mirabellaportland/wp-content/plugins/elementor-pro/assets/lib/sticky/jquery.sticky.min.js?ver=2.7.2\" type=\"text/javascript\">\n",
      "  </script>\n",
      "  <script type=\"text/javascript\">\n",
      "   var ElementorProFrontendConfig = {\"ajaxurl\":\"https:\\/\\/www.retirement.org\\/mirabellaportland\\/wp-admin\\/admin-ajax.php\",\"nonce\":\"50131addbb\",\"shareButtonsNetworks\":{\"facebook\":{\"title\":\"Facebook\",\"has_counter\":true},\"twitter\":{\"title\":\"Twitter\"},\"google\":{\"title\":\"Google+\",\"has_counter\":true},\"linkedin\":{\"title\":\"LinkedIn\",\"has_counter\":true},\"pinterest\":{\"title\":\"Pinterest\",\"has_counter\":true},\"reddit\":{\"title\":\"Reddit\",\"has_counter\":true},\"vk\":{\"title\":\"VK\",\"has_counter\":true},\"odnoklassniki\":{\"title\":\"OK\",\"has_counter\":true},\"tumblr\":{\"title\":\"Tumblr\"},\"delicious\":{\"title\":\"Delicious\"},\"digg\":{\"title\":\"Digg\"},\"skype\":{\"title\":\"Skype\"},\"stumbleupon\":{\"title\":\"StumbleUpon\",\"has_counter\":true},\"telegram\":{\"title\":\"Telegram\"},\"pocket\":{\"title\":\"Pocket\",\"has_counter\":true},\"xing\":{\"title\":\"XING\",\"has_counter\":true},\"whatsapp\":{\"title\":\"WhatsApp\"},\"email\":{\"title\":\"Email\"},\"print\":{\"title\":\"Print\"}},\"facebook_sdk\":{\"lang\":\"en_US\",\"app_id\":\"\"}};\n",
      "  </script>\n",
      "  <script src=\"https://www.retirement.org/mirabellaportland/wp-content/plugins/elementor-pro/assets/js/frontend.min.js?ver=2.7.2\" type=\"text/javascript\">\n",
      "  </script>\n",
      "  <script src=\"https://www.retirement.org/mirabellaportland/wp-includes/js/jquery/ui/position.min.js?ver=1.11.4\" type=\"text/javascript\">\n",
      "  </script>\n",
      "  <script src=\"https://www.retirement.org/mirabellaportland/wp-content/plugins/elementor/assets/lib/dialog/dialog.min.js?ver=4.7.3\" type=\"text/javascript\">\n",
      "  </script>\n",
      "  <script src=\"https://www.retirement.org/mirabellaportland/wp-content/plugins/elementor/assets/lib/waypoints/waypoints.min.js?ver=4.0.2\" type=\"text/javascript\">\n",
      "  </script>\n",
      "  <script src=\"https://www.retirement.org/mirabellaportland/wp-content/plugins/elementor/assets/lib/swiper/swiper.min.js?ver=4.4.6\" type=\"text/javascript\">\n",
      "  </script>\n",
      "  <script type=\"text/javascript\">\n",
      "   var elementorFrontendConfig = {\"environmentMode\":{\"edit\":false,\"wpPreview\":false},\"is_rtl\":false,\"breakpoints\":{\"xs\":0,\"sm\":480,\"md\":768,\"lg\":1025,\"xl\":1440,\"xxl\":1600},\"version\":\"2.7.5\",\"urls\":{\"assets\":\"https:\\/\\/www.retirement.org\\/mirabellaportland\\/wp-content\\/plugins\\/elementor\\/assets\\/\"},\"settings\":{\"page\":[],\"general\":{\"elementor_global_image_lightbox\":\"yes\",\"elementor_enable_lightbox_in_editor\":\"yes\"}},\"post\":{\"id\":17,\"title\":\"Healthcare\",\"excerpt\":\"\"}};\n",
      "  </script>\n",
      "  <script src=\"https://www.retirement.org/mirabellaportland/wp-content/plugins/elementor/assets/js/frontend.min.js?ver=2.7.5\" type=\"text/javascript\">\n",
      "  </script>\n",
      " </body>\n",
      "</html>\n",
      "<!--\r\n",
      "Performance optimized by W3 Total Cache. Learn more: https://www.w3-edge.com/products/\r\n",
      "\r\n",
      "Page Caching using disk: enhanced \r\n",
      "\r\n",
      "Served from: www.retirement.org @ 2019-12-05 18:44:52 by W3 Total Cache\r\n",
      "-->\n",
      "\n"
     ]
    }
   ],
   "source": [
    "print(soup.prettify())"
   ]
  },
  {
   "cell_type": "markdown",
   "metadata": {},
   "source": [
    "# Exercises"
   ]
  },
  {
   "cell_type": "code",
   "execution_count": 20,
   "metadata": {},
   "outputs": [],
   "source": [
    "url = 'https://codeup.com/codeups-data-science-career-accelerator-is-here/'\n",
    "\n",
    "headers = {'User-Agent': 'Codeup Bayes Data Science'} # codeup.com doesn't like our default user-agent\n",
    "response = get(url, headers=headers)"
   ]
  },
  {
   "cell_type": "code",
   "execution_count": 21,
   "metadata": {},
   "outputs": [],
   "source": [
    "urls = ['https://codeup.com/codeups-data-science-career-accelerator-is-here/',\n",
    "        'https://codeup.com/data-science-myths/',\n",
    "        'https://codeup.com/data-science-vs-data-analytics-whats-the-difference/',\n",
    "        'https://codeup.com/10-tips-to-crush-it-at-the-sa-tech-job-fair/',\n",
    "        'https://codeup.com/competitor-bootcamps-are-closing-is-the-model-in-danger/']"
   ]
  },
  {
   "cell_type": "code",
   "execution_count": 22,
   "metadata": {},
   "outputs": [
    {
     "name": "stdout",
     "output_type": "stream",
     "text": [
      "<!DOCTYPE html>\n",
      "<html lang=\"en-US\" >\n",
      "<head>\n",
      "\t\t<meta charset=\"UTF-8\" /><meta name=\"viewport\" content=\"width=device-width, initial-scale=1.0, minimum-scale=1.0, maximum-scale=1.0, user-scalable=0\" /><meta http-equiv=\"X-UA-Compatible\" content=\"IE=edge,chrome=1\" /><meta name=\"format-detection\" content=\"telephone=no\"><title>Codeup’s Data Science Career Accelerator is Here! - Codeup</title>\n",
      "<script type\n"
     ]
    }
   ],
   "source": [
    "print(response.text[:400])"
   ]
  },
  {
   "cell_type": "code",
   "execution_count": 23,
   "metadata": {},
   "outputs": [],
   "source": [
    "# create soup object\n",
    "\n",
    "#soup = BeautifulSoup(response.content, 'html.parser')\n",
    "soup = BeautifulSoup(response.text)"
   ]
  },
  {
   "cell_type": "code",
   "execution_count": 24,
   "metadata": {},
   "outputs": [
    {
     "data": {
      "text/plain": [
       "'Codeup’s Data Science Career Accelerator is Here!'"
      ]
     },
     "execution_count": 24,
     "metadata": {},
     "output_type": "execute_result"
    }
   ],
   "source": [
    "# Get title of web page\n",
    "\n",
    "title = soup.find(class_='page-title').get_text()\n",
    "title"
   ]
  },
  {
   "cell_type": "code",
   "execution_count": 25,
   "metadata": {},
   "outputs": [
    {
     "data": {
      "text/plain": [
       "'\\nThe rumors are true! The time has arrived. Codeup has officially opened applications to our new Data Science career accelerator, with only 25 seats available! This immersive program is one of a kind in San Antonio, and will help you land a job in\\xa0Glassdoor’s #1 Best Job in America.\\nData Science is a method of providing actionable intelligence from data.\\xa0The data revolution has hit San Antonio,\\xa0resulting in an explosion in Data Scientist positions\\xa0across companies like USAA, Accenture, Booz Allen Hamilton, and HEB. We’ve even seen\\xa0UTSA invest $70 M for a Cybersecurity Center and School of Data Science.\\xa0We built a program to specifically meet the growing demands of this industry.\\nOur program will be 18 weeks long, full-time, hands-on, and project-based. Our curriculum development and instruction is led by Senior Data Scientist, Maggie Giust, who has worked at HEB, Capital Group, and Rackspace, along with input from dozens of practitioners and hiring partners. Students will work with real data sets, realistic problems, and the entire data science pipeline from collection to deployment. They will receive professional development training in resume writing, interviewing, and continuing education to prepare for a smooth transition to the workforce.\\nWe focus on applied data science for immediate impact and ROI in a business, which is how we can back it all up with a 6 month tuition refund guarantee – just like our existing Web Dev program. We’re focusing on Data Science with Python, SQL, and ML, covered in\\xa014 modules: 1) Fundamentals; 2) Applied statistics; 3) SQL; 4) Python; 5) Supervised machine learning – regression; 6) Supervised machine learning – classification; 7) Unsupervised machine learning – clustering; 8) Time series analysis; 9) Anomaly detection; 10) Natural language processing; 11) Distributed machine learning; 12) Advanced topics (deep learning, NoSQL, cloud deployment, etc.); 13) Storytelling with data; and 14) Domain expertise development.\\nApplications are now open\\xa0for Codeup’s first Data Science cohort, which will start class on February 4, 2019. Hurry – there are only 25 seats available! To further our mission of cultivating inclusive growth, scholarships will be available to women, minorities, LGBTQIA+ individuals, veterans, first responders, and people relocating to San Antonio.\\nIf you want to learn about joining our program or hiring our graduates, email datascience@codeup.com!\\n'"
      ]
     },
     "execution_count": 25,
     "metadata": {},
     "output_type": "execute_result"
    }
   ],
   "source": [
    "# get content of web page\n",
    "\n",
    "body = soup.find('div', class_='mk-single-content').get_text()\n",
    "body"
   ]
  },
  {
   "cell_type": "code",
   "execution_count": 35,
   "metadata": {},
   "outputs": [],
   "source": [
    "# def make_dictionary_from_article(url):\n",
    "#     headers = {'User-Agent': 'Codeup Bayes Data Science'}\n",
    "#     response = get(url, headers=headers)\n",
    "#     soup = BeautifulSoup(response.text)\n",
    "#     title = soup.title.get_text()\n",
    "#     body = soup.find('div', class_='mk-single-content').get_text()\n",
    "#     return {\n",
    "#         'title': title,\n",
    "#         'body': body\n",
    "#     }"
   ]
  },
  {
   "cell_type": "code",
   "execution_count": 73,
   "metadata": {},
   "outputs": [],
   "source": [
    "def make_dictionary_from_article(url):\n",
    "    headers = {'User-Agent': 'Codeup Bayes Data Science'}\n",
    "    response = get(url, headers=headers)\n",
    "    soup = BeautifulSoup(response.text)\n",
    "    title = soup.title.get_text()\n",
    "    body = soup.find('div', class_='mk-single-content').get_text()\n",
    "    \n",
    "    output = {}\n",
    "    output['title'] = title\n",
    "    output['body'] = body\n",
    "    \n",
    "    return output"
   ]
  },
  {
   "cell_type": "code",
   "execution_count": 74,
   "metadata": {},
   "outputs": [
    {
     "data": {
      "text/plain": [
       "{'title': 'Codeup’s Data Science Career Accelerator is Here! - Codeup',\n",
       " 'body': '\\nThe rumors are true! The time has arrived. Codeup has officially opened applications to our new Data Science career accelerator, with only 25 seats available! This immersive program is one of a kind in San Antonio, and will help you land a job in\\xa0Glassdoor’s #1 Best Job in America.\\nData Science is a method of providing actionable intelligence from data.\\xa0The data revolution has hit San Antonio,\\xa0resulting in an explosion in Data Scientist positions\\xa0across companies like USAA, Accenture, Booz Allen Hamilton, and HEB. We’ve even seen\\xa0UTSA invest $70 M for a Cybersecurity Center and School of Data Science.\\xa0We built a program to specifically meet the growing demands of this industry.\\nOur program will be 18 weeks long, full-time, hands-on, and project-based. Our curriculum development and instruction is led by Senior Data Scientist, Maggie Giust, who has worked at HEB, Capital Group, and Rackspace, along with input from dozens of practitioners and hiring partners. Students will work with real data sets, realistic problems, and the entire data science pipeline from collection to deployment. They will receive professional development training in resume writing, interviewing, and continuing education to prepare for a smooth transition to the workforce.\\nWe focus on applied data science for immediate impact and ROI in a business, which is how we can back it all up with a 6 month tuition refund guarantee – just like our existing Web Dev program. We’re focusing on Data Science with Python, SQL, and ML, covered in\\xa014 modules: 1) Fundamentals; 2) Applied statistics; 3) SQL; 4) Python; 5) Supervised machine learning – regression; 6) Supervised machine learning – classification; 7) Unsupervised machine learning – clustering; 8) Time series analysis; 9) Anomaly detection; 10) Natural language processing; 11) Distributed machine learning; 12) Advanced topics (deep learning, NoSQL, cloud deployment, etc.); 13) Storytelling with data; and 14) Domain expertise development.\\nApplications are now open\\xa0for Codeup’s first Data Science cohort, which will start class on February 4, 2019. Hurry – there are only 25 seats available! To further our mission of cultivating inclusive growth, scholarships will be available to women, minorities, LGBTQIA+ individuals, veterans, first responders, and people relocating to San Antonio.\\nIf you want to learn about joining our program or hiring our graduates, email datascience@codeup.com!\\n'}"
      ]
     },
     "execution_count": 74,
     "metadata": {},
     "output_type": "execute_result"
    }
   ],
   "source": [
    "make_dictionary_from_article(url)"
   ]
  },
  {
   "cell_type": "code",
   "execution_count": 75,
   "metadata": {},
   "outputs": [],
   "source": [
    "def get_blog_articles():\n",
    "    urls = ['https://codeup.com/codeups-data-science-career-accelerator-is-here/',\n",
    "            'https://codeup.com/data-science-myths/',\n",
    "            'https://codeup.com/data-science-vs-data-analytics-whats-the-difference/',\n",
    "            'https://codeup.com/10-tips-to-crush-it-at-the-sa-tech-job-fair/',\n",
    "            'https://codeup.com/competitor-bootcamps-are-closing-is-the-model-in-danger/']\n",
    "    output = []\n",
    "    \n",
    "    for url in urls:\n",
    "        output.append(make_dictionary_from_article(url))\n",
    "        \n",
    "    df = pd.DataFrame(output)\n",
    "    df.to_csv('codeup_blog_posts.csv')\n",
    "    \n",
    "    return df\n",
    "        \n",
    "    \n",
    "    "
   ]
  },
  {
   "cell_type": "code",
   "execution_count": 76,
   "metadata": {},
   "outputs": [
    {
     "data": {
      "text/html": [
       "<div>\n",
       "<style scoped>\n",
       "    .dataframe tbody tr th:only-of-type {\n",
       "        vertical-align: middle;\n",
       "    }\n",
       "\n",
       "    .dataframe tbody tr th {\n",
       "        vertical-align: top;\n",
       "    }\n",
       "\n",
       "    .dataframe thead th {\n",
       "        text-align: right;\n",
       "    }\n",
       "</style>\n",
       "<table border=\"1\" class=\"dataframe\">\n",
       "  <thead>\n",
       "    <tr style=\"text-align: right;\">\n",
       "      <th></th>\n",
       "      <th>body</th>\n",
       "      <th>title</th>\n",
       "    </tr>\n",
       "  </thead>\n",
       "  <tbody>\n",
       "    <tr>\n",
       "      <th>0</th>\n",
       "      <td>\\nThe rumors are true! The time has arrived. C...</td>\n",
       "      <td>Codeup’s Data Science Career Accelerator is He...</td>\n",
       "    </tr>\n",
       "    <tr>\n",
       "      <th>1</th>\n",
       "      <td>\\nBy Dimitri Antoniou and Maggie Giust\\nData S...</td>\n",
       "      <td>Data Science Myths - Codeup</td>\n",
       "    </tr>\n",
       "    <tr>\n",
       "      <th>2</th>\n",
       "      <td>\\nBy Dimitri Antoniou\\nA week ago, Codeup laun...</td>\n",
       "      <td>Data Science VS Data Analytics: What’s The Dif...</td>\n",
       "    </tr>\n",
       "    <tr>\n",
       "      <th>3</th>\n",
       "      <td>\\n10 Tips to Crush It at the SA Tech Job Fair\\...</td>\n",
       "      <td>10 Tips to Crush It at the SA Tech Job Fair - ...</td>\n",
       "    </tr>\n",
       "    <tr>\n",
       "      <th>4</th>\n",
       "      <td>\\nCompetitor Bootcamps Are Closing. Is the Mod...</td>\n",
       "      <td>Competitor Bootcamps Are Closing. Is the Model...</td>\n",
       "    </tr>\n",
       "  </tbody>\n",
       "</table>\n",
       "</div>"
      ],
      "text/plain": [
       "                                                body  \\\n",
       "0  \\nThe rumors are true! The time has arrived. C...   \n",
       "1  \\nBy Dimitri Antoniou and Maggie Giust\\nData S...   \n",
       "2  \\nBy Dimitri Antoniou\\nA week ago, Codeup laun...   \n",
       "3  \\n10 Tips to Crush It at the SA Tech Job Fair\\...   \n",
       "4  \\nCompetitor Bootcamps Are Closing. Is the Mod...   \n",
       "\n",
       "                                               title  \n",
       "0  Codeup’s Data Science Career Accelerator is He...  \n",
       "1                        Data Science Myths - Codeup  \n",
       "2  Data Science VS Data Analytics: What’s The Dif...  \n",
       "3  10 Tips to Crush It at the SA Tech Job Fair - ...  \n",
       "4  Competitor Bootcamps Are Closing. Is the Model...  "
      ]
     },
     "execution_count": 76,
     "metadata": {},
     "output_type": "execute_result"
    }
   ],
   "source": [
    "get_blog_articles()"
   ]
  },
  {
   "cell_type": "code",
   "execution_count": 77,
   "metadata": {},
   "outputs": [],
   "source": [
    "def get_article_text():\n",
    "    # if we already have the data, read it locally\n",
    "\n",
    "    filename = 'codeup_blog_posts.csv'\n",
    "\n",
    "    if os.path.exists(filename):\n",
    "        return pd.read_csv(filename)\n",
    "    else:\n",
    "        return get_blog_articles()"
   ]
  },
  {
   "cell_type": "code",
   "execution_count": 78,
   "metadata": {},
   "outputs": [],
   "source": [
    "df = get_article_text()\n",
    "df.drop(columns='Unnamed: 0', inplace=True)"
   ]
  },
  {
   "cell_type": "code",
   "execution_count": 79,
   "metadata": {},
   "outputs": [
    {
     "data": {
      "text/plain": [
       "Index(['body', 'title'], dtype='object')"
      ]
     },
     "execution_count": 79,
     "metadata": {},
     "output_type": "execute_result"
    }
   ],
   "source": [
    "df.columns"
   ]
  },
  {
   "cell_type": "code",
   "execution_count": 80,
   "metadata": {},
   "outputs": [
    {
     "data": {
      "text/html": [
       "<div>\n",
       "<style scoped>\n",
       "    .dataframe tbody tr th:only-of-type {\n",
       "        vertical-align: middle;\n",
       "    }\n",
       "\n",
       "    .dataframe tbody tr th {\n",
       "        vertical-align: top;\n",
       "    }\n",
       "\n",
       "    .dataframe thead th {\n",
       "        text-align: right;\n",
       "    }\n",
       "</style>\n",
       "<table border=\"1\" class=\"dataframe\">\n",
       "  <thead>\n",
       "    <tr style=\"text-align: right;\">\n",
       "      <th></th>\n",
       "      <th>body</th>\n",
       "      <th>title</th>\n",
       "    </tr>\n",
       "  </thead>\n",
       "  <tbody>\n",
       "    <tr>\n",
       "      <th>0</th>\n",
       "      <td>\\nThe rumors are true! The time has arrived. C...</td>\n",
       "      <td>Codeup’s Data Science Career Accelerator is He...</td>\n",
       "    </tr>\n",
       "    <tr>\n",
       "      <th>1</th>\n",
       "      <td>\\nBy Dimitri Antoniou and Maggie Giust\\nData S...</td>\n",
       "      <td>Data Science Myths - Codeup</td>\n",
       "    </tr>\n",
       "    <tr>\n",
       "      <th>2</th>\n",
       "      <td>\\nBy Dimitri Antoniou\\nA week ago, Codeup laun...</td>\n",
       "      <td>Data Science VS Data Analytics: What’s The Dif...</td>\n",
       "    </tr>\n",
       "    <tr>\n",
       "      <th>3</th>\n",
       "      <td>\\n10 Tips to Crush It at the SA Tech Job Fair\\...</td>\n",
       "      <td>10 Tips to Crush It at the SA Tech Job Fair - ...</td>\n",
       "    </tr>\n",
       "    <tr>\n",
       "      <th>4</th>\n",
       "      <td>\\nCompetitor Bootcamps Are Closing. Is the Mod...</td>\n",
       "      <td>Competitor Bootcamps Are Closing. Is the Model...</td>\n",
       "    </tr>\n",
       "  </tbody>\n",
       "</table>\n",
       "</div>"
      ],
      "text/plain": [
       "                                                body  \\\n",
       "0  \\nThe rumors are true! The time has arrived. C...   \n",
       "1  \\nBy Dimitri Antoniou and Maggie Giust\\nData S...   \n",
       "2  \\nBy Dimitri Antoniou\\nA week ago, Codeup laun...   \n",
       "3  \\n10 Tips to Crush It at the SA Tech Job Fair\\...   \n",
       "4  \\nCompetitor Bootcamps Are Closing. Is the Mod...   \n",
       "\n",
       "                                               title  \n",
       "0  Codeup’s Data Science Career Accelerator is He...  \n",
       "1                        Data Science Myths - Codeup  \n",
       "2  Data Science VS Data Analytics: What’s The Dif...  \n",
       "3  10 Tips to Crush It at the SA Tech Job Fair - ...  \n",
       "4  Competitor Bootcamps Are Closing. Is the Model...  "
      ]
     },
     "execution_count": 80,
     "metadata": {},
     "output_type": "execute_result"
    }
   ],
   "source": [
    "df.head()"
   ]
  },
  {
   "cell_type": "code",
   "execution_count": null,
   "metadata": {},
   "outputs": [],
   "source": []
  },
  {
   "cell_type": "code",
   "execution_count": null,
   "metadata": {},
   "outputs": [],
   "source": []
  }
 ],
 "metadata": {
  "kernelspec": {
   "display_name": "Python 3",
   "language": "python",
   "name": "python3"
  },
  "language_info": {
   "codemirror_mode": {
    "name": "ipython",
    "version": 3
   },
   "file_extension": ".py",
   "mimetype": "text/x-python",
   "name": "python",
   "nbconvert_exporter": "python",
   "pygments_lexer": "ipython3",
   "version": "3.7.3"
  },
  "toc": {
   "base_numbering": 1,
   "nav_menu": {},
   "number_sections": true,
   "sideBar": true,
   "skip_h1_title": false,
   "title_cell": "Table of Contents",
   "title_sidebar": "Contents",
   "toc_cell": false,
   "toc_position": {},
   "toc_section_display": true,
   "toc_window_display": false
  }
 },
 "nbformat": 4,
 "nbformat_minor": 2
}
